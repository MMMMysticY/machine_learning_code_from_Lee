{
 "cells": [
  {
   "cell_type": "code",
   "execution_count": 4,
   "metadata": {
    "collapsed": true,
    "pycharm": {
     "name": "#%%\n"
    }
   },
   "outputs": [],
   "source": [
    "# Classify the speakers of given features (self-attention)\n",
    "# 使用transformer(本质上还是self-attention)解决时序问题\n",
    "# 数据集 https://www.robots.ox.ac.uk/~vgg/data/voxceleb/"
   ]
  },
  {
   "cell_type": "code",
   "execution_count": 5,
   "outputs": [],
   "source": [
    "import os\n",
    "import json\n",
    "import torch\n",
    "import random\n",
    "from pathlib import Path\n",
    "from torch.utils.data import Dataset\n",
    "from torch.nn.utils.rnn import pad_sequence"
   ],
   "metadata": {
    "collapsed": false,
    "pycharm": {
     "name": "#%%\n"
    }
   }
  },
  {
   "cell_type": "code",
   "execution_count": 6,
   "outputs": [],
   "source": [
    "class myDataset(Dataset):\n",
    "  def __init__(self, data_dir, segment_len=128):\n",
    "    # segment_len = 128 表示时间序列上，取长度为128的时间\n",
    "    # 同时一个时间片上的向量表示维度是40维\n",
    "    self.data_dir = data_dir\n",
    "    self.segment_len = segment_len\n",
    "\n",
    "    # Load the mapping from speaker neme to their corresponding id.\n",
    "    mapping_path = Path(data_dir) / \"mapping.json\"\n",
    "    mapping = json.load(mapping_path.open())\n",
    "    self.speaker2id = mapping[\"speaker2id\"]\n",
    "\n",
    "    # Load metadata of training data.\n",
    "    metadata_path = Path(data_dir) / \"metadata.json\"\n",
    "    metadata = json.load(open(metadata_path))[\"speakers\"]\n",
    "\n",
    "    # Get the total number of speaker.\n",
    "    self.speaker_num = len(metadata.keys())\n",
    "    self.data = []\n",
    "    for speaker in metadata.keys():\n",
    "      for utterances in metadata[speaker]:\n",
    "        self.data.append([utterances[\"feature_path\"], self.speaker2id[speaker]])\n",
    "              # data中存的是[文件名,speaker编号]\n",
    "\n",
    "  def __len__(self):\n",
    "    return len(self.data)\n",
    "\n",
    "  def __getitem__(self, index):\n",
    "    feat_path, speaker = self.data[index]\n",
    "    # Load preprocessed mel-spectrogram.\n",
    "    mel = torch.load(os.path.join(self.data_dir, feat_path))\n",
    "\n",
    "    # Segmemt mel-spectrogram into \"segment_len\" frames.\n",
    "    if len(mel) > self.segment_len:\n",
    "      # Randomly get the starting point of the segment.\n",
    "      start = random.randint(0, len(mel) - self.segment_len)\n",
    "      # Get a segment with \"segment_len\" frames.\n",
    "      mel = torch.FloatTensor(mel[start:start+self.segment_len])\n",
    "      # 如果长度大于阈值 随机选取长度为阈值的片段\n",
    "    else:\n",
    "      mel = torch.FloatTensor(mel)\n",
    "      # 长度小于等于阈值 全部取出\n",
    "    # Turn the speaker id into long for computing loss later.\n",
    "    speaker = torch.FloatTensor([speaker]).long()\n",
    "    return mel, speaker\n",
    "\n",
    "  def get_speaker_number(self):\n",
    "    return self.speaker_num"
   ],
   "metadata": {
    "collapsed": false,
    "pycharm": {
     "name": "#%%\n"
    }
   }
  },
  {
   "cell_type": "code",
   "execution_count": 7,
   "outputs": [],
   "source": [
    "import torch\n",
    "from torch.utils.data import DataLoader, random_split\n",
    "from torch.nn.utils.rnn import pad_sequence\n",
    "\n",
    "\n",
    "def collate_batch(batch):\n",
    "  # Process features within a batch.\n",
    "  \"\"\"Collate a batch of data.\"\"\"\n",
    "  mel, speaker = zip(*batch)\n",
    "  # Because we train the model batch by batch, we need to pad the features in the same batch to make their lengths the same.\n",
    "  mel = pad_sequence(mel, batch_first=True, padding_value=-20)    # pad log 10^(-20) which is very small value.\n",
    "  # pad_sequence将mel中的n个不同长度的sequence在新的一维拼接起来，变成batch_size=n batch内每个元素长度为max_len\n",
    "  # padding_value设定padding的时候用什么值填充\n",
    "  # mel: (batch size, length, 40)\n",
    "  return mel, torch.FloatTensor(speaker).long()\n",
    "\n",
    "\n",
    "def get_dataloader(data_dir, batch_size, n_workers):\n",
    "  \"\"\"Generate dataloader\"\"\"\n",
    "  dataset = myDataset(data_dir)\n",
    "  speaker_num = dataset.get_speaker_number()\n",
    "  # Split dataset into training dataset and validation dataset\n",
    "  trainlen = int(0.9 * len(dataset))\n",
    "  lengths = [trainlen, len(dataset) - trainlen]\n",
    "  trainset, validset = random_split(dataset, lengths)\n",
    "\n",
    "  train_loader = DataLoader(\n",
    "    trainset,\n",
    "    batch_size=batch_size,\n",
    "    shuffle=True,\n",
    "    drop_last=True,\n",
    "    num_workers=n_workers,\n",
    "    pin_memory=True,\n",
    "    collate_fn=collate_batch,\n",
    "  )\n",
    "  valid_loader = DataLoader(\n",
    "    validset,\n",
    "    batch_size=batch_size,\n",
    "    num_workers=n_workers,\n",
    "    drop_last=True,\n",
    "    pin_memory=True,\n",
    "    collate_fn=collate_batch,\n",
    "  )\n",
    "\n",
    "  return train_loader, valid_loader, speaker_num"
   ],
   "metadata": {
    "collapsed": false,
    "pycharm": {
     "name": "#%%\n"
    }
   }
  },
  {
   "cell_type": "code",
   "execution_count": 8,
   "outputs": [],
   "source": [
    "import torch\n",
    "import torch.nn as nn\n",
    "import torch.nn.functional as F\n",
    "\n",
    "\n",
    "class Classifier(nn.Module):\n",
    "  def __init__(self, d_model=80, n_spks=600, dropout=0.1):\n",
    "    super().__init__()\n",
    "    # Project the dimension of features from that of input into d_model.\n",
    "    self.prenet = nn.Linear(40, d_model)\n",
    "    # TODO:\n",
    "    #   Change Transformer to Conformer.\n",
    "    #   https://arxiv.org/abs/2005.08100\n",
    "    self.encoder_layer = nn.TransformerEncoderLayer(\n",
    "      d_model=d_model, dim_feedforward=256, nhead=2\n",
    "    )\n",
    "    # nhead并不一定越大越好\n",
    "    # self.encoder = nn.TransformerEncoder(self.encoder_layer, num_layers=2)\n",
    "\n",
    "    # Project the the dimension of features from d_model into speaker nums.\n",
    "    self.pred_layer = nn.Sequential(\n",
    "      # nn.Linear(d_model, d_model),\n",
    "      # nn.ReLU(),\n",
    "      nn.Linear(d_model, n_spks),\n",
    "    )\n",
    "      # 全连接层并不是越多越好\n",
    "\n",
    "  def forward(self, mels):\n",
    "    \"\"\"\n",
    "    args:\n",
    "      mels: (batch size, length, 40)\n",
    "    return:\n",
    "      out: (batch size, n_spks)\n",
    "    \"\"\"\n",
    "    # out: (batch size, length, d_model)\n",
    "    out = self.prenet(mels)\n",
    "    # out: (length, batch size, d_model)\n",
    "    out = out.permute(1, 0, 2)\n",
    "    # The encoder layer expect features in the shape of (length, batch size, d_model).\n",
    "    # the output of encoder is (length, batch_size, d_model)\n",
    "    out = self.encoder_layer(out)\n",
    "    # out: (batch size, length, d_model)\n",
    "    out = out.transpose(0, 1)\n",
    "    # mean pooling out:(batch_size, d_model) mean将length维做平均去掉\n",
    "    stats = out.mean(dim=1)\n",
    "\n",
    "    # out: (batch, n_spks)\n",
    "    out = self.pred_layer(stats)\n",
    "    return out"
   ],
   "metadata": {
    "collapsed": false,
    "pycharm": {
     "name": "#%%\n"
    }
   }
  },
  {
   "cell_type": "code",
   "execution_count": 9,
   "outputs": [],
   "source": [
    "# Learning rate schedule\n",
    "\n",
    "# For transformer architecture, the design of learning rate schedule is different from that of CNN.\n",
    "# Previous works show that the warmup of learning rate is useful for training models with transformer architectures.\n",
    "# The warmup schedule\n",
    "  # Set learning rate to 0 in the beginning.\n",
    "  # The learning rate increases linearly from 0 to initial learning rate during warmup period.\n",
    "\n",
    "# 使用warmup 进行learning rate的调整"
   ],
   "metadata": {
    "collapsed": false,
    "pycharm": {
     "name": "#%%\n"
    }
   }
  },
  {
   "cell_type": "code",
   "execution_count": 10,
   "outputs": [],
   "source": [
    "import math\n",
    "\n",
    "import torch\n",
    "from torch.optim import Optimizer\n",
    "from torch.optim.lr_scheduler import LambdaLR\n",
    "\n",
    "\n",
    "def get_cosine_schedule_with_warmup(\n",
    "  optimizer: Optimizer,\n",
    "  num_warmup_steps: int,    # warmup的步数\n",
    "  num_training_steps: int,  # 训练的总步数\n",
    "  num_cycles: float = 0.5,  # cos函数的波数 默认0.5\n",
    "  last_epoch: int = -1,     # 恢复训练时最后一个epoch的索引\n",
    "):\n",
    "  \"\"\"\n",
    "  Create a schedule with a learning rate that decreases following the values of the cosine function between the\n",
    "  initial lr set in the optimizer to 0, after a warmup period during which it increases linearly between 0 and the\n",
    "  initial lr set in the optimizer.\n",
    "\n",
    "  Args:\n",
    "    optimizer (:class:`~torch.optim.Optimizer`):\n",
    "      The optimizer for which to schedule the learning rate.\n",
    "    num_warmup_steps (:obj:`int`):\n",
    "      The number of steps for the warmup phase.\n",
    "    num_training_steps (:obj:`int`):\n",
    "      The total number of training steps.\n",
    "    num_cycles (:obj:`float`, `optional`, defaults to 0.5):\n",
    "      The number of waves in the cosine schedule (the defaults is to just decrease from the max value to 0\n",
    "      following a half-cosine).\n",
    "    last_epoch (:obj:`int`, `optional`, defaults to -1):\n",
    "      The index of the last epoch when resuming training.\n",
    "\n",
    "  Return:\n",
    "    :obj:`torch.optim.lr_scheduler.LambdaLR` with the appropriate schedule.\n",
    "  \"\"\"\n",
    "\n",
    "  def lr_lambda(current_step):\n",
    "    # Warmup\n",
    "    if current_step < num_warmup_steps:\n",
    "      return float(current_step) / float(max(1, num_warmup_steps))\n",
    "      # 随着current_step增加 lr不断增加\n",
    "    # decadence\n",
    "    progress = float(current_step - num_warmup_steps) / float(\n",
    "      max(1, num_training_steps - num_warmup_steps)\n",
    "    )\n",
    "    # 随着current_step增加 progress增加 范围取值为[0,1]\n",
    "    return max(\n",
    "      0.0, 0.5 * (1.0 + math.cos(math.pi * float(num_cycles) * 2.0 * progress))\n",
    "           # 随着progress增加，cos内部值增加 整体减少 所以lr是衰减阶段\n",
    "    )\n",
    "\n",
    "  return LambdaLR(optimizer, lr_lambda, last_epoch)"
   ],
   "metadata": {
    "collapsed": false,
    "pycharm": {
     "name": "#%%\n"
    }
   }
  },
  {
   "cell_type": "code",
   "execution_count": 11,
   "outputs": [],
   "source": [
    "def model_fn(batch, model, criterion, device):\n",
    "  \"\"\"Forward a batch through the model.\"\"\"\n",
    "\n",
    "  mels, labels = batch\n",
    "  mels = mels.to(device)\n",
    "  labels = labels.to(device)\n",
    "\n",
    "  outs = model(mels)\n",
    "\n",
    "  loss = criterion(outs, labels)\n",
    "\n",
    "  # Get the speaker id with highest probability.\n",
    "  preds = outs.argmax(1)\n",
    "  # Compute accuracy.\n",
    "  accuracy = torch.mean((preds == labels).float())\n",
    "\n",
    "  return loss, accuracy"
   ],
   "metadata": {
    "collapsed": false,
    "pycharm": {
     "name": "#%%\n"
    }
   }
  },
  {
   "cell_type": "code",
   "execution_count": 12,
   "outputs": [],
   "source": [
    "from tqdm import tqdm\n",
    "import torch\n",
    "\n",
    "\n",
    "def valid(dataloader, model, criterion, device):\n",
    "  \"\"\"Validate on validation set.\"\"\"\n",
    "\n",
    "  model.eval()\n",
    "  running_loss = 0.0\n",
    "  running_accuracy = 0.0\n",
    "  pbar = tqdm(total=len(dataloader.dataset), ncols=0, desc=\"Valid\", unit=\" uttr\")\n",
    "\n",
    "  for i, batch in enumerate(dataloader):\n",
    "    with torch.no_grad():\n",
    "      loss, accuracy = model_fn(batch, model, criterion, device)\n",
    "      running_loss += loss.item()\n",
    "      running_accuracy += accuracy.item()\n",
    "\n",
    "    pbar.update(dataloader.batch_size)\n",
    "    pbar.set_postfix(\n",
    "      loss=f\"{running_loss / (i+1):.2f}\",\n",
    "      accuracy=f\"{running_accuracy / (i+1):.2f}\",\n",
    "    )\n",
    "\n",
    "  pbar.close()\n",
    "  model.train()\n",
    "\n",
    "  return running_accuracy / len(dataloader)"
   ],
   "metadata": {
    "collapsed": false,
    "pycharm": {
     "name": "#%%\n"
    }
   }
  },
  {
   "cell_type": "code",
   "execution_count": 15,
   "outputs": [
    {
     "name": "stderr",
     "output_type": "stream",
     "text": [
      "Train:   5% 105/2000 [03:31<1:03:38,  2.01s/ step, accuracy=0.00, loss=6.33, step=105]"
     ]
    },
    {
     "name": "stdout",
     "output_type": "stream",
     "text": [
      "[Info]: Use cuda:3 now!\n"
     ]
    },
    {
     "name": "stderr",
     "output_type": "stream",
     "text": [
      "\n"
     ]
    },
    {
     "name": "stdout",
     "output_type": "stream",
     "text": [
      "[Info]: Finish loading data!\n",
      "[Info]: Finish creating model!\n"
     ]
    },
    {
     "name": "stderr",
     "output_type": "stream",
     "text": [
      "Train: 100% 2000/2000 [04:16<00:00,  7.79 step/s, accuracy=0.35, loss=3.10, step=2000] \n",
      "Valid: 100% 6912/6944 [00:27<00:00, 254.98 uttr/s, accuracy=0.34, loss=3.05]\n",
      "Train: 100% 2000/2000 [00:22<00:00, 87.00 step/s, accuracy=0.50, loss=2.15, step=4000] \n",
      "Valid: 100% 6912/6944 [00:00<00:00, 10737.12 uttr/s, accuracy=0.46, loss=2.43]\n",
      "Train: 100% 2000/2000 [00:22<00:00, 89.24 step/s, accuracy=0.59, loss=1.94, step=6000] \n",
      "Valid: 100% 6912/6944 [00:00<00:00, 8089.11 uttr/s, accuracy=0.50, loss=2.16]\n",
      "Train: 100% 2000/2000 [00:21<00:00, 92.29 step/s, accuracy=0.55, loss=1.85, step=8000] \n",
      "Valid: 100% 6912/6944 [00:01<00:00, 6431.56 uttr/s, accuracy=0.55, loss=1.93]\n",
      "Train: 100% 2000/2000 [00:22<00:00, 89.91 step/s, accuracy=0.68, loss=1.35, step=1e+4] \n",
      "Valid: 100% 6912/6944 [00:00<00:00, 11291.96 uttr/s, accuracy=0.58, loss=1.83]\n",
      "                                      \r\n",
      "Train:   0% 0/2000 [00:00<?, ? step/s]\n",
      "Train:   1% 19/2000 [00:00<00:34, 57.54 step/s, accuracy=0.67, loss=1.44, step=1e+4]"
     ]
    },
    {
     "name": "stdout",
     "output_type": "stream",
     "text": [
      "Step 10000, best model saved. (accuracy=0.5755)\n"
     ]
    },
    {
     "name": "stderr",
     "output_type": "stream",
     "text": [
      "Train: 100% 2000/2000 [00:22<00:00, 90.03 step/s, accuracy=0.65, loss=1.48, step=12000] \n",
      "Valid: 100% 6912/6944 [00:00<00:00, 10346.06 uttr/s, accuracy=0.60, loss=1.72]\n",
      "Train: 100% 2000/2000 [00:22<00:00, 89.00 step/s, accuracy=0.73, loss=1.33, step=14000] \n",
      "Valid: 100% 6912/6944 [00:00<00:00, 10934.37 uttr/s, accuracy=0.62, loss=1.67]\n",
      "Train: 100% 2000/2000 [00:22<00:00, 90.81 step/s, accuracy=0.67, loss=1.42, step=16000] \n",
      "Valid: 100% 6912/6944 [00:00<00:00, 10926.24 uttr/s, accuracy=0.63, loss=1.59]\n",
      "Train: 100% 2000/2000 [00:21<00:00, 91.48 step/s, accuracy=0.66, loss=1.40, step=18000] \n",
      "Valid: 100% 6912/6944 [00:00<00:00, 10646.68 uttr/s, accuracy=0.65, loss=1.51]\n",
      "Train: 100% 2000/2000 [00:22<00:00, 90.45 step/s, accuracy=0.70, loss=1.45, step=2e+4]  \n",
      "Valid: 100% 6912/6944 [00:00<00:00, 11407.82 uttr/s, accuracy=0.65, loss=1.51]\n",
      "                                      \r\n",
      "Train:   0% 0/2000 [00:00<?, ? step/s]\n",
      "Train:   0% 8/2000 [00:00<00:18, 108.01 step/s, accuracy=0.70, loss=1.18, step=2e+4]"
     ]
    },
    {
     "name": "stdout",
     "output_type": "stream",
     "text": [
      "Step 20000, best model saved. (accuracy=0.6505)\n"
     ]
    },
    {
     "name": "stderr",
     "output_type": "stream",
     "text": [
      "Train: 100% 2000/2000 [00:22<00:00, 89.07 step/s, accuracy=0.75, loss=1.06, step=22000] \n",
      "Valid: 100% 6912/6944 [00:00<00:00, 9366.94 uttr/s, accuracy=0.66, loss=1.48]\n",
      "Train: 100% 2000/2000 [00:21<00:00, 91.58 step/s, accuracy=0.74, loss=0.96, step=24000] \n",
      "Valid: 100% 6912/6944 [00:00<00:00, 10932.89 uttr/s, accuracy=0.68, loss=1.38]\n",
      "Train: 100% 2000/2000 [00:27<00:00, 73.83 step/s, accuracy=0.69, loss=1.32, step=26000]\n",
      "Valid: 100% 6912/6944 [00:00<00:00, 11394.18 uttr/s, accuracy=0.68, loss=1.42]\n",
      "Train: 100% 2000/2000 [00:30<00:00, 66.09 step/s, accuracy=0.86, loss=0.66, step=28000] \n",
      "Valid: 100% 6912/6944 [00:00<00:00, 8164.22 uttr/s, accuracy=0.69, loss=1.36]\n",
      "Train: 100% 2000/2000 [00:30<00:00, 66.64 step/s, accuracy=0.82, loss=0.84, step=3e+4] \n",
      "Valid: 100% 6912/6944 [00:00<00:00, 8062.00 uttr/s, accuracy=0.70, loss=1.31]\n",
      "                                      \r\n",
      "Train:   0% 0/2000 [00:00<?, ? step/s]\n",
      "Train:   1% 17/2000 [00:00<00:25, 78.18 step/s, accuracy=0.75, loss=1.00, step=3e+4]"
     ]
    },
    {
     "name": "stdout",
     "output_type": "stream",
     "text": [
      "Step 30000, best model saved. (accuracy=0.6955)\n"
     ]
    },
    {
     "name": "stderr",
     "output_type": "stream",
     "text": [
      "Train: 100% 2000/2000 [00:29<00:00, 67.46 step/s, accuracy=0.74, loss=1.12, step=32000] \n",
      "Valid: 100% 6912/6944 [00:00<00:00, 7178.86 uttr/s, accuracy=0.71, loss=1.26]\n",
      "Train: 100% 2000/2000 [00:28<00:00, 70.88 step/s, accuracy=0.73, loss=1.32, step=34000]\n",
      "Valid: 100% 6912/6944 [00:01<00:00, 6142.68 uttr/s, accuracy=0.70, loss=1.27]\n",
      "Train: 100% 2000/2000 [00:29<00:00, 68.87 step/s, accuracy=0.75, loss=0.80, step=36000]\n",
      "Valid: 100% 6912/6944 [00:00<00:00, 8280.65 uttr/s, accuracy=0.71, loss=1.26]\n",
      "Train: 100% 2000/2000 [00:28<00:00, 69.84 step/s, accuracy=0.77, loss=0.88, step=38000] \n",
      "Valid: 100% 6912/6944 [00:00<00:00, 7849.54 uttr/s, accuracy=0.71, loss=1.26]\n",
      "Train: 100% 2000/2000 [00:30<00:00, 66.35 step/s, accuracy=0.80, loss=0.78, step=4e+4] \n",
      "Valid: 100% 6912/6944 [00:00<00:00, 7983.86 uttr/s, accuracy=0.73, loss=1.20]\n",
      "                                      \r\n",
      "Train:   0% 0/2000 [00:00<?, ? step/s]\n",
      "Train:   1% 16/2000 [00:00<00:19, 99.80 step/s, accuracy=0.78, loss=0.85, step=4e+4]"
     ]
    },
    {
     "name": "stdout",
     "output_type": "stream",
     "text": [
      "Step 40000, best model saved. (accuracy=0.7279)\n"
     ]
    },
    {
     "name": "stderr",
     "output_type": "stream",
     "text": [
      "Train: 100% 2000/2000 [00:29<00:00, 67.41 step/s, accuracy=0.77, loss=0.85, step=42000]\n",
      "Valid: 100% 6912/6944 [00:00<00:00, 7738.50 uttr/s, accuracy=0.73, loss=1.16]\n",
      "Train: 100% 2000/2000 [00:40<00:00, 48.94 step/s, accuracy=0.77, loss=0.85, step=44000]\n",
      "Valid: 100% 6912/6944 [00:02<00:00, 2479.89 uttr/s, accuracy=0.72, loss=1.17]\n",
      "Train: 100% 2000/2000 [00:57<00:00, 34.87 step/s, accuracy=0.85, loss=0.68, step=46000]\n",
      "Valid: 100% 6912/6944 [00:01<00:00, 3635.70 uttr/s, accuracy=0.74, loss=1.15]\n",
      "Train: 100% 2000/2000 [00:58<00:00, 34.01 step/s, accuracy=0.89, loss=0.43, step=48000]\n",
      "Valid: 100% 6912/6944 [00:02<00:00, 3422.26 uttr/s, accuracy=0.74, loss=1.14]\n",
      "Train: 100% 2000/2000 [00:59<00:00, 33.74 step/s, accuracy=0.80, loss=0.78, step=5e+4] \n",
      "Valid: 100% 6912/6944 [00:01<00:00, 3505.84 uttr/s, accuracy=0.74, loss=1.13]\n",
      "                                      \r\n",
      "Train:   0% 0/2000 [00:00<?, ? step/s]\n",
      "Train:   1% 16/2000 [00:00<00:20, 94.69 step/s, accuracy=0.82, loss=0.81, step=5e+4]"
     ]
    },
    {
     "name": "stdout",
     "output_type": "stream",
     "text": [
      "Step 50000, best model saved. (accuracy=0.7419)\n"
     ]
    },
    {
     "name": "stderr",
     "output_type": "stream",
     "text": [
      "Train: 100% 2000/2000 [00:57<00:00, 34.68 step/s, accuracy=0.82, loss=0.67, step=52000]\n",
      "Valid: 100% 6912/6944 [00:02<00:00, 3362.27 uttr/s, accuracy=0.74, loss=1.09]\n",
      "Train: 100% 2000/2000 [00:56<00:00, 35.29 step/s, accuracy=0.82, loss=0.81, step=54000]\n",
      "Valid: 100% 6912/6944 [00:02<00:00, 2901.50 uttr/s, accuracy=0.75, loss=1.13]\n",
      "Train: 100% 2000/2000 [00:59<00:00, 33.48 step/s, accuracy=0.84, loss=0.60, step=56000]\n",
      "Valid: 100% 6912/6944 [00:01<00:00, 3522.15 uttr/s, accuracy=0.75, loss=1.10]\n",
      "Train: 100% 2000/2000 [00:58<00:00, 33.90 step/s, accuracy=0.79, loss=0.76, step=58000]\n",
      "Valid: 100% 6912/6944 [00:02<00:00, 2489.77 uttr/s, accuracy=0.75, loss=1.09]\n",
      "Train: 100% 2000/2000 [00:58<00:00, 34.10 step/s, accuracy=0.78, loss=0.86, step=6e+4] \n",
      "Valid: 100% 6912/6944 [00:02<00:00, 3071.32 uttr/s, accuracy=0.74, loss=1.10]\n",
      "                                      \r\n",
      "Train:   0% 0/2000 [00:00<?, ? step/s]\n",
      "Train:   1% 16/2000 [00:00<00:22, 88.81 step/s, accuracy=0.84, loss=0.63, step=6e+4]"
     ]
    },
    {
     "name": "stdout",
     "output_type": "stream",
     "text": [
      "Step 60000, best model saved. (accuracy=0.7533)\n"
     ]
    },
    {
     "name": "stderr",
     "output_type": "stream",
     "text": [
      "Train: 100% 2000/2000 [01:10<00:00, 28.34 step/s, accuracy=0.86, loss=0.57, step=62000]\n",
      "Valid: 100% 6912/6944 [00:02<00:00, 3049.28 uttr/s, accuracy=0.76, loss=1.06]\n",
      "Train: 100% 2000/2000 [01:07<00:00, 29.67 step/s, accuracy=0.83, loss=0.64, step=64000]\n",
      "Valid: 100% 6912/6944 [00:02<00:00, 2979.80 uttr/s, accuracy=0.76, loss=1.08]\n",
      "Train: 100% 2000/2000 [01:05<00:00, 30.69 step/s, accuracy=0.77, loss=0.88, step=66000]\n",
      "Valid: 100% 6912/6944 [00:02<00:00, 3249.49 uttr/s, accuracy=0.75, loss=1.06]\n",
      "Train: 100% 2000/2000 [00:58<00:00, 34.34 step/s, accuracy=0.85, loss=0.61, step=68000]\n",
      "Valid: 100% 6912/6944 [00:02<00:00, 3242.91 uttr/s, accuracy=0.76, loss=1.05]\n",
      "Train: 100% 2000/2000 [01:00<00:00, 32.98 step/s, accuracy=0.78, loss=0.69, step=7e+4] \n",
      "Valid: 100% 6912/6944 [00:01<00:00, 3513.05 uttr/s, accuracy=0.75, loss=1.10]\n",
      "                                      \r\n",
      "Train:   0% 0/2000 [00:00<?, ? step/s]\n",
      "Train:   0% 0/2000 [00:00<?, ? step/s]\u001B[A"
     ]
    },
    {
     "name": "stdout",
     "output_type": "stream",
     "text": [
      "Step 70000, best model saved. (accuracy=0.7593)\n"
     ]
    },
    {
     "name": "stderr",
     "output_type": "stream",
     "text": [
      "\n"
     ]
    }
   ],
   "source": [
    "\n",
    "from torch.optim import AdamW\n",
    "\n",
    "def parse_args():\n",
    "  \"\"\"arguments\"\"\"\n",
    "  config = {\n",
    "    \"data_dir\": \"../../Dataset_for_chapter4\",\n",
    "    \"save_path\": \"model.ckpt\",\n",
    "    \"batch_size\": 128,\n",
    "    \"n_workers\": 8,\n",
    "    \"valid_steps\": 2000,\n",
    "    \"warmup_steps\": 1000,\n",
    "    \"save_steps\": 10000,\n",
    "    \"total_steps\": 70000,\n",
    "  }\n",
    "\n",
    "  return config\n",
    "\n",
    "\n",
    "def main(\n",
    "  data_dir,\n",
    "  save_path,\n",
    "  batch_size,\n",
    "  n_workers,\n",
    "  valid_steps,\n",
    "  warmup_steps,\n",
    "  total_steps,\n",
    "  save_steps,\n",
    "):\n",
    "  \"\"\"Main function.\"\"\"\n",
    "  device = torch.device(\"cuda:3\" if torch.cuda.is_available() else \"cpu\")\n",
    "  print(f\"[Info]: Use {device} now!\")\n",
    "\n",
    "  train_loader, valid_loader, speaker_num = get_dataloader(data_dir, batch_size, n_workers)\n",
    "  train_iterator = iter(train_loader)\n",
    "  print(f\"[Info]: Finish loading data!\",flush = True)\n",
    "\n",
    "  model = Classifier(n_spks=speaker_num).to(device)\n",
    "  criterion = nn.CrossEntropyLoss()\n",
    "  optimizer = AdamW(model.parameters(), lr=1e-3)\n",
    "  scheduler = get_cosine_schedule_with_warmup(optimizer, warmup_steps, total_steps)\n",
    "  print(f\"[Info]: Finish creating model!\",flush = True)\n",
    "\n",
    "  best_accuracy = -1.0\n",
    "  best_state_dict = None\n",
    "\n",
    "  pbar = tqdm(total=valid_steps, ncols=0, desc=\"Train\", unit=\" step\")\n",
    "\n",
    "  for step in range(total_steps):\n",
    "    # Get data\n",
    "    try:\n",
    "      batch = next(train_iterator)\n",
    "    except StopIteration:\n",
    "      train_iterator = iter(train_loader)\n",
    "      batch = next(train_iterator)\n",
    "\n",
    "    loss, accuracy = model_fn(batch, model, criterion, device)\n",
    "    batch_loss = loss.item()\n",
    "    batch_accuracy = accuracy.item()\n",
    "\n",
    "    # Updata model\n",
    "    loss.backward()\n",
    "    optimizer.step()\n",
    "    scheduler.step()\n",
    "    optimizer.zero_grad()\n",
    "\n",
    "    # Log\n",
    "    pbar.update()\n",
    "    pbar.set_postfix(\n",
    "      loss=f\"{batch_loss:.2f}\",\n",
    "      accuracy=f\"{batch_accuracy:.2f}\",\n",
    "      step=step + 1,\n",
    "    )\n",
    "\n",
    "    # Do validation\n",
    "    if (step + 1) % valid_steps == 0:\n",
    "      pbar.close()\n",
    "\n",
    "      valid_accuracy = valid(valid_loader, model, criterion, device)\n",
    "\n",
    "      # keep the best model\n",
    "      if valid_accuracy > best_accuracy:\n",
    "        best_accuracy = valid_accuracy\n",
    "        best_state_dict = model.state_dict()\n",
    "\n",
    "      pbar = tqdm(total=valid_steps, ncols=0, desc=\"Train\", unit=\" step\")\n",
    "\n",
    "    # Save the best model so far.\n",
    "    if (step + 1) % save_steps == 0 and best_state_dict is not None:\n",
    "      torch.save(best_state_dict, save_path)\n",
    "      pbar.write(f\"Step {step + 1}, best model saved. (accuracy={best_accuracy:.4f})\")\n",
    "\n",
    "  pbar.close()\n",
    "\n",
    "\n",
    "if __name__ == \"__main__\":\n",
    "  main(**parse_args())"
   ],
   "metadata": {
    "collapsed": false,
    "pycharm": {
     "name": "#%%\n"
    }
   }
  },
  {
   "cell_type": "code",
   "execution_count": 16,
   "outputs": [],
   "source": [
    "\n",
    "import os\n",
    "import json\n",
    "import torch\n",
    "from pathlib import Path\n",
    "from torch.utils.data import Dataset\n",
    "\n",
    "\n",
    "class InferenceDataset(Dataset):\n",
    "  def __init__(self, data_dir):\n",
    "    testdata_path = Path(data_dir) / \"testdata.json\"\n",
    "    metadata = json.load(testdata_path.open())\n",
    "    self.data_dir = data_dir\n",
    "    self.data = metadata[\"utterances\"]\n",
    "\n",
    "  def __len__(self):\n",
    "    return len(self.data)\n",
    "\n",
    "  def __getitem__(self, index):\n",
    "    utterance = self.data[index]\n",
    "    feat_path = utterance[\"feature_path\"]\n",
    "    mel = torch.load(os.path.join(self.data_dir, feat_path))\n",
    "\n",
    "    return feat_path, mel\n",
    "\n",
    "\n",
    "def inference_collate_batch(batch):\n",
    "  \"\"\"Collate a batch of data.\"\"\"\n",
    "  feat_paths, mels = zip(*batch)\n",
    "\n",
    "  return feat_paths, torch.stack(mels)"
   ],
   "metadata": {
    "collapsed": false,
    "pycharm": {
     "name": "#%%\n"
    }
   }
  },
  {
   "cell_type": "code",
   "execution_count": 17,
   "outputs": [
    {
     "name": "stdout",
     "output_type": "stream",
     "text": [
      "[Info]: Use cuda:3 now!\n",
      "[Info]: Finish loading data!\n",
      "[Info]: Finish creating model!\n"
     ]
    },
    {
     "data": {
      "text/plain": "HBox(children=(HTML(value=''), FloatProgress(value=0.0, max=6000.0), HTML(value='')))",
      "application/vnd.jupyter.widget-view+json": {
       "version_major": 2,
       "version_minor": 0,
       "model_id": "b442623e4d2d417785c00d76b2d2fe54"
      }
     },
     "metadata": {},
     "output_type": "display_data"
    },
    {
     "name": "stdout",
     "output_type": "stream",
     "text": [
      "\n"
     ]
    }
   ],
   "source": [
    "import json\n",
    "import csv\n",
    "from pathlib import Path\n",
    "from tqdm.notebook import tqdm\n",
    "\n",
    "import torch\n",
    "from torch.utils.data import DataLoader\n",
    "\n",
    "def parse_args():\n",
    "  \"\"\"arguments\"\"\"\n",
    "  config = {\n",
    "    \"data_dir\": \"../../Dataset_for_chapter4\",\n",
    "    \"model_path\": \"./model.ckpt\",\n",
    "    \"output_path\": \"./output.csv\",\n",
    "  }\n",
    "\n",
    "  return config\n",
    "\n",
    "\n",
    "def main(\n",
    "  data_dir,\n",
    "  model_path,\n",
    "  output_path,\n",
    "):\n",
    "  \"\"\"Main function.\"\"\"\n",
    "  device = torch.device(\"cuda:3\" if torch.cuda.is_available() else \"cpu\")\n",
    "  print(f\"[Info]: Use {device} now!\")\n",
    "\n",
    "  mapping_path = Path(data_dir) / \"mapping.json\"\n",
    "  mapping = json.load(mapping_path.open())\n",
    "\n",
    "  dataset = InferenceDataset(data_dir)\n",
    "  dataloader = DataLoader(\n",
    "    dataset,\n",
    "    batch_size=1,\n",
    "    shuffle=False,\n",
    "    drop_last=False,\n",
    "    num_workers=8,\n",
    "    collate_fn=inference_collate_batch,\n",
    "  )\n",
    "  print(f\"[Info]: Finish loading data!\",flush = True)\n",
    "\n",
    "  speaker_num = len(mapping[\"id2speaker\"])\n",
    "  model = Classifier(n_spks=speaker_num).to(device)\n",
    "  model.load_state_dict(torch.load(model_path))\n",
    "  model.eval()\n",
    "  print(f\"[Info]: Finish creating model!\",flush = True)\n",
    "\n",
    "  results = [[\"Id\", \"Category\"]]\n",
    "  for feat_paths, mels in tqdm(dataloader):\n",
    "    with torch.no_grad():\n",
    "      mels = mels.to(device)\n",
    "      outs = model(mels)\n",
    "      preds = outs.argmax(1).cpu().numpy()\n",
    "      for feat_path, pred in zip(feat_paths, preds):\n",
    "        results.append([feat_path, mapping[\"id2speaker\"][str(pred)]])\n",
    "\n",
    "  # with open(output_path, 'w', newline='') as csvfile:\n",
    "  #   writer = csv.writer(csvfile)\n",
    "  #   writer.writerows(results)\n",
    "\n",
    "\n",
    "if __name__ == \"__main__\":\n",
    "  main(**parse_args())"
   ],
   "metadata": {
    "collapsed": false,
    "pycharm": {
     "name": "#%%\n"
    }
   }
  }
 ],
 "metadata": {
  "kernelspec": {
   "display_name": "Python 3",
   "language": "python",
   "name": "python3"
  },
  "language_info": {
   "codemirror_mode": {
    "name": "ipython",
    "version": 2
   },
   "file_extension": ".py",
   "mimetype": "text/x-python",
   "name": "python",
   "nbconvert_exporter": "python",
   "pygments_lexer": "ipython2",
   "version": "2.7.6"
  }
 },
 "nbformat": 4,
 "nbformat_minor": 0
}