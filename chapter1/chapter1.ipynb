{
 "cells": [
  {
   "cell_type": "code",
   "execution_count": 17,
   "metadata": {
    "collapsed": true
   },
   "outputs": [],
   "source": [
    "# COVID-19 Cases Prediction (Regression)\n",
    "# 回归问题\n",
    "# 数据集： https://drive.google.com/uc?id=1awF7pZ9Dz7X1jn1_QAiKN-_v56veCEKy  covid.train.csv\n",
    "#         https://drive.google.com/uc?id=1CE240jLm2npU-tdz81-oVKEF3T2yfT1O  covid.test.csv"
   ]
  },
  {
   "cell_type": "code",
   "execution_count": 18,
   "outputs": [],
   "source": [
    "import numpy as np\n",
    "import pandas as pd\n",
    "import os\n",
    "\n",
    "import torch\n",
    "import torch.nn as nn\n",
    "from torch.utils.data import Dataset, DataLoader\n",
    "\n",
    "import matplotlib.pyplot as plt\n",
    "from matplotlib.pyplot import figure"
   ],
   "metadata": {
    "collapsed": false,
    "pycharm": {
     "name": "#%%\n"
    }
   }
  },
  {
   "cell_type": "code",
   "execution_count": 19,
   "outputs": [],
   "source": [
    "train_path = 'covid.train.csv'  # path to training data\n",
    "test_path = 'covid.test.csv'   # path to testing data"
   ],
   "metadata": {
    "collapsed": false,
    "pycharm": {
     "name": "#%%\n"
    }
   }
  },
  {
   "cell_type": "code",
   "execution_count": 20,
   "outputs": [],
   "source": [
    "# 课程提供的 画图部分\n",
    "\n",
    "def get_device():\n",
    "    ''' Get device (if GPU is available, use GPU) '''\n",
    "    return 'cuda' if torch.cuda.is_available() else 'cpu'\n",
    "\n",
    "def plot_learning_curve(loss_record, title=''):\n",
    "    ''' Plot learning curve of your DNN (train & dev loss) '''\n",
    "    total_steps = len(loss_record['train'])\n",
    "    x_1 = range(total_steps)\n",
    "    x_2 = x_1[::len(loss_record['train']) // len(loss_record['valid'])]\n",
    "    figure(figsize=(6, 4))\n",
    "    plt.plot(x_1, loss_record['train'], c='tab:red', label='train')\n",
    "    plt.plot(x_2, loss_record['valid'], c='tab:cyan', label='valid')\n",
    "    plt.ylim(0.0, 5.)\n",
    "    plt.xlabel('Training steps')\n",
    "    plt.ylabel('MSE loss')\n",
    "    plt.title('Learning curve of {}'.format(title))\n",
    "    plt.legend()\n",
    "    plt.show()\n",
    "\n",
    "\n",
    "def plot_pred(dv_set, model, device, lim=35., preds=None, targets=None):\n",
    "    ''' Plot prediction of your DNN '''\n",
    "    if preds is None or targets is None:\n",
    "        model.eval()\n",
    "        preds, targets = [], []\n",
    "        for x, y in dv_set:\n",
    "            x, y = x.to(device), y.to(device)\n",
    "            with torch.no_grad():\n",
    "                pred = model(x)\n",
    "                preds.append(pred.detach().cpu())\n",
    "                targets.append(y.detach().cpu())\n",
    "        preds = torch.cat(preds, dim=0).numpy()\n",
    "        targets = torch.cat(targets, dim=0).numpy()\n",
    "\n",
    "    figure(figsize=(5, 5))\n",
    "    plt.scatter(targets, preds, c='r', alpha=0.5)\n",
    "    plt.plot([-0.2, lim], [-0.2, lim], c='b')\n",
    "    plt.xlim(-0.2, lim)\n",
    "    plt.ylim(-0.2, lim)\n",
    "    plt.xlabel('ground truth value')\n",
    "    plt.ylabel('predicted value')\n",
    "    plt.title('Ground Truth v.s. Prediction')\n",
    "    plt.show()"
   ],
   "metadata": {
    "collapsed": false,
    "pycharm": {
     "name": "#%%\n"
    }
   }
  },
  {
   "cell_type": "code",
   "execution_count": 21,
   "outputs": [],
   "source": [
    "class COVID19Dataset(Dataset):\n",
    "    ''' Dataset for loading and preprocessing the COVID19 dataset '''\n",
    "    def __init__(self,\n",
    "                 path,                  # path 定义了文件名\n",
    "                 mode='train',          # mode定义了模式 train / valid / test\n",
    "                 target_only=False):    # target_only\n",
    "        self.mode = mode\n",
    "\n",
    "        # Read data into numpy arrays\n",
    "        # 读取数据 pandas -> numpy\n",
    "        data_pd = pd.read_csv(path)\n",
    "        data = data_pd.iloc[:,1:].values\n",
    "\n",
    "        # 课程提供使用csv读取的方法\n",
    "        # with open(path, 'r') as fp:\n",
    "        #     data = list(csv.reader(fp))\n",
    "        #     data = np.array(data[1:])[:, 1:].astype(float)\n",
    "\n",
    "        # 如果不是target_only 有效输入数据长度有93列\n",
    "        # (40 states + day 1 (18) + day 2 (18) + day 3 (17)\n",
    "        if not target_only:\n",
    "            feats = list(range(93))\n",
    "        else:\n",
    "            # TODO: Using 40 states & 2 tested_positive features (indices = 57 & 75)\n",
    "            feats = list(range(40))\n",
    "            feats.append(57)\n",
    "            feats.append(75)\n",
    "            pass\n",
    "\n",
    "        if mode == 'test':\n",
    "            # Testing data\n",
    "            # data: 893 x 93 (40 states + day 1 (18) + day 2 (18) + day 3 (17))\n",
    "            data = data[:, feats]\n",
    "            self.data = torch.FloatTensor(data)\n",
    "        else:\n",
    "            # Training data (train/valid sets)\n",
    "            # data: 2700 x 94 (40 states + day 1 (18) + day 2 (18) + day 3 (18))\n",
    "\n",
    "            # target是最后一列 输入数据其上述定义的feats列\n",
    "            target = data[:, -1]\n",
    "            data = data[:, feats]\n",
    "\n",
    "            indices = []\n",
    "            # Splitting training data into train & dev sets\n",
    "            # 训练集验证集9:1划分\n",
    "            if mode == 'train':\n",
    "                indices = [i for i in range(len(data)) if i % 10 != 0]\n",
    "            elif mode == 'valid':\n",
    "                indices = [i for i in range(len(data)) if i % 10 == 0]\n",
    "\n",
    "            # Convert data into PyTorch tensors\n",
    "            self.data = torch.FloatTensor(data[indices])\n",
    "            self.target = torch.FloatTensor(target[indices])\n",
    "\n",
    "        # Normalize features (you may remove this part to see what will happen)\n",
    "        # 归一化\n",
    "        self.data[:, 40:] = \\\n",
    "            (self.data[:, 40:] - self.data[:, 40:].mean(dim=0, keepdim=True)) \\\n",
    "            / self.data[:, 40:].std(dim=0, keepdim=True)\n",
    "\n",
    "        self.dim = self.data.shape[1]\n",
    "\n",
    "        print('Finished reading the {} set of COVID19 Dataset ({} samples found, each dim = {})'\n",
    "              .format(mode, len(self.data), self.dim))\n",
    "\n",
    "    def __getitem__(self, index):\n",
    "        # Returns one sample at a time\n",
    "        if self.mode in ['train', 'valid']:\n",
    "            # For training\n",
    "            return self.data[index], self.target[index]\n",
    "        else:\n",
    "            # For testing (no target)\n",
    "            return self.data[index]\n",
    "\n",
    "    def __len__(self):\n",
    "        # Returns the size of the dataset\n",
    "        return len(self.data)"
   ],
   "metadata": {
    "collapsed": false,
    "pycharm": {
     "name": "#%%\n"
    }
   }
  },
  {
   "cell_type": "code",
   "execution_count": 22,
   "outputs": [],
   "source": [
    "# 产生dataloader\n",
    "def prep_dataloader(path, mode, batch_size, n_jobs=0, target_only=False):\n",
    "    ''' Generates a dataset, then is put into a dataloader. '''\n",
    "    dataset = COVID19Dataset(path, mode=mode, target_only=target_only)  # Construct dataset\n",
    "    dataloader = DataLoader(\n",
    "        dataset, batch_size,\n",
    "        shuffle=(mode == 'train'), drop_last=False,\n",
    "        # 当mode是train时进行打乱\n",
    "        num_workers=n_jobs, pin_memory=True)                            # Construct dataloader\n",
    "    return dataloader"
   ],
   "metadata": {
    "collapsed": false,
    "pycharm": {
     "name": "#%%\n"
    }
   }
  },
  {
   "cell_type": "code",
   "execution_count": 23,
   "outputs": [],
   "source": [
    "class NeuralNet(nn.Module):\n",
    "    ''' A simple fully-connected deep neural network '''\n",
    "    def __init__(self, input_dim):\n",
    "        super(NeuralNet, self).__init__()\n",
    "\n",
    "        # Define your neural network here\n",
    "        # TODO: How to modify this model to achieve better performance?\n",
    "        self.net = nn.Sequential(\n",
    "            nn.Linear(input_dim, 64), # 输入维度为93维特征\n",
    "            nn.ReLU(),\n",
    "            nn.Linear(64, 1)\n",
    "        )\n",
    "\n",
    "        # Mean squared error loss\n",
    "        self.criterion = nn.MSELoss(reduction='mean')\n",
    "\n",
    "    def forward(self, x):\n",
    "        ''' Given input of size (batch_size x input_dim), compute output of the network '''\n",
    "        return self.net(x).squeeze(1)\n",
    "        # 输入维度为(batch,1)第二维的这个1没有意义 squeeze掉\n",
    "\n",
    "    def cal_loss(self, pred, target):\n",
    "        ''' Calculate loss '''\n",
    "        # TODO: you may implement L2 regularization here\n",
    "        return self.criterion(pred, target)"
   ],
   "metadata": {
    "collapsed": false,
    "pycharm": {
     "name": "#%%\n"
    }
   }
  },
  {
   "cell_type": "code",
   "execution_count": 24,
   "outputs": [],
   "source": [
    "def train(tr_set, dv_set, model, config, device):\n",
    "    ''' DNN training '''\n",
    "\n",
    "    n_epochs = config['n_epochs']  # Maximum number of epochs\n",
    "\n",
    "    # Setup optimizer\n",
    "    optimizer = getattr(torch.optim, config['optimizer'])(\n",
    "        model.parameters(), **config['optim_hparas'])\n",
    "    # get_attribute方法给torch.optim提供了参数config['optimizer']\n",
    "    # 并初始化了torch.optim的参数为model.parameters()和config中定义的超参数\n",
    "\n",
    "    min_mse = 1000.\n",
    "    # 先设定一个很大的loss 便于比较\n",
    "    loss_record = {'train': [], 'valid': []}      # for recording training loss\n",
    "    early_stop_cnt = 0\n",
    "    epoch = 0\n",
    "    while epoch < n_epochs:\n",
    "        model.train()                           # set model to training mode\n",
    "        # 设为训练模式 默认就是训练模式\n",
    "        for x, y in tr_set:                     # iterate through the dataloader\n",
    "            optimizer.zero_grad()               # set gradient to zero\n",
    "            x, y = x.to(device), y.to(device)   # move data to device (cpu/cuda)\n",
    "            pred = model(x)                     # forward pass (compute output)\n",
    "            mse_loss = model.cal_loss(pred, y)  # compute loss\n",
    "            mse_loss.backward()                 # compute gradient (backpropagation)\n",
    "            optimizer.step()                    # update model with optimizer\n",
    "            loss_record['train'].append(mse_loss.detach().cpu().item())\n",
    "\n",
    "        # After each epoch, test your model on the validation (development) set.\n",
    "        if epoch % 10 == 0:\n",
    "            # 每训练十次进行一次验证\n",
    "            dev_mse = dev(dv_set, model, device)\n",
    "            if dev_mse < min_mse:\n",
    "                # Save model if your model improved\n",
    "                min_mse = dev_mse\n",
    "                print('Saving model (epoch = {:4d}, loss = {:.4f})'\n",
    "                    .format(epoch + 1, min_mse))\n",
    "                torch.save(model.state_dict(), config['save_path'])  # Save model to specified path\n",
    "                early_stop_cnt = 0\n",
    "                # 如果模型有所提高就将此值重置\n",
    "            else:\n",
    "                early_stop_cnt += 1\n",
    "                # 如果模型没有提高+1\n",
    "\n",
    "        epoch += 1\n",
    "        loss_record['valid'].append(dev_mse)\n",
    "        if early_stop_cnt > config['early_stop']:\n",
    "            # Stop training if your model stops improving for \"config['early_stop']\" epochs.\n",
    "            break\n",
    "\n",
    "    print('Finished training after {} epochs'.format(epoch))\n",
    "    return min_mse, loss_record\n",
    "\n",
    "\n",
    "def dev(dv_set, model, device):\n",
    "    model.eval()                                # set model to evalutation mode\n",
    "    # 验证时进入eval模式\n",
    "    total_loss = 0\n",
    "    for x, y in dv_set:                         # iterate through the dataloader\n",
    "        x, y = x.to(device), y.to(device)       # move data to device (cpu/cuda)\n",
    "        with torch.no_grad():                   # disable gradient calculation\n",
    "            pred = model(x)                     # forward pass (compute output)\n",
    "            mse_loss = model.cal_loss(pred, y)  # compute loss\n",
    "        total_loss += mse_loss.detach().cpu().item() * len(x)  # accumulate loss\n",
    "    total_loss = total_loss / len(dv_set.dataset)              # compute averaged loss\n",
    "\n",
    "    return total_loss"
   ],
   "metadata": {
    "collapsed": false,
    "pycharm": {
     "name": "#%%\n"
    }
   }
  },
  {
   "cell_type": "code",
   "execution_count": 25,
   "outputs": [],
   "source": [
    "def test(tt_set, model, device):\n",
    "    model.eval()                                # set model to evalutation mode\n",
    "    preds = []\n",
    "    for x in tt_set:                            # iterate through the dataloader\n",
    "        x = x.to(device)                        # move data to device (cpu/cuda)\n",
    "        with torch.no_grad():                   # disable gradient calculation\n",
    "            pred = model(x)                     # forward pass (compute output)\n",
    "            preds.append(pred.detach().cpu())   # collect prediction\n",
    "    preds = torch.cat(preds, dim=0).numpy()     # concatenate all predictions and convert to a numpy array\n",
    "    return preds"
   ],
   "metadata": {
    "collapsed": false,
    "pycharm": {
     "name": "#%%\n"
    }
   }
  },
  {
   "cell_type": "code",
   "execution_count": 26,
   "outputs": [],
   "source": [
    "\n",
    "\n",
    "# 设置超参数\n",
    "\n",
    "device = get_device()                 # get the current available device ('cpu' or 'cuda')\n",
    "os.makedirs('models', exist_ok=True)  # The trained model will be saved to ./models/\n",
    "target_only = False                   # TODO: Using 40 states & 2 tested_positive features\n",
    "\n",
    "# TODO: How to tune these hyper-parameters to improve your model's performance?\n",
    "config = {\n",
    "    'n_epochs': 3000,                # maximum number of epochs\n",
    "    'batch_size': 270,               # mini-batch size for dataloader\n",
    "    'optimizer': 'Adam',              # optimization algorithm (optimizer in torch.optim)\n",
    "    'optim_hparas': {                # hyper-parameters for the optimizer (depends on which optimizer you are using)\n",
    "        'lr': 0.001,                 # learning rate of SGD\n",
    "        # 'momentum': 0.9              # momentum for SGD\n",
    "    },\n",
    "    'early_stop': 200,               # early stopping epochs (the number epochs since your model's last improvement)\n",
    "    'save_path': 'models/model.pth'  # your model will be saved here\n",
    "}"
   ],
   "metadata": {
    "collapsed": false,
    "pycharm": {
     "name": "#%%\n"
    }
   }
  },
  {
   "cell_type": "code",
   "execution_count": 27,
   "outputs": [
    {
     "name": "stdout",
     "output_type": "stream",
     "text": [
      "Finished reading the train set of COVID19 Dataset (2430 samples found, each dim = 93)\n",
      "Finished reading the valid set of COVID19 Dataset (270 samples found, each dim = 93)\n",
      "Finished reading the test set of COVID19 Dataset (893 samples found, each dim = 93)\n"
     ]
    }
   ],
   "source": [
    "tr_set = prep_dataloader(train_path, 'train', config['batch_size'], target_only=target_only)\n",
    "dv_set = prep_dataloader(train_path, 'valid', config['batch_size'], target_only=target_only)\n",
    "tt_set = prep_dataloader(test_path, 'test', config['batch_size'], target_only=target_only)"
   ],
   "metadata": {
    "collapsed": false,
    "pycharm": {
     "name": "#%%\n"
    }
   }
  },
  {
   "cell_type": "code",
   "execution_count": 28,
   "outputs": [
    {
     "data": {
      "text/plain": "93"
     },
     "execution_count": 28,
     "metadata": {},
     "output_type": "execute_result"
    }
   ],
   "source": [
    "tr_set.dataset.dim\n",
    "# 输入维度有93维"
   ],
   "metadata": {
    "collapsed": false,
    "pycharm": {
     "name": "#%%\n"
    }
   }
  },
  {
   "cell_type": "code",
   "execution_count": 29,
   "outputs": [],
   "source": [
    "model = NeuralNet(tr_set.dataset.dim).to(device)"
   ],
   "metadata": {
    "collapsed": false,
    "pycharm": {
     "name": "#%%\n"
    }
   }
  },
  {
   "cell_type": "code",
   "execution_count": 30,
   "outputs": [
    {
     "name": "stdout",
     "output_type": "stream",
     "text": [
      "Saving model (epoch =    1, loss = 313.3207)\n",
      "Saving model (epoch =   11, loss = 77.5116)\n",
      "Saving model (epoch =   21, loss = 27.5944)\n",
      "Saving model (epoch =   31, loss = 18.8037)\n",
      "Saving model (epoch =   41, loss = 11.5885)\n",
      "Saving model (epoch =   51, loss = 7.1800)\n",
      "Saving model (epoch =   61, loss = 4.8267)\n",
      "Saving model (epoch =   71, loss = 3.5699)\n",
      "Saving model (epoch =   81, loss = 2.8491)\n",
      "Saving model (epoch =   91, loss = 2.4165)\n",
      "Saving model (epoch =  101, loss = 2.1333)\n",
      "Saving model (epoch =  111, loss = 1.9263)\n",
      "Saving model (epoch =  121, loss = 1.7958)\n",
      "Saving model (epoch =  131, loss = 1.6892)\n",
      "Saving model (epoch =  141, loss = 1.5675)\n",
      "Saving model (epoch =  151, loss = 1.4782)\n",
      "Saving model (epoch =  161, loss = 1.4193)\n",
      "Saving model (epoch =  171, loss = 1.3512)\n",
      "Saving model (epoch =  181, loss = 1.3043)\n",
      "Saving model (epoch =  191, loss = 1.2614)\n",
      "Saving model (epoch =  201, loss = 1.2199)\n",
      "Saving model (epoch =  211, loss = 1.1801)\n",
      "Saving model (epoch =  221, loss = 1.1614)\n",
      "Saving model (epoch =  231, loss = 1.0942)\n",
      "Saving model (epoch =  241, loss = 1.0625)\n",
      "Saving model (epoch =  251, loss = 1.0436)\n",
      "Saving model (epoch =  261, loss = 1.0212)\n",
      "Saving model (epoch =  271, loss = 1.0168)\n",
      "Saving model (epoch =  281, loss = 0.9722)\n",
      "Saving model (epoch =  291, loss = 0.9648)\n",
      "Saving model (epoch =  301, loss = 0.9432)\n",
      "Saving model (epoch =  311, loss = 0.9370)\n",
      "Saving model (epoch =  321, loss = 0.9221)\n",
      "Saving model (epoch =  331, loss = 0.9111)\n",
      "Saving model (epoch =  351, loss = 0.8879)\n",
      "Saving model (epoch =  361, loss = 0.8771)\n",
      "Saving model (epoch =  371, loss = 0.8694)\n",
      "Saving model (epoch =  391, loss = 0.8478)\n",
      "Saving model (epoch =  411, loss = 0.8434)\n",
      "Saving model (epoch =  421, loss = 0.8424)\n",
      "Saving model (epoch =  441, loss = 0.8229)\n",
      "Saving model (epoch =  451, loss = 0.8193)\n",
      "Saving model (epoch =  461, loss = 0.8188)\n",
      "Saving model (epoch =  501, loss = 0.8177)\n",
      "Saving model (epoch =  511, loss = 0.8091)\n",
      "Saving model (epoch =  521, loss = 0.8029)\n",
      "Saving model (epoch =  541, loss = 0.7973)\n",
      "Saving model (epoch =  551, loss = 0.7867)\n",
      "Saving model (epoch =  581, loss = 0.7801)\n",
      "Saving model (epoch =  641, loss = 0.7791)\n",
      "Saving model (epoch =  681, loss = 0.7696)\n",
      "Saving model (epoch =  731, loss = 0.7674)\n",
      "Saving model (epoch =  741, loss = 0.7673)\n",
      "Saving model (epoch = 1051, loss = 0.7578)\n",
      "Saving model (epoch = 1201, loss = 0.7525)\n",
      "Saving model (epoch = 1451, loss = 0.7471)\n",
      "Saving model (epoch = 1491, loss = 0.7367)\n",
      "Saving model (epoch = 2311, loss = 0.7343)\n",
      "Saving model (epoch = 2661, loss = 0.7194)\n",
      "Finished training after 3000 epochs\n"
     ]
    }
   ],
   "source": [
    "model_loss, model_loss_record = train(tr_set, dv_set, model, config, device)"
   ],
   "metadata": {
    "collapsed": false,
    "pycharm": {
     "name": "#%%\n"
    }
   }
  },
  {
   "cell_type": "code",
   "execution_count": 31,
   "outputs": [
    {
     "data": {
      "text/plain": "<Figure size 432x288 with 1 Axes>",
      "image/png": "[encoded data removed]"
     },
     "metadata": {
      "needs_background": "light"
     },
     "output_type": "display_data"
    }
   ],
   "source": [
    "plot_learning_curve(model_loss_record, title='deep model')"
   ],
   "metadata": {
    "collapsed": false,
    "pycharm": {
     "name": "#%%\n"
    }
   }
  },
  {
   "cell_type": "code",
   "execution_count": 32,
   "outputs": [
    {
     "data": {
      "text/plain": "<Figure size 360x360 with 1 Axes>",
      "image/png": "[encoded data removed]"
     },
     "metadata": {
      "needs_background": "light"
     },
     "output_type": "display_data"
    }
   ],
   "source": [
    "del model\n",
    "model = NeuralNet(tr_set.dataset.dim).to(device)\n",
    "ckpt = torch.load(config['save_path'], map_location='cpu')  # Load your best model\n",
    "model.load_state_dict(ckpt)\n",
    "plot_pred(dv_set, model, device)  # Show prediction on the validation set"
   ],
   "metadata": {
    "collapsed": false,
    "pycharm": {
     "name": "#%%\n"
    }
   }
  }
 ],
 "metadata": {
  "kernelspec": {
   "display_name": "Python 3",
   "language": "python",
   "name": "python3"
  },
  "language_info": {
   "codemirror_mode": {
    "name": "ipython",
    "version": 2
   },
   "file_extension": ".py",
   "mimetype": "text/x-python",
   "name": "python",
   "nbconvert_exporter": "python",
   "pygments_lexer": "ipython2",
   "version": "2.7.6"
  }
 },
 "nbformat": 4,
 "nbformat_minor": 0
}