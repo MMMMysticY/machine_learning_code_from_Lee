{
 "cells": [
  {
   "cell_type": "code",
   "execution_count": 114,
   "metadata": {
    "collapsed": true
   },
   "outputs": [],
   "source": [
    "import sys\n",
    "import pdb\n",
    "import pprint\n",
    "import logging\n",
    "import os\n",
    "import random\n",
    "\n",
    "import torch\n",
    "import torch.nn as nn\n",
    "import torch.nn.functional as F\n",
    "from torch.utils import data\n",
    "import numpy as np\n",
    "import tqdm.auto as tqdm\n",
    "from pathlib import Path\n",
    "from argparse import Namespace\n",
    "from fairseq import utils\n",
    "\n",
    "import matplotlib.pyplot as plt"
   ]
  },
  {
   "cell_type": "code",
   "execution_count": 115,
   "outputs": [],
   "source": [
    "# 确定random seed\n",
    "seed = 73\n",
    "random.seed(seed)\n",
    "torch.manual_seed(seed)\n",
    "if torch.cuda.is_available():\n",
    "    torch.cuda.manual_seed(seed)\n",
    "    torch.cuda.manual_seed_all(seed)\n",
    "np.random.seed(seed)\n",
    "torch.backends.cudnn.benchmark = False\n",
    "torch.backends.cudnn.deterministic = True"
   ],
   "metadata": {
    "collapsed": false,
    "pycharm": {
     "name": "#%%\n"
    }
   }
  },
  {
   "cell_type": "code",
   "execution_count": 116,
   "outputs": [],
   "source": [
    "data_dir = './DATA/rawdata'\n",
    "dataset_name = 'ted2020'\n",
    "\n",
    "prefix = Path(data_dir).absolute() / dataset_name"
   ],
   "metadata": {
    "collapsed": false,
    "pycharm": {
     "name": "#%%\n"
    }
   }
  },
  {
   "cell_type": "code",
   "execution_count": 117,
   "outputs": [],
   "source": [
    "src_lang = 'en'\n",
    "tgt_lang = 'zh'\n",
    "\n",
    "data_prefix = f'{prefix}/train_dev.raw'\n",
    "test_prefix = f'{prefix}/test.raw'"
   ],
   "metadata": {
    "collapsed": false,
    "pycharm": {
     "name": "#%%\n"
    }
   }
  },
  {
   "cell_type": "code",
   "execution_count": 118,
   "outputs": [
    {
     "name": "stdout",
     "output_type": "stream",
     "text": [
      "Thank you so much, Chris.\r\n",
      "And it's truly a great honor to have the opportunity to come to this stage twice; I'm extremely grateful.\r\n",
      "I have been blown away by this conference, and I want to thank all of you for the many nice comments about what I had to say the other night.\r\n",
      "And I say that sincerely, partly because  I need that.\r\n",
      "Put yourselves in my position.\r\n",
      "非常謝謝你，克里斯。能有這個機會第二度踏上這個演講台\r\n",
      "真是一大榮幸。我非常感激。\r\n",
      "這個研討會給我留下了極為深刻的印象，我想感謝大家 對我之前演講的好評。\r\n",
      "我是由衷的想這麼說，有部份原因是因為 —— 我真的有需要!\r\n",
      "請你們設身處地為我想一想！\r\n"
     ]
    }
   ],
   "source": [
    "!head {data_prefix+'.'+src_lang} -n 5\n",
    "!head {data_prefix+'.'+tgt_lang} -n 5"
   ],
   "metadata": {
    "collapsed": false,
    "pycharm": {
     "name": "#%%\n"
    }
   }
  },
  {
   "cell_type": "code",
   "execution_count": 119,
   "outputs": [],
   "source": [
    "import re\n",
    "\n",
    "def strQ2B(ustring):\n",
    "    \"\"\"Full width -> half width\"\"\"\n",
    "    # 将全型字变为半型字\n",
    "    # reference:https://ithelp.ithome.com.tw/articles/10233122\n",
    "    ss = []\n",
    "    for s in ustring:\n",
    "        rstring = \"\"\n",
    "        for uchar in s:\n",
    "            inside_code = ord(uchar)\n",
    "            if inside_code == 12288:  # Full width space: direct conversion\n",
    "                inside_code = 32\n",
    "            elif (inside_code >= 65281 and inside_code <= 65374):  # Full width chars (except space) conversion\n",
    "                inside_code -= 65248\n",
    "            rstring += chr(inside_code)\n",
    "        ss.append(rstring)\n",
    "    return ''.join(ss)\n",
    "\n",
    "def clean_s(s, lang):\n",
    "    if lang == 'en':\n",
    "        s = re.sub(r\"\\([^()]*\\)\", \"\", s) # remove ([text])         # 去掉() []\n",
    "        s = s.replace('-', '') # remove '-'                        # 去掉-\n",
    "        s = re.sub('([.,;!?()\\\"])', r' \\1 ', s) # keep punctuation # 用\\1代表所有标点符号\n",
    "    elif lang == 'zh':\n",
    "        s = strQ2B(s) # Q2B\n",
    "        s = re.sub(r\"\\([^()]*\\)\", \"\", s) # remove ([text])        # 去掉() []\n",
    "        s = s.replace(' ', '')\n",
    "        s = s.replace('—', '')\n",
    "        s = s.replace('“', '\"')\n",
    "        s = s.replace('”', '\"')\n",
    "        s = s.replace('_', '')                                    # 去掉 tab “ — _\n",
    "        s = re.sub('([。,;!?()\\\"~「」])', r' \\1 ', s) # keep punctuation # 用\\1代表所有标点符号\n",
    "    s = ' '.join(s.strip().split())\n",
    "    return s\n",
    "\n",
    "def len_s(s, lang):\n",
    "    if lang == 'zh':\n",
    "        return len(s)\n",
    "    return len(s.split())\n",
    "\n",
    "def clean_corpus(prefix, l1, l2, ratio=9, max_len=1000, min_len=1):\n",
    "    if Path(f'{prefix}.clean.{l1}').exists() and Path(f'{prefix}.clean.{l2}').exists():\n",
    "        print(f'{prefix}.clean.{l1} & {l2} exists. skipping clean.')\n",
    "        return\n",
    "    with open(f'{prefix}.{l1}', 'r') as l1_in_f:\n",
    "        with open(f'{prefix}.{l2}', 'r') as l2_in_f:\n",
    "            with open(f'{prefix}.clean.{l1}', 'w') as l1_out_f:\n",
    "                with open(f'{prefix}.clean.{l2}', 'w') as l2_out_f:\n",
    "                    for s1 in l1_in_f:\n",
    "                        s1 = s1.strip()\n",
    "                        s2 = l2_in_f.readline().strip()\n",
    "                        s1 = clean_s(s1, l1)\n",
    "                        s2 = clean_s(s2, l2)\n",
    "                        s1_len = len_s(s1, l1)\n",
    "                        s2_len = len_s(s2, l2)\n",
    "                        if min_len > 0: # remove short sentence\n",
    "                            if s1_len < min_len or s2_len < min_len:\n",
    "                                continue\n",
    "                        if max_len > 0: # remove long sentence\n",
    "                            if s1_len > max_len or s2_len > max_len:\n",
    "                                continue\n",
    "                        if ratio > 0: # remove by ratio of length\n",
    "                            if s1_len/s2_len > ratio or s2_len/s1_len > ratio:  # 两个句子的比值大于ratio也要清洗掉\n",
    "                                continue\n",
    "                        print(s1, file=l1_out_f)\n",
    "                        print(s2, file=l2_out_f)"
   ],
   "metadata": {
    "collapsed": false,
    "pycharm": {
     "name": "#%%\n"
    }
   }
  },
  {
   "cell_type": "code",
   "execution_count": 120,
   "outputs": [
    {
     "name": "stdout",
     "output_type": "stream",
     "text": [
      "/home/wy/ML_study/chapter5/DATA/rawdata/ted2020/train_dev.raw.clean.en & zh exists. skipping clean.\n",
      "/home/wy/ML_study/chapter5/DATA/rawdata/ted2020/test.raw.clean.en & zh exists. skipping clean.\n"
     ]
    }
   ],
   "source": [
    "clean_corpus(data_prefix, src_lang, tgt_lang)\n",
    "clean_corpus(test_prefix, src_lang, tgt_lang, ratio=-1, min_len=-1, max_len=-1)"
   ],
   "metadata": {
    "collapsed": false,
    "pycharm": {
     "name": "#%%\n"
    }
   }
  },
  {
   "cell_type": "code",
   "execution_count": 121,
   "outputs": [],
   "source": [
    "valid_ratio = 0.01 # 3000~4000 would suffice\n",
    "train_ratio = 1 - valid_ratio"
   ],
   "metadata": {
    "collapsed": false,
    "pycharm": {
     "name": "#%%\n"
    }
   }
  },
  {
   "cell_type": "code",
   "execution_count": 122,
   "outputs": [
    {
     "name": "stdout",
     "output_type": "stream",
     "text": [
      "train/valid splits exists. skipping split.\n"
     ]
    }
   ],
   "source": [
    "if (prefix/f'train.clean.{src_lang}').exists() \\\n",
    "and (prefix/f'train.clean.{tgt_lang}').exists() \\\n",
    "and (prefix/f'valid.clean.{src_lang}').exists() \\\n",
    "and (prefix/f'valid.clean.{tgt_lang}').exists():\n",
    "    print(f'train/valid splits exists. skipping split.')\n",
    "else:\n",
    "    line_num = sum(1 for line in open(f'{data_prefix}.clean.{src_lang}'))\n",
    "    labels = list(range(line_num))\n",
    "    random.shuffle(labels)\n",
    "    for lang in [src_lang, tgt_lang]:\n",
    "        train_f = open(os.path.join(data_dir, dataset_name, f'train.clean.{lang}'), 'w')\n",
    "        valid_f = open(os.path.join(data_dir, dataset_name, f'valid.clean.{lang}'), 'w')\n",
    "        count = 0\n",
    "        for line in open(f'{data_prefix}.clean.{lang}', 'r'):\n",
    "            if labels[count]/line_num < train_ratio:\n",
    "                train_f.write(line)\n",
    "            else:\n",
    "                valid_f.write(line)\n",
    "            count += 1\n",
    "        train_f.close()\n",
    "        valid_f.close()"
   ],
   "metadata": {
    "collapsed": false,
    "pycharm": {
     "name": "#%%\n"
    }
   }
  },
  {
   "cell_type": "code",
   "execution_count": 123,
   "outputs": [
    {
     "name": "stdout",
     "output_type": "stream",
     "text": [
      "/home/wy/ML_study/chapter5/DATA/rawdata/ted2020/spm8000.model exists. skipping spm_train.\n"
     ]
    }
   ],
   "source": [
    "# Subword Units\n",
    "\n",
    "# 在机器翻译中 out of vocabulary (OOV)是主要问题 需要使用subword units\n",
    "# 使用sentencepiece库进行分割\n",
    "\n",
    "import sentencepiece as spm\n",
    "vocab_size = 8000\n",
    "if (prefix/f'spm{vocab_size}.model').exists():\n",
    "    print(f'{prefix}/spm{vocab_size}.model exists. skipping spm_train.')\n",
    "else:\n",
    "    spm.SentencePieceTrainer.train(\n",
    "        input=','.join([f'{prefix}/train.clean.{src_lang}',\n",
    "                        f'{prefix}/valid.clean.{src_lang}',\n",
    "                        f'{prefix}/train.clean.{tgt_lang}',\n",
    "                        f'{prefix}/valid.clean.{tgt_lang}']),\n",
    "        model_prefix=prefix/f'spm{vocab_size}',\n",
    "        vocab_size=vocab_size,\n",
    "        character_coverage=1,\n",
    "        model_type='unigram', # 'bpe' works as well\n",
    "        input_sentence_size=1e6,\n",
    "        shuffle_input_sentence=True,\n",
    "        normalization_rule_name='nmt_nfkc_cf',\n",
    "    )"
   ],
   "metadata": {
    "collapsed": false,
    "pycharm": {
     "name": "#%%\n"
    }
   }
  },
  {
   "cell_type": "code",
   "execution_count": 124,
   "outputs": [
    {
     "name": "stdout",
     "output_type": "stream",
     "text": [
      "/home/wy/ML_study/chapter5/DATA/rawdata/ted2020/train.en exists. skipping spm_encode.\n",
      "/home/wy/ML_study/chapter5/DATA/rawdata/ted2020/train.zh exists. skipping spm_encode.\n",
      "/home/wy/ML_study/chapter5/DATA/rawdata/ted2020/valid.en exists. skipping spm_encode.\n",
      "/home/wy/ML_study/chapter5/DATA/rawdata/ted2020/valid.zh exists. skipping spm_encode.\n",
      "/home/wy/ML_study/chapter5/DATA/rawdata/ted2020/test.en exists. skipping spm_encode.\n",
      "/home/wy/ML_study/chapter5/DATA/rawdata/ted2020/test.zh exists. skipping spm_encode.\n"
     ]
    }
   ],
   "source": [
    "spm_model = spm.SentencePieceProcessor(model_file=str(prefix/f'spm{vocab_size}.model'))\n",
    "in_tag = {\n",
    "    'train': 'train.clean',\n",
    "    'valid': 'valid.clean',\n",
    "    'test': 'test.raw.clean',\n",
    "}\n",
    "for split in ['train', 'valid', 'test']:\n",
    "    for lang in [src_lang, tgt_lang]:\n",
    "        out_path = prefix/f'{split}.{lang}'\n",
    "        if out_path.exists():\n",
    "            print(f\"{out_path} exists. skipping spm_encode.\")\n",
    "        else:\n",
    "            with open(prefix/f'{split}.{lang}', 'w') as out_f:\n",
    "                with open(prefix/f'{in_tag[split]}.{lang}', 'r') as in_f:\n",
    "                    for line in in_f:\n",
    "                        line = line.strip()\n",
    "                        tok = spm_model.encode(line, out_type=str)\n",
    "                        print(' '.join(tok), file=out_f)"
   ],
   "metadata": {
    "collapsed": false,
    "pycharm": {
     "name": "#%%\n"
    }
   }
  },
  {
   "cell_type": "code",
   "execution_count": 125,
   "outputs": [
    {
     "name": "stdout",
     "output_type": "stream",
     "text": [
      "▁thank ▁you ▁so ▁much ▁, ▁chris ▁.\r\n",
      "▁and ▁it ' s ▁ t ru ly ▁a ▁great ▁ho n or ▁to ▁have ▁the ▁ op port un ity ▁to ▁come ▁to ▁this ▁st age ▁ t wi ce ▁; ▁i ' m ▁ex t re me ly ▁gr ate ful ▁.\r\n",
      "▁i ▁have ▁been ▁ bl ow n ▁away ▁by ▁this ▁con fer ence ▁, ▁and ▁i ▁want ▁to ▁thank ▁all ▁of ▁you ▁for ▁the ▁many ▁ ni ce ▁ com ment s ▁about ▁what ▁i ▁had ▁to ▁say ▁the ▁other ▁night ▁.\r\n",
      "▁and ▁i ▁say ▁that ▁since re ly ▁, ▁part ly ▁because ▁i ▁need ▁that ▁.\r\n",
      "▁put ▁your s el ve s ▁in ▁my ▁po s ition ▁.\r\n",
      "▁ 非常 謝 謝 你 ▁, ▁ 克 里 斯 ▁。 ▁ 能 有 這個 機會 第二 度 踏 上 這個 演講 台\r\n",
      "▁ 真 是 一 大 榮 幸 ▁。 ▁我 非常 感 激 ▁。\r\n",
      "▁這個 研 討 會 給我 留 下 了 極 為 深 刻 的 印 象 ▁, ▁我想 感 謝 大家 對我 之前 演講 的 好 評 ▁。\r\n",
      "▁我 是由 衷 的 想 這麼 說 ▁, ▁有 部份 原因 是因為 我 真的 有 需要 ▁!\r\n",
      "▁ 請 你們 設 身 處 地 為 我想 一 想 ▁!\r\n"
     ]
    }
   ],
   "source": [
    "!head {data_dir+'/'+dataset_name+'/train.'+src_lang} -n 5\n",
    "!head {data_dir+'/'+dataset_name+'/train.'+tgt_lang} -n 5"
   ],
   "metadata": {
    "collapsed": false,
    "pycharm": {
     "name": "#%%\n"
    }
   }
  },
  {
   "cell_type": "code",
   "execution_count": 126,
   "outputs": [
    {
     "name": "stdout",
     "output_type": "stream",
     "text": [
      "DATA/data-bin/ted2020 exists, will not overwrite!\n"
     ]
    }
   ],
   "source": [
    "binpath = Path('./DATA/data-bin', dataset_name)\n",
    "if binpath.exists():\n",
    "    print(binpath, \"exists, will not overwrite!\")\n",
    "else:\n",
    "    !python -m fairseq_cli.preprocess \\\n",
    "        --source-lang {src_lang}\\\n",
    "        --target-lang {tgt_lang}\\\n",
    "        --trainpref {prefix/'train'}\\\n",
    "        --validpref {prefix/'valid'}\\\n",
    "        --testpref {prefix/'test'}\\\n",
    "        --destdir {binpath}\\\n",
    "        --joined-dictionary\\\n",
    "        --workers 2"
   ],
   "metadata": {
    "collapsed": false,
    "pycharm": {
     "name": "#%%\n"
    }
   }
  },
  {
   "cell_type": "code",
   "execution_count": 127,
   "outputs": [],
   "source": [
    "config = Namespace(\n",
    "    datadir = \"./DATA/data-bin/ted2020\",\n",
    "    savedir = \"./checkpoints/rnn\",\n",
    "    source_lang = \"en\",\n",
    "    target_lang = \"zh\",\n",
    "\n",
    "    # cpu threads when fetching & processing data.\n",
    "    num_workers=2,\n",
    "    # batch size in terms of tokens. gradient accumulation increases the effective batchsize.\n",
    "    max_tokens=8192,\n",
    "    accum_steps=2,\n",
    "\n",
    "    # the lr s calculated from Noam lr scheduler. you can tune the maximum lr by this factor.\n",
    "    lr_factor=2.,\n",
    "    lr_warmup=4000,\n",
    "\n",
    "    # clipping gradient norm helps alleviate gradient exploding\n",
    "    clip_norm=1.0,\n",
    "\n",
    "    # maximum epochs for training\n",
    "    max_epoch=200,\n",
    "    start_epoch=1,\n",
    "\n",
    "    # beam size for beam search\n",
    "    beam=5,\n",
    "    # generate sequences of maximum length ax + b, where x is the source length\n",
    "    max_len_a=1.2,\n",
    "    max_len_b=10,\n",
    "    # when decoding, post process sentence by removing sentencepiece symbols and jieba tokenization.\n",
    "    post_process = \"sentencepiece\",\n",
    "\n",
    "    # checkpoints\n",
    "    keep_last_epochs=5,\n",
    "    resume=None, # if resume from checkpoint name (under config.savedir)\n",
    "\n",
    "    # logging\n",
    "    use_wandb=False,\n",
    ")"
   ],
   "metadata": {
    "collapsed": false,
    "pycharm": {
     "name": "#%%\n"
    }
   }
  },
  {
   "cell_type": "code",
   "execution_count": 128,
   "outputs": [],
   "source": [
    "# Logging\n",
    "# logging package logs ordinary messages\n",
    "# wandb logs the loss, bleu, etc. in the training process\n",
    "\n",
    "logging.basicConfig(\n",
    "    format=\"%(asctime)s | %(levelname)s | %(name)s | %(message)s\",\n",
    "    datefmt=\"%Y-%m-%d %H:%M:%S\",\n",
    "    level=\"INFO\", # \"DEBUG\" \"WARNING\" \"ERROR\"\n",
    "    stream=sys.stdout,\n",
    ")\n",
    "proj = \"hw5.transformer\"\n",
    "logger = logging.getLogger(proj)\n",
    "if config.use_wandb:\n",
    "    import wandb\n",
    "    wandb.init(project=proj, name=Path(config.savedir).stem, config=config)"
   ],
   "metadata": {
    "collapsed": false,
    "pycharm": {
     "name": "#%%\n"
    }
   }
  },
  {
   "cell_type": "code",
   "execution_count": 129,
   "outputs": [
    {
     "name": "stdout",
     "output_type": "stream",
     "text": [
      "2021-11-13 09:29:47 | INFO | fairseq.utils | ***********************CUDA enviroments for all 1 workers***********************\n",
      "2021-11-13 09:29:47 | INFO | fairseq.utils | rank   0: capabilities =  8.6  ; total memory = 23.700 GB ; name = NVIDIA GeForce RTX 3090                 \n",
      "2021-11-13 09:29:47 | INFO | fairseq.utils | ***********************CUDA enviroments for all 1 workers***********************\n"
     ]
    }
   ],
   "source": [
    "\n",
    "# CUDA\n",
    "\n",
    "cuda_env = utils.CudaEnvironment()\n",
    "utils.CudaEnvironment.pretty_print_cuda_env_list([cuda_env])\n",
    "device = torch.device('cuda:3' if torch.cuda.is_available() else 'cpu')"
   ],
   "metadata": {
    "collapsed": false,
    "pycharm": {
     "name": "#%%\n"
    }
   }
  },
  {
   "cell_type": "code",
   "execution_count": 130,
   "outputs": [
    {
     "name": "stdout",
     "output_type": "stream",
     "text": [
      "2021-11-13 09:29:47 | INFO | fairseq.tasks.translation | [en] dictionary: 8000 types\n",
      "2021-11-13 09:29:47 | INFO | fairseq.tasks.translation | [zh] dictionary: 8000 types\n"
     ]
    }
   ],
   "source": [
    "# Data Loading\n",
    "\n",
    "## We borrow the TranslationTask from fairseq\n",
    "# used to load the binarized data created above\n",
    "# well-implemented data iterator (dataloader)\n",
    "# built-in task.source_dictionary and task.target_dictionary are also handy\n",
    "# well-implemented beach search decoder\n",
    "\n",
    "from fairseq.tasks.translation import TranslationConfig, TranslationTask\n",
    "\n",
    "## setup task\n",
    "task_cfg = TranslationConfig(\n",
    "    data=config.datadir,\n",
    "    source_lang=config.source_lang,\n",
    "    target_lang=config.target_lang,\n",
    "    train_subset=\"train\",\n",
    "    required_seq_len_multiple=8,\n",
    "    dataset_impl=\"mmap\",\n",
    "    upsample_primary=1,\n",
    ")\n",
    "task = TranslationTask.setup_task(task_cfg)"
   ],
   "metadata": {
    "collapsed": false,
    "pycharm": {
     "name": "#%%\n"
    }
   }
  },
  {
   "cell_type": "code",
   "execution_count": 131,
   "outputs": [
    {
     "name": "stdout",
     "output_type": "stream",
     "text": [
      "2021-11-13 09:29:47 | INFO | hw5.transformer | loading data for epoch 1\n",
      "2021-11-13 09:29:47 | INFO | fairseq.data.data_utils | loaded 390,041 examples from: ./DATA/data-bin/ted2020/train.en-zh.en\n",
      "2021-11-13 09:29:47 | INFO | fairseq.data.data_utils | loaded 390,041 examples from: ./DATA/data-bin/ted2020/train.en-zh.zh\n",
      "2021-11-13 09:29:47 | INFO | fairseq.tasks.translation | ./DATA/data-bin/ted2020 train en-zh 390041 examples\n",
      "2021-11-13 09:29:47 | INFO | fairseq.data.data_utils | loaded 3,939 examples from: ./DATA/data-bin/ted2020/valid.en-zh.en\n",
      "2021-11-13 09:29:47 | INFO | fairseq.data.data_utils | loaded 3,939 examples from: ./DATA/data-bin/ted2020/valid.en-zh.zh\n",
      "2021-11-13 09:29:47 | INFO | fairseq.tasks.translation | ./DATA/data-bin/ted2020 valid en-zh 3939 examples\n"
     ]
    }
   ],
   "source": [
    "\n",
    "logger.info(\"loading data for epoch 1\")\n",
    "task.load_dataset(split=\"train\", epoch=1, combine=True) # combine if you have back-translation data.\n",
    "task.load_dataset(split=\"valid\", epoch=1)"
   ],
   "metadata": {
    "collapsed": false,
    "pycharm": {
     "name": "#%%\n"
    }
   }
  },
  {
   "cell_type": "code",
   "execution_count": 132,
   "outputs": [
    {
     "name": "stdout",
     "output_type": "stream",
     "text": [
      "{'id': 1,\n",
      " 'source': tensor([  18,   14,    6, 2234,   60,   19,   80,    5,  256,   16,  405, 1407,\n",
      "        1706,    7,    2]),\n",
      " 'target': tensor([ 140,  690,   28,  270,   45,  151, 1142,  660,  606,  369, 3114, 2434,\n",
      "        1434,  192,    2])}\n",
      "\"Source: that's exactly what i do optical mind control .\"\n",
      "'Target: 這實在就是我所做的--光學操控思想'\n"
     ]
    }
   ],
   "source": [
    "sample = task.dataset(\"valid\")[1]\n",
    "pprint.pprint(sample)\n",
    "pprint.pprint(\n",
    "    \"Source: \" + \\\n",
    "    task.source_dictionary.string(\n",
    "        sample['source'],\n",
    "        config.post_process,\n",
    "    )\n",
    ")\n",
    "pprint.pprint(\n",
    "    \"Target: \" + \\\n",
    "    task.target_dictionary.string(\n",
    "        sample['target'],\n",
    "        config.post_process,\n",
    "    )\n",
    ")"
   ],
   "metadata": {
    "collapsed": false,
    "pycharm": {
     "name": "#%%\n"
    }
   }
  },
  {
   "cell_type": "code",
   "execution_count": 133,
   "outputs": [
    {
     "name": "stdout",
     "output_type": "stream",
     "text": [
      "2021-11-13 09:29:47 | WARNING | fairseq.tasks.fairseq_task | 2,532 samples have invalid sizes and will be skipped, max_positions=(20, 20), first few sample ids=[29, 135, 2444, 3058, 682, 731, 235, 1558, 3383, 559]\n"
     ]
    },
    {
     "data": {
      "text/plain": "{'id': tensor([723]),\n 'nsentences': 1,\n 'ntokens': 18,\n 'net_input': {'src_tokens': tensor([[   1,    1,    1,    1,    1,   18,   26,   82,    8,  480,   15,  651,\n           1361,   38,    6,  176, 2696,   39,    5,  822,   92,  260,    7,    2]]),\n  'src_lengths': tensor([19]),\n  'prev_output_tokens': tensor([[   2,  140,  296,  318, 1560,   51,  568,  316,  225, 1952,  254,   78,\n            151, 2691,    9,  215, 1680,   10,    1,    1,    1,    1,    1,    1]])},\n 'target': tensor([[ 140,  296,  318, 1560,   51,  568,  316,  225, 1952,  254,   78,  151,\n          2691,    9,  215, 1680,   10,    2,    1,    1,    1,    1,    1,    1]])}"
     },
     "execution_count": 133,
     "metadata": {},
     "output_type": "execute_result"
    }
   ],
   "source": [
    "def load_data_iterator(task, split, epoch=1, max_tokens=4000, num_workers=1, cached=True):\n",
    "    batch_iterator = task.get_batch_iterator(\n",
    "        dataset=task.dataset(split),\n",
    "        max_tokens=max_tokens,\n",
    "        max_sentences=None,\n",
    "        max_positions=utils.resolve_max_positions(\n",
    "            task.max_positions(),\n",
    "            max_tokens,\n",
    "        ),\n",
    "        ignore_invalid_inputs=True,\n",
    "        seed=seed,\n",
    "        num_workers=num_workers,\n",
    "        epoch=epoch,\n",
    "        disable_iterator_cache=not cached,\n",
    "        # Set this to False to speed up. However, if set to False, changing max_tokens beyond\n",
    "        # first call of this method has no effect.\n",
    "    )\n",
    "    return batch_iterator\n",
    "\n",
    "demo_epoch_obj = load_data_iterator(task, \"valid\", epoch=1, max_tokens=20, num_workers=1, cached=False)\n",
    "demo_iter = demo_epoch_obj.next_epoch_itr(shuffle=True)\n",
    "sample = next(demo_iter)\n",
    "sample"
   ],
   "metadata": {
    "collapsed": false,
    "pycharm": {
     "name": "#%%\n"
    }
   }
  },
  {
   "cell_type": "code",
   "execution_count": 134,
   "outputs": [],
   "source": [
    "from fairseq.models import (\n",
    "    FairseqEncoder,\n",
    "    FairseqIncrementalDecoder,\n",
    "    FairseqEncoderDecoderModel\n",
    ")"
   ],
   "metadata": {
    "collapsed": false,
    "pycharm": {
     "name": "#%%\n"
    }
   }
  },
  {
   "cell_type": "code",
   "execution_count": 135,
   "outputs": [],
   "source": [
    "class Seq2Seq(FairseqEncoderDecoderModel):\n",
    "    def __init__(self, args, encoder, decoder):\n",
    "        super().__init__(encoder, decoder)\n",
    "        self.args = args\n",
    "\n",
    "    def forward(\n",
    "        self,\n",
    "        src_tokens,\n",
    "        src_lengths,\n",
    "        prev_output_tokens,\n",
    "        return_all_hiddens: bool = True,\n",
    "    ):\n",
    "        \"\"\"\n",
    "        Run the forward pass for an encoder-decoder model.\n",
    "        \"\"\"\n",
    "        encoder_out = self.encoder(\n",
    "            src_tokens, src_lengths=src_lengths, return_all_hiddens=return_all_hiddens\n",
    "        )\n",
    "        logits, extra = self.decoder(\n",
    "            prev_output_tokens,\n",
    "            encoder_out=encoder_out,\n",
    "            src_lengths=src_lengths,\n",
    "            return_all_hiddens=return_all_hiddens,\n",
    "        )\n",
    "        return logits, extra"
   ],
   "metadata": {
    "collapsed": false,
    "pycharm": {
     "name": "#%%\n"
    }
   }
  },
  {
   "cell_type": "code",
   "execution_count": 136,
   "outputs": [],
   "source": [
    "from fairseq.models.transformer import (\n",
    "    TransformerEncoder,\n",
    "    TransformerDecoder,\n",
    ")\n",
    "def build_model(args, task):\n",
    "    \"\"\" build a model instance based on hyperparameters \"\"\"\n",
    "    src_dict, tgt_dict = task.source_dictionary, task.target_dictionary\n",
    "\n",
    "    # token embeddings\n",
    "    encoder_embed_tokens = nn.Embedding(len(src_dict), args.encoder_embed_dim, src_dict.pad())\n",
    "    decoder_embed_tokens = nn.Embedding(len(tgt_dict), args.decoder_embed_dim, tgt_dict.pad())\n",
    "\n",
    "    # encoder decoder\n",
    "    # HINT: TODO: switch to TransformerEncoder & TransformerDecoder\n",
    "    encoder = TransformerEncoder(args, src_dict, encoder_embed_tokens)\n",
    "    decoder = TransformerDecoder(args, tgt_dict, decoder_embed_tokens)\n",
    "\n",
    "    # sequence to sequence model\n",
    "    model = Seq2Seq(args, encoder, decoder)\n",
    "\n",
    "    # initialization for seq2seq model is important, requires extra handling\n",
    "    def init_params(module):\n",
    "        from fairseq.modules import MultiheadAttention\n",
    "        if isinstance(module, nn.Linear):\n",
    "            module.weight.data.normal_(mean=0.0, std=0.02)\n",
    "            if module.bias is not None:\n",
    "                module.bias.data.zero_()\n",
    "        if isinstance(module, nn.Embedding):\n",
    "            module.weight.data.normal_(mean=0.0, std=0.02)\n",
    "            if module.padding_idx is not None:\n",
    "                module.weight.data[module.padding_idx].zero_()\n",
    "        if isinstance(module, MultiheadAttention):\n",
    "            module.q_proj.weight.data.normal_(mean=0.0, std=0.02)\n",
    "            module.k_proj.weight.data.normal_(mean=0.0, std=0.02)\n",
    "            module.v_proj.weight.data.normal_(mean=0.0, std=0.02)\n",
    "        if isinstance(module, nn.RNNBase):\n",
    "            for name, param in module.named_parameters():\n",
    "                if \"weight\" in name or \"bias\" in name:\n",
    "                    param.data.uniform_(-0.1, 0.1)\n",
    "\n",
    "    # weight initialization\n",
    "    model.apply(init_params)\n",
    "    return model"
   ],
   "metadata": {
    "collapsed": false,
    "pycharm": {
     "name": "#%%\n"
    }
   }
  },
  {
   "cell_type": "code",
   "execution_count": 137,
   "outputs": [],
   "source": [
    "arch_args = Namespace(\n",
    "    encoder_embed_dim=256,\n",
    "    encoder_ffn_embed_dim=512,\n",
    "    encoder_layers=1,\n",
    "    decoder_embed_dim=256,\n",
    "    decoder_ffn_embed_dim=1024,\n",
    "    decoder_layers=1,\n",
    "    share_decoder_input_output_embed=True,\n",
    "    dropout=0.3,\n",
    ")\n",
    "# HINT: these patches on parameters for Transformer\n",
    "def add_transformer_args(args):\n",
    "    args.encoder_attention_heads=4\n",
    "    args.encoder_normalize_before=True\n",
    "    args.encoder_layers = 4\n",
    "\n",
    "    args.decoder_attention_heads=4\n",
    "    args.decoder_normalize_before=True\n",
    "    args.decoder_layers = 4\n",
    "\n",
    "    args.activation_fn=\"relu\"\n",
    "    args.max_source_positions=1024\n",
    "    args.max_target_positions=1024\n",
    "\n",
    "    # patches on default parameters for Transformer (those not set above)\n",
    "    from fairseq.models.transformer import base_architecture\n",
    "    base_architecture(arch_args)\n",
    "\n",
    "add_transformer_args(arch_args)"
   ],
   "metadata": {
    "collapsed": false,
    "pycharm": {
     "name": "#%%\n"
    }
   }
  },
  {
   "cell_type": "code",
   "execution_count": 138,
   "outputs": [],
   "source": [
    "if config.use_wandb:\n",
    "    wandb.config.update(vars(arch_args))"
   ],
   "metadata": {
    "collapsed": false,
    "pycharm": {
     "name": "#%%\n"
    }
   }
  },
  {
   "cell_type": "code",
   "execution_count": 139,
   "outputs": [
    {
     "name": "stdout",
     "output_type": "stream",
     "text": [
      "2021-11-13 09:29:49 | INFO | hw5.transformer | Seq2Seq(\n",
      "  (encoder): TransformerEncoder(\n",
      "    (dropout_module): FairseqDropout()\n",
      "    (embed_tokens): Embedding(8000, 256, padding_idx=1)\n",
      "    (embed_positions): SinusoidalPositionalEmbedding()\n",
      "    (layers): ModuleList(\n",
      "      (0): TransformerEncoderLayer(\n",
      "        (self_attn): MultiheadAttention(\n",
      "          (dropout_module): FairseqDropout()\n",
      "          (k_proj): Linear(in_features=256, out_features=256, bias=True)\n",
      "          (v_proj): Linear(in_features=256, out_features=256, bias=True)\n",
      "          (q_proj): Linear(in_features=256, out_features=256, bias=True)\n",
      "          (out_proj): Linear(in_features=256, out_features=256, bias=True)\n",
      "        )\n",
      "        (self_attn_layer_norm): LayerNorm((256,), eps=1e-05, elementwise_affine=True)\n",
      "        (dropout_module): FairseqDropout()\n",
      "        (activation_dropout_module): FairseqDropout()\n",
      "        (fc1): Linear(in_features=256, out_features=512, bias=True)\n",
      "        (fc2): Linear(in_features=512, out_features=256, bias=True)\n",
      "        (final_layer_norm): LayerNorm((256,), eps=1e-05, elementwise_affine=True)\n",
      "      )\n",
      "      (1): TransformerEncoderLayer(\n",
      "        (self_attn): MultiheadAttention(\n",
      "          (dropout_module): FairseqDropout()\n",
      "          (k_proj): Linear(in_features=256, out_features=256, bias=True)\n",
      "          (v_proj): Linear(in_features=256, out_features=256, bias=True)\n",
      "          (q_proj): Linear(in_features=256, out_features=256, bias=True)\n",
      "          (out_proj): Linear(in_features=256, out_features=256, bias=True)\n",
      "        )\n",
      "        (self_attn_layer_norm): LayerNorm((256,), eps=1e-05, elementwise_affine=True)\n",
      "        (dropout_module): FairseqDropout()\n",
      "        (activation_dropout_module): FairseqDropout()\n",
      "        (fc1): Linear(in_features=256, out_features=512, bias=True)\n",
      "        (fc2): Linear(in_features=512, out_features=256, bias=True)\n",
      "        (final_layer_norm): LayerNorm((256,), eps=1e-05, elementwise_affine=True)\n",
      "      )\n",
      "      (2): TransformerEncoderLayer(\n",
      "        (self_attn): MultiheadAttention(\n",
      "          (dropout_module): FairseqDropout()\n",
      "          (k_proj): Linear(in_features=256, out_features=256, bias=True)\n",
      "          (v_proj): Linear(in_features=256, out_features=256, bias=True)\n",
      "          (q_proj): Linear(in_features=256, out_features=256, bias=True)\n",
      "          (out_proj): Linear(in_features=256, out_features=256, bias=True)\n",
      "        )\n",
      "        (self_attn_layer_norm): LayerNorm((256,), eps=1e-05, elementwise_affine=True)\n",
      "        (dropout_module): FairseqDropout()\n",
      "        (activation_dropout_module): FairseqDropout()\n",
      "        (fc1): Linear(in_features=256, out_features=512, bias=True)\n",
      "        (fc2): Linear(in_features=512, out_features=256, bias=True)\n",
      "        (final_layer_norm): LayerNorm((256,), eps=1e-05, elementwise_affine=True)\n",
      "      )\n",
      "      (3): TransformerEncoderLayer(\n",
      "        (self_attn): MultiheadAttention(\n",
      "          (dropout_module): FairseqDropout()\n",
      "          (k_proj): Linear(in_features=256, out_features=256, bias=True)\n",
      "          (v_proj): Linear(in_features=256, out_features=256, bias=True)\n",
      "          (q_proj): Linear(in_features=256, out_features=256, bias=True)\n",
      "          (out_proj): Linear(in_features=256, out_features=256, bias=True)\n",
      "        )\n",
      "        (self_attn_layer_norm): LayerNorm((256,), eps=1e-05, elementwise_affine=True)\n",
      "        (dropout_module): FairseqDropout()\n",
      "        (activation_dropout_module): FairseqDropout()\n",
      "        (fc1): Linear(in_features=256, out_features=512, bias=True)\n",
      "        (fc2): Linear(in_features=512, out_features=256, bias=True)\n",
      "        (final_layer_norm): LayerNorm((256,), eps=1e-05, elementwise_affine=True)\n",
      "      )\n",
      "    )\n",
      "    (layer_norm): LayerNorm((256,), eps=1e-05, elementwise_affine=True)\n",
      "  )\n",
      "  (decoder): TransformerDecoder(\n",
      "    (dropout_module): FairseqDropout()\n",
      "    (embed_tokens): Embedding(8000, 256, padding_idx=1)\n",
      "    (embed_positions): SinusoidalPositionalEmbedding()\n",
      "    (layers): ModuleList(\n",
      "      (0): TransformerDecoderLayer(\n",
      "        (dropout_module): FairseqDropout()\n",
      "        (self_attn): MultiheadAttention(\n",
      "          (dropout_module): FairseqDropout()\n",
      "          (k_proj): Linear(in_features=256, out_features=256, bias=True)\n",
      "          (v_proj): Linear(in_features=256, out_features=256, bias=True)\n",
      "          (q_proj): Linear(in_features=256, out_features=256, bias=True)\n",
      "          (out_proj): Linear(in_features=256, out_features=256, bias=True)\n",
      "        )\n",
      "        (activation_dropout_module): FairseqDropout()\n",
      "        (self_attn_layer_norm): LayerNorm((256,), eps=1e-05, elementwise_affine=True)\n",
      "        (encoder_attn): MultiheadAttention(\n",
      "          (dropout_module): FairseqDropout()\n",
      "          (k_proj): Linear(in_features=256, out_features=256, bias=True)\n",
      "          (v_proj): Linear(in_features=256, out_features=256, bias=True)\n",
      "          (q_proj): Linear(in_features=256, out_features=256, bias=True)\n",
      "          (out_proj): Linear(in_features=256, out_features=256, bias=True)\n",
      "        )\n",
      "        (encoder_attn_layer_norm): LayerNorm((256,), eps=1e-05, elementwise_affine=True)\n",
      "        (fc1): Linear(in_features=256, out_features=1024, bias=True)\n",
      "        (fc2): Linear(in_features=1024, out_features=256, bias=True)\n",
      "        (final_layer_norm): LayerNorm((256,), eps=1e-05, elementwise_affine=True)\n",
      "      )\n",
      "      (1): TransformerDecoderLayer(\n",
      "        (dropout_module): FairseqDropout()\n",
      "        (self_attn): MultiheadAttention(\n",
      "          (dropout_module): FairseqDropout()\n",
      "          (k_proj): Linear(in_features=256, out_features=256, bias=True)\n",
      "          (v_proj): Linear(in_features=256, out_features=256, bias=True)\n",
      "          (q_proj): Linear(in_features=256, out_features=256, bias=True)\n",
      "          (out_proj): Linear(in_features=256, out_features=256, bias=True)\n",
      "        )\n",
      "        (activation_dropout_module): FairseqDropout()\n",
      "        (self_attn_layer_norm): LayerNorm((256,), eps=1e-05, elementwise_affine=True)\n",
      "        (encoder_attn): MultiheadAttention(\n",
      "          (dropout_module): FairseqDropout()\n",
      "          (k_proj): Linear(in_features=256, out_features=256, bias=True)\n",
      "          (v_proj): Linear(in_features=256, out_features=256, bias=True)\n",
      "          (q_proj): Linear(in_features=256, out_features=256, bias=True)\n",
      "          (out_proj): Linear(in_features=256, out_features=256, bias=True)\n",
      "        )\n",
      "        (encoder_attn_layer_norm): LayerNorm((256,), eps=1e-05, elementwise_affine=True)\n",
      "        (fc1): Linear(in_features=256, out_features=1024, bias=True)\n",
      "        (fc2): Linear(in_features=1024, out_features=256, bias=True)\n",
      "        (final_layer_norm): LayerNorm((256,), eps=1e-05, elementwise_affine=True)\n",
      "      )\n",
      "      (2): TransformerDecoderLayer(\n",
      "        (dropout_module): FairseqDropout()\n",
      "        (self_attn): MultiheadAttention(\n",
      "          (dropout_module): FairseqDropout()\n",
      "          (k_proj): Linear(in_features=256, out_features=256, bias=True)\n",
      "          (v_proj): Linear(in_features=256, out_features=256, bias=True)\n",
      "          (q_proj): Linear(in_features=256, out_features=256, bias=True)\n",
      "          (out_proj): Linear(in_features=256, out_features=256, bias=True)\n",
      "        )\n",
      "        (activation_dropout_module): FairseqDropout()\n",
      "        (self_attn_layer_norm): LayerNorm((256,), eps=1e-05, elementwise_affine=True)\n",
      "        (encoder_attn): MultiheadAttention(\n",
      "          (dropout_module): FairseqDropout()\n",
      "          (k_proj): Linear(in_features=256, out_features=256, bias=True)\n",
      "          (v_proj): Linear(in_features=256, out_features=256, bias=True)\n",
      "          (q_proj): Linear(in_features=256, out_features=256, bias=True)\n",
      "          (out_proj): Linear(in_features=256, out_features=256, bias=True)\n",
      "        )\n",
      "        (encoder_attn_layer_norm): LayerNorm((256,), eps=1e-05, elementwise_affine=True)\n",
      "        (fc1): Linear(in_features=256, out_features=1024, bias=True)\n",
      "        (fc2): Linear(in_features=1024, out_features=256, bias=True)\n",
      "        (final_layer_norm): LayerNorm((256,), eps=1e-05, elementwise_affine=True)\n",
      "      )\n",
      "      (3): TransformerDecoderLayer(\n",
      "        (dropout_module): FairseqDropout()\n",
      "        (self_attn): MultiheadAttention(\n",
      "          (dropout_module): FairseqDropout()\n",
      "          (k_proj): Linear(in_features=256, out_features=256, bias=True)\n",
      "          (v_proj): Linear(in_features=256, out_features=256, bias=True)\n",
      "          (q_proj): Linear(in_features=256, out_features=256, bias=True)\n",
      "          (out_proj): Linear(in_features=256, out_features=256, bias=True)\n",
      "        )\n",
      "        (activation_dropout_module): FairseqDropout()\n",
      "        (self_attn_layer_norm): LayerNorm((256,), eps=1e-05, elementwise_affine=True)\n",
      "        (encoder_attn): MultiheadAttention(\n",
      "          (dropout_module): FairseqDropout()\n",
      "          (k_proj): Linear(in_features=256, out_features=256, bias=True)\n",
      "          (v_proj): Linear(in_features=256, out_features=256, bias=True)\n",
      "          (q_proj): Linear(in_features=256, out_features=256, bias=True)\n",
      "          (out_proj): Linear(in_features=256, out_features=256, bias=True)\n",
      "        )\n",
      "        (encoder_attn_layer_norm): LayerNorm((256,), eps=1e-05, elementwise_affine=True)\n",
      "        (fc1): Linear(in_features=256, out_features=1024, bias=True)\n",
      "        (fc2): Linear(in_features=1024, out_features=256, bias=True)\n",
      "        (final_layer_norm): LayerNorm((256,), eps=1e-05, elementwise_affine=True)\n",
      "      )\n",
      "    )\n",
      "    (layer_norm): LayerNorm((256,), eps=1e-05, elementwise_affine=True)\n",
      "    (output_projection): Linear(in_features=256, out_features=8000, bias=False)\n",
      "  )\n",
      ")\n"
     ]
    }
   ],
   "source": [
    "model = build_model(arch_args, task)\n",
    "logger.info(model)"
   ],
   "metadata": {
    "collapsed": false,
    "pycharm": {
     "name": "#%%\n"
    }
   }
  },
  {
   "cell_type": "code",
   "execution_count": 140,
   "outputs": [],
   "source": [
    "class LabelSmoothedCrossEntropyCriterion(nn.Module):\n",
    "    def __init__(self, smoothing, ignore_index=None, reduce=True):\n",
    "        super().__init__()\n",
    "        self.smoothing = smoothing\n",
    "        self.ignore_index = ignore_index\n",
    "        self.reduce = reduce\n",
    "\n",
    "    def forward(self, lprobs, target):\n",
    "        if target.dim() == lprobs.dim() - 1:\n",
    "            target = target.unsqueeze(-1)\n",
    "        # nll: Negative log likelihood，當目標是one-hot時的cross-entropy loss. 以下同 F.nll_loss\n",
    "        nll_loss = -lprobs.gather(dim=-1, index=target)\n",
    "        # 將一部分正確答案的機率分配給其他label 所以當計算cross-entropy時等於把所有label的log prob加起來\n",
    "        smooth_loss = -lprobs.sum(dim=-1, keepdim=True)\n",
    "        if self.ignore_index is not None:\n",
    "            pad_mask = target.eq(self.ignore_index)\n",
    "            nll_loss.masked_fill_(pad_mask, 0.0)\n",
    "            smooth_loss.masked_fill_(pad_mask, 0.0)\n",
    "        else:\n",
    "            nll_loss = nll_loss.squeeze(-1)\n",
    "            smooth_loss = smooth_loss.squeeze(-1)\n",
    "        if self.reduce:\n",
    "            nll_loss = nll_loss.sum()\n",
    "            smooth_loss = smooth_loss.sum()\n",
    "        # 計算cross-entropy時 加入分配給其他label的loss\n",
    "        eps_i = self.smoothing / lprobs.size(-1)\n",
    "        loss = (1.0 - self.smoothing) * nll_loss + eps_i * smooth_loss\n",
    "        return loss\n",
    "\n",
    "# 一般都用0.1效果就很好了\n",
    "criterion = LabelSmoothedCrossEntropyCriterion(\n",
    "    smoothing=0.1,\n",
    "    ignore_index=task.target_dictionary.pad(),\n",
    ")"
   ],
   "metadata": {
    "collapsed": false,
    "pycharm": {
     "name": "#%%\n"
    }
   }
  },
  {
   "cell_type": "code",
   "execution_count": 141,
   "outputs": [],
   "source": [
    "class NoamOpt:\n",
    "    \"Optim wrapper that implements rate.\"\n",
    "    def __init__(self, model_size, factor, warmup, optimizer):\n",
    "        self.optimizer = optimizer\n",
    "        self._step = 0\n",
    "        self.warmup = warmup\n",
    "        self.factor = factor\n",
    "        self.model_size = model_size\n",
    "        self._rate = 0\n",
    "\n",
    "    @property\n",
    "    def param_groups(self):\n",
    "        return self.optimizer.param_groups\n",
    "\n",
    "    def multiply_grads(self, c):\n",
    "        \"\"\"Multiplies grads by a constant *c*.\"\"\"\n",
    "        for group in self.param_groups:\n",
    "            for p in group['params']:\n",
    "                if p.grad is not None:\n",
    "                    p.grad.data.mul_(c)\n",
    "\n",
    "    def step(self):\n",
    "        \"Update parameters and rate\"\n",
    "        self._step += 1\n",
    "        rate = self.rate()\n",
    "        for p in self.param_groups:\n",
    "            p['lr'] = rate\n",
    "        self._rate = rate\n",
    "        self.optimizer.step()\n",
    "\n",
    "    def rate(self, step = None):\n",
    "        \"Implement `lrate` above\"\n",
    "        if step is None:\n",
    "            step = self._step\n",
    "        return 0 if not step else self.factor * \\\n",
    "            (self.model_size ** (-0.5) *\n",
    "            min(step ** (-0.5), step * self.warmup ** (-1.5)))"
   ],
   "metadata": {
    "collapsed": false,
    "pycharm": {
     "name": "#%%\n"
    }
   }
  },
  {
   "cell_type": "code",
   "execution_count": 142,
   "outputs": [
    {
     "data": {
      "text/plain": "<Figure size 432x288 with 1 Axes>",
      "image/png": "[encoded data removed]"
     },
     "metadata": {
      "needs_background": "light"
     },
     "output_type": "display_data"
    }
   ],
   "source": [
    "optimizer = NoamOpt(\n",
    "    model_size=arch_args.encoder_embed_dim,\n",
    "    factor=config.lr_factor,\n",
    "    warmup=config.lr_warmup,\n",
    "    optimizer=torch.optim.AdamW(model.parameters(), lr=0, betas=(0.9, 0.98), eps=1e-9, weight_decay=0.0001))\n",
    "plt.plot(np.arange(1, 100000), [optimizer.rate(i) for i in range(1, 100000)])\n",
    "plt.legend([f\"{optimizer.model_size}:{optimizer.warmup}\"])\n",
    "None"
   ],
   "metadata": {
    "collapsed": false,
    "pycharm": {
     "name": "#%%\n"
    }
   }
  },
  {
   "cell_type": "code",
   "execution_count": 143,
   "outputs": [],
   "source": [
    "from fairseq.data import iterators\n",
    "from torch.cuda.amp import GradScaler, autocast\n",
    "\n",
    "def train_one_epoch(epoch_itr, model, task, criterion, optimizer, accum_steps=1):\n",
    "    itr = epoch_itr.next_epoch_itr(shuffle=True)\n",
    "    itr = iterators.GroupedIterator(itr, accum_steps) # 梯度累積: 每 accum_steps 個 sample 更新一次\n",
    "\n",
    "    stats = {\"loss\": []}\n",
    "    scaler = GradScaler() # 混和精度訓練 automatic mixed precision (amp)\n",
    "\n",
    "    model.train()\n",
    "    progress = tqdm.tqdm(itr, desc=f\"train epoch {epoch_itr.epoch}\", leave=False)\n",
    "    for samples in progress:\n",
    "        model.zero_grad()\n",
    "        accum_loss = 0\n",
    "        sample_size = 0\n",
    "        # 梯度累積: 每 accum_steps 個 sample 更新一次\n",
    "        for i, sample in enumerate(samples):\n",
    "            if i == 1:\n",
    "                # emptying the CUDA cache after the first step can reduce the chance of OOM\n",
    "                torch.cuda.empty_cache()\n",
    "\n",
    "            sample = utils.move_to_cuda(sample, device=device)\n",
    "            target = sample[\"target\"]\n",
    "            sample_size_i = sample[\"ntokens\"]\n",
    "            sample_size += sample_size_i\n",
    "\n",
    "            # 混和精度訓練\n",
    "            with autocast():\n",
    "                net_output = model.forward(**sample[\"net_input\"])\n",
    "                lprobs = F.log_softmax(net_output[0], -1)\n",
    "                loss = criterion(lprobs.view(-1, lprobs.size(-1)), target.view(-1))\n",
    "\n",
    "                # logging\n",
    "                accum_loss += loss.item()\n",
    "                # back-prop\n",
    "                scaler.scale(loss).backward()\n",
    "\n",
    "        scaler.unscale_(optimizer)\n",
    "        optimizer.multiply_grads(1 / (sample_size or 1.0)) # (sample_size or 1.0) handles the case of a zero gradient\n",
    "        gnorm = nn.utils.clip_grad_norm_(model.parameters(), config.clip_norm) # 梯度裁剪 防止梯度爆炸\n",
    "\n",
    "        scaler.step(optimizer)\n",
    "        scaler.update()\n",
    "\n",
    "        # logging\n",
    "        loss_print = accum_loss/sample_size\n",
    "        stats[\"loss\"].append(loss_print)\n",
    "        progress.set_postfix(loss=loss_print)\n",
    "        if config.use_wandb:\n",
    "            wandb.log({\n",
    "                \"train/loss\": loss_print,\n",
    "                \"train/grad_norm\": gnorm.item(),\n",
    "                \"train/lr\": optimizer.rate(),\n",
    "                \"train/sample_size\": sample_size,\n",
    "            })\n",
    "\n",
    "    loss_print = np.mean(stats[\"loss\"])\n",
    "    logger.info(f\"training loss: {loss_print:.4f}\")\n",
    "    return stats"
   ],
   "metadata": {
    "collapsed": false,
    "pycharm": {
     "name": "#%%\n"
    }
   }
  },
  {
   "cell_type": "code",
   "execution_count": 144,
   "outputs": [],
   "source": [
    "# fairseq 的 beam search generator\n",
    "# 給定模型和輸入序列，用 beam search 生成翻譯結果\n",
    "sequence_generator = task.build_generator([model], config)\n",
    "\n",
    "def decode(toks, dictionary):\n",
    "    # 從 Tensor 轉成人看得懂的句子\n",
    "    s = dictionary.string(\n",
    "        toks.int().cpu(),\n",
    "        config.post_process,\n",
    "    )\n",
    "    return s if s else \"<unk>\"\n",
    "\n",
    "def inference_step(sample, model):\n",
    "    gen_out = sequence_generator.generate([model], sample)\n",
    "    srcs = []\n",
    "    hyps = []\n",
    "    refs = []\n",
    "    for i in range(len(gen_out)):\n",
    "        # 對於每個 sample, 收集輸入，輸出和參考答案，稍後計算 BLEU\n",
    "        srcs.append(decode(\n",
    "            utils.strip_pad(sample[\"net_input\"][\"src_tokens\"][i], task.source_dictionary.pad()),\n",
    "            task.source_dictionary,\n",
    "        ))\n",
    "        hyps.append(decode(\n",
    "            gen_out[i][0][\"tokens\"], # 0 代表取出 beam 內分數第一的輸出結果\n",
    "            task.target_dictionary,\n",
    "        ))\n",
    "        refs.append(decode(\n",
    "            utils.strip_pad(sample[\"target\"][i], task.target_dictionary.pad()),\n",
    "            task.target_dictionary,\n",
    "        ))\n",
    "    return srcs, hyps, refs"
   ],
   "metadata": {
    "collapsed": false,
    "pycharm": {
     "name": "#%%\n"
    }
   }
  },
  {
   "cell_type": "code",
   "execution_count": 145,
   "outputs": [],
   "source": [
    "import shutil\n",
    "import sacrebleu\n",
    "\n",
    "def validate(model, task, criterion, log_to_wandb=True):\n",
    "    logger.info('begin validation')\n",
    "    itr = load_data_iterator(task, \"valid\", 1, config.max_tokens, config.num_workers).next_epoch_itr(shuffle=False)\n",
    "\n",
    "    stats = {\"loss\":[], \"bleu\": 0, \"srcs\":[], \"hyps\":[], \"refs\":[]}\n",
    "    srcs = []\n",
    "    hyps = []\n",
    "    refs = []\n",
    "\n",
    "    model.eval()\n",
    "    progress = tqdm.tqdm(itr, desc=f\"validation\", leave=False)\n",
    "    with torch.no_grad():\n",
    "        for i, sample in enumerate(progress):\n",
    "            # validation loss\n",
    "            sample = utils.move_to_cuda(sample, device=device)\n",
    "            net_output = model.forward(**sample[\"net_input\"])\n",
    "\n",
    "            lprobs = F.log_softmax(net_output[0], -1)\n",
    "            target = sample[\"target\"]\n",
    "            sample_size = sample[\"ntokens\"]\n",
    "            loss = criterion(lprobs.view(-1, lprobs.size(-1)), target.view(-1)) / sample_size\n",
    "            progress.set_postfix(valid_loss=loss.item())\n",
    "            stats[\"loss\"].append(loss)\n",
    "\n",
    "            # 進行推論\n",
    "            s, h, r = inference_step(sample, model)\n",
    "            srcs.extend(s)\n",
    "            hyps.extend(h)\n",
    "            refs.extend(r)\n",
    "\n",
    "    tok = 'zh' if task.cfg.target_lang == 'zh' else '13a'\n",
    "    stats[\"loss\"] = torch.stack(stats[\"loss\"]).mean().item()\n",
    "    stats[\"bleu\"] = sacrebleu.corpus_bleu(hyps, [refs], tokenize=tok) # 計算BLEU score\n",
    "    stats[\"srcs\"] = srcs\n",
    "    stats[\"hyps\"] = hyps\n",
    "    stats[\"refs\"] = refs\n",
    "\n",
    "    if config.use_wandb and log_to_wandb:\n",
    "        wandb.log({\n",
    "            \"valid/loss\": stats[\"loss\"],\n",
    "            \"valid/bleu\": stats[\"bleu\"].score,\n",
    "        }, commit=False)\n",
    "\n",
    "    showid = np.random.randint(len(hyps))\n",
    "    logger.info(\"example source: \" + srcs[showid])\n",
    "    logger.info(\"example hypothesis: \" + hyps[showid])\n",
    "    logger.info(\"example reference: \" + refs[showid])\n",
    "\n",
    "    # show bleu results\n",
    "    logger.info(f\"validation loss:\\t{stats['loss']:.4f}\")\n",
    "    logger.info(stats[\"bleu\"].format())\n",
    "    return stats"
   ],
   "metadata": {
    "collapsed": false,
    "pycharm": {
     "name": "#%%\n"
    }
   }
  },
  {
   "cell_type": "code",
   "execution_count": 146,
   "outputs": [],
   "source": [
    "def validate_and_save(model, task, criterion, optimizer, epoch, save=True):\n",
    "    stats = validate(model, task, criterion)\n",
    "    bleu = stats['bleu']\n",
    "    loss = stats['loss']\n",
    "    if save:\n",
    "        # save epoch checkpoints\n",
    "        savedir = Path(config.savedir).absolute()\n",
    "        savedir.mkdir(parents=True, exist_ok=True)\n",
    "\n",
    "        check = {\n",
    "            \"model\": model.state_dict(),\n",
    "            \"stats\": {\"bleu\": bleu.score, \"loss\": loss},\n",
    "            \"optim\": {\"step\": optimizer._step}\n",
    "        }\n",
    "        torch.save(check, savedir/f\"_transformer_checkpoint{epoch}.pt\")\n",
    "        shutil.copy(savedir/f\"_transformer_checkpoint{epoch}.pt\", savedir/f\"_transformer_checkpoint_last.pt\")\n",
    "        logger.info(f\"saved epoch checkpoint: {savedir}/_transformer_checkpoint{epoch}.pt\")\n",
    "\n",
    "        # save epoch samples\n",
    "        with open(savedir/f\"samples{epoch}.{config.source_lang}-{config.target_lang}.txt\", \"w\") as f:\n",
    "            for s, h in zip(stats[\"srcs\"], stats[\"hyps\"]):\n",
    "                f.write(f\"{s}\\t{h}\\n\")\n",
    "\n",
    "        # get best valid bleu\n",
    "        if getattr(validate_and_save, \"best_bleu\", 0) < bleu.score:\n",
    "            validate_and_save.best_bleu = bleu.score\n",
    "            torch.save(check, savedir/f\"_transformer_checkpoint_best.pt\")\n",
    "\n",
    "        del_file = savedir / f\"_transformer_checkpoint{epoch - config.keep_last_epochs}.pt\"\n",
    "        if del_file.exists():\n",
    "            del_file.unlink()\n",
    "\n",
    "    return stats\n",
    "\n",
    "def try_load_checkpoint(model, optimizer=None, name=None):\n",
    "    name = name if name else \"_transformer_checkpoint_last.pt\"\n",
    "    checkpath = Path(config.savedir)/name\n",
    "    if checkpath.exists():\n",
    "        check = torch.load(checkpath)\n",
    "        model.load_state_dict(check[\"model\"])\n",
    "        stats = check[\"stats\"]\n",
    "        step = \"unknown\"\n",
    "        if optimizer != None:\n",
    "            optimizer._step = step = check[\"optim\"][\"step\"]\n",
    "        logger.info(f\"loaded checkpoint {checkpath}: step={step} loss={stats['loss']} bleu={stats['bleu']}\")\n",
    "    else:\n",
    "        logger.info(f\"no checkpoints found at {checkpath}!\")"
   ],
   "metadata": {
    "collapsed": false,
    "pycharm": {
     "name": "#%%\n"
    }
   }
  },
  {
   "cell_type": "code",
   "execution_count": 147,
   "outputs": [],
   "source": [
    "model = model.to(device=device)\n",
    "criterion = criterion.to(device=device)"
   ],
   "metadata": {
    "collapsed": false,
    "pycharm": {
     "name": "#%%\n"
    }
   }
  },
  {
   "cell_type": "code",
   "execution_count": 148,
   "outputs": [
    {
     "name": "stdout",
     "output_type": "stream",
     "text": [
      "2021-11-13 09:29:50 | INFO | hw5.transformer | task: TranslationTask\n",
      "2021-11-13 09:29:50 | INFO | hw5.transformer | encoder: TransformerEncoder\n",
      "2021-11-13 09:29:50 | INFO | hw5.transformer | decoder: TransformerDecoder\n",
      "2021-11-13 09:29:50 | INFO | hw5.transformer | criterion: LabelSmoothedCrossEntropyCriterion\n",
      "2021-11-13 09:29:50 | INFO | hw5.transformer | optimizer: NoamOpt\n",
      "2021-11-13 09:29:50 | INFO | hw5.transformer | num. model params: 10,419,200 (num. trained: 10,419,200)\n",
      "2021-11-13 09:29:50 | INFO | hw5.transformer | max tokens per batch = 8192, accumulate steps = 2\n"
     ]
    }
   ],
   "source": [
    "logger.info(\"task: {}\".format(task.__class__.__name__))\n",
    "logger.info(\"encoder: {}\".format(model.encoder.__class__.__name__))\n",
    "logger.info(\"decoder: {}\".format(model.decoder.__class__.__name__))\n",
    "logger.info(\"criterion: {}\".format(criterion.__class__.__name__))\n",
    "logger.info(\"optimizer: {}\".format(optimizer.__class__.__name__))\n",
    "logger.info(\n",
    "    \"num. model params: {:,} (num. trained: {:,})\".format(\n",
    "        sum(p.numel() for p in model.parameters()),\n",
    "        sum(p.numel() for p in model.parameters() if p.requires_grad),\n",
    "    )\n",
    ")\n",
    "logger.info(f\"max tokens per batch = {config.max_tokens}, accumulate steps = {config.accum_steps}\")"
   ],
   "metadata": {
    "collapsed": false,
    "pycharm": {
     "name": "#%%\n"
    }
   }
  },
  {
   "cell_type": "code",
   "execution_count": 149,
   "outputs": [
    {
     "name": "stdout",
     "output_type": "stream",
     "text": [
      "2021-11-13 09:29:50 | WARNING | fairseq.tasks.fairseq_task | 1 samples have invalid sizes and will be skipped, max_positions=(1024, 1024), first few sample ids=[326674]\n",
      "2021-11-13 09:29:50 | INFO | hw5.transformer | loaded checkpoint checkpoints/rnn/_transformer_checkpoint_last.pt: step=23395 loss=3.5280888080596924 bleu=22.900005908979022\n"
     ]
    },
    {
     "data": {
      "text/plain": "HBox(children=(HTML(value='train epoch 1'), FloatProgress(value=0.0, max=791.0), HTML(value='')))",
      "application/vnd.jupyter.widget-view+json": {
       "version_major": 2,
       "version_minor": 0,
       "model_id": "45f0668ce70e41599cb6df6f1ba7e1fc"
      }
     },
     "metadata": {},
     "output_type": "display_data"
    },
    {
     "name": "stderr",
     "output_type": "stream",
     "text": [
      "Exception ignored in: Exception ignored in: <function _MultiProcessingDataLoaderIter.__del__ at 0x7fc8297941f0><function _MultiProcessingDataLoaderIter.__del__ at 0x7fc8297941f0>\n",
      "\n",
      "Traceback (most recent call last):\n",
      "Traceback (most recent call last):\n",
      "  File \"/home/wy/anaconda3/lib/python3.8/site-packages/torch/utils/data/dataloader.py\", line 1324, in __del__\n",
      "  File \"/home/wy/anaconda3/lib/python3.8/site-packages/torch/utils/data/dataloader.py\", line 1324, in __del__\n",
      "        self._shutdown_workers()self._shutdown_workers()\n",
      "\n",
      "  File \"/home/wy/anaconda3/lib/python3.8/site-packages/torch/utils/data/dataloader.py\", line 1316, in _shutdown_workers\n",
      "      File \"/home/wy/anaconda3/lib/python3.8/site-packages/torch/utils/data/dataloader.py\", line 1316, in _shutdown_workers\n",
      "if w.is_alive():    \n",
      "if w.is_alive():  File \"/home/wy/anaconda3/lib/python3.8/multiprocessing/process.py\", line 160, in is_alive\n",
      "\n",
      "  File \"/home/wy/anaconda3/lib/python3.8/multiprocessing/process.py\", line 160, in is_alive\n",
      "        assert self._parent_pid == os.getpid(), 'can only test a child process'assert self._parent_pid == os.getpid(), 'can only test a child process'\n",
      "\n",
      "AssertionErrorAssertionError: : can only test a child processcan only test a child process\n",
      "\n"
     ]
    },
    {
     "name": "stdout",
     "output_type": "stream",
     "text": [
      "2021-11-13 09:31:55 | INFO | hw5.transformer | training loss: 3.6142\n",
      "2021-11-13 09:31:55 | INFO | hw5.transformer | begin validation\n"
     ]
    },
    {
     "data": {
      "text/plain": "HBox(children=(HTML(value='validation'), FloatProgress(value=0.0, max=22.0), HTML(value='')))",
      "application/vnd.jupyter.widget-view+json": {
       "version_major": 2,
       "version_minor": 0,
       "model_id": "e18ffee565574c0d89c2ca681660aa90"
      }
     },
     "metadata": {},
     "output_type": "display_data"
    },
    {
     "name": "stderr",
     "output_type": "stream",
     "text": [
      "Exception ignored in: <function _MultiProcessingDataLoaderIter.__del__ at 0x7fc8297941f0>\n",
      "Traceback (most recent call last):\n",
      "  File \"/home/wy/anaconda3/lib/python3.8/site-packages/torch/utils/data/dataloader.py\", line 1324, in __del__\n",
      "    self._shutdown_workers()\n",
      "  File \"/home/wy/anaconda3/lib/python3.8/site-packages/torch/utils/data/dataloader.py\", line 1316, in _shutdown_workers\n",
      "    if w.is_alive():\n",
      "  File \"/home/wy/anaconda3/lib/python3.8/multiprocessing/process.py\", line 160, in is_alive\n",
      "    assert self._parent_pid == os.getpid(), 'can only test a child process'\n",
      "AssertionError: can only test a child process\n"
     ]
    },
    {
     "name": "stdout",
     "output_type": "stream",
     "text": [
      "2021-11-13 09:32:14 | INFO | hw5.transformer | example source: but the point is , it doesn't feel that way .\n",
      "2021-11-13 09:32:14 | INFO | hw5.transformer | example hypothesis: 但重點是 , 感覺並不那樣 。\n",
      "2021-11-13 09:32:14 | INFO | hw5.transformer | example reference: 但重點是 , 感覺起來卻不是那麼回事呀\n",
      "2021-11-13 09:32:14 | INFO | hw5.transformer | validation loss:\t3.5326\n",
      "2021-11-13 09:32:14 | INFO | hw5.transformer | BLEU = 23.00 58.5/32.4/18.8/11.4 (BP = 0.910 ratio = 0.914 hyp_len = 102154 ref_len = 111811)\n",
      "2021-11-13 09:32:14 | INFO | hw5.transformer | saved epoch checkpoint: /home/wy/ML_study/chapter5/checkpoints/rnn/_transformer_checkpoint1.pt\n",
      "2021-11-13 09:32:15 | INFO | hw5.transformer | end of epoch 1\n"
     ]
    },
    {
     "data": {
      "text/plain": "HBox(children=(HTML(value='train epoch 2'), FloatProgress(value=0.0, max=791.0), HTML(value='')))",
      "application/vnd.jupyter.widget-view+json": {
       "version_major": 2,
       "version_minor": 0,
       "model_id": "2528cc40faf24a658da26ba9d3492dfe"
      }
     },
     "metadata": {},
     "output_type": "display_data"
    },
    {
     "name": "stdout",
     "output_type": "stream",
     "text": [
      "2021-11-13 09:34:22 | INFO | hw5.transformer | training loss: 3.6068\n",
      "2021-11-13 09:34:22 | INFO | hw5.transformer | begin validation\n"
     ]
    },
    {
     "data": {
      "text/plain": "HBox(children=(HTML(value='validation'), FloatProgress(value=0.0, max=22.0), HTML(value='')))",
      "application/vnd.jupyter.widget-view+json": {
       "version_major": 2,
       "version_minor": 0,
       "model_id": "1bdcfb248966478da6e7d3c41832622c"
      }
     },
     "metadata": {},
     "output_type": "display_data"
    },
    {
     "name": "stdout",
     "output_type": "stream",
     "text": [
      "2021-11-13 09:34:40 | INFO | hw5.transformer | example source: we can push through that .\n",
      "2021-11-13 09:34:40 | INFO | hw5.transformer | example hypothesis: 我們可以這樣推動 。\n",
      "2021-11-13 09:34:40 | INFO | hw5.transformer | example reference: 我們可以衝破這些限制 。\n",
      "2021-11-13 09:34:40 | INFO | hw5.transformer | validation loss:\t3.5299\n",
      "2021-11-13 09:34:40 | INFO | hw5.transformer | BLEU = 22.91 58.6/32.5/18.8/11.4 (BP = 0.907 ratio = 0.911 hyp_len = 101840 ref_len = 111811)\n",
      "2021-11-13 09:34:40 | INFO | hw5.transformer | saved epoch checkpoint: /home/wy/ML_study/chapter5/checkpoints/rnn/_transformer_checkpoint2.pt\n",
      "2021-11-13 09:34:40 | INFO | hw5.transformer | end of epoch 2\n"
     ]
    },
    {
     "data": {
      "text/plain": "HBox(children=(HTML(value='train epoch 3'), FloatProgress(value=0.0, max=791.0), HTML(value='')))",
      "application/vnd.jupyter.widget-view+json": {
       "version_major": 2,
       "version_minor": 0,
       "model_id": "9674a617d5ba40109ef0de3f741a6862"
      }
     },
     "metadata": {},
     "output_type": "display_data"
    },
    {
     "name": "stdout",
     "output_type": "stream",
     "text": [
      "2021-11-13 09:36:45 | INFO | hw5.transformer | training loss: 3.6033\n",
      "2021-11-13 09:36:45 | INFO | hw5.transformer | begin validation\n"
     ]
    },
    {
     "data": {
      "text/plain": "HBox(children=(HTML(value='validation'), FloatProgress(value=0.0, max=22.0), HTML(value='')))",
      "application/vnd.jupyter.widget-view+json": {
       "version_major": 2,
       "version_minor": 0,
       "model_id": "4e8425116225453889921c1e613a8c35"
      }
     },
     "metadata": {},
     "output_type": "display_data"
    },
    {
     "name": "stdout",
     "output_type": "stream",
     "text": [
      "2021-11-13 09:37:04 | INFO | hw5.transformer | example source: thank you .\n",
      "2021-11-13 09:37:04 | INFO | hw5.transformer | example hypothesis: 謝謝 。\n",
      "2021-11-13 09:37:04 | INFO | hw5.transformer | example reference: 謝謝 。\n",
      "2021-11-13 09:37:04 | INFO | hw5.transformer | validation loss:\t3.5198\n",
      "2021-11-13 09:37:04 | INFO | hw5.transformer | BLEU = 23.11 57.8/31.9/18.4/11.1 (BP = 0.932 ratio = 0.934 hyp_len = 104476 ref_len = 111811)\n",
      "2021-11-13 09:37:04 | INFO | hw5.transformer | saved epoch checkpoint: /home/wy/ML_study/chapter5/checkpoints/rnn/_transformer_checkpoint3.pt\n",
      "2021-11-13 09:37:05 | INFO | hw5.transformer | end of epoch 3\n"
     ]
    },
    {
     "data": {
      "text/plain": "HBox(children=(HTML(value='train epoch 4'), FloatProgress(value=0.0, max=791.0), HTML(value='')))",
      "application/vnd.jupyter.widget-view+json": {
       "version_major": 2,
       "version_minor": 0,
       "model_id": "3605774c1dc14fecb425ec88387dfe55"
      }
     },
     "metadata": {},
     "output_type": "display_data"
    },
    {
     "name": "stdout",
     "output_type": "stream",
     "text": [
      "2021-11-13 09:39:11 | INFO | hw5.transformer | training loss: 3.5970\n",
      "2021-11-13 09:39:11 | INFO | hw5.transformer | begin validation\n"
     ]
    },
    {
     "data": {
      "text/plain": "HBox(children=(HTML(value='validation'), FloatProgress(value=0.0, max=22.0), HTML(value='')))",
      "application/vnd.jupyter.widget-view+json": {
       "version_major": 2,
       "version_minor": 0,
       "model_id": "c9f31cc565b04031b7360a600970d2af"
      }
     },
     "metadata": {},
     "output_type": "display_data"
    },
    {
     "name": "stdout",
     "output_type": "stream",
     "text": [
      "2021-11-13 09:39:31 | INFO | hw5.transformer | example source: those men would eventually be convicted of placing a van filled with 1 , 500 pounds of explosives into the sublevel parking lot of the world trade center's north tower , causing an explosion that killed six people and injured over 1 , 000 others .\n",
      "2021-11-13 09:39:31 | INFO | hw5.transformer | example hypothesis: 這些人最終會被定罪 , 把一台車裝滿了一千五百磅的爆炸 , 進入了世界各地的貿易中心 , 造成六個人的爆炸 , 傷害了超過一千人 。\n",
      "2021-11-13 09:39:31 | INFO | hw5.transformer | example reference: 這群男人最終被指控將滿載1500磅重的炸彈的廂式貨車停在世界貿易中心北塔的地下停車場 , 爆炸造成6人死亡 , 同時致使超過1000人受傷 。\n",
      "2021-11-13 09:39:31 | INFO | hw5.transformer | validation loss:\t3.5161\n",
      "2021-11-13 09:39:31 | INFO | hw5.transformer | BLEU = 23.26 57.7/31.8/18.4/11.2 (BP = 0.938 ratio = 0.940 hyp_len = 105111 ref_len = 111811)\n",
      "2021-11-13 09:39:31 | INFO | hw5.transformer | saved epoch checkpoint: /home/wy/ML_study/chapter5/checkpoints/rnn/_transformer_checkpoint4.pt\n",
      "2021-11-13 09:39:32 | INFO | hw5.transformer | end of epoch 4\n"
     ]
    },
    {
     "data": {
      "text/plain": "HBox(children=(HTML(value='train epoch 5'), FloatProgress(value=0.0, max=791.0), HTML(value='')))",
      "application/vnd.jupyter.widget-view+json": {
       "version_major": 2,
       "version_minor": 0,
       "model_id": "dc4d8266cfb04c6d8d5ac713bb75014b"
      }
     },
     "metadata": {},
     "output_type": "display_data"
    },
    {
     "name": "stdout",
     "output_type": "stream",
     "text": [
      "2021-11-13 09:41:38 | INFO | hw5.transformer | training loss: 3.5878\n",
      "2021-11-13 09:41:38 | INFO | hw5.transformer | begin validation\n"
     ]
    },
    {
     "data": {
      "text/plain": "HBox(children=(HTML(value='validation'), FloatProgress(value=0.0, max=22.0), HTML(value='')))",
      "application/vnd.jupyter.widget-view+json": {
       "version_major": 2,
       "version_minor": 0,
       "model_id": "4898ada556ca4f628e86a2ea43cb372f"
      }
     },
     "metadata": {},
     "output_type": "display_data"
    },
    {
     "name": "stdout",
     "output_type": "stream",
     "text": [
      "2021-11-13 09:41:57 | INFO | hw5.transformer | example source: but this is really how i go about creating these photographs .\n",
      "2021-11-13 09:41:57 | INFO | hw5.transformer | example hypothesis: 但這真的是我要如何創造這些照片 。\n",
      "2021-11-13 09:41:57 | INFO | hw5.transformer | example reference: 但是我真的是這樣做出這些相片的 。\n",
      "2021-11-13 09:41:57 | INFO | hw5.transformer | validation loss:\t3.5150\n",
      "2021-11-13 09:41:57 | INFO | hw5.transformer | BLEU = 23.52 57.1/31.4/18.2/11.0 (BP = 0.960 ratio = 0.961 hyp_len = 107459 ref_len = 111811)\n",
      "2021-11-13 09:41:58 | INFO | hw5.transformer | saved epoch checkpoint: /home/wy/ML_study/chapter5/checkpoints/rnn/_transformer_checkpoint5.pt\n",
      "2021-11-13 09:41:58 | INFO | hw5.transformer | end of epoch 5\n"
     ]
    },
    {
     "data": {
      "text/plain": "HBox(children=(HTML(value='train epoch 6'), FloatProgress(value=0.0, max=791.0), HTML(value='')))",
      "application/vnd.jupyter.widget-view+json": {
       "version_major": 2,
       "version_minor": 0,
       "model_id": "ff3452b935bd481d9a770c04b602612e"
      }
     },
     "metadata": {},
     "output_type": "display_data"
    },
    {
     "name": "stdout",
     "output_type": "stream",
     "text": [
      "2021-11-13 09:44:06 | INFO | hw5.transformer | training loss: 3.5832\n",
      "2021-11-13 09:44:06 | INFO | hw5.transformer | begin validation\n"
     ]
    },
    {
     "data": {
      "text/plain": "HBox(children=(HTML(value='validation'), FloatProgress(value=0.0, max=22.0), HTML(value='')))",
      "application/vnd.jupyter.widget-view+json": {
       "version_major": 2,
       "version_minor": 0,
       "model_id": "e70421ebeb9540d6a643e00291745434"
      }
     },
     "metadata": {},
     "output_type": "display_data"
    },
    {
     "name": "stdout",
     "output_type": "stream",
     "text": [
      "2021-11-13 09:44:25 | INFO | hw5.transformer | example source: so that is a fact .\n",
      "2021-11-13 09:44:25 | INFO | hw5.transformer | example hypothesis: 這是事實 。\n",
      "2021-11-13 09:44:25 | INFO | hw5.transformer | example reference: 這就是事實\n",
      "2021-11-13 09:44:25 | INFO | hw5.transformer | validation loss:\t3.5094\n",
      "2021-11-13 09:44:25 | INFO | hw5.transformer | BLEU = 23.29 58.3/32.3/18.8/11.4 (BP = 0.924 ratio = 0.927 hyp_len = 103672 ref_len = 111811)\n",
      "2021-11-13 09:44:25 | INFO | hw5.transformer | saved epoch checkpoint: /home/wy/ML_study/chapter5/checkpoints/rnn/_transformer_checkpoint6.pt\n",
      "2021-11-13 09:44:25 | INFO | hw5.transformer | end of epoch 6\n"
     ]
    },
    {
     "data": {
      "text/plain": "HBox(children=(HTML(value='train epoch 7'), FloatProgress(value=0.0, max=791.0), HTML(value='')))",
      "application/vnd.jupyter.widget-view+json": {
       "version_major": 2,
       "version_minor": 0,
       "model_id": "de75b57330df4c9a9ff4f13abc890487"
      }
     },
     "metadata": {},
     "output_type": "display_data"
    },
    {
     "name": "stdout",
     "output_type": "stream",
     "text": [
      "2021-11-13 09:46:35 | INFO | hw5.transformer | training loss: 3.5792\n",
      "2021-11-13 09:46:35 | INFO | hw5.transformer | begin validation\n"
     ]
    },
    {
     "data": {
      "text/plain": "HBox(children=(HTML(value='validation'), FloatProgress(value=0.0, max=22.0), HTML(value='')))",
      "application/vnd.jupyter.widget-view+json": {
       "version_major": 2,
       "version_minor": 0,
       "model_id": "308f5b8528ff4375ba9cc44161dd67b6"
      }
     },
     "metadata": {},
     "output_type": "display_data"
    },
    {
     "name": "stdout",
     "output_type": "stream",
     "text": [
      "2021-11-13 09:46:54 | INFO | hw5.transformer | example source: thank you so much everyone .\n",
      "2021-11-13 09:46:54 | INFO | hw5.transformer | example hypothesis: 謝謝大家\n",
      "2021-11-13 09:46:54 | INFO | hw5.transformer | example reference: 謝謝大家 !\n",
      "2021-11-13 09:46:54 | INFO | hw5.transformer | validation loss:\t3.5077\n",
      "2021-11-13 09:46:54 | INFO | hw5.transformer | BLEU = 23.06 58.8/32.7/19.1/11.7 (BP = 0.902 ratio = 0.906 hyp_len = 101317 ref_len = 111811)\n",
      "2021-11-13 09:46:54 | INFO | hw5.transformer | saved epoch checkpoint: /home/wy/ML_study/chapter5/checkpoints/rnn/_transformer_checkpoint7.pt\n",
      "2021-11-13 09:46:54 | INFO | hw5.transformer | end of epoch 7\n"
     ]
    },
    {
     "data": {
      "text/plain": "HBox(children=(HTML(value='train epoch 8'), FloatProgress(value=0.0, max=791.0), HTML(value='')))",
      "application/vnd.jupyter.widget-view+json": {
       "version_major": 2,
       "version_minor": 0,
       "model_id": "5d76d47a081e4a23bb79af7fc8b899b6"
      }
     },
     "metadata": {},
     "output_type": "display_data"
    },
    {
     "name": "stdout",
     "output_type": "stream",
     "text": [
      "2021-11-13 09:49:03 | INFO | hw5.transformer | training loss: 3.5739\n",
      "2021-11-13 09:49:03 | INFO | hw5.transformer | begin validation\n"
     ]
    },
    {
     "data": {
      "text/plain": "HBox(children=(HTML(value='validation'), FloatProgress(value=0.0, max=22.0), HTML(value='')))",
      "application/vnd.jupyter.widget-view+json": {
       "version_major": 2,
       "version_minor": 0,
       "model_id": "8b64cff8145d42ddbe9ca1e441face85"
      }
     },
     "metadata": {},
     "output_type": "display_data"
    },
    {
     "name": "stdout",
     "output_type": "stream",
     "text": [
      "2021-11-13 09:49:22 | INFO | hw5.transformer | example source: these differences became a source of inspired artistic celebration .\n",
      "2021-11-13 09:49:22 | INFO | hw5.transformer | example hypothesis: 這些差異變成了啟發藝術的來源 。\n",
      "2021-11-13 09:49:22 | INFO | hw5.transformer | example reference: 這些差異變成了一個源頭 , 富有靈感之藝術讚頌的源頭 。\n",
      "2021-11-13 09:49:22 | INFO | hw5.transformer | validation loss:\t3.4994\n",
      "2021-11-13 09:49:22 | INFO | hw5.transformer | BLEU = 23.08 58.7/32.6/19.0/11.6 (BP = 0.907 ratio = 0.911 hyp_len = 101827 ref_len = 111811)\n",
      "2021-11-13 09:49:22 | INFO | hw5.transformer | saved epoch checkpoint: /home/wy/ML_study/chapter5/checkpoints/rnn/_transformer_checkpoint8.pt\n",
      "2021-11-13 09:49:22 | INFO | hw5.transformer | end of epoch 8\n"
     ]
    },
    {
     "data": {
      "text/plain": "HBox(children=(HTML(value='train epoch 9'), FloatProgress(value=0.0, max=791.0), HTML(value='')))",
      "application/vnd.jupyter.widget-view+json": {
       "version_major": 2,
       "version_minor": 0,
       "model_id": "9cd8ef633013481795537232f7ae13f0"
      }
     },
     "metadata": {},
     "output_type": "display_data"
    },
    {
     "name": "stdout",
     "output_type": "stream",
     "text": [
      "2021-11-13 09:51:32 | INFO | hw5.transformer | training loss: 3.5693\n",
      "2021-11-13 09:51:32 | INFO | hw5.transformer | begin validation\n"
     ]
    },
    {
     "data": {
      "text/plain": "HBox(children=(HTML(value='validation'), FloatProgress(value=0.0, max=22.0), HTML(value='')))",
      "application/vnd.jupyter.widget-view+json": {
       "version_major": 2,
       "version_minor": 0,
       "model_id": "eedbaab53ee448a2b0081e316e79f4ce"
      }
     },
     "metadata": {},
     "output_type": "display_data"
    },
    {
     "name": "stdout",
     "output_type": "stream",
     "text": [
      "2021-11-13 09:51:52 | INFO | hw5.transformer | example source: it's not .\n",
      "2021-11-13 09:51:52 | INFO | hw5.transformer | example hypothesis: 不是 。\n",
      "2021-11-13 09:51:52 | INFO | hw5.transformer | example reference: 不是\n",
      "2021-11-13 09:51:52 | INFO | hw5.transformer | validation loss:\t3.5039\n",
      "2021-11-13 09:51:52 | INFO | hw5.transformer | BLEU = 23.74 56.6/31.2/18.1/11.0 (BP = 0.976 ratio = 0.976 hyp_len = 109125 ref_len = 111811)\n",
      "2021-11-13 09:51:52 | INFO | hw5.transformer | saved epoch checkpoint: /home/wy/ML_study/chapter5/checkpoints/rnn/_transformer_checkpoint9.pt\n",
      "2021-11-13 09:51:52 | INFO | hw5.transformer | end of epoch 9\n"
     ]
    },
    {
     "data": {
      "text/plain": "HBox(children=(HTML(value='train epoch 10'), FloatProgress(value=0.0, max=791.0), HTML(value='')))",
      "application/vnd.jupyter.widget-view+json": {
       "version_major": 2,
       "version_minor": 0,
       "model_id": "7eb51493d55949ab9cae6add26dbdbab"
      }
     },
     "metadata": {},
     "output_type": "display_data"
    },
    {
     "name": "stdout",
     "output_type": "stream",
     "text": [
      "2021-11-13 09:54:01 | INFO | hw5.transformer | training loss: 3.5650\n",
      "2021-11-13 09:54:01 | INFO | hw5.transformer | begin validation\n"
     ]
    },
    {
     "data": {
      "text/plain": "HBox(children=(HTML(value='validation'), FloatProgress(value=0.0, max=22.0), HTML(value='')))",
      "application/vnd.jupyter.widget-view+json": {
       "version_major": 2,
       "version_minor": 0,
       "model_id": "18017090ffc14caeb633782a3c9f0d9d"
      }
     },
     "metadata": {},
     "output_type": "display_data"
    },
    {
     "name": "stdout",
     "output_type": "stream",
     "text": [
      "2021-11-13 09:54:19 | INFO | hw5.transformer | example source: so think about when you have friends , families and coworkers in california , on the west coast or in other parts of the world .\n",
      "2021-11-13 09:54:19 | INFO | hw5.transformer | example hypothesis: 想想看 , 當你有朋友、家人和加州的同事 , 在西岸或世界其他地方 。\n",
      "2021-11-13 09:54:19 | INFO | hw5.transformer | example reference: 所以 , 想像當你嘗試聯繫在加州 , 在西海岸或者在世界的另一面\n",
      "2021-11-13 09:54:19 | INFO | hw5.transformer | validation loss:\t3.4980\n",
      "2021-11-13 09:54:19 | INFO | hw5.transformer | BLEU = 22.98 58.9/32.6/18.9/11.5 (BP = 0.903 ratio = 0.907 hyp_len = 101457 ref_len = 111811)\n",
      "2021-11-13 09:54:19 | INFO | hw5.transformer | saved epoch checkpoint: /home/wy/ML_study/chapter5/checkpoints/rnn/_transformer_checkpoint10.pt\n",
      "2021-11-13 09:54:19 | INFO | hw5.transformer | end of epoch 10\n"
     ]
    },
    {
     "data": {
      "text/plain": "HBox(children=(HTML(value='train epoch 11'), FloatProgress(value=0.0, max=791.0), HTML(value='')))",
      "application/vnd.jupyter.widget-view+json": {
       "version_major": 2,
       "version_minor": 0,
       "model_id": "c36c59fe317c4e79a5168295e6a40f7d"
      }
     },
     "metadata": {},
     "output_type": "display_data"
    },
    {
     "name": "stdout",
     "output_type": "stream",
     "text": [
      "2021-11-13 09:56:29 | INFO | hw5.transformer | training loss: 3.5609\n",
      "2021-11-13 09:56:29 | INFO | hw5.transformer | begin validation\n"
     ]
    },
    {
     "data": {
      "text/plain": "HBox(children=(HTML(value='validation'), FloatProgress(value=0.0, max=22.0), HTML(value='')))",
      "application/vnd.jupyter.widget-view+json": {
       "version_major": 2,
       "version_minor": 0,
       "model_id": "2f7ae14e5c3b478886c4480056fc91bd"
      }
     },
     "metadata": {},
     "output_type": "display_data"
    },
    {
     "name": "stdout",
     "output_type": "stream",
     "text": [
      "2021-11-13 09:56:48 | INFO | hw5.transformer | example source: and i was asked to move out because one of my roommates had shared my status with her parents .\n",
      "2021-11-13 09:56:48 | INFO | hw5.transformer | example hypothesis: 我被要求搬出去 , 因為我的其中一位室友和她的父母分享我的地位 。\n",
      "2021-11-13 09:56:48 | INFO | hw5.transformer | example reference: 我會被要求搬出去 , 是因為其中一名室友和她的父母談了我的狀況 。\n",
      "2021-11-13 09:56:48 | INFO | hw5.transformer | validation loss:\t3.4988\n",
      "2021-11-13 09:56:48 | INFO | hw5.transformer | BLEU = 23.45 58.3/32.3/18.8/11.5 (BP = 0.928 ratio = 0.931 hyp_len = 104053 ref_len = 111811)\n",
      "2021-11-13 09:56:48 | INFO | hw5.transformer | saved epoch checkpoint: /home/wy/ML_study/chapter5/checkpoints/rnn/_transformer_checkpoint11.pt\n",
      "2021-11-13 09:56:48 | INFO | hw5.transformer | end of epoch 11\n"
     ]
    },
    {
     "data": {
      "text/plain": "HBox(children=(HTML(value='train epoch 12'), FloatProgress(value=0.0, max=791.0), HTML(value='')))",
      "application/vnd.jupyter.widget-view+json": {
       "version_major": 2,
       "version_minor": 0,
       "model_id": "03c7c55fccc9403d82320f58b57bcf8f"
      }
     },
     "metadata": {},
     "output_type": "display_data"
    },
    {
     "name": "stdout",
     "output_type": "stream",
     "text": [
      "2021-11-13 09:58:59 | INFO | hw5.transformer | training loss: 3.5585\n",
      "2021-11-13 09:58:59 | INFO | hw5.transformer | begin validation\n"
     ]
    },
    {
     "data": {
      "text/plain": "HBox(children=(HTML(value='validation'), FloatProgress(value=0.0, max=22.0), HTML(value='')))",
      "application/vnd.jupyter.widget-view+json": {
       "version_major": 2,
       "version_minor": 0,
       "model_id": "9cb0d97a8e2d448ca231598286e463b5"
      }
     },
     "metadata": {},
     "output_type": "display_data"
    },
    {
     "name": "stdout",
     "output_type": "stream",
     "text": [
      "2021-11-13 09:59:18 | INFO | hw5.transformer | example source: and i want to share with you a quick video from our facility that gives you a sense of how this looks at scale .\n",
      "2021-11-13 09:59:18 | INFO | hw5.transformer | example hypothesis: 我想和各位分享一段影片 , 來自我們的設備 , 可以讓你了解它的規模 。\n",
      "2021-11-13 09:59:18 | INFO | hw5.transformer | example reference: 我想與你們快速分享一段關於我們設備的影片可以瞭解一下它的規模\n",
      "2021-11-13 09:59:18 | INFO | hw5.transformer | validation loss:\t3.4889\n",
      "2021-11-13 09:59:18 | INFO | hw5.transformer | BLEU = 23.41 58.3/32.4/18.8/11.5 (BP = 0.926 ratio = 0.928 hyp_len = 103801 ref_len = 111811)\n",
      "2021-11-13 09:59:18 | INFO | hw5.transformer | saved epoch checkpoint: /home/wy/ML_study/chapter5/checkpoints/rnn/_transformer_checkpoint12.pt\n",
      "2021-11-13 09:59:18 | INFO | hw5.transformer | end of epoch 12\n"
     ]
    },
    {
     "data": {
      "text/plain": "HBox(children=(HTML(value='train epoch 13'), FloatProgress(value=0.0, max=791.0), HTML(value='')))",
      "application/vnd.jupyter.widget-view+json": {
       "version_major": 2,
       "version_minor": 0,
       "model_id": "d93486f5c85a4e42822b63c1c059b1d0"
      }
     },
     "metadata": {},
     "output_type": "display_data"
    },
    {
     "name": "stdout",
     "output_type": "stream",
     "text": [
      "2021-11-13 10:01:27 | INFO | hw5.transformer | training loss: 3.5550\n",
      "2021-11-13 10:01:27 | INFO | hw5.transformer | begin validation\n"
     ]
    },
    {
     "data": {
      "text/plain": "HBox(children=(HTML(value='validation'), FloatProgress(value=0.0, max=22.0), HTML(value='')))",
      "application/vnd.jupyter.widget-view+json": {
       "version_major": 2,
       "version_minor": 0,
       "model_id": "d23535898a4c4e8280df772fdd83e6c4"
      }
     },
     "metadata": {},
     "output_type": "display_data"
    },
    {
     "name": "stdout",
     "output_type": "stream",
     "text": [
      "2021-11-13 10:01:44 | INFO | hw5.transformer | example source: it's a distinction perhaps we might make between two nobel laureates , richard feynman and john nash .\n",
      "2021-11-13 10:01:44 | INFO | hw5.transformer | example hypothesis: 或許我們可能在兩個諾貝爾獎得主、理查德.費曼和約翰納許許許許之間產生區別 。\n",
      "2021-11-13 10:01:44 | INFO | hw5.transformer | example reference: 我們或許可以從兩位諾貝爾獎得主 , 理查費曼和約翰奈許之間看出這樣的差異 。\n",
      "2021-11-13 10:01:44 | INFO | hw5.transformer | validation loss:\t3.5005\n",
      "2021-11-13 10:01:44 | INFO | hw5.transformer | BLEU = 23.26 58.8/32.6/18.9/11.5 (BP = 0.913 ratio = 0.917 hyp_len = 102533 ref_len = 111811)\n",
      "2021-11-13 10:01:45 | INFO | hw5.transformer | saved epoch checkpoint: /home/wy/ML_study/chapter5/checkpoints/rnn/_transformer_checkpoint13.pt\n",
      "2021-11-13 10:01:45 | INFO | hw5.transformer | end of epoch 13\n"
     ]
    },
    {
     "data": {
      "text/plain": "HBox(children=(HTML(value='train epoch 14'), FloatProgress(value=0.0, max=791.0), HTML(value='')))",
      "application/vnd.jupyter.widget-view+json": {
       "version_major": 2,
       "version_minor": 0,
       "model_id": "bf5a5363e3e845279b1cf7a25c795ca7"
      }
     },
     "metadata": {},
     "output_type": "display_data"
    },
    {
     "name": "stdout",
     "output_type": "stream",
     "text": [
      "2021-11-13 10:03:55 | INFO | hw5.transformer | training loss: 3.5524\n",
      "2021-11-13 10:03:55 | INFO | hw5.transformer | begin validation\n"
     ]
    },
    {
     "data": {
      "text/plain": "HBox(children=(HTML(value='validation'), FloatProgress(value=0.0, max=22.0), HTML(value='')))",
      "application/vnd.jupyter.widget-view+json": {
       "version_major": 2,
       "version_minor": 0,
       "model_id": "09dd768d914b4c80a348362789d96aaa"
      }
     },
     "metadata": {},
     "output_type": "display_data"
    },
    {
     "name": "stdout",
     "output_type": "stream",
     "text": [
      "2021-11-13 10:04:14 | INFO | hw5.transformer | example source: and therein lie the words of wisdom of a young girl whose brief life forever impacted mine .\n",
      "2021-11-13 10:04:14 | INFO | hw5.transformer | example hypothesis: 這裡有一位年輕女孩的智慧字眼 , 他的短暫生命永遠影響著我 。\n",
      "2021-11-13 10:04:14 | INFO | hw5.transformer | example reference: 她說的話對我有很大啟發 。 這一個年幼女孩短暫的一生永遠影響著我 。\n",
      "2021-11-13 10:04:14 | INFO | hw5.transformer | validation loss:\t3.4885\n",
      "2021-11-13 10:04:14 | INFO | hw5.transformer | BLEU = 23.08 59.2/33.0/19.2/11.7 (BP = 0.897 ratio = 0.902 hyp_len = 100855 ref_len = 111811)\n",
      "2021-11-13 10:04:14 | INFO | hw5.transformer | saved epoch checkpoint: /home/wy/ML_study/chapter5/checkpoints/rnn/_transformer_checkpoint14.pt\n",
      "2021-11-13 10:04:14 | INFO | hw5.transformer | end of epoch 14\n"
     ]
    },
    {
     "data": {
      "text/plain": "HBox(children=(HTML(value='train epoch 15'), FloatProgress(value=0.0, max=791.0), HTML(value='')))",
      "application/vnd.jupyter.widget-view+json": {
       "version_major": 2,
       "version_minor": 0,
       "model_id": "7e468e69700f40a8a62995a06a5d2c70"
      }
     },
     "metadata": {},
     "output_type": "display_data"
    },
    {
     "name": "stdout",
     "output_type": "stream",
     "text": [
      "2021-11-13 10:06:24 | INFO | hw5.transformer | training loss: 3.5524\n",
      "2021-11-13 10:06:24 | INFO | hw5.transformer | begin validation\n"
     ]
    },
    {
     "data": {
      "text/plain": "HBox(children=(HTML(value='validation'), FloatProgress(value=0.0, max=22.0), HTML(value='')))",
      "application/vnd.jupyter.widget-view+json": {
       "version_major": 2,
       "version_minor": 0,
       "model_id": "8f67b76191d44808bb6acae3b314b712"
      }
     },
     "metadata": {},
     "output_type": "display_data"
    },
    {
     "name": "stdout",
     "output_type": "stream",
     "text": [
      "2021-11-13 10:06:42 | INFO | hw5.transformer | example source: and we've started making curtains , and not only is it beautiful , but people can see status that you care about your children .\n",
      "2021-11-13 10:06:42 | INFO | hw5.transformer | example hypothesis: 我們開始製作曲線 , 不僅是美麗 , 還可以看到你的孩子的地位 。\n",
      "2021-11-13 10:06:42 | INFO | hw5.transformer | example reference: 我們也開始生産窗簾不止因爲窗簾看起來漂亮 , 人們也可以看到你的地位看得出你很關心小孩\n",
      "2021-11-13 10:06:42 | INFO | hw5.transformer | validation loss:\t3.4889\n",
      "2021-11-13 10:06:42 | INFO | hw5.transformer | BLEU = 23.01 59.3/33.1/19.3/11.8 (BP = 0.890 ratio = 0.895 hyp_len = 100109 ref_len = 111811)\n",
      "2021-11-13 10:06:42 | INFO | hw5.transformer | saved epoch checkpoint: /home/wy/ML_study/chapter5/checkpoints/rnn/_transformer_checkpoint15.pt\n",
      "2021-11-13 10:06:42 | INFO | hw5.transformer | end of epoch 15\n"
     ]
    },
    {
     "data": {
      "text/plain": "HBox(children=(HTML(value='train epoch 16'), FloatProgress(value=0.0, max=791.0), HTML(value='')))",
      "application/vnd.jupyter.widget-view+json": {
       "version_major": 2,
       "version_minor": 0,
       "model_id": "8255910544f4463d96d2d1657cd263e1"
      }
     },
     "metadata": {},
     "output_type": "display_data"
    },
    {
     "name": "stdout",
     "output_type": "stream",
     "text": [
      "2021-11-13 10:08:51 | INFO | hw5.transformer | training loss: 3.5453\n",
      "2021-11-13 10:08:51 | INFO | hw5.transformer | begin validation\n"
     ]
    },
    {
     "data": {
      "text/plain": "HBox(children=(HTML(value='validation'), FloatProgress(value=0.0, max=22.0), HTML(value='')))",
      "application/vnd.jupyter.widget-view+json": {
       "version_major": 2,
       "version_minor": 0,
       "model_id": "8f7c6506fe144ee5a3ba6537bffd1176"
      }
     },
     "metadata": {},
     "output_type": "display_data"
    },
    {
     "name": "stdout",
     "output_type": "stream",
     "text": [
      "2021-11-13 10:09:09 | INFO | hw5.transformer | example source: now , i'm not suggesting we want to raise our babies in our stomach , but i am suggesting it's possible we might want to manage gastric secretion in the gut .\n",
      "2021-11-13 10:09:09 | INFO | hw5.transformer | example hypothesis: 我並不是建議我們想要在胃裡養育嬰兒 , 但我建議 , 我們可能想在腸子裡管理氣體分泌 。\n",
      "2021-11-13 10:09:09 | INFO | hw5.transformer | example reference: 我並不是說要把嬰兒養在胃裡而是我們可能可以了解胃在內臟裡的分泌物\n",
      "2021-11-13 10:09:09 | INFO | hw5.transformer | validation loss:\t3.4905\n",
      "2021-11-13 10:09:09 | INFO | hw5.transformer | BLEU = 23.55 58.1/32.3/18.7/11.4 (BP = 0.937 ratio = 0.939 hyp_len = 104968 ref_len = 111811)\n",
      "2021-11-13 10:09:09 | INFO | hw5.transformer | saved epoch checkpoint: /home/wy/ML_study/chapter5/checkpoints/rnn/_transformer_checkpoint16.pt\n",
      "2021-11-13 10:09:09 | INFO | hw5.transformer | end of epoch 16\n"
     ]
    },
    {
     "data": {
      "text/plain": "HBox(children=(HTML(value='train epoch 17'), FloatProgress(value=0.0, max=791.0), HTML(value='')))",
      "application/vnd.jupyter.widget-view+json": {
       "version_major": 2,
       "version_minor": 0,
       "model_id": "70a985d1b68c42918d4fbfb94a98c0db"
      }
     },
     "metadata": {},
     "output_type": "display_data"
    },
    {
     "name": "stdout",
     "output_type": "stream",
     "text": [
      "2021-11-13 10:11:20 | INFO | hw5.transformer | training loss: 3.5447\n",
      "2021-11-13 10:11:20 | INFO | hw5.transformer | begin validation\n"
     ]
    },
    {
     "data": {
      "text/plain": "HBox(children=(HTML(value='validation'), FloatProgress(value=0.0, max=22.0), HTML(value='')))",
      "application/vnd.jupyter.widget-view+json": {
       "version_major": 2,
       "version_minor": 0,
       "model_id": "9e386a81b1e74ace82575315e0cc0d83"
      }
     },
     "metadata": {},
     "output_type": "display_data"
    },
    {
     "name": "stdout",
     "output_type": "stream",
     "text": [
      "2021-11-13 10:11:39 | INFO | hw5.transformer | example source: so we're hoping that's what they'll do .\n",
      "2021-11-13 10:11:39 | INFO | hw5.transformer | example hypothesis: 所以 , 我們希望他們會這樣做 。\n",
      "2021-11-13 10:11:39 | INFO | hw5.transformer | example reference: 所以 , 我們希望它們能夠幫忙 。\n",
      "2021-11-13 10:11:39 | INFO | hw5.transformer | validation loss:\t3.4799\n",
      "2021-11-13 10:11:39 | INFO | hw5.transformer | BLEU = 23.68 58.3/32.5/19.0/11.6 (BP = 0.931 ratio = 0.934 hyp_len = 104400 ref_len = 111811)\n",
      "2021-11-13 10:11:39 | INFO | hw5.transformer | saved epoch checkpoint: /home/wy/ML_study/chapter5/checkpoints/rnn/_transformer_checkpoint17.pt\n",
      "2021-11-13 10:11:39 | INFO | hw5.transformer | end of epoch 17\n"
     ]
    },
    {
     "data": {
      "text/plain": "HBox(children=(HTML(value='train epoch 18'), FloatProgress(value=0.0, max=791.0), HTML(value='')))",
      "application/vnd.jupyter.widget-view+json": {
       "version_major": 2,
       "version_minor": 0,
       "model_id": "4c9312517a4d45f2bf121ddb1e8a3047"
      }
     },
     "metadata": {},
     "output_type": "display_data"
    },
    {
     "name": "stdout",
     "output_type": "stream",
     "text": [
      "2021-11-13 10:13:49 | INFO | hw5.transformer | training loss: 3.5404\n",
      "2021-11-13 10:13:49 | INFO | hw5.transformer | begin validation\n"
     ]
    },
    {
     "data": {
      "text/plain": "HBox(children=(HTML(value='validation'), FloatProgress(value=0.0, max=22.0), HTML(value='')))",
      "application/vnd.jupyter.widget-view+json": {
       "version_major": 2,
       "version_minor": 0,
       "model_id": "ceef8196664c477b822def937f0e0570"
      }
     },
     "metadata": {},
     "output_type": "display_data"
    },
    {
     "name": "stdout",
     "output_type": "stream",
     "text": [
      "2021-11-13 10:14:09 | INFO | hw5.transformer | example source: i remember so vividly that day .\n",
      "2021-11-13 10:14:09 | INFO | hw5.transformer | example hypothesis: 我記得那天很活躍 。\n",
      "2021-11-13 10:14:09 | INFO | hw5.transformer | example reference: 我對那一天還記憶猶新 。\n",
      "2021-11-13 10:14:09 | INFO | hw5.transformer | validation loss:\t3.4826\n",
      "2021-11-13 10:14:09 | INFO | hw5.transformer | BLEU = 23.48 58.1/32.3/18.8/11.4 (BP = 0.932 ratio = 0.934 hyp_len = 104411 ref_len = 111811)\n",
      "2021-11-13 10:14:09 | INFO | hw5.transformer | saved epoch checkpoint: /home/wy/ML_study/chapter5/checkpoints/rnn/_transformer_checkpoint18.pt\n",
      "2021-11-13 10:14:09 | INFO | hw5.transformer | end of epoch 18\n"
     ]
    },
    {
     "data": {
      "text/plain": "HBox(children=(HTML(value='train epoch 19'), FloatProgress(value=0.0, max=791.0), HTML(value='')))",
      "application/vnd.jupyter.widget-view+json": {
       "version_major": 2,
       "version_minor": 0,
       "model_id": "b4d5fc1dc8ea4779b9d65392779ad2d7"
      }
     },
     "metadata": {},
     "output_type": "display_data"
    },
    {
     "name": "stdout",
     "output_type": "stream",
     "text": [
      "2021-11-13 10:16:20 | INFO | hw5.transformer | training loss: 3.5372\n",
      "2021-11-13 10:16:20 | INFO | hw5.transformer | begin validation\n"
     ]
    },
    {
     "data": {
      "text/plain": "HBox(children=(HTML(value='validation'), FloatProgress(value=0.0, max=22.0), HTML(value='')))",
      "application/vnd.jupyter.widget-view+json": {
       "version_major": 2,
       "version_minor": 0,
       "model_id": "51b8fb50677048528773632624e45f39"
      }
     },
     "metadata": {},
     "output_type": "display_data"
    },
    {
     "name": "stdout",
     "output_type": "stream",
     "text": [
      "2021-11-13 10:16:39 | INFO | hw5.transformer | example source: the next step is to make compliant toes , and try to add spines and claws and set it for dry adhesives .\n",
      "2021-11-13 10:16:39 | INFO | hw5.transformer | example hypothesis: 下一步是要製造複雜的腳趾 , 試著加上脊椎、爪子 , 並為乾燥的黏土設置 。\n",
      "2021-11-13 10:16:39 | INFO | hw5.transformer | example reference: 下一步是要製造順從聽話的腳趾頭 。 然後加上刺和爪子 , 再加上乾膠 。\n",
      "2021-11-13 10:16:39 | INFO | hw5.transformer | validation loss:\t3.4824\n",
      "2021-11-13 10:16:39 | INFO | hw5.transformer | BLEU = 23.85 57.9/32.2/18.7/11.5 (BP = 0.948 ratio = 0.949 hyp_len = 106152 ref_len = 111811)\n",
      "2021-11-13 10:16:39 | INFO | hw5.transformer | saved epoch checkpoint: /home/wy/ML_study/chapter5/checkpoints/rnn/_transformer_checkpoint19.pt\n",
      "2021-11-13 10:16:40 | INFO | hw5.transformer | end of epoch 19\n"
     ]
    },
    {
     "data": {
      "text/plain": "HBox(children=(HTML(value='train epoch 20'), FloatProgress(value=0.0, max=791.0), HTML(value='')))",
      "application/vnd.jupyter.widget-view+json": {
       "version_major": 2,
       "version_minor": 0,
       "model_id": "2be4567f956f4462ae10a7c060571298"
      }
     },
     "metadata": {},
     "output_type": "display_data"
    },
    {
     "name": "stdout",
     "output_type": "stream",
     "text": [
      "2021-11-13 10:18:51 | INFO | hw5.transformer | training loss: 3.5338\n",
      "2021-11-13 10:18:51 | INFO | hw5.transformer | begin validation\n"
     ]
    },
    {
     "data": {
      "text/plain": "HBox(children=(HTML(value='validation'), FloatProgress(value=0.0, max=22.0), HTML(value='')))",
      "application/vnd.jupyter.widget-view+json": {
       "version_major": 2,
       "version_minor": 0,
       "model_id": "c93af4d8def644e8acfd697989f4ad23"
      }
     },
     "metadata": {},
     "output_type": "display_data"
    },
    {
     "name": "stdout",
     "output_type": "stream",
     "text": [
      "2021-11-13 10:19:10 | INFO | hw5.transformer | example source: and got the cord off of the baby's neck , and a healthy screaming , kicking baby arrived , just as the dad ran in from the parking lot , \" hi , you have a son , i'm dr . darria .\n",
      "2021-11-13 10:19:10 | INFO | hw5.transformer | example hypothesis: 拿到嬰兒脖子的角落 , 健康的尖叫 , 凱克·貝到來 , 就像爸爸從停車場跑來的一樣 , 「 嗨 , 你有兒子 , 我是達里亞博士 。\n",
      "2021-11-13 10:19:10 | INFO | hw5.transformer | example reference: 我把臍帶從嬰兒的脖子繞開 , 接著 , 一個健康哭鬧的嬰兒誕生了 。 同時 , 他的父親剛從停車場趕來 。 「 你好 , 是一個男孩 。 我是達里亞醫生 。\n",
      "2021-11-13 10:19:10 | INFO | hw5.transformer | validation loss:\t3.4801\n",
      "2021-11-13 10:19:10 | INFO | hw5.transformer | BLEU = 23.68 58.6/32.7/19.0/11.7 (BP = 0.927 ratio = 0.929 hyp_len = 103914 ref_len = 111811)\n",
      "2021-11-13 10:19:10 | INFO | hw5.transformer | saved epoch checkpoint: /home/wy/ML_study/chapter5/checkpoints/rnn/_transformer_checkpoint20.pt\n",
      "2021-11-13 10:19:10 | INFO | hw5.transformer | end of epoch 20\n"
     ]
    },
    {
     "data": {
      "text/plain": "HBox(children=(HTML(value='train epoch 21'), FloatProgress(value=0.0, max=791.0), HTML(value='')))",
      "application/vnd.jupyter.widget-view+json": {
       "version_major": 2,
       "version_minor": 0,
       "model_id": "e9726369ad5f4af09f57fcf772dab2fd"
      }
     },
     "metadata": {},
     "output_type": "display_data"
    },
    {
     "name": "stdout",
     "output_type": "stream",
     "text": [
      "2021-11-13 10:21:20 | INFO | hw5.transformer | training loss: 3.5349\n",
      "2021-11-13 10:21:20 | INFO | hw5.transformer | begin validation\n"
     ]
    },
    {
     "data": {
      "text/plain": "HBox(children=(HTML(value='validation'), FloatProgress(value=0.0, max=22.0), HTML(value='')))",
      "application/vnd.jupyter.widget-view+json": {
       "version_major": 2,
       "version_minor": 0,
       "model_id": "a11ef99cb1ee475293782d310e869cab"
      }
     },
     "metadata": {},
     "output_type": "display_data"
    },
    {
     "name": "stdout",
     "output_type": "stream",
     "text": [
      "2021-11-13 10:21:39 | INFO | hw5.transformer | example source: no , but the issue of city building in democracy is interesting because it creates chaos , right ?\n",
      "2021-11-13 10:21:39 | INFO | hw5.transformer | example hypothesis: 不 , 但民主的城市建築問題很有趣 , 因為它創造混亂 , 對吧 ?\n",
      "2021-11-13 10:21:39 | INFO | hw5.transformer | example reference: 不 , 但民主的城市建設很有趣 , 因為會造成混亂 , 是嗎 ?\n",
      "2021-11-13 10:21:39 | INFO | hw5.transformer | validation loss:\t3.4756\n",
      "2021-11-13 10:21:39 | INFO | hw5.transformer | BLEU = 23.76 58.3/32.5/19.0/11.6 (BP = 0.934 ratio = 0.936 hyp_len = 104686 ref_len = 111811)\n",
      "2021-11-13 10:21:39 | INFO | hw5.transformer | saved epoch checkpoint: /home/wy/ML_study/chapter5/checkpoints/rnn/_transformer_checkpoint21.pt\n",
      "2021-11-13 10:21:39 | INFO | hw5.transformer | end of epoch 21\n"
     ]
    },
    {
     "data": {
      "text/plain": "HBox(children=(HTML(value='train epoch 22'), FloatProgress(value=0.0, max=791.0), HTML(value='')))",
      "application/vnd.jupyter.widget-view+json": {
       "version_major": 2,
       "version_minor": 0,
       "model_id": "f4a5e6fa1ef34d7d8a0b7ae4d406b499"
      }
     },
     "metadata": {},
     "output_type": "display_data"
    },
    {
     "name": "stdout",
     "output_type": "stream",
     "text": [
      "2021-11-13 10:23:48 | INFO | hw5.transformer | training loss: 3.5278\n",
      "2021-11-13 10:23:48 | INFO | hw5.transformer | begin validation\n"
     ]
    },
    {
     "data": {
      "text/plain": "HBox(children=(HTML(value='validation'), FloatProgress(value=0.0, max=22.0), HTML(value='')))",
      "application/vnd.jupyter.widget-view+json": {
       "version_major": 2,
       "version_minor": 0,
       "model_id": "bdd4241b5a4a4b8cab42b59c4fea3422"
      }
     },
     "metadata": {},
     "output_type": "display_data"
    },
    {
     "name": "stdout",
     "output_type": "stream",
     "text": [
      "2021-11-13 10:24:07 | INFO | hw5.transformer | example source: so i'm going to show you a demo of this .\n",
      "2021-11-13 10:24:07 | INFO | hw5.transformer | example hypothesis: 我要給你們看一個關於這個的示範 。\n",
      "2021-11-13 10:24:07 | INFO | hw5.transformer | example reference: 現在請各位看示範\n",
      "2021-11-13 10:24:07 | INFO | hw5.transformer | validation loss:\t3.4824\n",
      "2021-11-13 10:24:07 | INFO | hw5.transformer | BLEU = 23.55 58.8/32.9/19.1/11.7 (BP = 0.918 ratio = 0.922 hyp_len = 103048 ref_len = 111811)\n",
      "2021-11-13 10:24:07 | INFO | hw5.transformer | saved epoch checkpoint: /home/wy/ML_study/chapter5/checkpoints/rnn/_transformer_checkpoint22.pt\n",
      "2021-11-13 10:24:07 | INFO | hw5.transformer | end of epoch 22\n"
     ]
    },
    {
     "data": {
      "text/plain": "HBox(children=(HTML(value='train epoch 23'), FloatProgress(value=0.0, max=791.0), HTML(value='')))",
      "application/vnd.jupyter.widget-view+json": {
       "version_major": 2,
       "version_minor": 0,
       "model_id": "b335a287faa74ce995350d796dd358e1"
      }
     },
     "metadata": {},
     "output_type": "display_data"
    },
    {
     "name": "stdout",
     "output_type": "stream",
     "text": [
      "2021-11-13 10:26:18 | INFO | hw5.transformer | training loss: 3.5269\n",
      "2021-11-13 10:26:18 | INFO | hw5.transformer | begin validation\n"
     ]
    },
    {
     "data": {
      "text/plain": "HBox(children=(HTML(value='validation'), FloatProgress(value=0.0, max=22.0), HTML(value='')))",
      "application/vnd.jupyter.widget-view+json": {
       "version_major": 2,
       "version_minor": 0,
       "model_id": "e886a56c246241d78920aa68103e09a8"
      }
     },
     "metadata": {},
     "output_type": "display_data"
    },
    {
     "name": "stdout",
     "output_type": "stream",
     "text": [
      "2021-11-13 10:26:37 | INFO | hw5.transformer | example source: you see , in every country where you hear about armed jihadis targeting civilians , there are also unarmed people defying those militants that you don't hear about , and those people need our support to succeed .\n",
      "2021-11-13 10:26:37 | INFO | hw5.transformer | example hypothesis: 你看 , 在每一個你聽過武裝聖戰的國家中 , 也有一些不受傷的人 , 那些你聽不到的軍隊 , 而那些人需要我們的支持才能成功 。\n",
      "2021-11-13 10:26:37 | INFO | hw5.transformer | example reference: 你看 , 不管在哪個國家你都會聽到武裝聖戰者針對平民百姓 , 也有很多手無寸鐵的人民公然反抗那些激進分子 , 只是你沒聽過 , 那些人需要我們的支持才能成功 。\n",
      "2021-11-13 10:26:37 | INFO | hw5.transformer | validation loss:\t3.4767\n",
      "2021-11-13 10:26:37 | INFO | hw5.transformer | BLEU = 23.46 59.0/32.8/19.1/11.7 (BP = 0.914 ratio = 0.918 hyp_len = 102633 ref_len = 111811)\n",
      "2021-11-13 10:26:37 | INFO | hw5.transformer | saved epoch checkpoint: /home/wy/ML_study/chapter5/checkpoints/rnn/_transformer_checkpoint23.pt\n",
      "2021-11-13 10:26:37 | INFO | hw5.transformer | end of epoch 23\n"
     ]
    },
    {
     "data": {
      "text/plain": "HBox(children=(HTML(value='train epoch 24'), FloatProgress(value=0.0, max=791.0), HTML(value='')))",
      "application/vnd.jupyter.widget-view+json": {
       "version_major": 2,
       "version_minor": 0,
       "model_id": "dd210b9d31a2402b90dd7f5ad28a8bb0"
      }
     },
     "metadata": {},
     "output_type": "display_data"
    },
    {
     "name": "stdout",
     "output_type": "stream",
     "text": [
      "2021-11-13 10:28:47 | INFO | hw5.transformer | training loss: 3.5230\n",
      "2021-11-13 10:28:47 | INFO | hw5.transformer | begin validation\n"
     ]
    },
    {
     "data": {
      "text/plain": "HBox(children=(HTML(value='validation'), FloatProgress(value=0.0, max=22.0), HTML(value='')))",
      "application/vnd.jupyter.widget-view+json": {
       "version_major": 2,
       "version_minor": 0,
       "model_id": "cba8af3ea10444f7a65d9c7528bcb213"
      }
     },
     "metadata": {},
     "output_type": "display_data"
    },
    {
     "name": "stdout",
     "output_type": "stream",
     "text": [
      "2021-11-13 10:29:05 | INFO | hw5.transformer | example source: from gezi to tahrir to elsewhere , i've seen people put their lives and livelihoods on the line .\n",
      "2021-11-13 10:29:05 | INFO | hw5.transformer | example hypothesis: 從gezi到tahrir到其他地方 , 我看到人們把他們的生活和生活放在線上 。\n",
      "2021-11-13 10:29:05 | INFO | hw5.transformer | example reference: 從格濟公園 , 到解放廣場 , 再到其它地方 , 我見過許多人用他們的生命和生計做賭注 。\n",
      "2021-11-13 10:29:05 | INFO | hw5.transformer | validation loss:\t3.4785\n",
      "2021-11-13 10:29:05 | INFO | hw5.transformer | BLEU = 23.55 58.9/32.9/19.2/11.8 (BP = 0.915 ratio = 0.919 hyp_len = 102731 ref_len = 111811)\n",
      "2021-11-13 10:29:06 | INFO | hw5.transformer | saved epoch checkpoint: /home/wy/ML_study/chapter5/checkpoints/rnn/_transformer_checkpoint24.pt\n",
      "2021-11-13 10:29:06 | INFO | hw5.transformer | end of epoch 24\n"
     ]
    },
    {
     "data": {
      "text/plain": "HBox(children=(HTML(value='train epoch 25'), FloatProgress(value=0.0, max=791.0), HTML(value='')))",
      "application/vnd.jupyter.widget-view+json": {
       "version_major": 2,
       "version_minor": 0,
       "model_id": "3a7c5c0151f5451cb54f16a8938264f5"
      }
     },
     "metadata": {},
     "output_type": "display_data"
    },
    {
     "name": "stdout",
     "output_type": "stream",
     "text": [
      "2021-11-13 10:31:12 | INFO | hw5.transformer | training loss: 3.5231\n",
      "2021-11-13 10:31:12 | INFO | hw5.transformer | begin validation\n"
     ]
    },
    {
     "data": {
      "text/plain": "HBox(children=(HTML(value='validation'), FloatProgress(value=0.0, max=22.0), HTML(value='')))",
      "application/vnd.jupyter.widget-view+json": {
       "version_major": 2,
       "version_minor": 0,
       "model_id": "c7b31c3fa2334fd49f6ef3e0028f3f8e"
      }
     },
     "metadata": {},
     "output_type": "display_data"
    },
    {
     "name": "stdout",
     "output_type": "stream",
     "text": [
      "2021-11-13 10:31:30 | INFO | hw5.transformer | example source: and every project before that had been completely personal and it was a revelation when people just started commenting , started giving feedback on your code .\n",
      "2021-11-13 10:31:30 | INFO | hw5.transformer | example hypothesis: 在這之前 , 每個專案都完全個人化 , 大家開始評論之前 , 開始對你的程式做出回饋 。\n",
      "2021-11-13 10:31:30 | INFO | hw5.transformer | example reference: 在那之前每一件計劃都是我個人的東西 , 所以當大家開始評論 , 開始對你的程式給意見時 , 真的是一種啟示 。\n",
      "2021-11-13 10:31:30 | INFO | hw5.transformer | validation loss:\t3.4713\n",
      "2021-11-13 10:31:30 | INFO | hw5.transformer | BLEU = 23.90 58.2/32.5/19.0/11.6 (BP = 0.940 ratio = 0.942 hyp_len = 105346 ref_len = 111811)\n",
      "2021-11-13 10:31:30 | INFO | hw5.transformer | saved epoch checkpoint: /home/wy/ML_study/chapter5/checkpoints/rnn/_transformer_checkpoint25.pt\n",
      "2021-11-13 10:31:31 | INFO | hw5.transformer | end of epoch 25\n"
     ]
    },
    {
     "data": {
      "text/plain": "HBox(children=(HTML(value='train epoch 26'), FloatProgress(value=0.0, max=791.0), HTML(value='')))",
      "application/vnd.jupyter.widget-view+json": {
       "version_major": 2,
       "version_minor": 0,
       "model_id": "b7aee831acb1458c9821e5571c6e27a6"
      }
     },
     "metadata": {},
     "output_type": "display_data"
    },
    {
     "name": "stdout",
     "output_type": "stream",
     "text": [
      "2021-11-13 10:33:36 | INFO | hw5.transformer | training loss: 3.5220\n",
      "2021-11-13 10:33:36 | INFO | hw5.transformer | begin validation\n"
     ]
    },
    {
     "data": {
      "text/plain": "HBox(children=(HTML(value='validation'), FloatProgress(value=0.0, max=22.0), HTML(value='')))",
      "application/vnd.jupyter.widget-view+json": {
       "version_major": 2,
       "version_minor": 0,
       "model_id": "eba8b71a9922458688baa096555b67b6"
      }
     },
     "metadata": {},
     "output_type": "display_data"
    },
    {
     "name": "stdout",
     "output_type": "stream",
     "text": [
      "2021-11-13 10:33:55 | INFO | hw5.transformer | example source: thank you so much .\n",
      "2021-11-13 10:33:55 | INFO | hw5.transformer | example hypothesis: 謝謝大家 。\n",
      "2021-11-13 10:33:55 | INFO | hw5.transformer | example reference: 感謝各位.\n",
      "2021-11-13 10:33:55 | INFO | hw5.transformer | validation loss:\t3.4770\n",
      "2021-11-13 10:33:55 | INFO | hw5.transformer | BLEU = 23.21 59.7/33.5/19.5/12.0 (BP = 0.886 ratio = 0.892 hyp_len = 99763 ref_len = 111811)\n",
      "2021-11-13 10:33:56 | INFO | hw5.transformer | saved epoch checkpoint: /home/wy/ML_study/chapter5/checkpoints/rnn/_transformer_checkpoint26.pt\n",
      "2021-11-13 10:33:56 | INFO | hw5.transformer | end of epoch 26\n"
     ]
    },
    {
     "data": {
      "text/plain": "HBox(children=(HTML(value='train epoch 27'), FloatProgress(value=0.0, max=791.0), HTML(value='')))",
      "application/vnd.jupyter.widget-view+json": {
       "version_major": 2,
       "version_minor": 0,
       "model_id": "2f2a130ec68f48b9a6bdb084883ae60a"
      }
     },
     "metadata": {},
     "output_type": "display_data"
    },
    {
     "name": "stdout",
     "output_type": "stream",
     "text": [
      "2021-11-13 10:36:02 | INFO | hw5.transformer | training loss: 3.5203\n",
      "2021-11-13 10:36:02 | INFO | hw5.transformer | begin validation\n"
     ]
    },
    {
     "data": {
      "text/plain": "HBox(children=(HTML(value='validation'), FloatProgress(value=0.0, max=22.0), HTML(value='')))",
      "application/vnd.jupyter.widget-view+json": {
       "version_major": 2,
       "version_minor": 0,
       "model_id": "ca0d5730c8304a7b8a1372bae84df133"
      }
     },
     "metadata": {},
     "output_type": "display_data"
    },
    {
     "name": "stdout",
     "output_type": "stream",
     "text": [
      "2021-11-13 10:36:21 | INFO | hw5.transformer | example source: at the age of six months , virtually every one of us is able to differentiate between animate and inanimate objects .\n",
      "2021-11-13 10:36:21 | INFO | hw5.transformer | example hypothesis: 在六個月之內 , 幾乎我們每一個人都能夠分辨出動畫和非凡物體之間 。\n",
      "2021-11-13 10:36:21 | INFO | hw5.transformer | example reference: 在六個月大時 , 幾乎每個人都能辨別東西是否有生命 。\n",
      "2021-11-13 10:36:21 | INFO | hw5.transformer | validation loss:\t3.4770\n",
      "2021-11-13 10:36:21 | INFO | hw5.transformer | BLEU = 23.65 59.1/33.1/19.3/11.8 (BP = 0.915 ratio = 0.918 hyp_len = 102689 ref_len = 111811)\n",
      "2021-11-13 10:36:21 | INFO | hw5.transformer | saved epoch checkpoint: /home/wy/ML_study/chapter5/checkpoints/rnn/_transformer_checkpoint27.pt\n",
      "2021-11-13 10:36:21 | INFO | hw5.transformer | end of epoch 27\n"
     ]
    },
    {
     "data": {
      "text/plain": "HBox(children=(HTML(value='train epoch 28'), FloatProgress(value=0.0, max=791.0), HTML(value='')))",
      "application/vnd.jupyter.widget-view+json": {
       "version_major": 2,
       "version_minor": 0,
       "model_id": "b93f656a47384a9db14a911676ba0a86"
      }
     },
     "metadata": {},
     "output_type": "display_data"
    },
    {
     "name": "stdout",
     "output_type": "stream",
     "text": [
      "2021-11-13 10:38:28 | INFO | hw5.transformer | training loss: 3.5154\n",
      "2021-11-13 10:38:28 | INFO | hw5.transformer | begin validation\n"
     ]
    },
    {
     "data": {
      "text/plain": "HBox(children=(HTML(value='validation'), FloatProgress(value=0.0, max=22.0), HTML(value='')))",
      "application/vnd.jupyter.widget-view+json": {
       "version_major": 2,
       "version_minor": 0,
       "model_id": "f5167ed656dd4a80b78b8a00fe95448d"
      }
     },
     "metadata": {},
     "output_type": "display_data"
    },
    {
     "name": "stdout",
     "output_type": "stream",
     "text": [
      "2021-11-13 10:38:47 | INFO | hw5.transformer | example source: the problem is there is no such thing as a viable democracy made up of experts , zealots , politicians and spectators .\n",
      "2021-11-13 10:38:47 | INFO | hw5.transformer | example hypothesis: 問題是 , 身為一個可行的民主是由專家、zealots、政治人物和光譜家組成的 。\n",
      "2021-11-13 10:38:47 | INFO | hw5.transformer | example reference: 事實上 , 根本沒有一種民主制度是由專家 , 狂熱分子 , 政治家和旁觀者組成的\n",
      "2021-11-13 10:38:47 | INFO | hw5.transformer | validation loss:\t3.4641\n",
      "2021-11-13 10:38:47 | INFO | hw5.transformer | BLEU = 23.92 58.1/32.3/18.7/11.4 (BP = 0.949 ratio = 0.951 hyp_len = 106301 ref_len = 111811)\n",
      "2021-11-13 10:38:48 | INFO | hw5.transformer | saved epoch checkpoint: /home/wy/ML_study/chapter5/checkpoints/rnn/_transformer_checkpoint28.pt\n",
      "2021-11-13 10:38:48 | INFO | hw5.transformer | end of epoch 28\n"
     ]
    },
    {
     "data": {
      "text/plain": "HBox(children=(HTML(value='train epoch 29'), FloatProgress(value=0.0, max=791.0), HTML(value='')))",
      "application/vnd.jupyter.widget-view+json": {
       "version_major": 2,
       "version_minor": 0,
       "model_id": "d0b6a3d7e21a4a9a857b05cca620312d"
      }
     },
     "metadata": {},
     "output_type": "display_data"
    },
    {
     "name": "stdout",
     "output_type": "stream",
     "text": [
      "2021-11-13 10:40:57 | INFO | hw5.transformer | training loss: 3.5143\n",
      "2021-11-13 10:40:57 | INFO | hw5.transformer | begin validation\n"
     ]
    },
    {
     "data": {
      "text/plain": "HBox(children=(HTML(value='validation'), FloatProgress(value=0.0, max=22.0), HTML(value='')))",
      "application/vnd.jupyter.widget-view+json": {
       "version_major": 2,
       "version_minor": 0,
       "model_id": "fb206d709d054cbbbf780eee94156a0d"
      }
     },
     "metadata": {},
     "output_type": "display_data"
    },
    {
     "name": "stdout",
     "output_type": "stream",
     "text": [
      "2021-11-13 10:41:16 | INFO | hw5.transformer | example source: they're learning our culture , our language , our heritage and realizing we're just as different and just the same as each other .\n",
      "2021-11-13 10:41:16 | INFO | hw5.transformer | example hypothesis: 他們在學習我們的文化、我們的語言、我們的遺產 , 並意識到我們和彼此相同 。\n",
      "2021-11-13 10:41:16 | INFO | hw5.transformer | example reference: 他們正在習知我們的文化、語言、傳統 , 並意識到彼此不同及相同之處 。\n",
      "2021-11-13 10:41:16 | INFO | hw5.transformer | validation loss:\t3.4637\n",
      "2021-11-13 10:41:16 | INFO | hw5.transformer | BLEU = 23.88 58.7/32.8/19.2/11.8 (BP = 0.930 ratio = 0.932 hyp_len = 104196 ref_len = 111811)\n",
      "2021-11-13 10:41:16 | INFO | hw5.transformer | saved epoch checkpoint: /home/wy/ML_study/chapter5/checkpoints/rnn/_transformer_checkpoint29.pt\n",
      "2021-11-13 10:41:16 | INFO | hw5.transformer | end of epoch 29\n"
     ]
    },
    {
     "data": {
      "text/plain": "HBox(children=(HTML(value='train epoch 30'), FloatProgress(value=0.0, max=791.0), HTML(value='')))",
      "application/vnd.jupyter.widget-view+json": {
       "version_major": 2,
       "version_minor": 0,
       "model_id": "e1e5dafdcb6c4f679c1ec47d195c4383"
      }
     },
     "metadata": {},
     "output_type": "display_data"
    },
    {
     "name": "stdout",
     "output_type": "stream",
     "text": [
      "2021-11-13 10:43:24 | INFO | hw5.transformer | training loss: 3.5125\n",
      "2021-11-13 10:43:24 | INFO | hw5.transformer | begin validation\n"
     ]
    },
    {
     "data": {
      "text/plain": "HBox(children=(HTML(value='validation'), FloatProgress(value=0.0, max=22.0), HTML(value='')))",
      "application/vnd.jupyter.widget-view+json": {
       "version_major": 2,
       "version_minor": 0,
       "model_id": "007ee07c17564055b7c2807a36e306c5"
      }
     },
     "metadata": {},
     "output_type": "display_data"
    },
    {
     "name": "stdout",
     "output_type": "stream",
     "text": [
      "2021-11-13 10:43:42 | INFO | hw5.transformer | example source: but did you know that only two percent of that funding went to rebuild haitian public institutions , including its health sector ?\n",
      "2021-11-13 10:43:42 | INFO | hw5.transformer | example hypothesis: 但你知道只有百分之二的資金去重建海地公共機構 , 包括它的健康部門 ?\n",
      "2021-11-13 10:43:43 | INFO | hw5.transformer | example reference: 但你知不知道國際社會捐款中只有2%用去重建海地的公共體制 , 包括衞生部門 ?\n",
      "2021-11-13 10:43:43 | INFO | hw5.transformer | validation loss:\t3.4649\n",
      "2021-11-13 10:43:43 | INFO | hw5.transformer | BLEU = 23.61 58.9/32.8/19.1/11.6 (BP = 0.923 ratio = 0.926 hyp_len = 103524 ref_len = 111811)\n",
      "2021-11-13 10:43:43 | INFO | hw5.transformer | saved epoch checkpoint: /home/wy/ML_study/chapter5/checkpoints/rnn/_transformer_checkpoint30.pt\n",
      "2021-11-13 10:43:43 | INFO | hw5.transformer | end of epoch 30\n"
     ]
    },
    {
     "data": {
      "text/plain": "HBox(children=(HTML(value='train epoch 31'), FloatProgress(value=0.0, max=791.0), HTML(value='')))",
      "application/vnd.jupyter.widget-view+json": {
       "version_major": 2,
       "version_minor": 0,
       "model_id": "d088eec32b544f11998a9d97fdb25591"
      }
     },
     "metadata": {},
     "output_type": "display_data"
    },
    {
     "name": "stdout",
     "output_type": "stream",
     "text": [
      "2021-11-13 10:45:51 | INFO | hw5.transformer | training loss: 3.5152\n",
      "2021-11-13 10:45:51 | INFO | hw5.transformer | begin validation\n"
     ]
    },
    {
     "data": {
      "text/plain": "HBox(children=(HTML(value='validation'), FloatProgress(value=0.0, max=22.0), HTML(value='')))",
      "application/vnd.jupyter.widget-view+json": {
       "version_major": 2,
       "version_minor": 0,
       "model_id": "aeb9b6cff1f24720aafb7506f00b64bc"
      }
     },
     "metadata": {},
     "output_type": "display_data"
    },
    {
     "name": "stdout",
     "output_type": "stream",
     "text": [
      "2021-11-13 10:46:11 | INFO | hw5.transformer | example source: thank you .\n",
      "2021-11-13 10:46:11 | INFO | hw5.transformer | example hypothesis: 謝謝\n",
      "2021-11-13 10:46:11 | INFO | hw5.transformer | example reference: 謝謝 。\n",
      "2021-11-13 10:46:11 | INFO | hw5.transformer | validation loss:\t3.4654\n",
      "2021-11-13 10:46:11 | INFO | hw5.transformer | BLEU = 23.78 58.6/32.7/19.1/11.7 (BP = 0.930 ratio = 0.932 hyp_len = 104257 ref_len = 111811)\n",
      "2021-11-13 10:46:11 | INFO | hw5.transformer | saved epoch checkpoint: /home/wy/ML_study/chapter5/checkpoints/rnn/_transformer_checkpoint31.pt\n",
      "2021-11-13 10:46:11 | INFO | hw5.transformer | end of epoch 31\n"
     ]
    },
    {
     "data": {
      "text/plain": "HBox(children=(HTML(value='train epoch 32'), FloatProgress(value=0.0, max=791.0), HTML(value='')))",
      "application/vnd.jupyter.widget-view+json": {
       "version_major": 2,
       "version_minor": 0,
       "model_id": "f0d0623b960d401f961d255ea5e6f793"
      }
     },
     "metadata": {},
     "output_type": "display_data"
    },
    {
     "name": "stdout",
     "output_type": "stream",
     "text": [
      "2021-11-13 10:48:15 | INFO | hw5.transformer | training loss: 3.5151\n",
      "2021-11-13 10:48:15 | INFO | hw5.transformer | begin validation\n"
     ]
    },
    {
     "data": {
      "text/plain": "HBox(children=(HTML(value='validation'), FloatProgress(value=0.0, max=22.0), HTML(value='')))",
      "application/vnd.jupyter.widget-view+json": {
       "version_major": 2,
       "version_minor": 0,
       "model_id": "3fec619ef7544174a1b1d27461ebb774"
      }
     },
     "metadata": {},
     "output_type": "display_data"
    },
    {
     "name": "stdout",
     "output_type": "stream",
     "text": [
      "2021-11-13 10:48:35 | INFO | hw5.transformer | example source: and i think the answer is a lot of different people are going to have to do a lot of different things .\n",
      "2021-11-13 10:48:35 | INFO | hw5.transformer | example hypothesis: 我想答案是很多不同的人都必須做很多不同的事\n",
      "2021-11-13 10:48:35 | INFO | hw5.transformer | example reference: 我的回答是 , 我們所有人各盡其責 。\n",
      "2021-11-13 10:48:35 | INFO | hw5.transformer | validation loss:\t3.4648\n",
      "2021-11-13 10:48:35 | INFO | hw5.transformer | BLEU = 23.96 58.3/32.6/19.0/11.6 (BP = 0.941 ratio = 0.943 hyp_len = 105420 ref_len = 111811)\n",
      "2021-11-13 10:48:35 | INFO | hw5.transformer | saved epoch checkpoint: /home/wy/ML_study/chapter5/checkpoints/rnn/_transformer_checkpoint32.pt\n",
      "2021-11-13 10:48:35 | INFO | hw5.transformer | end of epoch 32\n"
     ]
    },
    {
     "data": {
      "text/plain": "HBox(children=(HTML(value='train epoch 33'), FloatProgress(value=0.0, max=791.0), HTML(value='')))",
      "application/vnd.jupyter.widget-view+json": {
       "version_major": 2,
       "version_minor": 0,
       "model_id": "621891269a4a4cfabbd22667be740b27"
      }
     },
     "metadata": {},
     "output_type": "display_data"
    },
    {
     "name": "stdout",
     "output_type": "stream",
     "text": [
      "2021-11-13 10:50:44 | INFO | hw5.transformer | training loss: 3.5129\n",
      "2021-11-13 10:50:44 | INFO | hw5.transformer | begin validation\n"
     ]
    },
    {
     "data": {
      "text/plain": "HBox(children=(HTML(value='validation'), FloatProgress(value=0.0, max=22.0), HTML(value='')))",
      "application/vnd.jupyter.widget-view+json": {
       "version_major": 2,
       "version_minor": 0,
       "model_id": "6514c9d38061465da25cf2ba39006abf"
      }
     },
     "metadata": {},
     "output_type": "display_data"
    },
    {
     "name": "stdout",
     "output_type": "stream",
     "text": [
      "2021-11-13 10:51:04 | INFO | hw5.transformer | example source: that ambition that had allowed him to laboriously educate himself by himself , to go through that string of political failures and the darkest days of the war .\n",
      "2021-11-13 10:51:04 | INFO | hw5.transformer | example hypothesis: 這樣的野心讓他自己被自己教育 , 去經歷那串政治失敗 , 以及戰爭最黑暗的日子 。\n",
      "2021-11-13 10:51:04 | INFO | hw5.transformer | example reference: 這樣的企圖心策勵他辛辛苦苦不懈的自我教育 , 鼓舞著他面對一連串的政壇失意及堅強走過戰爭時最黑暗的歲月.\n",
      "2021-11-13 10:51:04 | INFO | hw5.transformer | validation loss:\t3.4630\n",
      "2021-11-13 10:51:04 | INFO | hw5.transformer | BLEU = 23.52 59.4/33.2/19.4/11.9 (BP = 0.906 ratio = 0.910 hyp_len = 101758 ref_len = 111811)\n",
      "2021-11-13 10:51:05 | INFO | hw5.transformer | saved epoch checkpoint: /home/wy/ML_study/chapter5/checkpoints/rnn/_transformer_checkpoint33.pt\n",
      "2021-11-13 10:51:05 | INFO | hw5.transformer | end of epoch 33\n"
     ]
    },
    {
     "data": {
      "text/plain": "HBox(children=(HTML(value='train epoch 34'), FloatProgress(value=0.0, max=791.0), HTML(value='')))",
      "application/vnd.jupyter.widget-view+json": {
       "version_major": 2,
       "version_minor": 0,
       "model_id": "aa0463ff35be412fa466ab9caa42c00f"
      }
     },
     "metadata": {},
     "output_type": "display_data"
    },
    {
     "name": "stdout",
     "output_type": "stream",
     "text": [
      "2021-11-13 10:53:13 | INFO | hw5.transformer | training loss: 3.5108\n",
      "2021-11-13 10:53:13 | INFO | hw5.transformer | begin validation\n"
     ]
    },
    {
     "data": {
      "text/plain": "HBox(children=(HTML(value='validation'), FloatProgress(value=0.0, max=22.0), HTML(value='')))",
      "application/vnd.jupyter.widget-view+json": {
       "version_major": 2,
       "version_minor": 0,
       "model_id": "acd1d7fd475c455cbcae361a0cca33cd"
      }
     },
     "metadata": {},
     "output_type": "display_data"
    },
    {
     "name": "stdout",
     "output_type": "stream",
     "text": [
      "2021-11-13 10:53:33 | INFO | hw5.transformer | example source: this response has evolved from the physiological mechanism designed to make sure we can survive in a crisis .\n",
      "2021-11-13 10:53:33 | INFO | hw5.transformer | example hypothesis: 這種反應從生理機制演化出來 , 來確保我們能生存在危機中 。\n",
      "2021-11-13 10:53:33 | INFO | hw5.transformer | example reference: 這是心理機制進化的反應 , 目的是使我們能夠應付危機 , 生存下來 。\n",
      "2021-11-13 10:53:33 | INFO | hw5.transformer | validation loss:\t3.4560\n",
      "2021-11-13 10:53:33 | INFO | hw5.transformer | BLEU = 24.16 57.9/32.3/18.8/11.5 (BP = 0.958 ratio = 0.959 hyp_len = 107191 ref_len = 111811)\n",
      "2021-11-13 10:53:33 | INFO | hw5.transformer | saved epoch checkpoint: /home/wy/ML_study/chapter5/checkpoints/rnn/_transformer_checkpoint34.pt\n",
      "2021-11-13 10:53:34 | INFO | hw5.transformer | end of epoch 34\n"
     ]
    },
    {
     "data": {
      "text/plain": "HBox(children=(HTML(value='train epoch 35'), FloatProgress(value=0.0, max=791.0), HTML(value='')))",
      "application/vnd.jupyter.widget-view+json": {
       "version_major": 2,
       "version_minor": 0,
       "model_id": "8cb3d6af2cd04f2ab7239bb3058d3196"
      }
     },
     "metadata": {},
     "output_type": "display_data"
    },
    {
     "name": "stdout",
     "output_type": "stream",
     "text": [
      "2021-11-13 10:55:39 | INFO | hw5.transformer | training loss: 3.5100\n",
      "2021-11-13 10:55:39 | INFO | hw5.transformer | begin validation\n"
     ]
    },
    {
     "data": {
      "text/plain": "HBox(children=(HTML(value='validation'), FloatProgress(value=0.0, max=22.0), HTML(value='')))",
      "application/vnd.jupyter.widget-view+json": {
       "version_major": 2,
       "version_minor": 0,
       "model_id": "4dcc5a6bfc644fa8a99338106a338c03"
      }
     },
     "metadata": {},
     "output_type": "display_data"
    },
    {
     "name": "stdout",
     "output_type": "stream",
     "text": [
      "2021-11-13 10:55:58 | INFO | hw5.transformer | example source: see that chair there ? the orange one ? that's the organic chair . 1940 .\n",
      "2021-11-13 10:55:58 | INFO | hw5.transformer | example hypothesis: 看到那張椅子嗎 ? 橘色1 ? 那是1940年有機椅子 。\n",
      "2021-11-13 10:55:58 | INFO | hw5.transformer | example reference: 看見那張椅子嗎 ? 橘黃色那個 ? 這是有機椅子 。 一九四零年 。\n",
      "2021-11-13 10:55:58 | INFO | hw5.transformer | validation loss:\t3.4529\n",
      "2021-11-13 10:55:58 | INFO | hw5.transformer | BLEU = 24.15 57.5/32.0/18.6/11.4 (BP = 0.967 ratio = 0.967 hyp_len = 108129 ref_len = 111811)\n",
      "2021-11-13 10:55:58 | INFO | hw5.transformer | saved epoch checkpoint: /home/wy/ML_study/chapter5/checkpoints/rnn/_transformer_checkpoint35.pt\n",
      "2021-11-13 10:55:59 | INFO | hw5.transformer | end of epoch 35\n"
     ]
    },
    {
     "data": {
      "text/plain": "HBox(children=(HTML(value='train epoch 36'), FloatProgress(value=0.0, max=791.0), HTML(value='')))",
      "application/vnd.jupyter.widget-view+json": {
       "version_major": 2,
       "version_minor": 0,
       "model_id": "ef9b6475e038447e91885137f74b79a2"
      }
     },
     "metadata": {},
     "output_type": "display_data"
    },
    {
     "name": "stdout",
     "output_type": "stream",
     "text": [
      "2021-11-13 10:58:08 | INFO | hw5.transformer | training loss: 3.5084\n",
      "2021-11-13 10:58:08 | INFO | hw5.transformer | begin validation\n"
     ]
    },
    {
     "data": {
      "text/plain": "HBox(children=(HTML(value='validation'), FloatProgress(value=0.0, max=22.0), HTML(value='')))",
      "application/vnd.jupyter.widget-view+json": {
       "version_major": 2,
       "version_minor": 0,
       "model_id": "6446f1b5cec6460bbdeb1542f95ca4e7"
      }
     },
     "metadata": {},
     "output_type": "display_data"
    },
    {
     "name": "stdout",
     "output_type": "stream",
     "text": [
      "2021-11-13 10:58:27 | INFO | hw5.transformer | example source: do they go from one side of the pacific to the other ?\n",
      "2021-11-13 10:58:27 | INFO | hw5.transformer | example hypothesis: 他們是不是從太平洋的一邊走到另一邊 ?\n",
      "2021-11-13 10:58:27 | INFO | hw5.transformer | example reference: 牠們會從太平洋的一端游到另一端嗎 ?\n",
      "2021-11-13 10:58:27 | INFO | hw5.transformer | validation loss:\t3.4465\n",
      "2021-11-13 10:58:27 | INFO | hw5.transformer | BLEU = 23.88 58.4/32.6/19.1/11.7 (BP = 0.935 ratio = 0.937 hyp_len = 104753 ref_len = 111811)\n",
      "2021-11-13 10:58:27 | INFO | hw5.transformer | saved epoch checkpoint: /home/wy/ML_study/chapter5/checkpoints/rnn/_transformer_checkpoint36.pt\n",
      "2021-11-13 10:58:27 | INFO | hw5.transformer | end of epoch 36\n"
     ]
    },
    {
     "data": {
      "text/plain": "HBox(children=(HTML(value='train epoch 37'), FloatProgress(value=0.0, max=791.0), HTML(value='')))",
      "application/vnd.jupyter.widget-view+json": {
       "version_major": 2,
       "version_minor": 0,
       "model_id": "4c21a6dd4ff44f8fbbee15faab943c61"
      }
     },
     "metadata": {},
     "output_type": "display_data"
    },
    {
     "name": "stdout",
     "output_type": "stream",
     "text": [
      "2021-11-13 11:00:35 | INFO | hw5.transformer | training loss: 3.5042\n",
      "2021-11-13 11:00:35 | INFO | hw5.transformer | begin validation\n"
     ]
    },
    {
     "data": {
      "text/plain": "HBox(children=(HTML(value='validation'), FloatProgress(value=0.0, max=22.0), HTML(value='')))",
      "application/vnd.jupyter.widget-view+json": {
       "version_major": 2,
       "version_minor": 0,
       "model_id": "a11ce924fc8743689f832924748a9c48"
      }
     },
     "metadata": {},
     "output_type": "display_data"
    },
    {
     "name": "stdout",
     "output_type": "stream",
     "text": [
      "2021-11-13 11:00:54 | INFO | hw5.transformer | example source: i do , in any case .\n",
      "2021-11-13 11:00:54 | INFO | hw5.transformer | example hypothesis: 在任何情況下 , 我都會這麼做 。\n",
      "2021-11-13 11:00:54 | INFO | hw5.transformer | example reference: 無論如何我也認同 。\n",
      "2021-11-13 11:00:54 | INFO | hw5.transformer | validation loss:\t3.4572\n",
      "2021-11-13 11:00:54 | INFO | hw5.transformer | BLEU = 23.77 58.4/32.6/19.0/11.6 (BP = 0.935 ratio = 0.937 hyp_len = 104797 ref_len = 111811)\n",
      "2021-11-13 11:00:54 | INFO | hw5.transformer | saved epoch checkpoint: /home/wy/ML_study/chapter5/checkpoints/rnn/_transformer_checkpoint37.pt\n",
      "2021-11-13 11:00:54 | INFO | hw5.transformer | end of epoch 37\n"
     ]
    },
    {
     "data": {
      "text/plain": "HBox(children=(HTML(value='train epoch 38'), FloatProgress(value=0.0, max=791.0), HTML(value='')))",
      "application/vnd.jupyter.widget-view+json": {
       "version_major": 2,
       "version_minor": 0,
       "model_id": "af8d241e394b45af9869ec073b52191c"
      }
     },
     "metadata": {},
     "output_type": "display_data"
    },
    {
     "name": "stdout",
     "output_type": "stream",
     "text": [
      "2021-11-13 11:03:00 | INFO | hw5.transformer | training loss: 3.5002\n",
      "2021-11-13 11:03:00 | INFO | hw5.transformer | begin validation\n"
     ]
    },
    {
     "data": {
      "text/plain": "HBox(children=(HTML(value='validation'), FloatProgress(value=0.0, max=22.0), HTML(value='')))",
      "application/vnd.jupyter.widget-view+json": {
       "version_major": 2,
       "version_minor": 0,
       "model_id": "520a6d8d45864148bb697e11935cfea4"
      }
     },
     "metadata": {},
     "output_type": "display_data"
    },
    {
     "name": "stdout",
     "output_type": "stream",
     "text": [
      "2021-11-13 11:03:19 | INFO | hw5.transformer | example source: and as you think about that experience , i want you to ask yourself: how might that experience of being a privileged player in a rigged game change the way you think about yourself and regard that other player ?\n",
      "2021-11-13 11:03:19 | INFO | hw5.transformer | example hypothesis: 想想這段經驗 , 我想請各位問自己 , 身為一個有特權的玩家的體驗如何改變你對自己的想法 , 並認同其他玩家的感受 ?\n",
      "2021-11-13 11:03:19 | INFO | hw5.transformer | example reference: 當你這麼想像時也請自問在這被動手腳的遊戲中作為佔上風的玩家會如何改變對自己和其他玩家的看法呢 ?\n",
      "2021-11-13 11:03:19 | INFO | hw5.transformer | validation loss:\t3.4586\n",
      "2021-11-13 11:03:19 | INFO | hw5.transformer | BLEU = 23.78 58.6/32.7/19.1/11.7 (BP = 0.929 ratio = 0.932 hyp_len = 104162 ref_len = 111811)\n",
      "2021-11-13 11:03:19 | INFO | hw5.transformer | saved epoch checkpoint: /home/wy/ML_study/chapter5/checkpoints/rnn/_transformer_checkpoint38.pt\n",
      "2021-11-13 11:03:19 | INFO | hw5.transformer | end of epoch 38\n"
     ]
    },
    {
     "data": {
      "text/plain": "HBox(children=(HTML(value='train epoch 39'), FloatProgress(value=0.0, max=791.0), HTML(value='')))",
      "application/vnd.jupyter.widget-view+json": {
       "version_major": 2,
       "version_minor": 0,
       "model_id": "5ffb7b84e9f64d4fb554f0eac6fd8e5e"
      }
     },
     "metadata": {},
     "output_type": "display_data"
    },
    {
     "name": "stdout",
     "output_type": "stream",
     "text": [
      "2021-11-13 11:05:26 | INFO | hw5.transformer | training loss: 3.5012\n",
      "2021-11-13 11:05:26 | INFO | hw5.transformer | begin validation\n"
     ]
    },
    {
     "data": {
      "text/plain": "HBox(children=(HTML(value='validation'), FloatProgress(value=0.0, max=22.0), HTML(value='')))",
      "application/vnd.jupyter.widget-view+json": {
       "version_major": 2,
       "version_minor": 0,
       "model_id": "18506abb01e24dee99b807ebf9168f06"
      }
     },
     "metadata": {},
     "output_type": "display_data"
    },
    {
     "name": "stdout",
     "output_type": "stream",
     "text": [
      "2021-11-13 11:05:45 | INFO | hw5.transformer | example source: this is a photograph i took at the northern tip of baffin island when i went narwhal hunting with some inuit people , and this man , olayuk , told me a marvelous story of his grandfather .\n",
      "2021-11-13 11:05:45 | INFO | hw5.transformer | example hypothesis: 這是我在巴芬島北部拍攝的照片當我和一些鼓舞人民一起狩獵時 , 這個人 , 奧拉烏克告訴我他祖父的故事 。\n",
      "2021-11-13 11:05:45 | INFO | hw5.transformer | example reference: 這張照片是我在巴芬島的北邊山頂上拍攝的那時我和一些因紐特人去捕獨角鯨這個叫奧拉雅的人述說了他祖父的傳奇故事\n",
      "2021-11-13 11:05:45 | INFO | hw5.transformer | validation loss:\t3.4519\n",
      "2021-11-13 11:05:45 | INFO | hw5.transformer | BLEU = 23.70 59.1/33.2/19.5/11.9 (BP = 0.913 ratio = 0.916 hyp_len = 102435 ref_len = 111811)\n",
      "2021-11-13 11:05:45 | INFO | hw5.transformer | saved epoch checkpoint: /home/wy/ML_study/chapter5/checkpoints/rnn/_transformer_checkpoint39.pt\n",
      "2021-11-13 11:05:45 | INFO | hw5.transformer | end of epoch 39\n"
     ]
    },
    {
     "data": {
      "text/plain": "HBox(children=(HTML(value='train epoch 40'), FloatProgress(value=0.0, max=791.0), HTML(value='')))",
      "application/vnd.jupyter.widget-view+json": {
       "version_major": 2,
       "version_minor": 0,
       "model_id": "404eea6a1e8948dab257f985cc01923a"
      }
     },
     "metadata": {},
     "output_type": "display_data"
    },
    {
     "name": "stdout",
     "output_type": "stream",
     "text": [
      "2021-11-13 11:07:55 | INFO | hw5.transformer | training loss: 3.4996\n",
      "2021-11-13 11:07:55 | INFO | hw5.transformer | begin validation\n"
     ]
    },
    {
     "data": {
      "text/plain": "HBox(children=(HTML(value='validation'), FloatProgress(value=0.0, max=22.0), HTML(value='')))",
      "application/vnd.jupyter.widget-view+json": {
       "version_major": 2,
       "version_minor": 0,
       "model_id": "4d104eae7413473cb34a77ae4b675ff2"
      }
     },
     "metadata": {},
     "output_type": "display_data"
    },
    {
     "name": "stdout",
     "output_type": "stream",
     "text": [
      "2021-11-13 11:08:13 | INFO | hw5.transformer | example source: congratulations .\n",
      "2021-11-13 11:08:13 | INFO | hw5.transformer | example hypothesis: 恭喜 。\n",
      "2021-11-13 11:08:13 | INFO | hw5.transformer | example reference: 恭喜各位 。\n",
      "2021-11-13 11:08:13 | INFO | hw5.transformer | validation loss:\t3.4527\n",
      "2021-11-13 11:08:13 | INFO | hw5.transformer | BLEU = 23.78 59.0/33.1/19.4/11.9 (BP = 0.917 ratio = 0.920 hyp_len = 102894 ref_len = 111811)\n",
      "2021-11-13 11:08:14 | INFO | hw5.transformer | saved epoch checkpoint: /home/wy/ML_study/chapter5/checkpoints/rnn/_transformer_checkpoint40.pt\n",
      "2021-11-13 11:08:14 | INFO | hw5.transformer | end of epoch 40\n"
     ]
    },
    {
     "data": {
      "text/plain": "HBox(children=(HTML(value='train epoch 41'), FloatProgress(value=0.0, max=791.0), HTML(value='')))",
      "application/vnd.jupyter.widget-view+json": {
       "version_major": 2,
       "version_minor": 0,
       "model_id": "8c79c18a0530450485b12ede50f24780"
      }
     },
     "metadata": {},
     "output_type": "display_data"
    },
    {
     "name": "stdout",
     "output_type": "stream",
     "text": [
      "2021-11-13 11:10:19 | INFO | hw5.transformer | training loss: 3.4974\n",
      "2021-11-13 11:10:19 | INFO | hw5.transformer | begin validation\n"
     ]
    },
    {
     "data": {
      "text/plain": "HBox(children=(HTML(value='validation'), FloatProgress(value=0.0, max=22.0), HTML(value='')))",
      "application/vnd.jupyter.widget-view+json": {
       "version_major": 2,
       "version_minor": 0,
       "model_id": "b092d63789c64867949301d25016cb89"
      }
     },
     "metadata": {},
     "output_type": "display_data"
    },
    {
     "name": "stdout",
     "output_type": "stream",
     "text": [
      "2021-11-13 11:10:38 | INFO | hw5.transformer | example source: so cmu allows 32 possible symbols , but as you can see , there's only a small number that most people are using , so we're not actually getting very much strength from the symbols in our passwords .\n",
      "2021-11-13 11:10:38 | INFO | hw5.transformer | example hypothesis: 所以cmu允許32個可能的符號 , 但如你所見 , 只有少數人使用的數字 , 所以我們並沒有從密碼中得到非常強大的力量 。\n",
      "2021-11-13 11:10:38 | INFO | hw5.transformer | example reference: cmu允許使用的符號有32個但正如你所見只有少數符號常常被使用所以實際上我們密碼也沒有變得更強因為密碼裡有了符號\n",
      "2021-11-13 11:10:38 | INFO | hw5.transformer | validation loss:\t3.4586\n",
      "2021-11-13 11:10:38 | INFO | hw5.transformer | BLEU = 24.10 59.0/33.0/19.4/11.9 (BP = 0.930 ratio = 0.932 hyp_len = 104227 ref_len = 111811)\n",
      "2021-11-13 11:10:38 | INFO | hw5.transformer | saved epoch checkpoint: /home/wy/ML_study/chapter5/checkpoints/rnn/_transformer_checkpoint41.pt\n",
      "2021-11-13 11:10:38 | INFO | hw5.transformer | end of epoch 41\n"
     ]
    },
    {
     "data": {
      "text/plain": "HBox(children=(HTML(value='train epoch 42'), FloatProgress(value=0.0, max=791.0), HTML(value='')))",
      "application/vnd.jupyter.widget-view+json": {
       "version_major": 2,
       "version_minor": 0,
       "model_id": "3d823b05b4d547f99dd7466d74883d52"
      }
     },
     "metadata": {},
     "output_type": "display_data"
    },
    {
     "name": "stdout",
     "output_type": "stream",
     "text": [
      "2021-11-13 11:12:44 | INFO | hw5.transformer | training loss: 3.4969\n",
      "2021-11-13 11:12:44 | INFO | hw5.transformer | begin validation\n"
     ]
    },
    {
     "data": {
      "text/plain": "HBox(children=(HTML(value='validation'), FloatProgress(value=0.0, max=22.0), HTML(value='')))",
      "application/vnd.jupyter.widget-view+json": {
       "version_major": 2,
       "version_minor": 0,
       "model_id": "52b32f085ffc4a3f854d4605ae93aa25"
      }
     },
     "metadata": {},
     "output_type": "display_data"
    },
    {
     "name": "stdout",
     "output_type": "stream",
     "text": [
      "2021-11-13 11:13:02 | INFO | hw5.transformer | example source: and finally , my most recent image , which has such a special meaning for me personally: this is the serengeti national park in tanzania .\n",
      "2021-11-13 11:13:02 | INFO | hw5.transformer | example hypothesis: 最後 , 我最近的影像 , 對我個人來說 , 有一個特別的意義:這是坦尚尼亞的塞倫蓋蒂國家公園 。\n",
      "2021-11-13 11:13:02 | INFO | hw5.transformer | example reference: 最後 , 我最新的影像 , 對我個人有特別的意義:這是位於坦尚尼亞的塞倫蓋提國家公園 。\n",
      "2021-11-13 11:13:02 | INFO | hw5.transformer | validation loss:\t3.4472\n",
      "2021-11-13 11:13:02 | INFO | hw5.transformer | BLEU = 24.11 58.9/33.0/19.4/11.9 (BP = 0.931 ratio = 0.934 hyp_len = 104382 ref_len = 111811)\n",
      "2021-11-13 11:13:03 | INFO | hw5.transformer | saved epoch checkpoint: /home/wy/ML_study/chapter5/checkpoints/rnn/_transformer_checkpoint42.pt\n",
      "2021-11-13 11:13:03 | INFO | hw5.transformer | end of epoch 42\n"
     ]
    },
    {
     "data": {
      "text/plain": "HBox(children=(HTML(value='train epoch 43'), FloatProgress(value=0.0, max=791.0), HTML(value='')))",
      "application/vnd.jupyter.widget-view+json": {
       "version_major": 2,
       "version_minor": 0,
       "model_id": "083385de0cfa4c5a84022a097d41b56b"
      }
     },
     "metadata": {},
     "output_type": "display_data"
    },
    {
     "name": "stdout",
     "output_type": "stream",
     "text": [
      "2021-11-13 11:15:09 | INFO | hw5.transformer | training loss: 3.4960\n",
      "2021-11-13 11:15:09 | INFO | hw5.transformer | begin validation\n"
     ]
    },
    {
     "data": {
      "text/plain": "HBox(children=(HTML(value='validation'), FloatProgress(value=0.0, max=22.0), HTML(value='')))",
      "application/vnd.jupyter.widget-view+json": {
       "version_major": 2,
       "version_minor": 0,
       "model_id": "36cdb89fed08405dbd6827a3aedf1d38"
      }
     },
     "metadata": {},
     "output_type": "display_data"
    },
    {
     "name": "stdout",
     "output_type": "stream",
     "text": [
      "2021-11-13 11:15:28 | INFO | hw5.transformer | example source: that freedom getting back into the hands of the consumer , that would be the most exciting thing .\n",
      "2021-11-13 11:15:28 | INFO | hw5.transformer | example hypothesis: 那個自由回到消費者手中那就是最令人興奮的事\n",
      "2021-11-13 11:15:28 | INFO | hw5.transformer | example reference: 那自由重回消費者的手中 , 將會是最使人興奮的事情 。\n",
      "2021-11-13 11:15:28 | INFO | hw5.transformer | validation loss:\t3.4449\n",
      "2021-11-13 11:15:28 | INFO | hw5.transformer | BLEU = 23.84 58.4/32.6/19.0/11.6 (BP = 0.936 ratio = 0.938 hyp_len = 104921 ref_len = 111811)\n",
      "2021-11-13 11:15:28 | INFO | hw5.transformer | saved epoch checkpoint: /home/wy/ML_study/chapter5/checkpoints/rnn/_transformer_checkpoint43.pt\n",
      "2021-11-13 11:15:28 | INFO | hw5.transformer | end of epoch 43\n"
     ]
    },
    {
     "data": {
      "text/plain": "HBox(children=(HTML(value='train epoch 44'), FloatProgress(value=0.0, max=791.0), HTML(value='')))",
      "application/vnd.jupyter.widget-view+json": {
       "version_major": 2,
       "version_minor": 0,
       "model_id": "61d37c28b960411799ceeac2452b1ebd"
      }
     },
     "metadata": {},
     "output_type": "display_data"
    },
    {
     "name": "stdout",
     "output_type": "stream",
     "text": [
      "2021-11-13 11:17:38 | INFO | hw5.transformer | training loss: 3.4918\n",
      "2021-11-13 11:17:38 | INFO | hw5.transformer | begin validation\n"
     ]
    },
    {
     "data": {
      "text/plain": "HBox(children=(HTML(value='validation'), FloatProgress(value=0.0, max=22.0), HTML(value='')))",
      "application/vnd.jupyter.widget-view+json": {
       "version_major": 2,
       "version_minor": 0,
       "model_id": "ead563c4f1ed4b7d866b27e55c45c3f1"
      }
     },
     "metadata": {},
     "output_type": "display_data"
    },
    {
     "name": "stdout",
     "output_type": "stream",
     "text": [
      "2021-11-13 11:17:59 | INFO | hw5.transformer | example source: and when people draw diagrams of git workflow , they use drawings that look like this .\n",
      "2021-11-13 11:17:59 | INFO | hw5.transformer | example hypothesis: 當人們畫出git工作流動圖像時 , 他們會用這些圖像來繪製這樣的畫 。\n",
      "2021-11-13 11:17:59 | INFO | hw5.transformer | example reference: 而要製作git的工作流程示意圖時它們都會長得像這樣\n",
      "2021-11-13 11:17:59 | INFO | hw5.transformer | validation loss:\t3.4456\n",
      "2021-11-13 11:17:59 | INFO | hw5.transformer | BLEU = 24.19 57.9/32.3/18.9/11.6 (BP = 0.957 ratio = 0.958 hyp_len = 107119 ref_len = 111811)\n",
      "2021-11-13 11:17:59 | INFO | hw5.transformer | saved epoch checkpoint: /home/wy/ML_study/chapter5/checkpoints/rnn/_transformer_checkpoint44.pt\n",
      "2021-11-13 11:17:59 | INFO | hw5.transformer | end of epoch 44\n"
     ]
    },
    {
     "data": {
      "text/plain": "HBox(children=(HTML(value='train epoch 45'), FloatProgress(value=0.0, max=791.0), HTML(value='')))",
      "application/vnd.jupyter.widget-view+json": {
       "version_major": 2,
       "version_minor": 0,
       "model_id": "843eb588af2849109dd11b3b95d986fb"
      }
     },
     "metadata": {},
     "output_type": "display_data"
    },
    {
     "name": "stdout",
     "output_type": "stream",
     "text": [
      "2021-11-13 11:20:06 | INFO | hw5.transformer | training loss: 3.4921\n",
      "2021-11-13 11:20:06 | INFO | hw5.transformer | begin validation\n"
     ]
    },
    {
     "data": {
      "text/plain": "HBox(children=(HTML(value='validation'), FloatProgress(value=0.0, max=22.0), HTML(value='')))",
      "application/vnd.jupyter.widget-view+json": {
       "version_major": 2,
       "version_minor": 0,
       "model_id": "6f3db7a26c9e40098579c7bb4b5f7b2f"
      }
     },
     "metadata": {},
     "output_type": "display_data"
    },
    {
     "name": "stdout",
     "output_type": "stream",
     "text": [
      "2021-11-13 11:20:24 | INFO | hw5.transformer | example source: so here what we're trying to do is we bring the picture and project it into the 3d model space .\n",
      "2021-11-13 11:20:24 | INFO | hw5.transformer | example hypothesis: 接下來我們要做的是將圖片投射到3d模型空間中 。\n",
      "2021-11-13 11:20:24 | INFO | hw5.transformer | example reference: 這裏 , 我們正嘗試將圖片映射到三維模型空間中.\n",
      "2021-11-13 11:20:24 | INFO | hw5.transformer | validation loss:\t3.4572\n",
      "2021-11-13 11:20:24 | INFO | hw5.transformer | BLEU = 23.63 59.7/33.5/19.6/12.1 (BP = 0.899 ratio = 0.904 hyp_len = 101025 ref_len = 111811)\n",
      "2021-11-13 11:20:25 | INFO | hw5.transformer | saved epoch checkpoint: /home/wy/ML_study/chapter5/checkpoints/rnn/_transformer_checkpoint45.pt\n",
      "2021-11-13 11:20:25 | INFO | hw5.transformer | end of epoch 45\n"
     ]
    },
    {
     "data": {
      "text/plain": "HBox(children=(HTML(value='train epoch 46'), FloatProgress(value=0.0, max=791.0), HTML(value='')))",
      "application/vnd.jupyter.widget-view+json": {
       "version_major": 2,
       "version_minor": 0,
       "model_id": "aa1c38740d9a4b84a7ad7a26be148567"
      }
     },
     "metadata": {},
     "output_type": "display_data"
    },
    {
     "name": "stdout",
     "output_type": "stream",
     "text": [
      "2021-11-13 11:22:33 | INFO | hw5.transformer | training loss: 3.4907\n",
      "2021-11-13 11:22:33 | INFO | hw5.transformer | begin validation\n"
     ]
    },
    {
     "data": {
      "text/plain": "HBox(children=(HTML(value='validation'), FloatProgress(value=0.0, max=22.0), HTML(value='')))",
      "application/vnd.jupyter.widget-view+json": {
       "version_major": 2,
       "version_minor": 0,
       "model_id": "e93795d4a9db4cf3aaa09e583f26327d"
      }
     },
     "metadata": {},
     "output_type": "display_data"
    },
    {
     "name": "stdout",
     "output_type": "stream",
     "text": [
      "2021-11-13 11:22:53 | INFO | hw5.transformer | example source: how do we do that ?\n",
      "2021-11-13 11:22:53 | INFO | hw5.transformer | example hypothesis: 我們該怎麼做 ?\n",
      "2021-11-13 11:22:53 | INFO | hw5.transformer | example reference: 那我們應該如何做呢 ?\n",
      "2021-11-13 11:22:53 | INFO | hw5.transformer | validation loss:\t3.4449\n",
      "2021-11-13 11:22:53 | INFO | hw5.transformer | BLEU = 24.52 56.9/31.7/18.5/11.4 (BP = 0.989 ratio = 0.989 hyp_len = 110542 ref_len = 111811)\n",
      "2021-11-13 11:22:54 | INFO | hw5.transformer | saved epoch checkpoint: /home/wy/ML_study/chapter5/checkpoints/rnn/_transformer_checkpoint46.pt\n",
      "2021-11-13 11:22:54 | INFO | hw5.transformer | end of epoch 46\n"
     ]
    },
    {
     "data": {
      "text/plain": "HBox(children=(HTML(value='train epoch 47'), FloatProgress(value=0.0, max=791.0), HTML(value='')))",
      "application/vnd.jupyter.widget-view+json": {
       "version_major": 2,
       "version_minor": 0,
       "model_id": "d34178e93ead4fa78fcd4166b5b6e906"
      }
     },
     "metadata": {},
     "output_type": "display_data"
    },
    {
     "name": "stdout",
     "output_type": "stream",
     "text": [
      "2021-11-13 11:25:00 | INFO | hw5.transformer | training loss: 3.4881\n",
      "2021-11-13 11:25:00 | INFO | hw5.transformer | begin validation\n"
     ]
    },
    {
     "data": {
      "text/plain": "HBox(children=(HTML(value='validation'), FloatProgress(value=0.0, max=22.0), HTML(value='')))",
      "application/vnd.jupyter.widget-view+json": {
       "version_major": 2,
       "version_minor": 0,
       "model_id": "d04384c92c66496da6ff9cd75ac8bc26"
      }
     },
     "metadata": {},
     "output_type": "display_data"
    },
    {
     "name": "stdout",
     "output_type": "stream",
     "text": [
      "2021-11-13 11:25:18 | INFO | hw5.transformer | example source: second , we need to save our oldgrowth forests .\n",
      "2021-11-13 11:25:18 | INFO | hw5.transformer | example hypothesis: 第二 , 我們需要拯救老森林 。\n",
      "2021-11-13 11:25:18 | INFO | hw5.transformer | example reference: 第二 , 我們需要拯救我們的老齡林 。\n",
      "2021-11-13 11:25:18 | INFO | hw5.transformer | validation loss:\t3.4450\n",
      "2021-11-13 11:25:18 | INFO | hw5.transformer | BLEU = 24.08 59.0/33.2/19.4/11.9 (BP = 0.928 ratio = 0.930 hyp_len = 104014 ref_len = 111811)\n",
      "2021-11-13 11:25:19 | INFO | hw5.transformer | saved epoch checkpoint: /home/wy/ML_study/chapter5/checkpoints/rnn/_transformer_checkpoint47.pt\n",
      "2021-11-13 11:25:19 | INFO | hw5.transformer | end of epoch 47\n"
     ]
    },
    {
     "data": {
      "text/plain": "HBox(children=(HTML(value='train epoch 48'), FloatProgress(value=0.0, max=791.0), HTML(value='')))",
      "application/vnd.jupyter.widget-view+json": {
       "version_major": 2,
       "version_minor": 0,
       "model_id": "a9f3b65155064bdf867caf57e7c3f64a"
      }
     },
     "metadata": {},
     "output_type": "display_data"
    },
    {
     "name": "stdout",
     "output_type": "stream",
     "text": [
      "2021-11-13 11:27:27 | INFO | hw5.transformer | training loss: 3.4866\n",
      "2021-11-13 11:27:27 | INFO | hw5.transformer | begin validation\n"
     ]
    },
    {
     "data": {
      "text/plain": "HBox(children=(HTML(value='validation'), FloatProgress(value=0.0, max=22.0), HTML(value='')))",
      "application/vnd.jupyter.widget-view+json": {
       "version_major": 2,
       "version_minor": 0,
       "model_id": "af63fa09f5be410c9f2727c4d902c8b6"
      }
     },
     "metadata": {},
     "output_type": "display_data"
    },
    {
     "name": "stdout",
     "output_type": "stream",
     "text": [
      "2021-11-13 11:27:47 | INFO | hw5.transformer | example source: my aim is to take a simple portrait of anyone who's anything other than 100 percent straight or feels like they fall in the lgbtq spectrum in any way .\n",
      "2021-11-13 11:27:47 | INFO | hw5.transformer | example hypothesis: 我的目標是把一個簡單的肖像帶給任何人 , 任何人 , 比100%直 , 或感覺他們都落在lgbtq光譜中 。\n",
      "2021-11-13 11:27:47 | INFO | hw5.transformer | example reference: 我的目標是為在任何方面覺得自己不是百分之百 \" 直 \" 的人拍攝一幅簡單的肖像 。\n",
      "2021-11-13 11:27:47 | INFO | hw5.transformer | validation loss:\t3.4419\n",
      "2021-11-13 11:27:47 | INFO | hw5.transformer | BLEU = 23.96 59.2/33.2/19.5/12.0 (BP = 0.921 ratio = 0.924 hyp_len = 103305 ref_len = 111811)\n",
      "2021-11-13 11:27:47 | INFO | hw5.transformer | saved epoch checkpoint: /home/wy/ML_study/chapter5/checkpoints/rnn/_transformer_checkpoint48.pt\n",
      "2021-11-13 11:27:47 | INFO | hw5.transformer | end of epoch 48\n"
     ]
    },
    {
     "data": {
      "text/plain": "HBox(children=(HTML(value='train epoch 49'), FloatProgress(value=0.0, max=791.0), HTML(value='')))",
      "application/vnd.jupyter.widget-view+json": {
       "version_major": 2,
       "version_minor": 0,
       "model_id": "f835afb912194bf8a72dd5129ca04e5f"
      }
     },
     "metadata": {},
     "output_type": "display_data"
    },
    {
     "name": "stdout",
     "output_type": "stream",
     "text": [
      "2021-11-13 11:29:52 | INFO | hw5.transformer | training loss: 3.4867\n",
      "2021-11-13 11:29:52 | INFO | hw5.transformer | begin validation\n"
     ]
    },
    {
     "data": {
      "text/plain": "HBox(children=(HTML(value='validation'), FloatProgress(value=0.0, max=22.0), HTML(value='')))",
      "application/vnd.jupyter.widget-view+json": {
       "version_major": 2,
       "version_minor": 0,
       "model_id": "9ff09d0a9e334647b726a9a3aa429a2c"
      }
     },
     "metadata": {},
     "output_type": "display_data"
    },
    {
     "name": "stdout",
     "output_type": "stream",
     "text": [
      "2021-11-13 11:30:11 | INFO | hw5.transformer | example source: i thought that i couldn't come here without giving you something special .\n",
      "2021-11-13 11:30:11 | INFO | hw5.transformer | example hypothesis: 我想 , 如果沒有給你特殊的東西 , 我無法來這裡 。\n",
      "2021-11-13 11:30:11 | INFO | hw5.transformer | example reference: 我想既然來到了這裡 , 就一定要給你們一些特別的東西 。\n",
      "2021-11-13 11:30:11 | INFO | hw5.transformer | validation loss:\t3.4396\n",
      "2021-11-13 11:30:11 | INFO | hw5.transformer | BLEU = 24.13 58.7/32.9/19.3/11.9 (BP = 0.935 ratio = 0.937 hyp_len = 104761 ref_len = 111811)\n",
      "2021-11-13 11:30:11 | INFO | hw5.transformer | saved epoch checkpoint: /home/wy/ML_study/chapter5/checkpoints/rnn/_transformer_checkpoint49.pt\n",
      "2021-11-13 11:30:12 | INFO | hw5.transformer | end of epoch 49\n"
     ]
    },
    {
     "data": {
      "text/plain": "HBox(children=(HTML(value='train epoch 50'), FloatProgress(value=0.0, max=791.0), HTML(value='')))",
      "application/vnd.jupyter.widget-view+json": {
       "version_major": 2,
       "version_minor": 0,
       "model_id": "0c9e0b9e130b4658b0cdf0cdc9741b7d"
      }
     },
     "metadata": {},
     "output_type": "display_data"
    },
    {
     "name": "stdout",
     "output_type": "stream",
     "text": [
      "2021-11-13 11:32:18 | INFO | hw5.transformer | training loss: 3.4859\n",
      "2021-11-13 11:32:18 | INFO | hw5.transformer | begin validation\n"
     ]
    },
    {
     "data": {
      "text/plain": "HBox(children=(HTML(value='validation'), FloatProgress(value=0.0, max=22.0), HTML(value='')))",
      "application/vnd.jupyter.widget-view+json": {
       "version_major": 2,
       "version_minor": 0,
       "model_id": "0fc49b03869f49b4a3e0c929bce4db8d"
      }
     },
     "metadata": {},
     "output_type": "display_data"
    },
    {
     "name": "stdout",
     "output_type": "stream",
     "text": [
      "2021-11-13 11:32:37 | INFO | hw5.transformer | example source: a chinese scholar would understand 20 , 000 characters .\n",
      "2021-11-13 11:32:37 | INFO | hw5.transformer | example hypothesis: 中國學者會了解兩萬個角色 。\n",
      "2021-11-13 11:32:37 | INFO | hw5.transformer | example reference: 中國讀書人能識得二萬個中文字\n",
      "2021-11-13 11:32:37 | INFO | hw5.transformer | validation loss:\t3.4412\n",
      "2021-11-13 11:32:37 | INFO | hw5.transformer | BLEU = 24.27 58.8/33.0/19.4/12.0 (BP = 0.937 ratio = 0.939 hyp_len = 105030 ref_len = 111811)\n",
      "2021-11-13 11:32:37 | INFO | hw5.transformer | saved epoch checkpoint: /home/wy/ML_study/chapter5/checkpoints/rnn/_transformer_checkpoint50.pt\n",
      "2021-11-13 11:32:37 | INFO | hw5.transformer | end of epoch 50\n"
     ]
    },
    {
     "data": {
      "text/plain": "HBox(children=(HTML(value='train epoch 51'), FloatProgress(value=0.0, max=791.0), HTML(value='')))",
      "application/vnd.jupyter.widget-view+json": {
       "version_major": 2,
       "version_minor": 0,
       "model_id": "7e8cb66244544213991b64fa557903b6"
      }
     },
     "metadata": {},
     "output_type": "display_data"
    },
    {
     "name": "stdout",
     "output_type": "stream",
     "text": [
      "2021-11-13 11:34:46 | INFO | hw5.transformer | training loss: 3.4818\n",
      "2021-11-13 11:34:46 | INFO | hw5.transformer | begin validation\n"
     ]
    },
    {
     "data": {
      "text/plain": "HBox(children=(HTML(value='validation'), FloatProgress(value=0.0, max=22.0), HTML(value='')))",
      "application/vnd.jupyter.widget-view+json": {
       "version_major": 2,
       "version_minor": 0,
       "model_id": "7f60f546aac84d63aaa400d638add198"
      }
     },
     "metadata": {},
     "output_type": "display_data"
    },
    {
     "name": "stdout",
     "output_type": "stream",
     "text": [
      "2021-11-13 11:35:05 | INFO | hw5.transformer | example source: all cacilda and i have done is extend this sharing behavior to sexuality .\n",
      "2021-11-13 11:35:05 | INFO | hw5.transformer | example hypothesis: 所有的卡西達和我做的都是將分享行為延伸給性行為 。\n",
      "2021-11-13 11:35:05 | INFO | hw5.transformer | example reference: 卡欣達和我一直以來所探討的是 , 將這種共享行為延伸到性行為 ,\n",
      "2021-11-13 11:35:05 | INFO | hw5.transformer | validation loss:\t3.4366\n",
      "2021-11-13 11:35:05 | INFO | hw5.transformer | BLEU = 24.07 59.1/33.2/19.5/12.0 (BP = 0.924 ratio = 0.926 hyp_len = 103586 ref_len = 111811)\n",
      "2021-11-13 11:35:05 | INFO | hw5.transformer | saved epoch checkpoint: /home/wy/ML_study/chapter5/checkpoints/rnn/_transformer_checkpoint51.pt\n",
      "2021-11-13 11:35:05 | INFO | hw5.transformer | end of epoch 51\n"
     ]
    },
    {
     "data": {
      "text/plain": "HBox(children=(HTML(value='train epoch 52'), FloatProgress(value=0.0, max=791.0), HTML(value='')))",
      "application/vnd.jupyter.widget-view+json": {
       "version_major": 2,
       "version_minor": 0,
       "model_id": "de2c2ac154c348a39fa5cb88ede14d26"
      }
     },
     "metadata": {},
     "output_type": "display_data"
    },
    {
     "name": "stdout",
     "output_type": "stream",
     "text": [
      "2021-11-13 11:37:14 | INFO | hw5.transformer | training loss: 3.4830\n",
      "2021-11-13 11:37:14 | INFO | hw5.transformer | begin validation\n"
     ]
    },
    {
     "data": {
      "text/plain": "HBox(children=(HTML(value='validation'), FloatProgress(value=0.0, max=22.0), HTML(value='')))",
      "application/vnd.jupyter.widget-view+json": {
       "version_major": 2,
       "version_minor": 0,
       "model_id": "4a0c6658691140e5a9309dad72d44939"
      }
     },
     "metadata": {},
     "output_type": "display_data"
    },
    {
     "name": "stdout",
     "output_type": "stream",
     "text": [
      "2021-11-13 11:37:34 | INFO | hw5.transformer | example source: however , by comparing data that ties together both density and diversity from what we hear , i'm able to arrive at much more precise fitness outcomes .\n",
      "2021-11-13 11:37:34 | INFO | hw5.transformer | example hypothesis: 然而 , 把密度和多樣性的資料做比較 , 我可以得到更精確的健康結果 。\n",
      "2021-11-13 11:37:34 | INFO | hw5.transformer | example reference: 不過我能以比較我們所聽到結合了密度及多樣性的數據得到更精確的棲地健康報告\n",
      "2021-11-13 11:37:34 | INFO | hw5.transformer | validation loss:\t3.4360\n",
      "2021-11-13 11:37:34 | INFO | hw5.transformer | BLEU = 24.45 58.1/32.6/19.0/11.7 (BP = 0.960 ratio = 0.961 hyp_len = 107413 ref_len = 111811)\n",
      "2021-11-13 11:37:34 | INFO | hw5.transformer | saved epoch checkpoint: /home/wy/ML_study/chapter5/checkpoints/rnn/_transformer_checkpoint52.pt\n",
      "2021-11-13 11:37:34 | INFO | hw5.transformer | end of epoch 52\n"
     ]
    },
    {
     "data": {
      "text/plain": "HBox(children=(HTML(value='train epoch 53'), FloatProgress(value=0.0, max=791.0), HTML(value='')))",
      "application/vnd.jupyter.widget-view+json": {
       "version_major": 2,
       "version_minor": 0,
       "model_id": "a35faa5d00a6440f842f11ff34594109"
      }
     },
     "metadata": {},
     "output_type": "display_data"
    },
    {
     "name": "stdout",
     "output_type": "stream",
     "text": [
      "2021-11-13 11:39:42 | INFO | hw5.transformer | training loss: 3.4804\n",
      "2021-11-13 11:39:42 | INFO | hw5.transformer | begin validation\n"
     ]
    },
    {
     "data": {
      "text/plain": "HBox(children=(HTML(value='validation'), FloatProgress(value=0.0, max=22.0), HTML(value='')))",
      "application/vnd.jupyter.widget-view+json": {
       "version_major": 2,
       "version_minor": 0,
       "model_id": "38ee02da6d684c64a65151d9572f4c19"
      }
     },
     "metadata": {},
     "output_type": "display_data"
    },
    {
     "name": "stdout",
     "output_type": "stream",
     "text": [
      "2021-11-13 11:40:01 | INFO | hw5.transformer | example source: in many cases , you can also see how a building looks from a nearby street .\n",
      "2021-11-13 11:40:01 | INFO | hw5.transformer | example hypothesis: 在許多情況下 , 你也可以看到附近的街道上建築的樣子 。\n",
      "2021-11-13 11:40:01 | INFO | hw5.transformer | example reference: 很多時候你也可以從旁邊的街上看到某棟建築物的的長相\n",
      "2021-11-13 11:40:01 | INFO | hw5.transformer | validation loss:\t3.4368\n",
      "2021-11-13 11:40:01 | INFO | hw5.transformer | BLEU = 24.17 58.8/33.0/19.3/11.9 (BP = 0.935 ratio = 0.937 hyp_len = 104764 ref_len = 111811)\n",
      "2021-11-13 11:40:01 | INFO | hw5.transformer | saved epoch checkpoint: /home/wy/ML_study/chapter5/checkpoints/rnn/_transformer_checkpoint53.pt\n",
      "2021-11-13 11:40:01 | INFO | hw5.transformer | end of epoch 53\n"
     ]
    },
    {
     "data": {
      "text/plain": "HBox(children=(HTML(value='train epoch 54'), FloatProgress(value=0.0, max=791.0), HTML(value='')))",
      "application/vnd.jupyter.widget-view+json": {
       "version_major": 2,
       "version_minor": 0,
       "model_id": "e2dbfda916a54a4eacff6a49de079818"
      }
     },
     "metadata": {},
     "output_type": "display_data"
    },
    {
     "name": "stdout",
     "output_type": "stream",
     "text": [
      "2021-11-13 11:42:09 | INFO | hw5.transformer | training loss: 3.4808\n",
      "2021-11-13 11:42:09 | INFO | hw5.transformer | begin validation\n"
     ]
    },
    {
     "data": {
      "text/plain": "HBox(children=(HTML(value='validation'), FloatProgress(value=0.0, max=22.0), HTML(value='')))",
      "application/vnd.jupyter.widget-view+json": {
       "version_major": 2,
       "version_minor": 0,
       "model_id": "0c9494d3533e4215bbf018eca3366eaa"
      }
     },
     "metadata": {},
     "output_type": "display_data"
    },
    {
     "name": "stdout",
     "output_type": "stream",
     "text": [
      "2021-11-13 11:42:29 | INFO | hw5.transformer | example source: so it's a consumerdriven coop .\n",
      "2021-11-13 11:42:29 | INFO | hw5.transformer | example hypothesis: 這是一個消費者rivencoop 。\n",
      "2021-11-13 11:42:29 | INFO | hw5.transformer | example reference: 形成一個由消費者主導的合作模式 。\n",
      "2021-11-13 11:42:29 | INFO | hw5.transformer | validation loss:\t3.4352\n",
      "2021-11-13 11:42:29 | INFO | hw5.transformer | BLEU = 24.03 58.5/32.7/19.1/11.7 (BP = 0.939 ratio = 0.941 hyp_len = 105182 ref_len = 111811)\n",
      "2021-11-13 11:42:29 | INFO | hw5.transformer | saved epoch checkpoint: /home/wy/ML_study/chapter5/checkpoints/rnn/_transformer_checkpoint54.pt\n",
      "2021-11-13 11:42:29 | INFO | hw5.transformer | end of epoch 54\n"
     ]
    },
    {
     "data": {
      "text/plain": "HBox(children=(HTML(value='train epoch 55'), FloatProgress(value=0.0, max=791.0), HTML(value='')))",
      "application/vnd.jupyter.widget-view+json": {
       "version_major": 2,
       "version_minor": 0,
       "model_id": "d0b08006f9ab4589b34569543b492242"
      }
     },
     "metadata": {},
     "output_type": "display_data"
    },
    {
     "name": "stdout",
     "output_type": "stream",
     "text": [
      "2021-11-13 11:44:38 | INFO | hw5.transformer | training loss: 3.4795\n",
      "2021-11-13 11:44:38 | INFO | hw5.transformer | begin validation\n"
     ]
    },
    {
     "data": {
      "text/plain": "HBox(children=(HTML(value='validation'), FloatProgress(value=0.0, max=22.0), HTML(value='')))",
      "application/vnd.jupyter.widget-view+json": {
       "version_major": 2,
       "version_minor": 0,
       "model_id": "ec65baa1e0ba4101891064847a147a50"
      }
     },
     "metadata": {},
     "output_type": "display_data"
    },
    {
     "name": "stdout",
     "output_type": "stream",
     "text": [
      "2021-11-13 11:44:57 | INFO | hw5.transformer | example source: many tell us that they're one of only a few homes on their block that are occupied , and that they can see several abandoned homes from where they sit on their porches .\n",
      "2021-11-13 11:44:57 | INFO | hw5.transformer | example hypothesis: 許多人告訴我們 , 他們只是其中一個被佔領的街區的幾個家之一 , 他們可以看到有數個廢棄的家 , 從他們坐在他們家附近的地方 。\n",
      "2021-11-13 11:44:57 | INFO | hw5.transformer | example reference: 很多人告訴我們 , 他們的房子是街區裡為數不多還住著人的 , 他們坐在自家的門廊就可以看到好幾座廢棄的房子 。\n",
      "2021-11-13 11:44:57 | INFO | hw5.transformer | validation loss:\t3.4371\n",
      "2021-11-13 11:44:57 | INFO | hw5.transformer | BLEU = 23.89 59.1/33.2/19.4/12.0 (BP = 0.920 ratio = 0.923 hyp_len = 103157 ref_len = 111811)\n",
      "2021-11-13 11:44:57 | INFO | hw5.transformer | saved epoch checkpoint: /home/wy/ML_study/chapter5/checkpoints/rnn/_transformer_checkpoint55.pt\n",
      "2021-11-13 11:44:57 | INFO | hw5.transformer | end of epoch 55\n"
     ]
    },
    {
     "data": {
      "text/plain": "HBox(children=(HTML(value='train epoch 56'), FloatProgress(value=0.0, max=791.0), HTML(value='')))",
      "application/vnd.jupyter.widget-view+json": {
       "version_major": 2,
       "version_minor": 0,
       "model_id": "f7dd5d0f5d6e48ab8818ea254d735542"
      }
     },
     "metadata": {},
     "output_type": "display_data"
    },
    {
     "name": "stdout",
     "output_type": "stream",
     "text": [
      "2021-11-13 11:47:04 | INFO | hw5.transformer | training loss: 3.4783\n",
      "2021-11-13 11:47:04 | INFO | hw5.transformer | begin validation\n"
     ]
    },
    {
     "data": {
      "text/plain": "HBox(children=(HTML(value='validation'), FloatProgress(value=0.0, max=22.0), HTML(value='')))",
      "application/vnd.jupyter.widget-view+json": {
       "version_major": 2,
       "version_minor": 0,
       "model_id": "616badafd3e1493abc785fc03d0d819f"
      }
     },
     "metadata": {},
     "output_type": "display_data"
    },
    {
     "name": "stdout",
     "output_type": "stream",
     "text": [
      "2021-11-13 11:47:23 | INFO | hw5.transformer | example source: this one comes from a note that a student sent me after i gave a lecture about arousal nonconcordance .\n",
      "2021-11-13 11:47:23 | INFO | hw5.transformer | example hypothesis: 這一個是來自一個學生在我演講後寄給我一個關於無關緊要的演講 。\n",
      "2021-11-13 11:47:23 | INFO | hw5.transformer | example reference: 這個故事來自一名學生寫給我的字條 , 這是在我教完關於性興奮不一致的課之後 。\n",
      "2021-11-13 11:47:23 | INFO | hw5.transformer | validation loss:\t3.4447\n",
      "2021-11-13 11:47:23 | INFO | hw5.transformer | BLEU = 23.91 59.4/33.4/19.5/12.0 (BP = 0.917 ratio = 0.920 hyp_len = 102872 ref_len = 111811)\n",
      "2021-11-13 11:47:23 | INFO | hw5.transformer | saved epoch checkpoint: /home/wy/ML_study/chapter5/checkpoints/rnn/_transformer_checkpoint56.pt\n",
      "2021-11-13 11:47:24 | INFO | hw5.transformer | end of epoch 56\n"
     ]
    },
    {
     "data": {
      "text/plain": "HBox(children=(HTML(value='train epoch 57'), FloatProgress(value=0.0, max=791.0), HTML(value='')))",
      "application/vnd.jupyter.widget-view+json": {
       "version_major": 2,
       "version_minor": 0,
       "model_id": "161bfa2b353f4926bc32816141238c36"
      }
     },
     "metadata": {},
     "output_type": "display_data"
    },
    {
     "name": "stdout",
     "output_type": "stream",
     "text": [
      "2021-11-13 11:49:33 | INFO | hw5.transformer | training loss: 3.4749\n",
      "2021-11-13 11:49:33 | INFO | hw5.transformer | begin validation\n"
     ]
    },
    {
     "data": {
      "text/plain": "HBox(children=(HTML(value='validation'), FloatProgress(value=0.0, max=22.0), HTML(value='')))",
      "application/vnd.jupyter.widget-view+json": {
       "version_major": 2,
       "version_minor": 0,
       "model_id": "f78435568f4c4b3b965ff18dfb0bdb96"
      }
     },
     "metadata": {},
     "output_type": "display_data"
    },
    {
     "name": "stdout",
     "output_type": "stream",
     "text": [
      "2021-11-13 11:49:53 | INFO | hw5.transformer | example source: now , something else happened .\n",
      "2021-11-13 11:49:53 | INFO | hw5.transformer | example hypothesis: 現在 , 其他事情發生了 。\n",
      "2021-11-13 11:49:53 | INFO | hw5.transformer | example reference: 現在情況發生了變化 。\n",
      "2021-11-13 11:49:53 | INFO | hw5.transformer | validation loss:\t3.4395\n",
      "2021-11-13 11:49:53 | INFO | hw5.transformer | BLEU = 24.65 57.8/32.5/19.1/11.7 (BP = 0.969 ratio = 0.969 hyp_len = 108356 ref_len = 111811)\n",
      "2021-11-13 11:49:53 | INFO | hw5.transformer | saved epoch checkpoint: /home/wy/ML_study/chapter5/checkpoints/rnn/_transformer_checkpoint57.pt\n",
      "2021-11-13 11:49:54 | INFO | hw5.transformer | end of epoch 57\n"
     ]
    },
    {
     "data": {
      "text/plain": "HBox(children=(HTML(value='train epoch 58'), FloatProgress(value=0.0, max=791.0), HTML(value='')))",
      "application/vnd.jupyter.widget-view+json": {
       "version_major": 2,
       "version_minor": 0,
       "model_id": "caa521d2689f4739867ef192b7f4b81b"
      }
     },
     "metadata": {},
     "output_type": "display_data"
    },
    {
     "name": "stdout",
     "output_type": "stream",
     "text": [
      "2021-11-13 11:52:02 | INFO | hw5.transformer | training loss: 3.4757\n",
      "2021-11-13 11:52:02 | INFO | hw5.transformer | begin validation\n"
     ]
    },
    {
     "data": {
      "text/plain": "HBox(children=(HTML(value='validation'), FloatProgress(value=0.0, max=22.0), HTML(value='')))",
      "application/vnd.jupyter.widget-view+json": {
       "version_major": 2,
       "version_minor": 0,
       "model_id": "c7a0ea5eb856429ea643c0b14955fe05"
      }
     },
     "metadata": {},
     "output_type": "display_data"
    },
    {
     "name": "stdout",
     "output_type": "stream",
     "text": [
      "2021-11-13 11:52:21 | INFO | hw5.transformer | example source: and i always thought that was a very annie hall kind of outfit .\n",
      "2021-11-13 11:52:21 | INFO | hw5.transformer | example hypothesis: 我一直以為那是一間非常安妮的大廳 。\n",
      "2021-11-13 11:52:21 | INFO | hw5.transformer | example reference: 我一直覺得那很像安妮霍爾那部電影裡的戲服 ,\n",
      "2021-11-13 11:52:21 | INFO | hw5.transformer | validation loss:\t3.4377\n",
      "2021-11-13 11:52:21 | INFO | hw5.transformer | BLEU = 24.21 59.3/33.5/19.7/12.2 (BP = 0.920 ratio = 0.923 hyp_len = 103225 ref_len = 111811)\n",
      "2021-11-13 11:52:21 | INFO | hw5.transformer | saved epoch checkpoint: /home/wy/ML_study/chapter5/checkpoints/rnn/_transformer_checkpoint58.pt\n",
      "2021-11-13 11:52:21 | INFO | hw5.transformer | end of epoch 58\n"
     ]
    },
    {
     "data": {
      "text/plain": "HBox(children=(HTML(value='train epoch 59'), FloatProgress(value=0.0, max=791.0), HTML(value='')))",
      "application/vnd.jupyter.widget-view+json": {
       "version_major": 2,
       "version_minor": 0,
       "model_id": "0ebc780526884f74b7bc26c6831e6d35"
      }
     },
     "metadata": {},
     "output_type": "display_data"
    },
    {
     "name": "stdout",
     "output_type": "stream",
     "text": [
      "2021-11-13 11:54:26 | INFO | hw5.transformer | training loss: 3.4751\n",
      "2021-11-13 11:54:26 | INFO | hw5.transformer | begin validation\n"
     ]
    },
    {
     "data": {
      "text/plain": "HBox(children=(HTML(value='validation'), FloatProgress(value=0.0, max=22.0), HTML(value='')))",
      "application/vnd.jupyter.widget-view+json": {
       "version_major": 2,
       "version_minor": 0,
       "model_id": "8d9e08943af448109683b61ca3cd25be"
      }
     },
     "metadata": {},
     "output_type": "display_data"
    },
    {
     "name": "stdout",
     "output_type": "stream",
     "text": [
      "2021-11-13 11:54:45 | INFO | hw5.transformer | example source: damn . but you know , watson is growing up fast .\n",
      "2021-11-13 11:54:45 | INFO | hw5.transformer | example hypothesis: 嗯 , 華生長得很快 。\n",
      "2021-11-13 11:54:45 | INFO | hw5.transformer | example reference: 該死 ! 但你們知道嗎 ? 沃森長得很快\n",
      "2021-11-13 11:54:45 | INFO | hw5.transformer | validation loss:\t3.4332\n",
      "2021-11-13 11:54:45 | INFO | hw5.transformer | BLEU = 24.13 59.3/33.5/19.7/12.2 (BP = 0.918 ratio = 0.921 hyp_len = 102999 ref_len = 111811)\n",
      "2021-11-13 11:54:45 | INFO | hw5.transformer | saved epoch checkpoint: /home/wy/ML_study/chapter5/checkpoints/rnn/_transformer_checkpoint59.pt\n",
      "2021-11-13 11:54:45 | INFO | hw5.transformer | end of epoch 59\n"
     ]
    },
    {
     "data": {
      "text/plain": "HBox(children=(HTML(value='train epoch 60'), FloatProgress(value=0.0, max=791.0), HTML(value='')))",
      "application/vnd.jupyter.widget-view+json": {
       "version_major": 2,
       "version_minor": 0,
       "model_id": "16f77e052b27441d82633b881b218f1c"
      }
     },
     "metadata": {},
     "output_type": "display_data"
    },
    {
     "name": "stdout",
     "output_type": "stream",
     "text": [
      "2021-11-13 11:56:53 | INFO | hw5.transformer | training loss: 3.4726\n",
      "2021-11-13 11:56:53 | INFO | hw5.transformer | begin validation\n"
     ]
    },
    {
     "data": {
      "text/plain": "HBox(children=(HTML(value='validation'), FloatProgress(value=0.0, max=22.0), HTML(value='')))",
      "application/vnd.jupyter.widget-view+json": {
       "version_major": 2,
       "version_minor": 0,
       "model_id": "b0da9e6625a345deb9aaf01c13dd2a60"
      }
     },
     "metadata": {},
     "output_type": "display_data"
    },
    {
     "name": "stdout",
     "output_type": "stream",
     "text": [
      "2021-11-13 11:57:12 | INFO | hw5.transformer | example source: why is it that we treat culture erasure and economic displacement as inevitable ?\n",
      "2021-11-13 11:57:12 | INFO | hw5.transformer | example hypothesis: 為什麼我們要把文化不可避免的荒謬和經濟失所當作不可避免 ?\n",
      "2021-11-13 11:57:12 | INFO | hw5.transformer | example reference: 為什麼我們會把文化抹除和經濟位移視為不可避免 ?\n",
      "2021-11-13 11:57:12 | INFO | hw5.transformer | validation loss:\t3.4309\n",
      "2021-11-13 11:57:12 | INFO | hw5.transformer | BLEU = 24.20 58.6/32.8/19.2/11.8 (BP = 0.943 ratio = 0.944 hyp_len = 105560 ref_len = 111811)\n",
      "2021-11-13 11:57:12 | INFO | hw5.transformer | saved epoch checkpoint: /home/wy/ML_study/chapter5/checkpoints/rnn/_transformer_checkpoint60.pt\n",
      "2021-11-13 11:57:12 | INFO | hw5.transformer | end of epoch 60\n"
     ]
    },
    {
     "data": {
      "text/plain": "HBox(children=(HTML(value='train epoch 61'), FloatProgress(value=0.0, max=791.0), HTML(value='')))",
      "application/vnd.jupyter.widget-view+json": {
       "version_major": 2,
       "version_minor": 0,
       "model_id": "1cd0913b2623471ebef9671986f1f136"
      }
     },
     "metadata": {},
     "output_type": "display_data"
    },
    {
     "name": "stdout",
     "output_type": "stream",
     "text": [
      "2021-11-13 11:59:19 | INFO | hw5.transformer | training loss: 3.4724\n",
      "2021-11-13 11:59:20 | INFO | hw5.transformer | begin validation\n"
     ]
    },
    {
     "data": {
      "text/plain": "HBox(children=(HTML(value='validation'), FloatProgress(value=0.0, max=22.0), HTML(value='')))",
      "application/vnd.jupyter.widget-view+json": {
       "version_major": 2,
       "version_minor": 0,
       "model_id": "f54362d6099a4b5fa5f73ea9d9093705"
      }
     },
     "metadata": {},
     "output_type": "display_data"
    },
    {
     "name": "stdout",
     "output_type": "stream",
     "text": [
      "2021-11-13 11:59:40 | INFO | hw5.transformer | example source: now , these are trivial marketing examples , i accept .\n",
      "2021-11-13 11:59:40 | INFO | hw5.transformer | example hypothesis: 現在 , 我接受這些是微小的行銷例子 。\n",
      "2021-11-13 11:59:40 | INFO | hw5.transformer | example reference: 這些都是很細微的市場行銷案例 。\n",
      "2021-11-13 11:59:40 | INFO | hw5.transformer | validation loss:\t3.4282\n",
      "2021-11-13 11:59:40 | INFO | hw5.transformer | BLEU = 24.24 58.7/32.9/19.3/11.9 (BP = 0.940 ratio = 0.941 hyp_len = 105266 ref_len = 111811)\n",
      "2021-11-13 11:59:40 | INFO | hw5.transformer | saved epoch checkpoint: /home/wy/ML_study/chapter5/checkpoints/rnn/_transformer_checkpoint61.pt\n",
      "2021-11-13 11:59:41 | INFO | hw5.transformer | end of epoch 61\n"
     ]
    },
    {
     "data": {
      "text/plain": "HBox(children=(HTML(value='train epoch 62'), FloatProgress(value=0.0, max=791.0), HTML(value='')))",
      "application/vnd.jupyter.widget-view+json": {
       "version_major": 2,
       "version_minor": 0,
       "model_id": "5f0bfba2d96a4148ba132a48e6b87178"
      }
     },
     "metadata": {},
     "output_type": "display_data"
    },
    {
     "name": "stdout",
     "output_type": "stream",
     "text": [
      "2021-11-13 12:01:49 | INFO | hw5.transformer | training loss: 3.4708\n",
      "2021-11-13 12:01:49 | INFO | hw5.transformer | begin validation\n"
     ]
    },
    {
     "data": {
      "text/plain": "HBox(children=(HTML(value='validation'), FloatProgress(value=0.0, max=22.0), HTML(value='')))",
      "application/vnd.jupyter.widget-view+json": {
       "version_major": 2,
       "version_minor": 0,
       "model_id": "88e74e5b96eb496ca7f5b53c75022d2a"
      }
     },
     "metadata": {},
     "output_type": "display_data"
    },
    {
     "name": "stdout",
     "output_type": "stream",
     "text": [
      "2021-11-13 12:02:09 | INFO | hw5.transformer | example source: but to give it to ourselves right now means a level of arrogance or cockiness that we're not comfortable with .\n",
      "2021-11-13 12:02:09 | INFO | hw5.transformer | example hypothesis: 但現在給我們自己看 , 意味著我們不舒服的自我認知或認知程度 。\n",
      "2021-11-13 12:02:09 | INFO | hw5.transformer | example reference: 如果想成是當下我們就能承當的頭銜意涵某種程度讓人不舒服的驕傲自大\n",
      "2021-11-13 12:02:09 | INFO | hw5.transformer | validation loss:\t3.4274\n",
      "2021-11-13 12:02:09 | INFO | hw5.transformer | BLEU = 24.38 58.5/32.8/19.2/11.8 (BP = 0.949 ratio = 0.950 hyp_len = 106231 ref_len = 111811)\n",
      "2021-11-13 12:02:10 | INFO | hw5.transformer | saved epoch checkpoint: /home/wy/ML_study/chapter5/checkpoints/rnn/_transformer_checkpoint62.pt\n",
      "2021-11-13 12:02:10 | INFO | hw5.transformer | end of epoch 62\n"
     ]
    },
    {
     "data": {
      "text/plain": "HBox(children=(HTML(value='train epoch 63'), FloatProgress(value=0.0, max=791.0), HTML(value='')))",
      "application/vnd.jupyter.widget-view+json": {
       "version_major": 2,
       "version_minor": 0,
       "model_id": "e104fe0cccf94d0fa58982edbbfb6cb7"
      }
     },
     "metadata": {},
     "output_type": "display_data"
    },
    {
     "name": "stdout",
     "output_type": "stream",
     "text": [
      "2021-11-13 12:04:20 | INFO | hw5.transformer | training loss: 3.4710\n",
      "2021-11-13 12:04:20 | INFO | hw5.transformer | begin validation\n"
     ]
    },
    {
     "data": {
      "text/plain": "HBox(children=(HTML(value='validation'), FloatProgress(value=0.0, max=22.0), HTML(value='')))",
      "application/vnd.jupyter.widget-view+json": {
       "version_major": 2,
       "version_minor": 0,
       "model_id": "2f17ebfab65b48fbb8b016d290799111"
      }
     },
     "metadata": {},
     "output_type": "display_data"
    },
    {
     "name": "stdout",
     "output_type": "stream",
     "text": [
      "2021-11-13 12:04:39 | INFO | hw5.transformer | example source: so where are they ?\n",
      "2021-11-13 12:04:39 | INFO | hw5.transformer | example hypothesis: 所以 , 他們在哪裡 ?\n",
      "2021-11-13 12:04:39 | INFO | hw5.transformer | example reference: 但他們在哪 ?\n",
      "2021-11-13 12:04:39 | INFO | hw5.transformer | validation loss:\t3.4368\n",
      "2021-11-13 12:04:39 | INFO | hw5.transformer | BLEU = 24.26 58.9/33.1/19.5/12.0 (BP = 0.933 ratio = 0.935 hyp_len = 104589 ref_len = 111811)\n",
      "2021-11-13 12:04:40 | INFO | hw5.transformer | saved epoch checkpoint: /home/wy/ML_study/chapter5/checkpoints/rnn/_transformer_checkpoint63.pt\n",
      "2021-11-13 12:04:40 | INFO | hw5.transformer | end of epoch 63\n"
     ]
    },
    {
     "data": {
      "text/plain": "HBox(children=(HTML(value='train epoch 64'), FloatProgress(value=0.0, max=791.0), HTML(value='')))",
      "application/vnd.jupyter.widget-view+json": {
       "version_major": 2,
       "version_minor": 0,
       "model_id": "0a0fee0ad1b04fecad82aeec01b801ba"
      }
     },
     "metadata": {},
     "output_type": "display_data"
    },
    {
     "name": "stdout",
     "output_type": "stream",
     "text": [
      "2021-11-13 12:06:57 | INFO | hw5.transformer | training loss: 3.4688\n",
      "2021-11-13 12:06:57 | INFO | hw5.transformer | begin validation\n"
     ]
    },
    {
     "data": {
      "text/plain": "HBox(children=(HTML(value='validation'), FloatProgress(value=0.0, max=22.0), HTML(value='')))",
      "application/vnd.jupyter.widget-view+json": {
       "version_major": 2,
       "version_minor": 0,
       "model_id": "34d84f5fd03a42bfad3c7990d4469f17"
      }
     },
     "metadata": {},
     "output_type": "display_data"
    },
    {
     "name": "stdout",
     "output_type": "stream",
     "text": [
      "2021-11-13 12:07:17 | INFO | hw5.transformer | example source: so with the us leading the era of discovery and china leading the era of implementation , we are now in an amazing age where the dual engine of the two superpowers are working together to drive the fastest revolution in technology that we have ever seen as humans .\n",
      "2021-11-13 12:07:17 | INFO | hw5.transformer | example hypothesis: 所以 , 隨著我們領導發現和中國的時代 , 領導實施的時代 , 我們現在處在一個驚人的時代 , 在那裡 , 兩位超能力的雙重引擎共同合作 , 驅動我們人類所見過最快的科技革命 。\n",
      "2021-11-13 12:07:17 | INFO | hw5.transformer | example reference: 美國領導的是發現的時代 , 而中國領導的是導入的時代 , 我們現在身處一個很了不起的時代 , 這兩種超能力的雙重引擎在同心協力 , 在科技領域中 , 推動我們人類所見過最快速的革命 。\n",
      "2021-11-13 12:07:17 | INFO | hw5.transformer | validation loss:\t3.4335\n",
      "2021-11-13 12:07:17 | INFO | hw5.transformer | BLEU = 24.05 59.1/33.2/19.4/12.0 (BP = 0.925 ratio = 0.928 hyp_len = 103720 ref_len = 111811)\n",
      "2021-11-13 12:07:17 | INFO | hw5.transformer | saved epoch checkpoint: /home/wy/ML_study/chapter5/checkpoints/rnn/_transformer_checkpoint64.pt\n",
      "2021-11-13 12:07:17 | INFO | hw5.transformer | end of epoch 64\n"
     ]
    },
    {
     "data": {
      "text/plain": "HBox(children=(HTML(value='train epoch 65'), FloatProgress(value=0.0, max=791.0), HTML(value='')))",
      "application/vnd.jupyter.widget-view+json": {
       "version_major": 2,
       "version_minor": 0,
       "model_id": "7d640c434fc54e24bb723a7e532210c8"
      }
     },
     "metadata": {},
     "output_type": "display_data"
    },
    {
     "name": "stdout",
     "output_type": "stream",
     "text": [
      "2021-11-13 12:09:33 | INFO | hw5.transformer | training loss: 3.4690\n",
      "2021-11-13 12:09:33 | INFO | hw5.transformer | begin validation\n"
     ]
    },
    {
     "data": {
      "text/plain": "HBox(children=(HTML(value='validation'), FloatProgress(value=0.0, max=22.0), HTML(value='')))",
      "application/vnd.jupyter.widget-view+json": {
       "version_major": 2,
       "version_minor": 0,
       "model_id": "d5b74873acf74b3aa442c450048093d0"
      }
     },
     "metadata": {},
     "output_type": "display_data"
    },
    {
     "name": "stdout",
     "output_type": "stream",
     "text": [
      "2021-11-13 12:09:52 | INFO | hw5.transformer | example source: how would people describe your judgment , your knowledge , your behaviors , in different situations ?\n",
      "2021-11-13 12:09:52 | INFO | hw5.transformer | example hypothesis: 人們要如何描述你的判斷、你的知識、你的行為 , 在不同的情況下 ?\n",
      "2021-11-13 12:09:52 | INFO | hw5.transformer | example reference: 他們會怎樣看你在不同處境下的判斷、知識、和行為 ?\n",
      "2021-11-13 12:09:52 | INFO | hw5.transformer | validation loss:\t3.4331\n",
      "2021-11-13 12:09:52 | INFO | hw5.transformer | BLEU = 23.78 59.6/33.5/19.7/12.2 (BP = 0.903 ratio = 0.908 hyp_len = 101489 ref_len = 111811)\n",
      "2021-11-13 12:09:52 | INFO | hw5.transformer | saved epoch checkpoint: /home/wy/ML_study/chapter5/checkpoints/rnn/_transformer_checkpoint65.pt\n",
      "2021-11-13 12:09:52 | INFO | hw5.transformer | end of epoch 65\n"
     ]
    },
    {
     "data": {
      "text/plain": "HBox(children=(HTML(value='train epoch 66'), FloatProgress(value=0.0, max=791.0), HTML(value='')))",
      "application/vnd.jupyter.widget-view+json": {
       "version_major": 2,
       "version_minor": 0,
       "model_id": "8494d08042f6476a93ae607eba972c14"
      }
     },
     "metadata": {},
     "output_type": "display_data"
    },
    {
     "name": "stdout",
     "output_type": "stream",
     "text": [
      "2021-11-13 12:12:06 | INFO | hw5.transformer | training loss: 3.4664\n",
      "2021-11-13 12:12:06 | INFO | hw5.transformer | begin validation\n"
     ]
    },
    {
     "data": {
      "text/plain": "HBox(children=(HTML(value='validation'), FloatProgress(value=0.0, max=22.0), HTML(value='')))",
      "application/vnd.jupyter.widget-view+json": {
       "version_major": 2,
       "version_minor": 0,
       "model_id": "73044e6e86f847c99a9cf0da9764baaf"
      }
     },
     "metadata": {},
     "output_type": "display_data"
    },
    {
     "name": "stdout",
     "output_type": "stream",
     "text": [
      "2021-11-13 12:12:26 | INFO | hw5.transformer | example source: i'm not holding these out as being the biggest issues .\n",
      "2021-11-13 12:12:26 | INFO | hw5.transformer | example hypothesis: 我不把這些視為最大的議題 。\n",
      "2021-11-13 12:12:26 | INFO | hw5.transformer | example reference: 我不認為這些是最大的問題 ,\n",
      "2021-11-13 12:12:26 | INFO | hw5.transformer | validation loss:\t3.4328\n",
      "2021-11-13 12:12:26 | INFO | hw5.transformer | BLEU = 24.15 59.4/33.4/19.7/12.1 (BP = 0.921 ratio = 0.924 hyp_len = 103272 ref_len = 111811)\n",
      "2021-11-13 12:12:26 | INFO | hw5.transformer | saved epoch checkpoint: /home/wy/ML_study/chapter5/checkpoints/rnn/_transformer_checkpoint66.pt\n",
      "2021-11-13 12:12:26 | INFO | hw5.transformer | end of epoch 66\n"
     ]
    },
    {
     "data": {
      "text/plain": "HBox(children=(HTML(value='train epoch 67'), FloatProgress(value=0.0, max=791.0), HTML(value='')))",
      "application/vnd.jupyter.widget-view+json": {
       "version_major": 2,
       "version_minor": 0,
       "model_id": "089290a7ae844bac826e8d84b07a3c6a"
      }
     },
     "metadata": {},
     "output_type": "display_data"
    },
    {
     "name": "stdout",
     "output_type": "stream",
     "text": [
      "2021-11-13 12:14:46 | INFO | hw5.transformer | training loss: 3.4650\n",
      "2021-11-13 12:14:46 | INFO | hw5.transformer | begin validation\n"
     ]
    },
    {
     "data": {
      "text/plain": "HBox(children=(HTML(value='validation'), FloatProgress(value=0.0, max=22.0), HTML(value='')))",
      "application/vnd.jupyter.widget-view+json": {
       "version_major": 2,
       "version_minor": 0,
       "model_id": "51916ea1ec614dc987e27518ddc5149f"
      }
     },
     "metadata": {},
     "output_type": "display_data"
    },
    {
     "name": "stdout",
     "output_type": "stream",
     "text": [
      "2021-11-13 12:15:07 | INFO | hw5.transformer | example source: in a lot of food items that we have i have only two items here on the slide pink cookies or surimi sticks or , if you like , campari a lot of our food products that are of a red color are dyed with a natural dye .\n",
      "2021-11-13 12:15:07 | INFO | hw5.transformer | example hypothesis: 在很多食物品中 , 我這裡只有兩樣東西在幻燈片上 , 粉紅餅 , 或蘇里米貼片 , 或者 , 如果你喜歡 , 營地裡有很多我們紅色顏色的食物產品被自然染上了 。\n",
      "2021-11-13 12:15:07 | INFO | hw5.transformer | example reference: 我們也會故意加蟲進去 。 我這裡有兩樣在投影片上粉紅色餅乾和蟹肉棒或是 , campari烈酒很多我們吃的紅色的東西是用天然紅色染料染的 。\n",
      "2021-11-13 12:15:07 | INFO | hw5.transformer | validation loss:\t3.4296\n",
      "2021-11-13 12:15:07 | INFO | hw5.transformer | BLEU = 24.17 59.5/33.6/19.7/12.2 (BP = 0.918 ratio = 0.921 hyp_len = 102987 ref_len = 111811)\n",
      "2021-11-13 12:15:08 | INFO | hw5.transformer | saved epoch checkpoint: /home/wy/ML_study/chapter5/checkpoints/rnn/_transformer_checkpoint67.pt\n",
      "2021-11-13 12:15:08 | INFO | hw5.transformer | end of epoch 67\n"
     ]
    },
    {
     "data": {
      "text/plain": "HBox(children=(HTML(value='train epoch 68'), FloatProgress(value=0.0, max=791.0), HTML(value='')))",
      "application/vnd.jupyter.widget-view+json": {
       "version_major": 2,
       "version_minor": 0,
       "model_id": "a2d9a39a23c845d78323e5471f8aa06a"
      }
     },
     "metadata": {},
     "output_type": "display_data"
    },
    {
     "name": "stdout",
     "output_type": "stream",
     "text": [
      "2021-11-13 12:17:22 | INFO | hw5.transformer | training loss: 3.4641\n",
      "2021-11-13 12:17:22 | INFO | hw5.transformer | begin validation\n"
     ]
    },
    {
     "data": {
      "text/plain": "HBox(children=(HTML(value='validation'), FloatProgress(value=0.0, max=22.0), HTML(value='')))",
      "application/vnd.jupyter.widget-view+json": {
       "version_major": 2,
       "version_minor": 0,
       "model_id": "2850c4d634c348b4888927692904e26b"
      }
     },
     "metadata": {},
     "output_type": "display_data"
    },
    {
     "name": "stdout",
     "output_type": "stream",
     "text": [
      "2021-11-13 12:17:42 | INFO | hw5.transformer | example source: in our tradition , there is a ceremony that girls have to undergo to become women , and it's a rite of passage to womanhood .\n",
      "2021-11-13 12:17:42 | INFO | hw5.transformer | example hypothesis: 在我們的傳統中 , 有一個典型的儀式 , 女孩必須成為女性 , 成為女性的理由 。\n",
      "2021-11-13 12:17:42 | INFO | hw5.transformer | example reference: 根據我們的傳統 , 有一個儀式女孩必須經過才可以變成女人 , 那是一個女性的成人禮\n",
      "2021-11-13 12:17:42 | INFO | hw5.transformer | validation loss:\t3.4272\n",
      "2021-11-13 12:17:42 | INFO | hw5.transformer | BLEU = 24.43 58.8/33.2/19.5/12.0 (BP = 0.940 ratio = 0.941 hyp_len = 105248 ref_len = 111811)\n",
      "2021-11-13 12:17:42 | INFO | hw5.transformer | saved epoch checkpoint: /home/wy/ML_study/chapter5/checkpoints/rnn/_transformer_checkpoint68.pt\n",
      "2021-11-13 12:17:42 | INFO | hw5.transformer | end of epoch 68\n"
     ]
    },
    {
     "data": {
      "text/plain": "HBox(children=(HTML(value='train epoch 69'), FloatProgress(value=0.0, max=791.0), HTML(value='')))",
      "application/vnd.jupyter.widget-view+json": {
       "version_major": 2,
       "version_minor": 0,
       "model_id": "92b5604df3154c0785c3486f818817cd"
      }
     },
     "metadata": {},
     "output_type": "display_data"
    },
    {
     "name": "stdout",
     "output_type": "stream",
     "text": [
      "2021-11-13 12:19:57 | INFO | hw5.transformer | training loss: 3.4631\n",
      "2021-11-13 12:19:57 | INFO | hw5.transformer | begin validation\n"
     ]
    },
    {
     "data": {
      "text/plain": "HBox(children=(HTML(value='validation'), FloatProgress(value=0.0, max=22.0), HTML(value='')))",
      "application/vnd.jupyter.widget-view+json": {
       "version_major": 2,
       "version_minor": 0,
       "model_id": "e6a3c00fa38041428566c1e46eb51cd1"
      }
     },
     "metadata": {},
     "output_type": "display_data"
    },
    {
     "name": "stdout",
     "output_type": "stream",
     "text": [
      "2021-11-13 12:20:17 | INFO | hw5.transformer | example source: rl: i think terrorism is still number one .\n",
      "2021-11-13 12:20:17 | INFO | hw5.transformer | example hypothesis: 理查德:我認為恐怖主義仍然是第一 。\n",
      "2021-11-13 12:20:17 | INFO | hw5.transformer | example reference: 理查德:我認為恐怖主義仍然是第一 。\n",
      "2021-11-13 12:20:17 | INFO | hw5.transformer | validation loss:\t3.4273\n",
      "2021-11-13 12:20:17 | INFO | hw5.transformer | BLEU = 24.33 59.0/33.2/19.5/12.1 (BP = 0.934 ratio = 0.936 hyp_len = 104658 ref_len = 111811)\n",
      "2021-11-13 12:20:17 | INFO | hw5.transformer | saved epoch checkpoint: /home/wy/ML_study/chapter5/checkpoints/rnn/_transformer_checkpoint69.pt\n",
      "2021-11-13 12:20:17 | INFO | hw5.transformer | end of epoch 69\n"
     ]
    },
    {
     "data": {
      "text/plain": "HBox(children=(HTML(value='train epoch 70'), FloatProgress(value=0.0, max=791.0), HTML(value='')))",
      "application/vnd.jupyter.widget-view+json": {
       "version_major": 2,
       "version_minor": 0,
       "model_id": "d0896cf5a56340edad8d573be84e047e"
      }
     },
     "metadata": {},
     "output_type": "display_data"
    },
    {
     "name": "stdout",
     "output_type": "stream",
     "text": [
      "2021-11-13 12:22:32 | INFO | hw5.transformer | training loss: 3.4630\n",
      "2021-11-13 12:22:32 | INFO | hw5.transformer | begin validation\n"
     ]
    },
    {
     "data": {
      "text/plain": "HBox(children=(HTML(value='validation'), FloatProgress(value=0.0, max=22.0), HTML(value='')))",
      "application/vnd.jupyter.widget-view+json": {
       "version_major": 2,
       "version_minor": 0,
       "model_id": "9cadb1f7495340e8b12a203e3676c769"
      }
     },
     "metadata": {},
     "output_type": "display_data"
    },
    {
     "name": "stdout",
     "output_type": "stream",
     "text": [
      "2021-11-13 12:22:52 | INFO | hw5.transformer | example source: and of course , \" the vagina monologues \" we know about .\n",
      "2021-11-13 12:22:52 | INFO | hw5.transformer | example hypothesis: 當然 , 我們知道陰道獨白 。\n",
      "2021-11-13 12:22:52 | INFO | hw5.transformer | example reference: 當然 , 還有我們都知道的 「 陰道獨白 」 。\n",
      "2021-11-13 12:22:52 | INFO | hw5.transformer | validation loss:\t3.4253\n",
      "2021-11-13 12:22:52 | INFO | hw5.transformer | BLEU = 24.26 59.1/33.3/19.6/12.1 (BP = 0.927 ratio = 0.929 hyp_len = 103887 ref_len = 111811)\n",
      "2021-11-13 12:22:52 | INFO | hw5.transformer | saved epoch checkpoint: /home/wy/ML_study/chapter5/checkpoints/rnn/_transformer_checkpoint70.pt\n",
      "2021-11-13 12:22:52 | INFO | hw5.transformer | end of epoch 70\n"
     ]
    },
    {
     "data": {
      "text/plain": "HBox(children=(HTML(value='train epoch 71'), FloatProgress(value=0.0, max=791.0), HTML(value='')))",
      "application/vnd.jupyter.widget-view+json": {
       "version_major": 2,
       "version_minor": 0,
       "model_id": "e3972cab6a4a437597cb2aca9ba3d2f0"
      }
     },
     "metadata": {},
     "output_type": "display_data"
    },
    {
     "name": "stdout",
     "output_type": "stream",
     "text": [
      "2021-11-13 12:25:06 | INFO | hw5.transformer | training loss: 3.4613\n",
      "2021-11-13 12:25:06 | INFO | hw5.transformer | begin validation\n"
     ]
    },
    {
     "data": {
      "text/plain": "HBox(children=(HTML(value='validation'), FloatProgress(value=0.0, max=22.0), HTML(value='')))",
      "application/vnd.jupyter.widget-view+json": {
       "version_major": 2,
       "version_minor": 0,
       "model_id": "9a42392b35dd403a99ac457b4948b29a"
      }
     },
     "metadata": {},
     "output_type": "display_data"
    },
    {
     "name": "stdout",
     "output_type": "stream",
     "text": [
      "2021-11-13 12:25:26 | INFO | hw5.transformer | example source: tmm: it's 6:30 a . m .\n",
      "2021-11-13 12:25:26 | INFO | hw5.transformer | example hypothesis: tm:它是6:30 。\n",
      "2021-11-13 12:25:26 | INFO | hw5.transformer | example reference: tmm:現在早上6:30 。\n",
      "2021-11-13 12:25:26 | INFO | hw5.transformer | validation loss:\t3.4257\n",
      "2021-11-13 12:25:26 | INFO | hw5.transformer | BLEU = 24.32 59.0/33.2/19.5/12.0 (BP = 0.934 ratio = 0.936 hyp_len = 104682 ref_len = 111811)\n",
      "2021-11-13 12:25:26 | INFO | hw5.transformer | saved epoch checkpoint: /home/wy/ML_study/chapter5/checkpoints/rnn/_transformer_checkpoint71.pt\n",
      "2021-11-13 12:25:26 | INFO | hw5.transformer | end of epoch 71\n"
     ]
    },
    {
     "data": {
      "text/plain": "HBox(children=(HTML(value='train epoch 72'), FloatProgress(value=0.0, max=791.0), HTML(value='')))",
      "application/vnd.jupyter.widget-view+json": {
       "version_major": 2,
       "version_minor": 0,
       "model_id": "4145a9e071c7477e920af103b5c0416d"
      }
     },
     "metadata": {},
     "output_type": "display_data"
    },
    {
     "name": "stdout",
     "output_type": "stream",
     "text": [
      "2021-11-13 12:27:43 | INFO | hw5.transformer | training loss: 3.4605\n",
      "2021-11-13 12:27:43 | INFO | hw5.transformer | begin validation\n"
     ]
    },
    {
     "data": {
      "text/plain": "HBox(children=(HTML(value='validation'), FloatProgress(value=0.0, max=22.0), HTML(value='')))",
      "application/vnd.jupyter.widget-view+json": {
       "version_major": 2,
       "version_minor": 0,
       "model_id": "513614b3807d4d50a9607116da633eb3"
      }
     },
     "metadata": {},
     "output_type": "display_data"
    },
    {
     "name": "stdout",
     "output_type": "stream",
     "text": [
      "2021-11-13 12:28:04 | INFO | hw5.transformer | example source: and there are hundreds of initiatives every year to try and improve education .\n",
      "2021-11-13 12:28:04 | INFO | hw5.transformer | example hypothesis: 每年有數百個倡議嘗試改善教育 。\n",
      "2021-11-13 12:28:04 | INFO | hw5.transformer | example reference: 每年有幾百件方案嘗試改善教育\n",
      "2021-11-13 12:28:04 | INFO | hw5.transformer | validation loss:\t3.4310\n",
      "2021-11-13 12:28:04 | INFO | hw5.transformer | BLEU = 23.90 59.8/33.7/19.8/12.2 (BP = 0.905 ratio = 0.909 hyp_len = 101636 ref_len = 111811)\n",
      "2021-11-13 12:28:05 | INFO | hw5.transformer | saved epoch checkpoint: /home/wy/ML_study/chapter5/checkpoints/rnn/_transformer_checkpoint72.pt\n",
      "2021-11-13 12:28:05 | INFO | hw5.transformer | end of epoch 72\n"
     ]
    },
    {
     "data": {
      "text/plain": "HBox(children=(HTML(value='train epoch 73'), FloatProgress(value=0.0, max=791.0), HTML(value='')))",
      "application/vnd.jupyter.widget-view+json": {
       "version_major": 2,
       "version_minor": 0,
       "model_id": "18b527fc847d4d0d8272143112eed9d6"
      }
     },
     "metadata": {},
     "output_type": "display_data"
    },
    {
     "name": "stdout",
     "output_type": "stream",
     "text": [
      "2021-11-13 12:30:19 | INFO | hw5.transformer | training loss: 3.4592\n",
      "2021-11-13 12:30:19 | INFO | hw5.transformer | begin validation\n"
     ]
    },
    {
     "data": {
      "text/plain": "HBox(children=(HTML(value='validation'), FloatProgress(value=0.0, max=22.0), HTML(value='')))",
      "application/vnd.jupyter.widget-view+json": {
       "version_major": 2,
       "version_minor": 0,
       "model_id": "4afada035d9b4f77a2d06ef8aa1eb1e0"
      }
     },
     "metadata": {},
     "output_type": "display_data"
    },
    {
     "name": "stdout",
     "output_type": "stream",
     "text": [
      "2021-11-13 12:30:38 | INFO | hw5.transformer | example source: then there's about 20 different hormones , so we are on a very different level than our genitals , for example .\n",
      "2021-11-13 12:30:38 | INFO | hw5.transformer | example hypothesis: 舉例來說 , 大約有20種不同的荷爾蒙 , 我們和我們的生殖器有非常不同的層次 。\n",
      "2021-11-13 12:30:38 | INFO | hw5.transformer | example reference: 還有大約二十種不同的賀爾蒙 , 所以 , 例如和生殖器相比 , 它又是很不一樣的層級 。\n",
      "2021-11-13 12:30:38 | INFO | hw5.transformer | validation loss:\t3.4346\n",
      "2021-11-13 12:30:38 | INFO | hw5.transformer | BLEU = 23.77 60.3/34.1/20.1/12.5 (BP = 0.888 ratio = 0.893 hyp_len = 99898 ref_len = 111811)\n",
      "2021-11-13 12:30:38 | INFO | hw5.transformer | saved epoch checkpoint: /home/wy/ML_study/chapter5/checkpoints/rnn/_transformer_checkpoint73.pt\n",
      "2021-11-13 12:30:38 | INFO | hw5.transformer | end of epoch 73\n"
     ]
    },
    {
     "data": {
      "text/plain": "HBox(children=(HTML(value='train epoch 74'), FloatProgress(value=0.0, max=791.0), HTML(value='')))",
      "application/vnd.jupyter.widget-view+json": {
       "version_major": 2,
       "version_minor": 0,
       "model_id": "0bd9d5cdb77f4b8fadaade7c646e06d0"
      }
     },
     "metadata": {},
     "output_type": "display_data"
    },
    {
     "name": "stdout",
     "output_type": "stream",
     "text": [
      "2021-11-13 12:32:54 | INFO | hw5.transformer | training loss: 3.4599\n",
      "2021-11-13 12:32:54 | INFO | hw5.transformer | begin validation\n"
     ]
    },
    {
     "data": {
      "text/plain": "HBox(children=(HTML(value='validation'), FloatProgress(value=0.0, max=22.0), HTML(value='')))",
      "application/vnd.jupyter.widget-view+json": {
       "version_major": 2,
       "version_minor": 0,
       "model_id": "63d5323f4d65489c840d0a851604c84e"
      }
     },
     "metadata": {},
     "output_type": "display_data"
    },
    {
     "name": "stdout",
     "output_type": "stream",
     "text": [
      "2021-11-13 12:33:13 | INFO | hw5.transformer | example source: now , let me tell you a little bit about the research about how the human mind works to explain .\n",
      "2021-11-13 12:33:13 | INFO | hw5.transformer | example hypothesis: 現在 , 讓我告訴各位一些關於人類的思維如何解釋的研究 。\n",
      "2021-11-13 12:33:13 | INFO | hw5.transformer | example reference: 讓我跟各位稍微說明一下這個研究 , 人腦如何運作的研究 , 來解釋這個現象 。\n",
      "2021-11-13 12:33:13 | INFO | hw5.transformer | validation loss:\t3.4285\n",
      "2021-11-13 12:33:13 | INFO | hw5.transformer | BLEU = 24.21 59.5/33.5/19.7/12.2 (BP = 0.919 ratio = 0.923 hyp_len = 103148 ref_len = 111811)\n",
      "2021-11-13 12:33:14 | INFO | hw5.transformer | saved epoch checkpoint: /home/wy/ML_study/chapter5/checkpoints/rnn/_transformer_checkpoint74.pt\n",
      "2021-11-13 12:33:14 | INFO | hw5.transformer | end of epoch 74\n"
     ]
    },
    {
     "data": {
      "text/plain": "HBox(children=(HTML(value='train epoch 75'), FloatProgress(value=0.0, max=791.0), HTML(value='')))",
      "application/vnd.jupyter.widget-view+json": {
       "version_major": 2,
       "version_minor": 0,
       "model_id": "ead0da107bf345ea8fa6569f55b0d008"
      }
     },
     "metadata": {},
     "output_type": "display_data"
    },
    {
     "name": "stdout",
     "output_type": "stream",
     "text": [
      "2021-11-13 12:35:29 | INFO | hw5.transformer | training loss: 3.4586\n",
      "2021-11-13 12:35:29 | INFO | hw5.transformer | begin validation\n"
     ]
    },
    {
     "data": {
      "text/plain": "HBox(children=(HTML(value='validation'), FloatProgress(value=0.0, max=22.0), HTML(value='')))",
      "application/vnd.jupyter.widget-view+json": {
       "version_major": 2,
       "version_minor": 0,
       "model_id": "d95c3bb198da4650b34804757c1e3c09"
      }
     },
     "metadata": {},
     "output_type": "display_data"
    },
    {
     "name": "stdout",
     "output_type": "stream",
     "text": [
      "2021-11-13 12:35:49 | INFO | hw5.transformer | example source: but , of course , they don't look like rocks and sludge now .\n",
      "2021-11-13 12:35:49 | INFO | hw5.transformer | example hypothesis: 當然 , 他們現在看起來不像岩石和雪橇 。\n",
      "2021-11-13 12:35:49 | INFO | hw5.transformer | example reference: 當然現在看起來並不像石頭或爛泥\n",
      "2021-11-13 12:35:49 | INFO | hw5.transformer | validation loss:\t3.4289\n",
      "2021-11-13 12:35:49 | INFO | hw5.transformer | BLEU = 24.08 59.2/33.3/19.6/12.0 (BP = 0.923 ratio = 0.926 hyp_len = 103548 ref_len = 111811)\n",
      "2021-11-13 12:35:49 | INFO | hw5.transformer | saved epoch checkpoint: /home/wy/ML_study/chapter5/checkpoints/rnn/_transformer_checkpoint75.pt\n",
      "2021-11-13 12:35:49 | INFO | hw5.transformer | end of epoch 75\n"
     ]
    },
    {
     "data": {
      "text/plain": "HBox(children=(HTML(value='train epoch 76'), FloatProgress(value=0.0, max=791.0), HTML(value='')))",
      "application/vnd.jupyter.widget-view+json": {
       "version_major": 2,
       "version_minor": 0,
       "model_id": "1c2ab30d4d664cc387c63765083a52c0"
      }
     },
     "metadata": {},
     "output_type": "display_data"
    },
    {
     "name": "stdout",
     "output_type": "stream",
     "text": [
      "2021-11-13 12:38:03 | INFO | hw5.transformer | training loss: 3.4573\n",
      "2021-11-13 12:38:03 | INFO | hw5.transformer | begin validation\n"
     ]
    },
    {
     "data": {
      "text/plain": "HBox(children=(HTML(value='validation'), FloatProgress(value=0.0, max=22.0), HTML(value='')))",
      "application/vnd.jupyter.widget-view+json": {
       "version_major": 2,
       "version_minor": 0,
       "model_id": "8c90efe522eb4470aa48b9a1c949fb1f"
      }
     },
     "metadata": {},
     "output_type": "display_data"
    },
    {
     "name": "stdout",
     "output_type": "stream",
     "text": [
      "2021-11-13 12:38:22 | INFO | hw5.transformer | example source: this is not about new technology , it's just rearranging our metal furniture .\n",
      "2021-11-13 12:38:22 | INFO | hw5.transformer | example hypothesis: 這不是關於新科技 , 而是重新排列我們的金屬家具 。\n",
      "2021-11-13 12:38:22 | INFO | hw5.transformer | example reference: 這與新科技無關只是重新安排金屬設備\n",
      "2021-11-13 12:38:22 | INFO | hw5.transformer | validation loss:\t3.4316\n",
      "2021-11-13 12:38:22 | INFO | hw5.transformer | BLEU = 24.18 59.7/33.6/19.8/12.2 (BP = 0.916 ratio = 0.919 hyp_len = 102757 ref_len = 111811)\n",
      "2021-11-13 12:38:22 | INFO | hw5.transformer | saved epoch checkpoint: /home/wy/ML_study/chapter5/checkpoints/rnn/_transformer_checkpoint76.pt\n",
      "2021-11-13 12:38:22 | INFO | hw5.transformer | end of epoch 76\n"
     ]
    },
    {
     "data": {
      "text/plain": "HBox(children=(HTML(value='train epoch 77'), FloatProgress(value=0.0, max=791.0), HTML(value='')))",
      "application/vnd.jupyter.widget-view+json": {
       "version_major": 2,
       "version_minor": 0,
       "model_id": "d80a918f9e0640f5bfb777b3c39cc5db"
      }
     },
     "metadata": {},
     "output_type": "display_data"
    },
    {
     "name": "stdout",
     "output_type": "stream",
     "text": [
      "2021-11-13 12:40:39 | INFO | hw5.transformer | training loss: 3.4566\n",
      "2021-11-13 12:40:39 | INFO | hw5.transformer | begin validation\n"
     ]
    },
    {
     "data": {
      "text/plain": "HBox(children=(HTML(value='validation'), FloatProgress(value=0.0, max=22.0), HTML(value='')))",
      "application/vnd.jupyter.widget-view+json": {
       "version_major": 2,
       "version_minor": 0,
       "model_id": "1a8f6bbc83a149c3b7d30c6edec3a61b"
      }
     },
     "metadata": {},
     "output_type": "display_data"
    },
    {
     "name": "stdout",
     "output_type": "stream",
     "text": [
      "2021-11-13 12:40:59 | INFO | hw5.transformer | example source: the baby remains sleeping , showing no interest at all .\n",
      "2021-11-13 12:40:59 | INFO | hw5.transformer | example hypothesis: 嬰兒仍然在睡覺 , 完全沒有興趣 。\n",
      "2021-11-13 12:40:59 | INFO | hw5.transformer | example reference: 嬰兒會繼續沉睡 , 對滴管沒有顯示任何興趣 ;\n",
      "2021-11-13 12:40:59 | INFO | hw5.transformer | validation loss:\t3.4253\n",
      "2021-11-13 12:40:59 | INFO | hw5.transformer | BLEU = 24.00 59.7/33.8/19.9/12.4 (BP = 0.904 ratio = 0.908 hyp_len = 101534 ref_len = 111811)\n",
      "2021-11-13 12:41:00 | INFO | hw5.transformer | saved epoch checkpoint: /home/wy/ML_study/chapter5/checkpoints/rnn/_transformer_checkpoint77.pt\n",
      "2021-11-13 12:41:00 | INFO | hw5.transformer | end of epoch 77\n"
     ]
    },
    {
     "data": {
      "text/plain": "HBox(children=(HTML(value='train epoch 78'), FloatProgress(value=0.0, max=791.0), HTML(value='')))",
      "application/vnd.jupyter.widget-view+json": {
       "version_major": 2,
       "version_minor": 0,
       "model_id": "ffd5d5a9ab7449aa81fcfde0b36cdc4c"
      }
     },
     "metadata": {},
     "output_type": "display_data"
    },
    {
     "name": "stdout",
     "output_type": "stream",
     "text": [
      "2021-11-13 12:43:15 | INFO | hw5.transformer | training loss: 3.4573\n",
      "2021-11-13 12:43:15 | INFO | hw5.transformer | begin validation\n"
     ]
    },
    {
     "data": {
      "text/plain": "HBox(children=(HTML(value='validation'), FloatProgress(value=0.0, max=22.0), HTML(value='')))",
      "application/vnd.jupyter.widget-view+json": {
       "version_major": 2,
       "version_minor": 0,
       "model_id": "ab469eae5f6042ac8a5ac699a32c3958"
      }
     },
     "metadata": {},
     "output_type": "display_data"
    },
    {
     "name": "stdout",
     "output_type": "stream",
     "text": [
      "2021-11-13 12:43:34 | INFO | hw5.transformer | example source: and this is doug engelbart .\n",
      "2021-11-13 12:43:34 | INFO | hw5.transformer | example hypothesis: 這是dougengelbart\n",
      "2021-11-13 12:43:34 | INFO | hw5.transformer | example reference: 這就是dougengelbart 。\n",
      "2021-11-13 12:43:34 | INFO | hw5.transformer | validation loss:\t3.4134\n",
      "2021-11-13 12:43:34 | INFO | hw5.transformer | BLEU = 24.47 58.9/33.2/19.6/12.1 (BP = 0.938 ratio = 0.940 hyp_len = 105103 ref_len = 111811)\n",
      "2021-11-13 12:43:34 | INFO | hw5.transformer | saved epoch checkpoint: /home/wy/ML_study/chapter5/checkpoints/rnn/_transformer_checkpoint78.pt\n",
      "2021-11-13 12:43:34 | INFO | hw5.transformer | end of epoch 78\n"
     ]
    },
    {
     "data": {
      "text/plain": "HBox(children=(HTML(value='train epoch 79'), FloatProgress(value=0.0, max=791.0), HTML(value='')))",
      "application/vnd.jupyter.widget-view+json": {
       "version_major": 2,
       "version_minor": 0,
       "model_id": "b800f91524304a858466e6d338afbc38"
      }
     },
     "metadata": {},
     "output_type": "display_data"
    },
    {
     "name": "stdout",
     "output_type": "stream",
     "text": [
      "2021-11-13 12:45:50 | INFO | hw5.transformer | training loss: 3.4537\n",
      "2021-11-13 12:45:50 | INFO | hw5.transformer | begin validation\n"
     ]
    },
    {
     "data": {
      "text/plain": "HBox(children=(HTML(value='validation'), FloatProgress(value=0.0, max=22.0), HTML(value='')))",
      "application/vnd.jupyter.widget-view+json": {
       "version_major": 2,
       "version_minor": 0,
       "model_id": "7edbaf7a2a2148eeb150e8ddda9f89d9"
      }
     },
     "metadata": {},
     "output_type": "display_data"
    },
    {
     "name": "stdout",
     "output_type": "stream",
     "text": [
      "2021-11-13 12:46:10 | INFO | hw5.transformer | example source: this tribe , the cofan , has 17 varieties of ayahuasca , all of which they distinguish a great distance in the forest , all of which are referable to our eye as one species .\n",
      "2021-11-13 12:46:10 | INFO | hw5.transformer | example hypothesis: 這個部落 , cofan有17種不同類型的雅哈拉斯卡 , 它們都分辨出森林中的一個很遠的距離 , 全部都可以把我們的眼睛視為一種物種 。\n",
      "2021-11-13 12:46:10 | INFO | hw5.transformer | example reference: 科凡部落的人發現了17種死藤全部是他們在叢林深處發現的在我們看來它們是不同的物種\n",
      "2021-11-13 12:46:10 | INFO | hw5.transformer | validation loss:\t3.4135\n",
      "2021-11-13 12:46:10 | INFO | hw5.transformer | BLEU = 24.56 58.6/33.0/19.4/12.0 (BP = 0.949 ratio = 0.950 hyp_len = 106240 ref_len = 111811)\n",
      "2021-11-13 12:46:11 | INFO | hw5.transformer | saved epoch checkpoint: /home/wy/ML_study/chapter5/checkpoints/rnn/_transformer_checkpoint79.pt\n",
      "2021-11-13 12:46:11 | INFO | hw5.transformer | end of epoch 79\n"
     ]
    },
    {
     "data": {
      "text/plain": "HBox(children=(HTML(value='train epoch 80'), FloatProgress(value=0.0, max=791.0), HTML(value='')))",
      "application/vnd.jupyter.widget-view+json": {
       "version_major": 2,
       "version_minor": 0,
       "model_id": "9f6a7374471442deb13856fb5bb252ad"
      }
     },
     "metadata": {},
     "output_type": "display_data"
    },
    {
     "name": "stdout",
     "output_type": "stream",
     "text": [
      "2021-11-13 12:48:27 | INFO | hw5.transformer | training loss: 3.4563\n",
      "2021-11-13 12:48:27 | INFO | hw5.transformer | begin validation\n"
     ]
    },
    {
     "data": {
      "text/plain": "HBox(children=(HTML(value='validation'), FloatProgress(value=0.0, max=22.0), HTML(value='')))",
      "application/vnd.jupyter.widget-view+json": {
       "version_major": 2,
       "version_minor": 0,
       "model_id": "90a4342ad8d24431841e2c162016293d"
      }
     },
     "metadata": {},
     "output_type": "display_data"
    },
    {
     "name": "stdout",
     "output_type": "stream",
     "text": [
      "2021-11-13 12:48:46 | INFO | hw5.transformer | example source: and if he doesn't show me that it works here , i don't believe anything he said .\n",
      "2021-11-13 12:48:46 | INFO | hw5.transformer | example hypothesis: 如果他沒有向我展示它是行得通的 , 我不相信他說的任何事 。\n",
      "2021-11-13 12:48:46 | INFO | hw5.transformer | example reference: 我是不會相信他所說的我知道你們想著躲避球隊 。\n",
      "2021-11-13 12:48:46 | INFO | hw5.transformer | validation loss:\t3.4252\n",
      "2021-11-13 12:48:46 | INFO | hw5.transformer | BLEU = 24.35 59.2/33.4/19.7/12.2 (BP = 0.929 ratio = 0.931 hyp_len = 104103 ref_len = 111811)\n",
      "2021-11-13 12:48:46 | INFO | hw5.transformer | saved epoch checkpoint: /home/wy/ML_study/chapter5/checkpoints/rnn/_transformer_checkpoint80.pt\n",
      "2021-11-13 12:48:47 | INFO | hw5.transformer | end of epoch 80\n"
     ]
    },
    {
     "data": {
      "text/plain": "HBox(children=(HTML(value='train epoch 81'), FloatProgress(value=0.0, max=791.0), HTML(value='')))",
      "application/vnd.jupyter.widget-view+json": {
       "version_major": 2,
       "version_minor": 0,
       "model_id": "af322c0af6dd469e90e0502d7bd23ddd"
      }
     },
     "metadata": {},
     "output_type": "display_data"
    },
    {
     "name": "stdout",
     "output_type": "stream",
     "text": [
      "2021-11-13 12:51:01 | INFO | hw5.transformer | training loss: 3.4517\n",
      "2021-11-13 12:51:01 | INFO | hw5.transformer | begin validation\n"
     ]
    },
    {
     "data": {
      "text/plain": "HBox(children=(HTML(value='validation'), FloatProgress(value=0.0, max=22.0), HTML(value='')))",
      "application/vnd.jupyter.widget-view+json": {
       "version_major": 2,
       "version_minor": 0,
       "model_id": "7e8d8d3e1c754f069d6c85415670f29d"
      }
     },
     "metadata": {},
     "output_type": "display_data"
    },
    {
     "name": "stdout",
     "output_type": "stream",
     "text": [
      "2021-11-13 12:51:21 | INFO | hw5.transformer | example source: we teach them that education doesn't really matter , because it's not relevant to what's happening all around them .\n",
      "2021-11-13 12:51:21 | INFO | hw5.transformer | example hypothesis: 我們教導他們教育並不重要 , 因為教育與周遭的一切無關 。\n",
      "2021-11-13 12:51:21 | INFO | hw5.transformer | example reference: 我們等於是在教他們:教育不重要 , 因為教育跟他們周圍發生的事無關 。\n",
      "2021-11-13 12:51:21 | INFO | hw5.transformer | validation loss:\t3.4220\n",
      "2021-11-13 12:51:21 | INFO | hw5.transformer | BLEU = 24.25 59.1/33.3/19.5/12.0 (BP = 0.930 ratio = 0.933 hyp_len = 104290 ref_len = 111811)\n",
      "2021-11-13 12:51:21 | INFO | hw5.transformer | saved epoch checkpoint: /home/wy/ML_study/chapter5/checkpoints/rnn/_transformer_checkpoint81.pt\n",
      "2021-11-13 12:51:21 | INFO | hw5.transformer | end of epoch 81\n"
     ]
    },
    {
     "data": {
      "text/plain": "HBox(children=(HTML(value='train epoch 82'), FloatProgress(value=0.0, max=791.0), HTML(value='')))",
      "application/vnd.jupyter.widget-view+json": {
       "version_major": 2,
       "version_minor": 0,
       "model_id": "4eb96d8f3a704235a4ff78b274352bc1"
      }
     },
     "metadata": {},
     "output_type": "display_data"
    },
    {
     "name": "stdout",
     "output_type": "stream",
     "text": [
      "2021-11-13 12:53:34 | INFO | hw5.transformer | training loss: 3.4525\n",
      "2021-11-13 12:53:34 | INFO | hw5.transformer | begin validation\n"
     ]
    },
    {
     "data": {
      "text/plain": "HBox(children=(HTML(value='validation'), FloatProgress(value=0.0, max=22.0), HTML(value='')))",
      "application/vnd.jupyter.widget-view+json": {
       "version_major": 2,
       "version_minor": 0,
       "model_id": "1600c9be201d471e814a94f5e48b7f04"
      }
     },
     "metadata": {},
     "output_type": "display_data"
    },
    {
     "name": "stdout",
     "output_type": "stream",
     "text": [
      "2021-11-13 12:53:54 | INFO | hw5.transformer | example source: so we're not thinking about this , but all of the people we imagine are thinking about it they're not taking care of it either .\n",
      "2021-11-13 12:53:54 | INFO | hw5.transformer | example hypothesis: 所以我們不在想這件事 , 但是我們想像中的所有人 , 他們也沒有照顧它 。\n",
      "2021-11-13 12:53:54 | INFO | hw5.transformer | example reference: 所以 , 我們現在沒有在想這些事 , 而且在我們想像中 , 在想這些事情的人-基本上 , 他們也不會在乎的 。\n",
      "2021-11-13 12:53:54 | INFO | hw5.transformer | validation loss:\t3.4276\n",
      "2021-11-13 12:53:54 | INFO | hw5.transformer | BLEU = 23.87 59.8/33.6/19.7/12.1 (BP = 0.908 ratio = 0.912 hyp_len = 101922 ref_len = 111811)\n",
      "2021-11-13 12:53:54 | INFO | hw5.transformer | saved epoch checkpoint: /home/wy/ML_study/chapter5/checkpoints/rnn/_transformer_checkpoint82.pt\n",
      "2021-11-13 12:53:54 | INFO | hw5.transformer | end of epoch 82\n"
     ]
    },
    {
     "data": {
      "text/plain": "HBox(children=(HTML(value='train epoch 83'), FloatProgress(value=0.0, max=791.0), HTML(value='')))",
      "application/vnd.jupyter.widget-view+json": {
       "version_major": 2,
       "version_minor": 0,
       "model_id": "6401c4a35a0d459f9b82d25b471b48a2"
      }
     },
     "metadata": {},
     "output_type": "display_data"
    },
    {
     "name": "stdout",
     "output_type": "stream",
     "text": [
      "2021-11-13 12:56:21 | INFO | hw5.transformer | training loss: 3.4522\n",
      "2021-11-13 12:56:21 | INFO | hw5.transformer | begin validation\n"
     ]
    },
    {
     "data": {
      "text/plain": "HBox(children=(HTML(value='validation'), FloatProgress(value=0.0, max=22.0), HTML(value='')))",
      "application/vnd.jupyter.widget-view+json": {
       "version_major": 2,
       "version_minor": 0,
       "model_id": "b7367a7c65784223b0de557ef431b7b8"
      }
     },
     "metadata": {},
     "output_type": "display_data"
    },
    {
     "name": "stdout",
     "output_type": "stream",
     "text": [
      "2021-11-13 12:56:44 | INFO | hw5.transformer | example source: and so i can now focus on taking this information , figuring out how do we work towards a cure , how do we work towards prevention , and so my life has gotten a lot easier .\n",
      "2021-11-13 12:56:44 | INFO | hw5.transformer | example hypothesis: 所以我現在可以專注於取得這些資訊 , 了解我們要如何向治療方向工作 , 我們要如何向預防 , 所以我的生活變得更容易了 。\n",
      "2021-11-13 12:56:44 | INFO | hw5.transformer | example reference: 所以我現在能專注於獲取信息 , 弄清楚我們如何治療 , 以及預防的方向 , 所以我的生活變得輕鬆多了 。\n",
      "2021-11-13 12:56:44 | INFO | hw5.transformer | validation loss:\t3.4198\n",
      "2021-11-13 12:56:44 | INFO | hw5.transformer | BLEU = 24.43 59.2/33.4/19.7/12.1 (BP = 0.932 ratio = 0.934 hyp_len = 104422 ref_len = 111811)\n",
      "2021-11-13 12:56:44 | INFO | hw5.transformer | saved epoch checkpoint: /home/wy/ML_study/chapter5/checkpoints/rnn/_transformer_checkpoint83.pt\n",
      "2021-11-13 12:56:44 | INFO | hw5.transformer | end of epoch 83\n"
     ]
    },
    {
     "data": {
      "text/plain": "HBox(children=(HTML(value='train epoch 84'), FloatProgress(value=0.0, max=791.0), HTML(value='')))",
      "application/vnd.jupyter.widget-view+json": {
       "version_major": 2,
       "version_minor": 0,
       "model_id": "37ba36b457ee44cd92fbeafa8f39becb"
      }
     },
     "metadata": {},
     "output_type": "display_data"
    },
    {
     "name": "stdout",
     "output_type": "stream",
     "text": [
      "2021-11-13 12:59:04 | INFO | hw5.transformer | training loss: 3.4504\n",
      "2021-11-13 12:59:04 | INFO | hw5.transformer | begin validation\n"
     ]
    },
    {
     "data": {
      "text/plain": "HBox(children=(HTML(value='validation'), FloatProgress(value=0.0, max=22.0), HTML(value='')))",
      "application/vnd.jupyter.widget-view+json": {
       "version_major": 2,
       "version_minor": 0,
       "model_id": "1468d42ca7ea4d9288a189cd85ac1973"
      }
     },
     "metadata": {},
     "output_type": "display_data"
    },
    {
     "name": "stdout",
     "output_type": "stream",
     "text": [
      "2021-11-13 12:59:24 | INFO | hw5.transformer | example source: now , these are trivial marketing examples , i accept .\n",
      "2021-11-13 12:59:24 | INFO | hw5.transformer | example hypothesis: 現在 , 我接受這些是少數行銷的例子 。\n",
      "2021-11-13 12:59:24 | INFO | hw5.transformer | example reference: 這些都是很細微的市場行銷案例 。\n",
      "2021-11-13 12:59:24 | INFO | hw5.transformer | validation loss:\t3.4205\n",
      "2021-11-13 12:59:24 | INFO | hw5.transformer | BLEU = 24.43 59.2/33.4/19.7/12.2 (BP = 0.930 ratio = 0.933 hyp_len = 104293 ref_len = 111811)\n",
      "2021-11-13 12:59:24 | INFO | hw5.transformer | saved epoch checkpoint: /home/wy/ML_study/chapter5/checkpoints/rnn/_transformer_checkpoint84.pt\n",
      "2021-11-13 12:59:24 | INFO | hw5.transformer | end of epoch 84\n"
     ]
    },
    {
     "data": {
      "text/plain": "HBox(children=(HTML(value='train epoch 85'), FloatProgress(value=0.0, max=791.0), HTML(value='')))",
      "application/vnd.jupyter.widget-view+json": {
       "version_major": 2,
       "version_minor": 0,
       "model_id": "ed2b674d1e394d4793e0a880c5b97424"
      }
     },
     "metadata": {},
     "output_type": "display_data"
    },
    {
     "name": "stdout",
     "output_type": "stream",
     "text": [
      "2021-11-13 13:01:44 | INFO | hw5.transformer | training loss: 3.4505\n",
      "2021-11-13 13:01:44 | INFO | hw5.transformer | begin validation\n"
     ]
    },
    {
     "data": {
      "text/plain": "HBox(children=(HTML(value='validation'), FloatProgress(value=0.0, max=22.0), HTML(value='')))",
      "application/vnd.jupyter.widget-view+json": {
       "version_major": 2,
       "version_minor": 0,
       "model_id": "80b70d80e15a421498e37d698db81c3b"
      }
     },
     "metadata": {},
     "output_type": "display_data"
    },
    {
     "name": "stdout",
     "output_type": "stream",
     "text": [
      "2021-11-13 13:02:03 | INFO | hw5.transformer | example source: but did you know that at your age judy garland was pulling down 150 , 000 dollars a picture , joan of arc was leading the french army to victory and blaise pascal had cleaned up his room no wait , i mean he had invented the calculator ?\n",
      "2021-11-13 13:02:03 | INFO | hw5.transformer | example hypothesis: 但你知道嗎 ? 在你年紀judygarland的judygarland收到150000美元的照片 , arc的joan在帶領法國軍去勝利和布萊斯卡清理他的房間 , 不等待 , 我是說他發明了計算機嗎 ?\n",
      "2021-11-13 13:02:03 | INFO | hw5.transformer | example reference: 但你知道跟你同年的時候朱蒂嘉蘭拍個電影就可以賺150 , 000塊貞德就在帶領法軍打勝仗然後布萊茲帕斯卡把自己的房間整理乾淨了--喔不 , 我是說他發明了計算機\n",
      "2021-11-13 13:02:03 | INFO | hw5.transformer | validation loss:\t3.4189\n",
      "2021-11-13 13:02:03 | INFO | hw5.transformer | BLEU = 24.39 59.1/33.4/19.7/12.2 (BP = 0.930 ratio = 0.933 hyp_len = 104282 ref_len = 111811)\n",
      "2021-11-13 13:02:04 | INFO | hw5.transformer | saved epoch checkpoint: /home/wy/ML_study/chapter5/checkpoints/rnn/_transformer_checkpoint85.pt\n",
      "2021-11-13 13:02:04 | INFO | hw5.transformer | end of epoch 85\n"
     ]
    },
    {
     "data": {
      "text/plain": "HBox(children=(HTML(value='train epoch 86'), FloatProgress(value=0.0, max=791.0), HTML(value='')))",
      "application/vnd.jupyter.widget-view+json": {
       "version_major": 2,
       "version_minor": 0,
       "model_id": "0364ce9c2bb94f6da3baace64d3d699c"
      }
     },
     "metadata": {},
     "output_type": "display_data"
    },
    {
     "name": "stdout",
     "output_type": "stream",
     "text": [
      "2021-11-13 13:04:25 | INFO | hw5.transformer | training loss: 3.4491\n",
      "2021-11-13 13:04:25 | INFO | hw5.transformer | begin validation\n"
     ]
    },
    {
     "data": {
      "text/plain": "HBox(children=(HTML(value='validation'), FloatProgress(value=0.0, max=22.0), HTML(value='')))",
      "application/vnd.jupyter.widget-view+json": {
       "version_major": 2,
       "version_minor": 0,
       "model_id": "ae74887f2ceb4aa384d2ad6edaa63da7"
      }
     },
     "metadata": {},
     "output_type": "display_data"
    },
    {
     "name": "stdout",
     "output_type": "stream",
     "text": [
      "2021-11-13 13:04:46 | INFO | hw5.transformer | example source: this is an image i took of a woman in bhongir village in andhra pradesh in india .\n",
      "2021-11-13 13:04:46 | INFO | hw5.transformer | example hypothesis: 這是我在印度安哈拉普拉普拉德村拍的一張照片 。\n",
      "2021-11-13 13:04:46 | INFO | hw5.transformer | example reference: 這是我拍的照片 , 照片上的女子在印度安得拉邦的邦格伊爾村 。\n",
      "2021-11-13 13:04:46 | INFO | hw5.transformer | validation loss:\t3.4180\n",
      "2021-11-13 13:04:46 | INFO | hw5.transformer | BLEU = 24.61 58.8/33.1/19.5/12.0 (BP = 0.946 ratio = 0.948 hyp_len = 105955 ref_len = 111811)\n",
      "2021-11-13 13:04:47 | INFO | hw5.transformer | saved epoch checkpoint: /home/wy/ML_study/chapter5/checkpoints/rnn/_transformer_checkpoint86.pt\n",
      "2021-11-13 13:04:47 | INFO | hw5.transformer | end of epoch 86\n"
     ]
    },
    {
     "data": {
      "text/plain": "HBox(children=(HTML(value='train epoch 87'), FloatProgress(value=0.0, max=791.0), HTML(value='')))",
      "application/vnd.jupyter.widget-view+json": {
       "version_major": 2,
       "version_minor": 0,
       "model_id": "9fd6997a509841eca33a60510554845a"
      }
     },
     "metadata": {},
     "output_type": "display_data"
    },
    {
     "name": "stdout",
     "output_type": "stream",
     "text": [
      "2021-11-13 13:07:08 | INFO | hw5.transformer | training loss: 3.4507\n",
      "2021-11-13 13:07:08 | INFO | hw5.transformer | begin validation\n"
     ]
    },
    {
     "data": {
      "text/plain": "HBox(children=(HTML(value='validation'), FloatProgress(value=0.0, max=22.0), HTML(value='')))",
      "application/vnd.jupyter.widget-view+json": {
       "version_major": 2,
       "version_minor": 0,
       "model_id": "da3a754a53e4476583748332a272d62d"
      }
     },
     "metadata": {},
     "output_type": "display_data"
    },
    {
     "name": "stdout",
     "output_type": "stream",
     "text": [
      "2021-11-13 13:07:27 | INFO | hw5.transformer | example source: davinia's impact started a few years ago when she reached out to all of her friends on facebook , and asked them to donate their pennies so she could fund girls' education .\n",
      "2021-11-13 13:07:27 | INFO | hw5.transformer | example hypothesis: 幾年前 , 達維尼亞的影響開始了 , 當她和她所有的朋友接觸臉書時 , 請他們捐錢給他們的筆記 , 讓她可以資助女孩的教育 。\n",
      "2021-11-13 13:07:27 | INFO | hw5.transformer | example reference: 達維妮雅的影響力從幾年前開始 , 當時她在臉書上尋求朋友幫助 , 她邀請他們捐點零錢 , 這樣她就可以資助女孩的教育 。\n",
      "2021-11-13 13:07:27 | INFO | hw5.transformer | validation loss:\t3.4268\n",
      "2021-11-13 13:07:27 | INFO | hw5.transformer | BLEU = 24.12 59.7/33.7/19.8/12.3 (BP = 0.912 ratio = 0.916 hyp_len = 102400 ref_len = 111811)\n",
      "2021-11-13 13:07:28 | INFO | hw5.transformer | saved epoch checkpoint: /home/wy/ML_study/chapter5/checkpoints/rnn/_transformer_checkpoint87.pt\n",
      "2021-11-13 13:07:28 | INFO | hw5.transformer | end of epoch 87\n"
     ]
    },
    {
     "data": {
      "text/plain": "HBox(children=(HTML(value='train epoch 88'), FloatProgress(value=0.0, max=791.0), HTML(value='')))",
      "application/vnd.jupyter.widget-view+json": {
       "version_major": 2,
       "version_minor": 0,
       "model_id": "6970c9d0483448d78f6a21f5866ca1e4"
      }
     },
     "metadata": {},
     "output_type": "display_data"
    },
    {
     "name": "stdout",
     "output_type": "stream",
     "text": [
      "2021-11-13 13:09:50 | INFO | hw5.transformer | training loss: 3.4484\n",
      "2021-11-13 13:09:50 | INFO | hw5.transformer | begin validation\n"
     ]
    },
    {
     "data": {
      "text/plain": "HBox(children=(HTML(value='validation'), FloatProgress(value=0.0, max=22.0), HTML(value='')))",
      "application/vnd.jupyter.widget-view+json": {
       "version_major": 2,
       "version_minor": 0,
       "model_id": "a7247d624ce04ba8a2770ba2fd79f49a"
      }
     },
     "metadata": {},
     "output_type": "display_data"
    },
    {
     "name": "stdout",
     "output_type": "stream",
     "text": [
      "2021-11-13 13:10:10 | INFO | hw5.transformer | example source: in \" the descent of man , \" charles darwin wrote a great deal about the evolution of morality where did it come from , why do we have it .\n",
      "2021-11-13 13:10:10 | INFO | hw5.transformer | example hypothesis: 在《人類的中心》查爾斯達爾文寫了一篇關於道德進化的偉大文章 , 關於道德的進化 , 為什麼我們有 。\n",
      "2021-11-13 13:10:10 | INFO | hw5.transformer | example reference: 在《人類的起源》裡達爾文寫了許多關於道德進化論這件事道德是從哪來的 ? 我們怎麼會擁有它 ?\n",
      "2021-11-13 13:10:10 | INFO | hw5.transformer | validation loss:\t3.4145\n",
      "2021-11-13 13:10:10 | INFO | hw5.transformer | BLEU = 24.67 58.4/32.9/19.4/12.0 (BP = 0.955 ratio = 0.956 hyp_len = 106900 ref_len = 111811)\n",
      "2021-11-13 13:10:11 | INFO | hw5.transformer | saved epoch checkpoint: /home/wy/ML_study/chapter5/checkpoints/rnn/_transformer_checkpoint88.pt\n",
      "2021-11-13 13:10:11 | INFO | hw5.transformer | end of epoch 88\n"
     ]
    },
    {
     "data": {
      "text/plain": "HBox(children=(HTML(value='train epoch 89'), FloatProgress(value=0.0, max=791.0), HTML(value='')))",
      "application/vnd.jupyter.widget-view+json": {
       "version_major": 2,
       "version_minor": 0,
       "model_id": "8b4968a7bd744ef5868c478858d5c478"
      }
     },
     "metadata": {},
     "output_type": "display_data"
    },
    {
     "name": "stdout",
     "output_type": "stream",
     "text": [
      "2021-11-13 13:12:35 | INFO | hw5.transformer | training loss: 3.4466\n",
      "2021-11-13 13:12:35 | INFO | hw5.transformer | begin validation\n"
     ]
    },
    {
     "data": {
      "text/plain": "HBox(children=(HTML(value='validation'), FloatProgress(value=0.0, max=22.0), HTML(value='')))",
      "application/vnd.jupyter.widget-view+json": {
       "version_major": 2,
       "version_minor": 0,
       "model_id": "a262ec406037466987c885bf006178e6"
      }
     },
     "metadata": {},
     "output_type": "display_data"
    },
    {
     "name": "stdout",
     "output_type": "stream",
     "text": [
      "2021-11-13 13:12:57 | INFO | hw5.transformer | example source: we presented our plan at the white house two weeks after president trump moved in .\n",
      "2021-11-13 13:12:57 | INFO | hw5.transformer | example hypothesis: 我們在白宮展示了我們的計畫 , 在川普總統搬進來後兩週 。\n",
      "2021-11-13 13:12:57 | INFO | hw5.transformer | example reference: 我們在川普總統上任兩週後在白宮呈獻此計劃 。\n",
      "2021-11-13 13:12:57 | INFO | hw5.transformer | validation loss:\t3.4225\n",
      "2021-11-13 13:12:57 | INFO | hw5.transformer | BLEU = 24.34 59.4/33.6/19.8/12.2 (BP = 0.924 ratio = 0.926 hyp_len = 103575 ref_len = 111811)\n",
      "2021-11-13 13:12:57 | INFO | hw5.transformer | saved epoch checkpoint: /home/wy/ML_study/chapter5/checkpoints/rnn/_transformer_checkpoint89.pt\n",
      "2021-11-13 13:12:57 | INFO | hw5.transformer | end of epoch 89\n"
     ]
    },
    {
     "data": {
      "text/plain": "HBox(children=(HTML(value='train epoch 90'), FloatProgress(value=0.0, max=791.0), HTML(value='')))",
      "application/vnd.jupyter.widget-view+json": {
       "version_major": 2,
       "version_minor": 0,
       "model_id": "369c89fa7aec494d87d42238d11cf3e0"
      }
     },
     "metadata": {},
     "output_type": "display_data"
    },
    {
     "name": "stdout",
     "output_type": "stream",
     "text": [
      "2021-11-13 13:15:17 | INFO | hw5.transformer | training loss: 3.4464\n",
      "2021-11-13 13:15:17 | INFO | hw5.transformer | begin validation\n"
     ]
    },
    {
     "data": {
      "text/plain": "HBox(children=(HTML(value='validation'), FloatProgress(value=0.0, max=22.0), HTML(value='')))",
      "application/vnd.jupyter.widget-view+json": {
       "version_major": 2,
       "version_minor": 0,
       "model_id": "ef7bd787132b4b6a9277534bae1000cb"
      }
     },
     "metadata": {},
     "output_type": "display_data"
    },
    {
     "name": "stdout",
     "output_type": "stream",
     "text": [
      "2021-11-13 13:15:37 | INFO | hw5.transformer | example source: and so that's the basic thing doctors are trained to do , and it's miraculous in the case of infectious disease how well it works .\n",
      "2021-11-13 13:15:37 | INFO | hw5.transformer | example hypothesis: 這是醫生訓練的基本東西 , 在傳染病的情況下 , 非常奇怪 。\n",
      "2021-11-13 13:15:37 | INFO | hw5.transformer | example reference: 這基本上是醫生被訓練來做的事 。 這在感染性疾病上有的效果--是幾近神奇的 。\n",
      "2021-11-13 13:15:37 | INFO | hw5.transformer | validation loss:\t3.4182\n",
      "2021-11-13 13:15:37 | INFO | hw5.transformer | BLEU = 23.95 59.8/33.8/20.0/12.3 (BP = 0.902 ratio = 0.906 hyp_len = 101322 ref_len = 111811)\n",
      "2021-11-13 13:15:37 | INFO | hw5.transformer | saved epoch checkpoint: /home/wy/ML_study/chapter5/checkpoints/rnn/_transformer_checkpoint90.pt\n",
      "2021-11-13 13:15:37 | INFO | hw5.transformer | end of epoch 90\n"
     ]
    },
    {
     "data": {
      "text/plain": "HBox(children=(HTML(value='train epoch 91'), FloatProgress(value=0.0, max=791.0), HTML(value='')))",
      "application/vnd.jupyter.widget-view+json": {
       "version_major": 2,
       "version_minor": 0,
       "model_id": "472d96ebd5ac4448af804889926b72e6"
      }
     },
     "metadata": {},
     "output_type": "display_data"
    },
    {
     "name": "stdout",
     "output_type": "stream",
     "text": [
      "2021-11-13 13:17:58 | INFO | hw5.transformer | training loss: 3.4469\n",
      "2021-11-13 13:17:58 | INFO | hw5.transformer | begin validation\n"
     ]
    },
    {
     "data": {
      "text/plain": "HBox(children=(HTML(value='validation'), FloatProgress(value=0.0, max=22.0), HTML(value='')))",
      "application/vnd.jupyter.widget-view+json": {
       "version_major": 2,
       "version_minor": 0,
       "model_id": "78a6cd0d61a5426b85dd2d3f7465d9d6"
      }
     },
     "metadata": {},
     "output_type": "display_data"
    },
    {
     "name": "stdout",
     "output_type": "stream",
     "text": [
      "2021-11-13 13:18:18 | INFO | hw5.transformer | example source: by the early 20th century , the perfect balance of science and art had finally been struck with the emergence of medical illustrators .\n",
      "2021-11-13 13:18:18 | INFO | hw5.transformer | example hypothesis: 到了20世紀初 , 科學和藝術的完美平衡終於被醫學插圖師出現了 。\n",
      "2021-11-13 13:18:18 | INFO | hw5.transformer | example reference: 直到20世紀早期 , 科學與藝術間的完美平衡終於達成了 , 因為醫學插圖畫家的出現 。\n",
      "2021-11-13 13:18:18 | INFO | hw5.transformer | validation loss:\t3.4163\n",
      "2021-11-13 13:18:18 | INFO | hw5.transformer | BLEU = 24.29 59.5/33.6/19.7/12.2 (BP = 0.923 ratio = 0.925 hyp_len = 103471 ref_len = 111811)\n",
      "2021-11-13 13:18:18 | INFO | hw5.transformer | saved epoch checkpoint: /home/wy/ML_study/chapter5/checkpoints/rnn/_transformer_checkpoint91.pt\n",
      "2021-11-13 13:18:18 | INFO | hw5.transformer | end of epoch 91\n"
     ]
    },
    {
     "data": {
      "text/plain": "HBox(children=(HTML(value='train epoch 92'), FloatProgress(value=0.0, max=791.0), HTML(value='')))",
      "application/vnd.jupyter.widget-view+json": {
       "version_major": 2,
       "version_minor": 0,
       "model_id": "74318fc3c53a42939a55bcb7849bd790"
      }
     },
     "metadata": {},
     "output_type": "display_data"
    },
    {
     "name": "stdout",
     "output_type": "stream",
     "text": [
      "2021-11-13 13:20:37 | INFO | hw5.transformer | training loss: 3.4457\n",
      "2021-11-13 13:20:37 | INFO | hw5.transformer | begin validation\n"
     ]
    },
    {
     "data": {
      "text/plain": "HBox(children=(HTML(value='validation'), FloatProgress(value=0.0, max=22.0), HTML(value='')))",
      "application/vnd.jupyter.widget-view+json": {
       "version_major": 2,
       "version_minor": 0,
       "model_id": "bea5b246af5047e3986dd148574da92b"
      }
     },
     "metadata": {},
     "output_type": "display_data"
    },
    {
     "name": "stdout",
     "output_type": "stream",
     "text": [
      "2021-11-13 13:20:59 | INFO | hw5.transformer | example source: try this quick thought experiment: imagine a restaurant that serves michelinstarred food , but where the restaurant smells of sewage and there's human feces on the floor .\n",
      "2021-11-13 13:20:59 | INFO | hw5.transformer | example hypothesis: 試試這個快速的思想實驗:想像一間餐廳 , 服務michelinsarnstared食品 , 但餐廳的味道和地板上的人類糞便 。\n",
      "2021-11-13 13:20:59 | INFO | hw5.transformer | example reference: 讓我們來做個快速的思維實驗想像一家餐廳提供米其林星級水準的食物但餐廳裡惡臭彌漫地板上屎尿橫流\n",
      "2021-11-13 13:20:59 | INFO | hw5.transformer | validation loss:\t3.4173\n",
      "2021-11-13 13:20:59 | INFO | hw5.transformer | BLEU = 24.56 59.2/33.4/19.7/12.2 (BP = 0.934 ratio = 0.936 hyp_len = 104694 ref_len = 111811)\n",
      "2021-11-13 13:20:59 | INFO | hw5.transformer | saved epoch checkpoint: /home/wy/ML_study/chapter5/checkpoints/rnn/_transformer_checkpoint92.pt\n",
      "2021-11-13 13:20:59 | INFO | hw5.transformer | end of epoch 92\n"
     ]
    },
    {
     "data": {
      "text/plain": "HBox(children=(HTML(value='train epoch 93'), FloatProgress(value=0.0, max=791.0), HTML(value='')))",
      "application/vnd.jupyter.widget-view+json": {
       "version_major": 2,
       "version_minor": 0,
       "model_id": "ea2b120a0e15430fb9475e3a881dce9c"
      }
     },
     "metadata": {},
     "output_type": "display_data"
    },
    {
     "name": "stdout",
     "output_type": "stream",
     "text": [
      "2021-11-13 13:23:20 | INFO | hw5.transformer | training loss: 3.4432\n",
      "2021-11-13 13:23:20 | INFO | hw5.transformer | begin validation\n"
     ]
    },
    {
     "data": {
      "text/plain": "HBox(children=(HTML(value='validation'), FloatProgress(value=0.0, max=22.0), HTML(value='')))",
      "application/vnd.jupyter.widget-view+json": {
       "version_major": 2,
       "version_minor": 0,
       "model_id": "e8ef012e4215460bbdcd9d1ec9dbd314"
      }
     },
     "metadata": {},
     "output_type": "display_data"
    },
    {
     "name": "stdout",
     "output_type": "stream",
     "text": [
      "2021-11-13 13:23:41 | INFO | hw5.transformer | example source: so having looked at the numbers , my estimate is that a score of 75 would not only be a giant leap forward in human wellbeing , it would also count as hitting the global goals target .\n",
      "2021-11-13 13:23:41 | INFO | hw5.transformer | example hypothesis: 所以 , 我估計 , 75分的分數不僅是人類幸福的巨大躍進 , 也可能是全球目標的目標 。\n",
      "2021-11-13 13:23:41 | INFO | hw5.transformer | example reference: 所以仔細地考慮一下分數我的估計是75分這在人類幸福上不僅是一個巨大的飛躍 。 也意味著可達成的全球目標 。\n",
      "2021-11-13 13:23:41 | INFO | hw5.transformer | validation loss:\t3.4192\n",
      "2021-11-13 13:23:41 | INFO | hw5.transformer | BLEU = 24.49 58.9/33.2/19.6/12.2 (BP = 0.937 ratio = 0.939 hyp_len = 105022 ref_len = 111811)\n",
      "2021-11-13 13:23:42 | INFO | hw5.transformer | saved epoch checkpoint: /home/wy/ML_study/chapter5/checkpoints/rnn/_transformer_checkpoint93.pt\n",
      "2021-11-13 13:23:42 | INFO | hw5.transformer | end of epoch 93\n"
     ]
    },
    {
     "data": {
      "text/plain": "HBox(children=(HTML(value='train epoch 94'), FloatProgress(value=0.0, max=791.0), HTML(value='')))",
      "application/vnd.jupyter.widget-view+json": {
       "version_major": 2,
       "version_minor": 0,
       "model_id": "8bc577c4c85d4701be0cc937d9dbdce0"
      }
     },
     "metadata": {},
     "output_type": "display_data"
    },
    {
     "name": "stdout",
     "output_type": "stream",
     "text": [
      "2021-11-13 13:26:03 | INFO | hw5.transformer | training loss: 3.4434\n",
      "2021-11-13 13:26:03 | INFO | hw5.transformer | begin validation\n"
     ]
    },
    {
     "data": {
      "text/plain": "HBox(children=(HTML(value='validation'), FloatProgress(value=0.0, max=22.0), HTML(value='')))",
      "application/vnd.jupyter.widget-view+json": {
       "version_major": 2,
       "version_minor": 0,
       "model_id": "310f30c26c464ccda58a952665e840d6"
      }
     },
     "metadata": {},
     "output_type": "display_data"
    },
    {
     "name": "stdout",
     "output_type": "stream",
     "text": [
      "2021-11-13 13:26:23 | INFO | hw5.transformer | example source: and there are hundreds of initiatives every year to try and improve education .\n",
      "2021-11-13 13:26:23 | INFO | hw5.transformer | example hypothesis: 每年都有數百個倡議試圖改善教育 。\n",
      "2021-11-13 13:26:23 | INFO | hw5.transformer | example reference: 每年有幾百件方案嘗試改善教育\n",
      "2021-11-13 13:26:23 | INFO | hw5.transformer | validation loss:\t3.4156\n",
      "2021-11-13 13:26:23 | INFO | hw5.transformer | BLEU = 24.24 59.5/33.6/19.8/12.2 (BP = 0.920 ratio = 0.923 hyp_len = 103170 ref_len = 111811)\n",
      "2021-11-13 13:26:23 | INFO | hw5.transformer | saved epoch checkpoint: /home/wy/ML_study/chapter5/checkpoints/rnn/_transformer_checkpoint94.pt\n",
      "2021-11-13 13:26:24 | INFO | hw5.transformer | end of epoch 94\n"
     ]
    },
    {
     "data": {
      "text/plain": "HBox(children=(HTML(value='train epoch 95'), FloatProgress(value=0.0, max=791.0), HTML(value='')))",
      "application/vnd.jupyter.widget-view+json": {
       "version_major": 2,
       "version_minor": 0,
       "model_id": "1c854e4b3feb433b8690ee08c6a881cc"
      }
     },
     "metadata": {},
     "output_type": "display_data"
    },
    {
     "name": "stdout",
     "output_type": "stream",
     "text": [
      "2021-11-13 13:28:45 | INFO | hw5.transformer | training loss: 3.4409\n",
      "2021-11-13 13:28:45 | INFO | hw5.transformer | begin validation\n"
     ]
    },
    {
     "data": {
      "text/plain": "HBox(children=(HTML(value='validation'), FloatProgress(value=0.0, max=22.0), HTML(value='')))",
      "application/vnd.jupyter.widget-view+json": {
       "version_major": 2,
       "version_minor": 0,
       "model_id": "dc477574cb104eeaa4a29c3274a662e8"
      }
     },
     "metadata": {},
     "output_type": "display_data"
    },
    {
     "name": "stdout",
     "output_type": "stream",
     "text": [
      "2021-11-13 13:29:07 | INFO | hw5.transformer | example source: so one random day , i wandered to the nearest building to my dorm room .\n",
      "2021-11-13 13:29:07 | INFO | hw5.transformer | example hypothesis: 有一天 , 我隨機遊到我家附近的房間 。\n",
      "2021-11-13 13:29:07 | INFO | hw5.transformer | example reference: 某一天 , 我晃到了離我宿舍最近的大樓 。\n",
      "2021-11-13 13:29:07 | INFO | hw5.transformer | validation loss:\t3.4126\n",
      "2021-11-13 13:29:07 | INFO | hw5.transformer | BLEU = 24.57 58.9/33.2/19.6/12.1 (BP = 0.942 ratio = 0.943 hyp_len = 105490 ref_len = 111811)\n",
      "2021-11-13 13:29:08 | INFO | hw5.transformer | saved epoch checkpoint: /home/wy/ML_study/chapter5/checkpoints/rnn/_transformer_checkpoint95.pt\n",
      "2021-11-13 13:29:08 | INFO | hw5.transformer | end of epoch 95\n"
     ]
    },
    {
     "data": {
      "text/plain": "HBox(children=(HTML(value='train epoch 96'), FloatProgress(value=0.0, max=791.0), HTML(value='')))",
      "application/vnd.jupyter.widget-view+json": {
       "version_major": 2,
       "version_minor": 0,
       "model_id": "625adb92bf0344319ab49faf5635c5e8"
      }
     },
     "metadata": {},
     "output_type": "display_data"
    },
    {
     "name": "stdout",
     "output_type": "stream",
     "text": [
      "2021-11-13 13:31:30 | INFO | hw5.transformer | training loss: 3.4415\n",
      "2021-11-13 13:31:30 | INFO | hw5.transformer | begin validation\n"
     ]
    },
    {
     "data": {
      "text/plain": "HBox(children=(HTML(value='validation'), FloatProgress(value=0.0, max=22.0), HTML(value='')))",
      "application/vnd.jupyter.widget-view+json": {
       "version_major": 2,
       "version_minor": 0,
       "model_id": "97be32fee9b54910a659152a43c11209"
      }
     },
     "metadata": {},
     "output_type": "display_data"
    },
    {
     "name": "stdout",
     "output_type": "stream",
     "text": [
      "2021-11-13 13:31:51 | INFO | hw5.transformer | example source: anybody who has an internet connection and the will to learn can access these great courses from excellent universities and get a credential at the end of it .\n",
      "2021-11-13 13:31:51 | INFO | hw5.transformer | example hypothesis: 任何有網路連結的人 , 學習這些偉大的課程 , 都可以從大學畢業 , 最終得到信用 。\n",
      "2021-11-13 13:31:51 | INFO | hw5.transformer | example reference: 任何人只要有網路連線 , 和學習意願 , 就能利用頂尖大學提供的絕佳課程 , 修畢後還能取得證書 。\n",
      "2021-11-13 13:31:51 | INFO | hw5.transformer | validation loss:\t3.4121\n",
      "2021-11-13 13:31:51 | INFO | hw5.transformer | BLEU = 24.61 58.5/32.9/19.4/12.0 (BP = 0.952 ratio = 0.953 hyp_len = 106523 ref_len = 111811)\n",
      "2021-11-13 13:31:51 | INFO | hw5.transformer | saved epoch checkpoint: /home/wy/ML_study/chapter5/checkpoints/rnn/_transformer_checkpoint96.pt\n",
      "2021-11-13 13:31:51 | INFO | hw5.transformer | end of epoch 96\n"
     ]
    },
    {
     "data": {
      "text/plain": "HBox(children=(HTML(value='train epoch 97'), FloatProgress(value=0.0, max=791.0), HTML(value='')))",
      "application/vnd.jupyter.widget-view+json": {
       "version_major": 2,
       "version_minor": 0,
       "model_id": "fe40e6afb1b641359b35242d62b3de3b"
      }
     },
     "metadata": {},
     "output_type": "display_data"
    },
    {
     "name": "stdout",
     "output_type": "stream",
     "text": [
      "2021-11-13 13:34:12 | INFO | hw5.transformer | training loss: 3.4403\n",
      "2021-11-13 13:34:12 | INFO | hw5.transformer | begin validation\n"
     ]
    },
    {
     "data": {
      "text/plain": "HBox(children=(HTML(value='validation'), FloatProgress(value=0.0, max=22.0), HTML(value='')))",
      "application/vnd.jupyter.widget-view+json": {
       "version_major": 2,
       "version_minor": 0,
       "model_id": "34a30b3124b6488ba4b39579422e3245"
      }
     },
     "metadata": {},
     "output_type": "display_data"
    },
    {
     "name": "stdout",
     "output_type": "stream",
     "text": [
      "2021-11-13 13:34:32 | INFO | hw5.transformer | example source: they talked to me about depression , and anxiety and insomnia and suicidal thoughts .\n",
      "2021-11-13 13:34:32 | INFO | hw5.transformer | example hypothesis: 他們跟我談憂鬱、焦慮、失智、自殺的想法 。\n",
      "2021-11-13 13:34:32 | INFO | hw5.transformer | example reference: 他們跟我談了關於抑鬱、焦慮、失眠以及自殺的念頭 。\n",
      "2021-11-13 13:34:32 | INFO | hw5.transformer | validation loss:\t3.4182\n",
      "2021-11-13 13:34:32 | INFO | hw5.transformer | BLEU = 24.19 59.8/33.9/20.0/12.4 (BP = 0.909 ratio = 0.913 hyp_len = 102033 ref_len = 111811)\n",
      "2021-11-13 13:34:32 | INFO | hw5.transformer | saved epoch checkpoint: /home/wy/ML_study/chapter5/checkpoints/rnn/_transformer_checkpoint97.pt\n",
      "2021-11-13 13:34:32 | INFO | hw5.transformer | end of epoch 97\n"
     ]
    },
    {
     "data": {
      "text/plain": "HBox(children=(HTML(value='train epoch 98'), FloatProgress(value=0.0, max=791.0), HTML(value='')))",
      "application/vnd.jupyter.widget-view+json": {
       "version_major": 2,
       "version_minor": 0,
       "model_id": "268b785da4e745d98e189beb9ad6fd2f"
      }
     },
     "metadata": {},
     "output_type": "display_data"
    },
    {
     "name": "stdout",
     "output_type": "stream",
     "text": [
      "2021-11-13 13:36:52 | INFO | hw5.transformer | training loss: 3.4418\n",
      "2021-11-13 13:36:52 | INFO | hw5.transformer | begin validation\n"
     ]
    },
    {
     "data": {
      "text/plain": "HBox(children=(HTML(value='validation'), FloatProgress(value=0.0, max=22.0), HTML(value='')))",
      "application/vnd.jupyter.widget-view+json": {
       "version_major": 2,
       "version_minor": 0,
       "model_id": "80a923b9287c4de09adbcd18ffce15db"
      }
     },
     "metadata": {},
     "output_type": "display_data"
    },
    {
     "name": "stdout",
     "output_type": "stream",
     "text": [
      "2021-11-13 13:37:12 | INFO | hw5.transformer | example source: the more i've seen and learned about our respective generations , the more i realize that we often don't trust each other enough to actually share our respective wisdom .\n",
      "2021-11-13 13:37:12 | INFO | hw5.transformer | example hypothesis: 我見過越多 , 了解到我們的尊重世代 , 我越了解到 , 我們通常不夠相信彼此 , 才能真正分享我們的尊重智慧 。\n",
      "2021-11-13 13:37:12 | INFO | hw5.transformer | example reference: 關於我們各自的世代 , 當我看得越多且學得越多 , 我就越發現我們通常沒有給彼此足夠的信任 , 無法真正分享我們各自的智慧 。\n",
      "2021-11-13 13:37:12 | INFO | hw5.transformer | validation loss:\t3.4199\n",
      "2021-11-13 13:37:12 | INFO | hw5.transformer | BLEU = 24.49 58.9/33.2/19.5/12.0 (BP = 0.941 ratio = 0.943 hyp_len = 105422 ref_len = 111811)\n",
      "2021-11-13 13:37:12 | INFO | hw5.transformer | saved epoch checkpoint: /home/wy/ML_study/chapter5/checkpoints/rnn/_transformer_checkpoint98.pt\n",
      "2021-11-13 13:37:12 | INFO | hw5.transformer | end of epoch 98\n"
     ]
    },
    {
     "data": {
      "text/plain": "HBox(children=(HTML(value='train epoch 99'), FloatProgress(value=0.0, max=791.0), HTML(value='')))",
      "application/vnd.jupyter.widget-view+json": {
       "version_major": 2,
       "version_minor": 0,
       "model_id": "45f7d4ee90d4475fb57b3ce11da96fdc"
      }
     },
     "metadata": {},
     "output_type": "display_data"
    },
    {
     "name": "stdout",
     "output_type": "stream",
     "text": [
      "2021-11-13 13:39:33 | INFO | hw5.transformer | training loss: 3.4391\n",
      "2021-11-13 13:39:33 | INFO | hw5.transformer | begin validation\n"
     ]
    },
    {
     "data": {
      "text/plain": "HBox(children=(HTML(value='validation'), FloatProgress(value=0.0, max=22.0), HTML(value='')))",
      "application/vnd.jupyter.widget-view+json": {
       "version_major": 2,
       "version_minor": 0,
       "model_id": "9c6bf5d415aa49ea8138eb50bcacf148"
      }
     },
     "metadata": {},
     "output_type": "display_data"
    },
    {
     "name": "stdout",
     "output_type": "stream",
     "text": [
      "2021-11-13 13:39:53 | INFO | hw5.transformer | example source: and we continue to build .\n",
      "2021-11-13 13:39:53 | INFO | hw5.transformer | example hypothesis: 我們繼續建造 。\n",
      "2021-11-13 13:39:53 | INFO | hw5.transformer | example reference: 而我們持續在發展 。\n",
      "2021-11-13 13:39:53 | INFO | hw5.transformer | validation loss:\t3.4172\n",
      "2021-11-13 13:39:53 | INFO | hw5.transformer | BLEU = 24.10 59.6/33.6/19.8/12.2 (BP = 0.913 ratio = 0.916 hyp_len = 102462 ref_len = 111811)\n",
      "2021-11-13 13:39:53 | INFO | hw5.transformer | saved epoch checkpoint: /home/wy/ML_study/chapter5/checkpoints/rnn/_transformer_checkpoint99.pt\n",
      "2021-11-13 13:39:53 | INFO | hw5.transformer | end of epoch 99\n"
     ]
    },
    {
     "data": {
      "text/plain": "HBox(children=(HTML(value='train epoch 100'), FloatProgress(value=0.0, max=791.0), HTML(value='')))",
      "application/vnd.jupyter.widget-view+json": {
       "version_major": 2,
       "version_minor": 0,
       "model_id": "43ee48b9f0bf4e7e9a79fdcc605a4277"
      }
     },
     "metadata": {},
     "output_type": "display_data"
    },
    {
     "name": "stdout",
     "output_type": "stream",
     "text": [
      "2021-11-13 13:42:09 | INFO | hw5.transformer | training loss: 3.4394\n",
      "2021-11-13 13:42:09 | INFO | hw5.transformer | begin validation\n"
     ]
    },
    {
     "data": {
      "text/plain": "HBox(children=(HTML(value='validation'), FloatProgress(value=0.0, max=22.0), HTML(value='')))",
      "application/vnd.jupyter.widget-view+json": {
       "version_major": 2,
       "version_minor": 0,
       "model_id": "61bda5ab59784a358e700a0dffeea1bb"
      }
     },
     "metadata": {},
     "output_type": "display_data"
    },
    {
     "name": "stdout",
     "output_type": "stream",
     "text": [
      "2021-11-13 13:42:29 | INFO | hw5.transformer | example source: however , there is ample cause for hope .\n",
      "2021-11-13 13:42:29 | INFO | hw5.transformer | example hypothesis: 然而 , 對於希望 , 還是有行動成因 。\n",
      "2021-11-13 13:42:29 | INFO | hw5.transformer | example reference: 然而還是有足夠的理由可以盼望\n",
      "2021-11-13 13:42:29 | INFO | hw5.transformer | validation loss:\t3.4258\n",
      "2021-11-13 13:42:29 | INFO | hw5.transformer | BLEU = 24.05 60.1/34.0/20.1/12.4 (BP = 0.900 ratio = 0.904 hyp_len = 101131 ref_len = 111811)\n",
      "2021-11-13 13:42:29 | INFO | hw5.transformer | saved epoch checkpoint: /home/wy/ML_study/chapter5/checkpoints/rnn/_transformer_checkpoint100.pt\n",
      "2021-11-13 13:42:29 | INFO | hw5.transformer | end of epoch 100\n"
     ]
    },
    {
     "data": {
      "text/plain": "HBox(children=(HTML(value='train epoch 101'), FloatProgress(value=0.0, max=791.0), HTML(value='')))",
      "application/vnd.jupyter.widget-view+json": {
       "version_major": 2,
       "version_minor": 0,
       "model_id": "404195d1d36d4fe1a6c59867d93642f7"
      }
     },
     "metadata": {},
     "output_type": "display_data"
    },
    {
     "name": "stdout",
     "output_type": "stream",
     "text": [
      "2021-11-13 13:44:46 | INFO | hw5.transformer | training loss: 3.4383\n",
      "2021-11-13 13:44:46 | INFO | hw5.transformer | begin validation\n"
     ]
    },
    {
     "data": {
      "text/plain": "HBox(children=(HTML(value='validation'), FloatProgress(value=0.0, max=22.0), HTML(value='')))",
      "application/vnd.jupyter.widget-view+json": {
       "version_major": 2,
       "version_minor": 0,
       "model_id": "e91017fdfe664daa854469442746991c"
      }
     },
     "metadata": {},
     "output_type": "display_data"
    },
    {
     "name": "stdout",
     "output_type": "stream",
     "text": [
      "2021-11-13 13:45:06 | INFO | hw5.transformer | example source: and in fact , i think we're even wrong when we talk about cancer as a thing .\n",
      "2021-11-13 13:45:06 | INFO | hw5.transformer | example hypothesis: 事實上 , 當我們談到癌症時 , 我們甚至錯了 。\n",
      "2021-11-13 13:45:06 | INFO | hw5.transformer | example reference: 事實上 , 我認為我們把癌症當作 \" 一個東西 \" 這個看法本身就有問題 。\n",
      "2021-11-13 13:45:06 | INFO | hw5.transformer | validation loss:\t3.4233\n",
      "2021-11-13 13:45:06 | INFO | hw5.transformer | BLEU = 23.94 59.9/33.8/19.9/12.2 (BP = 0.903 ratio = 0.907 hyp_len = 101454 ref_len = 111811)\n",
      "2021-11-13 13:45:07 | INFO | hw5.transformer | saved epoch checkpoint: /home/wy/ML_study/chapter5/checkpoints/rnn/_transformer_checkpoint101.pt\n",
      "2021-11-13 13:45:07 | INFO | hw5.transformer | end of epoch 101\n"
     ]
    },
    {
     "data": {
      "text/plain": "HBox(children=(HTML(value='train epoch 102'), FloatProgress(value=0.0, max=791.0), HTML(value='')))",
      "application/vnd.jupyter.widget-view+json": {
       "version_major": 2,
       "version_minor": 0,
       "model_id": "458e1932daef407bb839e43ee6b4f48a"
      }
     },
     "metadata": {},
     "output_type": "display_data"
    },
    {
     "name": "stdout",
     "output_type": "stream",
     "text": [
      "2021-11-13 13:47:27 | INFO | hw5.transformer | training loss: 3.4382\n",
      "2021-11-13 13:47:27 | INFO | hw5.transformer | begin validation\n"
     ]
    },
    {
     "data": {
      "text/plain": "HBox(children=(HTML(value='validation'), FloatProgress(value=0.0, max=22.0), HTML(value='')))",
      "application/vnd.jupyter.widget-view+json": {
       "version_major": 2,
       "version_minor": 0,
       "model_id": "86509bb8eb4a4cef9f3f17399acee481"
      }
     },
     "metadata": {},
     "output_type": "display_data"
    },
    {
     "name": "stdout",
     "output_type": "stream",
     "text": [
      "2021-11-13 13:47:48 | INFO | hw5.transformer | example source: there was no way they could win .\n",
      "2021-11-13 13:47:48 | INFO | hw5.transformer | example hypothesis: 他們沒辦法贏 。\n",
      "2021-11-13 13:47:48 | INFO | hw5.transformer | example reference: 他們是不可能贏的\n",
      "2021-11-13 13:47:48 | INFO | hw5.transformer | validation loss:\t3.4119\n",
      "2021-11-13 13:47:48 | INFO | hw5.transformer | BLEU = 24.27 59.4/33.6/19.8/12.2 (BP = 0.922 ratio = 0.925 hyp_len = 103443 ref_len = 111811)\n",
      "2021-11-13 13:47:48 | INFO | hw5.transformer | saved epoch checkpoint: /home/wy/ML_study/chapter5/checkpoints/rnn/_transformer_checkpoint102.pt\n",
      "2021-11-13 13:47:48 | INFO | hw5.transformer | end of epoch 102\n"
     ]
    },
    {
     "data": {
      "text/plain": "HBox(children=(HTML(value='train epoch 103'), FloatProgress(value=0.0, max=791.0), HTML(value='')))",
      "application/vnd.jupyter.widget-view+json": {
       "version_major": 2,
       "version_minor": 0,
       "model_id": "0b09415753b04a1a8ec5615d12fc05ed"
      }
     },
     "metadata": {},
     "output_type": "display_data"
    },
    {
     "name": "stdout",
     "output_type": "stream",
     "text": [
      "2021-11-13 13:50:07 | INFO | hw5.transformer | training loss: 3.4379\n",
      "2021-11-13 13:50:07 | INFO | hw5.transformer | begin validation\n"
     ]
    },
    {
     "data": {
      "text/plain": "HBox(children=(HTML(value='validation'), FloatProgress(value=0.0, max=22.0), HTML(value='')))",
      "application/vnd.jupyter.widget-view+json": {
       "version_major": 2,
       "version_minor": 0,
       "model_id": "e2daa1b8ec2f40c6833786772c46c428"
      }
     },
     "metadata": {},
     "output_type": "display_data"
    },
    {
     "name": "stdout",
     "output_type": "stream",
     "text": [
      "2021-11-13 13:50:27 | INFO | hw5.transformer | example source: it's what we call , \" invest , connect and celebrate . \"\n",
      "2021-11-13 13:50:27 | INFO | hw5.transformer | example hypothesis: 這就是我們所謂的 「 投資、連結、慶祝 」 。\n",
      "2021-11-13 13:50:27 | INFO | hw5.transformer | example reference: 也就是我們稱之為『投資 , 連結 , 發揚光大』\n",
      "2021-11-13 13:50:27 | INFO | hw5.transformer | validation loss:\t3.4130\n",
      "2021-11-13 13:50:27 | INFO | hw5.transformer | BLEU = 24.26 59.5/33.6/19.8/12.2 (BP = 0.921 ratio = 0.924 hyp_len = 103333 ref_len = 111811)\n",
      "2021-11-13 13:50:27 | INFO | hw5.transformer | saved epoch checkpoint: /home/wy/ML_study/chapter5/checkpoints/rnn/_transformer_checkpoint103.pt\n",
      "2021-11-13 13:50:27 | INFO | hw5.transformer | end of epoch 103\n"
     ]
    },
    {
     "data": {
      "text/plain": "HBox(children=(HTML(value='train epoch 104'), FloatProgress(value=0.0, max=791.0), HTML(value='')))",
      "application/vnd.jupyter.widget-view+json": {
       "version_major": 2,
       "version_minor": 0,
       "model_id": "ef8bb201c21b430fa3dcc60decf9c5be"
      }
     },
     "metadata": {},
     "output_type": "display_data"
    },
    {
     "name": "stdout",
     "output_type": "stream",
     "text": [
      "2021-11-13 13:52:44 | INFO | hw5.transformer | training loss: 3.4368\n",
      "2021-11-13 13:52:44 | INFO | hw5.transformer | begin validation\n"
     ]
    },
    {
     "data": {
      "text/plain": "HBox(children=(HTML(value='validation'), FloatProgress(value=0.0, max=22.0), HTML(value='')))",
      "application/vnd.jupyter.widget-view+json": {
       "version_major": 2,
       "version_minor": 0,
       "model_id": "8d3c2c182d894b0cb02ed0e2b96b771a"
      }
     },
     "metadata": {},
     "output_type": "display_data"
    },
    {
     "name": "stdout",
     "output_type": "stream",
     "text": [
      "2021-11-13 13:53:05 | INFO | hw5.transformer | example source: news sources plastered photos of me all over to sell newspapers , banner ads online , and to keep people tuned to the tv .\n",
      "2021-11-13 13:53:05 | INFO | hw5.transformer | example hypothesis: 新聞來源是我全部拍的照片 , 賣報紙、銀行廣告 , 並讓人們關注電視 。\n",
      "2021-11-13 13:53:05 | INFO | hw5.transformer | example reference: 新聞消息來源到處張貼我的照片 , 賣給報紙、網路上的小廣告 , 讓大家繼續看電視 。\n",
      "2021-11-13 13:53:05 | INFO | hw5.transformer | validation loss:\t3.4082\n",
      "2021-11-13 13:53:05 | INFO | hw5.transformer | BLEU = 24.50 58.7/33.0/19.4/11.9 (BP = 0.948 ratio = 0.949 hyp_len = 106101 ref_len = 111811)\n",
      "2021-11-13 13:53:06 | INFO | hw5.transformer | saved epoch checkpoint: /home/wy/ML_study/chapter5/checkpoints/rnn/_transformer_checkpoint104.pt\n",
      "2021-11-13 13:53:06 | INFO | hw5.transformer | end of epoch 104\n"
     ]
    },
    {
     "data": {
      "text/plain": "HBox(children=(HTML(value='train epoch 105'), FloatProgress(value=0.0, max=791.0), HTML(value='')))",
      "application/vnd.jupyter.widget-view+json": {
       "version_major": 2,
       "version_minor": 0,
       "model_id": "be77d6ba808a46ba8d1973c4641e8f4d"
      }
     },
     "metadata": {},
     "output_type": "display_data"
    },
    {
     "name": "stdout",
     "output_type": "stream",
     "text": [
      "2021-11-13 13:55:24 | INFO | hw5.transformer | training loss: 3.4362\n",
      "2021-11-13 13:55:24 | INFO | hw5.transformer | begin validation\n"
     ]
    },
    {
     "data": {
      "text/plain": "HBox(children=(HTML(value='validation'), FloatProgress(value=0.0, max=22.0), HTML(value='')))",
      "application/vnd.jupyter.widget-view+json": {
       "version_major": 2,
       "version_minor": 0,
       "model_id": "5b0dc6a41b61452681ac0c61be6b18c7"
      }
     },
     "metadata": {},
     "output_type": "display_data"
    },
    {
     "name": "stdout",
     "output_type": "stream",
     "text": [
      "2021-11-13 13:55:45 | INFO | hw5.transformer | example source: so , that's just a rock in the hillside .\n",
      "2021-11-13 13:55:45 | INFO | hw5.transformer | example hypothesis: 這只是山丘上的岩石 。\n",
      "2021-11-13 13:55:45 | INFO | hw5.transformer | example reference: 像是山丘上的岩石\n",
      "2021-11-13 13:55:45 | INFO | hw5.transformer | validation loss:\t3.4132\n",
      "2021-11-13 13:55:45 | INFO | hw5.transformer | BLEU = 24.14 59.6/33.7/19.8/12.2 (BP = 0.915 ratio = 0.918 hyp_len = 102663 ref_len = 111811)\n",
      "2021-11-13 13:55:45 | INFO | hw5.transformer | saved epoch checkpoint: /home/wy/ML_study/chapter5/checkpoints/rnn/_transformer_checkpoint105.pt\n",
      "2021-11-13 13:55:45 | INFO | hw5.transformer | end of epoch 105\n"
     ]
    },
    {
     "data": {
      "text/plain": "HBox(children=(HTML(value='train epoch 106'), FloatProgress(value=0.0, max=791.0), HTML(value='')))",
      "application/vnd.jupyter.widget-view+json": {
       "version_major": 2,
       "version_minor": 0,
       "model_id": "e55e5da4493b4709868708152157b474"
      }
     },
     "metadata": {},
     "output_type": "display_data"
    },
    {
     "name": "stdout",
     "output_type": "stream",
     "text": [
      "2021-11-13 13:58:04 | INFO | hw5.transformer | training loss: 3.4365\n",
      "2021-11-13 13:58:04 | INFO | hw5.transformer | begin validation\n"
     ]
    },
    {
     "data": {
      "text/plain": "HBox(children=(HTML(value='validation'), FloatProgress(value=0.0, max=22.0), HTML(value='')))",
      "application/vnd.jupyter.widget-view+json": {
       "version_major": 2,
       "version_minor": 0,
       "model_id": "ab01656d5e7246588cc02580ad16883f"
      }
     },
     "metadata": {},
     "output_type": "display_data"
    },
    {
     "name": "stdout",
     "output_type": "stream",
     "text": [
      "2021-11-13 13:58:23 | INFO | hw5.transformer | example source: until we live in a society where every human is assured dignity in their labor so that they can work to live well , not only work to survive , there will always be an element of those who seek the open road as a means of escape , of liberation and , of course , of rebellion .\n",
      "2021-11-13 13:58:23 | INFO | hw5.transformer | example hypothesis: 直到我們生活在一個社會 , 每個人都被保證的尊嚴 , 使他們能夠生活良好 , 不只是工作要生存 , 總是有一種要尋求開放道路的元素 , 作為逃脫、自由 , 當然 , 還有反叛 。\n",
      "2021-11-13 13:58:23 | INFO | hw5.transformer | example reference: 直到我們居住在一種人人的勞動都保有尊嚴的社會 , 他們能靠工作讓生活過得更好 , 不只是為了存活而工作 , 屆時 , 永遠都會有一群人將追尋開闊的道路做為一種逃離、解放 , 當然 , 還有反抗的方式 。\n",
      "2021-11-13 13:58:23 | INFO | hw5.transformer | validation loss:\t3.4194\n",
      "2021-11-13 13:58:23 | INFO | hw5.transformer | BLEU = 23.95 60.2/34.1/20.1/12.4 (BP = 0.896 ratio = 0.901 hyp_len = 100699 ref_len = 111811)\n",
      "2021-11-13 13:58:23 | INFO | hw5.transformer | saved epoch checkpoint: /home/wy/ML_study/chapter5/checkpoints/rnn/_transformer_checkpoint106.pt\n",
      "2021-11-13 13:58:23 | INFO | hw5.transformer | end of epoch 106\n"
     ]
    },
    {
     "data": {
      "text/plain": "HBox(children=(HTML(value='train epoch 107'), FloatProgress(value=0.0, max=791.0), HTML(value='')))",
      "application/vnd.jupyter.widget-view+json": {
       "version_major": 2,
       "version_minor": 0,
       "model_id": "05f0244167c04bd3841211645f6ca713"
      }
     },
     "metadata": {},
     "output_type": "display_data"
    },
    {
     "name": "stdout",
     "output_type": "stream",
     "text": [
      "2021-11-13 14:00:42 | INFO | hw5.transformer | training loss: 3.4360\n",
      "2021-11-13 14:00:42 | INFO | hw5.transformer | begin validation\n"
     ]
    },
    {
     "data": {
      "text/plain": "HBox(children=(HTML(value='validation'), FloatProgress(value=0.0, max=22.0), HTML(value='')))",
      "application/vnd.jupyter.widget-view+json": {
       "version_major": 2,
       "version_minor": 0,
       "model_id": "29d52a2d2af4427e8096de90b2c4e9e6"
      }
     },
     "metadata": {},
     "output_type": "display_data"
    },
    {
     "name": "stdout",
     "output_type": "stream",
     "text": [
      "2021-11-13 14:01:01 | INFO | hw5.transformer | example source: so as i was saying , 72 percent of our country is under forest cover , and all that forest is pristine .\n",
      "2021-11-13 14:01:01 | INFO | hw5.transformer | example hypothesis: 正如我所說的 , 我們的國家有72%的森林封面下 , 森林只有原始 。\n",
      "2021-11-13 14:01:01 | INFO | hw5.transformer | example reference: 所以 , 就如我所說的 , 我們國家的森林覆蓋率為72% , 所有的森林都是原始森林 。\n",
      "2021-11-13 14:01:01 | INFO | hw5.transformer | validation loss:\t3.4132\n",
      "2021-11-13 14:01:01 | INFO | hw5.transformer | BLEU = 24.31 59.6/33.7/19.8/12.2 (BP = 0.921 ratio = 0.924 hyp_len = 103333 ref_len = 111811)\n",
      "2021-11-13 14:01:02 | INFO | hw5.transformer | saved epoch checkpoint: /home/wy/ML_study/chapter5/checkpoints/rnn/_transformer_checkpoint107.pt\n",
      "2021-11-13 14:01:02 | INFO | hw5.transformer | end of epoch 107\n"
     ]
    },
    {
     "data": {
      "text/plain": "HBox(children=(HTML(value='train epoch 108'), FloatProgress(value=0.0, max=791.0), HTML(value='')))",
      "application/vnd.jupyter.widget-view+json": {
       "version_major": 2,
       "version_minor": 0,
       "model_id": "6ddca940aa084423a4e668075c84d93e"
      }
     },
     "metadata": {},
     "output_type": "display_data"
    },
    {
     "name": "stdout",
     "output_type": "stream",
     "text": [
      "2021-11-13 14:03:24 | INFO | hw5.transformer | training loss: 3.4341\n",
      "2021-11-13 14:03:24 | INFO | hw5.transformer | begin validation\n"
     ]
    },
    {
     "data": {
      "text/plain": "HBox(children=(HTML(value='validation'), FloatProgress(value=0.0, max=22.0), HTML(value='')))",
      "application/vnd.jupyter.widget-view+json": {
       "version_major": 2,
       "version_minor": 0,
       "model_id": "66a5f78a2c2e4278ade61b55f2c89ba4"
      }
     },
     "metadata": {},
     "output_type": "display_data"
    },
    {
     "name": "stdout",
     "output_type": "stream",
     "text": [
      "2021-11-13 14:03:45 | INFO | hw5.transformer | example source: luckily , we were already moving in the opposite direction .\n",
      "2021-11-13 14:03:45 | INFO | hw5.transformer | example hypothesis: 幸運的是 , 我們已經朝相反方向移動 。\n",
      "2021-11-13 14:03:45 | INFO | hw5.transformer | example reference: 很幸運地 , 我們正朝反方向移動 。\n",
      "2021-11-13 14:03:45 | INFO | hw5.transformer | validation loss:\t3.4116\n",
      "2021-11-13 14:03:45 | INFO | hw5.transformer | BLEU = 24.27 59.3/33.5/19.7/12.1 (BP = 0.924 ratio = 0.927 hyp_len = 103655 ref_len = 111811)\n",
      "2021-11-13 14:03:46 | INFO | hw5.transformer | saved epoch checkpoint: /home/wy/ML_study/chapter5/checkpoints/rnn/_transformer_checkpoint108.pt\n",
      "2021-11-13 14:03:46 | INFO | hw5.transformer | end of epoch 108\n"
     ]
    },
    {
     "data": {
      "text/plain": "HBox(children=(HTML(value='train epoch 109'), FloatProgress(value=0.0, max=791.0), HTML(value='')))",
      "application/vnd.jupyter.widget-view+json": {
       "version_major": 2,
       "version_minor": 0,
       "model_id": "95da6a6ab0aa451d8d5390dfe1f762b4"
      }
     },
     "metadata": {},
     "output_type": "display_data"
    },
    {
     "name": "stdout",
     "output_type": "stream",
     "text": [
      "2021-11-13 14:06:03 | INFO | hw5.transformer | training loss: 3.4350\n",
      "2021-11-13 14:06:03 | INFO | hw5.transformer | begin validation\n"
     ]
    },
    {
     "data": {
      "text/plain": "HBox(children=(HTML(value='validation'), FloatProgress(value=0.0, max=22.0), HTML(value='')))",
      "application/vnd.jupyter.widget-view+json": {
       "version_major": 2,
       "version_minor": 0,
       "model_id": "853b59594cc143f1ab18ae6244c493f8"
      }
     },
     "metadata": {},
     "output_type": "display_data"
    },
    {
     "name": "stdout",
     "output_type": "stream",
     "text": [
      "2021-11-13 14:06:22 | INFO | hw5.transformer | example source: and turned up the other way , the people who are retirement age goes up very , very fast , as the baby boomers get to retirement age .\n",
      "2021-11-13 14:06:22 | INFO | hw5.transformer | example hypothesis: 另一方面 , 退休年齡的人非常快速地上升 , 當嬰兒潮世代退休時 。\n",
      "2021-11-13 14:06:22 | INFO | hw5.transformer | example reference: 另一方面 , 隨著嬰兒潮一代逐步步入退休年齡 , 處於退休年齡的人將越來越多 。\n",
      "2021-11-13 14:06:22 | INFO | hw5.transformer | validation loss:\t3.4135\n",
      "2021-11-13 14:06:22 | INFO | hw5.transformer | BLEU = 24.52 59.1/33.4/19.7/12.2 (BP = 0.934 ratio = 0.936 hyp_len = 104695 ref_len = 111811)\n",
      "2021-11-13 14:06:23 | INFO | hw5.transformer | saved epoch checkpoint: /home/wy/ML_study/chapter5/checkpoints/rnn/_transformer_checkpoint109.pt\n",
      "2021-11-13 14:06:23 | INFO | hw5.transformer | end of epoch 109\n"
     ]
    },
    {
     "data": {
      "text/plain": "HBox(children=(HTML(value='train epoch 110'), FloatProgress(value=0.0, max=791.0), HTML(value='')))",
      "application/vnd.jupyter.widget-view+json": {
       "version_major": 2,
       "version_minor": 0,
       "model_id": "2c583259474d48c9b5a1a227567b667e"
      }
     },
     "metadata": {},
     "output_type": "display_data"
    },
    {
     "name": "stdout",
     "output_type": "stream",
     "text": [
      "2021-11-13 14:08:40 | INFO | hw5.transformer | training loss: 3.4342\n",
      "2021-11-13 14:08:40 | INFO | hw5.transformer | begin validation\n"
     ]
    },
    {
     "data": {
      "text/plain": "HBox(children=(HTML(value='validation'), FloatProgress(value=0.0, max=22.0), HTML(value='')))",
      "application/vnd.jupyter.widget-view+json": {
       "version_major": 2,
       "version_minor": 0,
       "model_id": "53aa86656fc5407b800a264316a3db85"
      }
     },
     "metadata": {},
     "output_type": "display_data"
    },
    {
     "name": "stdout",
     "output_type": "stream",
     "text": [
      "2021-11-13 14:09:00 | INFO | hw5.transformer | example source: unlike the balancing pole , i did not include the mathematical model of the glass in the system .\n",
      "2021-11-13 14:09:00 | INFO | hw5.transformer | example hypothesis: 與平衡的北極不同 , 我不包含系統中的玻璃模型 。\n",
      "2021-11-13 14:09:00 | INFO | hw5.transformer | example reference: 不像平衡桿 , 我並未把玻璃杯的數學模型加到系統裡\n",
      "2021-11-13 14:09:00 | INFO | hw5.transformer | validation loss:\t3.3995\n",
      "2021-11-13 14:09:00 | INFO | hw5.transformer | BLEU = 24.39 58.8/33.1/19.5/12.0 (BP = 0.938 ratio = 0.940 hyp_len = 105131 ref_len = 111811)\n",
      "2021-11-13 14:09:01 | INFO | hw5.transformer | saved epoch checkpoint: /home/wy/ML_study/chapter5/checkpoints/rnn/_transformer_checkpoint110.pt\n",
      "2021-11-13 14:09:01 | INFO | hw5.transformer | end of epoch 110\n"
     ]
    },
    {
     "data": {
      "text/plain": "HBox(children=(HTML(value='train epoch 111'), FloatProgress(value=0.0, max=791.0), HTML(value='')))",
      "application/vnd.jupyter.widget-view+json": {
       "version_major": 2,
       "version_minor": 0,
       "model_id": "3380aa5e297249be9bd4a0a5d80cf8ee"
      }
     },
     "metadata": {},
     "output_type": "display_data"
    },
    {
     "name": "stdout",
     "output_type": "stream",
     "text": [
      "2021-11-13 14:11:19 | INFO | hw5.transformer | training loss: 3.4330\n",
      "2021-11-13 14:11:19 | INFO | hw5.transformer | begin validation\n"
     ]
    },
    {
     "data": {
      "text/plain": "HBox(children=(HTML(value='validation'), FloatProgress(value=0.0, max=22.0), HTML(value='')))",
      "application/vnd.jupyter.widget-view+json": {
       "version_major": 2,
       "version_minor": 0,
       "model_id": "8ecb4b493e6642a8907ab2e7d8430b04"
      }
     },
     "metadata": {},
     "output_type": "display_data"
    },
    {
     "name": "stdout",
     "output_type": "stream",
     "text": [
      "2021-11-13 14:11:39 | INFO | hw5.transformer | example source: the report was titled , \" india: the story you never wanted to hear . \"\n",
      "2021-11-13 14:11:39 | INFO | hw5.transformer | example hypothesis: 報告名為: 「 印度:你從來不想聽的故事 。 」\n",
      "2021-11-13 14:11:39 | INFO | hw5.transformer | example reference: 新聞的標題是 「 印度:你絕不會想聽的故事 」 。\n",
      "2021-11-13 14:11:39 | INFO | hw5.transformer | validation loss:\t3.4102\n",
      "2021-11-13 14:11:39 | INFO | hw5.transformer | BLEU = 24.15 59.7/33.7/19.8/12.2 (BP = 0.914 ratio = 0.917 hyp_len = 102562 ref_len = 111811)\n",
      "2021-11-13 14:11:39 | INFO | hw5.transformer | saved epoch checkpoint: /home/wy/ML_study/chapter5/checkpoints/rnn/_transformer_checkpoint111.pt\n",
      "2021-11-13 14:11:39 | INFO | hw5.transformer | end of epoch 111\n"
     ]
    },
    {
     "data": {
      "text/plain": "HBox(children=(HTML(value='train epoch 112'), FloatProgress(value=0.0, max=791.0), HTML(value='')))",
      "application/vnd.jupyter.widget-view+json": {
       "version_major": 2,
       "version_minor": 0,
       "model_id": "62961e7ad97e4ac49b9a7449a532ef87"
      }
     },
     "metadata": {},
     "output_type": "display_data"
    },
    {
     "name": "stdout",
     "output_type": "stream",
     "text": [
      "2021-11-13 14:13:58 | INFO | hw5.transformer | training loss: 3.4329\n",
      "2021-11-13 14:13:58 | INFO | hw5.transformer | begin validation\n"
     ]
    },
    {
     "data": {
      "text/plain": "HBox(children=(HTML(value='validation'), FloatProgress(value=0.0, max=22.0), HTML(value='')))",
      "application/vnd.jupyter.widget-view+json": {
       "version_major": 2,
       "version_minor": 0,
       "model_id": "5386956210cb4384afeeeea035fe0444"
      }
     },
     "metadata": {},
     "output_type": "display_data"
    },
    {
     "name": "stdout",
     "output_type": "stream",
     "text": [
      "2021-11-13 14:14:19 | INFO | hw5.transformer | example source: and they've thought , \" oh , what a horrible religion that is , which ordains something like that . \"\n",
      "2021-11-13 14:14:19 | INFO | hw5.transformer | example hypothesis: 他們想: 「 喔 , 那個可怕的宗教是什麼 , 那個宗教是這樣的 。 」\n",
      "2021-11-13 14:14:19 | INFO | hw5.transformer | example reference: 西方人會想 , \" 天啊 , 伊斯蘭教太恐怖了 , 居然教教徒們做這種事情\n",
      "2021-11-13 14:14:19 | INFO | hw5.transformer | validation loss:\t3.4080\n",
      "2021-11-13 14:14:19 | INFO | hw5.transformer | BLEU = 24.65 59.0/33.3/19.6/12.1 (BP = 0.943 ratio = 0.944 hyp_len = 105572 ref_len = 111811)\n",
      "2021-11-13 14:14:19 | INFO | hw5.transformer | saved epoch checkpoint: /home/wy/ML_study/chapter5/checkpoints/rnn/_transformer_checkpoint112.pt\n",
      "2021-11-13 14:14:19 | INFO | hw5.transformer | end of epoch 112\n"
     ]
    },
    {
     "data": {
      "text/plain": "HBox(children=(HTML(value='train epoch 113'), FloatProgress(value=0.0, max=791.0), HTML(value='')))",
      "application/vnd.jupyter.widget-view+json": {
       "version_major": 2,
       "version_minor": 0,
       "model_id": "3fa0954e0636484b8700fe09aab44d7a"
      }
     },
     "metadata": {},
     "output_type": "display_data"
    },
    {
     "name": "stdout",
     "output_type": "stream",
     "text": [
      "2021-11-13 14:16:38 | INFO | hw5.transformer | training loss: 3.4311\n",
      "2021-11-13 14:16:38 | INFO | hw5.transformer | begin validation\n"
     ]
    },
    {
     "data": {
      "text/plain": "HBox(children=(HTML(value='validation'), FloatProgress(value=0.0, max=22.0), HTML(value='')))",
      "application/vnd.jupyter.widget-view+json": {
       "version_major": 2,
       "version_minor": 0,
       "model_id": "225c715e0d09428f9143daee049e37e9"
      }
     },
     "metadata": {},
     "output_type": "display_data"
    },
    {
     "name": "stdout",
     "output_type": "stream",
     "text": [
      "2021-11-13 14:16:58 | INFO | hw5.transformer | example source: to face those challenges , we need new tools of measurement , new ways of valuing progress .\n",
      "2021-11-13 14:16:58 | INFO | hw5.transformer | example hypothesis: 要面對這些挑戰 , 我們需要新的測量工具、評估進步的方式 。\n",
      "2021-11-13 14:16:58 | INFO | hw5.transformer | example reference: 要面對這些挑戰 , 我們需要新的尺度工具 , 新的評價機制 。\n",
      "2021-11-13 14:16:58 | INFO | hw5.transformer | validation loss:\t3.4083\n",
      "2021-11-13 14:16:58 | INFO | hw5.transformer | BLEU = 24.43 59.1/33.3/19.6/12.1 (BP = 0.934 ratio = 0.937 hyp_len = 104715 ref_len = 111811)\n",
      "2021-11-13 14:16:59 | INFO | hw5.transformer | saved epoch checkpoint: /home/wy/ML_study/chapter5/checkpoints/rnn/_transformer_checkpoint113.pt\n",
      "2021-11-13 14:16:59 | INFO | hw5.transformer | end of epoch 113\n"
     ]
    },
    {
     "data": {
      "text/plain": "HBox(children=(HTML(value='train epoch 114'), FloatProgress(value=0.0, max=791.0), HTML(value='')))",
      "application/vnd.jupyter.widget-view+json": {
       "version_major": 2,
       "version_minor": 0,
       "model_id": "4945a80b35494972a356cdc981460b9e"
      }
     },
     "metadata": {},
     "output_type": "display_data"
    },
    {
     "name": "stdout",
     "output_type": "stream",
     "text": [
      "2021-11-13 14:19:16 | INFO | hw5.transformer | training loss: 3.4312\n",
      "2021-11-13 14:19:16 | INFO | hw5.transformer | begin validation\n"
     ]
    },
    {
     "data": {
      "text/plain": "HBox(children=(HTML(value='validation'), FloatProgress(value=0.0, max=22.0), HTML(value='')))",
      "application/vnd.jupyter.widget-view+json": {
       "version_major": 2,
       "version_minor": 0,
       "model_id": "22f1497f16404496a3f0f8701a2294df"
      }
     },
     "metadata": {},
     "output_type": "display_data"
    },
    {
     "name": "stdout",
     "output_type": "stream",
     "text": [
      "2021-11-13 14:19:36 | INFO | hw5.transformer | example source: try and build a political settlement first .\n",
      "2021-11-13 14:19:36 | INFO | hw5.transformer | example hypothesis: 首先試圖建立政治定居 。\n",
      "2021-11-13 14:19:36 | INFO | hw5.transformer | example reference: 即應該先試著從政治角度解決 。\n",
      "2021-11-13 14:19:36 | INFO | hw5.transformer | validation loss:\t3.4095\n",
      "2021-11-13 14:19:36 | INFO | hw5.transformer | BLEU = 24.72 58.9/33.4/19.7/12.2 (BP = 0.942 ratio = 0.944 hyp_len = 105495 ref_len = 111811)\n",
      "2021-11-13 14:19:37 | INFO | hw5.transformer | saved epoch checkpoint: /home/wy/ML_study/chapter5/checkpoints/rnn/_transformer_checkpoint114.pt\n",
      "2021-11-13 14:19:37 | INFO | hw5.transformer | end of epoch 114\n"
     ]
    },
    {
     "data": {
      "text/plain": "HBox(children=(HTML(value='train epoch 115'), FloatProgress(value=0.0, max=791.0), HTML(value='')))",
      "application/vnd.jupyter.widget-view+json": {
       "version_major": 2,
       "version_minor": 0,
       "model_id": "1ab4eac54063400684ce7cf4d67f286e"
      }
     },
     "metadata": {},
     "output_type": "display_data"
    },
    {
     "name": "stdout",
     "output_type": "stream",
     "text": [
      "2021-11-13 14:21:57 | INFO | hw5.transformer | training loss: 3.4299\n",
      "2021-11-13 14:21:57 | INFO | hw5.transformer | begin validation\n"
     ]
    },
    {
     "data": {
      "text/plain": "HBox(children=(HTML(value='validation'), FloatProgress(value=0.0, max=22.0), HTML(value='')))",
      "application/vnd.jupyter.widget-view+json": {
       "version_major": 2,
       "version_minor": 0,
       "model_id": "af6237b227db42f78d5d9f59ba123c58"
      }
     },
     "metadata": {},
     "output_type": "display_data"
    },
    {
     "name": "stdout",
     "output_type": "stream",
     "text": [
      "2021-11-13 14:22:17 | INFO | hw5.transformer | example source: those endocannabinoids travel backward to influence the sending neuron— essentially giving it feedback from the receiving neuron .\n",
      "2021-11-13 14:22:17 | INFO | hw5.transformer | example hypothesis: 那些瀕臨絕種抗生素會向後傳送神經元 , 基本上就是給予它回饋給接收神經元 。\n",
      "2021-11-13 14:22:17 | INFO | hw5.transformer | example reference: 那些內源性大麻素會反向移動 , 去影響到發送訊息的神經元基本上 , 是給它來自接收神經元的回饋資訊 。\n",
      "2021-11-13 14:22:17 | INFO | hw5.transformer | validation loss:\t3.4075\n",
      "2021-11-13 14:22:17 | INFO | hw5.transformer | BLEU = 24.61 59.3/33.5/19.8/12.3 (BP = 0.932 ratio = 0.934 hyp_len = 104461 ref_len = 111811)\n",
      "2021-11-13 14:22:17 | INFO | hw5.transformer | saved epoch checkpoint: /home/wy/ML_study/chapter5/checkpoints/rnn/_transformer_checkpoint115.pt\n",
      "2021-11-13 14:22:17 | INFO | hw5.transformer | end of epoch 115\n"
     ]
    },
    {
     "data": {
      "text/plain": "HBox(children=(HTML(value='train epoch 116'), FloatProgress(value=0.0, max=791.0), HTML(value='')))",
      "application/vnd.jupyter.widget-view+json": {
       "version_major": 2,
       "version_minor": 0,
       "model_id": "551f7fab40374bacbab46fe79e4420f9"
      }
     },
     "metadata": {},
     "output_type": "display_data"
    },
    {
     "name": "stdout",
     "output_type": "stream",
     "text": [
      "2021-11-13 14:24:39 | INFO | hw5.transformer | training loss: 3.4300\n",
      "2021-11-13 14:24:39 | INFO | hw5.transformer | begin validation\n"
     ]
    },
    {
     "data": {
      "text/plain": "HBox(children=(HTML(value='validation'), FloatProgress(value=0.0, max=22.0), HTML(value='')))",
      "application/vnd.jupyter.widget-view+json": {
       "version_major": 2,
       "version_minor": 0,
       "model_id": "a55cfef247684d55b5a6027502accbfe"
      }
     },
     "metadata": {},
     "output_type": "display_data"
    },
    {
     "name": "stdout",
     "output_type": "stream",
     "text": [
      "2021-11-13 14:25:02 | INFO | hw5.transformer | example source: this one disguises itself as floating algae .\n",
      "2021-11-13 14:25:02 | INFO | hw5.transformer | example hypothesis: 這一個論點本身就是漂浮藻類 。\n",
      "2021-11-13 14:25:02 | INFO | hw5.transformer | example reference: 這一只將自己偽裝成浮動的海藻 。\n",
      "2021-11-13 14:25:02 | INFO | hw5.transformer | validation loss:\t3.4058\n",
      "2021-11-13 14:25:02 | INFO | hw5.transformer | BLEU = 24.49 59.1/33.4/19.7/12.2 (BP = 0.933 ratio = 0.936 hyp_len = 104602 ref_len = 111811)\n",
      "2021-11-13 14:25:02 | INFO | hw5.transformer | saved epoch checkpoint: /home/wy/ML_study/chapter5/checkpoints/rnn/_transformer_checkpoint116.pt\n",
      "2021-11-13 14:25:02 | INFO | hw5.transformer | end of epoch 116\n"
     ]
    },
    {
     "data": {
      "text/plain": "HBox(children=(HTML(value='train epoch 117'), FloatProgress(value=0.0, max=791.0), HTML(value='')))",
      "application/vnd.jupyter.widget-view+json": {
       "version_major": 2,
       "version_minor": 0,
       "model_id": "030773048d254dbaaa28868fee2f629b"
      }
     },
     "metadata": {},
     "output_type": "display_data"
    },
    {
     "name": "stdout",
     "output_type": "stream",
     "text": [
      "2021-11-13 14:27:19 | INFO | hw5.transformer | training loss: 3.4301\n",
      "2021-11-13 14:27:19 | INFO | hw5.transformer | begin validation\n"
     ]
    },
    {
     "data": {
      "text/plain": "HBox(children=(HTML(value='validation'), FloatProgress(value=0.0, max=22.0), HTML(value='')))",
      "application/vnd.jupyter.widget-view+json": {
       "version_major": 2,
       "version_minor": 0,
       "model_id": "811569894cf74bc5a890b2457186c501"
      }
     },
     "metadata": {},
     "output_type": "display_data"
    },
    {
     "name": "stdout",
     "output_type": "stream",
     "text": [
      "2021-11-13 14:27:39 | INFO | hw5.transformer | example source: these are all things that ended up not making it into the final machine .\n",
      "2021-11-13 14:27:39 | INFO | hw5.transformer | example hypothesis: 這些都不是最後一台機器 。\n",
      "2021-11-13 14:27:39 | INFO | hw5.transformer | example reference: 要順利完成這台裝置必須要取捨一些東西\n",
      "2021-11-13 14:27:39 | INFO | hw5.transformer | validation loss:\t3.4027\n",
      "2021-11-13 14:27:39 | INFO | hw5.transformer | BLEU = 24.67 58.7/33.1/19.5/12.0 (BP = 0.950 ratio = 0.951 hyp_len = 106383 ref_len = 111811)\n",
      "2021-11-13 14:27:40 | INFO | hw5.transformer | saved epoch checkpoint: /home/wy/ML_study/chapter5/checkpoints/rnn/_transformer_checkpoint117.pt\n",
      "2021-11-13 14:27:40 | INFO | hw5.transformer | end of epoch 117\n"
     ]
    },
    {
     "data": {
      "text/plain": "HBox(children=(HTML(value='train epoch 118'), FloatProgress(value=0.0, max=791.0), HTML(value='')))",
      "application/vnd.jupyter.widget-view+json": {
       "version_major": 2,
       "version_minor": 0,
       "model_id": "ea76534b559c4fe7aef5e140499f463e"
      }
     },
     "metadata": {},
     "output_type": "display_data"
    },
    {
     "name": "stdout",
     "output_type": "stream",
     "text": [
      "2021-11-13 14:29:59 | INFO | hw5.transformer | training loss: 3.4289\n",
      "2021-11-13 14:29:59 | INFO | hw5.transformer | begin validation\n"
     ]
    },
    {
     "data": {
      "text/plain": "HBox(children=(HTML(value='validation'), FloatProgress(value=0.0, max=22.0), HTML(value='')))",
      "application/vnd.jupyter.widget-view+json": {
       "version_major": 2,
       "version_minor": 0,
       "model_id": "236a72ca98ae47efbe3cd22a6b57a526"
      }
     },
     "metadata": {},
     "output_type": "display_data"
    },
    {
     "name": "stdout",
     "output_type": "stream",
     "text": [
      "2021-11-13 14:30:19 | INFO | hw5.transformer | example source: well , what did i do when i was a kid ?\n",
      "2021-11-13 14:30:19 | INFO | hw5.transformer | example hypothesis: 我小時候做了什麼 ?\n",
      "2021-11-13 14:30:19 | INFO | hw5.transformer | example reference: 那麼我小時候都在做什麼呢 ?\n",
      "2021-11-13 14:30:19 | INFO | hw5.transformer | validation loss:\t3.4016\n",
      "2021-11-13 14:30:19 | INFO | hw5.transformer | BLEU = 24.55 59.1/33.4/19.7/12.2 (BP = 0.936 ratio = 0.938 hyp_len = 104888 ref_len = 111811)\n",
      "2021-11-13 14:30:19 | INFO | hw5.transformer | saved epoch checkpoint: /home/wy/ML_study/chapter5/checkpoints/rnn/_transformer_checkpoint118.pt\n",
      "2021-11-13 14:30:19 | INFO | hw5.transformer | end of epoch 118\n"
     ]
    },
    {
     "data": {
      "text/plain": "HBox(children=(HTML(value='train epoch 119'), FloatProgress(value=0.0, max=791.0), HTML(value='')))",
      "application/vnd.jupyter.widget-view+json": {
       "version_major": 2,
       "version_minor": 0,
       "model_id": "93b6e3cbfe8a4ef29a8aa84efd66d34c"
      }
     },
     "metadata": {},
     "output_type": "display_data"
    },
    {
     "name": "stdout",
     "output_type": "stream",
     "text": [
      "2021-11-13 14:32:39 | INFO | hw5.transformer | training loss: 3.4274\n",
      "2021-11-13 14:32:39 | INFO | hw5.transformer | begin validation\n"
     ]
    },
    {
     "data": {
      "text/plain": "HBox(children=(HTML(value='validation'), FloatProgress(value=0.0, max=22.0), HTML(value='')))",
      "application/vnd.jupyter.widget-view+json": {
       "version_major": 2,
       "version_minor": 0,
       "model_id": "8d27207e0aaf4e3faa62a846a67e9daf"
      }
     },
     "metadata": {},
     "output_type": "display_data"
    },
    {
     "name": "stdout",
     "output_type": "stream",
     "text": [
      "2021-11-13 14:32:59 | INFO | hw5.transformer | example source: stereotypes have been broken .\n",
      "2021-11-13 14:32:59 | INFO | hw5.transformer | example hypothesis: 刻板印象已經被破壞了 。\n",
      "2021-11-13 14:32:59 | INFO | hw5.transformer | example reference: 已向外蔓延 。 刻板印象已破除 ,\n",
      "2021-11-13 14:32:59 | INFO | hw5.transformer | validation loss:\t3.4098\n",
      "2021-11-13 14:32:59 | INFO | hw5.transformer | BLEU = 24.50 59.5/33.7/19.9/12.3 (BP = 0.927 ratio = 0.929 hyp_len = 103912 ref_len = 111811)\n",
      "2021-11-13 14:33:00 | INFO | hw5.transformer | saved epoch checkpoint: /home/wy/ML_study/chapter5/checkpoints/rnn/_transformer_checkpoint119.pt\n",
      "2021-11-13 14:33:00 | INFO | hw5.transformer | end of epoch 119\n"
     ]
    },
    {
     "data": {
      "text/plain": "HBox(children=(HTML(value='train epoch 120'), FloatProgress(value=0.0, max=791.0), HTML(value='')))",
      "application/vnd.jupyter.widget-view+json": {
       "version_major": 2,
       "version_minor": 0,
       "model_id": "72073002d083453d96817b1dbf097e36"
      }
     },
     "metadata": {},
     "output_type": "display_data"
    },
    {
     "name": "stdout",
     "output_type": "stream",
     "text": [
      "2021-11-13 14:35:20 | INFO | hw5.transformer | training loss: 3.4260\n",
      "2021-11-13 14:35:20 | INFO | hw5.transformer | begin validation\n"
     ]
    },
    {
     "data": {
      "text/plain": "HBox(children=(HTML(value='validation'), FloatProgress(value=0.0, max=22.0), HTML(value='')))",
      "application/vnd.jupyter.widget-view+json": {
       "version_major": 2,
       "version_minor": 0,
       "model_id": "f716690b74734f15828a616ef96c0674"
      }
     },
     "metadata": {},
     "output_type": "display_data"
    },
    {
     "name": "stdout",
     "output_type": "stream",
     "text": [
      "2021-11-13 14:35:41 | INFO | hw5.transformer | example source: it's really just for the sort of joy of its own triviality .\n",
      "2021-11-13 14:35:41 | INFO | hw5.transformer | example hypothesis: 這真的只是為了自己的少數喜悅 。\n",
      "2021-11-13 14:35:41 | INFO | hw5.transformer | example reference: 真的只是爲了它本身細小而繁瑣的樂趣\n",
      "2021-11-13 14:35:41 | INFO | hw5.transformer | validation loss:\t3.4079\n",
      "2021-11-13 14:35:41 | INFO | hw5.transformer | BLEU = 24.21 59.6/33.6/19.8/12.2 (BP = 0.919 ratio = 0.922 hyp_len = 103051 ref_len = 111811)\n",
      "2021-11-13 14:35:41 | INFO | hw5.transformer | saved epoch checkpoint: /home/wy/ML_study/chapter5/checkpoints/rnn/_transformer_checkpoint120.pt\n",
      "2021-11-13 14:35:41 | INFO | hw5.transformer | end of epoch 120\n"
     ]
    },
    {
     "data": {
      "text/plain": "HBox(children=(HTML(value='train epoch 121'), FloatProgress(value=0.0, max=791.0), HTML(value='')))",
      "application/vnd.jupyter.widget-view+json": {
       "version_major": 2,
       "version_minor": 0,
       "model_id": "b68ace3e59c843e8ab3ee8454e4c6456"
      }
     },
     "metadata": {},
     "output_type": "display_data"
    },
    {
     "name": "stdout",
     "output_type": "stream",
     "text": [
      "2021-11-13 14:37:58 | INFO | hw5.transformer | training loss: 3.4278\n",
      "2021-11-13 14:37:58 | INFO | hw5.transformer | begin validation\n"
     ]
    },
    {
     "data": {
      "text/plain": "HBox(children=(HTML(value='validation'), FloatProgress(value=0.0, max=22.0), HTML(value='')))",
      "application/vnd.jupyter.widget-view+json": {
       "version_major": 2,
       "version_minor": 0,
       "model_id": "1677d2fa014842818ed56015e9e42270"
      }
     },
     "metadata": {},
     "output_type": "display_data"
    },
    {
     "name": "stdout",
     "output_type": "stream",
     "text": [
      "2021-11-13 14:38:18 | INFO | hw5.transformer | example source: normally it's sort of cordoned off when it's in a museum .\n",
      "2021-11-13 14:38:18 | INFO | hw5.transformer | example hypothesis: 一般來說 , 博物館裡 , 它有點像被忽略了 。\n",
      "2021-11-13 14:38:18 | INFO | hw5.transformer | example reference: 一般情況下 , 在博物館裏都是放在封閉的展櫃中 。\n",
      "2021-11-13 14:38:18 | INFO | hw5.transformer | validation loss:\t3.4039\n",
      "2021-11-13 14:38:18 | INFO | hw5.transformer | BLEU = 24.55 59.3/33.5/19.8/12.2 (BP = 0.932 ratio = 0.934 hyp_len = 104472 ref_len = 111811)\n",
      "2021-11-13 14:38:19 | INFO | hw5.transformer | saved epoch checkpoint: /home/wy/ML_study/chapter5/checkpoints/rnn/_transformer_checkpoint121.pt\n",
      "2021-11-13 14:38:19 | INFO | hw5.transformer | end of epoch 121\n"
     ]
    },
    {
     "data": {
      "text/plain": "HBox(children=(HTML(value='train epoch 122'), FloatProgress(value=0.0, max=791.0), HTML(value='')))",
      "application/vnd.jupyter.widget-view+json": {
       "version_major": 2,
       "version_minor": 0,
       "model_id": "4af89ec1feda410cbdb91fac04d17cc3"
      }
     },
     "metadata": {},
     "output_type": "display_data"
    },
    {
     "name": "stdout",
     "output_type": "stream",
     "text": [
      "2021-11-13 14:40:39 | INFO | hw5.transformer | training loss: 3.4270\n",
      "2021-11-13 14:40:39 | INFO | hw5.transformer | begin validation\n"
     ]
    },
    {
     "data": {
      "text/plain": "HBox(children=(HTML(value='validation'), FloatProgress(value=0.0, max=22.0), HTML(value='')))",
      "application/vnd.jupyter.widget-view+json": {
       "version_major": 2,
       "version_minor": 0,
       "model_id": "39a07f2a3f63463abea1db04f34b36e3"
      }
     },
     "metadata": {},
     "output_type": "display_data"
    },
    {
     "name": "stdout",
     "output_type": "stream",
     "text": [
      "2021-11-13 14:40:59 | INFO | hw5.transformer | example source: but humans weren't always like this .\n",
      "2021-11-13 14:40:59 | INFO | hw5.transformer | example hypothesis: 但人類並不總是像這樣 。\n",
      "2021-11-13 14:40:59 | INFO | hw5.transformer | example reference: 但人類並不一直是這樣的\n",
      "2021-11-13 14:40:59 | INFO | hw5.transformer | validation loss:\t3.4032\n",
      "2021-11-13 14:40:59 | INFO | hw5.transformer | BLEU = 24.54 58.8/33.1/19.5/12.0 (BP = 0.944 ratio = 0.946 hyp_len = 105767 ref_len = 111811)\n",
      "2021-11-13 14:41:00 | INFO | hw5.transformer | saved epoch checkpoint: /home/wy/ML_study/chapter5/checkpoints/rnn/_transformer_checkpoint122.pt\n",
      "2021-11-13 14:41:00 | INFO | hw5.transformer | end of epoch 122\n"
     ]
    },
    {
     "data": {
      "text/plain": "HBox(children=(HTML(value='train epoch 123'), FloatProgress(value=0.0, max=791.0), HTML(value='')))",
      "application/vnd.jupyter.widget-view+json": {
       "version_major": 2,
       "version_minor": 0,
       "model_id": "ca61c1bdfab44ae4ab6f2be654bc5112"
      }
     },
     "metadata": {},
     "output_type": "display_data"
    },
    {
     "name": "stdout",
     "output_type": "stream",
     "text": [
      "2021-11-13 14:43:22 | INFO | hw5.transformer | training loss: 3.4257\n",
      "2021-11-13 14:43:22 | INFO | hw5.transformer | begin validation\n"
     ]
    },
    {
     "data": {
      "text/plain": "HBox(children=(HTML(value='validation'), FloatProgress(value=0.0, max=22.0), HTML(value='')))",
      "application/vnd.jupyter.widget-view+json": {
       "version_major": 2,
       "version_minor": 0,
       "model_id": "95b682d9cd534ceab31de892ccc3e42b"
      }
     },
     "metadata": {},
     "output_type": "display_data"
    },
    {
     "name": "stdout",
     "output_type": "stream",
     "text": [
      "2021-11-13 14:43:44 | INFO | hw5.transformer | example source: the story , of course , is the rise of china .\n",
      "2021-11-13 14:43:44 | INFO | hw5.transformer | example hypothesis: 當然 , 故事是中國崛起 。\n",
      "2021-11-13 14:43:44 | INFO | hw5.transformer | example reference: 當然 , 這個故事就是中國的崛起 。\n",
      "2021-11-13 14:43:44 | INFO | hw5.transformer | validation loss:\t3.4149\n",
      "2021-11-13 14:43:44 | INFO | hw5.transformer | BLEU = 24.12 60.1/34.0/20.1/12.5 (BP = 0.901 ratio = 0.906 hyp_len = 101283 ref_len = 111811)\n",
      "2021-11-13 14:43:44 | INFO | hw5.transformer | saved epoch checkpoint: /home/wy/ML_study/chapter5/checkpoints/rnn/_transformer_checkpoint123.pt\n",
      "2021-11-13 14:43:44 | INFO | hw5.transformer | end of epoch 123\n"
     ]
    },
    {
     "data": {
      "text/plain": "HBox(children=(HTML(value='train epoch 124'), FloatProgress(value=0.0, max=791.0), HTML(value='')))",
      "application/vnd.jupyter.widget-view+json": {
       "version_major": 2,
       "version_minor": 0,
       "model_id": "3f11290b4cfa4d4f96a354254f1dccb9"
      }
     },
     "metadata": {},
     "output_type": "display_data"
    },
    {
     "name": "stdout",
     "output_type": "stream",
     "text": [
      "2021-11-13 14:46:04 | INFO | hw5.transformer | training loss: 3.4254\n",
      "2021-11-13 14:46:04 | INFO | hw5.transformer | begin validation\n"
     ]
    },
    {
     "data": {
      "text/plain": "HBox(children=(HTML(value='validation'), FloatProgress(value=0.0, max=22.0), HTML(value='')))",
      "application/vnd.jupyter.widget-view+json": {
       "version_major": 2,
       "version_minor": 0,
       "model_id": "dbc8f22bf9124e958f5d63b993517f15"
      }
     },
     "metadata": {},
     "output_type": "display_data"
    },
    {
     "name": "stdout",
     "output_type": "stream",
     "text": [
      "2021-11-13 14:46:23 | INFO | hw5.transformer | example source: they wouldn't have to come as asylum seekers to the borders of the united states of america .\n",
      "2021-11-13 14:46:23 | INFO | hw5.transformer | example hypothesis: 他們不需要去找尋美國邊界的庇護者 。\n",
      "2021-11-13 14:46:23 | INFO | hw5.transformer | example reference: 他們就不用像尋求政治避難者一樣來到美國的邊境了 。\n",
      "2021-11-13 14:46:23 | INFO | hw5.transformer | validation loss:\t3.3977\n",
      "2021-11-13 14:46:23 | INFO | hw5.transformer | BLEU = 24.30 59.4/33.5/19.7/12.1 (BP = 0.925 ratio = 0.927 hyp_len = 103677 ref_len = 111811)\n",
      "2021-11-13 14:46:23 | INFO | hw5.transformer | saved epoch checkpoint: /home/wy/ML_study/chapter5/checkpoints/rnn/_transformer_checkpoint124.pt\n",
      "2021-11-13 14:46:23 | INFO | hw5.transformer | end of epoch 124\n"
     ]
    },
    {
     "data": {
      "text/plain": "HBox(children=(HTML(value='train epoch 125'), FloatProgress(value=0.0, max=791.0), HTML(value='')))",
      "application/vnd.jupyter.widget-view+json": {
       "version_major": 2,
       "version_minor": 0,
       "model_id": "3a4271d7c2024ca5bcb25205b047b774"
      }
     },
     "metadata": {},
     "output_type": "display_data"
    },
    {
     "name": "stdout",
     "output_type": "stream",
     "text": [
      "2021-11-13 14:48:43 | INFO | hw5.transformer | training loss: 3.4244\n",
      "2021-11-13 14:48:43 | INFO | hw5.transformer | begin validation\n"
     ]
    },
    {
     "data": {
      "text/plain": "HBox(children=(HTML(value='validation'), FloatProgress(value=0.0, max=22.0), HTML(value='')))",
      "application/vnd.jupyter.widget-view+json": {
       "version_major": 2,
       "version_minor": 0,
       "model_id": "f9234eecc35b437bb60b6d2db011ee2a"
      }
     },
     "metadata": {},
     "output_type": "display_data"
    },
    {
     "name": "stdout",
     "output_type": "stream",
     "text": [
      "2021-11-13 14:49:03 | INFO | hw5.transformer | example source: and this means we've just cracked the conundrum of safety and weight .\n",
      "2021-11-13 14:49:03 | INFO | hw5.transformer | example hypothesis: 這意味著我們剛破壞了安全和重量的困擾 。\n",
      "2021-11-13 14:49:03 | INFO | hw5.transformer | example reference: 這意味著我們剛剛破獲了安全和重量的難題 。\n",
      "2021-11-13 14:49:03 | INFO | hw5.transformer | validation loss:\t3.4023\n",
      "2021-11-13 14:49:03 | INFO | hw5.transformer | BLEU = 24.27 59.8/33.8/20.0/12.4 (BP = 0.911 ratio = 0.914 hyp_len = 102237 ref_len = 111811)\n",
      "2021-11-13 14:49:04 | INFO | hw5.transformer | saved epoch checkpoint: /home/wy/ML_study/chapter5/checkpoints/rnn/_transformer_checkpoint125.pt\n",
      "2021-11-13 14:49:04 | INFO | hw5.transformer | end of epoch 125\n"
     ]
    },
    {
     "data": {
      "text/plain": "HBox(children=(HTML(value='train epoch 126'), FloatProgress(value=0.0, max=791.0), HTML(value='')))",
      "application/vnd.jupyter.widget-view+json": {
       "version_major": 2,
       "version_minor": 0,
       "model_id": "14ce3b9452c740e9bf20ec963d1f2304"
      }
     },
     "metadata": {},
     "output_type": "display_data"
    },
    {
     "name": "stdout",
     "output_type": "stream",
     "text": [
      "2021-11-13 14:51:25 | INFO | hw5.transformer | training loss: 3.4236\n",
      "2021-11-13 14:51:25 | INFO | hw5.transformer | begin validation\n"
     ]
    },
    {
     "data": {
      "text/plain": "HBox(children=(HTML(value='validation'), FloatProgress(value=0.0, max=22.0), HTML(value='')))",
      "application/vnd.jupyter.widget-view+json": {
       "version_major": 2,
       "version_minor": 0,
       "model_id": "256bdcf87a884a2582a6cc275b779327"
      }
     },
     "metadata": {},
     "output_type": "display_data"
    },
    {
     "name": "stdout",
     "output_type": "stream",
     "text": [
      "2021-11-13 14:51:47 | INFO | hw5.transformer | example source: and with the help of modern science , cotton might soon be softer , stronger , and more resilient than ever as researchers investigate how to optimize its growth based on nutrients , weather conditions , and genetics .\n",
      "2021-11-13 14:51:47 | INFO | hw5.transformer | example hypothesis: 隨著現代科學的幫助 , 棉花很快就會變軟、更強壯 , 且比研究者更有韌性 , 研究如何優化它的成長 , 基於養分、天氣條件、基因 。\n",
      "2021-11-13 14:51:47 | INFO | hw5.transformer | example reference: 在現代科學的協助下 , 棉可能很快就會變得比過去更軟、更堅固 , 且更有彈性 , 因為研究者正在根據營養物、氣候條件 , 以及遺傳學 , 探究如何將棉的生成做到最佳化 。\n",
      "2021-11-13 14:51:47 | INFO | hw5.transformer | validation loss:\t3.3940\n",
      "2021-11-13 14:51:47 | INFO | hw5.transformer | BLEU = 24.49 58.9/33.2/19.5/12.0 (BP = 0.941 ratio = 0.943 hyp_len = 105413 ref_len = 111811)\n",
      "2021-11-13 14:51:47 | INFO | hw5.transformer | saved epoch checkpoint: /home/wy/ML_study/chapter5/checkpoints/rnn/_transformer_checkpoint126.pt\n",
      "2021-11-13 14:51:47 | INFO | hw5.transformer | end of epoch 126\n"
     ]
    },
    {
     "data": {
      "text/plain": "HBox(children=(HTML(value='train epoch 127'), FloatProgress(value=0.0, max=791.0), HTML(value='')))",
      "application/vnd.jupyter.widget-view+json": {
       "version_major": 2,
       "version_minor": 0,
       "model_id": "c89875ae92e54d55bc98e034abaa330b"
      }
     },
     "metadata": {},
     "output_type": "display_data"
    },
    {
     "name": "stdout",
     "output_type": "stream",
     "text": [
      "2021-11-13 14:54:06 | INFO | hw5.transformer | training loss: 3.4250\n",
      "2021-11-13 14:54:06 | INFO | hw5.transformer | begin validation\n"
     ]
    },
    {
     "data": {
      "text/plain": "HBox(children=(HTML(value='validation'), FloatProgress(value=0.0, max=22.0), HTML(value='')))",
      "application/vnd.jupyter.widget-view+json": {
       "version_major": 2,
       "version_minor": 0,
       "model_id": "34da6826131643068e9f2e219e6fa59e"
      }
     },
     "metadata": {},
     "output_type": "display_data"
    },
    {
     "name": "stdout",
     "output_type": "stream",
     "text": [
      "2021-11-13 14:54:26 | INFO | hw5.transformer | example source: well , the problem is that we've got very complicated forces in the climate system .\n",
      "2021-11-13 14:54:26 | INFO | hw5.transformer | example hypothesis: 問題是 , 我們在氣候系統中有非常複雜的力量 。\n",
      "2021-11-13 14:54:26 | INFO | hw5.transformer | example reference: 嗯 , 問題在於氣候系統裡有很複雜的力量存在 。\n",
      "2021-11-13 14:54:26 | INFO | hw5.transformer | validation loss:\t3.4015\n",
      "2021-11-13 14:54:26 | INFO | hw5.transformer | BLEU = 24.64 59.0/33.3/19.6/12.1 (BP = 0.944 ratio = 0.945 hyp_len = 105694 ref_len = 111811)\n",
      "2021-11-13 14:54:27 | INFO | hw5.transformer | saved epoch checkpoint: /home/wy/ML_study/chapter5/checkpoints/rnn/_transformer_checkpoint127.pt\n",
      "2021-11-13 14:54:27 | INFO | hw5.transformer | end of epoch 127\n"
     ]
    },
    {
     "data": {
      "text/plain": "HBox(children=(HTML(value='train epoch 128'), FloatProgress(value=0.0, max=791.0), HTML(value='')))",
      "application/vnd.jupyter.widget-view+json": {
       "version_major": 2,
       "version_minor": 0,
       "model_id": "48046778f9c14c5ca71f1d1357bf1af8"
      }
     },
     "metadata": {},
     "output_type": "display_data"
    },
    {
     "name": "stdout",
     "output_type": "stream",
     "text": [
      "2021-11-13 14:56:48 | INFO | hw5.transformer | training loss: 3.4251\n",
      "2021-11-13 14:56:48 | INFO | hw5.transformer | begin validation\n"
     ]
    },
    {
     "data": {
      "text/plain": "HBox(children=(HTML(value='validation'), FloatProgress(value=0.0, max=22.0), HTML(value='')))",
      "application/vnd.jupyter.widget-view+json": {
       "version_major": 2,
       "version_minor": 0,
       "model_id": "badb75cdbb0a4c2bb8db5f8233925e74"
      }
     },
     "metadata": {},
     "output_type": "display_data"
    },
    {
     "name": "stdout",
     "output_type": "stream",
     "text": [
      "2021-11-13 14:57:09 | INFO | hw5.transformer | example source: and through the children is usually the way to go .\n",
      "2021-11-13 14:57:09 | INFO | hw5.transformer | example hypothesis: 透過孩子們 , 通常是要去的路 。\n",
      "2021-11-13 14:57:09 | INFO | hw5.transformer | example reference: 最常見的辦法是通過小孩子 。\n",
      "2021-11-13 14:57:09 | INFO | hw5.transformer | validation loss:\t3.3930\n",
      "2021-11-13 14:57:09 | INFO | hw5.transformer | BLEU = 24.62 58.7/33.1/19.5/12.0 (BP = 0.948 ratio = 0.950 hyp_len = 106186 ref_len = 111811)\n",
      "2021-11-13 14:57:09 | INFO | hw5.transformer | saved epoch checkpoint: /home/wy/ML_study/chapter5/checkpoints/rnn/_transformer_checkpoint128.pt\n",
      "2021-11-13 14:57:09 | INFO | hw5.transformer | end of epoch 128\n"
     ]
    },
    {
     "data": {
      "text/plain": "HBox(children=(HTML(value='train epoch 129'), FloatProgress(value=0.0, max=791.0), HTML(value='')))",
      "application/vnd.jupyter.widget-view+json": {
       "version_major": 2,
       "version_minor": 0,
       "model_id": "4b2f7bbb1d5a4adc9f1189ba1d31ddee"
      }
     },
     "metadata": {},
     "output_type": "display_data"
    },
    {
     "name": "stdout",
     "output_type": "stream",
     "text": [
      "2021-11-13 14:59:28 | INFO | hw5.transformer | training loss: 3.4234\n",
      "2021-11-13 14:59:28 | INFO | hw5.transformer | begin validation\n"
     ]
    },
    {
     "data": {
      "text/plain": "HBox(children=(HTML(value='validation'), FloatProgress(value=0.0, max=22.0), HTML(value='')))",
      "application/vnd.jupyter.widget-view+json": {
       "version_major": 2,
       "version_minor": 0,
       "model_id": "ef2f1e8dd9f04b6abaa4cc1ad649e84b"
      }
     },
     "metadata": {},
     "output_type": "display_data"
    },
    {
     "name": "stdout",
     "output_type": "stream",
     "text": [
      "2021-11-13 14:59:48 | INFO | hw5.transformer | example source: but what i want you to remember is if you want to improve your executive function in some aspect of your life , don't look for quick fixes .\n",
      "2021-11-13 14:59:48 | INFO | hw5.transformer | example hypothesis: 但我希望你們記住的是 , 如果你想在生活的某個方面改善執行功能 , 不要快速修復 。\n",
      "2021-11-13 14:59:48 | INFO | hw5.transformer | example reference: 但我希望各位記住 , 如果你想要在生活中的某個面向上改善你的執行功能 , 不要走捷徑 。\n",
      "2021-11-13 14:59:48 | INFO | hw5.transformer | validation loss:\t3.3957\n",
      "2021-11-13 14:59:48 | INFO | hw5.transformer | BLEU = 24.37 59.6/33.7/20.0/12.4 (BP = 0.918 ratio = 0.921 hyp_len = 103023 ref_len = 111811)\n",
      "2021-11-13 14:59:49 | INFO | hw5.transformer | saved epoch checkpoint: /home/wy/ML_study/chapter5/checkpoints/rnn/_transformer_checkpoint129.pt\n",
      "2021-11-13 14:59:49 | INFO | hw5.transformer | end of epoch 129\n"
     ]
    },
    {
     "data": {
      "text/plain": "HBox(children=(HTML(value='train epoch 130'), FloatProgress(value=0.0, max=791.0), HTML(value='')))",
      "application/vnd.jupyter.widget-view+json": {
       "version_major": 2,
       "version_minor": 0,
       "model_id": "1ddc85ecd52c47a5a87593fd58c44285"
      }
     },
     "metadata": {},
     "output_type": "display_data"
    },
    {
     "name": "stdout",
     "output_type": "stream",
     "text": [
      "2021-11-13 15:02:11 | INFO | hw5.transformer | training loss: 3.4219\n",
      "2021-11-13 15:02:11 | INFO | hw5.transformer | begin validation\n"
     ]
    },
    {
     "data": {
      "text/plain": "HBox(children=(HTML(value='validation'), FloatProgress(value=0.0, max=22.0), HTML(value='')))",
      "application/vnd.jupyter.widget-view+json": {
       "version_major": 2,
       "version_minor": 0,
       "model_id": "e2689346dd6a4ea1befe7dc2ba6648ce"
      }
     },
     "metadata": {},
     "output_type": "display_data"
    },
    {
     "name": "stdout",
     "output_type": "stream",
     "text": [
      "2021-11-13 15:02:31 | INFO | hw5.transformer | example source: that would be a waste of energy for a bird that doesn't know when it will get its next meal .\n",
      "2021-11-13 15:02:31 | INFO | hw5.transformer | example hypothesis: 那會是鳥類浪費能量的浪費 , 不知道何時會得到下一餐 。\n",
      "2021-11-13 15:02:31 | INFO | hw5.transformer | example reference: 那會浪費能量 , 對於一隻不知道什麼時候能吃下一頓飯的鳥而言 。\n",
      "2021-11-13 15:02:31 | INFO | hw5.transformer | validation loss:\t3.4049\n",
      "2021-11-13 15:02:31 | INFO | hw5.transformer | BLEU = 24.58 59.0/33.3/19.7/12.1 (BP = 0.940 ratio = 0.942 hyp_len = 105274 ref_len = 111811)\n",
      "2021-11-13 15:02:31 | INFO | hw5.transformer | saved epoch checkpoint: /home/wy/ML_study/chapter5/checkpoints/rnn/_transformer_checkpoint130.pt\n",
      "2021-11-13 15:02:31 | INFO | hw5.transformer | end of epoch 130\n"
     ]
    },
    {
     "data": {
      "text/plain": "HBox(children=(HTML(value='train epoch 131'), FloatProgress(value=0.0, max=791.0), HTML(value='')))",
      "application/vnd.jupyter.widget-view+json": {
       "version_major": 2,
       "version_minor": 0,
       "model_id": "c61421571bc94ff7859f816bbff6ed98"
      }
     },
     "metadata": {},
     "output_type": "display_data"
    },
    {
     "name": "stdout",
     "output_type": "stream",
     "text": [
      "2021-11-13 15:04:55 | INFO | hw5.transformer | training loss: 3.4218\n",
      "2021-11-13 15:04:55 | INFO | hw5.transformer | begin validation\n"
     ]
    },
    {
     "data": {
      "text/plain": "HBox(children=(HTML(value='validation'), FloatProgress(value=0.0, max=22.0), HTML(value='')))",
      "application/vnd.jupyter.widget-view+json": {
       "version_major": 2,
       "version_minor": 0,
       "model_id": "8d1e8c43417e48079606c7d4c79e78f0"
      }
     },
     "metadata": {},
     "output_type": "display_data"
    },
    {
     "name": "stdout",
     "output_type": "stream",
     "text": [
      "2021-11-13 15:05:18 | INFO | hw5.transformer | example source: a key notion in those equations is fitness .\n",
      "2021-11-13 15:05:18 | INFO | hw5.transformer | example hypothesis: 那些方程式中的關鍵概念是適應性 。\n",
      "2021-11-13 15:05:18 | INFO | hw5.transformer | example reference: 這裏面各個等式中最關鍵的元素是體良 。\n",
      "2021-11-13 15:05:18 | INFO | hw5.transformer | validation loss:\t3.3952\n",
      "2021-11-13 15:05:18 | INFO | hw5.transformer | BLEU = 24.51 59.0/33.3/19.6/12.1 (BP = 0.938 ratio = 0.940 hyp_len = 105086 ref_len = 111811)\n",
      "2021-11-13 15:05:18 | INFO | hw5.transformer | saved epoch checkpoint: /home/wy/ML_study/chapter5/checkpoints/rnn/_transformer_checkpoint131.pt\n",
      "2021-11-13 15:05:18 | INFO | hw5.transformer | end of epoch 131\n"
     ]
    },
    {
     "data": {
      "text/plain": "HBox(children=(HTML(value='train epoch 132'), FloatProgress(value=0.0, max=791.0), HTML(value='')))",
      "application/vnd.jupyter.widget-view+json": {
       "version_major": 2,
       "version_minor": 0,
       "model_id": "ea28904097b54ef1a0b32d6735808fb1"
      }
     },
     "metadata": {},
     "output_type": "display_data"
    },
    {
     "name": "stdout",
     "output_type": "stream",
     "text": [
      "2021-11-13 15:07:37 | INFO | hw5.transformer | training loss: 3.4220\n",
      "2021-11-13 15:07:37 | INFO | hw5.transformer | begin validation\n"
     ]
    },
    {
     "data": {
      "text/plain": "HBox(children=(HTML(value='validation'), FloatProgress(value=0.0, max=22.0), HTML(value='')))",
      "application/vnd.jupyter.widget-view+json": {
       "version_major": 2,
       "version_minor": 0,
       "model_id": "27edf910fd704f6d8226d0a6977c08a2"
      }
     },
     "metadata": {},
     "output_type": "display_data"
    },
    {
     "name": "stdout",
     "output_type": "stream",
     "text": [
      "2021-11-13 15:07:57 | INFO | hw5.transformer | example source: so it was about what i was supposed to be doing .\n",
      "2021-11-13 15:07:57 | INFO | hw5.transformer | example hypothesis: 所以這和我應該要做的事有關 。\n",
      "2021-11-13 15:07:57 | INFO | hw5.transformer | example reference: 所以 , 重點在於我應該要做什麼 。\n",
      "2021-11-13 15:07:57 | INFO | hw5.transformer | validation loss:\t3.3948\n",
      "2021-11-13 15:07:57 | INFO | hw5.transformer | BLEU = 24.65 58.8/33.1/19.6/12.1 (BP = 0.945 ratio = 0.947 hyp_len = 105876 ref_len = 111811)\n",
      "2021-11-13 15:07:58 | INFO | hw5.transformer | saved epoch checkpoint: /home/wy/ML_study/chapter5/checkpoints/rnn/_transformer_checkpoint132.pt\n",
      "2021-11-13 15:07:58 | INFO | hw5.transformer | end of epoch 132\n"
     ]
    },
    {
     "data": {
      "text/plain": "HBox(children=(HTML(value='train epoch 133'), FloatProgress(value=0.0, max=791.0), HTML(value='')))",
      "application/vnd.jupyter.widget-view+json": {
       "version_major": 2,
       "version_minor": 0,
       "model_id": "43080f708a0b4e36bee5631ca1229a39"
      }
     },
     "metadata": {},
     "output_type": "display_data"
    },
    {
     "name": "stdout",
     "output_type": "stream",
     "text": [
      "2021-11-13 15:10:18 | INFO | hw5.transformer | training loss: 3.4216\n",
      "2021-11-13 15:10:18 | INFO | hw5.transformer | begin validation\n"
     ]
    },
    {
     "data": {
      "text/plain": "HBox(children=(HTML(value='validation'), FloatProgress(value=0.0, max=22.0), HTML(value='')))",
      "application/vnd.jupyter.widget-view+json": {
       "version_major": 2,
       "version_minor": 0,
       "model_id": "b6a747774f1a4a25a58912cbbd03e3a1"
      }
     },
     "metadata": {},
     "output_type": "display_data"
    },
    {
     "name": "stdout",
     "output_type": "stream",
     "text": [
      "2021-11-13 15:10:38 | INFO | hw5.transformer | example source: if you've been in an mri scanner , it's very much the same , but this one is outfitted in a special way to not just take pictures of your brain , but to also take pictures of active areas of the brain .\n",
      "2021-11-13 15:10:38 | INFO | hw5.transformer | example hypothesis: 如果你曾經在磁共振掃描儀中 , 它是非常相同的 , 但這張照片不僅是用特殊的方式呈現出你的大腦 , 也能拍攝大腦活躍區域的照片 。\n",
      "2021-11-13 15:10:38 | INFO | hw5.transformer | example reference: 如果你有在磁共振影像掃描儀中待過 , 基本上是相同的東西 , 但這一個被裝備成一種特別的方式它不僅能為你的腦部拍照 , 還為腦部的活動區域拍照 。\n",
      "2021-11-13 15:10:38 | INFO | hw5.transformer | validation loss:\t3.4041\n",
      "2021-11-13 15:10:38 | INFO | hw5.transformer | BLEU = 24.47 59.8/34.0/20.1/12.5 (BP = 0.915 ratio = 0.918 hyp_len = 102688 ref_len = 111811)\n",
      "2021-11-13 15:10:38 | INFO | hw5.transformer | saved epoch checkpoint: /home/wy/ML_study/chapter5/checkpoints/rnn/_transformer_checkpoint133.pt\n",
      "2021-11-13 15:10:38 | INFO | hw5.transformer | end of epoch 133\n"
     ]
    },
    {
     "data": {
      "text/plain": "HBox(children=(HTML(value='train epoch 134'), FloatProgress(value=0.0, max=791.0), HTML(value='')))",
      "application/vnd.jupyter.widget-view+json": {
       "version_major": 2,
       "version_minor": 0,
       "model_id": "613c63819b2c49abb59f6373113010ec"
      }
     },
     "metadata": {},
     "output_type": "display_data"
    },
    {
     "name": "stdout",
     "output_type": "stream",
     "text": [
      "2021-11-13 15:12:59 | INFO | hw5.transformer | training loss: 3.4214\n",
      "2021-11-13 15:12:59 | INFO | hw5.transformer | begin validation\n"
     ]
    },
    {
     "data": {
      "text/plain": "HBox(children=(HTML(value='validation'), FloatProgress(value=0.0, max=22.0), HTML(value='')))",
      "application/vnd.jupyter.widget-view+json": {
       "version_major": 2,
       "version_minor": 0,
       "model_id": "b7328d429a384965935d265615ca4cc7"
      }
     },
     "metadata": {},
     "output_type": "display_data"
    },
    {
     "name": "stdout",
     "output_type": "stream",
     "text": [
      "2021-11-13 15:13:21 | INFO | hw5.transformer | example source: second one , without sounding overly zen , and this is a quote from the buddha: \" finding yourself in the margins , looking to the edges of things , is often a really interesting place to start . \"\n",
      "2021-11-13 15:13:21 | INFO | hw5.transformer | example hypothesis: 第二 , 沒有聲音超過十幾歲 , 這是佛祖的引述: 「 在邊緣找到自己 , 尋找事物的邊緣 , 通常是最有趣的地方 。 」\n",
      "2021-11-13 15:13:21 | INFO | hw5.transformer | example reference: 其次 , 不必講得太玄 , 這是佛陀的話:「處在邊緣 , 觀看事物周邊 , 往往是有趣的起點 。 」\n",
      "2021-11-13 15:13:21 | INFO | hw5.transformer | validation loss:\t3.4017\n",
      "2021-11-13 15:13:21 | INFO | hw5.transformer | BLEU = 24.75 58.7/33.1/19.5/12.0 (BP = 0.953 ratio = 0.954 hyp_len = 106659 ref_len = 111811)\n",
      "2021-11-13 15:13:21 | INFO | hw5.transformer | saved epoch checkpoint: /home/wy/ML_study/chapter5/checkpoints/rnn/_transformer_checkpoint134.pt\n",
      "2021-11-13 15:13:22 | INFO | hw5.transformer | end of epoch 134\n"
     ]
    },
    {
     "data": {
      "text/plain": "HBox(children=(HTML(value='train epoch 135'), FloatProgress(value=0.0, max=791.0), HTML(value='')))",
      "application/vnd.jupyter.widget-view+json": {
       "version_major": 2,
       "version_minor": 0,
       "model_id": "9239154c3a22432b93eaa7de159d996c"
      }
     },
     "metadata": {},
     "output_type": "display_data"
    },
    {
     "name": "stdout",
     "output_type": "stream",
     "text": [
      "2021-11-13 15:15:39 | INFO | hw5.transformer | training loss: 3.4212\n",
      "2021-11-13 15:15:39 | INFO | hw5.transformer | begin validation\n"
     ]
    },
    {
     "data": {
      "text/plain": "HBox(children=(HTML(value='validation'), FloatProgress(value=0.0, max=22.0), HTML(value='')))",
      "application/vnd.jupyter.widget-view+json": {
       "version_major": 2,
       "version_minor": 0,
       "model_id": "5010d424d6014f419b60125a5014f6fe"
      }
     },
     "metadata": {},
     "output_type": "display_data"
    },
    {
     "name": "stdout",
     "output_type": "stream",
     "text": [
      "2021-11-13 15:16:01 | INFO | hw5.transformer | example source: then another thing .\n",
      "2021-11-13 15:16:01 | INFO | hw5.transformer | example hypothesis: 接著 , 還有一件事 。\n",
      "2021-11-13 15:16:01 | INFO | hw5.transformer | example reference: 另外一件事 。\n",
      "2021-11-13 15:16:01 | INFO | hw5.transformer | validation loss:\t3.3956\n",
      "2021-11-13 15:16:01 | INFO | hw5.transformer | BLEU = 24.85 58.7/33.1/19.6/12.1 (BP = 0.953 ratio = 0.954 hyp_len = 106707 ref_len = 111811)\n",
      "2021-11-13 15:16:01 | INFO | hw5.transformer | saved epoch checkpoint: /home/wy/ML_study/chapter5/checkpoints/rnn/_transformer_checkpoint135.pt\n",
      "2021-11-13 15:16:02 | INFO | hw5.transformer | end of epoch 135\n"
     ]
    },
    {
     "data": {
      "text/plain": "HBox(children=(HTML(value='train epoch 136'), FloatProgress(value=0.0, max=791.0), HTML(value='')))",
      "application/vnd.jupyter.widget-view+json": {
       "version_major": 2,
       "version_minor": 0,
       "model_id": "6f6e777006a04b56bfa0d7d6e8bddfef"
      }
     },
     "metadata": {},
     "output_type": "display_data"
    },
    {
     "name": "stdout",
     "output_type": "stream",
     "text": [
      "2021-11-13 15:18:20 | INFO | hw5.transformer | training loss: 3.4193\n",
      "2021-11-13 15:18:20 | INFO | hw5.transformer | begin validation\n"
     ]
    },
    {
     "data": {
      "text/plain": "HBox(children=(HTML(value='validation'), FloatProgress(value=0.0, max=22.0), HTML(value='')))",
      "application/vnd.jupyter.widget-view+json": {
       "version_major": 2,
       "version_minor": 0,
       "model_id": "e5e3f5dc71584259a7f5b85752b4d3d9"
      }
     },
     "metadata": {},
     "output_type": "display_data"
    },
    {
     "name": "stdout",
     "output_type": "stream",
     "text": [
      "2021-11-13 15:18:40 | INFO | hw5.transformer | example source: the first one by far the most consumed seafood in america and in much of the west , is shrimp .\n",
      "2021-11-13 15:18:40 | INFO | hw5.transformer | example hypothesis: 到目前為止 , 美國最消費的海鮮 , 大部分的西方都是蝦子 。\n",
      "2021-11-13 15:18:40 | INFO | hw5.transformer | example reference: 首先在美國和許多西方國家目前消耗最多的海鮮是蝦 。\n",
      "2021-11-13 15:18:40 | INFO | hw5.transformer | validation loss:\t3.4011\n",
      "2021-11-13 15:18:40 | INFO | hw5.transformer | BLEU = 24.28 59.7/33.8/19.9/12.3 (BP = 0.916 ratio = 0.919 hyp_len = 102756 ref_len = 111811)\n",
      "2021-11-13 15:18:40 | INFO | hw5.transformer | saved epoch checkpoint: /home/wy/ML_study/chapter5/checkpoints/rnn/_transformer_checkpoint136.pt\n",
      "2021-11-13 15:18:40 | INFO | hw5.transformer | end of epoch 136\n"
     ]
    },
    {
     "data": {
      "text/plain": "HBox(children=(HTML(value='train epoch 137'), FloatProgress(value=0.0, max=791.0), HTML(value='')))",
      "application/vnd.jupyter.widget-view+json": {
       "version_major": 2,
       "version_minor": 0,
       "model_id": "9eb0f282b7ae4a0bb73a07b96a179a83"
      }
     },
     "metadata": {},
     "output_type": "display_data"
    },
    {
     "name": "stdout",
     "output_type": "stream",
     "text": [
      "2021-11-13 15:21:01 | INFO | hw5.transformer | training loss: 3.4212\n",
      "2021-11-13 15:21:01 | INFO | hw5.transformer | begin validation\n"
     ]
    },
    {
     "data": {
      "text/plain": "HBox(children=(HTML(value='validation'), FloatProgress(value=0.0, max=22.0), HTML(value='')))",
      "application/vnd.jupyter.widget-view+json": {
       "version_major": 2,
       "version_minor": 0,
       "model_id": "4c323ac785704ce5b2606c92c9f8a7b1"
      }
     },
     "metadata": {},
     "output_type": "display_data"
    },
    {
     "name": "stdout",
     "output_type": "stream",
     "text": [
      "2021-11-13 15:21:20 | INFO | hw5.transformer | example source: how many of you are augmented cyborgs ?\n",
      "2021-11-13 15:21:20 | INFO | hw5.transformer | example hypothesis: 在座有多少人被加速了cyborgs ?\n",
      "2021-11-13 15:21:20 | INFO | hw5.transformer | example reference: 現場有多少人是 「 強化的半機械人 」 ?\n",
      "2021-11-13 15:21:20 | INFO | hw5.transformer | validation loss:\t3.4021\n",
      "2021-11-13 15:21:20 | INFO | hw5.transformer | BLEU = 24.08 59.6/33.7/19.8/12.2 (BP = 0.912 ratio = 0.916 hyp_len = 102403 ref_len = 111811)\n",
      "2021-11-13 15:21:21 | INFO | hw5.transformer | saved epoch checkpoint: /home/wy/ML_study/chapter5/checkpoints/rnn/_transformer_checkpoint137.pt\n",
      "2021-11-13 15:21:21 | INFO | hw5.transformer | end of epoch 137\n"
     ]
    },
    {
     "data": {
      "text/plain": "HBox(children=(HTML(value='train epoch 138'), FloatProgress(value=0.0, max=791.0), HTML(value='')))",
      "application/vnd.jupyter.widget-view+json": {
       "version_major": 2,
       "version_minor": 0,
       "model_id": "c3184166fce246829357e5c59eee2417"
      }
     },
     "metadata": {},
     "output_type": "display_data"
    },
    {
     "name": "stdout",
     "output_type": "stream",
     "text": [
      "2021-11-13 15:23:42 | INFO | hw5.transformer | training loss: 3.4185\n",
      "2021-11-13 15:23:42 | INFO | hw5.transformer | begin validation\n"
     ]
    },
    {
     "data": {
      "text/plain": "HBox(children=(HTML(value='validation'), FloatProgress(value=0.0, max=22.0), HTML(value='')))",
      "application/vnd.jupyter.widget-view+json": {
       "version_major": 2,
       "version_minor": 0,
       "model_id": "5c09c8f65d0443f88b98968415258b2d"
      }
     },
     "metadata": {},
     "output_type": "display_data"
    },
    {
     "name": "stdout",
     "output_type": "stream",
     "text": [
      "2021-11-13 15:24:02 | INFO | hw5.transformer | example source: because with estrus , the final signaling to get the lining of the uterus ready actually comes from the embryo .\n",
      "2021-11-13 15:24:02 | INFO | hw5.transformer | example hypothesis: 因為有了信號 , 最後一個信號可以得到子宮的連結 , 其實是從胚胎中得到的 。\n",
      "2021-11-13 15:24:02 | INFO | hw5.transformer | example reference: 因為 , 就動情期來說 , 要把子宮內膜準備好的最後訊號是來自胚胎 。\n",
      "2021-11-13 15:24:02 | INFO | hw5.transformer | validation loss:\t3.4009\n",
      "2021-11-13 15:24:02 | INFO | hw5.transformer | BLEU = 24.19 59.8/33.7/19.9/12.3 (BP = 0.914 ratio = 0.917 hyp_len = 102542 ref_len = 111811)\n",
      "2021-11-13 15:24:02 | INFO | hw5.transformer | saved epoch checkpoint: /home/wy/ML_study/chapter5/checkpoints/rnn/_transformer_checkpoint138.pt\n",
      "2021-11-13 15:24:02 | INFO | hw5.transformer | end of epoch 138\n"
     ]
    },
    {
     "data": {
      "text/plain": "HBox(children=(HTML(value='train epoch 139'), FloatProgress(value=0.0, max=791.0), HTML(value='')))",
      "application/vnd.jupyter.widget-view+json": {
       "version_major": 2,
       "version_minor": 0,
       "model_id": "3804b19feb98460e933868cfccd6a616"
      }
     },
     "metadata": {},
     "output_type": "display_data"
    },
    {
     "name": "stdout",
     "output_type": "stream",
     "text": [
      "2021-11-13 15:26:27 | INFO | hw5.transformer | training loss: 3.4188\n",
      "2021-11-13 15:26:27 | INFO | hw5.transformer | begin validation\n"
     ]
    },
    {
     "data": {
      "text/plain": "HBox(children=(HTML(value='validation'), FloatProgress(value=0.0, max=22.0), HTML(value='')))",
      "application/vnd.jupyter.widget-view+json": {
       "version_major": 2,
       "version_minor": 0,
       "model_id": "fbce25c5904f480296940258872c7cc2"
      }
     },
     "metadata": {},
     "output_type": "display_data"
    },
    {
     "name": "stdout",
     "output_type": "stream",
     "text": [
      "2021-11-13 15:26:50 | INFO | hw5.transformer | example source: ca: thank you so much .\n",
      "2021-11-13 15:26:50 | INFO | hw5.transformer | example hypothesis: 克里斯:非常感謝你 。\n",
      "2021-11-13 15:26:50 | INFO | hw5.transformer | example reference: 克裡斯·安德森:非常感謝您 。\n",
      "2021-11-13 15:26:50 | INFO | hw5.transformer | validation loss:\t3.3980\n",
      "2021-11-13 15:26:50 | INFO | hw5.transformer | BLEU = 24.71 58.7/33.1/19.5/12.0 (BP = 0.950 ratio = 0.952 hyp_len = 106390 ref_len = 111811)\n",
      "2021-11-13 15:26:50 | INFO | hw5.transformer | saved epoch checkpoint: /home/wy/ML_study/chapter5/checkpoints/rnn/_transformer_checkpoint139.pt\n",
      "2021-11-13 15:26:50 | INFO | hw5.transformer | end of epoch 139\n"
     ]
    },
    {
     "data": {
      "text/plain": "HBox(children=(HTML(value='train epoch 140'), FloatProgress(value=0.0, max=791.0), HTML(value='')))",
      "application/vnd.jupyter.widget-view+json": {
       "version_major": 2,
       "version_minor": 0,
       "model_id": "19b94a423acf4ff3a172fd4f67e5ee54"
      }
     },
     "metadata": {},
     "output_type": "display_data"
    },
    {
     "name": "stdout",
     "output_type": "stream",
     "text": [
      "2021-11-13 15:29:10 | INFO | hw5.transformer | training loss: 3.4179\n",
      "2021-11-13 15:29:10 | INFO | hw5.transformer | begin validation\n"
     ]
    },
    {
     "data": {
      "text/plain": "HBox(children=(HTML(value='validation'), FloatProgress(value=0.0, max=22.0), HTML(value='')))",
      "application/vnd.jupyter.widget-view+json": {
       "version_major": 2,
       "version_minor": 0,
       "model_id": "48f7a479a2f640f1987fa83e1a6cb420"
      }
     },
     "metadata": {},
     "output_type": "display_data"
    },
    {
     "name": "stdout",
     "output_type": "stream",
     "text": [
      "2021-11-13 15:29:29 | INFO | hw5.transformer | example source: one of the things that underpins it is this idea of resilience .\n",
      "2021-11-13 15:29:29 | INFO | hw5.transformer | example hypothesis: 其中一個基礎是韌性的概念 。\n",
      "2021-11-13 15:29:29 | INFO | hw5.transformer | example reference: 支持上述的其中一個觀點是所謂的彈性思維\n",
      "2021-11-13 15:29:29 | INFO | hw5.transformer | validation loss:\t3.3983\n",
      "2021-11-13 15:29:29 | INFO | hw5.transformer | BLEU = 24.41 59.7/33.9/20.0/12.4 (BP = 0.917 ratio = 0.920 hyp_len = 102866 ref_len = 111811)\n",
      "2021-11-13 15:29:30 | INFO | hw5.transformer | saved epoch checkpoint: /home/wy/ML_study/chapter5/checkpoints/rnn/_transformer_checkpoint140.pt\n",
      "2021-11-13 15:29:30 | INFO | hw5.transformer | end of epoch 140\n"
     ]
    },
    {
     "data": {
      "text/plain": "HBox(children=(HTML(value='train epoch 141'), FloatProgress(value=0.0, max=791.0), HTML(value='')))",
      "application/vnd.jupyter.widget-view+json": {
       "version_major": 2,
       "version_minor": 0,
       "model_id": "d773b75a024744d5ac16b362aa964e6b"
      }
     },
     "metadata": {},
     "output_type": "display_data"
    },
    {
     "name": "stdout",
     "output_type": "stream",
     "text": [
      "2021-11-13 15:31:50 | INFO | hw5.transformer | training loss: 3.4173\n",
      "2021-11-13 15:31:50 | INFO | hw5.transformer | begin validation\n"
     ]
    },
    {
     "data": {
      "text/plain": "HBox(children=(HTML(value='validation'), FloatProgress(value=0.0, max=22.0), HTML(value='')))",
      "application/vnd.jupyter.widget-view+json": {
       "version_major": 2,
       "version_minor": 0,
       "model_id": "7c289f3cdb9a4bf4b02608bf0866f672"
      }
     },
     "metadata": {},
     "output_type": "display_data"
    },
    {
     "name": "stdout",
     "output_type": "stream",
     "text": [
      "2021-11-13 15:32:10 | INFO | hw5.transformer | example source: fortunately , our queen is well prepared .\n",
      "2021-11-13 15:32:10 | INFO | hw5.transformer | example hypothesis: 幸運的是 , 我們的皇后準備好了 。\n",
      "2021-11-13 15:32:10 | INFO | hw5.transformer | example reference: 幸好 , 「 黃 」 后有充分準備\n",
      "2021-11-13 15:32:10 | INFO | hw5.transformer | validation loss:\t3.3923\n",
      "2021-11-13 15:32:10 | INFO | hw5.transformer | BLEU = 24.58 58.7/33.0/19.5/12.0 (BP = 0.948 ratio = 0.949 hyp_len = 106095 ref_len = 111811)\n",
      "2021-11-13 15:32:10 | INFO | hw5.transformer | saved epoch checkpoint: /home/wy/ML_study/chapter5/checkpoints/rnn/_transformer_checkpoint141.pt\n",
      "2021-11-13 15:32:10 | INFO | hw5.transformer | end of epoch 141\n"
     ]
    },
    {
     "data": {
      "text/plain": "HBox(children=(HTML(value='train epoch 142'), FloatProgress(value=0.0, max=791.0), HTML(value='')))",
      "application/vnd.jupyter.widget-view+json": {
       "version_major": 2,
       "version_minor": 0,
       "model_id": "0912d47e737c476a83f0388d0dd59878"
      }
     },
     "metadata": {},
     "output_type": "display_data"
    },
    {
     "name": "stdout",
     "output_type": "stream",
     "text": [
      "2021-11-13 15:34:28 | INFO | hw5.transformer | training loss: 3.4183\n",
      "2021-11-13 15:34:28 | INFO | hw5.transformer | begin validation\n"
     ]
    },
    {
     "data": {
      "text/plain": "HBox(children=(HTML(value='validation'), FloatProgress(value=0.0, max=22.0), HTML(value='')))",
      "application/vnd.jupyter.widget-view+json": {
       "version_major": 2,
       "version_minor": 0,
       "model_id": "4e8e06b653bb4518aedb49b8317699c7"
      }
     },
     "metadata": {},
     "output_type": "display_data"
    },
    {
     "name": "stdout",
     "output_type": "stream",
     "text": [
      "2021-11-13 15:34:48 | INFO | hw5.transformer | example source: so two years ago , we went back to the lab , making it more durable , more lightemitting , with the experts .\n",
      "2021-11-13 15:34:48 | INFO | hw5.transformer | example hypothesis: 所以兩年前 , 我們回到實驗室 , 讓它更耐用、更輕鬆、和專家一起做 。\n",
      "2021-11-13 15:34:48 | INFO | hw5.transformer | example reference: 所以 , 兩年前 , 我們回到實驗室 , 與專家合作 , 把它變得更耐久、更能發光 。\n",
      "2021-11-13 15:34:48 | INFO | hw5.transformer | validation loss:\t3.3943\n",
      "2021-11-13 15:34:48 | INFO | hw5.transformer | BLEU = 24.60 59.1/33.4/19.7/12.2 (BP = 0.938 ratio = 0.939 hyp_len = 105041 ref_len = 111811)\n",
      "2021-11-13 15:34:48 | INFO | hw5.transformer | saved epoch checkpoint: /home/wy/ML_study/chapter5/checkpoints/rnn/_transformer_checkpoint142.pt\n",
      "2021-11-13 15:34:48 | INFO | hw5.transformer | end of epoch 142\n"
     ]
    },
    {
     "data": {
      "text/plain": "HBox(children=(HTML(value='train epoch 143'), FloatProgress(value=0.0, max=791.0), HTML(value='')))",
      "application/vnd.jupyter.widget-view+json": {
       "version_major": 2,
       "version_minor": 0,
       "model_id": "a2cc805e99aa41b2b8519147cd8938d9"
      }
     },
     "metadata": {},
     "output_type": "display_data"
    },
    {
     "name": "stdout",
     "output_type": "stream",
     "text": [
      "2021-11-13 15:37:07 | INFO | hw5.transformer | training loss: 3.4178\n",
      "2021-11-13 15:37:07 | INFO | hw5.transformer | begin validation\n"
     ]
    },
    {
     "data": {
      "text/plain": "HBox(children=(HTML(value='validation'), FloatProgress(value=0.0, max=22.0), HTML(value='')))",
      "application/vnd.jupyter.widget-view+json": {
       "version_major": 2,
       "version_minor": 0,
       "model_id": "e0e388d9c9794b31b580ebfbd48cfa66"
      }
     },
     "metadata": {},
     "output_type": "display_data"
    },
    {
     "name": "stdout",
     "output_type": "stream",
     "text": [
      "2021-11-13 15:37:29 | INFO | hw5.transformer | example source: thank you .\n",
      "2021-11-13 15:37:29 | INFO | hw5.transformer | example hypothesis: 謝謝\n",
      "2021-11-13 15:37:29 | INFO | hw5.transformer | example reference: 謝謝 !\n",
      "2021-11-13 15:37:29 | INFO | hw5.transformer | validation loss:\t3.3956\n",
      "2021-11-13 15:37:29 | INFO | hw5.transformer | BLEU = 24.74 59.0/33.3/19.6/12.2 (BP = 0.946 ratio = 0.947 hyp_len = 105938 ref_len = 111811)\n",
      "2021-11-13 15:37:29 | INFO | hw5.transformer | saved epoch checkpoint: /home/wy/ML_study/chapter5/checkpoints/rnn/_transformer_checkpoint143.pt\n",
      "2021-11-13 15:37:29 | INFO | hw5.transformer | end of epoch 143\n"
     ]
    },
    {
     "data": {
      "text/plain": "HBox(children=(HTML(value='train epoch 144'), FloatProgress(value=0.0, max=791.0), HTML(value='')))",
      "application/vnd.jupyter.widget-view+json": {
       "version_major": 2,
       "version_minor": 0,
       "model_id": "88c690953b77497db015061eaf837838"
      }
     },
     "metadata": {},
     "output_type": "display_data"
    },
    {
     "name": "stdout",
     "output_type": "stream",
     "text": [
      "2021-11-13 15:39:48 | INFO | hw5.transformer | training loss: 3.4176\n",
      "2021-11-13 15:39:48 | INFO | hw5.transformer | begin validation\n"
     ]
    },
    {
     "data": {
      "text/plain": "HBox(children=(HTML(value='validation'), FloatProgress(value=0.0, max=22.0), HTML(value='')))",
      "application/vnd.jupyter.widget-view+json": {
       "version_major": 2,
       "version_minor": 0,
       "model_id": "eb3fb306971841eaa930358aaea04816"
      }
     },
     "metadata": {},
     "output_type": "display_data"
    },
    {
     "name": "stdout",
     "output_type": "stream",
     "text": [
      "2021-11-13 15:40:07 | INFO | hw5.transformer | example source: a definition that cares about the intentions of abusers more than the harms to the abused that definition of racism is racist .\n",
      "2021-11-13 15:40:07 | INFO | hw5.transformer | example hypothesis: 一個關心虐待者的意圖 , 遠遠超過被濫用種族歧視的傷害 。\n",
      "2021-11-13 15:40:07 | INFO | hw5.transformer | example reference: 如果這個定義著眼點在施暴者的意圖 , 多過被受害者所受的傷害 , 那麼這個定義本身就已經帶有歧視了 。\n",
      "2021-11-13 15:40:07 | INFO | hw5.transformer | validation loss:\t3.3895\n",
      "2021-11-13 15:40:07 | INFO | hw5.transformer | BLEU = 24.62 59.2/33.5/19.8/12.3 (BP = 0.934 ratio = 0.936 hyp_len = 104628 ref_len = 111811)\n",
      "2021-11-13 15:40:08 | INFO | hw5.transformer | saved epoch checkpoint: /home/wy/ML_study/chapter5/checkpoints/rnn/_transformer_checkpoint144.pt\n",
      "2021-11-13 15:40:08 | INFO | hw5.transformer | end of epoch 144\n"
     ]
    },
    {
     "data": {
      "text/plain": "HBox(children=(HTML(value='train epoch 145'), FloatProgress(value=0.0, max=791.0), HTML(value='')))",
      "application/vnd.jupyter.widget-view+json": {
       "version_major": 2,
       "version_minor": 0,
       "model_id": "8e6050ff722542cabaa61bbe23c159dd"
      }
     },
     "metadata": {},
     "output_type": "display_data"
    },
    {
     "name": "stdout",
     "output_type": "stream",
     "text": [
      "2021-11-13 15:42:26 | INFO | hw5.transformer | training loss: 3.4179\n",
      "2021-11-13 15:42:26 | INFO | hw5.transformer | begin validation\n"
     ]
    },
    {
     "data": {
      "text/plain": "HBox(children=(HTML(value='validation'), FloatProgress(value=0.0, max=22.0), HTML(value='')))",
      "application/vnd.jupyter.widget-view+json": {
       "version_major": 2,
       "version_minor": 0,
       "model_id": "3a63f053878a4e77a59fd323a642582a"
      }
     },
     "metadata": {},
     "output_type": "display_data"
    },
    {
     "name": "stdout",
     "output_type": "stream",
     "text": [
      "2021-11-13 15:42:46 | INFO | hw5.transformer | example source: now , what's common to all of these things is the idea that we've had these technologies to control nature only for the last 70 , 80 or 100 years and essentially in a blink , we have squandered our ability to control , because we have not recognized that natural selection and evolution was going to find a way to get back , and we need to completely rethink how we're going to use measures to control biological organisms , and rethink how we incentivize the development , introduction , in the case of antibiotics prescription , and use of these valuable resources .\n",
      "2021-11-13 15:42:46 | INFO | hw5.transformer | example hypothesis: 所有這些東西的共通點在於 , 我們有這些技術只能控制大自然 , 在過去70、80、100年 , 基本上 , 在眨眼中 , 我們已經征服了我們控制能力的能力 , 因為我們沒有意識到自然選擇和進化將會找到回復的方法 , 我們需要重新思考我們要如何用測量來控制生物體 , 並重新思考我們如何利用這些生物體的動機 , 來激勵我們如何利用這些生物學的資源 , 來取得這些資源 。\n",
      "2021-11-13 15:42:46 | INFO | hw5.transformer | example reference: 這些事的共同點就是我們有了這些技術讓我們戰勝了自然70、80或者100年 , 轉眼之間 , 我們就失去了控制力 , 因為我們還沒有意識到自然選擇和進化總會找到一個出路 , 我們需要全盤反思我們究竟要用什麼去控制生物體 , 我們需要反思我們如何促進藥物的發展及引進 , 比如在抗生素的處方上 , 及如何利用這些寶貴的資源 。\n",
      "2021-11-13 15:42:46 | INFO | hw5.transformer | validation loss:\t3.3968\n",
      "2021-11-13 15:42:46 | INFO | hw5.transformer | BLEU = 24.77 59.0/33.4/19.7/12.2 (BP = 0.944 ratio = 0.946 hyp_len = 105726 ref_len = 111811)\n",
      "2021-11-13 15:42:46 | INFO | hw5.transformer | saved epoch checkpoint: /home/wy/ML_study/chapter5/checkpoints/rnn/_transformer_checkpoint145.pt\n",
      "2021-11-13 15:42:46 | INFO | hw5.transformer | end of epoch 145\n"
     ]
    },
    {
     "data": {
      "text/plain": "HBox(children=(HTML(value='train epoch 146'), FloatProgress(value=0.0, max=791.0), HTML(value='')))",
      "application/vnd.jupyter.widget-view+json": {
       "version_major": 2,
       "version_minor": 0,
       "model_id": "d468adec51734829bca0998db34af32f"
      }
     },
     "metadata": {},
     "output_type": "display_data"
    },
    {
     "name": "stdout",
     "output_type": "stream",
     "text": [
      "2021-11-13 15:45:07 | INFO | hw5.transformer | training loss: 3.4153\n",
      "2021-11-13 15:45:07 | INFO | hw5.transformer | begin validation\n"
     ]
    },
    {
     "data": {
      "text/plain": "HBox(children=(HTML(value='validation'), FloatProgress(value=0.0, max=22.0), HTML(value='')))",
      "application/vnd.jupyter.widget-view+json": {
       "version_major": 2,
       "version_minor": 0,
       "model_id": "d5d86f2270704fcc832c8dec5bf4192e"
      }
     },
     "metadata": {},
     "output_type": "display_data"
    },
    {
     "name": "stdout",
     "output_type": "stream",
     "text": [
      "2021-11-13 15:45:27 | INFO | hw5.transformer | example source: and i've been having them , over 200 dirty jobs , i have them all the time , but that one that one drilled something home in a way that i just wasn't prepared for .\n",
      "2021-11-13 15:45:27 | INFO | hw5.transformer | example hypothesis: 我一直在做這些工作 , 有超過兩百份骯髒的工作 , 我一直都有他們 , 但那一份工作 , 用我沒準備好的方式拖回家 。\n",
      "2021-11-13 15:45:27 | INFO | hw5.transformer | example reference: 我已經做了 , 大概兩百個苦差事 , 我一天到晚都意識到一些新東西但這一項-這項驚心動魄 , 在我絲毫沒有思考準備的時候\n",
      "2021-11-13 15:45:27 | INFO | hw5.transformer | validation loss:\t3.3919\n",
      "2021-11-13 15:45:27 | INFO | hw5.transformer | BLEU = 24.77 58.9/33.3/19.7/12.2 (BP = 0.945 ratio = 0.947 hyp_len = 105866 ref_len = 111811)\n",
      "2021-11-13 15:45:28 | INFO | hw5.transformer | saved epoch checkpoint: /home/wy/ML_study/chapter5/checkpoints/rnn/_transformer_checkpoint146.pt\n",
      "2021-11-13 15:45:28 | INFO | hw5.transformer | end of epoch 146\n"
     ]
    },
    {
     "data": {
      "text/plain": "HBox(children=(HTML(value='train epoch 147'), FloatProgress(value=0.0, max=791.0), HTML(value='')))",
      "application/vnd.jupyter.widget-view+json": {
       "version_major": 2,
       "version_minor": 0,
       "model_id": "a780aefe6a0d49b88d527bf5aef04c03"
      }
     },
     "metadata": {},
     "output_type": "display_data"
    },
    {
     "name": "stdout",
     "output_type": "stream",
     "text": [
      "2021-11-13 15:47:48 | INFO | hw5.transformer | training loss: 3.4148\n",
      "2021-11-13 15:47:48 | INFO | hw5.transformer | begin validation\n"
     ]
    },
    {
     "data": {
      "text/plain": "HBox(children=(HTML(value='validation'), FloatProgress(value=0.0, max=22.0), HTML(value='')))",
      "application/vnd.jupyter.widget-view+json": {
       "version_major": 2,
       "version_minor": 0,
       "model_id": "3f89904bec934efeb09b4a9a678642af"
      }
     },
     "metadata": {},
     "output_type": "display_data"
    },
    {
     "name": "stdout",
     "output_type": "stream",
     "text": [
      "2021-11-13 15:48:08 | INFO | hw5.transformer | example source: i want to talk about the transformed media landscape , and what it means for anybody who has a message that they want to get out to anywhere in the world .\n",
      "2021-11-13 15:48:08 | INFO | hw5.transformer | example hypothesis: 我想談談的是轉變媒體景觀 , 對任何有訊息的人來說 , 他們想要去世界各地的任何地方 , 都會有什麼意義 。\n",
      "2021-11-13 15:48:08 | INFO | hw5.transformer | example reference: 我想先談論媒體工具轉變的整個架構和這對於任何訊息想要散播到世界各地的人來說意味著什麼\n",
      "2021-11-13 15:48:08 | INFO | hw5.transformer | validation loss:\t3.3929\n",
      "2021-11-13 15:48:08 | INFO | hw5.transformer | BLEU = 24.77 58.5/33.0/19.4/12.0 (BP = 0.957 ratio = 0.958 hyp_len = 107092 ref_len = 111811)\n",
      "2021-11-13 15:48:08 | INFO | hw5.transformer | saved epoch checkpoint: /home/wy/ML_study/chapter5/checkpoints/rnn/_transformer_checkpoint147.pt\n",
      "2021-11-13 15:48:08 | INFO | hw5.transformer | end of epoch 147\n"
     ]
    },
    {
     "data": {
      "text/plain": "HBox(children=(HTML(value='train epoch 148'), FloatProgress(value=0.0, max=791.0), HTML(value='')))",
      "application/vnd.jupyter.widget-view+json": {
       "version_major": 2,
       "version_minor": 0,
       "model_id": "775a750501c8463ab15b7bc17bc1c91a"
      }
     },
     "metadata": {},
     "output_type": "display_data"
    },
    {
     "name": "stdout",
     "output_type": "stream",
     "text": [
      "2021-11-13 15:50:33 | INFO | hw5.transformer | training loss: 3.4147\n",
      "2021-11-13 15:50:33 | INFO | hw5.transformer | begin validation\n"
     ]
    },
    {
     "data": {
      "text/plain": "HBox(children=(HTML(value='validation'), FloatProgress(value=0.0, max=22.0), HTML(value='')))",
      "application/vnd.jupyter.widget-view+json": {
       "version_major": 2,
       "version_minor": 0,
       "model_id": "a1ae09b477f44cb086c190dae0bb33c7"
      }
     },
     "metadata": {},
     "output_type": "display_data"
    },
    {
     "name": "stdout",
     "output_type": "stream",
     "text": [
      "2021-11-13 15:50:57 | INFO | hw5.transformer | example source: on the way there , we flew by earth and we took a few pictures to test our cameras .\n",
      "2021-11-13 15:50:57 | INFO | hw5.transformer | example hypothesis: 順便一提 , 我們飛過地球 , 拍了幾張照片來測試我們的相機 。\n",
      "2021-11-13 15:50:57 | INFO | hw5.transformer | example reference: 在途中 , 我們飛經地球並拍了一些照片以測試我們的相機 。\n",
      "2021-11-13 15:50:57 | INFO | hw5.transformer | validation loss:\t3.3884\n",
      "2021-11-13 15:50:57 | INFO | hw5.transformer | BLEU = 24.82 58.8/33.2/19.6/12.1 (BP = 0.951 ratio = 0.952 hyp_len = 106468 ref_len = 111811)\n",
      "2021-11-13 15:50:57 | INFO | hw5.transformer | saved epoch checkpoint: /home/wy/ML_study/chapter5/checkpoints/rnn/_transformer_checkpoint148.pt\n",
      "2021-11-13 15:50:57 | INFO | hw5.transformer | end of epoch 148\n"
     ]
    },
    {
     "data": {
      "text/plain": "HBox(children=(HTML(value='train epoch 149'), FloatProgress(value=0.0, max=791.0), HTML(value='')))",
      "application/vnd.jupyter.widget-view+json": {
       "version_major": 2,
       "version_minor": 0,
       "model_id": "7204f97e4f274550a2bd3611d19d63d3"
      }
     },
     "metadata": {},
     "output_type": "display_data"
    },
    {
     "name": "stdout",
     "output_type": "stream",
     "text": [
      "2021-11-13 15:53:16 | INFO | hw5.transformer | training loss: 3.4173\n",
      "2021-11-13 15:53:16 | INFO | hw5.transformer | begin validation\n"
     ]
    },
    {
     "data": {
      "text/plain": "HBox(children=(HTML(value='validation'), FloatProgress(value=0.0, max=22.0), HTML(value='')))",
      "application/vnd.jupyter.widget-view+json": {
       "version_major": 2,
       "version_minor": 0,
       "model_id": "00cfa2769c9c4c9791c6c3dacffd0001"
      }
     },
     "metadata": {},
     "output_type": "display_data"
    },
    {
     "name": "stdout",
     "output_type": "stream",
     "text": [
      "2021-11-13 15:53:37 | INFO | hw5.transformer | example source: now , adults seem to have a prevalently restrictive attitude towards kids , from every \" don't do that , don't do this \" in the school handbook , to restrictions on school internet use .\n",
      "2021-11-13 15:53:37 | INFO | hw5.transformer | example hypothesis: 現在 , 成年人似乎對孩童的態度有限 , 從 「 別這樣做 , 不要在學校手冊上做 」 , 到學校使用的限制 。\n",
      "2021-11-13 15:53:37 | INFO | hw5.transformer | example reference: 大人好像都喜歡管小孩只要是任何違反校規的事都不能做連學校上網也有限制\n",
      "2021-11-13 15:53:37 | INFO | hw5.transformer | validation loss:\t3.3964\n",
      "2021-11-13 15:53:37 | INFO | hw5.transformer | BLEU = 24.46 59.5/33.6/19.8/12.3 (BP = 0.925 ratio = 0.928 hyp_len = 103769 ref_len = 111811)\n",
      "2021-11-13 15:53:37 | INFO | hw5.transformer | saved epoch checkpoint: /home/wy/ML_study/chapter5/checkpoints/rnn/_transformer_checkpoint149.pt\n",
      "2021-11-13 15:53:37 | INFO | hw5.transformer | end of epoch 149\n"
     ]
    },
    {
     "data": {
      "text/plain": "HBox(children=(HTML(value='train epoch 150'), FloatProgress(value=0.0, max=791.0), HTML(value='')))",
      "application/vnd.jupyter.widget-view+json": {
       "version_major": 2,
       "version_minor": 0,
       "model_id": "f4bf352c33c3462fb5fa2fce719ca647"
      }
     },
     "metadata": {},
     "output_type": "display_data"
    },
    {
     "name": "stdout",
     "output_type": "stream",
     "text": [
      "2021-11-13 15:55:55 | INFO | hw5.transformer | training loss: 3.4144\n",
      "2021-11-13 15:55:55 | INFO | hw5.transformer | begin validation\n"
     ]
    },
    {
     "data": {
      "text/plain": "HBox(children=(HTML(value='validation'), FloatProgress(value=0.0, max=22.0), HTML(value='')))",
      "application/vnd.jupyter.widget-view+json": {
       "version_major": 2,
       "version_minor": 0,
       "model_id": "50c76c1637e8474e966cf68509b37b6f"
      }
     },
     "metadata": {},
     "output_type": "display_data"
    },
    {
     "name": "stdout",
     "output_type": "stream",
     "text": [
      "2021-11-13 15:56:16 | INFO | hw5.transformer | example source: so how would you divide a 4x4 , 10x10 , or 32x32 canvas ?\n",
      "2021-11-13 15:56:16 | INFO | hw5.transformer | example hypothesis: 那麼 , 你要怎麼把4x4、10x10、3x3的畫布分開 ?\n",
      "2021-11-13 15:56:16 | INFO | hw5.transformer | example reference: 所以 , 你要如何分割一張4x4、10x10 , 或32x32的畫布 ?\n",
      "2021-11-13 15:56:16 | INFO | hw5.transformer | validation loss:\t3.3944\n",
      "2021-11-13 15:56:16 | INFO | hw5.transformer | BLEU = 24.82 58.7/33.1/19.5/12.1 (BP = 0.954 ratio = 0.955 hyp_len = 106741 ref_len = 111811)\n",
      "2021-11-13 15:56:17 | INFO | hw5.transformer | saved epoch checkpoint: /home/wy/ML_study/chapter5/checkpoints/rnn/_transformer_checkpoint150.pt\n",
      "2021-11-13 15:56:17 | INFO | hw5.transformer | end of epoch 150\n"
     ]
    },
    {
     "data": {
      "text/plain": "HBox(children=(HTML(value='train epoch 151'), FloatProgress(value=0.0, max=791.0), HTML(value='')))",
      "application/vnd.jupyter.widget-view+json": {
       "version_major": 2,
       "version_minor": 0,
       "model_id": "3b8de645fa404aa1bbe202b49a7205cb"
      }
     },
     "metadata": {},
     "output_type": "display_data"
    },
    {
     "name": "stdout",
     "output_type": "stream",
     "text": [
      "2021-11-13 15:58:37 | INFO | hw5.transformer | training loss: 3.4141\n",
      "2021-11-13 15:58:37 | INFO | hw5.transformer | begin validation\n"
     ]
    },
    {
     "data": {
      "text/plain": "HBox(children=(HTML(value='validation'), FloatProgress(value=0.0, max=22.0), HTML(value='')))",
      "application/vnd.jupyter.widget-view+json": {
       "version_major": 2,
       "version_minor": 0,
       "model_id": "2e0865c75cae4d748131549d7a9c9ce3"
      }
     },
     "metadata": {},
     "output_type": "display_data"
    },
    {
     "name": "stdout",
     "output_type": "stream",
     "text": [
      "2021-11-13 15:58:58 | INFO | hw5.transformer | example source: we can push through that .\n",
      "2021-11-13 15:58:58 | INFO | hw5.transformer | example hypothesis: 我們可以推動它 。\n",
      "2021-11-13 15:58:58 | INFO | hw5.transformer | example reference: 我們可以衝破這些限制 。\n",
      "2021-11-13 15:58:58 | INFO | hw5.transformer | validation loss:\t3.3943\n",
      "2021-11-13 15:58:58 | INFO | hw5.transformer | BLEU = 24.65 59.1/33.3/19.6/12.1 (BP = 0.942 ratio = 0.944 hyp_len = 105534 ref_len = 111811)\n",
      "2021-11-13 15:58:58 | INFO | hw5.transformer | saved epoch checkpoint: /home/wy/ML_study/chapter5/checkpoints/rnn/_transformer_checkpoint151.pt\n",
      "2021-11-13 15:58:58 | INFO | hw5.transformer | end of epoch 151\n"
     ]
    },
    {
     "data": {
      "text/plain": "HBox(children=(HTML(value='train epoch 152'), FloatProgress(value=0.0, max=791.0), HTML(value='')))",
      "application/vnd.jupyter.widget-view+json": {
       "version_major": 2,
       "version_minor": 0,
       "model_id": "2a0ec0805a444b37a98e141d3ca57c4f"
      }
     },
     "metadata": {},
     "output_type": "display_data"
    },
    {
     "name": "stdout",
     "output_type": "stream",
     "text": [
      "2021-11-13 16:01:19 | INFO | hw5.transformer | training loss: 3.4137\n",
      "2021-11-13 16:01:19 | INFO | hw5.transformer | begin validation\n"
     ]
    },
    {
     "data": {
      "text/plain": "HBox(children=(HTML(value='validation'), FloatProgress(value=0.0, max=22.0), HTML(value='')))",
      "application/vnd.jupyter.widget-view+json": {
       "version_major": 2,
       "version_minor": 0,
       "model_id": "5c609b45898c437b91bb5b5b46cbddb2"
      }
     },
     "metadata": {},
     "output_type": "display_data"
    },
    {
     "name": "stdout",
     "output_type": "stream",
     "text": [
      "2021-11-13 16:01:40 | INFO | hw5.transformer | example source: jeff han: i'm a research scientist at nyu in new york .\n",
      "2021-11-13 16:01:40 | INFO | hw5.transformer | example hypothesis: 傑夫.漢:我是紐約紐約大學的科學家 。\n",
      "2021-11-13 16:01:40 | INFO | hw5.transformer | example reference: 韓傑夫:我是紐約市紐約大學的研究科學家 。\n",
      "2021-11-13 16:01:40 | INFO | hw5.transformer | validation loss:\t3.3975\n",
      "2021-11-13 16:01:40 | INFO | hw5.transformer | BLEU = 24.81 58.8/33.2/19.7/12.1 (BP = 0.950 ratio = 0.951 hyp_len = 106340 ref_len = 111811)\n",
      "2021-11-13 16:01:40 | INFO | hw5.transformer | saved epoch checkpoint: /home/wy/ML_study/chapter5/checkpoints/rnn/_transformer_checkpoint152.pt\n",
      "2021-11-13 16:01:40 | INFO | hw5.transformer | end of epoch 152\n"
     ]
    },
    {
     "data": {
      "text/plain": "HBox(children=(HTML(value='train epoch 153'), FloatProgress(value=0.0, max=791.0), HTML(value='')))",
      "application/vnd.jupyter.widget-view+json": {
       "version_major": 2,
       "version_minor": 0,
       "model_id": "a10c6cc9b0cd4bdfad0103a97277dc95"
      }
     },
     "metadata": {},
     "output_type": "display_data"
    },
    {
     "name": "stdout",
     "output_type": "stream",
     "text": [
      "2021-11-13 16:03:55 | INFO | hw5.transformer | training loss: 3.4127\n",
      "2021-11-13 16:03:55 | INFO | hw5.transformer | begin validation\n"
     ]
    },
    {
     "data": {
      "text/plain": "HBox(children=(HTML(value='validation'), FloatProgress(value=0.0, max=22.0), HTML(value='')))",
      "application/vnd.jupyter.widget-view+json": {
       "version_major": 2,
       "version_minor": 0,
       "model_id": "9a739eb77d5d493b9f9f27858a3e1e2a"
      }
     },
     "metadata": {},
     "output_type": "display_data"
    },
    {
     "name": "stdout",
     "output_type": "stream",
     "text": [
      "2021-11-13 16:04:14 | INFO | hw5.transformer | example source: how do i integrate this information into the longer course of my life ?\n",
      "2021-11-13 16:04:14 | INFO | hw5.transformer | example hypothesis: 我如何將這些資訊整合到我生命中更長的過程中 ?\n",
      "2021-11-13 16:04:14 | INFO | hw5.transformer | example reference: 我怎樣可以在我以後的生活中利用這些信息呢 ?\n",
      "2021-11-13 16:04:14 | INFO | hw5.transformer | validation loss:\t3.3960\n",
      "2021-11-13 16:04:14 | INFO | hw5.transformer | BLEU = 24.43 60.0/34.0/20.1/12.4 (BP = 0.914 ratio = 0.917 hyp_len = 102554 ref_len = 111811)\n",
      "2021-11-13 16:04:15 | INFO | hw5.transformer | saved epoch checkpoint: /home/wy/ML_study/chapter5/checkpoints/rnn/_transformer_checkpoint153.pt\n",
      "2021-11-13 16:04:15 | INFO | hw5.transformer | end of epoch 153\n"
     ]
    },
    {
     "data": {
      "text/plain": "HBox(children=(HTML(value='train epoch 154'), FloatProgress(value=0.0, max=791.0), HTML(value='')))",
      "application/vnd.jupyter.widget-view+json": {
       "version_major": 2,
       "version_minor": 0,
       "model_id": "cd77522b7fbf4ee481280ec1055fc915"
      }
     },
     "metadata": {},
     "output_type": "display_data"
    },
    {
     "name": "stdout",
     "output_type": "stream",
     "text": [
      "2021-11-13 16:06:31 | INFO | hw5.transformer | training loss: 3.4120\n",
      "2021-11-13 16:06:31 | INFO | hw5.transformer | begin validation\n"
     ]
    },
    {
     "data": {
      "text/plain": "HBox(children=(HTML(value='validation'), FloatProgress(value=0.0, max=22.0), HTML(value='')))",
      "application/vnd.jupyter.widget-view+json": {
       "version_major": 2,
       "version_minor": 0,
       "model_id": "10979af5e8c443c2b291da2663265466"
      }
     },
     "metadata": {},
     "output_type": "display_data"
    },
    {
     "name": "stdout",
     "output_type": "stream",
     "text": [
      "2021-11-13 16:06:51 | INFO | hw5.transformer | example source: and we do care about planets like the earth because by now we understood that life as a chemical system really needs a smaller planet with water and with rocks and with a lot of complex chemistry to originate , to emerge , to survive .\n",
      "2021-11-13 16:06:51 | INFO | hw5.transformer | example hypothesis: 我們確實在乎像地球這樣的行星 , 因為現在我們明白 , 身為化學系統 , 生命真的需要更小的行星 , 有水、岩石 , 以及許多複雜的化學 , 來源、新生、生存 。\n",
      "2021-11-13 16:06:51 | INFO | hw5.transformer | example reference: 這件事對我們很重要 , 因為現在我們所明白的是 , 生命有如一個化學體系般它需要比較小的行星有水有土壤岩石以及一些相當複雜的化學然後生命得以起源 , 出現 , 生存\n",
      "2021-11-13 16:06:51 | INFO | hw5.transformer | validation loss:\t3.3953\n",
      "2021-11-13 16:06:51 | INFO | hw5.transformer | BLEU = 24.75 59.2/33.5/19.7/12.2 (BP = 0.942 ratio = 0.944 hyp_len = 105517 ref_len = 111811)\n",
      "2021-11-13 16:06:51 | INFO | hw5.transformer | saved epoch checkpoint: /home/wy/ML_study/chapter5/checkpoints/rnn/_transformer_checkpoint154.pt\n",
      "2021-11-13 16:06:51 | INFO | hw5.transformer | end of epoch 154\n"
     ]
    },
    {
     "data": {
      "text/plain": "HBox(children=(HTML(value='train epoch 155'), FloatProgress(value=0.0, max=791.0), HTML(value='')))",
      "application/vnd.jupyter.widget-view+json": {
       "version_major": 2,
       "version_minor": 0,
       "model_id": "4b69e094187b49bf80f7e48597d2ced6"
      }
     },
     "metadata": {},
     "output_type": "display_data"
    },
    {
     "name": "stdout",
     "output_type": "stream",
     "text": [
      "2021-11-13 16:09:10 | INFO | hw5.transformer | training loss: 3.4121\n",
      "2021-11-13 16:09:10 | INFO | hw5.transformer | begin validation\n"
     ]
    },
    {
     "data": {
      "text/plain": "HBox(children=(HTML(value='validation'), FloatProgress(value=0.0, max=22.0), HTML(value='')))",
      "application/vnd.jupyter.widget-view+json": {
       "version_major": 2,
       "version_minor": 0,
       "model_id": "2e894ce169b4414398583e5929b0295a"
      }
     },
     "metadata": {},
     "output_type": "display_data"
    },
    {
     "name": "stdout",
     "output_type": "stream",
     "text": [
      "2021-11-13 16:09:29 | INFO | hw5.transformer | example source: it's the bottom line , the dollar line .\n",
      "2021-11-13 16:09:29 | INFO | hw5.transformer | example hypothesis: 這是下線 , 一塊錢線 。\n",
      "2021-11-13 16:09:29 | INFO | hw5.transformer | example reference: 這是底線 , 金錢堆起的線\n",
      "2021-11-13 16:09:29 | INFO | hw5.transformer | validation loss:\t3.3983\n",
      "2021-11-13 16:09:29 | INFO | hw5.transformer | BLEU = 24.20 59.9/33.9/20.0/12.3 (BP = 0.909 ratio = 0.913 hyp_len = 102111 ref_len = 111811)\n",
      "2021-11-13 16:09:30 | INFO | hw5.transformer | saved epoch checkpoint: /home/wy/ML_study/chapter5/checkpoints/rnn/_transformer_checkpoint155.pt\n",
      "2021-11-13 16:09:30 | INFO | hw5.transformer | end of epoch 155\n"
     ]
    },
    {
     "data": {
      "text/plain": "HBox(children=(HTML(value='train epoch 156'), FloatProgress(value=0.0, max=791.0), HTML(value='')))",
      "application/vnd.jupyter.widget-view+json": {
       "version_major": 2,
       "version_minor": 0,
       "model_id": "04b77a88cf1243cebe4503bcc51873cc"
      }
     },
     "metadata": {},
     "output_type": "display_data"
    },
    {
     "name": "stdout",
     "output_type": "stream",
     "text": [
      "2021-11-13 16:11:46 | INFO | hw5.transformer | training loss: 3.4124\n",
      "2021-11-13 16:11:46 | INFO | hw5.transformer | begin validation\n"
     ]
    },
    {
     "data": {
      "text/plain": "HBox(children=(HTML(value='validation'), FloatProgress(value=0.0, max=22.0), HTML(value='')))",
      "application/vnd.jupyter.widget-view+json": {
       "version_major": 2,
       "version_minor": 0,
       "model_id": "cbe461a39b5841f08c5b121eb0199b19"
      }
     },
     "metadata": {},
     "output_type": "display_data"
    },
    {
     "name": "stdout",
     "output_type": "stream",
     "text": [
      "2021-11-13 16:12:06 | INFO | hw5.transformer | example source: but i sat there for hours , and nothing came to mind .\n",
      "2021-11-13 16:12:06 | INFO | hw5.transformer | example hypothesis: 但我坐在那裡好幾個小時 , 什麼都沒想到 。\n",
      "2021-11-13 16:12:06 | INFO | hw5.transformer | example reference: 我坐了好幾個小時卻一點想法都沒有\n",
      "2021-11-13 16:12:06 | INFO | hw5.transformer | validation loss:\t3.3930\n",
      "2021-11-13 16:12:06 | INFO | hw5.transformer | BLEU = 24.62 59.2/33.4/19.7/12.1 (BP = 0.940 ratio = 0.942 hyp_len = 105284 ref_len = 111811)\n",
      "2021-11-13 16:12:06 | INFO | hw5.transformer | saved epoch checkpoint: /home/wy/ML_study/chapter5/checkpoints/rnn/_transformer_checkpoint156.pt\n",
      "2021-11-13 16:12:06 | INFO | hw5.transformer | end of epoch 156\n"
     ]
    },
    {
     "data": {
      "text/plain": "HBox(children=(HTML(value='train epoch 157'), FloatProgress(value=0.0, max=791.0), HTML(value='')))",
      "application/vnd.jupyter.widget-view+json": {
       "version_major": 2,
       "version_minor": 0,
       "model_id": "80e166b573f3401b934ed079ce9a557f"
      }
     },
     "metadata": {},
     "output_type": "display_data"
    },
    {
     "name": "stdout",
     "output_type": "stream",
     "text": [
      "2021-11-13 16:14:28 | INFO | hw5.transformer | training loss: 3.4112\n",
      "2021-11-13 16:14:28 | INFO | hw5.transformer | begin validation\n"
     ]
    },
    {
     "data": {
      "text/plain": "HBox(children=(HTML(value='validation'), FloatProgress(value=0.0, max=22.0), HTML(value='')))",
      "application/vnd.jupyter.widget-view+json": {
       "version_major": 2,
       "version_minor": 0,
       "model_id": "cdc3159ad5444b868c0e081d3a50206b"
      }
     },
     "metadata": {},
     "output_type": "display_data"
    },
    {
     "name": "stdout",
     "output_type": "stream",
     "text": [
      "2021-11-13 16:14:51 | INFO | hw5.transformer | example source: let me tell you about mahabuba .\n",
      "2021-11-13 16:14:51 | INFO | hw5.transformer | example hypothesis: 讓我來談談馬哈布巴 。\n",
      "2021-11-13 16:14:51 | INFO | hw5.transformer | example reference: 分享mahabuba的故事\n",
      "2021-11-13 16:14:51 | INFO | hw5.transformer | validation loss:\t3.3923\n",
      "2021-11-13 16:14:51 | INFO | hw5.transformer | BLEU = 24.50 59.4/33.5/19.7/12.2 (BP = 0.932 ratio = 0.934 hyp_len = 104412 ref_len = 111811)\n",
      "2021-11-13 16:14:51 | INFO | hw5.transformer | saved epoch checkpoint: /home/wy/ML_study/chapter5/checkpoints/rnn/_transformer_checkpoint157.pt\n",
      "2021-11-13 16:14:51 | INFO | hw5.transformer | end of epoch 157\n"
     ]
    },
    {
     "data": {
      "text/plain": "HBox(children=(HTML(value='train epoch 158'), FloatProgress(value=0.0, max=791.0), HTML(value='')))",
      "application/vnd.jupyter.widget-view+json": {
       "version_major": 2,
       "version_minor": 0,
       "model_id": "bf39fd37ef804e7ab4fd0ed679cd6acb"
      }
     },
     "metadata": {},
     "output_type": "display_data"
    },
    {
     "name": "stdout",
     "output_type": "stream",
     "text": [
      "2021-11-13 16:17:07 | INFO | hw5.transformer | training loss: 3.4101\n",
      "2021-11-13 16:17:07 | INFO | hw5.transformer | begin validation\n"
     ]
    },
    {
     "data": {
      "text/plain": "HBox(children=(HTML(value='validation'), FloatProgress(value=0.0, max=22.0), HTML(value='')))",
      "application/vnd.jupyter.widget-view+json": {
       "version_major": 2,
       "version_minor": 0,
       "model_id": "05a22c4ad30b42b199e644f16c07fc93"
      }
     },
     "metadata": {},
     "output_type": "display_data"
    },
    {
     "name": "stdout",
     "output_type": "stream",
     "text": [
      "2021-11-13 16:17:28 | INFO | hw5.transformer | example source: a volunteer would write a sentence on the chalkboard , and the other students had to guess whether it was a truth or a lie .\n",
      "2021-11-13 16:17:28 | INFO | hw5.transformer | example hypothesis: 一位志願者會在粉筆板上寫一句句話 , 其他學生得要猜測是否真相或謊言 。\n",
      "2021-11-13 16:17:28 | INFO | hw5.transformer | example reference: 一個學生在黑板上寫了一句話另一個學生要去猜這是實話還是謊言 。\n",
      "2021-11-13 16:17:28 | INFO | hw5.transformer | validation loss:\t3.3855\n",
      "2021-11-13 16:17:28 | INFO | hw5.transformer | BLEU = 24.75 59.1/33.4/19.8/12.3 (BP = 0.941 ratio = 0.942 hyp_len = 105361 ref_len = 111811)\n",
      "2021-11-13 16:17:28 | INFO | hw5.transformer | saved epoch checkpoint: /home/wy/ML_study/chapter5/checkpoints/rnn/_transformer_checkpoint158.pt\n",
      "2021-11-13 16:17:28 | INFO | hw5.transformer | end of epoch 158\n"
     ]
    },
    {
     "data": {
      "text/plain": "HBox(children=(HTML(value='train epoch 159'), FloatProgress(value=0.0, max=791.0), HTML(value='')))",
      "application/vnd.jupyter.widget-view+json": {
       "version_major": 2,
       "version_minor": 0,
       "model_id": "2163e9e920c245d8a8b4ee281ef4ef9e"
      }
     },
     "metadata": {},
     "output_type": "display_data"
    },
    {
     "name": "stdout",
     "output_type": "stream",
     "text": [
      "2021-11-13 16:19:46 | INFO | hw5.transformer | training loss: 3.4099\n",
      "2021-11-13 16:19:46 | INFO | hw5.transformer | begin validation\n"
     ]
    },
    {
     "data": {
      "text/plain": "HBox(children=(HTML(value='validation'), FloatProgress(value=0.0, max=22.0), HTML(value='')))",
      "application/vnd.jupyter.widget-view+json": {
       "version_major": 2,
       "version_minor": 0,
       "model_id": "ab883536666c49e29c59de0d686d8081"
      }
     },
     "metadata": {},
     "output_type": "display_data"
    },
    {
     "name": "stdout",
     "output_type": "stream",
     "text": [
      "2021-11-13 16:20:06 | INFO | hw5.transformer | example source: it seems a little bit crazy , but it's not .\n",
      "2021-11-13 16:20:06 | INFO | hw5.transformer | example hypothesis: 這看起來有點瘋狂 , 但不是 。\n",
      "2021-11-13 16:20:06 | INFO | hw5.transformer | example reference: 聽起來有點假但是不是的\n",
      "2021-11-13 16:20:06 | INFO | hw5.transformer | validation loss:\t3.3950\n",
      "2021-11-13 16:20:06 | INFO | hw5.transformer | BLEU = 24.56 59.7/33.8/20.0/12.4 (BP = 0.924 ratio = 0.927 hyp_len = 103603 ref_len = 111811)\n",
      "2021-11-13 16:20:06 | INFO | hw5.transformer | saved epoch checkpoint: /home/wy/ML_study/chapter5/checkpoints/rnn/_transformer_checkpoint159.pt\n",
      "2021-11-13 16:20:06 | INFO | hw5.transformer | end of epoch 159\n"
     ]
    },
    {
     "data": {
      "text/plain": "HBox(children=(HTML(value='train epoch 160'), FloatProgress(value=0.0, max=791.0), HTML(value='')))",
      "application/vnd.jupyter.widget-view+json": {
       "version_major": 2,
       "version_minor": 0,
       "model_id": "a621628ce62f4603880a017926e39205"
      }
     },
     "metadata": {},
     "output_type": "display_data"
    },
    {
     "name": "stdout",
     "output_type": "stream",
     "text": [
      "2021-11-13 16:22:24 | INFO | hw5.transformer | training loss: 3.4104\n",
      "2021-11-13 16:22:24 | INFO | hw5.transformer | begin validation\n"
     ]
    },
    {
     "data": {
      "text/plain": "HBox(children=(HTML(value='validation'), FloatProgress(value=0.0, max=22.0), HTML(value='')))",
      "application/vnd.jupyter.widget-view+json": {
       "version_major": 2,
       "version_minor": 0,
       "model_id": "37a9343940714acd97d3bb853379dd6d"
      }
     },
     "metadata": {},
     "output_type": "display_data"
    },
    {
     "name": "stdout",
     "output_type": "stream",
     "text": [
      "2021-11-13 16:22:44 | INFO | hw5.transformer | example source: number five: entrepreneurship .\n",
      "2021-11-13 16:22:44 | INFO | hw5.transformer | example hypothesis: 第五:企業家精神 。\n",
      "2021-11-13 16:22:44 | INFO | hw5.transformer | example reference: 五:創業 。\n",
      "2021-11-13 16:22:44 | INFO | hw5.transformer | validation loss:\t3.3907\n",
      "2021-11-13 16:22:44 | INFO | hw5.transformer | BLEU = 24.85 59.0/33.4/19.8/12.3 (BP = 0.943 ratio = 0.945 hyp_len = 105657 ref_len = 111811)\n",
      "2021-11-13 16:22:45 | INFO | hw5.transformer | saved epoch checkpoint: /home/wy/ML_study/chapter5/checkpoints/rnn/_transformer_checkpoint160.pt\n",
      "2021-11-13 16:22:45 | INFO | hw5.transformer | end of epoch 160\n"
     ]
    },
    {
     "data": {
      "text/plain": "HBox(children=(HTML(value='train epoch 161'), FloatProgress(value=0.0, max=791.0), HTML(value='')))",
      "application/vnd.jupyter.widget-view+json": {
       "version_major": 2,
       "version_minor": 0,
       "model_id": "41dc372719164078aec9f210e2ff9de7"
      }
     },
     "metadata": {},
     "output_type": "display_data"
    },
    {
     "name": "stdout",
     "output_type": "stream",
     "text": [
      "2021-11-13 16:25:01 | INFO | hw5.transformer | training loss: 3.4104\n",
      "2021-11-13 16:25:01 | INFO | hw5.transformer | begin validation\n"
     ]
    },
    {
     "data": {
      "text/plain": "HBox(children=(HTML(value='validation'), FloatProgress(value=0.0, max=22.0), HTML(value='')))",
      "application/vnd.jupyter.widget-view+json": {
       "version_major": 2,
       "version_minor": 0,
       "model_id": "c1d337ec1b7846048a7aa6fc8826c081"
      }
     },
     "metadata": {},
     "output_type": "display_data"
    },
    {
     "name": "stdout",
     "output_type": "stream",
     "text": [
      "2021-11-13 16:25:21 | INFO | hw5.transformer | example source: now this is statistically impossible .\n",
      "2021-11-13 16:25:21 | INFO | hw5.transformer | example hypothesis: 這是統計上不可能的 。\n",
      "2021-11-13 16:25:21 | INFO | hw5.transformer | example reference: 這是完全不可能的\n",
      "2021-11-13 16:25:21 | INFO | hw5.transformer | validation loss:\t3.3958\n",
      "2021-11-13 16:25:21 | INFO | hw5.transformer | BLEU = 24.50 59.4/33.6/19.8/12.2 (BP = 0.929 ratio = 0.932 hyp_len = 104189 ref_len = 111811)\n",
      "2021-11-13 16:25:21 | INFO | hw5.transformer | saved epoch checkpoint: /home/wy/ML_study/chapter5/checkpoints/rnn/_transformer_checkpoint161.pt\n",
      "2021-11-13 16:25:21 | INFO | hw5.transformer | end of epoch 161\n"
     ]
    },
    {
     "data": {
      "text/plain": "HBox(children=(HTML(value='train epoch 162'), FloatProgress(value=0.0, max=791.0), HTML(value='')))",
      "application/vnd.jupyter.widget-view+json": {
       "version_major": 2,
       "version_minor": 0,
       "model_id": "419ce877d49b40d2a063a54f75c602cf"
      }
     },
     "metadata": {},
     "output_type": "display_data"
    },
    {
     "name": "stdout",
     "output_type": "stream",
     "text": [
      "2021-11-13 16:27:38 | INFO | hw5.transformer | training loss: 3.4100\n",
      "2021-11-13 16:27:38 | INFO | hw5.transformer | begin validation\n"
     ]
    },
    {
     "data": {
      "text/plain": "HBox(children=(HTML(value='validation'), FloatProgress(value=0.0, max=22.0), HTML(value='')))",
      "application/vnd.jupyter.widget-view+json": {
       "version_major": 2,
       "version_minor": 0,
       "model_id": "365b0e7c5693439f95b05dd66a9e3027"
      }
     },
     "metadata": {},
     "output_type": "display_data"
    },
    {
     "name": "stdout",
     "output_type": "stream",
     "text": [
      "2021-11-13 16:27:58 | INFO | hw5.transformer | example source: and the best teachers were the girls , not the boys , and they were terrific .\n",
      "2021-11-13 16:27:58 | INFO | hw5.transformer | example hypothesis: 最好的老師是女孩 , 而不是男孩 , 他們很棒 。\n",
      "2021-11-13 16:27:58 | INFO | hw5.transformer | example reference: 最棒的老師都是女孩子 , 而不是男孩 。 她們都很厲害 。\n",
      "2021-11-13 16:27:58 | INFO | hw5.transformer | validation loss:\t3.3946\n",
      "2021-11-13 16:27:58 | INFO | hw5.transformer | BLEU = 24.25 59.8/33.9/20.0/12.3 (BP = 0.913 ratio = 0.917 hyp_len = 102476 ref_len = 111811)\n",
      "2021-11-13 16:27:58 | INFO | hw5.transformer | saved epoch checkpoint: /home/wy/ML_study/chapter5/checkpoints/rnn/_transformer_checkpoint162.pt\n",
      "2021-11-13 16:27:59 | INFO | hw5.transformer | end of epoch 162\n"
     ]
    },
    {
     "data": {
      "text/plain": "HBox(children=(HTML(value='train epoch 163'), FloatProgress(value=0.0, max=791.0), HTML(value='')))",
      "application/vnd.jupyter.widget-view+json": {
       "version_major": 2,
       "version_minor": 0,
       "model_id": "1a97f16d7fbf4dfa946678b1715b3b6e"
      }
     },
     "metadata": {},
     "output_type": "display_data"
    },
    {
     "name": "stdout",
     "output_type": "stream",
     "text": [
      "2021-11-13 16:30:17 | INFO | hw5.transformer | training loss: 3.4095\n",
      "2021-11-13 16:30:17 | INFO | hw5.transformer | begin validation\n"
     ]
    },
    {
     "data": {
      "text/plain": "HBox(children=(HTML(value='validation'), FloatProgress(value=0.0, max=22.0), HTML(value='')))",
      "application/vnd.jupyter.widget-view+json": {
       "version_major": 2,
       "version_minor": 0,
       "model_id": "06fe5ff5d7d74983ace7f4501b5fda1d"
      }
     },
     "metadata": {},
     "output_type": "display_data"
    },
    {
     "name": "stdout",
     "output_type": "stream",
     "text": [
      "2021-11-13 16:30:37 | INFO | hw5.transformer | example source: it's what those light and dark surrounds meant for your behavior in the past .\n",
      "2021-11-13 16:30:37 | INFO | hw5.transformer | example hypothesis: 這是過去那些光和暗的環境對你的行為意味著什麼 。\n",
      "2021-11-13 16:30:37 | INFO | hw5.transformer | example reference: 而是周圍亮暗這件事對你過去的行為意味著什麼\n",
      "2021-11-13 16:30:37 | INFO | hw5.transformer | validation loss:\t3.3995\n",
      "2021-11-13 16:30:37 | INFO | hw5.transformer | BLEU = 24.34 59.7/33.8/19.9/12.3 (BP = 0.919 ratio = 0.922 hyp_len = 103063 ref_len = 111811)\n",
      "2021-11-13 16:30:38 | INFO | hw5.transformer | saved epoch checkpoint: /home/wy/ML_study/chapter5/checkpoints/rnn/_transformer_checkpoint163.pt\n",
      "2021-11-13 16:30:38 | INFO | hw5.transformer | end of epoch 163\n"
     ]
    },
    {
     "data": {
      "text/plain": "HBox(children=(HTML(value='train epoch 164'), FloatProgress(value=0.0, max=791.0), HTML(value='')))",
      "application/vnd.jupyter.widget-view+json": {
       "version_major": 2,
       "version_minor": 0,
       "model_id": "b25f1d9abe144b8bad10aa103b7d5c93"
      }
     },
     "metadata": {},
     "output_type": "display_data"
    },
    {
     "name": "stdout",
     "output_type": "stream",
     "text": [
      "2021-11-13 16:32:57 | INFO | hw5.transformer | training loss: 3.4079\n",
      "2021-11-13 16:32:57 | INFO | hw5.transformer | begin validation\n"
     ]
    },
    {
     "data": {
      "text/plain": "HBox(children=(HTML(value='validation'), FloatProgress(value=0.0, max=22.0), HTML(value='')))",
      "application/vnd.jupyter.widget-view+json": {
       "version_major": 2,
       "version_minor": 0,
       "model_id": "e6ede0ffd66048569dfb05e16e3b0e9b"
      }
     },
     "metadata": {},
     "output_type": "display_data"
    },
    {
     "name": "stdout",
     "output_type": "stream",
     "text": [
      "2021-11-13 16:33:17 | INFO | hw5.transformer | example source: as oil prices go up , energy patents go up .\n",
      "2021-11-13 16:33:17 | INFO | hw5.transformer | example hypothesis: 當石油價格上升 , 能源專利就會上升 。\n",
      "2021-11-13 16:33:17 | INFO | hw5.transformer | example reference: 隨著油價上漲 , 能源專利也愈多 。\n",
      "2021-11-13 16:33:17 | INFO | hw5.transformer | validation loss:\t3.3915\n",
      "2021-11-13 16:33:17 | INFO | hw5.transformer | BLEU = 24.71 59.1/33.5/19.8/12.2 (BP = 0.940 ratio = 0.941 hyp_len = 105262 ref_len = 111811)\n",
      "2021-11-13 16:33:17 | INFO | hw5.transformer | saved epoch checkpoint: /home/wy/ML_study/chapter5/checkpoints/rnn/_transformer_checkpoint164.pt\n",
      "2021-11-13 16:33:17 | INFO | hw5.transformer | end of epoch 164\n"
     ]
    },
    {
     "data": {
      "text/plain": "HBox(children=(HTML(value='train epoch 165'), FloatProgress(value=0.0, max=791.0), HTML(value='')))",
      "application/vnd.jupyter.widget-view+json": {
       "version_major": 2,
       "version_minor": 0,
       "model_id": "5976a7cec3bd4c67857beecbbadb93c8"
      }
     },
     "metadata": {},
     "output_type": "display_data"
    },
    {
     "name": "stdout",
     "output_type": "stream",
     "text": [
      "2021-11-13 16:35:35 | INFO | hw5.transformer | training loss: 3.4096\n",
      "2021-11-13 16:35:35 | INFO | hw5.transformer | begin validation\n"
     ]
    },
    {
     "data": {
      "text/plain": "HBox(children=(HTML(value='validation'), FloatProgress(value=0.0, max=22.0), HTML(value='')))",
      "application/vnd.jupyter.widget-view+json": {
       "version_major": 2,
       "version_minor": 0,
       "model_id": "e47af4303d5c40ac8d6c4e386aa8a738"
      }
     },
     "metadata": {},
     "output_type": "display_data"
    },
    {
     "name": "stdout",
     "output_type": "stream",
     "text": [
      "2021-11-13 16:35:55 | INFO | hw5.transformer | example source: and i remember the first letter .\n",
      "2021-11-13 16:35:55 | INFO | hw5.transformer | example hypothesis: 我記得第一封信 。\n",
      "2021-11-13 16:35:55 | INFO | hw5.transformer | example reference: 我一直記得第一封回信的內容 。\n",
      "2021-11-13 16:35:55 | INFO | hw5.transformer | validation loss:\t3.3934\n",
      "2021-11-13 16:35:55 | INFO | hw5.transformer | BLEU = 24.71 59.2/33.5/19.8/12.2 (BP = 0.940 ratio = 0.942 hyp_len = 105274 ref_len = 111811)\n",
      "2021-11-13 16:35:55 | INFO | hw5.transformer | saved epoch checkpoint: /home/wy/ML_study/chapter5/checkpoints/rnn/_transformer_checkpoint165.pt\n",
      "2021-11-13 16:35:55 | INFO | hw5.transformer | end of epoch 165\n"
     ]
    },
    {
     "data": {
      "text/plain": "HBox(children=(HTML(value='train epoch 166'), FloatProgress(value=0.0, max=791.0), HTML(value='')))",
      "application/vnd.jupyter.widget-view+json": {
       "version_major": 2,
       "version_minor": 0,
       "model_id": "e11446635a0a4bf2a2c6523ca163aac9"
      }
     },
     "metadata": {},
     "output_type": "display_data"
    },
    {
     "name": "stdout",
     "output_type": "stream",
     "text": [
      "2021-11-13 16:38:16 | INFO | hw5.transformer | training loss: 3.4090\n",
      "2021-11-13 16:38:16 | INFO | hw5.transformer | begin validation\n"
     ]
    },
    {
     "data": {
      "text/plain": "HBox(children=(HTML(value='validation'), FloatProgress(value=0.0, max=22.0), HTML(value='')))",
      "application/vnd.jupyter.widget-view+json": {
       "version_major": 2,
       "version_minor": 0,
       "model_id": "3e28ccdccd6e45998be139b22593eb3b"
      }
     },
     "metadata": {},
     "output_type": "display_data"
    },
    {
     "name": "stdout",
     "output_type": "stream",
     "text": [
      "2021-11-13 16:38:39 | INFO | hw5.transformer | example source: and actually , i can relate to the whole like acronym thing and everything .\n",
      "2021-11-13 16:38:39 | INFO | hw5.transformer | example hypothesis: 事實上 , 我可以和整個記憶體有關 , 諸如此類 。\n",
      "2021-11-13 16:38:39 | INFO | hw5.transformer | example reference: 事實上 , 我也和某些縮寫相關的事很有淵源 。\n",
      "2021-11-13 16:38:39 | INFO | hw5.transformer | validation loss:\t3.3905\n",
      "2021-11-13 16:38:39 | INFO | hw5.transformer | BLEU = 24.70 59.3/33.6/19.9/12.3 (BP = 0.936 ratio = 0.938 hyp_len = 104876 ref_len = 111811)\n",
      "2021-11-13 16:38:39 | INFO | hw5.transformer | saved epoch checkpoint: /home/wy/ML_study/chapter5/checkpoints/rnn/_transformer_checkpoint166.pt\n",
      "2021-11-13 16:38:39 | INFO | hw5.transformer | end of epoch 166\n"
     ]
    },
    {
     "data": {
      "text/plain": "HBox(children=(HTML(value='train epoch 167'), FloatProgress(value=0.0, max=791.0), HTML(value='')))",
      "application/vnd.jupyter.widget-view+json": {
       "version_major": 2,
       "version_minor": 0,
       "model_id": "7bcc5091e2f14125bed7b37c473008c1"
      }
     },
     "metadata": {},
     "output_type": "display_data"
    },
    {
     "name": "stdout",
     "output_type": "stream",
     "text": [
      "2021-11-13 16:40:55 | INFO | hw5.transformer | training loss: 3.4064\n",
      "2021-11-13 16:40:55 | INFO | hw5.transformer | begin validation\n"
     ]
    },
    {
     "data": {
      "text/plain": "HBox(children=(HTML(value='validation'), FloatProgress(value=0.0, max=22.0), HTML(value='')))",
      "application/vnd.jupyter.widget-view+json": {
       "version_major": 2,
       "version_minor": 0,
       "model_id": "a1eae976d2fb44cb8ddc7a5d9d8b77b7"
      }
     },
     "metadata": {},
     "output_type": "display_data"
    },
    {
     "name": "stdout",
     "output_type": "stream",
     "text": [
      "2021-11-13 16:41:16 | INFO | hw5.transformer | example source: to me , that represents hope .\n",
      "2021-11-13 16:41:16 | INFO | hw5.transformer | example hypothesis: 對我來說 , 這代表了希望 。\n",
      "2021-11-13 16:41:16 | INFO | hw5.transformer | example reference: 對我而言 , 那代表的是希望 。\n",
      "2021-11-13 16:41:16 | INFO | hw5.transformer | validation loss:\t3.3861\n",
      "2021-11-13 16:41:16 | INFO | hw5.transformer | BLEU = 24.82 57.8/32.4/19.0/11.7 (BP = 0.976 ratio = 0.976 hyp_len = 109182 ref_len = 111811)\n",
      "2021-11-13 16:41:16 | INFO | hw5.transformer | saved epoch checkpoint: /home/wy/ML_study/chapter5/checkpoints/rnn/_transformer_checkpoint167.pt\n",
      "2021-11-13 16:41:16 | INFO | hw5.transformer | end of epoch 167\n"
     ]
    },
    {
     "data": {
      "text/plain": "HBox(children=(HTML(value='train epoch 168'), FloatProgress(value=0.0, max=791.0), HTML(value='')))",
      "application/vnd.jupyter.widget-view+json": {
       "version_major": 2,
       "version_minor": 0,
       "model_id": "4dc77df9bc3b4fc38ef8f170f23c57b5"
      }
     },
     "metadata": {},
     "output_type": "display_data"
    },
    {
     "name": "stdout",
     "output_type": "stream",
     "text": [
      "2021-11-13 16:43:33 | INFO | hw5.transformer | training loss: 3.4071\n",
      "2021-11-13 16:43:33 | INFO | hw5.transformer | begin validation\n"
     ]
    },
    {
     "data": {
      "text/plain": "HBox(children=(HTML(value='validation'), FloatProgress(value=0.0, max=22.0), HTML(value='')))",
      "application/vnd.jupyter.widget-view+json": {
       "version_major": 2,
       "version_minor": 0,
       "model_id": "e154ba55f7604b7fbdfa64be190a1bac"
      }
     },
     "metadata": {},
     "output_type": "display_data"
    },
    {
     "name": "stdout",
     "output_type": "stream",
     "text": [
      "2021-11-13 16:43:53 | INFO | hw5.transformer | example source: they hang around until the mating flight , but they don't participate in gathering nectar or pollen .\n",
      "2021-11-13 16:43:53 | INFO | hw5.transformer | example hypothesis: 牠們在交配飛行前圍繞著 , 但牠們不參與聚集花粉或花粉 。\n",
      "2021-11-13 16:43:53 | INFO | hw5.transformer | example reference: 從來不參與採集花蜜和花粉 。\n",
      "2021-11-13 16:43:53 | INFO | hw5.transformer | validation loss:\t3.3968\n",
      "2021-11-13 16:43:53 | INFO | hw5.transformer | BLEU = 24.74 59.2/33.5/19.8/12.3 (BP = 0.938 ratio = 0.940 hyp_len = 105112 ref_len = 111811)\n",
      "2021-11-13 16:43:53 | INFO | hw5.transformer | saved epoch checkpoint: /home/wy/ML_study/chapter5/checkpoints/rnn/_transformer_checkpoint168.pt\n",
      "2021-11-13 16:43:53 | INFO | hw5.transformer | end of epoch 168\n"
     ]
    },
    {
     "data": {
      "text/plain": "HBox(children=(HTML(value='train epoch 169'), FloatProgress(value=0.0, max=791.0), HTML(value='')))",
      "application/vnd.jupyter.widget-view+json": {
       "version_major": 2,
       "version_minor": 0,
       "model_id": "72a21a3f274f4eec9afc6c4b97701ddb"
      }
     },
     "metadata": {},
     "output_type": "display_data"
    },
    {
     "name": "stdout",
     "output_type": "stream",
     "text": [
      "2021-11-13 16:46:08 | INFO | hw5.transformer | training loss: 3.4072\n",
      "2021-11-13 16:46:08 | INFO | hw5.transformer | begin validation\n"
     ]
    },
    {
     "data": {
      "text/plain": "HBox(children=(HTML(value='validation'), FloatProgress(value=0.0, max=22.0), HTML(value='')))",
      "application/vnd.jupyter.widget-view+json": {
       "version_major": 2,
       "version_minor": 0,
       "model_id": "e3160471faa54c59898970ecc7780ef6"
      }
     },
     "metadata": {},
     "output_type": "display_data"
    },
    {
     "name": "stdout",
     "output_type": "stream",
     "text": [
      "2021-11-13 16:46:29 | INFO | hw5.transformer | example source: that would be a beautiful thing .\n",
      "2021-11-13 16:46:29 | INFO | hw5.transformer | example hypothesis: 那會是一件美麗的事 。\n",
      "2021-11-13 16:46:29 | INFO | hw5.transformer | example reference: 那將會很美好\n",
      "2021-11-13 16:46:29 | INFO | hw5.transformer | validation loss:\t3.3877\n",
      "2021-11-13 16:46:29 | INFO | hw5.transformer | BLEU = 24.79 59.3/33.6/19.9/12.2 (BP = 0.940 ratio = 0.942 hyp_len = 105285 ref_len = 111811)\n",
      "2021-11-13 16:46:30 | INFO | hw5.transformer | saved epoch checkpoint: /home/wy/ML_study/chapter5/checkpoints/rnn/_transformer_checkpoint169.pt\n",
      "2021-11-13 16:46:30 | INFO | hw5.transformer | end of epoch 169\n"
     ]
    },
    {
     "data": {
      "text/plain": "HBox(children=(HTML(value='train epoch 170'), FloatProgress(value=0.0, max=791.0), HTML(value='')))",
      "application/vnd.jupyter.widget-view+json": {
       "version_major": 2,
       "version_minor": 0,
       "model_id": "9c65bd6f470f4f2cb787377c13652def"
      }
     },
     "metadata": {},
     "output_type": "display_data"
    },
    {
     "name": "stdout",
     "output_type": "stream",
     "text": [
      "2021-11-13 16:48:47 | INFO | hw5.transformer | training loss: 3.4074\n",
      "2021-11-13 16:48:47 | INFO | hw5.transformer | begin validation\n"
     ]
    },
    {
     "data": {
      "text/plain": "HBox(children=(HTML(value='validation'), FloatProgress(value=0.0, max=22.0), HTML(value='')))",
      "application/vnd.jupyter.widget-view+json": {
       "version_major": 2,
       "version_minor": 0,
       "model_id": "eca1496c77c44f5ea876b304fadcf7e8"
      }
     },
     "metadata": {},
     "output_type": "display_data"
    },
    {
     "name": "stdout",
     "output_type": "stream",
     "text": [
      "2021-11-13 16:49:07 | INFO | hw5.transformer | example source: i want to tell you how 20 , 000 remarkable young people from over 100 countries ended up in cuba and are transforming health in their communities .\n",
      "2021-11-13 16:49:07 | INFO | hw5.transformer | example hypothesis: 我想告訴各位 , 超過100個國家 , 有兩萬名出色的年輕人是如何在古巴 , 並在他們的社區改變健康 。\n",
      "2021-11-13 16:49:07 | INFO | hw5.transformer | example reference: 我要告訴大家 , 為什麼2萬個傑出的年輕人 , 來自100多個國家 , 當初會選擇去古巴 , 而現在正在改善他們的社區衛生 。\n",
      "2021-11-13 16:49:07 | INFO | hw5.transformer | validation loss:\t3.3913\n",
      "2021-11-13 16:49:07 | INFO | hw5.transformer | BLEU = 24.38 59.6/33.6/19.8/12.2 (BP = 0.923 ratio = 0.926 hyp_len = 103567 ref_len = 111811)\n",
      "2021-11-13 16:49:07 | INFO | hw5.transformer | saved epoch checkpoint: /home/wy/ML_study/chapter5/checkpoints/rnn/_transformer_checkpoint170.pt\n",
      "2021-11-13 16:49:07 | INFO | hw5.transformer | end of epoch 170\n"
     ]
    },
    {
     "data": {
      "text/plain": "HBox(children=(HTML(value='train epoch 171'), FloatProgress(value=0.0, max=791.0), HTML(value='')))",
      "application/vnd.jupyter.widget-view+json": {
       "version_major": 2,
       "version_minor": 0,
       "model_id": "56f79a7aedbe4eab896d9ac5922af302"
      }
     },
     "metadata": {},
     "output_type": "display_data"
    },
    {
     "name": "stdout",
     "output_type": "stream",
     "text": [
      "2021-11-13 16:51:25 | INFO | hw5.transformer | training loss: 3.4053\n",
      "2021-11-13 16:51:25 | INFO | hw5.transformer | begin validation\n"
     ]
    },
    {
     "data": {
      "text/plain": "HBox(children=(HTML(value='validation'), FloatProgress(value=0.0, max=22.0), HTML(value='')))",
      "application/vnd.jupyter.widget-view+json": {
       "version_major": 2,
       "version_minor": 0,
       "model_id": "2ac6691688734689966bdd3fe6ad876f"
      }
     },
     "metadata": {},
     "output_type": "display_data"
    },
    {
     "name": "stdout",
     "output_type": "stream",
     "text": [
      "2021-11-13 16:51:44 | INFO | hw5.transformer | example source: what is unique about this demographic dividend is that india will be the only country in the world to have this demographic dividend .\n",
      "2021-11-13 16:51:44 | INFO | hw5.transformer | example hypothesis: 這個人口分裂的獨特之處在於印度將會是世界上唯一擁有人口分裂的國家 。\n",
      "2021-11-13 16:51:44 | INFO | hw5.transformer | example reference: 印度是世界上唯一能夠因為人口增加 , 而享有好處的國家 。\n",
      "2021-11-13 16:51:44 | INFO | hw5.transformer | validation loss:\t3.3908\n",
      "2021-11-13 16:51:44 | INFO | hw5.transformer | BLEU = 24.44 59.5/33.7/19.8/12.1 (BP = 0.928 ratio = 0.930 hyp_len = 104016 ref_len = 111811)\n",
      "2021-11-13 16:51:45 | INFO | hw5.transformer | saved epoch checkpoint: /home/wy/ML_study/chapter5/checkpoints/rnn/_transformer_checkpoint171.pt\n",
      "2021-11-13 16:51:45 | INFO | hw5.transformer | end of epoch 171\n"
     ]
    },
    {
     "data": {
      "text/plain": "HBox(children=(HTML(value='train epoch 172'), FloatProgress(value=0.0, max=791.0), HTML(value='')))",
      "application/vnd.jupyter.widget-view+json": {
       "version_major": 2,
       "version_minor": 0,
       "model_id": "8d455bef0ad0491b99186e26787ab68f"
      }
     },
     "metadata": {},
     "output_type": "display_data"
    },
    {
     "name": "stdout",
     "output_type": "stream",
     "text": [
      "2021-11-13 16:54:01 | INFO | hw5.transformer | training loss: 3.4051\n",
      "2021-11-13 16:54:01 | INFO | hw5.transformer | begin validation\n"
     ]
    },
    {
     "data": {
      "text/plain": "HBox(children=(HTML(value='validation'), FloatProgress(value=0.0, max=22.0), HTML(value='')))",
      "application/vnd.jupyter.widget-view+json": {
       "version_major": 2,
       "version_minor": 0,
       "model_id": "2786dc346a824984aca75ac7ee5b6430"
      }
     },
     "metadata": {},
     "output_type": "display_data"
    },
    {
     "name": "stdout",
     "output_type": "stream",
     "text": [
      "2021-11-13 16:54:21 | INFO | hw5.transformer | example source: people who don't have neighbors of a different race are about twice as likely to oppose interracial marriage as people who do .\n",
      "2021-11-13 16:54:21 | INFO | hw5.transformer | example hypothesis: 那些沒有不同的種族的鄰居 , 大約是兩倍以上的可能性 , 來對抗國際間的婚姻 。\n",
      "2021-11-13 16:54:21 | INFO | hw5.transformer | example reference: 來自單一種族社區的民眾對這問題的支持率是另一組的兩倍反對異族通婚\n",
      "2021-11-13 16:54:21 | INFO | hw5.transformer | validation loss:\t3.3853\n",
      "2021-11-13 16:54:21 | INFO | hw5.transformer | BLEU = 24.72 59.3/33.6/19.8/12.3 (BP = 0.937 ratio = 0.939 hyp_len = 104954 ref_len = 111811)\n",
      "2021-11-13 16:54:21 | INFO | hw5.transformer | saved epoch checkpoint: /home/wy/ML_study/chapter5/checkpoints/rnn/_transformer_checkpoint172.pt\n",
      "2021-11-13 16:54:21 | INFO | hw5.transformer | end of epoch 172\n"
     ]
    },
    {
     "data": {
      "text/plain": "HBox(children=(HTML(value='train epoch 173'), FloatProgress(value=0.0, max=791.0), HTML(value='')))",
      "application/vnd.jupyter.widget-view+json": {
       "version_major": 2,
       "version_minor": 0,
       "model_id": "664b7510f0dc40d2b758a35294028c26"
      }
     },
     "metadata": {},
     "output_type": "display_data"
    },
    {
     "name": "stdout",
     "output_type": "stream",
     "text": [
      "2021-11-13 16:56:45 | INFO | hw5.transformer | training loss: 3.4055\n",
      "2021-11-13 16:56:45 | INFO | hw5.transformer | begin validation\n"
     ]
    },
    {
     "data": {
      "text/plain": "HBox(children=(HTML(value='validation'), FloatProgress(value=0.0, max=22.0), HTML(value='')))",
      "application/vnd.jupyter.widget-view+json": {
       "version_major": 2,
       "version_minor": 0,
       "model_id": "bfd655ec927c498daa1ff475a007e9cd"
      }
     },
     "metadata": {},
     "output_type": "display_data"
    },
    {
     "name": "stdout",
     "output_type": "stream",
     "text": [
      "2021-11-13 16:57:07 | INFO | hw5.transformer | example source: so all the evidence is that when women actually have the chance to serve , they make a huge difference and they get the job done .\n",
      "2021-11-13 16:57:07 | INFO | hw5.transformer | example hypothesis: 所以 , 所有證據顯示 , 當女性有機會服務時 , 他們就會造成很大的差異 , 她們就會完成工作 。\n",
      "2021-11-13 16:57:07 | INFO | hw5.transformer | example reference: 所有的證據都顯示 , 當女性有機會可以服務時 , 她們造成很大的不同 , 而且她們把事情辦好 。\n",
      "2021-11-13 16:57:07 | INFO | hw5.transformer | validation loss:\t3.3968\n",
      "2021-11-13 16:57:07 | INFO | hw5.transformer | BLEU = 24.86 58.9/33.3/19.7/12.2 (BP = 0.949 ratio = 0.950 hyp_len = 106206 ref_len = 111811)\n",
      "2021-11-13 16:57:08 | INFO | hw5.transformer | saved epoch checkpoint: /home/wy/ML_study/chapter5/checkpoints/rnn/_transformer_checkpoint173.pt\n",
      "2021-11-13 16:57:08 | INFO | hw5.transformer | end of epoch 173\n"
     ]
    },
    {
     "data": {
      "text/plain": "HBox(children=(HTML(value='train epoch 174'), FloatProgress(value=0.0, max=791.0), HTML(value='')))",
      "application/vnd.jupyter.widget-view+json": {
       "version_major": 2,
       "version_minor": 0,
       "model_id": "44ecfb2278b042a4b6ac6a5a7af44e2f"
      }
     },
     "metadata": {},
     "output_type": "display_data"
    },
    {
     "name": "stdout",
     "output_type": "stream",
     "text": [
      "2021-11-13 16:59:31 | INFO | hw5.transformer | training loss: 3.4063\n",
      "2021-11-13 16:59:31 | INFO | hw5.transformer | begin validation\n"
     ]
    },
    {
     "data": {
      "text/plain": "HBox(children=(HTML(value='validation'), FloatProgress(value=0.0, max=22.0), HTML(value='')))",
      "application/vnd.jupyter.widget-view+json": {
       "version_major": 2,
       "version_minor": 0,
       "model_id": "edf4eeacdd434f65844e48b0a5349277"
      }
     },
     "metadata": {},
     "output_type": "display_data"
    },
    {
     "name": "stdout",
     "output_type": "stream",
     "text": [
      "2021-11-13 16:59:53 | INFO | hw5.transformer | example source: in the next scene , walle comes back to life .\n",
      "2021-11-13 16:59:53 | INFO | hw5.transformer | example hypothesis: 接下來的情況是 , 牆壁回到生命中 。\n",
      "2021-11-13 16:59:53 | INFO | hw5.transformer | example reference: 在下一個場景裡 , 瓦力重新活了過來 。\n",
      "2021-11-13 16:59:53 | INFO | hw5.transformer | validation loss:\t3.3855\n",
      "2021-11-13 16:59:53 | INFO | hw5.transformer | BLEU = 24.69 59.1/33.5/19.8/12.2 (BP = 0.939 ratio = 0.941 hyp_len = 105166 ref_len = 111811)\n",
      "2021-11-13 16:59:53 | INFO | hw5.transformer | saved epoch checkpoint: /home/wy/ML_study/chapter5/checkpoints/rnn/_transformer_checkpoint174.pt\n",
      "2021-11-13 16:59:53 | INFO | hw5.transformer | end of epoch 174\n"
     ]
    },
    {
     "data": {
      "text/plain": "HBox(children=(HTML(value='train epoch 175'), FloatProgress(value=0.0, max=791.0), HTML(value='')))",
      "application/vnd.jupyter.widget-view+json": {
       "version_major": 2,
       "version_minor": 0,
       "model_id": "5ae79437e09e4844abced665238086f1"
      }
     },
     "metadata": {},
     "output_type": "display_data"
    },
    {
     "name": "stdout",
     "output_type": "stream",
     "text": [
      "2021-11-13 17:02:17 | INFO | hw5.transformer | training loss: 3.4031\n",
      "2021-11-13 17:02:17 | INFO | hw5.transformer | begin validation\n"
     ]
    },
    {
     "data": {
      "text/plain": "HBox(children=(HTML(value='validation'), FloatProgress(value=0.0, max=22.0), HTML(value='')))",
      "application/vnd.jupyter.widget-view+json": {
       "version_major": 2,
       "version_minor": 0,
       "model_id": "1b455f2fbcdc487581a2290ddba03148"
      }
     },
     "metadata": {},
     "output_type": "display_data"
    },
    {
     "name": "stdout",
     "output_type": "stream",
     "text": [
      "2021-11-13 17:02:38 | INFO | hw5.transformer | example source: i'm kidding .\n",
      "2021-11-13 17:02:38 | INFO | hw5.transformer | example hypothesis: 我開玩笑 。\n",
      "2021-11-13 17:02:38 | INFO | hw5.transformer | example reference: 我是在開玩笑 。\n",
      "2021-11-13 17:02:38 | INFO | hw5.transformer | validation loss:\t3.3853\n",
      "2021-11-13 17:02:38 | INFO | hw5.transformer | BLEU = 24.64 59.6/33.8/20.0/12.3 (BP = 0.928 ratio = 0.931 hyp_len = 104071 ref_len = 111811)\n",
      "2021-11-13 17:02:38 | INFO | hw5.transformer | saved epoch checkpoint: /home/wy/ML_study/chapter5/checkpoints/rnn/_transformer_checkpoint175.pt\n",
      "2021-11-13 17:02:38 | INFO | hw5.transformer | end of epoch 175\n"
     ]
    },
    {
     "data": {
      "text/plain": "HBox(children=(HTML(value='train epoch 176'), FloatProgress(value=0.0, max=791.0), HTML(value='')))",
      "application/vnd.jupyter.widget-view+json": {
       "version_major": 2,
       "version_minor": 0,
       "model_id": "4b92f56afaec42519dd61761f194b839"
      }
     },
     "metadata": {},
     "output_type": "display_data"
    },
    {
     "name": "stdout",
     "output_type": "stream",
     "text": [
      "2021-11-13 17:05:08 | INFO | hw5.transformer | training loss: 3.4046\n",
      "2021-11-13 17:05:08 | INFO | hw5.transformer | begin validation\n"
     ]
    },
    {
     "data": {
      "text/plain": "HBox(children=(HTML(value='validation'), FloatProgress(value=0.0, max=22.0), HTML(value='')))",
      "application/vnd.jupyter.widget-view+json": {
       "version_major": 2,
       "version_minor": 0,
       "model_id": "6434acd2e4ea4e64bb77d8bf40002b8e"
      }
     },
     "metadata": {},
     "output_type": "display_data"
    },
    {
     "name": "stdout",
     "output_type": "stream",
     "text": [
      "2021-11-13 17:05:32 | INFO | hw5.transformer | example source: you're taking a medication , one new medication or two , and you get a funny feeling .\n",
      "2021-11-13 17:05:32 | INFO | hw5.transformer | example hypothesis: 你正在服藥 , 一種新藥 , 兩種 , 感覺很有趣 。\n",
      "2021-11-13 17:05:32 | INFO | hw5.transformer | example reference: 你服用了一種藥 , 一個或兩個新藥 , 然後你感覺怪怪的 。\n",
      "2021-11-13 17:05:32 | INFO | hw5.transformer | validation loss:\t3.3867\n",
      "2021-11-13 17:05:32 | INFO | hw5.transformer | BLEU = 24.72 58.7/33.1/19.5/12.0 (BP = 0.951 ratio = 0.953 hyp_len = 106505 ref_len = 111811)\n",
      "2021-11-13 17:05:32 | INFO | hw5.transformer | saved epoch checkpoint: /home/wy/ML_study/chapter5/checkpoints/rnn/_transformer_checkpoint176.pt\n",
      "2021-11-13 17:05:32 | INFO | hw5.transformer | end of epoch 176\n"
     ]
    },
    {
     "data": {
      "text/plain": "HBox(children=(HTML(value='train epoch 177'), FloatProgress(value=0.0, max=791.0), HTML(value='')))",
      "application/vnd.jupyter.widget-view+json": {
       "version_major": 2,
       "version_minor": 0,
       "model_id": "239b2c6be2594fada015e544c60bd596"
      }
     },
     "metadata": {},
     "output_type": "display_data"
    },
    {
     "name": "stdout",
     "output_type": "stream",
     "text": [
      "2021-11-13 17:07:55 | INFO | hw5.transformer | training loss: 3.4047\n",
      "2021-11-13 17:07:55 | INFO | hw5.transformer | begin validation\n"
     ]
    },
    {
     "data": {
      "text/plain": "HBox(children=(HTML(value='validation'), FloatProgress(value=0.0, max=22.0), HTML(value='')))",
      "application/vnd.jupyter.widget-view+json": {
       "version_major": 2,
       "version_minor": 0,
       "model_id": "5a24b71988074ada8c4c7cd873edf9fc"
      }
     },
     "metadata": {},
     "output_type": "display_data"
    },
    {
     "name": "stdout",
     "output_type": "stream",
     "text": [
      "2021-11-13 17:08:16 | INFO | hw5.transformer | example source: so netra was stuck with 30 paintings of mine .\n",
      "2021-11-13 17:08:16 | INFO | hw5.transformer | example hypothesis: 所以netra困在我的30幅畫中 。\n",
      "2021-11-13 17:08:16 | INFO | hw5.transformer | example reference: netra就這樣囤積了三十幅我的畫作 。\n",
      "2021-11-13 17:08:16 | INFO | hw5.transformer | validation loss:\t3.3851\n",
      "2021-11-13 17:08:16 | INFO | hw5.transformer | BLEU = 24.48 59.7/33.9/20.1/12.4 (BP = 0.919 ratio = 0.922 hyp_len = 103069 ref_len = 111811)\n",
      "2021-11-13 17:08:17 | INFO | hw5.transformer | saved epoch checkpoint: /home/wy/ML_study/chapter5/checkpoints/rnn/_transformer_checkpoint177.pt\n",
      "2021-11-13 17:08:17 | INFO | hw5.transformer | end of epoch 177\n"
     ]
    },
    {
     "data": {
      "text/plain": "HBox(children=(HTML(value='train epoch 178'), FloatProgress(value=0.0, max=791.0), HTML(value='')))",
      "application/vnd.jupyter.widget-view+json": {
       "version_major": 2,
       "version_minor": 0,
       "model_id": "570c712b3ce84d918818f868596062bf"
      }
     },
     "metadata": {},
     "output_type": "display_data"
    },
    {
     "name": "stdout",
     "output_type": "stream",
     "text": [
      "2021-11-13 17:10:41 | INFO | hw5.transformer | training loss: 3.4026\n",
      "2021-11-13 17:10:41 | INFO | hw5.transformer | begin validation\n"
     ]
    },
    {
     "data": {
      "text/plain": "HBox(children=(HTML(value='validation'), FloatProgress(value=0.0, max=22.0), HTML(value='')))",
      "application/vnd.jupyter.widget-view+json": {
       "version_major": 2,
       "version_minor": 0,
       "model_id": "66190ab725ea4a9e9b8ca249d418118a"
      }
     },
     "metadata": {},
     "output_type": "display_data"
    },
    {
     "name": "stdout",
     "output_type": "stream",
     "text": [
      "2021-11-13 17:11:02 | INFO | hw5.transformer | example source: the sargasso sea , for example , is not a sea bounded by coastlines , but it is bounded by oceanic currents that contain and envelope this wealth of sargassum that grows and aggregates there .\n",
      "2021-11-13 17:11:02 | INFO | hw5.transformer | example hypothesis: 舉例來說 , 北極海不是沿岸線的海域 , 而是海洋目前包含並包含的海域 , 包含著這些沙星藻的富含量 , 在那裡成長和聚集在一起 。\n",
      "2021-11-13 17:11:02 | INFO | hw5.transformer | example reference: 例如 , 馬尾藻海域這不是一個被海岸線包圍的海域而是被洋流所環繞這些洋流帶來了海藻所需要的養分這些養分讓這裡的海藻十分旺盛地繁衍和聚集\n",
      "2021-11-13 17:11:02 | INFO | hw5.transformer | validation loss:\t3.3947\n",
      "2021-11-13 17:11:02 | INFO | hw5.transformer | BLEU = 24.28 60.0/34.0/20.1/12.4 (BP = 0.909 ratio = 0.913 hyp_len = 102069 ref_len = 111811)\n",
      "2021-11-13 17:11:03 | INFO | hw5.transformer | saved epoch checkpoint: /home/wy/ML_study/chapter5/checkpoints/rnn/_transformer_checkpoint178.pt\n",
      "2021-11-13 17:11:03 | INFO | hw5.transformer | end of epoch 178\n"
     ]
    },
    {
     "data": {
      "text/plain": "HBox(children=(HTML(value='train epoch 179'), FloatProgress(value=0.0, max=791.0), HTML(value='')))",
      "application/vnd.jupyter.widget-view+json": {
       "version_major": 2,
       "version_minor": 0,
       "model_id": "ae511014547d45b0a0df08b24c432e8e"
      }
     },
     "metadata": {},
     "output_type": "display_data"
    },
    {
     "name": "stdout",
     "output_type": "stream",
     "text": [
      "2021-11-13 17:13:26 | INFO | hw5.transformer | training loss: 3.4043\n",
      "2021-11-13 17:13:26 | INFO | hw5.transformer | begin validation\n"
     ]
    },
    {
     "data": {
      "text/plain": "HBox(children=(HTML(value='validation'), FloatProgress(value=0.0, max=22.0), HTML(value='')))",
      "application/vnd.jupyter.widget-view+json": {
       "version_major": 2,
       "version_minor": 0,
       "model_id": "bb1f17fd4f964dd6af2d725d4fa7b4e1"
      }
     },
     "metadata": {},
     "output_type": "display_data"
    },
    {
     "name": "stdout",
     "output_type": "stream",
     "text": [
      "2021-11-13 17:13:47 | INFO | hw5.transformer | example source: why you and i are alike , why the iraqis and the japanese and the australian aborigines and the people of the amazon river are all alike .\n",
      "2021-11-13 17:13:47 | INFO | hw5.transformer | example hypothesis: 為什麼你和我一樣 , 為什麼伊拉克、日本、澳洲原住民 , 以及亞馬遜河的人都很像 。\n",
      "2021-11-13 17:13:47 | INFO | hw5.transformer | example reference: 為何你我相像 , 為何伊拉克人、日本人、澳洲原住民和亞馬遜河居民 , 我們全都很相像 ?\n",
      "2021-11-13 17:13:47 | INFO | hw5.transformer | validation loss:\t3.3926\n",
      "2021-11-13 17:13:47 | INFO | hw5.transformer | BLEU = 24.29 60.1/34.1/20.1/12.5 (BP = 0.907 ratio = 0.911 hyp_len = 101825 ref_len = 111811)\n",
      "2021-11-13 17:13:47 | INFO | hw5.transformer | saved epoch checkpoint: /home/wy/ML_study/chapter5/checkpoints/rnn/_transformer_checkpoint179.pt\n",
      "2021-11-13 17:13:47 | INFO | hw5.transformer | end of epoch 179\n"
     ]
    },
    {
     "data": {
      "text/plain": "HBox(children=(HTML(value='train epoch 180'), FloatProgress(value=0.0, max=791.0), HTML(value='')))",
      "application/vnd.jupyter.widget-view+json": {
       "version_major": 2,
       "version_minor": 0,
       "model_id": "548213086e1440f9875603f5649d592f"
      }
     },
     "metadata": {},
     "output_type": "display_data"
    },
    {
     "name": "stdout",
     "output_type": "stream",
     "text": [
      "2021-11-13 17:16:11 | INFO | hw5.transformer | training loss: 3.4042\n",
      "2021-11-13 17:16:11 | INFO | hw5.transformer | begin validation\n"
     ]
    },
    {
     "data": {
      "text/plain": "HBox(children=(HTML(value='validation'), FloatProgress(value=0.0, max=22.0), HTML(value='')))",
      "application/vnd.jupyter.widget-view+json": {
       "version_major": 2,
       "version_minor": 0,
       "model_id": "3c23e84ef2ed4321b92d4e6da500d855"
      }
     },
     "metadata": {},
     "output_type": "display_data"
    },
    {
     "name": "stdout",
     "output_type": "stream",
     "text": [
      "2021-11-13 17:16:32 | INFO | hw5.transformer | example source: make it bigger .\n",
      "2021-11-13 17:16:32 | INFO | hw5.transformer | example hypothesis: 讓它變大 。\n",
      "2021-11-13 17:16:32 | INFO | hw5.transformer | example reference: 壯大隊伍 ,\n",
      "2021-11-13 17:16:32 | INFO | hw5.transformer | validation loss:\t3.3943\n",
      "2021-11-13 17:16:32 | INFO | hw5.transformer | BLEU = 24.31 59.9/33.9/20.0/12.3 (BP = 0.914 ratio = 0.917 hyp_len = 102568 ref_len = 111811)\n",
      "2021-11-13 17:16:32 | INFO | hw5.transformer | saved epoch checkpoint: /home/wy/ML_study/chapter5/checkpoints/rnn/_transformer_checkpoint180.pt\n",
      "2021-11-13 17:16:32 | INFO | hw5.transformer | end of epoch 180\n"
     ]
    },
    {
     "data": {
      "text/plain": "HBox(children=(HTML(value='train epoch 181'), FloatProgress(value=0.0, max=791.0), HTML(value='')))",
      "application/vnd.jupyter.widget-view+json": {
       "version_major": 2,
       "version_minor": 0,
       "model_id": "b2e7c148aba04df5b19f237008b69b1b"
      }
     },
     "metadata": {},
     "output_type": "display_data"
    },
    {
     "name": "stdout",
     "output_type": "stream",
     "text": [
      "2021-11-13 17:18:57 | INFO | hw5.transformer | training loss: 3.4039\n",
      "2021-11-13 17:18:57 | INFO | hw5.transformer | begin validation\n"
     ]
    },
    {
     "data": {
      "text/plain": "HBox(children=(HTML(value='validation'), FloatProgress(value=0.0, max=22.0), HTML(value='')))",
      "application/vnd.jupyter.widget-view+json": {
       "version_major": 2,
       "version_minor": 0,
       "model_id": "86f90699c6c74de58b785cda6d78904a"
      }
     },
     "metadata": {},
     "output_type": "display_data"
    },
    {
     "name": "stdout",
     "output_type": "stream",
     "text": [
      "2021-11-13 17:19:18 | INFO | hw5.transformer | example source: so now , we've held x and w fixed to solve for y ; that's everyday , fast perception .\n",
      "2021-11-13 17:19:18 | INFO | hw5.transformer | example hypothesis: 所以現在 , 我們有x和w固定來解決y ; 那是日常、快速的感知 。\n",
      "2021-11-13 17:19:18 | INFO | hw5.transformer | example reference: 所以現在 , 我們的x和w是固定數 , 可以解出y ; 這就是我們人類每天經常性的快速直覺判斷 。\n",
      "2021-11-13 17:19:18 | INFO | hw5.transformer | validation loss:\t3.3981\n",
      "2021-11-13 17:19:18 | INFO | hw5.transformer | BLEU = 24.70 59.8/34.0/20.2/12.5 (BP = 0.923 ratio = 0.926 hyp_len = 103498 ref_len = 111811)\n",
      "2021-11-13 17:19:18 | INFO | hw5.transformer | saved epoch checkpoint: /home/wy/ML_study/chapter5/checkpoints/rnn/_transformer_checkpoint181.pt\n",
      "2021-11-13 17:19:18 | INFO | hw5.transformer | end of epoch 181\n"
     ]
    },
    {
     "data": {
      "text/plain": "HBox(children=(HTML(value='train epoch 182'), FloatProgress(value=0.0, max=791.0), HTML(value='')))",
      "application/vnd.jupyter.widget-view+json": {
       "version_major": 2,
       "version_minor": 0,
       "model_id": "caafd676596a49ad93bf7410f062e244"
      }
     },
     "metadata": {},
     "output_type": "display_data"
    },
    {
     "name": "stdout",
     "output_type": "stream",
     "text": [
      "2021-11-13 17:21:43 | INFO | hw5.transformer | training loss: 3.4046\n",
      "2021-11-13 17:21:43 | INFO | hw5.transformer | begin validation\n"
     ]
    },
    {
     "data": {
      "text/plain": "HBox(children=(HTML(value='validation'), FloatProgress(value=0.0, max=22.0), HTML(value='')))",
      "application/vnd.jupyter.widget-view+json": {
       "version_major": 2,
       "version_minor": 0,
       "model_id": "c0a8f09b8d354e17938e14d4ba0d0c5a"
      }
     },
     "metadata": {},
     "output_type": "display_data"
    },
    {
     "name": "stdout",
     "output_type": "stream",
     "text": [
      "2021-11-13 17:22:04 | INFO | hw5.transformer | example source: rather than thinking , \" i'm right , \" i started to ask myself , \" how do i know i'm right ? \"\n",
      "2021-11-13 17:22:04 | INFO | hw5.transformer | example hypothesis: 我不是在想: 「 我沒錯 , 」 我開始問自己: 「 我怎麼知道我是對的 ? 」\n",
      "2021-11-13 17:22:04 | INFO | hw5.transformer | example reference: 我開始問我自己 「 我怎麼確定我是對的 ? 」 而不是認為 「 我是對的 」\n",
      "2021-11-13 17:22:04 | INFO | hw5.transformer | validation loss:\t3.3882\n",
      "2021-11-13 17:22:04 | INFO | hw5.transformer | BLEU = 24.34 59.7/33.8/19.9/12.3 (BP = 0.918 ratio = 0.922 hyp_len = 103048 ref_len = 111811)\n",
      "2021-11-13 17:22:04 | INFO | hw5.transformer | saved epoch checkpoint: /home/wy/ML_study/chapter5/checkpoints/rnn/_transformer_checkpoint182.pt\n",
      "2021-11-13 17:22:04 | INFO | hw5.transformer | end of epoch 182\n"
     ]
    },
    {
     "data": {
      "text/plain": "HBox(children=(HTML(value='train epoch 183'), FloatProgress(value=0.0, max=791.0), HTML(value='')))",
      "application/vnd.jupyter.widget-view+json": {
       "version_major": 2,
       "version_minor": 0,
       "model_id": "74d6df34a84945b09fecf348b8c0e5bc"
      }
     },
     "metadata": {},
     "output_type": "display_data"
    },
    {
     "name": "stdout",
     "output_type": "stream",
     "text": [
      "2021-11-13 17:24:28 | INFO | hw5.transformer | training loss: 3.4027\n",
      "2021-11-13 17:24:28 | INFO | hw5.transformer | begin validation\n"
     ]
    },
    {
     "data": {
      "text/plain": "HBox(children=(HTML(value='validation'), FloatProgress(value=0.0, max=22.0), HTML(value='')))",
      "application/vnd.jupyter.widget-view+json": {
       "version_major": 2,
       "version_minor": 0,
       "model_id": "90d04b899a164ff19f4dbcb26272b9cc"
      }
     },
     "metadata": {},
     "output_type": "display_data"
    },
    {
     "name": "stdout",
     "output_type": "stream",
     "text": [
      "2021-11-13 17:24:48 | INFO | hw5.transformer | example source: this brings back a skepticism that has gone away recently , that superweeds and superpests could spread around the world , from biotechnology , that literally could destroy the world's food supply in very short order .\n",
      "2021-11-13 17:24:48 | INFO | hw5.transformer | example hypothesis: 這就帶回了一種懷疑論 , 最近已經消失了 , 超能力和超級大師可以散播到世界各地 , 從生物科技中 , 真的可以用很短的順序摧毀世界糧食供應 。\n",
      "2021-11-13 17:24:48 | INFO | hw5.transformer | example reference: 而這又喚起了一個近來才淡去的懷疑論 , 即:生物科技將使超級雜草與超級害蟲遍及全世界 , 而那絕對會給全球食物供應帶來滅頂之災以迅雷不及掩耳之勢 。\n",
      "2021-11-13 17:24:48 | INFO | hw5.transformer | validation loss:\t3.3850\n",
      "2021-11-13 17:24:48 | INFO | hw5.transformer | BLEU = 24.55 59.6/33.8/20.0/12.3 (BP = 0.925 ratio = 0.927 hyp_len = 103693 ref_len = 111811)\n",
      "2021-11-13 17:24:48 | INFO | hw5.transformer | saved epoch checkpoint: /home/wy/ML_study/chapter5/checkpoints/rnn/_transformer_checkpoint183.pt\n",
      "2021-11-13 17:24:48 | INFO | hw5.transformer | end of epoch 183\n"
     ]
    },
    {
     "data": {
      "text/plain": "HBox(children=(HTML(value='train epoch 184'), FloatProgress(value=0.0, max=791.0), HTML(value='')))",
      "application/vnd.jupyter.widget-view+json": {
       "version_major": 2,
       "version_minor": 0,
       "model_id": "e1a16484b3904c0586a4e8914faf9c8e"
      }
     },
     "metadata": {},
     "output_type": "display_data"
    },
    {
     "name": "stdout",
     "output_type": "stream",
     "text": [
      "2021-11-13 17:27:13 | INFO | hw5.transformer | training loss: 3.4025\n",
      "2021-11-13 17:27:13 | INFO | hw5.transformer | begin validation\n"
     ]
    },
    {
     "data": {
      "text/plain": "HBox(children=(HTML(value='validation'), FloatProgress(value=0.0, max=22.0), HTML(value='')))",
      "application/vnd.jupyter.widget-view+json": {
       "version_major": 2,
       "version_minor": 0,
       "model_id": "6d41fe6343a248ebb332d55c2bb9c68c"
      }
     },
     "metadata": {},
     "output_type": "display_data"
    },
    {
     "name": "stdout",
     "output_type": "stream",
     "text": [
      "2021-11-13 17:27:34 | INFO | hw5.transformer | example source: there's no real , true balancing going on , and in a sense , the games they play to hide that actually obscure the topic so much that people don't see things that are actually pretty straightforward challenges .\n",
      "2021-11-13 17:27:34 | INFO | hw5.transformer | example hypothesis: 沒有真實的 , 真正的平衡正在發生 , 在某種意義上 , 他們玩的遊戲 , 來隱藏這個主題 , 太多人看不見的東西 , 其實是很直接的挑戰 。\n",
      "2021-11-13 17:27:34 | INFO | hw5.transformer | example reference: 他們根本沒有達成真正的平衡以某方面來說 , 他們在玩的把戲是隱藏赤字實際上更加模糊了問題所在讓別人無法發覺這就是目前非常直接的挑戰\n",
      "2021-11-13 17:27:34 | INFO | hw5.transformer | validation loss:\t3.3923\n",
      "2021-11-13 17:27:34 | INFO | hw5.transformer | BLEU = 24.73 59.0/33.3/19.7/12.1 (BP = 0.946 ratio = 0.947 hyp_len = 105888 ref_len = 111811)\n",
      "2021-11-13 17:27:34 | INFO | hw5.transformer | saved epoch checkpoint: /home/wy/ML_study/chapter5/checkpoints/rnn/_transformer_checkpoint184.pt\n",
      "2021-11-13 17:27:34 | INFO | hw5.transformer | end of epoch 184\n"
     ]
    },
    {
     "data": {
      "text/plain": "HBox(children=(HTML(value='train epoch 185'), FloatProgress(value=0.0, max=791.0), HTML(value='')))",
      "application/vnd.jupyter.widget-view+json": {
       "version_major": 2,
       "version_minor": 0,
       "model_id": "758213161b0c4a67becbcf2bbc78bf55"
      }
     },
     "metadata": {},
     "output_type": "display_data"
    },
    {
     "name": "stdout",
     "output_type": "stream",
     "text": [
      "2021-11-13 17:29:58 | INFO | hw5.transformer | training loss: 3.4011\n",
      "2021-11-13 17:29:58 | INFO | hw5.transformer | begin validation\n"
     ]
    },
    {
     "data": {
      "text/plain": "HBox(children=(HTML(value='validation'), FloatProgress(value=0.0, max=22.0), HTML(value='')))",
      "application/vnd.jupyter.widget-view+json": {
       "version_major": 2,
       "version_minor": 0,
       "model_id": "d5012e40bb4c499db2543c9664438bc6"
      }
     },
     "metadata": {},
     "output_type": "display_data"
    },
    {
     "name": "stdout",
     "output_type": "stream",
     "text": [
      "2021-11-13 17:30:21 | INFO | hw5.transformer | example source: and yet in effect , it is happening right now .\n",
      "2021-11-13 17:30:21 | INFO | hw5.transformer | example hypothesis: 但事實上 , 它現在正在發生 。\n",
      "2021-11-13 17:30:21 | INFO | hw5.transformer | example reference: 但 , 實際上 , 這種事正在發生 。\n",
      "2021-11-13 17:30:21 | INFO | hw5.transformer | validation loss:\t3.3871\n",
      "2021-11-13 17:30:21 | INFO | hw5.transformer | BLEU = 24.67 59.3/33.6/19.9/12.3 (BP = 0.933 ratio = 0.936 hyp_len = 104612 ref_len = 111811)\n",
      "2021-11-13 17:30:21 | INFO | hw5.transformer | saved epoch checkpoint: /home/wy/ML_study/chapter5/checkpoints/rnn/_transformer_checkpoint185.pt\n",
      "2021-11-13 17:30:21 | INFO | hw5.transformer | end of epoch 185\n"
     ]
    },
    {
     "data": {
      "text/plain": "HBox(children=(HTML(value='train epoch 186'), FloatProgress(value=0.0, max=791.0), HTML(value='')))",
      "application/vnd.jupyter.widget-view+json": {
       "version_major": 2,
       "version_minor": 0,
       "model_id": "295db1e923df447294466f3f837e3bf2"
      }
     },
     "metadata": {},
     "output_type": "display_data"
    },
    {
     "name": "stdout",
     "output_type": "stream",
     "text": [
      "2021-11-13 17:32:49 | INFO | hw5.transformer | training loss: 3.4035\n",
      "2021-11-13 17:32:49 | INFO | hw5.transformer | begin validation\n"
     ]
    },
    {
     "data": {
      "text/plain": "HBox(children=(HTML(value='validation'), FloatProgress(value=0.0, max=22.0), HTML(value='')))",
      "application/vnd.jupyter.widget-view+json": {
       "version_major": 2,
       "version_minor": 0,
       "model_id": "cba11c182fca4c29b20f12beb34e22f2"
      }
     },
     "metadata": {},
     "output_type": "display_data"
    },
    {
     "name": "stdout",
     "output_type": "stream",
     "text": [
      "2021-11-13 17:33:12 | INFO | hw5.transformer | example source: but to understand that , we have to step back a little bit .\n",
      "2021-11-13 17:33:12 | INFO | hw5.transformer | example hypothesis: 但要了解這一點 , 我們得要退一步 。\n",
      "2021-11-13 17:33:12 | INFO | hw5.transformer | example reference: 但要了解這點 , 我們必須後退一步 。\n",
      "2021-11-13 17:33:12 | INFO | hw5.transformer | validation loss:\t3.3833\n",
      "2021-11-13 17:33:12 | INFO | hw5.transformer | BLEU = 24.69 59.5/33.7/19.9/12.3 (BP = 0.932 ratio = 0.934 hyp_len = 104485 ref_len = 111811)\n",
      "2021-11-13 17:33:12 | INFO | hw5.transformer | saved epoch checkpoint: /home/wy/ML_study/chapter5/checkpoints/rnn/_transformer_checkpoint186.pt\n",
      "2021-11-13 17:33:13 | INFO | hw5.transformer | end of epoch 186\n"
     ]
    },
    {
     "data": {
      "text/plain": "HBox(children=(HTML(value='train epoch 187'), FloatProgress(value=0.0, max=791.0), HTML(value='')))",
      "application/vnd.jupyter.widget-view+json": {
       "version_major": 2,
       "version_minor": 0,
       "model_id": "0e6ed4b35ea84391be18cecd0c6158ff"
      }
     },
     "metadata": {},
     "output_type": "display_data"
    },
    {
     "name": "stdout",
     "output_type": "stream",
     "text": [
      "2021-11-13 17:35:36 | INFO | hw5.transformer | training loss: 3.4004\n",
      "2021-11-13 17:35:36 | INFO | hw5.transformer | begin validation\n"
     ]
    },
    {
     "data": {
      "text/plain": "HBox(children=(HTML(value='validation'), FloatProgress(value=0.0, max=22.0), HTML(value='')))",
      "application/vnd.jupyter.widget-view+json": {
       "version_major": 2,
       "version_minor": 0,
       "model_id": "e9f2b2f9f7c7487da5a0a2e947b945e6"
      }
     },
     "metadata": {},
     "output_type": "display_data"
    },
    {
     "name": "stdout",
     "output_type": "stream",
     "text": [
      "2021-11-13 17:35:58 | INFO | hw5.transformer | example source: and i remember sitting in the passenger seat as we drove in silence , crouched as low as i could go in my seat , for the first time in my life , afraid for anyone to know i was a muslim .\n",
      "2021-11-13 17:35:58 | INFO | hw5.transformer | example hypothesis: 我記得我坐在乘客座位上 , 當我們在沉默中開車時 , 盡可能地在座位上划船 , 第一次害怕任何人知道我是穆斯林 。\n",
      "2021-11-13 17:35:58 | INFO | hw5.transformer | example reference: 我記得坐在副駕駛座當時我們在車上沉默不語我盡可能縮進我的座位人生第一次 , 我害怕有人知道我是穆斯林\n",
      "2021-11-13 17:35:58 | INFO | hw5.transformer | validation loss:\t3.3850\n",
      "2021-11-13 17:35:58 | INFO | hw5.transformer | BLEU = 24.44 59.8/33.9/20.0/12.3 (BP = 0.920 ratio = 0.923 hyp_len = 103207 ref_len = 111811)\n",
      "2021-11-13 17:35:58 | INFO | hw5.transformer | saved epoch checkpoint: /home/wy/ML_study/chapter5/checkpoints/rnn/_transformer_checkpoint187.pt\n",
      "2021-11-13 17:35:58 | INFO | hw5.transformer | end of epoch 187\n"
     ]
    },
    {
     "data": {
      "text/plain": "HBox(children=(HTML(value='train epoch 188'), FloatProgress(value=0.0, max=791.0), HTML(value='')))",
      "application/vnd.jupyter.widget-view+json": {
       "version_major": 2,
       "version_minor": 0,
       "model_id": "bd71e3c13d2b420cb33375303ae3e6ef"
      }
     },
     "metadata": {},
     "output_type": "display_data"
    },
    {
     "name": "stdout",
     "output_type": "stream",
     "text": [
      "2021-11-13 17:38:22 | INFO | hw5.transformer | training loss: 3.4027\n",
      "2021-11-13 17:38:22 | INFO | hw5.transformer | begin validation\n"
     ]
    },
    {
     "data": {
      "text/plain": "HBox(children=(HTML(value='validation'), FloatProgress(value=0.0, max=22.0), HTML(value='')))",
      "application/vnd.jupyter.widget-view+json": {
       "version_major": 2,
       "version_minor": 0,
       "model_id": "591585c851bd4ebb9da91e2b624ba4c6"
      }
     },
     "metadata": {},
     "output_type": "display_data"
    },
    {
     "name": "stdout",
     "output_type": "stream",
     "text": [
      "2021-11-13 17:38:43 | INFO | hw5.transformer | example source: other people do all sorts of jobs to get by .\n",
      "2021-11-13 17:38:43 | INFO | hw5.transformer | example hypothesis: 其他人做各式各樣的工作 。\n",
      "2021-11-13 17:38:43 | INFO | hw5.transformer | example reference: 其他人做各種各樣的工作來維持生計 。\n",
      "2021-11-13 17:38:43 | INFO | hw5.transformer | validation loss:\t3.3827\n",
      "2021-11-13 17:38:43 | INFO | hw5.transformer | BLEU = 24.70 59.0/33.3/19.6/12.1 (BP = 0.945 ratio = 0.947 hyp_len = 105842 ref_len = 111811)\n",
      "2021-11-13 17:38:43 | INFO | hw5.transformer | saved epoch checkpoint: /home/wy/ML_study/chapter5/checkpoints/rnn/_transformer_checkpoint188.pt\n",
      "2021-11-13 17:38:43 | INFO | hw5.transformer | end of epoch 188\n"
     ]
    },
    {
     "data": {
      "text/plain": "HBox(children=(HTML(value='train epoch 189'), FloatProgress(value=0.0, max=791.0), HTML(value='')))",
      "application/vnd.jupyter.widget-view+json": {
       "version_major": 2,
       "version_minor": 0,
       "model_id": "891fb50108a249f599273266bbbb4f02"
      }
     },
     "metadata": {},
     "output_type": "display_data"
    },
    {
     "name": "stdout",
     "output_type": "stream",
     "text": [
      "2021-11-13 17:41:07 | INFO | hw5.transformer | training loss: 3.4011\n",
      "2021-11-13 17:41:07 | INFO | hw5.transformer | begin validation\n"
     ]
    },
    {
     "data": {
      "text/plain": "HBox(children=(HTML(value='validation'), FloatProgress(value=0.0, max=22.0), HTML(value='')))",
      "application/vnd.jupyter.widget-view+json": {
       "version_major": 2,
       "version_minor": 0,
       "model_id": "20b2eab035034b9ea757d6563fa5316a"
      }
     },
     "metadata": {},
     "output_type": "display_data"
    },
    {
     "name": "stdout",
     "output_type": "stream",
     "text": [
      "2021-11-13 17:41:28 | INFO | hw5.transformer | example source: receipts go down , some spending programs go up , but most of it is not because of that .\n",
      "2021-11-13 17:41:28 | INFO | hw5.transformer | example hypothesis: 收到的收入下降 , 有些花費計畫上升 , 但大部分都不是因為這樣 。\n",
      "2021-11-13 17:41:28 | INFO | hw5.transformer | example reference: 收入減少某些支出計畫增加但這不是大多數赤字的原因\n",
      "2021-11-13 17:41:28 | INFO | hw5.transformer | validation loss:\t3.3901\n",
      "2021-11-13 17:41:28 | INFO | hw5.transformer | BLEU = 24.65 59.7/33.8/20.1/12.5 (BP = 0.925 ratio = 0.928 hyp_len = 103749 ref_len = 111811)\n",
      "2021-11-13 17:41:28 | INFO | hw5.transformer | saved epoch checkpoint: /home/wy/ML_study/chapter5/checkpoints/rnn/_transformer_checkpoint189.pt\n",
      "2021-11-13 17:41:28 | INFO | hw5.transformer | end of epoch 189\n"
     ]
    },
    {
     "data": {
      "text/plain": "HBox(children=(HTML(value='train epoch 190'), FloatProgress(value=0.0, max=791.0), HTML(value='')))",
      "application/vnd.jupyter.widget-view+json": {
       "version_major": 2,
       "version_minor": 0,
       "model_id": "f2a231cdab7543bfbc3cfcf0b87c34bc"
      }
     },
     "metadata": {},
     "output_type": "display_data"
    },
    {
     "name": "stdout",
     "output_type": "stream",
     "text": [
      "2021-11-13 17:43:51 | INFO | hw5.transformer | training loss: 3.4011\n",
      "2021-11-13 17:43:51 | INFO | hw5.transformer | begin validation\n"
     ]
    },
    {
     "data": {
      "text/plain": "HBox(children=(HTML(value='validation'), FloatProgress(value=0.0, max=22.0), HTML(value='')))",
      "application/vnd.jupyter.widget-view+json": {
       "version_major": 2,
       "version_minor": 0,
       "model_id": "21dd8e71091947abb5ee0bd1e91f6dbf"
      }
     },
     "metadata": {},
     "output_type": "display_data"
    },
    {
     "name": "stdout",
     "output_type": "stream",
     "text": [
      "2021-11-13 17:44:13 | INFO | hw5.transformer | example source: imagine a patch that you wear on the skin that would detect in your sweat when you're infected with malaria and change color .\n",
      "2021-11-13 17:44:13 | INFO | hw5.transformer | example hypothesis: 想像一下 , 當你在皮膚上戴著一條貼片 , 當你感染瘧疾時 , 會偵測到的汗水 , 並改變顏色 。\n",
      "2021-11-13 17:44:13 | INFO | hw5.transformer | example reference: 想像一下貼在皮膚上的貼片可以偵測你的汗水當你感染了瘧疾貼片的顏色就會改變\n",
      "2021-11-13 17:44:13 | INFO | hw5.transformer | validation loss:\t3.3834\n",
      "2021-11-13 17:44:13 | INFO | hw5.transformer | BLEU = 24.76 59.2/33.5/19.8/12.3 (BP = 0.939 ratio = 0.941 hyp_len = 105160 ref_len = 111811)\n",
      "2021-11-13 17:44:13 | INFO | hw5.transformer | saved epoch checkpoint: /home/wy/ML_study/chapter5/checkpoints/rnn/_transformer_checkpoint190.pt\n",
      "2021-11-13 17:44:13 | INFO | hw5.transformer | end of epoch 190\n"
     ]
    },
    {
     "data": {
      "text/plain": "HBox(children=(HTML(value='train epoch 191'), FloatProgress(value=0.0, max=791.0), HTML(value='')))",
      "application/vnd.jupyter.widget-view+json": {
       "version_major": 2,
       "version_minor": 0,
       "model_id": "9fc004b5da914c21874f235bf523e5b2"
      }
     },
     "metadata": {},
     "output_type": "display_data"
    },
    {
     "name": "stdout",
     "output_type": "stream",
     "text": [
      "2021-11-13 17:46:37 | INFO | hw5.transformer | training loss: 3.4016\n",
      "2021-11-13 17:46:37 | INFO | hw5.transformer | begin validation\n"
     ]
    },
    {
     "data": {
      "text/plain": "HBox(children=(HTML(value='validation'), FloatProgress(value=0.0, max=22.0), HTML(value='')))",
      "application/vnd.jupyter.widget-view+json": {
       "version_major": 2,
       "version_minor": 0,
       "model_id": "d19e435c25444a3a9580d6795cf76180"
      }
     },
     "metadata": {},
     "output_type": "display_data"
    },
    {
     "name": "stdout",
     "output_type": "stream",
     "text": [
      "2021-11-13 17:46:58 | INFO | hw5.transformer | example source: second , we need to save our oldgrowth forests .\n",
      "2021-11-13 17:46:58 | INFO | hw5.transformer | example hypothesis: 第二 , 我們需要拯救老叢林 。\n",
      "2021-11-13 17:46:58 | INFO | hw5.transformer | example reference: 第二 , 我們需要拯救我們的老齡林 。\n",
      "2021-11-13 17:46:58 | INFO | hw5.transformer | validation loss:\t3.3842\n",
      "2021-11-13 17:46:58 | INFO | hw5.transformer | BLEU = 24.72 59.3/33.6/19.9/12.4 (BP = 0.934 ratio = 0.936 hyp_len = 104684 ref_len = 111811)\n",
      "2021-11-13 17:46:58 | INFO | hw5.transformer | saved epoch checkpoint: /home/wy/ML_study/chapter5/checkpoints/rnn/_transformer_checkpoint191.pt\n",
      "2021-11-13 17:46:58 | INFO | hw5.transformer | end of epoch 191\n"
     ]
    },
    {
     "data": {
      "text/plain": "HBox(children=(HTML(value='train epoch 192'), FloatProgress(value=0.0, max=791.0), HTML(value='')))",
      "application/vnd.jupyter.widget-view+json": {
       "version_major": 2,
       "version_minor": 0,
       "model_id": "145f06fbe01b40bb9116c9058dbb4b2d"
      }
     },
     "metadata": {},
     "output_type": "display_data"
    },
    {
     "name": "stdout",
     "output_type": "stream",
     "text": [
      "2021-11-13 17:49:21 | INFO | hw5.transformer | training loss: 3.4007\n",
      "2021-11-13 17:49:21 | INFO | hw5.transformer | begin validation\n"
     ]
    },
    {
     "data": {
      "text/plain": "HBox(children=(HTML(value='validation'), FloatProgress(value=0.0, max=22.0), HTML(value='')))",
      "application/vnd.jupyter.widget-view+json": {
       "version_major": 2,
       "version_minor": 0,
       "model_id": "1622d66d943248c0bef35a68308013db"
      }
     },
     "metadata": {},
     "output_type": "display_data"
    },
    {
     "name": "stdout",
     "output_type": "stream",
     "text": [
      "2021-11-13 17:49:42 | INFO | hw5.transformer | example source: and we can be angry at men with lower status in an expressive hierarchy that supports racism or xenophobia .\n",
      "2021-11-13 17:49:42 | INFO | hw5.transformer | example hypothesis: 我們可以對較低層次的男性生氣 , 來支持種族主義或xenopobia的種族歧視 。\n",
      "2021-11-13 17:49:42 | INFO | hw5.transformer | example reference: 我們能對那些社會階層低支持種族歧視和仇外的男性生氣 。\n",
      "2021-11-13 17:49:42 | INFO | hw5.transformer | validation loss:\t3.3889\n",
      "2021-11-13 17:49:42 | INFO | hw5.transformer | BLEU = 24.62 59.4/33.7/20.0/12.4 (BP = 0.928 ratio = 0.930 hyp_len = 104035 ref_len = 111811)\n",
      "2021-11-13 17:49:42 | INFO | hw5.transformer | saved epoch checkpoint: /home/wy/ML_study/chapter5/checkpoints/rnn/_transformer_checkpoint192.pt\n",
      "2021-11-13 17:49:42 | INFO | hw5.transformer | end of epoch 192\n"
     ]
    },
    {
     "data": {
      "text/plain": "HBox(children=(HTML(value='train epoch 193'), FloatProgress(value=0.0, max=791.0), HTML(value='')))",
      "application/vnd.jupyter.widget-view+json": {
       "version_major": 2,
       "version_minor": 0,
       "model_id": "43d44133fa9c4b829528b857cf1b95f8"
      }
     },
     "metadata": {},
     "output_type": "display_data"
    },
    {
     "name": "stdout",
     "output_type": "stream",
     "text": [
      "2021-11-13 17:52:04 | INFO | hw5.transformer | training loss: 3.3988\n",
      "2021-11-13 17:52:04 | INFO | hw5.transformer | begin validation\n"
     ]
    },
    {
     "data": {
      "text/plain": "HBox(children=(HTML(value='validation'), FloatProgress(value=0.0, max=22.0), HTML(value='')))",
      "application/vnd.jupyter.widget-view+json": {
       "version_major": 2,
       "version_minor": 0,
       "model_id": "9aa8575cc8be4568b79a9cd196b65c36"
      }
     },
     "metadata": {},
     "output_type": "display_data"
    },
    {
     "name": "stdout",
     "output_type": "stream",
     "text": [
      "2021-11-13 17:52:25 | INFO | hw5.transformer | example source: you can walk into a book store – right now ! – and buy at least ten books written by credentialed experts on how the hell you do it .\n",
      "2021-11-13 17:52:25 | INFO | hw5.transformer | example hypothesis: 你可以走進一家書店 , 現在 ! 至少有十本書是由信用專家寫的 。\n",
      "2021-11-13 17:52:25 | INFO | hw5.transformer | example reference: 你可以去一家書店--現在 ! --至少買十本資深專家寫的書 , 他們會告訴你怎麼做 。\n",
      "2021-11-13 17:52:25 | INFO | hw5.transformer | validation loss:\t3.3873\n",
      "2021-11-13 17:52:25 | INFO | hw5.transformer | BLEU = 24.68 59.5/33.7/20.0/12.4 (BP = 0.931 ratio = 0.933 hyp_len = 104325 ref_len = 111811)\n",
      "2021-11-13 17:52:25 | INFO | hw5.transformer | saved epoch checkpoint: /home/wy/ML_study/chapter5/checkpoints/rnn/_transformer_checkpoint193.pt\n",
      "2021-11-13 17:52:25 | INFO | hw5.transformer | end of epoch 193\n"
     ]
    },
    {
     "data": {
      "text/plain": "HBox(children=(HTML(value='train epoch 194'), FloatProgress(value=0.0, max=791.0), HTML(value='')))",
      "application/vnd.jupyter.widget-view+json": {
       "version_major": 2,
       "version_minor": 0,
       "model_id": "57f9df3447ca445995c09f40776232ae"
      }
     },
     "metadata": {},
     "output_type": "display_data"
    },
    {
     "name": "stdout",
     "output_type": "stream",
     "text": [
      "2021-11-13 17:54:49 | INFO | hw5.transformer | training loss: 3.3995\n",
      "2021-11-13 17:54:49 | INFO | hw5.transformer | begin validation\n"
     ]
    },
    {
     "data": {
      "text/plain": "HBox(children=(HTML(value='validation'), FloatProgress(value=0.0, max=22.0), HTML(value='')))",
      "application/vnd.jupyter.widget-view+json": {
       "version_major": 2,
       "version_minor": 0,
       "model_id": "42df38ebc1a54bb59f3824df898e1b2e"
      }
     },
     "metadata": {},
     "output_type": "display_data"
    },
    {
     "name": "stdout",
     "output_type": "stream",
     "text": [
      "2021-11-13 17:55:11 | INFO | hw5.transformer | example source: media business , or any other business , it needs to be capitalized .\n",
      "2021-11-13 17:55:11 | INFO | hw5.transformer | example hypothesis: 媒體生意 , 或任何其他企業 , 它都需要被資本化 。\n",
      "2021-11-13 17:55:11 | INFO | hw5.transformer | example reference: 媒體商業如其他商業一樣 , 都需要資本 。\n",
      "2021-11-13 17:55:11 | INFO | hw5.transformer | validation loss:\t3.3798\n",
      "2021-11-13 17:55:11 | INFO | hw5.transformer | BLEU = 24.78 58.9/33.3/19.7/12.2 (BP = 0.947 ratio = 0.948 hyp_len = 105985 ref_len = 111811)\n",
      "2021-11-13 17:55:11 | INFO | hw5.transformer | saved epoch checkpoint: /home/wy/ML_study/chapter5/checkpoints/rnn/_transformer_checkpoint194.pt\n",
      "2021-11-13 17:55:11 | INFO | hw5.transformer | end of epoch 194\n"
     ]
    },
    {
     "data": {
      "text/plain": "HBox(children=(HTML(value='train epoch 195'), FloatProgress(value=0.0, max=791.0), HTML(value='')))",
      "application/vnd.jupyter.widget-view+json": {
       "version_major": 2,
       "version_minor": 0,
       "model_id": "7095fe34f104476ba1912493d93bf7be"
      }
     },
     "metadata": {},
     "output_type": "display_data"
    },
    {
     "name": "stdout",
     "output_type": "stream",
     "text": [
      "2021-11-13 17:57:36 | INFO | hw5.transformer | training loss: 3.4001\n",
      "2021-11-13 17:57:36 | INFO | hw5.transformer | begin validation\n"
     ]
    },
    {
     "data": {
      "text/plain": "HBox(children=(HTML(value='validation'), FloatProgress(value=0.0, max=22.0), HTML(value='')))",
      "application/vnd.jupyter.widget-view+json": {
       "version_major": 2,
       "version_minor": 0,
       "model_id": "b8479882211743adb3fbf0abfdafa0b4"
      }
     },
     "metadata": {},
     "output_type": "display_data"
    },
    {
     "name": "stdout",
     "output_type": "stream",
     "text": [
      "2021-11-13 17:57:57 | INFO | hw5.transformer | example source: actually , these are really resilient ecosystems .\n",
      "2021-11-13 17:57:57 | INFO | hw5.transformer | example hypothesis: 事實上 , 這些真的是恢復力的生態系統 。\n",
      "2021-11-13 17:57:57 | INFO | hw5.transformer | example reference: 事實上 , 這些生態系統極具韌性 。\n",
      "2021-11-13 17:57:57 | INFO | hw5.transformer | validation loss:\t3.3803\n",
      "2021-11-13 17:57:57 | INFO | hw5.transformer | BLEU = 25.02 58.4/33.0/19.5/12.0 (BP = 0.965 ratio = 0.965 hyp_len = 107932 ref_len = 111811)\n",
      "2021-11-13 17:57:58 | INFO | hw5.transformer | saved epoch checkpoint: /home/wy/ML_study/chapter5/checkpoints/rnn/_transformer_checkpoint195.pt\n",
      "2021-11-13 17:57:58 | INFO | hw5.transformer | end of epoch 195\n"
     ]
    },
    {
     "data": {
      "text/plain": "HBox(children=(HTML(value='train epoch 196'), FloatProgress(value=0.0, max=791.0), HTML(value='')))",
      "application/vnd.jupyter.widget-view+json": {
       "version_major": 2,
       "version_minor": 0,
       "model_id": "8edb94521837477f93e95d0680fe2bf1"
      }
     },
     "metadata": {},
     "output_type": "display_data"
    },
    {
     "name": "stdout",
     "output_type": "stream",
     "text": [
      "2021-11-13 18:00:21 | INFO | hw5.transformer | training loss: 3.3993\n",
      "2021-11-13 18:00:21 | INFO | hw5.transformer | begin validation\n"
     ]
    },
    {
     "data": {
      "text/plain": "HBox(children=(HTML(value='validation'), FloatProgress(value=0.0, max=22.0), HTML(value='')))",
      "application/vnd.jupyter.widget-view+json": {
       "version_major": 2,
       "version_minor": 0,
       "model_id": "47152980976a4e289e6ec87ea5825ebe"
      }
     },
     "metadata": {},
     "output_type": "display_data"
    },
    {
     "name": "stdout",
     "output_type": "stream",
     "text": [
      "2021-11-13 18:00:43 | INFO | hw5.transformer | example source: and mister rogers is there to make a kind of classic debate case , a really bold proposal: an increase in federal funding for public broadcasting .\n",
      "2021-11-13 18:00:43 | INFO | hw5.transformer | example hypothesis: 羅傑斯誤解了一些經典的辯論案 , 一個很大膽的提議:聯邦政府的資金增加 。\n",
      "2021-11-13 18:00:43 | INFO | hw5.transformer | example reference: 羅傑斯去那裡是要進行一件經典的辯論案 , 一個非常大膽的提議:增加聯邦對於公共廣播提撥的資金 。\n",
      "2021-11-13 18:00:43 | INFO | hw5.transformer | validation loss:\t3.3882\n",
      "2021-11-13 18:00:43 | INFO | hw5.transformer | BLEU = 24.75 59.3/33.7/19.9/12.3 (BP = 0.935 ratio = 0.937 hyp_len = 104770 ref_len = 111811)\n",
      "2021-11-13 18:00:43 | INFO | hw5.transformer | saved epoch checkpoint: /home/wy/ML_study/chapter5/checkpoints/rnn/_transformer_checkpoint196.pt\n",
      "2021-11-13 18:00:43 | INFO | hw5.transformer | end of epoch 196\n"
     ]
    },
    {
     "data": {
      "text/plain": "HBox(children=(HTML(value='train epoch 197'), FloatProgress(value=0.0, max=791.0), HTML(value='')))",
      "application/vnd.jupyter.widget-view+json": {
       "version_major": 2,
       "version_minor": 0,
       "model_id": "ee039c43c18e433dbf66c468d8d28949"
      }
     },
     "metadata": {},
     "output_type": "display_data"
    },
    {
     "name": "stdout",
     "output_type": "stream",
     "text": [
      "2021-11-13 18:03:13 | INFO | hw5.transformer | training loss: 3.3984\n",
      "2021-11-13 18:03:13 | INFO | hw5.transformer | begin validation\n"
     ]
    },
    {
     "data": {
      "text/plain": "HBox(children=(HTML(value='validation'), FloatProgress(value=0.0, max=22.0), HTML(value='')))",
      "application/vnd.jupyter.widget-view+json": {
       "version_major": 2,
       "version_minor": 0,
       "model_id": "0789b92ba7f54abebfe846fe388ecfa7"
      }
     },
     "metadata": {},
     "output_type": "display_data"
    },
    {
     "name": "stdout",
     "output_type": "stream",
     "text": [
      "2021-11-13 18:03:37 | INFO | hw5.transformer | example source: so , if we have a pure wave , we can measure its wavelength , and thus its momentum , but it has no position .\n",
      "2021-11-13 18:03:37 | INFO | hw5.transformer | example hypothesis: 所以 , 如果我們有純波 , 我們可以測量它的波長 , 因此它的動量 , 但它沒有位置 。\n",
      "2021-11-13 18:03:37 | INFO | hw5.transformer | example reference: 如果我們有一個純粹的波就可以測量它的波長進而算出它的動量但是卻無法測出它的確實位置\n",
      "2021-11-13 18:03:37 | INFO | hw5.transformer | validation loss:\t3.3910\n",
      "2021-11-13 18:03:37 | INFO | hw5.transformer | BLEU = 24.73 59.5/33.8/20.0/12.4 (BP = 0.931 ratio = 0.934 hyp_len = 104382 ref_len = 111811)\n",
      "2021-11-13 18:03:37 | INFO | hw5.transformer | saved epoch checkpoint: /home/wy/ML_study/chapter5/checkpoints/rnn/_transformer_checkpoint197.pt\n",
      "2021-11-13 18:03:37 | INFO | hw5.transformer | end of epoch 197\n"
     ]
    },
    {
     "data": {
      "text/plain": "HBox(children=(HTML(value='train epoch 198'), FloatProgress(value=0.0, max=791.0), HTML(value='')))",
      "application/vnd.jupyter.widget-view+json": {
       "version_major": 2,
       "version_minor": 0,
       "model_id": "d34da0aa112f49059516cec24fd42ecd"
      }
     },
     "metadata": {},
     "output_type": "display_data"
    },
    {
     "name": "stdout",
     "output_type": "stream",
     "text": [
      "2021-11-13 18:06:02 | INFO | hw5.transformer | training loss: 3.3973\n",
      "2021-11-13 18:06:02 | INFO | hw5.transformer | begin validation\n"
     ]
    },
    {
     "data": {
      "text/plain": "HBox(children=(HTML(value='validation'), FloatProgress(value=0.0, max=22.0), HTML(value='')))",
      "application/vnd.jupyter.widget-view+json": {
       "version_major": 2,
       "version_minor": 0,
       "model_id": "fbb5dcce8d344ffeac9b3256b0275e08"
      }
     },
     "metadata": {},
     "output_type": "display_data"
    },
    {
     "name": "stdout",
     "output_type": "stream",
     "text": [
      "2021-11-13 18:06:23 | INFO | hw5.transformer | example source: but it's an unusual building to protect this telescope .\n",
      "2021-11-13 18:06:23 | INFO | hw5.transformer | example hypothesis: 但 , 保護這個望遠鏡是很不尋常的建築 。\n",
      "2021-11-13 18:06:23 | INFO | hw5.transformer | example reference: 為了保護這座望遠鏡它的設計不同於一般建築 ,\n",
      "2021-11-13 18:06:23 | INFO | hw5.transformer | validation loss:\t3.3848\n",
      "2021-11-13 18:06:23 | INFO | hw5.transformer | BLEU = 24.71 59.5/33.7/19.9/12.4 (BP = 0.932 ratio = 0.935 hyp_len = 104505 ref_len = 111811)\n",
      "2021-11-13 18:06:23 | INFO | hw5.transformer | saved epoch checkpoint: /home/wy/ML_study/chapter5/checkpoints/rnn/_transformer_checkpoint198.pt\n",
      "2021-11-13 18:06:23 | INFO | hw5.transformer | end of epoch 198\n"
     ]
    },
    {
     "data": {
      "text/plain": "HBox(children=(HTML(value='train epoch 199'), FloatProgress(value=0.0, max=791.0), HTML(value='')))",
      "application/vnd.jupyter.widget-view+json": {
       "version_major": 2,
       "version_minor": 0,
       "model_id": "b3d6558055e84711a3db2625abd164d0"
      }
     },
     "metadata": {},
     "output_type": "display_data"
    },
    {
     "name": "stdout",
     "output_type": "stream",
     "text": [
      "2021-11-13 18:08:47 | INFO | hw5.transformer | training loss: 3.3976\n",
      "2021-11-13 18:08:47 | INFO | hw5.transformer | begin validation\n"
     ]
    },
    {
     "data": {
      "text/plain": "HBox(children=(HTML(value='validation'), FloatProgress(value=0.0, max=22.0), HTML(value='')))",
      "application/vnd.jupyter.widget-view+json": {
       "version_major": 2,
       "version_minor": 0,
       "model_id": "3afeb63ae0b541a7b1b361440d7f12b2"
      }
     },
     "metadata": {},
     "output_type": "display_data"
    },
    {
     "name": "stdout",
     "output_type": "stream",
     "text": [
      "2021-11-13 18:09:07 | INFO | hw5.transformer | example source: so 95 percent of us will say that it is terribly wrong for our partner to lie about having an affair , but just about the same amount of us will say that that's exactly what we would do if we were having one .\n",
      "2021-11-13 18:09:07 | INFO | hw5.transformer | example hypothesis: 我們當中95%的人會說 , 若要有婚外情 , 說謊是非常錯誤的 , 但大約我們當中有多少人會說 , 如果我們有婚外情 , 那正是我們會做的事 。\n",
      "2021-11-13 18:09:07 | INFO | hw5.transformer | example reference: 所以95%的人會說另一半因外遇說謊是很糟糕的行為但一樣多的人表示當我們外遇時也會這樣做 。\n",
      "2021-11-13 18:09:07 | INFO | hw5.transformer | validation loss:\t3.3843\n",
      "2021-11-13 18:09:07 | INFO | hw5.transformer | BLEU = 24.64 59.5/33.8/20.0/12.4 (BP = 0.928 ratio = 0.930 hyp_len = 104020 ref_len = 111811)\n",
      "2021-11-13 18:09:08 | INFO | hw5.transformer | saved epoch checkpoint: /home/wy/ML_study/chapter5/checkpoints/rnn/_transformer_checkpoint199.pt\n",
      "2021-11-13 18:09:08 | INFO | hw5.transformer | end of epoch 199\n"
     ]
    },
    {
     "data": {
      "text/plain": "HBox(children=(HTML(value='train epoch 200'), FloatProgress(value=0.0, max=791.0), HTML(value='')))",
      "application/vnd.jupyter.widget-view+json": {
       "version_major": 2,
       "version_minor": 0,
       "model_id": "86ece7fdc43a4d4d95f1a0007c3f24c6"
      }
     },
     "metadata": {},
     "output_type": "display_data"
    },
    {
     "name": "stdout",
     "output_type": "stream",
     "text": [
      "2021-11-13 18:11:32 | INFO | hw5.transformer | training loss: 3.3964\n",
      "2021-11-13 18:11:32 | INFO | hw5.transformer | begin validation\n"
     ]
    },
    {
     "data": {
      "text/plain": "HBox(children=(HTML(value='validation'), FloatProgress(value=0.0, max=22.0), HTML(value='')))",
      "application/vnd.jupyter.widget-view+json": {
       "version_major": 2,
       "version_minor": 0,
       "model_id": "0d8cbd5f7d154c0cb28aca3abdc986d0"
      }
     },
     "metadata": {},
     "output_type": "display_data"
    },
    {
     "name": "stdout",
     "output_type": "stream",
     "text": [
      "2021-11-13 18:11:52 | INFO | hw5.transformer | example source: it's complex , and a lot of the terms are quite technical , so the average person probably doesn't need to know at least a third of it .\n",
      "2021-11-13 18:11:52 | INFO | hw5.transformer | example hypothesis: 很複雜 , 很多術語都很技術 , 所以一般人可能不需要知道至少三分之一 。\n",
      "2021-11-13 18:11:52 | INFO | hw5.transformer | example reference: 它很複雜 , 其中有很多專業詞彙 。 對一般人來說 , 有大概三分之一的詞彙都不用認識 。\n",
      "2021-11-13 18:11:52 | INFO | hw5.transformer | validation loss:\t3.3833\n",
      "2021-11-13 18:11:52 | INFO | hw5.transformer | BLEU = 24.88 59.3/33.6/19.9/12.4 (BP = 0.940 ratio = 0.942 hyp_len = 105275 ref_len = 111811)\n",
      "2021-11-13 18:11:52 | INFO | hw5.transformer | saved epoch checkpoint: /home/wy/ML_study/chapter5/checkpoints/rnn/_transformer_checkpoint200.pt\n",
      "2021-11-13 18:11:52 | INFO | hw5.transformer | end of epoch 200\n"
     ]
    }
   ],
   "source": [
    "epoch_itr = load_data_iterator(task, \"train\", config.start_epoch, config.max_tokens, config.num_workers)\n",
    "try_load_checkpoint(model, optimizer, name=config.resume)\n",
    "while epoch_itr.next_epoch_idx <= config.max_epoch:\n",
    "    # train for one epoch\n",
    "    train_one_epoch(epoch_itr, model, task, criterion, optimizer, config.accum_steps)\n",
    "    stats = validate_and_save(model, task, criterion, optimizer, epoch=epoch_itr.epoch)\n",
    "    logger.info(\"end of epoch {}\".format(epoch_itr.epoch))\n",
    "    epoch_itr = load_data_iterator(task, \"train\", epoch_itr.next_epoch_idx, config.max_tokens, config.num_workers)\n"
   ],
   "metadata": {
    "collapsed": false,
    "pycharm": {
     "name": "#%%\n"
    }
   }
  },
  {
   "cell_type": "code",
   "execution_count": 150,
   "outputs": [
    {
     "name": "stdout",
     "output_type": "stream",
     "text": [
      "2021-11-15 09:01:32 | INFO | hw5.transformer | loaded checkpoint checkpoints/rnn/_transformer_checkpoint_best.pt: step=unknown loss=3.3802602291107178 bleu=25.01849518164586\n",
      "2021-11-15 09:01:32 | INFO | hw5.transformer | begin validation\n"
     ]
    },
    {
     "data": {
      "text/plain": "HBox(children=(HTML(value='validation'), FloatProgress(value=0.0, max=22.0), HTML(value='')))",
      "application/vnd.jupyter.widget-view+json": {
       "version_major": 2,
       "version_minor": 0,
       "model_id": "dee36ce784c04c6ea83f1c9f1460dc58"
      }
     },
     "metadata": {},
     "output_type": "display_data"
    },
    {
     "name": "stdout",
     "output_type": "stream",
     "text": [
      "2021-11-15 09:01:52 | INFO | hw5.transformer | example source: it's good for improving people's lives .\n",
      "2021-11-15 09:01:52 | INFO | hw5.transformer | example hypothesis: 改善人們的生活是好事 。\n",
      "2021-11-15 09:01:52 | INFO | hw5.transformer | example reference: 可以促進生活品質\n",
      "2021-11-15 09:01:52 | INFO | hw5.transformer | validation loss:\t3.3803\n",
      "2021-11-15 09:01:52 | INFO | hw5.transformer | BLEU = 25.02 58.4/33.0/19.5/12.0 (BP = 0.965 ratio = 0.965 hyp_len = 107932 ref_len = 111811)\n"
     ]
    }
   ],
   "source": [
    "# checkpoint_last.pt : latest epoch\n",
    "# checkpoint_best.pt : highest validation bleu\n",
    "# avg_last_5_checkpoint.pt:　the average of last 5 epochs\n",
    "try_load_checkpoint(model, name=\"_transformer_checkpoint_best.pt\")\n",
    "validate(model, task, criterion, log_to_wandb=False)\n",
    "None"
   ],
   "metadata": {
    "collapsed": false,
    "pycharm": {
     "name": "#%%\n"
    }
   }
  },
  {
   "cell_type": "code",
   "execution_count": 151,
   "outputs": [],
   "source": [
    "def generate_prediction(model, task, split=\"test\", outfile=\"./transformer_prediction.txt\"):\n",
    "    task.load_dataset(split=split, epoch=1)\n",
    "    itr = load_data_iterator(task, split, 1, config.max_tokens, config.num_workers).next_epoch_itr(shuffle=False)\n",
    "\n",
    "    idxs = []\n",
    "    hyps = []\n",
    "\n",
    "    model.eval()\n",
    "    progress = tqdm.tqdm(itr, desc=f\"prediction\")\n",
    "    with torch.no_grad():\n",
    "        for i, sample in enumerate(progress):\n",
    "            # validation loss\n",
    "            sample = utils.move_to_cuda(sample, device=device)\n",
    "\n",
    "            # do inference\n",
    "            s, h, r = inference_step(sample, model)\n",
    "\n",
    "            hyps.extend(h)\n",
    "            idxs.extend(list(sample['id']))\n",
    "\n",
    "    # sort based on the order before preprocess\n",
    "    hyps = [x for _,x in sorted(zip(idxs,hyps))]\n",
    "\n",
    "    with open(outfile, \"w\") as f:\n",
    "        for h in hyps:\n",
    "            f.write(h+\"\\n\")"
   ],
   "metadata": {
    "collapsed": false,
    "pycharm": {
     "name": "#%%\n"
    }
   }
  },
  {
   "cell_type": "code",
   "execution_count": 152,
   "outputs": [
    {
     "name": "stdout",
     "output_type": "stream",
     "text": [
      "2021-11-15 09:02:15 | INFO | fairseq.data.data_utils | loaded 4,000 examples from: ./DATA/data-bin/ted2020/test.en-zh.en\n",
      "2021-11-15 09:02:15 | INFO | fairseq.data.data_utils | loaded 4,000 examples from: ./DATA/data-bin/ted2020/test.en-zh.zh\n",
      "2021-11-15 09:02:15 | INFO | fairseq.tasks.translation | ./DATA/data-bin/ted2020 test en-zh 4000 examples\n"
     ]
    },
    {
     "data": {
      "text/plain": "HBox(children=(HTML(value='prediction'), FloatProgress(value=0.0, max=17.0), HTML(value='')))",
      "application/vnd.jupyter.widget-view+json": {
       "version_major": 2,
       "version_minor": 0,
       "model_id": "82979b6ec86f402e82be3ea79c97bd25"
      }
     },
     "metadata": {},
     "output_type": "display_data"
    },
    {
     "name": "stdout",
     "output_type": "stream",
     "text": [
      "\n"
     ]
    }
   ],
   "source": [
    "generate_prediction(model, task)"
   ],
   "metadata": {
    "collapsed": false,
    "pycharm": {
     "name": "#%%\n"
    }
   }
  }
 ],
 "metadata": {
  "kernelspec": {
   "display_name": "Python 3",
   "language": "python",
   "name": "python3"
  },
  "language_info": {
   "codemirror_mode": {
    "name": "ipython",
    "version": 2
   },
   "file_extension": ".py",
   "mimetype": "text/x-python",
   "name": "python",
   "nbconvert_exporter": "python",
   "pygments_lexer": "ipython2",
   "version": "2.7.6"
  }
 },
 "nbformat": 4,
 "nbformat_minor": 0
}