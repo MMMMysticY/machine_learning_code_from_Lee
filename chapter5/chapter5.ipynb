{
 "cells": [
  {
   "cell_type": "code",
   "execution_count": 42,
   "metadata": {
    "collapsed": true
   },
   "outputs": [],
   "source": [
    "# translation (transformer)\n",
    "# 使用seq2seq和transformer进行翻译\n",
    "# 数据集 https://www.csie.ntu.edu.tw/~r09922057/ML2021-hw5/ted2020.tgz\n",
    "#       https://www.csie.ntu.edu.tw/~r09922057/ML2021-hw5/test.tgz\n",
    "# ted2020文字中英数据集"
   ]
  },
  {
   "cell_type": "code",
   "execution_count": 43,
   "outputs": [],
   "source": [
    "# Sequence-to-Sequence Introduction\n",
    "# Typical sequence-to-sequence (seq2seq) models are encoder-decoder models, which usually consists of two parts, the encoder and decoder, respectively.\n",
    "# These two parts can be implemented with recurrent neural network (RNN) or transformer, primarily to deal with input/output sequences of dynamic length.\n",
    "\n",
    "# **Encoder** encodes a sequence of inputs, such as text, video or audio, into a single vector,\n",
    "# which can be viewed as the abstractive representation of the inputs, containing information of the whole sequence.\n",
    "\n",
    "# **Decoder** decodes the vector output of encoder one step at a time, until the final output sequence is complete. Every decoding step is affected by previous step(s).\n",
    "# Generally, one would add \"< BOS >\" at the begining of the sequence to indicate start of decoding, and \"< EOS >\" at the end to indicate end of decoding."
   ],
   "metadata": {
    "collapsed": false,
    "pycharm": {
     "name": "#%%\n"
    }
   }
  },
  {
   "cell_type": "code",
   "execution_count": 44,
   "outputs": [],
   "source": [
    "import sys\n",
    "import pdb\n",
    "import pprint\n",
    "import logging\n",
    "import os\n",
    "import random\n",
    "\n",
    "import torch\n",
    "import torch.nn as nn\n",
    "import torch.nn.functional as F\n",
    "from torch.utils import data\n",
    "import numpy as np\n",
    "import tqdm.auto as tqdm\n",
    "from pathlib import Path\n",
    "from argparse import Namespace\n",
    "from fairseq import utils\n",
    "\n",
    "import matplotlib.pyplot as plt"
   ],
   "metadata": {
    "collapsed": false,
    "pycharm": {
     "name": "#%%\n"
    }
   }
  },
  {
   "cell_type": "code",
   "execution_count": 45,
   "outputs": [],
   "source": [
    "# 确定random seed\n",
    "seed = 73\n",
    "random.seed(seed)\n",
    "torch.manual_seed(seed)\n",
    "if torch.cuda.is_available():\n",
    "    torch.cuda.manual_seed(seed)\n",
    "    torch.cuda.manual_seed_all(seed)\n",
    "np.random.seed(seed)\n",
    "torch.backends.cudnn.benchmark = False\n",
    "torch.backends.cudnn.deterministic = True"
   ],
   "metadata": {
    "collapsed": false,
    "pycharm": {
     "name": "#%%\n"
    }
   }
  },
  {
   "cell_type": "code",
   "execution_count": 46,
   "outputs": [],
   "source": [
    "data_dir = './DATA/rawdata'\n",
    "dataset_name = 'ted2020'\n",
    "\n",
    "prefix = Path(data_dir).absolute() / dataset_name\n",
    "# !mv {prefix/'raw.en'} {prefix/'train_dev.raw.en'}\n",
    "# !mv {prefix/'raw.zh'} {prefix/'train_dev.raw.zh'}\n",
    "# !mv {prefix/'test.en'} {prefix/'test.raw.en'}\n",
    "# !mv {prefix/'test.zh'} {prefix/'test.raw.zh'}"
   ],
   "metadata": {
    "collapsed": false,
    "pycharm": {
     "name": "#%%\n"
    }
   }
  },
  {
   "cell_type": "code",
   "execution_count": 47,
   "outputs": [],
   "source": [
    "src_lang = 'en'\n",
    "tgt_lang = 'zh'\n",
    "\n",
    "data_prefix = f'{prefix}/train_dev.raw'\n",
    "test_prefix = f'{prefix}/test.raw'"
   ],
   "metadata": {
    "collapsed": false,
    "pycharm": {
     "name": "#%%\n"
    }
   }
  },
  {
   "cell_type": "code",
   "execution_count": 48,
   "outputs": [
    {
     "name": "stdout",
     "output_type": "stream",
     "text": [
      "Thank you so much, Chris.\r\n",
      "And it's truly a great honor to have the opportunity to come to this stage twice; I'm extremely grateful.\r\n",
      "I have been blown away by this conference, and I want to thank all of you for the many nice comments about what I had to say the other night.\r\n",
      "And I say that sincerely, partly because  I need that.\r\n",
      "Put yourselves in my position.\r\n",
      "非常謝謝你，克里斯。能有這個機會第二度踏上這個演講台\r\n",
      "真是一大榮幸。我非常感激。\r\n",
      "這個研討會給我留下了極為深刻的印象，我想感謝大家 對我之前演講的好評。\r\n",
      "我是由衷的想這麼說，有部份原因是因為 —— 我真的有需要!\r\n",
      "請你們設身處地為我想一想！\r\n"
     ]
    }
   ],
   "source": [
    "!head {data_prefix+'.'+src_lang} -n 5\n",
    "!head {data_prefix+'.'+tgt_lang} -n 5"
   ],
   "metadata": {
    "collapsed": false,
    "pycharm": {
     "name": "#%%\n"
    }
   }
  },
  {
   "cell_type": "code",
   "execution_count": 49,
   "outputs": [],
   "source": [
    "import re\n",
    "\n",
    "def strQ2B(ustring):\n",
    "    \"\"\"Full width -> half width\"\"\"\n",
    "    # 将全型字变为半型字\n",
    "    # reference:https://ithelp.ithome.com.tw/articles/10233122\n",
    "    ss = []\n",
    "    for s in ustring:\n",
    "        rstring = \"\"\n",
    "        for uchar in s:\n",
    "            inside_code = ord(uchar)\n",
    "            if inside_code == 12288:  # Full width space: direct conversion\n",
    "                inside_code = 32\n",
    "            elif (inside_code >= 65281 and inside_code <= 65374):  # Full width chars (except space) conversion\n",
    "                inside_code -= 65248\n",
    "            rstring += chr(inside_code)\n",
    "        ss.append(rstring)\n",
    "    return ''.join(ss)\n",
    "\n",
    "def clean_s(s, lang):\n",
    "    if lang == 'en':\n",
    "        s = re.sub(r\"\\([^()]*\\)\", \"\", s) # remove ([text])         # 去掉() []\n",
    "        s = s.replace('-', '') # remove '-'                        # 去掉-\n",
    "        s = re.sub('([.,;!?()\\\"])', r' \\1 ', s) # keep punctuation # 用\\1代表所有标点符号\n",
    "    elif lang == 'zh':\n",
    "        s = strQ2B(s) # Q2B\n",
    "        s = re.sub(r\"\\([^()]*\\)\", \"\", s) # remove ([text])        # 去掉() []\n",
    "        s = s.replace(' ', '')\n",
    "        s = s.replace('—', '')\n",
    "        s = s.replace('“', '\"')\n",
    "        s = s.replace('”', '\"')\n",
    "        s = s.replace('_', '')                                    # 去掉 tab “ — _\n",
    "        s = re.sub('([。,;!?()\\\"~「」])', r' \\1 ', s) # keep punctuation # 用\\1代表所有标点符号\n",
    "    s = ' '.join(s.strip().split())\n",
    "    return s\n",
    "\n",
    "def len_s(s, lang):\n",
    "    if lang == 'zh':\n",
    "        return len(s)\n",
    "    return len(s.split())\n",
    "\n",
    "def clean_corpus(prefix, l1, l2, ratio=9, max_len=1000, min_len=1):\n",
    "    if Path(f'{prefix}.clean.{l1}').exists() and Path(f'{prefix}.clean.{l2}').exists():\n",
    "        print(f'{prefix}.clean.{l1} & {l2} exists. skipping clean.')\n",
    "        return\n",
    "    with open(f'{prefix}.{l1}', 'r') as l1_in_f:\n",
    "        with open(f'{prefix}.{l2}', 'r') as l2_in_f:\n",
    "            with open(f'{prefix}.clean.{l1}', 'w') as l1_out_f:\n",
    "                with open(f'{prefix}.clean.{l2}', 'w') as l2_out_f:\n",
    "                    for s1 in l1_in_f:\n",
    "                        s1 = s1.strip()\n",
    "                        s2 = l2_in_f.readline().strip()\n",
    "                        s1 = clean_s(s1, l1)\n",
    "                        s2 = clean_s(s2, l2)\n",
    "                        s1_len = len_s(s1, l1)\n",
    "                        s2_len = len_s(s2, l2)\n",
    "                        if min_len > 0: # remove short sentence\n",
    "                            if s1_len < min_len or s2_len < min_len:\n",
    "                                continue\n",
    "                        if max_len > 0: # remove long sentence\n",
    "                            if s1_len > max_len or s2_len > max_len:\n",
    "                                continue\n",
    "                        if ratio > 0: # remove by ratio of length\n",
    "                            if s1_len/s2_len > ratio or s2_len/s1_len > ratio:  # 两个句子的比值大于ratio也要清洗掉\n",
    "                                continue\n",
    "                        print(s1, file=l1_out_f)\n",
    "                        print(s2, file=l2_out_f)"
   ],
   "metadata": {
    "collapsed": false,
    "pycharm": {
     "name": "#%%\n"
    }
   }
  },
  {
   "cell_type": "code",
   "execution_count": 50,
   "outputs": [
    {
     "name": "stdout",
     "output_type": "stream",
     "text": [
      "/home/wy/ML_study/chapter5/DATA/rawdata/ted2020/train_dev.raw.clean.en & zh exists. skipping clean.\n",
      "/home/wy/ML_study/chapter5/DATA/rawdata/ted2020/test.raw.clean.en & zh exists. skipping clean.\n"
     ]
    }
   ],
   "source": [
    "clean_corpus(data_prefix, src_lang, tgt_lang)\n",
    "clean_corpus(test_prefix, src_lang, tgt_lang, ratio=-1, min_len=-1, max_len=-1)"
   ],
   "metadata": {
    "collapsed": false,
    "pycharm": {
     "name": "#%%\n"
    }
   }
  },
  {
   "cell_type": "code",
   "execution_count": 51,
   "outputs": [],
   "source": [
    "valid_ratio = 0.01 # 3000~4000 would suffice\n",
    "train_ratio = 1 - valid_ratio"
   ],
   "metadata": {
    "collapsed": false,
    "pycharm": {
     "name": "#%%\n"
    }
   }
  },
  {
   "cell_type": "code",
   "execution_count": 52,
   "outputs": [
    {
     "name": "stdout",
     "output_type": "stream",
     "text": [
      "train/valid splits exists. skipping split.\n"
     ]
    }
   ],
   "source": [
    "if (prefix/f'train.clean.{src_lang}').exists() \\\n",
    "and (prefix/f'train.clean.{tgt_lang}').exists() \\\n",
    "and (prefix/f'valid.clean.{src_lang}').exists() \\\n",
    "and (prefix/f'valid.clean.{tgt_lang}').exists():\n",
    "    print(f'train/valid splits exists. skipping split.')\n",
    "else:\n",
    "    line_num = sum(1 for line in open(f'{data_prefix}.clean.{src_lang}'))\n",
    "    labels = list(range(line_num))\n",
    "    random.shuffle(labels)\n",
    "    for lang in [src_lang, tgt_lang]:\n",
    "        train_f = open(os.path.join(data_dir, dataset_name, f'train.clean.{lang}'), 'w')\n",
    "        valid_f = open(os.path.join(data_dir, dataset_name, f'valid.clean.{lang}'), 'w')\n",
    "        count = 0\n",
    "        for line in open(f'{data_prefix}.clean.{lang}', 'r'):\n",
    "            if labels[count]/line_num < train_ratio:\n",
    "                train_f.write(line)\n",
    "            else:\n",
    "                valid_f.write(line)\n",
    "            count += 1\n",
    "        train_f.close()\n",
    "        valid_f.close()"
   ],
   "metadata": {
    "collapsed": false,
    "pycharm": {
     "name": "#%%\n"
    }
   }
  },
  {
   "cell_type": "code",
   "execution_count": 53,
   "outputs": [
    {
     "name": "stdout",
     "output_type": "stream",
     "text": [
      "/home/wy/ML_study/chapter5/DATA/rawdata/ted2020/spm8000.model exists. skipping spm_train.\n"
     ]
    }
   ],
   "source": [
    "# Subword Units\n",
    "\n",
    "# 在机器翻译中 out of vocabulary (OOV)是主要问题 需要使用subword units\n",
    "# 使用sentencepiece库进行分割\n",
    "\n",
    "import sentencepiece as spm\n",
    "vocab_size = 8000\n",
    "if (prefix/f'spm{vocab_size}.model').exists():\n",
    "    print(f'{prefix}/spm{vocab_size}.model exists. skipping spm_train.')\n",
    "else:\n",
    "    spm.SentencePieceTrainer.train(\n",
    "        input=','.join([f'{prefix}/train.clean.{src_lang}',\n",
    "                        f'{prefix}/valid.clean.{src_lang}',\n",
    "                        f'{prefix}/train.clean.{tgt_lang}',\n",
    "                        f'{prefix}/valid.clean.{tgt_lang}']),\n",
    "        model_prefix=prefix/f'spm{vocab_size}',\n",
    "        vocab_size=vocab_size,\n",
    "        character_coverage=1,\n",
    "        model_type='unigram', # 'bpe' works as well\n",
    "        input_sentence_size=1e6,\n",
    "        shuffle_input_sentence=True,\n",
    "        normalization_rule_name='nmt_nfkc_cf',\n",
    "    )"
   ],
   "metadata": {
    "collapsed": false,
    "pycharm": {
     "name": "#%%\n"
    }
   }
  },
  {
   "cell_type": "code",
   "execution_count": 54,
   "outputs": [
    {
     "name": "stdout",
     "output_type": "stream",
     "text": [
      "/home/wy/ML_study/chapter5/DATA/rawdata/ted2020/train.en exists. skipping spm_encode.\n",
      "/home/wy/ML_study/chapter5/DATA/rawdata/ted2020/train.zh exists. skipping spm_encode.\n",
      "/home/wy/ML_study/chapter5/DATA/rawdata/ted2020/valid.en exists. skipping spm_encode.\n",
      "/home/wy/ML_study/chapter5/DATA/rawdata/ted2020/valid.zh exists. skipping spm_encode.\n",
      "/home/wy/ML_study/chapter5/DATA/rawdata/ted2020/test.en exists. skipping spm_encode.\n",
      "/home/wy/ML_study/chapter5/DATA/rawdata/ted2020/test.zh exists. skipping spm_encode.\n"
     ]
    }
   ],
   "source": [
    "spm_model = spm.SentencePieceProcessor(model_file=str(prefix/f'spm{vocab_size}.model'))\n",
    "in_tag = {\n",
    "    'train': 'train.clean',\n",
    "    'valid': 'valid.clean',\n",
    "    'test': 'test.raw.clean',\n",
    "}\n",
    "for split in ['train', 'valid', 'test']:\n",
    "    for lang in [src_lang, tgt_lang]:\n",
    "        out_path = prefix/f'{split}.{lang}'\n",
    "        if out_path.exists():\n",
    "            print(f\"{out_path} exists. skipping spm_encode.\")\n",
    "        else:\n",
    "            with open(prefix/f'{split}.{lang}', 'w') as out_f:\n",
    "                with open(prefix/f'{in_tag[split]}.{lang}', 'r') as in_f:\n",
    "                    for line in in_f:\n",
    "                        line = line.strip()\n",
    "                        tok = spm_model.encode(line, out_type=str)\n",
    "                        print(' '.join(tok), file=out_f)"
   ],
   "metadata": {
    "collapsed": false,
    "pycharm": {
     "name": "#%%\n"
    }
   }
  },
  {
   "cell_type": "code",
   "execution_count": 55,
   "outputs": [
    {
     "name": "stdout",
     "output_type": "stream",
     "text": [
      "▁thank ▁you ▁so ▁much ▁, ▁chris ▁.\r\n",
      "▁and ▁it ' s ▁ t ru ly ▁a ▁great ▁ho n or ▁to ▁have ▁the ▁ op port un ity ▁to ▁come ▁to ▁this ▁st age ▁ t wi ce ▁; ▁i ' m ▁ex t re me ly ▁gr ate ful ▁.\r\n",
      "▁i ▁have ▁been ▁ bl ow n ▁away ▁by ▁this ▁con fer ence ▁, ▁and ▁i ▁want ▁to ▁thank ▁all ▁of ▁you ▁for ▁the ▁many ▁ ni ce ▁ com ment s ▁about ▁what ▁i ▁had ▁to ▁say ▁the ▁other ▁night ▁.\r\n",
      "▁and ▁i ▁say ▁that ▁since re ly ▁, ▁part ly ▁because ▁i ▁need ▁that ▁.\r\n",
      "▁put ▁your s el ve s ▁in ▁my ▁po s ition ▁.\r\n",
      "▁ 非常 謝 謝 你 ▁, ▁ 克 里 斯 ▁。 ▁ 能 有 這個 機會 第二 度 踏 上 這個 演講 台\r\n",
      "▁ 真 是 一 大 榮 幸 ▁。 ▁我 非常 感 激 ▁。\r\n",
      "▁這個 研 討 會 給我 留 下 了 極 為 深 刻 的 印 象 ▁, ▁我想 感 謝 大家 對我 之前 演講 的 好 評 ▁。\r\n",
      "▁我 是由 衷 的 想 這麼 說 ▁, ▁有 部份 原因 是因為 我 真的 有 需要 ▁!\r\n",
      "▁ 請 你們 設 身 處 地 為 我想 一 想 ▁!\r\n"
     ]
    }
   ],
   "source": [
    "!head {data_dir+'/'+dataset_name+'/train.'+src_lang} -n 5\n",
    "!head {data_dir+'/'+dataset_name+'/train.'+tgt_lang} -n 5"
   ],
   "metadata": {
    "collapsed": false,
    "pycharm": {
     "name": "#%%\n"
    }
   }
  },
  {
   "cell_type": "code",
   "execution_count": 56,
   "outputs": [
    {
     "name": "stdout",
     "output_type": "stream",
     "text": [
      "DATA/data-bin/ted2020 exists, will not overwrite!\n"
     ]
    }
   ],
   "source": [
    "\n",
    "binpath = Path('./DATA/data-bin', dataset_name)\n",
    "if binpath.exists():\n",
    "    print(binpath, \"exists, will not overwrite!\")\n",
    "else:\n",
    "    !python -m fairseq_cli.preprocess \\\n",
    "        --source-lang {src_lang}\\\n",
    "        --target-lang {tgt_lang}\\\n",
    "        --trainpref {prefix/'train'}\\\n",
    "        --validpref {prefix/'valid'}\\\n",
    "        --testpref {prefix/'test'}\\\n",
    "        --destdir {binpath}\\\n",
    "        --joined-dictionary\\\n",
    "        --workers 2"
   ],
   "metadata": {
    "collapsed": false,
    "pycharm": {
     "name": "#%%\n"
    }
   }
  },
  {
   "cell_type": "code",
   "execution_count": 57,
   "outputs": [],
   "source": [
    "config = Namespace(\n",
    "    datadir = \"./DATA/data-bin/ted2020\",\n",
    "    savedir = \"./checkpoints/rnn\",\n",
    "    source_lang = \"en\",\n",
    "    target_lang = \"zh\",\n",
    "\n",
    "    # cpu threads when fetching & processing data.\n",
    "    num_workers=2,\n",
    "    # batch size in terms of tokens. gradient accumulation increases the effective batchsize.\n",
    "    max_tokens=8192,\n",
    "    accum_steps=2,\n",
    "\n",
    "    # the lr s calculated from Noam lr scheduler. you can tune the maximum lr by this factor.\n",
    "    lr_factor=2.,\n",
    "    lr_warmup=4000,\n",
    "\n",
    "    # clipping gradient norm helps alleviate gradient exploding\n",
    "    clip_norm=1.0,\n",
    "\n",
    "    # maximum epochs for training\n",
    "    max_epoch=200,\n",
    "    start_epoch=1,\n",
    "\n",
    "    # beam size for beam search\n",
    "    beam=5,\n",
    "    # generate sequences of maximum length ax + b, where x is the source length\n",
    "    max_len_a=1.2,\n",
    "    max_len_b=10,\n",
    "    # when decoding, post process sentence by removing sentencepiece symbols and jieba tokenization.\n",
    "    post_process = \"sentencepiece\",\n",
    "\n",
    "    # checkpoints\n",
    "    keep_last_epochs=5,\n",
    "    resume=None, # if resume from checkpoint name (under config.savedir)\n",
    "\n",
    "    # logging\n",
    "    use_wandb=False,\n",
    ")"
   ],
   "metadata": {
    "collapsed": false,
    "pycharm": {
     "name": "#%%\n"
    }
   }
  },
  {
   "cell_type": "code",
   "execution_count": 58,
   "outputs": [],
   "source": [
    "# Logging\n",
    "# logging package logs ordinary messages\n",
    "# wandb logs the loss, bleu, etc. in the training process\n",
    "\n",
    "logging.basicConfig(\n",
    "    format=\"%(asctime)s | %(levelname)s | %(name)s | %(message)s\",\n",
    "    datefmt=\"%Y-%m-%d %H:%M:%S\",\n",
    "    level=\"INFO\", # \"DEBUG\" \"WARNING\" \"ERROR\"\n",
    "    stream=sys.stdout,\n",
    ")\n",
    "proj = \"hw5.seq2seq\"\n",
    "logger = logging.getLogger(proj)\n",
    "if config.use_wandb:\n",
    "    import wandb\n",
    "    wandb.init(project=proj, name=Path(config.savedir).stem, config=config)"
   ],
   "metadata": {
    "collapsed": false,
    "pycharm": {
     "name": "#%%\n"
    }
   }
  },
  {
   "cell_type": "code",
   "execution_count": 59,
   "outputs": [
    {
     "name": "stdout",
     "output_type": "stream",
     "text": [
      "2021-11-11 17:09:55 | INFO | fairseq.utils | ***********************CUDA enviroments for all 1 workers***********************\n",
      "2021-11-11 17:09:55 | INFO | fairseq.utils | rank   0: capabilities =  8.6  ; total memory = 23.700 GB ; name = NVIDIA GeForce RTX 3090                 \n",
      "2021-11-11 17:09:55 | INFO | fairseq.utils | ***********************CUDA enviroments for all 1 workers***********************\n"
     ]
    }
   ],
   "source": [
    "# CUDA\n",
    "\n",
    "cuda_env = utils.CudaEnvironment()\n",
    "utils.CudaEnvironment.pretty_print_cuda_env_list([cuda_env])\n",
    "device = torch.device('cuda:3' if torch.cuda.is_available() else 'cpu')"
   ],
   "metadata": {
    "collapsed": false,
    "pycharm": {
     "name": "#%%\n"
    }
   }
  },
  {
   "cell_type": "code",
   "execution_count": 60,
   "outputs": [
    {
     "name": "stdout",
     "output_type": "stream",
     "text": [
      "2021-11-11 17:09:56 | INFO | fairseq.tasks.translation | [en] dictionary: 8000 types\n",
      "2021-11-11 17:09:56 | INFO | fairseq.tasks.translation | [zh] dictionary: 8000 types\n"
     ]
    }
   ],
   "source": [
    "# Data Loading\n",
    "\n",
    "## We borrow the TranslationTask from fairseq\n",
    "# used to load the binarized data created above\n",
    "# well-implemented data iterator (dataloader)\n",
    "# built-in task.source_dictionary and task.target_dictionary are also handy\n",
    "# well-implemented beach search decoder\n",
    "\n",
    "from fairseq.tasks.translation import TranslationConfig, TranslationTask\n",
    "\n",
    "## setup task\n",
    "task_cfg = TranslationConfig(\n",
    "    data=config.datadir,\n",
    "    source_lang=config.source_lang,\n",
    "    target_lang=config.target_lang,\n",
    "    train_subset=\"train\",\n",
    "    required_seq_len_multiple=8,\n",
    "    dataset_impl=\"mmap\",\n",
    "    upsample_primary=1,\n",
    ")\n",
    "task = TranslationTask.setup_task(task_cfg)"
   ],
   "metadata": {
    "collapsed": false,
    "pycharm": {
     "name": "#%%\n"
    }
   }
  },
  {
   "cell_type": "code",
   "execution_count": 61,
   "outputs": [
    {
     "name": "stdout",
     "output_type": "stream",
     "text": [
      "2021-11-11 17:09:56 | INFO | hw5.seq2seq | loading data for epoch 1\n",
      "2021-11-11 17:09:56 | INFO | fairseq.data.data_utils | loaded 390,041 examples from: ./DATA/data-bin/ted2020/train.en-zh.en\n",
      "2021-11-11 17:09:56 | INFO | fairseq.data.data_utils | loaded 390,041 examples from: ./DATA/data-bin/ted2020/train.en-zh.zh\n",
      "2021-11-11 17:09:56 | INFO | fairseq.tasks.translation | ./DATA/data-bin/ted2020 train en-zh 390041 examples\n",
      "2021-11-11 17:09:56 | INFO | fairseq.data.data_utils | loaded 3,939 examples from: ./DATA/data-bin/ted2020/valid.en-zh.en\n",
      "2021-11-11 17:09:56 | INFO | fairseq.data.data_utils | loaded 3,939 examples from: ./DATA/data-bin/ted2020/valid.en-zh.zh\n",
      "2021-11-11 17:09:56 | INFO | fairseq.tasks.translation | ./DATA/data-bin/ted2020 valid en-zh 3939 examples\n"
     ]
    }
   ],
   "source": [
    "logger.info(\"loading data for epoch 1\")\n",
    "task.load_dataset(split=\"train\", epoch=1, combine=True) # combine if you have back-translation data.\n",
    "task.load_dataset(split=\"valid\", epoch=1)"
   ],
   "metadata": {
    "collapsed": false,
    "pycharm": {
     "name": "#%%\n"
    }
   }
  },
  {
   "cell_type": "code",
   "execution_count": 62,
   "outputs": [
    {
     "name": "stdout",
     "output_type": "stream",
     "text": [
      "{'id': 1,\n",
      " 'source': tensor([  18,   14,    6, 2234,   60,   19,   80,    5,  256,   16,  405, 1407,\n",
      "        1706,    7,    2]),\n",
      " 'target': tensor([ 140,  690,   28,  270,   45,  151, 1142,  660,  606,  369, 3114, 2434,\n",
      "        1434,  192,    2])}\n",
      "\"Source: that's exactly what i do optical mind control .\"\n",
      "'Target: 這實在就是我所做的--光學操控思想'\n"
     ]
    }
   ],
   "source": [
    "sample = task.dataset(\"valid\")[1]\n",
    "pprint.pprint(sample)\n",
    "pprint.pprint(\n",
    "    \"Source: \" + \\\n",
    "    task.source_dictionary.string(\n",
    "        sample['source'],\n",
    "        config.post_process,\n",
    "    )\n",
    ")\n",
    "pprint.pprint(\n",
    "    \"Target: \" + \\\n",
    "    task.target_dictionary.string(\n",
    "        sample['target'],\n",
    "        config.post_process,\n",
    "    )\n",
    ")"
   ],
   "metadata": {
    "collapsed": false,
    "pycharm": {
     "name": "#%%\n"
    }
   }
  },
  {
   "cell_type": "markdown",
   "source": [
    "## Dataset Iterator\n",
    "\n",
    "* Controls every batch to contain no more than N tokens, which optimizes GPU memory efficiency\n",
    "* Shuffles the training set for every epoch\n",
    "* Ignore sentences exceeding maximum length  # 丢弃超过最大长度的句子\n",
    "* Pad all sentences in a batch to the same length, which enables parallel computing by GPU #将所有句子pad成统一长度\n",
    "* Add eos and shift one token\n",
    "    - teacher forcing: to train the model to predict the next token based on prefix, we feed the right shifted target sequence as the decoder input.\n",
    "    - generally, prepending bos to the target would do the job (as shown below)\n",
    "![seq2seq](https://i.imgur.com/0zeDyuI.png)\n",
    "    - in fairseq however, this is done by moving the eos token to the begining. Empirically, this has the same effect. For instance:\n",
    "    ```\n",
    "    # output target (target) and Decoder input (prev_output_tokens):\n",
    "                   eos = 2\n",
    "                target = 419,  711,  238,  888,  792,   60,  968,    8,    2\n",
    "    prev_output_tokens = 2,  419,  711,  238,  888,  792,   60,  968,    8\n"
   ],
   "metadata": {
    "collapsed": false,
    "pycharm": {
     "name": "#%% md\n"
    }
   }
  },
  {
   "cell_type": "code",
   "execution_count": 63,
   "outputs": [
    {
     "name": "stdout",
     "output_type": "stream",
     "text": [
      "2021-11-11 17:09:56 | WARNING | fairseq.tasks.fairseq_task | 2,532 samples have invalid sizes and will be skipped, max_positions=(20, 20), first few sample ids=[29, 135, 2444, 3058, 682, 731, 235, 1558, 3383, 559]\n"
     ]
    },
    {
     "data": {
      "text/plain": "{'id': tensor([723]),\n 'nsentences': 1,\n 'ntokens': 18,\n 'net_input': {'src_tokens': tensor([[   1,    1,    1,    1,    1,   18,   26,   82,    8,  480,   15,  651,\n           1361,   38,    6,  176, 2696,   39,    5,  822,   92,  260,    7,    2]]),\n  'src_lengths': tensor([19]),\n  'prev_output_tokens': tensor([[   2,  140,  296,  318, 1560,   51,  568,  316,  225, 1952,  254,   78,\n            151, 2691,    9,  215, 1680,   10,    1,    1,    1,    1,    1,    1]])},\n 'target': tensor([[ 140,  296,  318, 1560,   51,  568,  316,  225, 1952,  254,   78,  151,\n          2691,    9,  215, 1680,   10,    2,    1,    1,    1,    1,    1,    1]])}"
     },
     "execution_count": 63,
     "metadata": {},
     "output_type": "execute_result"
    }
   ],
   "source": [
    "def load_data_iterator(task, split, epoch=1, max_tokens=4000, num_workers=1, cached=True):\n",
    "    batch_iterator = task.get_batch_iterator(\n",
    "        dataset=task.dataset(split),\n",
    "        max_tokens=max_tokens,\n",
    "        max_sentences=None,\n",
    "        max_positions=utils.resolve_max_positions(\n",
    "            task.max_positions(),\n",
    "            max_tokens,\n",
    "        ),\n",
    "        ignore_invalid_inputs=True,\n",
    "        seed=seed,\n",
    "        num_workers=num_workers,\n",
    "        epoch=epoch,\n",
    "        disable_iterator_cache=not cached,\n",
    "        # Set this to False to speed up. However, if set to False, changing max_tokens beyond\n",
    "        # first call of this method has no effect.\n",
    "    )\n",
    "    return batch_iterator\n",
    "\n",
    "demo_epoch_obj = load_data_iterator(task, \"valid\", epoch=1, max_tokens=20, num_workers=1, cached=False)\n",
    "demo_iter = demo_epoch_obj.next_epoch_itr(shuffle=True)\n",
    "sample = next(demo_iter)\n",
    "sample"
   ],
   "metadata": {
    "collapsed": false,
    "pycharm": {
     "name": "#%%\n"
    }
   }
  },
  {
   "cell_type": "markdown",
   "source": [
    "* each batch is a python dict, with string key and Tensor value. Contents are described below:\n",
    "```\n",
    "python\n",
    "batch = {\n",
    "    \"id\": id, # id for each example\n",
    "    \"nsentences\": len(samples), # batch size (sentences)\n",
    "    \"ntokens\": ntokens, # batch size (tokens)\n",
    "    \"net_input\": {\n",
    "        \"src_tokens\": src_tokens, # sequence in source language\n",
    "        \"src_lengths\": src_lengths, # sequence length of each example before padding\n",
    "        \"prev_output_tokens\": prev_output_tokens, # right shifted target, as mentioned above.\n",
    "    },\n",
    "    \"target\": target, # target sequence\n",
    "}\n",
    "```\n"
   ],
   "metadata": {
    "collapsed": false,
    "pycharm": {
     "name": "#%% md\n"
    }
   }
  },
  {
   "cell_type": "markdown",
   "source": [
    "\n",
    "# Model Architecture\n",
    "* We again inherit fairseq's encoder, decoder and model, so that in the testing phase we can directly leverage fairseq's beam search decoder."
   ],
   "metadata": {
    "collapsed": false,
    "pycharm": {
     "name": "#%% md\n"
    }
   }
  },
  {
   "cell_type": "code",
   "execution_count": 64,
   "outputs": [],
   "source": [
    "\n",
    "from fairseq.models import (\n",
    "    FairseqEncoder,\n",
    "    FairseqIncrementalDecoder,\n",
    "    FairseqEncoderDecoderModel\n",
    ")"
   ],
   "metadata": {
    "collapsed": false,
    "pycharm": {
     "name": "#%%\n"
    }
   }
  },
  {
   "cell_type": "markdown",
   "source": [
    "\n",
    "- The Encoder is a RNN or Transformer Encoder. The following description is for RNN. For every input token, Encoder will generate a output vector and a hidden states vector, and the hidden states vector is passed on to the next step. In other words, the Encoder sequentially reads in the input sequence, and outputs a single vector at each timestep, then finally outputs the final hidden states, or content vector, at the last timestep.\n",
    "- Parameters:\n",
    "  - *args*\n",
    "      - encoder_embed_dim: the dimension of embeddings, this compresses the one-hot vector into fixed dimensions, which achieves dimension reduction\n",
    "      - encoder_embed_dim: embedding的维度 将one-hot向量变为指定的维度 为了降维\n",
    "      - encoder_ffn_embed_dim is the dimension of hidden states and output vectors\n",
    "      - encoder_ffn_embed_dim 是RNN输出和隐层的维度\n",
    "      - encoder_layers is the number of layers for Encoder RNN\n",
    "      - encoder_layers是RNN的个数\n",
    "      - dropout determines the probability of a neuron's activation being set to 0, in order to prevent overfitting. Generally this is applied in training, and removed in testing.\n",
    "      - dropout是防止过拟合 以dropout值的概率将数据变为0 在训练时生效 验证时不生效(model.eval)\n",
    "  - *dictionary*: the dictionary provided by fairseq. it's used to obtain the padding index, and in turn the encoder padding mask.\n",
    "  - dictionary是获取padding index 从而得到encoder padding mask 就是原来的向量padding了多少\n",
    "  - *embed_tokens*: an instance of token embeddings (nn.Embedding)\n",
    "\n",
    "- Inputs:\n",
    "    - *src_tokens*: integer sequence representing english e.g. 1, 28, 29, 205, 2\n",
    "- Outputs:\n",
    "    - *outputs*: the output of RNN at each timestep, can be furthur processed by Attention\n",
    "    - *final_hiddens*: the hidden states of each timestep, will be passed to decoder for decoding\n",
    "    - *encoder_padding_mask*: this tells the decoder which position to ignore"
   ],
   "metadata": {
    "collapsed": false,
    "pycharm": {
     "name": "#%% md\n"
    }
   }
  },
  {
   "cell_type": "code",
   "execution_count": 65,
   "outputs": [],
   "source": [
    "class RNNEncoder(FairseqEncoder):\n",
    "    def __init__(self, args, dictionary, embed_tokens):\n",
    "        super().__init__(dictionary)\n",
    "        self.embed_tokens = embed_tokens\n",
    "\n",
    "        self.embed_dim = args.encoder_embed_dim\n",
    "        self.hidden_dim = args.encoder_ffn_embed_dim\n",
    "        self.num_layers = args.encoder_layers\n",
    "\n",
    "        self.dropout_in_module = nn.Dropout(args.dropout)\n",
    "        self.rnn = nn.GRU(\n",
    "            self.embed_dim,    # embedding之后每个向量的维度 也就是features的维度 维度变化(*) -> (*,embedding_dim)\n",
    "            self.hidden_dim,\n",
    "            self.num_layers,\n",
    "            dropout=args.dropout,\n",
    "            batch_first=False,\n",
    "            bidirectional=True  # 双向GRU\n",
    "        )\n",
    "        self.dropout_out_module = nn.Dropout(args.dropout)\n",
    "\n",
    "        self.padding_idx = dictionary.pad()\n",
    "\n",
    "    def combine_bidir(self, outs, bsz: int):\n",
    "        out = outs.view(self.num_layers, 2, bsz, -1).transpose(1, 2).contiguous()\n",
    "        return out.view(self.num_layers, bsz, -1)\n",
    "    # 将双向GRU的hidden拼接起来  即从[num_layers * 2 ,batch_size, hidden] -> [num_layers, batch_size, hidden * 2]\n",
    "\n",
    "    #\n",
    "\n",
    "    def forward(self, src_tokens, **unused):\n",
    "        bsz, seqlen = src_tokens.size()\n",
    "        # src_tokens -> [batch, seq_len] 注意这里是被padding过的句子 把句子统一成了一个长度 所以短的句子会有padding\n",
    "\n",
    "        # get embeddings\n",
    "        x = self.embed_tokens(src_tokens)  # 使用Embedding对输入词embed\n",
    "        # x -> [batch, seq_len, embedding_dim] 可以说是[batch, seq_len ,hidden_in]\n",
    "        x = self.dropout_in_module(x)      # dropout\n",
    "\n",
    "        # B x T x C -> T x B x C   # 这里的T是timestamp 是时间片的长度 对于该问题来说就是句子的词数长度\n",
    "        x = x.transpose(0, 1)      # Batch * seq_len * hidden_in -> seq_len * batch * hidden_in  hidden_in 就是feature 就是词向量被编码为了多少维\n",
    "\n",
    "        # pass thru bidirectional RNN\n",
    "        h0 = x.new_zeros(2 * self.num_layers, bsz, self.hidden_dim)\n",
    "        x, final_hiddens = self.rnn(x, h0)\n",
    "        outputs = self.dropout_out_module(x)\n",
    "        # outputs = [sequence len, batch size, hidden_out * directions] [T, B, hidden_out*2]\n",
    "        # hidden =  [num_layers * directions, batch size  , hidden_out] [2*num_layer, B, hidden_out]\n",
    "\n",
    "        # Since Encoder is bidirectional, we need to concatenate the hidden states of two directions\n",
    "        final_hiddens = self.combine_bidir(final_hiddens, bsz)\n",
    "        # hidden =  [num_layers x batch x num_directions*hidden]\n",
    "\n",
    "        encoder_padding_mask = src_tokens.eq(self.padding_idx).t()  # 使用padding_idx=1作为填充 如果等于填充值 那么就是mask的 这些词不用计算attention\n",
    "        return tuple(\n",
    "            (\n",
    "                outputs,  # seq_len x batch x hidden\n",
    "                final_hiddens,  # num_layers x batch x num_directions*hidden\n",
    "                encoder_padding_mask,  # seq_len x batch\n",
    "            )\n",
    "        )\n",
    "\n",
    "    def reorder_encoder_out(self, encoder_out, new_order):\n",
    "        # This is used by fairseq's beam search. How and why is not particularly important here.\n",
    "        return tuple(\n",
    "            (\n",
    "                encoder_out[0].index_select(1, new_order),\n",
    "                encoder_out[1].index_select(1, new_order),\n",
    "                encoder_out[2].index_select(1, new_order),\n",
    "            )\n",
    "        )"
   ],
   "metadata": {
    "collapsed": false,
    "pycharm": {
     "name": "#%%\n"
    }
   }
  },
  {
   "cell_type": "markdown",
   "source": [
    "## Attention"
   ],
   "metadata": {
    "collapsed": false,
    "pycharm": {
     "name": "#%% md\n"
    }
   }
  },
  {
   "cell_type": "markdown",
   "source": [
    "- When the input sequence is long, \"content vector\" alone cannot accurately represent the whole sequence, attention mechanism can provide the Decoder more information.\n",
    "- 当input_seq很长时 encoder产生的content vector不能准确表征整个句子 需要注意力机制为Decoder提供更多讯息\n",
    "- According to the **Decoder embeddings** of the current timestep, match the **Encoder outputs** with decoder embeddings to determine correlation,\n",
    "- and then sum the Encoder outputs weighted by the correlation as the input to **Decoder** RNN.\n",
    "- 将encoder的输出计算关联度之后放入decoder中\n",
    "-\n",
    "- Common attention implementations use neural network / dot product as the correlation between **query** (decoder embeddings) and **key** (Encoder outputs),\n",
    "- followed by **softmax**  to obtain a distribution, and finally **values** (Encoder outputs) is **weighted sum**-ed by said distribution.\n",
    "- 一般使用点击decoder_embeddings和encoder_outputs 在经过softmax得到分布 最终的结果和encoder_input加权和得到结果\n",
    "\n",
    "- Parameters:\n",
    "  - *input_embed_dim*: dimensionality of key, should be that of the vector in decoder to attend others\n",
    "  - *source_embed_dim*: dimensionality of query, should be that of the vector to be attended to (encoder outputs)\n",
    "  - *output_embed_dim*: dimensionality of value, should be that of the vector after attention, expected by the next layer\n",
    "  - **注意这里似乎是认为decoder提供key encoder提供query**\n",
    "\n",
    "- Inputs:\n",
    "    - *inputs*: is the key, the vector to attend to others\n",
    "    - *encoder_outputs*:  is the query/value, the vector to be attended to\n",
    "    - *encoder_padding_mask*: this tells the decoder which position to ignore\n",
    "- Outputs:\n",
    "    - *output*: the context vector after attention\n",
    "    - *attention score*: the attention distribution"
   ],
   "metadata": {
    "collapsed": false,
    "pycharm": {
     "name": "#%% md\n"
    }
   }
  },
  {
   "cell_type": "code",
   "execution_count": 66,
   "outputs": [],
   "source": [
    "class AttentionLayer(nn.Module):\n",
    "    def __init__(self, input_embed_dim, source_embed_dim, output_embed_dim, bias=False):\n",
    "        super().__init__()\n",
    "\n",
    "        self.input_proj = nn.Linear(input_embed_dim, source_embed_dim, bias=bias)  # key_dim -> query_dim\n",
    "        self.output_proj = nn.Linear(\n",
    "            input_embed_dim + source_embed_dim, output_embed_dim, bias=bias  # key_dim + query_dim  -> value_dim\n",
    "        )\n",
    "\n",
    "    def forward(self, inputs, encoder_outputs, encoder_padding_mask):\n",
    "        # inputs: T, B, dim              [decoder_seq_len, batch, key_dim]             T是当前decoder已经生成的词的长度也就是seq_len 是变化的\n",
    "        # encoder_outputs: S x B x dim   [encoder_seq_len, batch, query_dim]\n",
    "        # padding mask:  S x B           [encoder_seq_len, batch]\n",
    "        # 这里似乎认为是inputs是key encoder_outputs 是query  key_dim = embedding_dim  query_dim = 2*hidden_encoder\n",
    "\n",
    "        # convert all to batch first\n",
    "        inputs = inputs.transpose(1,0) # batch, decoder_seq_len, key_dim\n",
    "        encoder_outputs = encoder_outputs.transpose(1,0) # batch, encoder_seq_len, query_dim\n",
    "        encoder_padding_mask = encoder_padding_mask.transpose(1,0) # B, encoder_seq_len\n",
    "\n",
    "        # project to the dimensionality of encoder_outputs\n",
    "        x = self.input_proj(inputs)          # x [batch, seq_len, query_dim]\n",
    "\n",
    "        # compute attention\n",
    "        # (B, T, dim) x (B, dim, S) = (B, T, S)                  # encoder_output [batch, encoder_seq_len, query_dim] -> [batch, query_dim, encoder_seq_len]\n",
    "        attn_scores = torch.bmm(x, encoder_outputs.transpose(1,2))  # bmm -> attn_score[batch, decoder_seq_len, encoder_seq_len]\n",
    "                                                                    # 对于decoder_seq_len上的每个decoder_seq_one来说，他对于每个encoder_seq_len上的每个词的output考虑得多深\n",
    "                                                                    # 这就是attention\n",
    "\n",
    "        # cancel the attention at positions corresponding to padding\n",
    "        # 在encoder中提到过 句子通过padding成了统一长度，所以padding的部分不需要计算attention\n",
    "        if encoder_padding_mask is not None:\n",
    "            # leveraging broadcast  B, S -> (B, 1, S)\n",
    "            encoder_padding_mask = encoder_padding_mask.unsqueeze(1)\n",
    "            attn_scores = (\n",
    "                attn_scores.float()\n",
    "                .masked_fill_(encoder_padding_mask, float(\"-inf\"))\n",
    "                .type_as(attn_scores)\n",
    "            )  # FP16 support: cast to float and back\n",
    "\n",
    "        # softmax on the dimension corresponding to source sequence\n",
    "        attn_scores = F.softmax(attn_scores, dim=-1)   # 对最后一维做softmax\n",
    "\n",
    "        # shape (B, T, S) x (B, S, dim) = (B, T, dim) weighted sum\n",
    "        x = torch.bmm(attn_scores, encoder_outputs)  # 将attn_score计算于encoder_outputs上 [batch, decoder_seq_len, query_dim]\n",
    "\n",
    "        # (B, T, dim)\n",
    "        x = torch.cat((x, inputs), dim=-1) # x是[batch,seq_len,query_dim] inputs是[batch,seq_len,key_dim]\n",
    "                                           # cat之后就是[batch,seq_len,key_dim+query_dim] 正好对应output_proj层的输入\n",
    "        x = torch.tanh(self.output_proj(x)) # concat + linear + tanh [batch,seq_len,value_dim]\n",
    "\n",
    "        # restore shape (B, T, dim) -> (T, B, dim)\n",
    "        return x.transpose(1,0), attn_scores"
   ],
   "metadata": {
    "collapsed": false,
    "pycharm": {
     "name": "#%%\n"
    }
   }
  },
  {
   "cell_type": "markdown",
   "source": [
    "## Decoder"
   ],
   "metadata": {
    "collapsed": false,
    "pycharm": {
     "name": "#%% md\n"
    }
   }
  },
  {
   "cell_type": "markdown",
   "source": [
    "* The hidden states of **Decoder** will be initialized by the final hidden states of **Encoder** (the content vector)\n",
    "* Decoder的隐层神经元是使用Encoder的最后一层隐层神经元初始化的\n",
    "* At the same time, **Decoder** will change its hidden states based on the input of the current timestep (the outputs of previous timesteps), and generates an output\n",
    "* 同时 Decoder也会随时间不断更新当前的hidden_state\n",
    "* Attention improves the performance\n",
    "* The seq2seq steps are implemented in decoder, so that later the Seq2Seq class can accept RNN and Transformer, without furthur modification.\n",
    "- Parameters:\n",
    "  - *args*\n",
    "      - decoder_embed_dim: is the dimensionality of the decoder embeddings, similar to encoder_embed_dim，\n",
    "      - decoder_ffn_embed_dim: is the dimensionality of the decoder RNN hidden states, similar to encoder_ffn_embed_dim\n",
    "      - decoder_layers: number of layers of RNN decoder\n",
    "      - share_decoder_input_output_embed: usually, the projection matrix of the decoder will share weights with the decoder input embeddings\n",
    "  - *dictionary*: the dictionary provided by fairseq\n",
    "  - *embed_tokens*: an instance of token embeddings (nn.Embedding)\n",
    "- Inputs:\n",
    "    - *prev_output_tokens*: integer sequence representing the right-shifted target e.g. 1, 28, 29, 205, 2\n",
    "    - *encoder_out*: encoder's output.\n",
    "    - *incremental_state*: in order to speed up decoding during test time, we will save the hidden state of each timestep. see forward() for details.\n",
    "- Outputs:\n",
    "    - *outputs*: the logits (before softmax) output of decoder for each timesteps\n",
    "    - *extra*: unsused"
   ],
   "metadata": {
    "collapsed": false,
    "pycharm": {
     "name": "#%% md\n"
    }
   }
  },
  {
   "cell_type": "code",
   "execution_count": 67,
   "outputs": [],
   "source": [
    "class RNNDecoder(FairseqIncrementalDecoder):\n",
    "    def __init__(self, args, dictionary, embed_tokens):\n",
    "        super().__init__(dictionary)\n",
    "        self.embed_tokens = embed_tokens\n",
    "\n",
    "        assert args.decoder_layers == args.encoder_layers, f\"\"\"seq2seq rnn requires that encoder\n",
    "        and decoder have same layers of rnn. got: {args.encoder_layers, args.decoder_layers}\"\"\"\n",
    "        # encoder和decoder的层数是一样的\n",
    "        assert args.decoder_ffn_embed_dim == args.encoder_ffn_embed_dim*2, f\"\"\"seq2seq-rnn requires\n",
    "        that decoder hidden to be 2*encoder hidden dim. got: {args.decoder_ffn_embed_dim, args.encoder_ffn_embed_dim*2}\"\"\"\n",
    "        # decoder的hidden_out是encoder的两倍 原因在于会将attention和hidden拼接 所以变成两倍\n",
    "\n",
    "        self.embed_dim = args.decoder_embed_dim\n",
    "        self.hidden_dim = args.decoder_ffn_embed_dim\n",
    "        self.num_layers = args.decoder_layers\n",
    "\n",
    "\n",
    "        self.dropout_in_module = nn.Dropout(args.dropout)\n",
    "        self.rnn = nn.GRU(\n",
    "            self.embed_dim,\n",
    "            self.hidden_dim,\n",
    "            self.num_layers,\n",
    "            dropout=args.dropout,\n",
    "            batch_first=False,\n",
    "            bidirectional=False\n",
    "        )\n",
    "        self.attention = AttentionLayer(\n",
    "            self.embed_dim, self.hidden_dim, self.embed_dim, bias=False\n",
    "        )\n",
    "        # self.attention = None\n",
    "        self.dropout_out_module = nn.Dropout(args.dropout)\n",
    "\n",
    "        if self.hidden_dim != self.embed_dim:\n",
    "            self.project_out_dim = nn.Linear(self.hidden_dim, self.embed_dim)\n",
    "        else:\n",
    "            self.project_out_dim = None\n",
    "\n",
    "        if args.share_decoder_input_output_embed:\n",
    "            self.output_projection = nn.Linear(\n",
    "                self.embed_tokens.weight.shape[1],\n",
    "                self.embed_tokens.weight.shape[0],\n",
    "                bias=False,\n",
    "            )\n",
    "            self.output_projection.weight = self.embed_tokens.weight\n",
    "            # 共享参数\n",
    "        else:\n",
    "            self.output_projection = nn.Linear(\n",
    "                self.output_embed_dim, len(dictionary), bias=False\n",
    "            )\n",
    "            nn.init.normal_(\n",
    "                self.output_projection.weight, mean=0, std=self.output_embed_dim ** -0.5\n",
    "            )\n",
    "\n",
    "    def forward(self, prev_output_tokens, encoder_out, incremental_state=None, **unused):\n",
    "        # extract the outputs from encoder\n",
    "        encoder_outputs, encoder_hiddens, encoder_padding_mask = encoder_out\n",
    "        # outputs:          seq_len x batch x num_directions*hidden\n",
    "        # encoder_hiddens:  num_layers x batch x num_directions*encoder_hidden\n",
    "        # padding_mask:     seq_len x batch\n",
    "\n",
    "        if incremental_state is not None and len(incremental_state) > 0:\n",
    "            # if the information from last timestep is retained, we can continue from there instead of starting from bos\n",
    "            prev_output_tokens = prev_output_tokens[:, -1:]\n",
    "            cache_state = self.get_incremental_state(incremental_state, \"cached_state\")\n",
    "            prev_hiddens = cache_state[\"prev_hiddens\"]\n",
    "            # 如果上一时刻是有输出的即在decoder第2-n步 那么就使用上一步的hidden_state\n",
    "        else:\n",
    "            # incremental state does not exist, either this is training time, or the first timestep of test time\n",
    "            # prepare for seq2seq: pass the encoder_hidden to the decoder hidden states\n",
    "            prev_hiddens = encoder_hiddens\n",
    "            # 否则 只有可能是在decoder的第一步 那就需要使用encoder_hidden来初始化decoder的hidden_state\n",
    "\n",
    "        bsz, seqlen = prev_output_tokens.size()\n",
    "\n",
    "        # embed tokens\n",
    "        x = self.embed_tokens(prev_output_tokens)\n",
    "        x = self.dropout_in_module(x)\n",
    "\n",
    "        # B x T x C -> T x B x C\n",
    "        x = x.transpose(0, 1)\n",
    "\n",
    "        # decoder-to-encoder attention\n",
    "        if self.attention is not None:\n",
    "            x, attn = self.attention(x, encoder_outputs, encoder_padding_mask)\n",
    "            # 计算 attention x的维度没有改变\n",
    "\n",
    "        # pass thru unidirectional RNN\n",
    "        x, final_hiddens = self.rnn(x, prev_hiddens)\n",
    "        # outputs = [sequence len(now_step), batch size, hid dim]\n",
    "        # hidden =  [num_layers * directions, batch size  , hid dim]\n",
    "        x = self.dropout_out_module(x)\n",
    "\n",
    "        # project to embedding size (if hidden differs from embed size, and share_embedding is True,\n",
    "        # we need to do an extra projection)\n",
    "        if self.project_out_dim != None:\n",
    "            x = self.project_out_dim(x)\n",
    "            # 要将输出映射到embedding_dim上 相当于预测出了词向量embedding_vector\n",
    "\n",
    "        # project to vocab size\n",
    "        x = self.output_projection(x) # 将词向量计算成真正的词的概率分布\n",
    "\n",
    "        # T x B x C -> B x T x C\n",
    "        x = x.transpose(1, 0)\n",
    "\n",
    "        # if incremental, record the hidden states of current timestep, which will be restored in the next timestep\n",
    "        cache_state = {\n",
    "            \"prev_hiddens\": final_hiddens,\n",
    "        }\n",
    "        self.set_incremental_state(incremental_state, \"cached_state\", cache_state)\n",
    "\n",
    "        return x, None\n",
    "\n",
    "    def reorder_incremental_state(\n",
    "        self,\n",
    "        incremental_state,\n",
    "        new_order,\n",
    "    ):\n",
    "        # This is used by fairseq's beam search. How and why is not particularly important here.\n",
    "        cache_state = self.get_incremental_state(incremental_state, \"cached_state\")\n",
    "        prev_hiddens = cache_state[\"prev_hiddens\"]\n",
    "        prev_hiddens = [p.index_select(0, new_order) for p in prev_hiddens]\n",
    "        cache_state = {\n",
    "            \"prev_hiddens\": torch.stack(prev_hiddens),\n",
    "        }\n",
    "        self.set_incremental_state(incremental_state, \"cached_state\", cache_state)\n",
    "        return"
   ],
   "metadata": {
    "collapsed": false,
    "pycharm": {
     "name": "#%%\n"
    }
   }
  },
  {
   "cell_type": "markdown",
   "source": [
    "## Seq2Seq\n",
    "- Composed of **Encoder** and **Decoder**\n",
    "- Recieves inputs and pass to **Encoder**\n",
    "- Pass the outputs from **Encoder** to **Decoder**\n",
    "- **Decoder** will decode according to outputs of previous timesteps as well as **Encoder** outputs\n",
    "- Once done decoding, return the **Decoder** outputs"
   ],
   "metadata": {
    "collapsed": false,
    "pycharm": {
     "name": "#%% md\n"
    }
   }
  },
  {
   "cell_type": "code",
   "execution_count": 68,
   "outputs": [],
   "source": [
    "class Seq2Seq(FairseqEncoderDecoderModel):\n",
    "    def __init__(self, args, encoder, decoder):\n",
    "        super().__init__(encoder, decoder)\n",
    "        self.args = args\n",
    "\n",
    "    def forward(\n",
    "        self,\n",
    "        src_tokens,\n",
    "        src_lengths,\n",
    "        prev_output_tokens,\n",
    "        return_all_hiddens: bool = True,\n",
    "    ):\n",
    "        \"\"\"\n",
    "        Run the forward pass for an encoder-decoder model.\n",
    "        \"\"\"\n",
    "        encoder_out = self.encoder(\n",
    "            src_tokens, src_lengths=src_lengths, return_all_hiddens=return_all_hiddens\n",
    "        )\n",
    "        logits, extra = self.decoder(\n",
    "            prev_output_tokens,\n",
    "            encoder_out=encoder_out,\n",
    "            src_lengths=src_lengths,\n",
    "            return_all_hiddens=return_all_hiddens,\n",
    "        )\n",
    "        return logits, extra"
   ],
   "metadata": {
    "collapsed": false,
    "pycharm": {
     "name": "#%%\n"
    }
   }
  },
  {
   "cell_type": "markdown",
   "source": [
    "# Model Initialization"
   ],
   "metadata": {
    "collapsed": false,
    "pycharm": {
     "name": "#%% md\n"
    }
   }
  },
  {
   "cell_type": "code",
   "execution_count": 69,
   "outputs": [],
   "source": [
    "# # HINT: transformer architecture\n",
    "# from fairseq.models.transformer import (\n",
    "#     TransformerEncoder,\n",
    "#     TransformerDecoder,\n",
    "# )\n",
    "\n",
    "def build_model(args, task):\n",
    "    \"\"\" build a model instance based on hyperparameters \"\"\"\n",
    "    src_dict, tgt_dict = task.source_dictionary, task.target_dictionary\n",
    "\n",
    "    # token embeddings\n",
    "    encoder_embed_tokens = nn.Embedding(len(src_dict), args.encoder_embed_dim, src_dict.pad())\n",
    "    decoder_embed_tokens = nn.Embedding(len(tgt_dict), args.decoder_embed_dim, tgt_dict.pad())\n",
    "\n",
    "    # encoder decoder\n",
    "    # HINT: TODO: switch to TransformerEncoder & TransformerDecoder\n",
    "    encoder = RNNEncoder(args, src_dict, encoder_embed_tokens)\n",
    "    decoder = RNNDecoder(args, tgt_dict, decoder_embed_tokens)\n",
    "\n",
    "    # sequence to sequence model\n",
    "    model = Seq2Seq(args, encoder, decoder)\n",
    "\n",
    "    # initialization for seq2seq model is important, requires extra handling\n",
    "    def init_params(module):\n",
    "        from fairseq.modules import MultiheadAttention\n",
    "        if isinstance(module, nn.Linear):\n",
    "            module.weight.data.normal_(mean=0.0, std=0.02)\n",
    "            if module.bias is not None:\n",
    "                module.bias.data.zero_()\n",
    "        if isinstance(module, nn.Embedding):\n",
    "            module.weight.data.normal_(mean=0.0, std=0.02)\n",
    "            if module.padding_idx is not None:\n",
    "                module.weight.data[module.padding_idx].zero_()\n",
    "        if isinstance(module, MultiheadAttention):\n",
    "            module.q_proj.weight.data.normal_(mean=0.0, std=0.02)\n",
    "            module.k_proj.weight.data.normal_(mean=0.0, std=0.02)\n",
    "            module.v_proj.weight.data.normal_(mean=0.0, std=0.02)\n",
    "        if isinstance(module, nn.RNNBase):\n",
    "            for name, param in module.named_parameters():\n",
    "                if \"weight\" in name or \"bias\" in name:\n",
    "                    param.data.uniform_(-0.1, 0.1)\n",
    "\n",
    "    # weight initialization\n",
    "    model.apply(init_params)\n",
    "    return model"
   ],
   "metadata": {
    "collapsed": false,
    "pycharm": {
     "name": "#%%\n"
    }
   }
  },
  {
   "cell_type": "markdown",
   "source": [
    "## Architecture Related Configuration\n",
    "reference implementation\n",
    "\n",
    "|model|embedding dim|encoder ffn|encoder layers|decoder ffn|decoder layers|\n",
    "|-|-|-|-|-|-|\n",
    "|RNN|256|512|1|1024|1|\n",
    "|Transformer|256|1024|4|1024|4|\n"
   ],
   "metadata": {
    "collapsed": false,
    "pycharm": {
     "name": "#%% md\n"
    }
   }
  },
  {
   "cell_type": "code",
   "execution_count": 70,
   "outputs": [],
   "source": [
    "arch_args = Namespace(\n",
    "    encoder_embed_dim=256,\n",
    "    encoder_ffn_embed_dim=512,\n",
    "    encoder_layers=1,\n",
    "    decoder_embed_dim=256,\n",
    "    decoder_ffn_embed_dim=1024,\n",
    "    decoder_layers=1,\n",
    "    share_decoder_input_output_embed=True,\n",
    "    dropout=0.3,\n",
    ")\n",
    "# # HINT: these patches on parameters for Transformer\n",
    "# def add_transformer_args(args):\n",
    "#     args.encoder_attention_heads=4\n",
    "#     args.encoder_normalize_before=True\n",
    "\n",
    "#     args.decoder_attention_heads=4\n",
    "#     args.decoder_normalize_before=True\n",
    "\n",
    "#     args.activation_fn=\"relu\"\n",
    "#     args.max_source_positions=1024\n",
    "#     args.max_target_positions=1024\n",
    "\n",
    "#     # patches on default parameters for Transformer (those not set above)\n",
    "#     from fairseq.models.transformer import base_architecture\n",
    "#     base_architecture(arch_args)\n",
    "\n",
    "# add_transformer_args(arch_args)"
   ],
   "metadata": {
    "collapsed": false,
    "pycharm": {
     "name": "#%%\n"
    }
   }
  },
  {
   "cell_type": "code",
   "execution_count": 71,
   "outputs": [],
   "source": [
    "if config.use_wandb:\n",
    "    wandb.config.update(vars(arch_args))"
   ],
   "metadata": {
    "collapsed": false,
    "pycharm": {
     "name": "#%%\n"
    }
   }
  },
  {
   "cell_type": "code",
   "execution_count": 72,
   "outputs": [
    {
     "name": "stdout",
     "output_type": "stream",
     "text": [
      "2021-11-11 17:09:57 | INFO | hw5.seq2seq | Seq2Seq(\n",
      "  (encoder): RNNEncoder(\n",
      "    (embed_tokens): Embedding(8000, 256, padding_idx=1)\n",
      "    (dropout_in_module): Dropout(p=0.3, inplace=False)\n",
      "    (rnn): GRU(256, 512, dropout=0.3, bidirectional=True)\n",
      "    (dropout_out_module): Dropout(p=0.3, inplace=False)\n",
      "  )\n",
      "  (decoder): RNNDecoder(\n",
      "    (embed_tokens): Embedding(8000, 256, padding_idx=1)\n",
      "    (dropout_in_module): Dropout(p=0.3, inplace=False)\n",
      "    (rnn): GRU(256, 1024, dropout=0.3)\n",
      "    (attention): AttentionLayer(\n",
      "      (input_proj): Linear(in_features=256, out_features=1024, bias=False)\n",
      "      (output_proj): Linear(in_features=1280, out_features=256, bias=False)\n",
      "    )\n",
      "    (dropout_out_module): Dropout(p=0.3, inplace=False)\n",
      "    (project_out_dim): Linear(in_features=1024, out_features=256, bias=True)\n",
      "    (output_projection): Linear(in_features=256, out_features=8000, bias=False)\n",
      "  )\n",
      ")\n"
     ]
    },
    {
     "name": "stderr",
     "output_type": "stream",
     "text": [
      "/home/wy/anaconda3/lib/python3.8/site-packages/torch/nn/modules/rnn.py:60: UserWarning: dropout option adds dropout after all but last recurrent layer, so non-zero dropout expects num_layers greater than 1, but got dropout=0.3 and num_layers=1\n",
      "  warnings.warn(\"dropout option adds dropout after all but last \"\n"
     ]
    }
   ],
   "source": [
    "model = build_model(arch_args, task)\n",
    "logger.info(model)"
   ],
   "metadata": {
    "collapsed": false,
    "pycharm": {
     "name": "#%%\n"
    }
   }
  },
  {
   "cell_type": "markdown",
   "source": [
    "# Optimization\n",
    "\n",
    "## Loss: Label Smoothing Regularization\n",
    "* let the model learn to generate less concentrated distribution, and prevent over-confidence\n",
    "* sometimes the ground truth may not be the only answer. thus, when calculating loss, we reserve some probability for incorrect labels\n",
    "* avoids overfitting\n",
    "\n",
    "code [source](https://fairseq.readthedocs.io/en/latest/_modules/fairseq/criterions/label_smoothed_cross_entropy.html)"
   ],
   "metadata": {
    "collapsed": false,
    "pycharm": {
     "name": "#%% md\n"
    }
   }
  },
  {
   "cell_type": "code",
   "execution_count": 73,
   "outputs": [],
   "source": [
    "class LabelSmoothedCrossEntropyCriterion(nn.Module):\n",
    "    def __init__(self, smoothing, ignore_index=None, reduce=True):\n",
    "        super().__init__()\n",
    "        self.smoothing = smoothing\n",
    "        self.ignore_index = ignore_index\n",
    "        self.reduce = reduce\n",
    "\n",
    "    def forward(self, lprobs, target):\n",
    "        if target.dim() == lprobs.dim() - 1:\n",
    "            target = target.unsqueeze(-1)\n",
    "        # nll: Negative log likelihood，the cross-entropy when target is one-hot. following line is same as F.nll_loss\n",
    "        nll_loss = -lprobs.gather(dim=-1, index=target)\n",
    "        #  reserve some probability for other labels. thus when calculating cross-entropy,\n",
    "        # equivalent to summing the log probs of all labels\n",
    "        smooth_loss = -lprobs.sum(dim=-1, keepdim=True)\n",
    "        if self.ignore_index is not None:\n",
    "            pad_mask = target.eq(self.ignore_index)\n",
    "            nll_loss.masked_fill_(pad_mask, 0.0)\n",
    "            smooth_loss.masked_fill_(pad_mask, 0.0)\n",
    "        else:\n",
    "            nll_loss = nll_loss.squeeze(-1)\n",
    "            smooth_loss = smooth_loss.squeeze(-1)\n",
    "        if self.reduce:\n",
    "            nll_loss = nll_loss.sum()\n",
    "            smooth_loss = smooth_loss.sum()\n",
    "        # when calculating cross-entropy, add the loss of other labels\n",
    "        eps_i = self.smoothing / lprobs.size(-1)\n",
    "        loss = (1.0 - self.smoothing) * nll_loss + eps_i * smooth_loss\n",
    "        return loss\n",
    "\n",
    "# generally, 0.1 is good enough\n",
    "criterion = LabelSmoothedCrossEntropyCriterion(\n",
    "    smoothing=0.1,\n",
    "    ignore_index=task.target_dictionary.pad(),\n",
    ")"
   ],
   "metadata": {
    "collapsed": false,
    "pycharm": {
     "name": "#%%\n"
    }
   }
  },
  {
   "cell_type": "markdown",
   "source": [
    "## Optimizer: Adam + lr scheduling\n",
    "Inverse square root scheduling is important to the stability when training Transformer. It's later used on RNN as well.\n",
    "Update the learning rate according to the following equation. Linearly increase the first stage, then decay proportionally to the inverse square root of timestep.\n",
    "$$lrate = d_{\\text{model}}^{-0.5}\\cdot\\min({step\\_num}^{-0.5},{step\\_num}\\cdot{warmup\\_steps}^{-1.5})$$\n",
    "code [source](https://nlp.seas.harvard.edu/2018/04/03/attention.html)"
   ],
   "metadata": {
    "collapsed": false,
    "pycharm": {
     "name": "#%% md\n"
    }
   }
  },
  {
   "cell_type": "code",
   "execution_count": 74,
   "outputs": [],
   "source": [
    "class NoamOpt:\n",
    "    \"Optim wrapper that implements rate.\"\n",
    "    def __init__(self, model_size, factor, warmup, optimizer):\n",
    "        self.optimizer = optimizer\n",
    "        self._step = 0\n",
    "        self.warmup = warmup\n",
    "        self.factor = factor\n",
    "        self.model_size = model_size\n",
    "        self._rate = 0\n",
    "\n",
    "    @property\n",
    "    def param_groups(self):\n",
    "        return self.optimizer.param_groups\n",
    "\n",
    "    def multiply_grads(self, c):\n",
    "        \"\"\"Multiplies grads by a constant *c*.\"\"\"\n",
    "        for group in self.param_groups:\n",
    "            for p in group['params']:\n",
    "                if p.grad is not None:\n",
    "                    p.grad.data.mul_(c)\n",
    "\n",
    "    def step(self):\n",
    "        \"Update parameters and rate\"\n",
    "        self._step += 1\n",
    "        rate = self.rate()\n",
    "        for p in self.param_groups:\n",
    "            p['lr'] = rate\n",
    "        self._rate = rate\n",
    "        self.optimizer.step()\n",
    "\n",
    "    def rate(self, step = None):\n",
    "        \"Implement `lrate` above\"\n",
    "        if step is None:\n",
    "            step = self._step\n",
    "        return 0 if not step else self.factor * \\\n",
    "            (self.model_size ** (-0.5) *\n",
    "            min(step ** (-0.5), step * self.warmup ** (-1.5)))"
   ],
   "metadata": {
    "collapsed": false,
    "pycharm": {
     "name": "#%%\n"
    }
   }
  },
  {
   "cell_type": "code",
   "execution_count": 75,
   "outputs": [
    {
     "data": {
      "text/plain": "<Figure size 432x288 with 1 Axes>",
      "image/png": "[encoded data removed]"
     },
     "metadata": {
      "needs_background": "light"
     },
     "output_type": "display_data"
    }
   ],
   "source": [
    "optimizer = NoamOpt(\n",
    "    model_size=arch_args.encoder_embed_dim,\n",
    "    factor=config.lr_factor,\n",
    "    warmup=config.lr_warmup,\n",
    "    optimizer=torch.optim.AdamW(model.parameters(), lr=0, betas=(0.9, 0.98), eps=1e-9, weight_decay=0.0001))\n",
    "plt.plot(np.arange(1, 100000), [optimizer.rate(i) for i in range(1, 100000)])\n",
    "plt.legend([f\"{optimizer.model_size}:{optimizer.warmup}\"])\n",
    "None\n",
    "\n",
    "# warmup展示"
   ],
   "metadata": {
    "collapsed": false,
    "pycharm": {
     "name": "#%%\n"
    }
   }
  },
  {
   "cell_type": "markdown",
   "source": [
    "# Training"
   ],
   "metadata": {
    "collapsed": false,
    "pycharm": {
     "name": "#%% md\n"
    }
   }
  },
  {
   "cell_type": "code",
   "execution_count": 76,
   "outputs": [],
   "source": [
    "from fairseq.data import iterators\n",
    "from torch.cuda.amp import GradScaler, autocast\n",
    "\n",
    "def train_one_epoch(epoch_itr, model, task, criterion, optimizer, accum_steps=1):\n",
    "    itr = epoch_itr.next_epoch_itr(shuffle=True)\n",
    "    itr = iterators.GroupedIterator(itr, accum_steps) # gradient accumulation: update every accum_steps samples\n",
    "\n",
    "    stats = {\"loss\": []}\n",
    "    scaler = GradScaler() # automatic mixed precision (amp)\n",
    "\n",
    "    model.train()\n",
    "    progress = tqdm.tqdm(itr, desc=f\"train epoch {epoch_itr.epoch}\", leave=False)\n",
    "    for samples in progress:\n",
    "        model.zero_grad()\n",
    "        accum_loss = 0\n",
    "        sample_size = 0\n",
    "        # gradient accumulation: update every accum_steps samples\n",
    "        for i, sample in enumerate(samples):\n",
    "            if i == 1:\n",
    "                # emptying the CUDA cache after the first step can reduce the chance of OOM\n",
    "                torch.cuda.empty_cache()\n",
    "\n",
    "            sample = utils.move_to_cuda(sample, device=device)\n",
    "            target = sample[\"target\"]\n",
    "            sample_size_i = sample[\"ntokens\"]\n",
    "            sample_size += sample_size_i\n",
    "\n",
    "            # mixed precision training\n",
    "            with autocast():\n",
    "                net_output = model.forward(**sample[\"net_input\"])\n",
    "                lprobs = F.log_softmax(net_output[0], -1)\n",
    "                loss = criterion(lprobs.view(-1, lprobs.size(-1)), target.view(-1))\n",
    "\n",
    "                # logging\n",
    "                accum_loss += loss.item()\n",
    "                # back-prop\n",
    "                scaler.scale(loss).backward()\n",
    "\n",
    "        scaler.unscale_(optimizer)\n",
    "        optimizer.multiply_grads(1 / (sample_size or 1.0)) # (sample_size or 1.0) handles the case of a zero gradient\n",
    "        gnorm = nn.utils.clip_grad_norm_(model.parameters(), config.clip_norm) # grad norm clipping prevents gradient exploding\n",
    "\n",
    "        scaler.step(optimizer)\n",
    "        scaler.update()\n",
    "\n",
    "        # logging\n",
    "        loss_print = accum_loss/sample_size\n",
    "        stats[\"loss\"].append(loss_print)\n",
    "        progress.set_postfix(loss=loss_print)\n",
    "        if config.use_wandb:\n",
    "            wandb.log({\n",
    "                \"train/loss\": loss_print,\n",
    "                \"train/grad_norm\": gnorm.item(),\n",
    "                \"train/lr\": optimizer.rate(),\n",
    "                \"train/sample_size\": sample_size,\n",
    "            })\n",
    "\n",
    "    loss_print = np.mean(stats[\"loss\"])\n",
    "    logger.info(f\"training loss: {loss_print:.4f}\")\n",
    "    return stats"
   ],
   "metadata": {
    "collapsed": false,
    "pycharm": {
     "name": "#%%\n"
    }
   }
  },
  {
   "cell_type": "markdown",
   "source": [
    "## Validation & Inference\n",
    "To prevent overfitting, validation is required every epoch to validate the performance on unseen data.\n",
    "- the procedure is essensially same as training, with the addition of inference step\n",
    "- after validation we can save the model weights\n",
    "\n",
    "Validation loss alone cannot describe the actual performance of the model\n",
    "- Directly produce translation hypotheses based on current model, then calculate BLEU with the reference translation\n",
    "- We can also manually examine the hypotheses' quality\n",
    "- We use fairseq's sequence generator for beam search to generate translation hypotheses"
   ],
   "metadata": {
    "collapsed": false,
    "pycharm": {
     "name": "#%% md\n"
    }
   }
  },
  {
   "cell_type": "code",
   "execution_count": 77,
   "outputs": [],
   "source": [
    "# fairseq's beam search generator\n",
    "# given model and input seqeunce, produce translation hypotheses by beam search\n",
    "sequence_generator = task.build_generator([model], config)\n",
    "\n",
    "def decode(toks, dictionary):\n",
    "    # convert from Tensor to human readable sentence\n",
    "    s = dictionary.string(\n",
    "        toks.int().cpu(),\n",
    "        config.post_process,\n",
    "    )\n",
    "    return s if s else \"<unk>\"\n",
    "\n",
    "def inference_step(sample, model):\n",
    "    gen_out = sequence_generator.generate([model], sample)\n",
    "    srcs = []\n",
    "    hyps = []\n",
    "    refs = []\n",
    "    for i in range(len(gen_out)):\n",
    "        # for each sample, collect the input, hypothesis and reference, later be used to calculate BLEU\n",
    "        srcs.append(decode(\n",
    "            utils.strip_pad(sample[\"net_input\"][\"src_tokens\"][i], task.source_dictionary.pad()),\n",
    "            task.source_dictionary,\n",
    "        ))\n",
    "        hyps.append(decode(\n",
    "            gen_out[i][0][\"tokens\"], # 0 indicates using the top hypothesis in beam\n",
    "            task.target_dictionary,\n",
    "        ))\n",
    "        refs.append(decode(\n",
    "            utils.strip_pad(sample[\"target\"][i], task.target_dictionary.pad()),\n",
    "            task.target_dictionary,\n",
    "        ))\n",
    "    return srcs, hyps, refs"
   ],
   "metadata": {
    "collapsed": false,
    "pycharm": {
     "name": "#%%\n"
    }
   }
  },
  {
   "cell_type": "code",
   "execution_count": 78,
   "outputs": [],
   "source": [
    "import shutil\n",
    "import sacrebleu\n",
    "\n",
    "def validate(model, task, criterion, log_to_wandb=True):\n",
    "    logger.info('begin validation')\n",
    "    itr = load_data_iterator(task, \"valid\", 1, config.max_tokens, config.num_workers).next_epoch_itr(shuffle=False)\n",
    "\n",
    "    stats = {\"loss\":[], \"bleu\": 0, \"srcs\":[], \"hyps\":[], \"refs\":[]}\n",
    "    srcs = []\n",
    "    hyps = []\n",
    "    refs = []\n",
    "\n",
    "    model.eval()\n",
    "    progress = tqdm.tqdm(itr, desc=f\"validation\", leave=False)\n",
    "    with torch.no_grad():\n",
    "        for i, sample in enumerate(progress):\n",
    "            # validation loss\n",
    "            sample = utils.move_to_cuda(sample, device=device)\n",
    "            net_output = model.forward(**sample[\"net_input\"])\n",
    "\n",
    "            lprobs = F.log_softmax(net_output[0], -1)\n",
    "            target = sample[\"target\"]\n",
    "            sample_size = sample[\"ntokens\"]\n",
    "            loss = criterion(lprobs.view(-1, lprobs.size(-1)), target.view(-1)) / sample_size\n",
    "            progress.set_postfix(valid_loss=loss.item())\n",
    "            stats[\"loss\"].append(loss)\n",
    "\n",
    "            # do inference\n",
    "            s, h, r = inference_step(sample, model)\n",
    "            srcs.extend(s)\n",
    "            hyps.extend(h)\n",
    "            refs.extend(r)\n",
    "\n",
    "    tok = 'zh' if task.cfg.target_lang == 'zh' else '13a'\n",
    "    stats[\"loss\"] = torch.stack(stats[\"loss\"]).mean().item()\n",
    "    stats[\"bleu\"] = sacrebleu.corpus_bleu(hyps, [refs], tokenize=tok) # 計算BLEU score\n",
    "    stats[\"srcs\"] = srcs\n",
    "    stats[\"hyps\"] = hyps\n",
    "    stats[\"refs\"] = refs\n",
    "\n",
    "    if config.use_wandb and log_to_wandb:\n",
    "        wandb.log({\n",
    "            \"valid/loss\": stats[\"loss\"],\n",
    "            \"valid/bleu\": stats[\"bleu\"].score,\n",
    "        }, commit=False)\n",
    "\n",
    "    showid = np.random.randint(len(hyps))\n",
    "    logger.info(\"example source: \" + srcs[showid])\n",
    "    logger.info(\"example hypothesis: \" + hyps[showid])\n",
    "    logger.info(\"example reference: \" + refs[showid])\n",
    "\n",
    "    # show bleu results\n",
    "    logger.info(f\"validation loss:\\t{stats['loss']:.4f}\")\n",
    "    logger.info(stats[\"bleu\"].format())\n",
    "    return stats"
   ],
   "metadata": {
    "collapsed": false,
    "pycharm": {
     "name": "#%%\n"
    }
   }
  },
  {
   "cell_type": "code",
   "execution_count": 79,
   "outputs": [],
   "source": [
    "def validate_and_save(model, task, criterion, optimizer, epoch, save=True):\n",
    "    stats = validate(model, task, criterion)\n",
    "    bleu = stats['bleu']\n",
    "    loss = stats['loss']\n",
    "    if save:\n",
    "        # save epoch checkpoints\n",
    "        savedir = Path(config.savedir).absolute()\n",
    "        savedir.mkdir(parents=True, exist_ok=True)\n",
    "\n",
    "        check = {\n",
    "            \"model\": model.state_dict(),\n",
    "            \"stats\": {\"bleu\": bleu.score, \"loss\": loss},\n",
    "            \"optim\": {\"step\": optimizer._step}\n",
    "        }\n",
    "        torch.save(check, savedir/f\"checkpoint{epoch}.pt\")\n",
    "        shutil.copy(savedir/f\"checkpoint{epoch}.pt\", savedir/f\"checkpoint_last.pt\")\n",
    "        logger.info(f\"saved epoch checkpoint: {savedir}/checkpoint{epoch}.pt\")\n",
    "\n",
    "        # save epoch samples\n",
    "        with open(savedir/f\"samples{epoch}.{config.source_lang}-{config.target_lang}.txt\", \"w\") as f:\n",
    "            for s, h in zip(stats[\"srcs\"], stats[\"hyps\"]):\n",
    "                f.write(f\"{s}\\t{h}\\n\")\n",
    "\n",
    "        # get best valid bleu\n",
    "        if getattr(validate_and_save, \"best_bleu\", 0) < bleu.score:\n",
    "            validate_and_save.best_bleu = bleu.score\n",
    "            torch.save(check, savedir/f\"checkpoint_best.pt\")\n",
    "\n",
    "        del_file = savedir / f\"checkpoint{epoch - config.keep_last_epochs}.pt\"\n",
    "        if del_file.exists():\n",
    "            del_file.unlink()\n",
    "\n",
    "    return stats\n",
    "\n",
    "def try_load_checkpoint(model, optimizer=None, name=None):\n",
    "    name = name if name else \"checkpoint_last.pt\"\n",
    "    checkpath = Path(config.savedir)/name\n",
    "    if checkpath.exists():\n",
    "        check = torch.load(checkpath)\n",
    "        model.load_state_dict(check[\"model\"])\n",
    "        stats = check[\"stats\"]\n",
    "        step = \"unknown\"\n",
    "        if optimizer != None:\n",
    "            optimizer._step = step = check[\"optim\"][\"step\"]\n",
    "        logger.info(f\"loaded checkpoint {checkpath}: step={step} loss={stats['loss']} bleu={stats['bleu']}\")\n",
    "    else:\n",
    "        logger.info(f\"no checkpoints found at {checkpath}!\")"
   ],
   "metadata": {
    "collapsed": false,
    "pycharm": {
     "name": "#%%\n"
    }
   }
  },
  {
   "cell_type": "markdown",
   "source": [
    "# Main\n",
    "## Training loop"
   ],
   "metadata": {
    "collapsed": false,
    "pycharm": {
     "name": "#%% md\n"
    }
   }
  },
  {
   "cell_type": "code",
   "execution_count": 80,
   "outputs": [],
   "source": [
    "model = model.to(device=device)\n",
    "criterion = criterion.to(device=device)"
   ],
   "metadata": {
    "collapsed": false,
    "pycharm": {
     "name": "#%%\n"
    }
   }
  },
  {
   "cell_type": "code",
   "execution_count": 81,
   "outputs": [
    {
     "name": "stdout",
     "output_type": "stream",
     "text": [
      "2021-11-11 17:09:58 | INFO | hw5.seq2seq | task: TranslationTask\n",
      "2021-11-11 17:09:58 | INFO | hw5.seq2seq | encoder: RNNEncoder\n",
      "2021-11-11 17:09:58 | INFO | hw5.seq2seq | decoder: RNNDecoder\n",
      "2021-11-11 17:09:58 | INFO | hw5.seq2seq | criterion: LabelSmoothedCrossEntropyCriterion\n",
      "2021-11-11 17:09:58 | INFO | hw5.seq2seq | optimizer: NoamOpt\n",
      "2021-11-11 17:09:58 | INFO | hw5.seq2seq | num. model params: 11,251,968 (num. trained: 11,251,968)\n",
      "2021-11-11 17:09:58 | INFO | hw5.seq2seq | max tokens per batch = 8192, accumulate steps = 2\n"
     ]
    }
   ],
   "source": [
    "logger.info(\"task: {}\".format(task.__class__.__name__))\n",
    "logger.info(\"encoder: {}\".format(model.encoder.__class__.__name__))\n",
    "logger.info(\"decoder: {}\".format(model.decoder.__class__.__name__))\n",
    "logger.info(\"criterion: {}\".format(criterion.__class__.__name__))\n",
    "logger.info(\"optimizer: {}\".format(optimizer.__class__.__name__))\n",
    "logger.info(\n",
    "    \"num. model params: {:,} (num. trained: {:,})\".format(\n",
    "        sum(p.numel() for p in model.parameters()),\n",
    "        sum(p.numel() for p in model.parameters() if p.requires_grad),\n",
    "    )\n",
    ")\n",
    "logger.info(f\"max tokens per batch = {config.max_tokens}, accumulate steps = {config.accum_steps}\")"
   ],
   "metadata": {
    "collapsed": false,
    "pycharm": {
     "name": "#%%\n"
    }
   }
  },
  {
   "cell_type": "code",
   "execution_count": 82,
   "outputs": [
    {
     "name": "stdout",
     "output_type": "stream",
     "text": [
      "2021-11-11 17:09:59 | WARNING | fairseq.tasks.fairseq_task | 1 samples have invalid sizes and will be skipped, max_positions=(1024, 1024), first few sample ids=[326674]\n",
      "2021-11-11 17:09:59 | INFO | hw5.seq2seq | loaded checkpoint checkpoints/rnn/checkpoint_last.pt: step=23370 loss=3.8248257637023926 bleu=18.396943312773637\n"
     ]
    },
    {
     "data": {
      "text/plain": "HBox(children=(HTML(value='train epoch 1'), FloatProgress(value=0.0, max=791.0), HTML(value='')))",
      "application/vnd.jupyter.widget-view+json": {
       "version_major": 2,
       "version_minor": 0,
       "model_id": "de7d97c5bcf749fb9485be853bfa8231"
      }
     },
     "metadata": {},
     "output_type": "display_data"
    },
    {
     "name": "stdout",
     "output_type": "stream",
     "text": [
      "2021-11-11 17:11:00 | INFO | hw5.seq2seq | training loss: 3.9313\n",
      "2021-11-11 17:11:00 | INFO | hw5.seq2seq | begin validation\n"
     ]
    },
    {
     "data": {
      "text/plain": "HBox(children=(HTML(value='validation'), FloatProgress(value=0.0, max=22.0), HTML(value='')))",
      "application/vnd.jupyter.widget-view+json": {
       "version_major": 2,
       "version_minor": 0,
       "model_id": "df363a16948f4d59918c1633caabcfba"
      }
     },
     "metadata": {},
     "output_type": "display_data"
    },
    {
     "name": "stdout",
     "output_type": "stream",
     "text": [
      "2021-11-11 17:11:15 | INFO | hw5.seq2seq | example source: but the point is , it doesn't feel that way .\n",
      "2021-11-11 17:11:15 | INFO | hw5.seq2seq | example hypothesis: 但重點是 , 它不會感覺那樣 。\n",
      "2021-11-11 17:11:15 | INFO | hw5.seq2seq | example reference: 但重點是 , 感覺起來卻不是那麼回事呀\n",
      "2021-11-11 17:11:15 | INFO | hw5.seq2seq | validation loss:\t3.8259\n",
      "2021-11-11 17:11:15 | INFO | hw5.seq2seq | BLEU = 18.25 49.2/25.3/14.0/8.2 (BP = 0.937 ratio = 0.939 hyp_len = 104975 ref_len = 111811)\n",
      "2021-11-11 17:11:16 | INFO | hw5.seq2seq | saved epoch checkpoint: /home/wy/ML_study/chapter5/checkpoints/rnn/checkpoint1.pt\n",
      "2021-11-11 17:11:16 | INFO | hw5.seq2seq | end of epoch 1\n"
     ]
    },
    {
     "data": {
      "text/plain": "HBox(children=(HTML(value='train epoch 2'), FloatProgress(value=0.0, max=791.0), HTML(value='')))",
      "application/vnd.jupyter.widget-view+json": {
       "version_major": 2,
       "version_minor": 0,
       "model_id": "54cd34b6fcf54830acd9e0963e12bea9"
      }
     },
     "metadata": {},
     "output_type": "display_data"
    },
    {
     "name": "stderr",
     "output_type": "stream",
     "text": [
      "Exception ignored in: <function _MultiProcessingDataLoaderIter.__del__ at 0x7f3e297d9790>\n",
      "Traceback (most recent call last):\n",
      "  File \"/home/wy/anaconda3/lib/python3.8/site-packages/torch/utils/data/dataloader.py\", line 1324, in __del__\n",
      "    self._shutdown_workers()\n",
      "  File \"/home/wy/anaconda3/lib/python3.8/site-packages/torch/utils/data/dataloader.py\", line 1316, in _shutdown_workers\n",
      "    if w.is_alive():\n",
      "  File \"/home/wy/anaconda3/lib/python3.8/multiprocessing/process.py\", line 160, in is_alive\n",
      "    assert self._parent_pid == os.getpid(), 'can only test a child process'\n",
      "AssertionError: can only test a child process\n",
      "Exception ignored in: <function _MultiProcessingDataLoaderIter.__del__ at 0x7f3e297d9790>\n",
      "Traceback (most recent call last):\n",
      "  File \"/home/wy/anaconda3/lib/python3.8/site-packages/torch/utils/data/dataloader.py\", line 1324, in __del__\n",
      "    self._shutdown_workers()\n",
      "  File \"/home/wy/anaconda3/lib/python3.8/site-packages/torch/utils/data/dataloader.py\", line 1316, in _shutdown_workers\n",
      "    if w.is_alive():\n",
      "  File \"/home/wy/anaconda3/lib/python3.8/multiprocessing/process.py\", line 160, in is_alive\n",
      "    assert self._parent_pid == os.getpid(), 'can only test a child process'\n",
      "AssertionError: can only test a child process\n"
     ]
    },
    {
     "name": "stdout",
     "output_type": "stream",
     "text": [
      "2021-11-11 17:12:18 | INFO | hw5.seq2seq | training loss: 3.9237\n",
      "2021-11-11 17:12:18 | INFO | hw5.seq2seq | begin validation\n"
     ]
    },
    {
     "data": {
      "text/plain": "HBox(children=(HTML(value='validation'), FloatProgress(value=0.0, max=22.0), HTML(value='')))",
      "application/vnd.jupyter.widget-view+json": {
       "version_major": 2,
       "version_minor": 0,
       "model_id": "b6cb8519615f45d695a76c4f3394caba"
      }
     },
     "metadata": {},
     "output_type": "display_data"
    },
    {
     "name": "stdout",
     "output_type": "stream",
     "text": [
      "2021-11-11 17:12:33 | INFO | hw5.seq2seq | example source: we can push through that .\n",
      "2021-11-11 17:12:33 | INFO | hw5.seq2seq | example hypothesis: 我們可以推動這一點 。\n",
      "2021-11-11 17:12:33 | INFO | hw5.seq2seq | example reference: 我們可以衝破這些限制 。\n",
      "2021-11-11 17:12:33 | INFO | hw5.seq2seq | validation loss:\t3.8228\n",
      "2021-11-11 17:12:33 | INFO | hw5.seq2seq | BLEU = 18.33 48.2/24.9/13.7/7.9 (BP = 0.964 ratio = 0.964 hyp_len = 107804 ref_len = 111811)\n",
      "2021-11-11 17:12:34 | INFO | hw5.seq2seq | saved epoch checkpoint: /home/wy/ML_study/chapter5/checkpoints/rnn/checkpoint2.pt\n",
      "2021-11-11 17:12:34 | INFO | hw5.seq2seq | end of epoch 2\n"
     ]
    },
    {
     "data": {
      "text/plain": "HBox(children=(HTML(value='train epoch 3'), FloatProgress(value=0.0, max=791.0), HTML(value='')))",
      "application/vnd.jupyter.widget-view+json": {
       "version_major": 2,
       "version_minor": 0,
       "model_id": "c52bf6753ba44e9eaa040bd737442715"
      }
     },
     "metadata": {},
     "output_type": "display_data"
    },
    {
     "name": "stdout",
     "output_type": "stream",
     "text": [
      "2021-11-11 17:13:35 | INFO | hw5.seq2seq | training loss: 3.9188\n",
      "2021-11-11 17:13:35 | INFO | hw5.seq2seq | begin validation\n"
     ]
    },
    {
     "data": {
      "text/plain": "HBox(children=(HTML(value='validation'), FloatProgress(value=0.0, max=22.0), HTML(value='')))",
      "application/vnd.jupyter.widget-view+json": {
       "version_major": 2,
       "version_minor": 0,
       "model_id": "52a835228dbc4b6d8dc83ef058300b0b"
      }
     },
     "metadata": {},
     "output_type": "display_data"
    },
    {
     "name": "stdout",
     "output_type": "stream",
     "text": [
      "2021-11-11 17:13:51 | INFO | hw5.seq2seq | example source: thank you .\n",
      "2021-11-11 17:13:51 | INFO | hw5.seq2seq | example hypothesis: 謝謝 。\n",
      "2021-11-11 17:13:51 | INFO | hw5.seq2seq | example reference: 謝謝 。\n",
      "2021-11-11 17:13:51 | INFO | hw5.seq2seq | validation loss:\t3.8143\n",
      "2021-11-11 17:13:51 | INFO | hw5.seq2seq | BLEU = 18.61 47.8/24.6/13.7/8.0 (BP = 0.983 ratio = 0.984 hyp_len = 109967 ref_len = 111811)\n",
      "2021-11-11 17:13:51 | INFO | hw5.seq2seq | saved epoch checkpoint: /home/wy/ML_study/chapter5/checkpoints/rnn/checkpoint3.pt\n",
      "2021-11-11 17:13:51 | INFO | hw5.seq2seq | end of epoch 3\n"
     ]
    },
    {
     "data": {
      "text/plain": "HBox(children=(HTML(value='train epoch 4'), FloatProgress(value=0.0, max=791.0), HTML(value='')))",
      "application/vnd.jupyter.widget-view+json": {
       "version_major": 2,
       "version_minor": 0,
       "model_id": "70c03e4b351d4d76bea3b8fa3b76a370"
      }
     },
     "metadata": {},
     "output_type": "display_data"
    },
    {
     "name": "stdout",
     "output_type": "stream",
     "text": [
      "2021-11-11 17:14:53 | INFO | hw5.seq2seq | training loss: 3.9117\n",
      "2021-11-11 17:14:53 | INFO | hw5.seq2seq | begin validation\n"
     ]
    },
    {
     "data": {
      "text/plain": "HBox(children=(HTML(value='validation'), FloatProgress(value=0.0, max=22.0), HTML(value='')))",
      "application/vnd.jupyter.widget-view+json": {
       "version_major": 2,
       "version_minor": 0,
       "model_id": "baf460b4f8c0434d88f430d38be40ed4"
      }
     },
     "metadata": {},
     "output_type": "display_data"
    },
    {
     "name": "stdout",
     "output_type": "stream",
     "text": [
      "2021-11-11 17:15:09 | INFO | hw5.seq2seq | example source: those men would eventually be convicted of placing a van filled with 1 , 500 pounds of explosives into the sublevel parking lot of the world trade center's north tower , causing an explosion that killed six people and injured over 1 , 000 others .\n",
      "2021-11-11 17:15:09 | INFO | hw5.seq2seq | example hypothesis: 那些男人最終會被邀請 , 將一萬五百磅的炸彈爆炸 , 殺害六人 , 並受傷超過1000磅的爆炸 。\n",
      "2021-11-11 17:15:09 | INFO | hw5.seq2seq | example reference: 這群男人最終被指控將滿載1500磅重的炸彈的廂式貨車停在世界貿易中心北塔的地下停車場 , 爆炸造成6人死亡 , 同時致使超過1000人受傷 。\n",
      "2021-11-11 17:15:09 | INFO | hw5.seq2seq | validation loss:\t3.8116\n",
      "2021-11-11 17:15:09 | INFO | hw5.seq2seq | BLEU = 18.48 48.3/24.9/13.8/8.0 (BP = 0.970 ratio = 0.970 hyp_len = 108477 ref_len = 111811)\n",
      "2021-11-11 17:15:10 | INFO | hw5.seq2seq | saved epoch checkpoint: /home/wy/ML_study/chapter5/checkpoints/rnn/checkpoint4.pt\n",
      "2021-11-11 17:15:10 | INFO | hw5.seq2seq | end of epoch 4\n"
     ]
    },
    {
     "data": {
      "text/plain": "HBox(children=(HTML(value='train epoch 5'), FloatProgress(value=0.0, max=791.0), HTML(value='')))",
      "application/vnd.jupyter.widget-view+json": {
       "version_major": 2,
       "version_minor": 0,
       "model_id": "35365047c462440ab0cf5f97ed0858bc"
      }
     },
     "metadata": {},
     "output_type": "display_data"
    },
    {
     "name": "stdout",
     "output_type": "stream",
     "text": [
      "2021-11-11 17:16:11 | INFO | hw5.seq2seq | training loss: 3.9016\n",
      "2021-11-11 17:16:11 | INFO | hw5.seq2seq | begin validation\n"
     ]
    },
    {
     "data": {
      "text/plain": "HBox(children=(HTML(value='validation'), FloatProgress(value=0.0, max=22.0), HTML(value='')))",
      "application/vnd.jupyter.widget-view+json": {
       "version_major": 2,
       "version_minor": 0,
       "model_id": "2e3d5c8cea354cec9e7c7c77127d39e3"
      }
     },
     "metadata": {},
     "output_type": "display_data"
    },
    {
     "name": "stdout",
     "output_type": "stream",
     "text": [
      "2021-11-11 17:16:27 | INFO | hw5.seq2seq | example source: but this is really how i go about creating these photographs .\n",
      "2021-11-11 17:16:27 | INFO | hw5.seq2seq | example hypothesis: 但這真的是我要如何創造這些照片 。\n",
      "2021-11-11 17:16:27 | INFO | hw5.seq2seq | example reference: 但是我真的是這樣做出這些相片的 。\n",
      "2021-11-11 17:16:27 | INFO | hw5.seq2seq | validation loss:\t3.8078\n",
      "2021-11-11 17:16:27 | INFO | hw5.seq2seq | BLEU = 18.30 46.5/23.8/13.2/7.7 (BP = 1.000 ratio = 1.018 hyp_len = 113823 ref_len = 111811)\n",
      "2021-11-11 17:16:27 | INFO | hw5.seq2seq | saved epoch checkpoint: /home/wy/ML_study/chapter5/checkpoints/rnn/checkpoint5.pt\n",
      "2021-11-11 17:16:27 | INFO | hw5.seq2seq | end of epoch 5\n"
     ]
    },
    {
     "data": {
      "text/plain": "HBox(children=(HTML(value='train epoch 6'), FloatProgress(value=0.0, max=791.0), HTML(value='')))",
      "application/vnd.jupyter.widget-view+json": {
       "version_major": 2,
       "version_minor": 0,
       "model_id": "114b8709d8d1479880621796aa09e1d1"
      }
     },
     "metadata": {},
     "output_type": "display_data"
    },
    {
     "name": "stdout",
     "output_type": "stream",
     "text": [
      "2021-11-11 17:17:30 | INFO | hw5.seq2seq | training loss: 3.8950\n",
      "2021-11-11 17:17:30 | INFO | hw5.seq2seq | begin validation\n"
     ]
    },
    {
     "data": {
      "text/plain": "HBox(children=(HTML(value='validation'), FloatProgress(value=0.0, max=22.0), HTML(value='')))",
      "application/vnd.jupyter.widget-view+json": {
       "version_major": 2,
       "version_minor": 0,
       "model_id": "21d30c4685ac45e3876139f781fa019f"
      }
     },
     "metadata": {},
     "output_type": "display_data"
    },
    {
     "name": "stdout",
     "output_type": "stream",
     "text": [
      "2021-11-11 17:17:46 | INFO | hw5.seq2seq | example source: so that is a fact .\n",
      "2021-11-11 17:17:46 | INFO | hw5.seq2seq | example hypothesis: 這是事實 。\n",
      "2021-11-11 17:17:46 | INFO | hw5.seq2seq | example reference: 這就是事實\n",
      "2021-11-11 17:17:46 | INFO | hw5.seq2seq | validation loss:\t3.8043\n",
      "2021-11-11 17:17:46 | INFO | hw5.seq2seq | BLEU = 18.83 48.1/24.8/13.8/8.0 (BP = 0.988 ratio = 0.988 hyp_len = 110511 ref_len = 111811)\n",
      "2021-11-11 17:17:46 | INFO | hw5.seq2seq | saved epoch checkpoint: /home/wy/ML_study/chapter5/checkpoints/rnn/checkpoint6.pt\n",
      "2021-11-11 17:17:47 | INFO | hw5.seq2seq | end of epoch 6\n"
     ]
    },
    {
     "data": {
      "text/plain": "HBox(children=(HTML(value='train epoch 7'), FloatProgress(value=0.0, max=791.0), HTML(value='')))",
      "application/vnd.jupyter.widget-view+json": {
       "version_major": 2,
       "version_minor": 0,
       "model_id": "b9f4e946253a4c9ca1c787aa798ca278"
      }
     },
     "metadata": {},
     "output_type": "display_data"
    },
    {
     "name": "stdout",
     "output_type": "stream",
     "text": [
      "2021-11-11 17:18:48 | INFO | hw5.seq2seq | training loss: 3.8906\n",
      "2021-11-11 17:18:48 | INFO | hw5.seq2seq | begin validation\n"
     ]
    },
    {
     "data": {
      "text/plain": "HBox(children=(HTML(value='validation'), FloatProgress(value=0.0, max=22.0), HTML(value='')))",
      "application/vnd.jupyter.widget-view+json": {
       "version_major": 2,
       "version_minor": 0,
       "model_id": "1517863c0531486fb57ecf7f21af7c57"
      }
     },
     "metadata": {},
     "output_type": "display_data"
    },
    {
     "name": "stdout",
     "output_type": "stream",
     "text": [
      "2021-11-11 17:19:03 | INFO | hw5.seq2seq | example source: thank you so much everyone .\n",
      "2021-11-11 17:19:03 | INFO | hw5.seq2seq | example hypothesis: 非常謝謝大家 。\n",
      "2021-11-11 17:19:03 | INFO | hw5.seq2seq | example reference: 謝謝大家 !\n",
      "2021-11-11 17:19:03 | INFO | hw5.seq2seq | validation loss:\t3.8091\n",
      "2021-11-11 17:19:03 | INFO | hw5.seq2seq | BLEU = 18.23 50.2/26.1/14.5/8.5 (BP = 0.910 ratio = 0.914 hyp_len = 102172 ref_len = 111811)\n",
      "2021-11-11 17:19:03 | INFO | hw5.seq2seq | saved epoch checkpoint: /home/wy/ML_study/chapter5/checkpoints/rnn/checkpoint7.pt\n",
      "2021-11-11 17:19:03 | INFO | hw5.seq2seq | end of epoch 7\n"
     ]
    },
    {
     "data": {
      "text/plain": "HBox(children=(HTML(value='train epoch 8'), FloatProgress(value=0.0, max=791.0), HTML(value='')))",
      "application/vnd.jupyter.widget-view+json": {
       "version_major": 2,
       "version_minor": 0,
       "model_id": "fc1e8637efd943b9825e3bad88525af9"
      }
     },
     "metadata": {},
     "output_type": "display_data"
    },
    {
     "name": "stdout",
     "output_type": "stream",
     "text": [
      "2021-11-11 17:20:05 | INFO | hw5.seq2seq | training loss: 3.8845\n",
      "2021-11-11 17:20:06 | INFO | hw5.seq2seq | begin validation\n"
     ]
    },
    {
     "data": {
      "text/plain": "HBox(children=(HTML(value='validation'), FloatProgress(value=0.0, max=22.0), HTML(value='')))",
      "application/vnd.jupyter.widget-view+json": {
       "version_major": 2,
       "version_minor": 0,
       "model_id": "19bc491a9b084b1daaa394d28abbbb49"
      }
     },
     "metadata": {},
     "output_type": "display_data"
    },
    {
     "name": "stdout",
     "output_type": "stream",
     "text": [
      "2021-11-11 17:20:21 | INFO | hw5.seq2seq | example source: these differences became a source of inspired artistic celebration .\n",
      "2021-11-11 17:20:21 | INFO | hw5.seq2seq | example hypothesis: 這些差異變成了激發藝術慶祝的源源 。\n",
      "2021-11-11 17:20:21 | INFO | hw5.seq2seq | example reference: 這些差異變成了一個源頭 , 富有靈感之藝術讚頌的源頭 。\n",
      "2021-11-11 17:20:21 | INFO | hw5.seq2seq | validation loss:\t3.7978\n",
      "2021-11-11 17:20:21 | INFO | hw5.seq2seq | BLEU = 18.59 48.6/25.1/13.9/8.1 (BP = 0.966 ratio = 0.966 hyp_len = 108038 ref_len = 111811)\n",
      "2021-11-11 17:20:22 | INFO | hw5.seq2seq | saved epoch checkpoint: /home/wy/ML_study/chapter5/checkpoints/rnn/checkpoint8.pt\n",
      "2021-11-11 17:20:22 | INFO | hw5.seq2seq | end of epoch 8\n"
     ]
    },
    {
     "data": {
      "text/plain": "HBox(children=(HTML(value='train epoch 9'), FloatProgress(value=0.0, max=791.0), HTML(value='')))",
      "application/vnd.jupyter.widget-view+json": {
       "version_major": 2,
       "version_minor": 0,
       "model_id": "a7270e45b0164c69bd83756e54b3eac0"
      }
     },
     "metadata": {},
     "output_type": "display_data"
    },
    {
     "name": "stdout",
     "output_type": "stream",
     "text": [
      "2021-11-11 17:21:22 | INFO | hw5.seq2seq | training loss: 3.8793\n",
      "2021-11-11 17:21:22 | INFO | hw5.seq2seq | begin validation\n"
     ]
    },
    {
     "data": {
      "text/plain": "HBox(children=(HTML(value='validation'), FloatProgress(value=0.0, max=22.0), HTML(value='')))",
      "application/vnd.jupyter.widget-view+json": {
       "version_major": 2,
       "version_minor": 0,
       "model_id": "0050129f5b70458e8fd18d05ad1bad5f"
      }
     },
     "metadata": {},
     "output_type": "display_data"
    },
    {
     "name": "stdout",
     "output_type": "stream",
     "text": [
      "2021-11-11 17:21:37 | INFO | hw5.seq2seq | example source: it's not .\n",
      "2021-11-11 17:21:37 | INFO | hw5.seq2seq | example hypothesis: 不是 。\n",
      "2021-11-11 17:21:37 | INFO | hw5.seq2seq | example reference: 不是\n",
      "2021-11-11 17:21:37 | INFO | hw5.seq2seq | validation loss:\t3.7980\n",
      "2021-11-11 17:21:37 | INFO | hw5.seq2seq | BLEU = 18.51 46.8/24.1/13.4/7.8 (BP = 1.000 ratio = 1.022 hyp_len = 114238 ref_len = 111811)\n",
      "2021-11-11 17:21:38 | INFO | hw5.seq2seq | saved epoch checkpoint: /home/wy/ML_study/chapter5/checkpoints/rnn/checkpoint9.pt\n",
      "2021-11-11 17:21:38 | INFO | hw5.seq2seq | end of epoch 9\n"
     ]
    },
    {
     "data": {
      "text/plain": "HBox(children=(HTML(value='train epoch 10'), FloatProgress(value=0.0, max=791.0), HTML(value='')))",
      "application/vnd.jupyter.widget-view+json": {
       "version_major": 2,
       "version_minor": 0,
       "model_id": "a11539aef00947ddad49b20c3440ac5f"
      }
     },
     "metadata": {},
     "output_type": "display_data"
    },
    {
     "name": "stdout",
     "output_type": "stream",
     "text": [
      "2021-11-11 17:22:35 | INFO | hw5.seq2seq | training loss: 3.8732\n",
      "2021-11-11 17:22:35 | INFO | hw5.seq2seq | begin validation\n"
     ]
    },
    {
     "data": {
      "text/plain": "HBox(children=(HTML(value='validation'), FloatProgress(value=0.0, max=22.0), HTML(value='')))",
      "application/vnd.jupyter.widget-view+json": {
       "version_major": 2,
       "version_minor": 0,
       "model_id": "70b7500eaa0346f6b85216e30fdfd2ae"
      }
     },
     "metadata": {},
     "output_type": "display_data"
    },
    {
     "name": "stdout",
     "output_type": "stream",
     "text": [
      "2021-11-11 17:22:51 | INFO | hw5.seq2seq | example source: so think about when you have friends , families and coworkers in california , on the west coast or in other parts of the world .\n",
      "2021-11-11 17:22:51 | INFO | hw5.seq2seq | example hypothesis: 想想看 , 當你有朋友、家庭和同事在加州 , 在西岸或其他世界各地 。\n",
      "2021-11-11 17:22:51 | INFO | hw5.seq2seq | example reference: 所以 , 想像當你嘗試聯繫在加州 , 在西海岸或者在世界的另一面\n",
      "2021-11-11 17:22:51 | INFO | hw5.seq2seq | validation loss:\t3.7970\n",
      "2021-11-11 17:22:51 | INFO | hw5.seq2seq | BLEU = 18.53 48.9/25.2/14.0/8.1 (BP = 0.957 ratio = 0.958 hyp_len = 107132 ref_len = 111811)\n",
      "2021-11-11 17:22:52 | INFO | hw5.seq2seq | saved epoch checkpoint: /home/wy/ML_study/chapter5/checkpoints/rnn/checkpoint10.pt\n",
      "2021-11-11 17:22:52 | INFO | hw5.seq2seq | end of epoch 10\n"
     ]
    },
    {
     "data": {
      "text/plain": "HBox(children=(HTML(value='train epoch 11'), FloatProgress(value=0.0, max=791.0), HTML(value='')))",
      "application/vnd.jupyter.widget-view+json": {
       "version_major": 2,
       "version_minor": 0,
       "model_id": "64a609316b7445ffae433a8811562930"
      }
     },
     "metadata": {},
     "output_type": "display_data"
    },
    {
     "name": "stdout",
     "output_type": "stream",
     "text": [
      "2021-11-11 17:23:54 | INFO | hw5.seq2seq | training loss: 3.8691\n",
      "2021-11-11 17:23:54 | INFO | hw5.seq2seq | begin validation\n"
     ]
    },
    {
     "data": {
      "text/plain": "HBox(children=(HTML(value='validation'), FloatProgress(value=0.0, max=22.0), HTML(value='')))",
      "application/vnd.jupyter.widget-view+json": {
       "version_major": 2,
       "version_minor": 0,
       "model_id": "102d13ab23e84bc7a90893dc42402043"
      }
     },
     "metadata": {},
     "output_type": "display_data"
    },
    {
     "name": "stdout",
     "output_type": "stream",
     "text": [
      "2021-11-11 17:24:10 | INFO | hw5.seq2seq | example source: and i was asked to move out because one of my roommates had shared my status with her parents .\n",
      "2021-11-11 17:24:10 | INFO | hw5.seq2seq | example hypothesis: 我被要求搬出去 , 因為我的室友和她的父母分享了我的室友 。\n",
      "2021-11-11 17:24:10 | INFO | hw5.seq2seq | example reference: 我會被要求搬出去 , 是因為其中一名室友和她的父母談了我的狀況 。\n",
      "2021-11-11 17:24:10 | INFO | hw5.seq2seq | validation loss:\t3.7987\n",
      "2021-11-11 17:24:10 | INFO | hw5.seq2seq | BLEU = 18.84 48.3/25.0/13.9/8.1 (BP = 0.981 ratio = 0.981 hyp_len = 109652 ref_len = 111811)\n",
      "2021-11-11 17:24:11 | INFO | hw5.seq2seq | saved epoch checkpoint: /home/wy/ML_study/chapter5/checkpoints/rnn/checkpoint11.pt\n",
      "2021-11-11 17:24:11 | INFO | hw5.seq2seq | end of epoch 11\n"
     ]
    },
    {
     "data": {
      "text/plain": "HBox(children=(HTML(value='train epoch 12'), FloatProgress(value=0.0, max=791.0), HTML(value='')))",
      "application/vnd.jupyter.widget-view+json": {
       "version_major": 2,
       "version_minor": 0,
       "model_id": "1cf51a222eb74c7c8e871bcfd281e64d"
      }
     },
     "metadata": {},
     "output_type": "display_data"
    },
    {
     "name": "stdout",
     "output_type": "stream",
     "text": [
      "2021-11-11 17:25:12 | INFO | hw5.seq2seq | training loss: 3.8660\n",
      "2021-11-11 17:25:12 | INFO | hw5.seq2seq | begin validation\n"
     ]
    },
    {
     "data": {
      "text/plain": "HBox(children=(HTML(value='validation'), FloatProgress(value=0.0, max=22.0), HTML(value='')))",
      "application/vnd.jupyter.widget-view+json": {
       "version_major": 2,
       "version_minor": 0,
       "model_id": "9acf055dc366466f84a04d807eb3a8ce"
      }
     },
     "metadata": {},
     "output_type": "display_data"
    },
    {
     "name": "stdout",
     "output_type": "stream",
     "text": [
      "2021-11-11 17:25:27 | INFO | hw5.seq2seq | example source: and i want to share with you a quick video from our facility that gives you a sense of how this looks at scale .\n",
      "2021-11-11 17:25:27 | INFO | hw5.seq2seq | example hypothesis: 我想和各位分享一個短短的影片 , 給予你對規模的看法 。\n",
      "2021-11-11 17:25:27 | INFO | hw5.seq2seq | example reference: 我想與你們快速分享一段關於我們設備的影片可以瞭解一下它的規模\n",
      "2021-11-11 17:25:27 | INFO | hw5.seq2seq | validation loss:\t3.7913\n",
      "2021-11-11 17:25:27 | INFO | hw5.seq2seq | BLEU = 18.59 49.1/25.4/14.1/8.3 (BP = 0.953 ratio = 0.954 hyp_len = 106648 ref_len = 111811)\n",
      "2021-11-11 17:25:27 | INFO | hw5.seq2seq | saved epoch checkpoint: /home/wy/ML_study/chapter5/checkpoints/rnn/checkpoint12.pt\n",
      "2021-11-11 17:25:27 | INFO | hw5.seq2seq | end of epoch 12\n"
     ]
    },
    {
     "data": {
      "text/plain": "HBox(children=(HTML(value='train epoch 13'), FloatProgress(value=0.0, max=791.0), HTML(value='')))",
      "application/vnd.jupyter.widget-view+json": {
       "version_major": 2,
       "version_minor": 0,
       "model_id": "ebb18dec7bc34d0f9d9e6a680751a5f8"
      }
     },
     "metadata": {},
     "output_type": "display_data"
    },
    {
     "name": "stdout",
     "output_type": "stream",
     "text": [
      "2021-11-11 17:26:28 | INFO | hw5.seq2seq | training loss: 3.8619\n",
      "2021-11-11 17:26:28 | INFO | hw5.seq2seq | begin validation\n"
     ]
    },
    {
     "data": {
      "text/plain": "HBox(children=(HTML(value='validation'), FloatProgress(value=0.0, max=22.0), HTML(value='')))",
      "application/vnd.jupyter.widget-view+json": {
       "version_major": 2,
       "version_minor": 0,
       "model_id": "e8fe447efabe4886a519a3c1c873858e"
      }
     },
     "metadata": {},
     "output_type": "display_data"
    },
    {
     "name": "stdout",
     "output_type": "stream",
     "text": [
      "2021-11-11 17:26:45 | INFO | hw5.seq2seq | example source: it's a distinction perhaps we might make between two nobel laureates , richard feynman and john nash .\n",
      "2021-11-11 17:26:45 | INFO | hw5.seq2seq | example hypothesis: 我們可能在兩個諾貝爾獎得主 , 理查·費曼和約翰納許 。\n",
      "2021-11-11 17:26:45 | INFO | hw5.seq2seq | example reference: 我們或許可以從兩位諾貝爾獎得主 , 理查費曼和約翰奈許之間看出這樣的差異 。\n",
      "2021-11-11 17:26:45 | INFO | hw5.seq2seq | validation loss:\t3.7984\n",
      "2021-11-11 17:26:45 | INFO | hw5.seq2seq | BLEU = 18.68 48.7/25.3/14.0/8.2 (BP = 0.965 ratio = 0.966 hyp_len = 107975 ref_len = 111811)\n",
      "2021-11-11 17:26:45 | INFO | hw5.seq2seq | saved epoch checkpoint: /home/wy/ML_study/chapter5/checkpoints/rnn/checkpoint13.pt\n",
      "2021-11-11 17:26:45 | INFO | hw5.seq2seq | end of epoch 13\n"
     ]
    },
    {
     "data": {
      "text/plain": "HBox(children=(HTML(value='train epoch 14'), FloatProgress(value=0.0, max=791.0), HTML(value='')))",
      "application/vnd.jupyter.widget-view+json": {
       "version_major": 2,
       "version_minor": 0,
       "model_id": "45bf7b70a71b4312a336431932c2be25"
      }
     },
     "metadata": {},
     "output_type": "display_data"
    },
    {
     "name": "stdout",
     "output_type": "stream",
     "text": [
      "2021-11-11 17:27:46 | INFO | hw5.seq2seq | training loss: 3.8579\n",
      "2021-11-11 17:27:46 | INFO | hw5.seq2seq | begin validation\n"
     ]
    },
    {
     "data": {
      "text/plain": "HBox(children=(HTML(value='validation'), FloatProgress(value=0.0, max=22.0), HTML(value='')))",
      "application/vnd.jupyter.widget-view+json": {
       "version_major": 2,
       "version_minor": 0,
       "model_id": "77cacd10c9714fac9f2437c5587d5e38"
      }
     },
     "metadata": {},
     "output_type": "display_data"
    },
    {
     "name": "stdout",
     "output_type": "stream",
     "text": [
      "2021-11-11 17:28:02 | INFO | hw5.seq2seq | example source: and therein lie the words of wisdom of a young girl whose brief life forever impacted mine .\n",
      "2021-11-11 17:28:02 | INFO | hw5.seq2seq | example hypothesis: 藉由一個年輕女孩的智慧 , 為我帶來一個年輕女孩的意見 , 她們的生命永遠影響了我 。\n",
      "2021-11-11 17:28:02 | INFO | hw5.seq2seq | example reference: 她說的話對我有很大啟發 。 這一個年幼女孩短暫的一生永遠影響著我 。\n",
      "2021-11-11 17:28:02 | INFO | hw5.seq2seq | validation loss:\t3.7925\n",
      "2021-11-11 17:28:02 | INFO | hw5.seq2seq | BLEU = 18.38 51.0/26.6/14.7/8.6 (BP = 0.902 ratio = 0.907 hyp_len = 101396 ref_len = 111811)\n",
      "2021-11-11 17:28:02 | INFO | hw5.seq2seq | saved epoch checkpoint: /home/wy/ML_study/chapter5/checkpoints/rnn/checkpoint14.pt\n",
      "2021-11-11 17:28:02 | INFO | hw5.seq2seq | end of epoch 14\n"
     ]
    },
    {
     "data": {
      "text/plain": "HBox(children=(HTML(value='train epoch 15'), FloatProgress(value=0.0, max=791.0), HTML(value='')))",
      "application/vnd.jupyter.widget-view+json": {
       "version_major": 2,
       "version_minor": 0,
       "model_id": "0b2a9e2b8ca440cc88f52b78fd968cc4"
      }
     },
     "metadata": {},
     "output_type": "display_data"
    },
    {
     "name": "stdout",
     "output_type": "stream",
     "text": [
      "2021-11-11 17:29:03 | INFO | hw5.seq2seq | training loss: 3.8572\n",
      "2021-11-11 17:29:03 | INFO | hw5.seq2seq | begin validation\n"
     ]
    },
    {
     "data": {
      "text/plain": "HBox(children=(HTML(value='validation'), FloatProgress(value=0.0, max=22.0), HTML(value='')))",
      "application/vnd.jupyter.widget-view+json": {
       "version_major": 2,
       "version_minor": 0,
       "model_id": "4cc2fec1b7154a399b0b72d2452081ce"
      }
     },
     "metadata": {},
     "output_type": "display_data"
    },
    {
     "name": "stdout",
     "output_type": "stream",
     "text": [
      "2021-11-11 17:29:18 | INFO | hw5.seq2seq | example source: and we've started making curtains , and not only is it beautiful , but people can see status that you care about your children .\n",
      "2021-11-11 17:29:18 | INFO | hw5.seq2seq | example hypothesis: 我們開始製作曲線 , 不僅是美麗的 , 還能看見你在乎你的小孩的地位 。\n",
      "2021-11-11 17:29:18 | INFO | hw5.seq2seq | example reference: 我們也開始生産窗簾不止因爲窗簾看起來漂亮 , 人們也可以看到你的地位看得出你很關心小孩\n",
      "2021-11-11 17:29:18 | INFO | hw5.seq2seq | validation loss:\t3.7905\n",
      "2021-11-11 17:29:18 | INFO | hw5.seq2seq | BLEU = 18.62 49.9/25.8/14.3/8.3 (BP = 0.941 ratio = 0.943 hyp_len = 105445 ref_len = 111811)\n",
      "2021-11-11 17:29:19 | INFO | hw5.seq2seq | saved epoch checkpoint: /home/wy/ML_study/chapter5/checkpoints/rnn/checkpoint15.pt\n",
      "2021-11-11 17:29:19 | INFO | hw5.seq2seq | end of epoch 15\n"
     ]
    },
    {
     "data": {
      "text/plain": "HBox(children=(HTML(value='train epoch 16'), FloatProgress(value=0.0, max=791.0), HTML(value='')))",
      "application/vnd.jupyter.widget-view+json": {
       "version_major": 2,
       "version_minor": 0,
       "model_id": "125ceedd59354ed189a76b2215fd665c"
      }
     },
     "metadata": {},
     "output_type": "display_data"
    },
    {
     "name": "stdout",
     "output_type": "stream",
     "text": [
      "2021-11-11 17:30:21 | INFO | hw5.seq2seq | training loss: 3.8487\n",
      "2021-11-11 17:30:21 | INFO | hw5.seq2seq | begin validation\n"
     ]
    },
    {
     "data": {
      "text/plain": "HBox(children=(HTML(value='validation'), FloatProgress(value=0.0, max=22.0), HTML(value='')))",
      "application/vnd.jupyter.widget-view+json": {
       "version_major": 2,
       "version_minor": 0,
       "model_id": "8343febcb0194ff2a6f3ce80e424efec"
      }
     },
     "metadata": {},
     "output_type": "display_data"
    },
    {
     "name": "stdout",
     "output_type": "stream",
     "text": [
      "2021-11-11 17:30:37 | INFO | hw5.seq2seq | example source: now , i'm not suggesting we want to raise our babies in our stomach , but i am suggesting it's possible we might want to manage gastric secretion in the gut .\n",
      "2021-11-11 17:30:37 | INFO | hw5.seq2seq | example hypothesis: 我並不是建議我們想要養育我們的嬰兒 , 但是我建議我們想把嬰兒放在我們的胃中 , 但我建議我們要把嬰兒放在腸道中 。\n",
      "2021-11-11 17:30:37 | INFO | hw5.seq2seq | example reference: 我並不是說要把嬰兒養在胃裡而是我們可能可以了解胃在內臟裡的分泌物\n",
      "2021-11-11 17:30:37 | INFO | hw5.seq2seq | validation loss:\t3.7880\n",
      "2021-11-11 17:30:37 | INFO | hw5.seq2seq | BLEU = 18.91 48.1/24.8/13.7/8.0 (BP = 0.996 ratio = 0.996 hyp_len = 111356 ref_len = 111811)\n",
      "2021-11-11 17:30:38 | INFO | hw5.seq2seq | saved epoch checkpoint: /home/wy/ML_study/chapter5/checkpoints/rnn/checkpoint16.pt\n",
      "2021-11-11 17:30:38 | INFO | hw5.seq2seq | end of epoch 16\n"
     ]
    },
    {
     "data": {
      "text/plain": "HBox(children=(HTML(value='train epoch 17'), FloatProgress(value=0.0, max=791.0), HTML(value='')))",
      "application/vnd.jupyter.widget-view+json": {
       "version_major": 2,
       "version_minor": 0,
       "model_id": "334399b9f5e3433a9d1254a1c0aec224"
      }
     },
     "metadata": {},
     "output_type": "display_data"
    },
    {
     "name": "stdout",
     "output_type": "stream",
     "text": [
      "2021-11-11 17:31:39 | INFO | hw5.seq2seq | training loss: 3.8478\n",
      "2021-11-11 17:31:39 | INFO | hw5.seq2seq | begin validation\n"
     ]
    },
    {
     "data": {
      "text/plain": "HBox(children=(HTML(value='validation'), FloatProgress(value=0.0, max=22.0), HTML(value='')))",
      "application/vnd.jupyter.widget-view+json": {
       "version_major": 2,
       "version_minor": 0,
       "model_id": "71b942832de84b45a9bd89c56a0e506d"
      }
     },
     "metadata": {},
     "output_type": "display_data"
    },
    {
     "name": "stdout",
     "output_type": "stream",
     "text": [
      "2021-11-11 17:31:55 | INFO | hw5.seq2seq | example source: so we're hoping that's what they'll do .\n",
      "2021-11-11 17:31:55 | INFO | hw5.seq2seq | example hypothesis: 所以 , 我們希望他們會這樣做 。\n",
      "2021-11-11 17:31:55 | INFO | hw5.seq2seq | example reference: 所以 , 我們希望它們能夠幫忙 。\n",
      "2021-11-11 17:31:55 | INFO | hw5.seq2seq | validation loss:\t3.7832\n",
      "2021-11-11 17:31:55 | INFO | hw5.seq2seq | BLEU = 19.06 48.2/24.9/13.8/8.0 (BP = 0.999 ratio = 0.999 hyp_len = 111659 ref_len = 111811)\n",
      "2021-11-11 17:31:56 | INFO | hw5.seq2seq | saved epoch checkpoint: /home/wy/ML_study/chapter5/checkpoints/rnn/checkpoint17.pt\n",
      "2021-11-11 17:31:56 | INFO | hw5.seq2seq | end of epoch 17\n"
     ]
    },
    {
     "data": {
      "text/plain": "HBox(children=(HTML(value='train epoch 18'), FloatProgress(value=0.0, max=791.0), HTML(value='')))",
      "application/vnd.jupyter.widget-view+json": {
       "version_major": 2,
       "version_minor": 0,
       "model_id": "7f57b4c117824a14a5508e0dce53f8f0"
      }
     },
     "metadata": {},
     "output_type": "display_data"
    },
    {
     "name": "stdout",
     "output_type": "stream",
     "text": [
      "2021-11-11 17:32:57 | INFO | hw5.seq2seq | training loss: 3.8425\n",
      "2021-11-11 17:32:57 | INFO | hw5.seq2seq | begin validation\n"
     ]
    },
    {
     "data": {
      "text/plain": "HBox(children=(HTML(value='validation'), FloatProgress(value=0.0, max=22.0), HTML(value='')))",
      "application/vnd.jupyter.widget-view+json": {
       "version_major": 2,
       "version_minor": 0,
       "model_id": "ec0ab4d49b9d47e1b704af3d1c7bbfb5"
      }
     },
     "metadata": {},
     "output_type": "display_data"
    },
    {
     "name": "stdout",
     "output_type": "stream",
     "text": [
      "2021-11-11 17:33:13 | INFO | hw5.seq2seq | example source: i remember so vividly that day .\n",
      "2021-11-11 17:33:13 | INFO | hw5.seq2seq | example hypothesis: 我記得很明天 。\n",
      "2021-11-11 17:33:13 | INFO | hw5.seq2seq | example reference: 我對那一天還記憶猶新 。\n",
      "2021-11-11 17:33:13 | INFO | hw5.seq2seq | validation loss:\t3.7840\n",
      "2021-11-11 17:33:13 | INFO | hw5.seq2seq | BLEU = 18.81 48.9/25.3/14.1/8.3 (BP = 0.964 ratio = 0.965 hyp_len = 107852 ref_len = 111811)\n",
      "2021-11-11 17:33:13 | INFO | hw5.seq2seq | saved epoch checkpoint: /home/wy/ML_study/chapter5/checkpoints/rnn/checkpoint18.pt\n",
      "2021-11-11 17:33:13 | INFO | hw5.seq2seq | end of epoch 18\n"
     ]
    },
    {
     "data": {
      "text/plain": "HBox(children=(HTML(value='train epoch 19'), FloatProgress(value=0.0, max=791.0), HTML(value='')))",
      "application/vnd.jupyter.widget-view+json": {
       "version_major": 2,
       "version_minor": 0,
       "model_id": "5bf287e067f54b0d9262aaf6053db982"
      }
     },
     "metadata": {},
     "output_type": "display_data"
    },
    {
     "name": "stdout",
     "output_type": "stream",
     "text": [
      "2021-11-11 17:34:14 | INFO | hw5.seq2seq | training loss: 3.8395\n",
      "2021-11-11 17:34:14 | INFO | hw5.seq2seq | begin validation\n"
     ]
    },
    {
     "data": {
      "text/plain": "HBox(children=(HTML(value='validation'), FloatProgress(value=0.0, max=22.0), HTML(value='')))",
      "application/vnd.jupyter.widget-view+json": {
       "version_major": 2,
       "version_minor": 0,
       "model_id": "fcc6c690631a462e80d19005e78456ba"
      }
     },
     "metadata": {},
     "output_type": "display_data"
    },
    {
     "name": "stdout",
     "output_type": "stream",
     "text": [
      "2021-11-11 17:34:31 | INFO | hw5.seq2seq | example source: the next step is to make compliant toes , and try to add spines and claws and set it for dry adhesives .\n",
      "2021-11-11 17:34:31 | INFO | hw5.seq2seq | example hypothesis: 下一個步驟是要做出複雜的腳趾 , 試圖加上螺旋槳 , 並試圖加上螺旋槳和爪子 。\n",
      "2021-11-11 17:34:31 | INFO | hw5.seq2seq | example reference: 下一步是要製造順從聽話的腳趾頭 。 然後加上刺和爪子 , 再加上乾膠 。\n",
      "2021-11-11 17:34:31 | INFO | hw5.seq2seq | validation loss:\t3.7868\n",
      "2021-11-11 17:34:31 | INFO | hw5.seq2seq | BLEU = 19.01 48.9/25.3/14.1/8.3 (BP = 0.976 ratio = 0.976 hyp_len = 109158 ref_len = 111811)\n",
      "2021-11-11 17:34:32 | INFO | hw5.seq2seq | saved epoch checkpoint: /home/wy/ML_study/chapter5/checkpoints/rnn/checkpoint19.pt\n",
      "2021-11-11 17:34:32 | INFO | hw5.seq2seq | end of epoch 19\n"
     ]
    },
    {
     "data": {
      "text/plain": "HBox(children=(HTML(value='train epoch 20'), FloatProgress(value=0.0, max=791.0), HTML(value='')))",
      "application/vnd.jupyter.widget-view+json": {
       "version_major": 2,
       "version_minor": 0,
       "model_id": "ca595e5697aa4bb9b286ed90b1c0dd6b"
      }
     },
     "metadata": {},
     "output_type": "display_data"
    },
    {
     "name": "stdout",
     "output_type": "stream",
     "text": [
      "2021-11-11 17:35:32 | INFO | hw5.seq2seq | training loss: 3.8353\n",
      "2021-11-11 17:35:32 | INFO | hw5.seq2seq | begin validation\n"
     ]
    },
    {
     "data": {
      "text/plain": "HBox(children=(HTML(value='validation'), FloatProgress(value=0.0, max=22.0), HTML(value='')))",
      "application/vnd.jupyter.widget-view+json": {
       "version_major": 2,
       "version_minor": 0,
       "model_id": "ee9972971334486d829477ea6fd8ed19"
      }
     },
     "metadata": {},
     "output_type": "display_data"
    },
    {
     "name": "stdout",
     "output_type": "stream",
     "text": [
      "2021-11-11 17:35:48 | INFO | hw5.seq2seq | example source: and got the cord off of the baby's neck , and a healthy screaming , kicking baby arrived , just as the dad ran in from the parking lot , \" hi , you have a son , i'm dr . darria .\n",
      "2021-11-11 17:35:48 | INFO | hw5.seq2seq | example hypothesis: 把寶寶的寶寶帶走了 , 爸爸從停車場開始 , 說: 「 嗨 , 你有兒子 , 我是darria 。 」\n",
      "2021-11-11 17:35:48 | INFO | hw5.seq2seq | example reference: 我把臍帶從嬰兒的脖子繞開 , 接著 , 一個健康哭鬧的嬰兒誕生了 。 同時 , 他的父親剛從停車場趕來 。 「 你好 , 是一個男孩 。 我是達里亞醫生 。\n",
      "2021-11-11 17:35:48 | INFO | hw5.seq2seq | validation loss:\t3.7791\n",
      "2021-11-11 17:35:48 | INFO | hw5.seq2seq | BLEU = 18.97 48.7/25.3/14.1/8.2 (BP = 0.978 ratio = 0.979 hyp_len = 109418 ref_len = 111811)\n",
      "2021-11-11 17:35:48 | INFO | hw5.seq2seq | saved epoch checkpoint: /home/wy/ML_study/chapter5/checkpoints/rnn/checkpoint20.pt\n",
      "2021-11-11 17:35:48 | INFO | hw5.seq2seq | end of epoch 20\n"
     ]
    },
    {
     "data": {
      "text/plain": "HBox(children=(HTML(value='train epoch 21'), FloatProgress(value=0.0, max=791.0), HTML(value='')))",
      "application/vnd.jupyter.widget-view+json": {
       "version_major": 2,
       "version_minor": 0,
       "model_id": "c008a4bb213840f7a3e77127bb970b6b"
      }
     },
     "metadata": {},
     "output_type": "display_data"
    },
    {
     "name": "stdout",
     "output_type": "stream",
     "text": [
      "2021-11-11 17:36:49 | INFO | hw5.seq2seq | training loss: 3.8358\n",
      "2021-11-11 17:36:49 | INFO | hw5.seq2seq | begin validation\n"
     ]
    },
    {
     "data": {
      "text/plain": "HBox(children=(HTML(value='validation'), FloatProgress(value=0.0, max=22.0), HTML(value='')))",
      "application/vnd.jupyter.widget-view+json": {
       "version_major": 2,
       "version_minor": 0,
       "model_id": "40d5e2df2e3049f88105eeebaaf585d7"
      }
     },
     "metadata": {},
     "output_type": "display_data"
    },
    {
     "name": "stdout",
     "output_type": "stream",
     "text": [
      "2021-11-11 17:37:05 | INFO | hw5.seq2seq | example source: no , but the issue of city building in democracy is interesting because it creates chaos , right ?\n",
      "2021-11-11 17:37:05 | INFO | hw5.seq2seq | example hypothesis: 不是 , 但城市建築的建築在民主中是很有趣的 , 因為它會產生混亂 , 對吧 ?\n",
      "2021-11-11 17:37:05 | INFO | hw5.seq2seq | example reference: 不 , 但民主的城市建設很有趣 , 因為會造成混亂 , 是嗎 ?\n",
      "2021-11-11 17:37:05 | INFO | hw5.seq2seq | validation loss:\t3.7829\n",
      "2021-11-11 17:37:05 | INFO | hw5.seq2seq | BLEU = 18.96 49.6/25.7/14.3/8.4 (BP = 0.959 ratio = 0.960 hyp_len = 107342 ref_len = 111811)\n",
      "2021-11-11 17:37:05 | INFO | hw5.seq2seq | saved epoch checkpoint: /home/wy/ML_study/chapter5/checkpoints/rnn/checkpoint21.pt\n",
      "2021-11-11 17:37:05 | INFO | hw5.seq2seq | end of epoch 21\n"
     ]
    },
    {
     "data": {
      "text/plain": "HBox(children=(HTML(value='train epoch 22'), FloatProgress(value=0.0, max=791.0), HTML(value='')))",
      "application/vnd.jupyter.widget-view+json": {
       "version_major": 2,
       "version_minor": 0,
       "model_id": "3c4af13a7c254732b901445890dd347d"
      }
     },
     "metadata": {},
     "output_type": "display_data"
    },
    {
     "name": "stdout",
     "output_type": "stream",
     "text": [
      "2021-11-11 17:38:07 | INFO | hw5.seq2seq | training loss: 3.8279\n",
      "2021-11-11 17:38:07 | INFO | hw5.seq2seq | begin validation\n"
     ]
    },
    {
     "data": {
      "text/plain": "HBox(children=(HTML(value='validation'), FloatProgress(value=0.0, max=22.0), HTML(value='')))",
      "application/vnd.jupyter.widget-view+json": {
       "version_major": 2,
       "version_minor": 0,
       "model_id": "19a7dbbef7c84308910f85cb88451813"
      }
     },
     "metadata": {},
     "output_type": "display_data"
    },
    {
     "name": "stdout",
     "output_type": "stream",
     "text": [
      "2021-11-11 17:38:24 | INFO | hw5.seq2seq | example source: so i'm going to show you a demo of this .\n",
      "2021-11-11 17:38:24 | INFO | hw5.seq2seq | example hypothesis: 我現在要展示給大家看的 。\n",
      "2021-11-11 17:38:24 | INFO | hw5.seq2seq | example reference: 現在請各位看示範\n",
      "2021-11-11 17:38:24 | INFO | hw5.seq2seq | validation loss:\t3.7838\n",
      "2021-11-11 17:38:24 | INFO | hw5.seq2seq | BLEU = 19.01 49.5/25.7/14.4/8.4 (BP = 0.960 ratio = 0.960 hyp_len = 107381 ref_len = 111811)\n",
      "2021-11-11 17:38:24 | INFO | hw5.seq2seq | saved epoch checkpoint: /home/wy/ML_study/chapter5/checkpoints/rnn/checkpoint22.pt\n",
      "2021-11-11 17:38:24 | INFO | hw5.seq2seq | end of epoch 22\n"
     ]
    },
    {
     "data": {
      "text/plain": "HBox(children=(HTML(value='train epoch 23'), FloatProgress(value=0.0, max=791.0), HTML(value='')))",
      "application/vnd.jupyter.widget-view+json": {
       "version_major": 2,
       "version_minor": 0,
       "model_id": "eb296303ec2743e58da649d41cb9c27e"
      }
     },
     "metadata": {},
     "output_type": "display_data"
    },
    {
     "name": "stdout",
     "output_type": "stream",
     "text": [
      "2021-11-11 17:39:24 | INFO | hw5.seq2seq | training loss: 3.8265\n",
      "2021-11-11 17:39:24 | INFO | hw5.seq2seq | begin validation\n"
     ]
    },
    {
     "data": {
      "text/plain": "HBox(children=(HTML(value='validation'), FloatProgress(value=0.0, max=22.0), HTML(value='')))",
      "application/vnd.jupyter.widget-view+json": {
       "version_major": 2,
       "version_minor": 0,
       "model_id": "0869b36a264d4bf8b98b85a00222ac38"
      }
     },
     "metadata": {},
     "output_type": "display_data"
    },
    {
     "name": "stdout",
     "output_type": "stream",
     "text": [
      "2021-11-11 17:39:40 | INFO | hw5.seq2seq | example source: you see , in every country where you hear about armed jihadis targeting civilians , there are also unarmed people defying those militants that you don't hear about , and those people need our support to succeed .\n",
      "2021-11-11 17:39:40 | INFO | hw5.seq2seq | example hypothesis: 在每一個國家 , 你聽到的軍隊是軍隊 , 那些軍隊 , 你不聽到軍隊 , 那些軍隊也無法聽見 , 而那些我們支持成功的人 。\n",
      "2021-11-11 17:39:40 | INFO | hw5.seq2seq | example reference: 你看 , 不管在哪個國家你都會聽到武裝聖戰者針對平民百姓 , 也有很多手無寸鐵的人民公然反抗那些激進分子 , 只是你沒聽過 , 那些人需要我們的支持才能成功 。\n",
      "2021-11-11 17:39:40 | INFO | hw5.seq2seq | validation loss:\t3.7862\n",
      "2021-11-11 17:39:40 | INFO | hw5.seq2seq | BLEU = 18.86 50.2/26.2/14.6/8.5 (BP = 0.937 ratio = 0.939 hyp_len = 104984 ref_len = 111811)\n",
      "2021-11-11 17:39:40 | INFO | hw5.seq2seq | saved epoch checkpoint: /home/wy/ML_study/chapter5/checkpoints/rnn/checkpoint23.pt\n",
      "2021-11-11 17:39:40 | INFO | hw5.seq2seq | end of epoch 23\n"
     ]
    },
    {
     "data": {
      "text/plain": "HBox(children=(HTML(value='train epoch 24'), FloatProgress(value=0.0, max=791.0), HTML(value='')))",
      "application/vnd.jupyter.widget-view+json": {
       "version_major": 2,
       "version_minor": 0,
       "model_id": "2b717457e55245c19d626492aa09d8db"
      }
     },
     "metadata": {},
     "output_type": "display_data"
    },
    {
     "name": "stdout",
     "output_type": "stream",
     "text": [
      "2021-11-11 17:40:41 | INFO | hw5.seq2seq | training loss: 3.8216\n",
      "2021-11-11 17:40:41 | INFO | hw5.seq2seq | begin validation\n"
     ]
    },
    {
     "data": {
      "text/plain": "HBox(children=(HTML(value='validation'), FloatProgress(value=0.0, max=22.0), HTML(value='')))",
      "application/vnd.jupyter.widget-view+json": {
       "version_major": 2,
       "version_minor": 0,
       "model_id": "dd4ac51d72f54230a983ddb0de32b88b"
      }
     },
     "metadata": {},
     "output_type": "display_data"
    },
    {
     "name": "stdout",
     "output_type": "stream",
     "text": [
      "2021-11-11 17:40:56 | INFO | hw5.seq2seq | example source: from gezi to tahrir to elsewhere , i've seen people put their lives and livelihoods on the line .\n",
      "2021-11-11 17:40:56 | INFO | hw5.seq2seq | example hypothesis: 從gezi到其他地方 , 我見過人們把他們的生活和生存放在線上 。\n",
      "2021-11-11 17:40:56 | INFO | hw5.seq2seq | example reference: 從格濟公園 , 到解放廣場 , 再到其它地方 , 我見過許多人用他們的生命和生計做賭注 。\n",
      "2021-11-11 17:40:56 | INFO | hw5.seq2seq | validation loss:\t3.7820\n",
      "2021-11-11 17:40:56 | INFO | hw5.seq2seq | BLEU = 19.09 49.4/25.6/14.3/8.4 (BP = 0.968 ratio = 0.968 hyp_len = 108245 ref_len = 111811)\n",
      "2021-11-11 17:40:57 | INFO | hw5.seq2seq | saved epoch checkpoint: /home/wy/ML_study/chapter5/checkpoints/rnn/checkpoint24.pt\n",
      "2021-11-11 17:40:57 | INFO | hw5.seq2seq | end of epoch 24\n"
     ]
    },
    {
     "data": {
      "text/plain": "HBox(children=(HTML(value='train epoch 25'), FloatProgress(value=0.0, max=791.0), HTML(value='')))",
      "application/vnd.jupyter.widget-view+json": {
       "version_major": 2,
       "version_minor": 0,
       "model_id": "781b920fb6894df3b10fde3911041b88"
      }
     },
     "metadata": {},
     "output_type": "display_data"
    },
    {
     "name": "stdout",
     "output_type": "stream",
     "text": [
      "2021-11-11 17:41:59 | INFO | hw5.seq2seq | training loss: 3.8208\n",
      "2021-11-11 17:41:59 | INFO | hw5.seq2seq | begin validation\n"
     ]
    },
    {
     "data": {
      "text/plain": "HBox(children=(HTML(value='validation'), FloatProgress(value=0.0, max=22.0), HTML(value='')))",
      "application/vnd.jupyter.widget-view+json": {
       "version_major": 2,
       "version_minor": 0,
       "model_id": "9ffc71aa9df744cda0e6d3fd7aafd6df"
      }
     },
     "metadata": {},
     "output_type": "display_data"
    },
    {
     "name": "stdout",
     "output_type": "stream",
     "text": [
      "2021-11-11 17:42:15 | INFO | hw5.seq2seq | example source: and every project before that had been completely personal and it was a revelation when people just started commenting , started giving feedback on your code .\n",
      "2021-11-11 17:42:15 | INFO | hw5.seq2seq | example hypothesis: 每個專案計畫都已經完全個人化了 , 開始給回饋在你的程式碼上 。\n",
      "2021-11-11 17:42:15 | INFO | hw5.seq2seq | example reference: 在那之前每一件計劃都是我個人的東西 , 所以當大家開始評論 , 開始對你的程式給意見時 , 真的是一種啟示 。\n",
      "2021-11-11 17:42:15 | INFO | hw5.seq2seq | validation loss:\t3.7747\n",
      "2021-11-11 17:42:15 | INFO | hw5.seq2seq | BLEU = 19.02 48.2/24.9/13.8/8.0 (BP = 0.997 ratio = 0.997 hyp_len = 111526 ref_len = 111811)\n",
      "2021-11-11 17:42:15 | INFO | hw5.seq2seq | saved epoch checkpoint: /home/wy/ML_study/chapter5/checkpoints/rnn/checkpoint25.pt\n",
      "2021-11-11 17:42:15 | INFO | hw5.seq2seq | end of epoch 25\n"
     ]
    },
    {
     "data": {
      "text/plain": "HBox(children=(HTML(value='train epoch 26'), FloatProgress(value=0.0, max=791.0), HTML(value='')))",
      "application/vnd.jupyter.widget-view+json": {
       "version_major": 2,
       "version_minor": 0,
       "model_id": "a03ec6f29ef249df934aaf96d4d7d981"
      }
     },
     "metadata": {},
     "output_type": "display_data"
    },
    {
     "name": "stdout",
     "output_type": "stream",
     "text": [
      "2021-11-11 17:43:15 | INFO | hw5.seq2seq | training loss: 3.8188\n",
      "2021-11-11 17:43:15 | INFO | hw5.seq2seq | begin validation\n"
     ]
    },
    {
     "data": {
      "text/plain": "HBox(children=(HTML(value='validation'), FloatProgress(value=0.0, max=22.0), HTML(value='')))",
      "application/vnd.jupyter.widget-view+json": {
       "version_major": 2,
       "version_minor": 0,
       "model_id": "842aa273c3e04cd088853705126f8dca"
      }
     },
     "metadata": {},
     "output_type": "display_data"
    },
    {
     "name": "stdout",
     "output_type": "stream",
     "text": [
      "2021-11-11 17:43:31 | INFO | hw5.seq2seq | example source: thank you so much .\n",
      "2021-11-11 17:43:31 | INFO | hw5.seq2seq | example hypothesis: 謝謝\n",
      "2021-11-11 17:43:31 | INFO | hw5.seq2seq | example reference: 感謝各位.\n",
      "2021-11-11 17:43:31 | INFO | hw5.seq2seq | validation loss:\t3.7827\n",
      "2021-11-11 17:43:31 | INFO | hw5.seq2seq | BLEU = 18.82 51.3/26.9/15.0/8.9 (BP = 0.909 ratio = 0.913 hyp_len = 102076 ref_len = 111811)\n",
      "2021-11-11 17:43:32 | INFO | hw5.seq2seq | saved epoch checkpoint: /home/wy/ML_study/chapter5/checkpoints/rnn/checkpoint26.pt\n",
      "2021-11-11 17:43:32 | INFO | hw5.seq2seq | end of epoch 26\n"
     ]
    },
    {
     "data": {
      "text/plain": "HBox(children=(HTML(value='train epoch 27'), FloatProgress(value=0.0, max=791.0), HTML(value='')))",
      "application/vnd.jupyter.widget-view+json": {
       "version_major": 2,
       "version_minor": 0,
       "model_id": "5c4edf4dd36845d39a6c261b8f733315"
      }
     },
     "metadata": {},
     "output_type": "display_data"
    },
    {
     "name": "stdout",
     "output_type": "stream",
     "text": [
      "2021-11-11 17:44:33 | INFO | hw5.seq2seq | training loss: 3.8176\n",
      "2021-11-11 17:44:33 | INFO | hw5.seq2seq | begin validation\n"
     ]
    },
    {
     "data": {
      "text/plain": "HBox(children=(HTML(value='validation'), FloatProgress(value=0.0, max=22.0), HTML(value='')))",
      "application/vnd.jupyter.widget-view+json": {
       "version_major": 2,
       "version_minor": 0,
       "model_id": "d89fa3a7a2874373903907495e45072e"
      }
     },
     "metadata": {},
     "output_type": "display_data"
    },
    {
     "name": "stdout",
     "output_type": "stream",
     "text": [
      "2021-11-11 17:44:48 | INFO | hw5.seq2seq | example source: at the age of six months , virtually every one of us is able to differentiate between animate and inanimate objects .\n",
      "2021-11-11 17:44:48 | INFO | hw5.seq2seq | example hypothesis: 在六個月之內 , 幾乎每個人都能分辨出動作和不佳的物體 。\n",
      "2021-11-11 17:44:48 | INFO | hw5.seq2seq | example reference: 在六個月大時 , 幾乎每個人都能辨別東西是否有生命 。\n",
      "2021-11-11 17:44:48 | INFO | hw5.seq2seq | validation loss:\t3.7769\n",
      "2021-11-11 17:44:48 | INFO | hw5.seq2seq | BLEU = 18.97 50.3/26.2/14.6/8.6 (BP = 0.942 ratio = 0.943 hyp_len = 105482 ref_len = 111811)\n",
      "2021-11-11 17:44:49 | INFO | hw5.seq2seq | saved epoch checkpoint: /home/wy/ML_study/chapter5/checkpoints/rnn/checkpoint27.pt\n",
      "2021-11-11 17:44:49 | INFO | hw5.seq2seq | end of epoch 27\n"
     ]
    },
    {
     "data": {
      "text/plain": "HBox(children=(HTML(value='train epoch 28'), FloatProgress(value=0.0, max=791.0), HTML(value='')))",
      "application/vnd.jupyter.widget-view+json": {
       "version_major": 2,
       "version_minor": 0,
       "model_id": "0f340f96166946929c86a8a3dd6b85db"
      }
     },
     "metadata": {},
     "output_type": "display_data"
    },
    {
     "name": "stdout",
     "output_type": "stream",
     "text": [
      "2021-11-11 17:45:50 | INFO | hw5.seq2seq | training loss: 3.8123\n",
      "2021-11-11 17:45:50 | INFO | hw5.seq2seq | begin validation\n"
     ]
    },
    {
     "data": {
      "text/plain": "HBox(children=(HTML(value='validation'), FloatProgress(value=0.0, max=22.0), HTML(value='')))",
      "application/vnd.jupyter.widget-view+json": {
       "version_major": 2,
       "version_minor": 0,
       "model_id": "88bc46b369ba4390bb894e7d3d7ab6b0"
      }
     },
     "metadata": {},
     "output_type": "display_data"
    },
    {
     "name": "stdout",
     "output_type": "stream",
     "text": [
      "2021-11-11 17:46:08 | INFO | hw5.seq2seq | example source: the problem is there is no such thing as a viable democracy made up of experts , zealots , politicians and spectators .\n",
      "2021-11-11 17:46:08 | INFO | hw5.seq2seq | example hypothesis: 問題在於 , 政治人物和觀測者都沒有這麼多 。\n",
      "2021-11-11 17:46:08 | INFO | hw5.seq2seq | example reference: 事實上 , 根本沒有一種民主制度是由專家 , 狂熱分子 , 政治家和旁觀者組成的\n",
      "2021-11-11 17:46:08 | INFO | hw5.seq2seq | validation loss:\t3.7724\n",
      "2021-11-11 17:46:08 | INFO | hw5.seq2seq | BLEU = 19.12 48.9/25.3/14.1/8.3 (BP = 0.981 ratio = 0.981 hyp_len = 109678 ref_len = 111811)\n",
      "2021-11-11 17:46:08 | INFO | hw5.seq2seq | saved epoch checkpoint: /home/wy/ML_study/chapter5/checkpoints/rnn/checkpoint28.pt\n",
      "2021-11-11 17:46:09 | INFO | hw5.seq2seq | end of epoch 28\n"
     ]
    },
    {
     "data": {
      "text/plain": "HBox(children=(HTML(value='train epoch 29'), FloatProgress(value=0.0, max=791.0), HTML(value='')))",
      "application/vnd.jupyter.widget-view+json": {
       "version_major": 2,
       "version_minor": 0,
       "model_id": "e70e850faf1d41838ffc9d3db511d992"
      }
     },
     "metadata": {},
     "output_type": "display_data"
    },
    {
     "name": "stdout",
     "output_type": "stream",
     "text": [
      "2021-11-11 17:47:10 | INFO | hw5.seq2seq | training loss: 3.8106\n",
      "2021-11-11 17:47:10 | INFO | hw5.seq2seq | begin validation\n"
     ]
    },
    {
     "data": {
      "text/plain": "HBox(children=(HTML(value='validation'), FloatProgress(value=0.0, max=22.0), HTML(value='')))",
      "application/vnd.jupyter.widget-view+json": {
       "version_major": 2,
       "version_minor": 0,
       "model_id": "30851dec40984a94be69488f385bfef2"
      }
     },
     "metadata": {},
     "output_type": "display_data"
    },
    {
     "name": "stdout",
     "output_type": "stream",
     "text": [
      "2021-11-11 17:47:25 | INFO | hw5.seq2seq | example source: they're learning our culture , our language , our heritage and realizing we're just as different and just the same as each other .\n",
      "2021-11-11 17:47:25 | INFO | hw5.seq2seq | example hypothesis: 他們學習我們的文化、我們的語言、我們的文化、我們的語言、我們的文化、我們的語言、我們的文化 , 我們的語言、我們的文化 , 我們的語言、我們的文化 , 我們的語言、我們的文化 , 我們的語言、我們的文化、我們的語言、我們的文化、我們的語言、我們的文化\n",
      "2021-11-11 17:47:25 | INFO | hw5.seq2seq | example reference: 他們正在習知我們的文化、語言、傳統 , 並意識到彼此不同及相同之處 。\n",
      "2021-11-11 17:47:25 | INFO | hw5.seq2seq | validation loss:\t3.7727\n",
      "2021-11-11 17:47:25 | INFO | hw5.seq2seq | BLEU = 19.11 49.9/25.9/14.4/8.5 (BP = 0.959 ratio = 0.960 hyp_len = 107309 ref_len = 111811)\n",
      "2021-11-11 17:47:26 | INFO | hw5.seq2seq | saved epoch checkpoint: /home/wy/ML_study/chapter5/checkpoints/rnn/checkpoint29.pt\n",
      "2021-11-11 17:47:26 | INFO | hw5.seq2seq | end of epoch 29\n"
     ]
    },
    {
     "data": {
      "text/plain": "HBox(children=(HTML(value='train epoch 30'), FloatProgress(value=0.0, max=791.0), HTML(value='')))",
      "application/vnd.jupyter.widget-view+json": {
       "version_major": 2,
       "version_minor": 0,
       "model_id": "0fc9c5eab8bc4f0c97befc5e55df2300"
      }
     },
     "metadata": {},
     "output_type": "display_data"
    },
    {
     "name": "stdout",
     "output_type": "stream",
     "text": [
      "2021-11-11 17:48:26 | INFO | hw5.seq2seq | training loss: 3.8074\n",
      "2021-11-11 17:48:26 | INFO | hw5.seq2seq | begin validation\n"
     ]
    },
    {
     "data": {
      "text/plain": "HBox(children=(HTML(value='validation'), FloatProgress(value=0.0, max=22.0), HTML(value='')))",
      "application/vnd.jupyter.widget-view+json": {
       "version_major": 2,
       "version_minor": 0,
       "model_id": "88a2fec9f66a44acb4ef57542a10396c"
      }
     },
     "metadata": {},
     "output_type": "display_data"
    },
    {
     "name": "stdout",
     "output_type": "stream",
     "text": [
      "2021-11-11 17:48:42 | INFO | hw5.seq2seq | example source: but did you know that only two percent of that funding went to rebuild haitian public institutions , including its health sector ?\n",
      "2021-11-11 17:48:42 | INFO | hw5.seq2seq | example hypothesis: 但你知道 , 只有2%的資金來重建海地公體機構 , 包括它的健康部門嗎 ?\n",
      "2021-11-11 17:48:42 | INFO | hw5.seq2seq | example reference: 但你知不知道國際社會捐款中只有2%用去重建海地的公共體制 , 包括衞生部門 ?\n",
      "2021-11-11 17:48:42 | INFO | hw5.seq2seq | validation loss:\t3.7696\n",
      "2021-11-11 17:48:42 | INFO | hw5.seq2seq | BLEU = 19.14 50.0/26.0/14.5/8.5 (BP = 0.957 ratio = 0.957 hyp_len = 107055 ref_len = 111811)\n",
      "2021-11-11 17:48:43 | INFO | hw5.seq2seq | saved epoch checkpoint: /home/wy/ML_study/chapter5/checkpoints/rnn/checkpoint30.pt\n",
      "2021-11-11 17:48:43 | INFO | hw5.seq2seq | end of epoch 30\n"
     ]
    },
    {
     "data": {
      "text/plain": "HBox(children=(HTML(value='train epoch 31'), FloatProgress(value=0.0, max=791.0), HTML(value='')))",
      "application/vnd.jupyter.widget-view+json": {
       "version_major": 2,
       "version_minor": 0,
       "model_id": "fe2cd03e69184264969bfea2ec0c283f"
      }
     },
     "metadata": {},
     "output_type": "display_data"
    },
    {
     "name": "stdout",
     "output_type": "stream",
     "text": [
      "2021-11-11 17:49:43 | INFO | hw5.seq2seq | training loss: 3.8109\n",
      "2021-11-11 17:49:43 | INFO | hw5.seq2seq | begin validation\n"
     ]
    },
    {
     "data": {
      "text/plain": "HBox(children=(HTML(value='validation'), FloatProgress(value=0.0, max=22.0), HTML(value='')))",
      "application/vnd.jupyter.widget-view+json": {
       "version_major": 2,
       "version_minor": 0,
       "model_id": "8d39969c38144fc0ae1c5096a3af217f"
      }
     },
     "metadata": {},
     "output_type": "display_data"
    },
    {
     "name": "stdout",
     "output_type": "stream",
     "text": [
      "2021-11-11 17:50:01 | INFO | hw5.seq2seq | example source: thank you .\n",
      "2021-11-11 17:50:01 | INFO | hw5.seq2seq | example hypothesis: 謝謝\n",
      "2021-11-11 17:50:01 | INFO | hw5.seq2seq | example reference: 謝謝 。\n",
      "2021-11-11 17:50:01 | INFO | hw5.seq2seq | validation loss:\t3.7714\n",
      "2021-11-11 17:50:01 | INFO | hw5.seq2seq | BLEU = 19.26 48.6/25.3/14.1/8.2 (BP = 0.992 ratio = 0.992 hyp_len = 110910 ref_len = 111811)\n",
      "2021-11-11 17:50:01 | INFO | hw5.seq2seq | saved epoch checkpoint: /home/wy/ML_study/chapter5/checkpoints/rnn/checkpoint31.pt\n",
      "2021-11-11 17:50:02 | INFO | hw5.seq2seq | end of epoch 31\n"
     ]
    },
    {
     "data": {
      "text/plain": "HBox(children=(HTML(value='train epoch 32'), FloatProgress(value=0.0, max=791.0), HTML(value='')))",
      "application/vnd.jupyter.widget-view+json": {
       "version_major": 2,
       "version_minor": 0,
       "model_id": "552c702f0ff44d6297f23cb14e639480"
      }
     },
     "metadata": {},
     "output_type": "display_data"
    },
    {
     "name": "stdout",
     "output_type": "stream",
     "text": [
      "2021-11-11 17:51:02 | INFO | hw5.seq2seq | training loss: 3.8104\n",
      "2021-11-11 17:51:02 | INFO | hw5.seq2seq | begin validation\n"
     ]
    },
    {
     "data": {
      "text/plain": "HBox(children=(HTML(value='validation'), FloatProgress(value=0.0, max=22.0), HTML(value='')))",
      "application/vnd.jupyter.widget-view+json": {
       "version_major": 2,
       "version_minor": 0,
       "model_id": "b150a05ff6ff46a79a0cb8e12ccc1e3d"
      }
     },
     "metadata": {},
     "output_type": "display_data"
    },
    {
     "name": "stdout",
     "output_type": "stream",
     "text": [
      "2021-11-11 17:51:18 | INFO | hw5.seq2seq | example source: and i think the answer is a lot of different people are going to have to do a lot of different things .\n",
      "2021-11-11 17:51:18 | INFO | hw5.seq2seq | example hypothesis: 我認為答案是很多不同的人 , 必須要做很多不同的事 。\n",
      "2021-11-11 17:51:18 | INFO | hw5.seq2seq | example reference: 我的回答是 , 我們所有人各盡其責 。\n",
      "2021-11-11 17:51:18 | INFO | hw5.seq2seq | validation loss:\t3.7730\n",
      "2021-11-11 17:51:18 | INFO | hw5.seq2seq | BLEU = 19.19 48.1/25.0/13.9/8.1 (BP = 1.000 ratio = 1.004 hyp_len = 112301 ref_len = 111811)\n",
      "2021-11-11 17:51:18 | INFO | hw5.seq2seq | saved epoch checkpoint: /home/wy/ML_study/chapter5/checkpoints/rnn/checkpoint32.pt\n",
      "2021-11-11 17:51:18 | INFO | hw5.seq2seq | end of epoch 32\n"
     ]
    },
    {
     "data": {
      "text/plain": "HBox(children=(HTML(value='train epoch 33'), FloatProgress(value=0.0, max=791.0), HTML(value='')))",
      "application/vnd.jupyter.widget-view+json": {
       "version_major": 2,
       "version_minor": 0,
       "model_id": "4fef37c5a01b4b02aea2eb7b66b0ace0"
      }
     },
     "metadata": {},
     "output_type": "display_data"
    },
    {
     "name": "stdout",
     "output_type": "stream",
     "text": [
      "2021-11-11 17:52:19 | INFO | hw5.seq2seq | training loss: 3.8077\n",
      "2021-11-11 17:52:19 | INFO | hw5.seq2seq | begin validation\n"
     ]
    },
    {
     "data": {
      "text/plain": "HBox(children=(HTML(value='validation'), FloatProgress(value=0.0, max=22.0), HTML(value='')))",
      "application/vnd.jupyter.widget-view+json": {
       "version_major": 2,
       "version_minor": 0,
       "model_id": "465d2df117f444758c764ab1def512ad"
      }
     },
     "metadata": {},
     "output_type": "display_data"
    },
    {
     "name": "stdout",
     "output_type": "stream",
     "text": [
      "2021-11-11 17:52:35 | INFO | hw5.seq2seq | example source: that ambition that had allowed him to laboriously educate himself by himself , to go through that string of political failures and the darkest days of the war .\n",
      "2021-11-11 17:52:35 | INFO | hw5.seq2seq | example hypothesis: 這個野心讓他成為了政治失敗和最黑暗的戰爭的一部分 。\n",
      "2021-11-11 17:52:35 | INFO | hw5.seq2seq | example reference: 這樣的企圖心策勵他辛辛苦苦不懈的自我教育 , 鼓舞著他面對一連串的政壇失意及堅強走過戰爭時最黑暗的歲月.\n",
      "2021-11-11 17:52:35 | INFO | hw5.seq2seq | validation loss:\t3.7724\n",
      "2021-11-11 17:52:35 | INFO | hw5.seq2seq | BLEU = 19.04 50.5/26.3/14.7/8.6 (BP = 0.941 ratio = 0.943 hyp_len = 105439 ref_len = 111811)\n",
      "2021-11-11 17:52:35 | INFO | hw5.seq2seq | saved epoch checkpoint: /home/wy/ML_study/chapter5/checkpoints/rnn/checkpoint33.pt\n",
      "2021-11-11 17:52:35 | INFO | hw5.seq2seq | end of epoch 33\n"
     ]
    },
    {
     "data": {
      "text/plain": "HBox(children=(HTML(value='train epoch 34'), FloatProgress(value=0.0, max=791.0), HTML(value='')))",
      "application/vnd.jupyter.widget-view+json": {
       "version_major": 2,
       "version_minor": 0,
       "model_id": "3a728264ec4c40538379e4affdc5ee70"
      }
     },
     "metadata": {},
     "output_type": "display_data"
    },
    {
     "name": "stdout",
     "output_type": "stream",
     "text": [
      "2021-11-11 17:53:36 | INFO | hw5.seq2seq | training loss: 3.8046\n",
      "2021-11-11 17:53:36 | INFO | hw5.seq2seq | begin validation\n"
     ]
    },
    {
     "data": {
      "text/plain": "HBox(children=(HTML(value='validation'), FloatProgress(value=0.0, max=22.0), HTML(value='')))",
      "application/vnd.jupyter.widget-view+json": {
       "version_major": 2,
       "version_minor": 0,
       "model_id": "0dd097561d6f433093973f16481b8384"
      }
     },
     "metadata": {},
     "output_type": "display_data"
    },
    {
     "name": "stdout",
     "output_type": "stream",
     "text": [
      "2021-11-11 17:53:51 | INFO | hw5.seq2seq | example source: this response has evolved from the physiological mechanism designed to make sure we can survive in a crisis .\n",
      "2021-11-11 17:53:51 | INFO | hw5.seq2seq | example hypothesis: 這種反應來自生理機制 , 來確保我們能在危機中生存 。\n",
      "2021-11-11 17:53:51 | INFO | hw5.seq2seq | example reference: 這是心理機制進化的反應 , 目的是使我們能夠應付危機 , 生存下來 。\n",
      "2021-11-11 17:53:51 | INFO | hw5.seq2seq | validation loss:\t3.7665\n",
      "2021-11-11 17:53:51 | INFO | hw5.seq2seq | BLEU = 18.80 47.4/24.4/13.6/7.9 (BP = 1.000 ratio = 1.029 hyp_len = 115015 ref_len = 111811)\n",
      "2021-11-11 17:53:52 | INFO | hw5.seq2seq | saved epoch checkpoint: /home/wy/ML_study/chapter5/checkpoints/rnn/checkpoint34.pt\n",
      "2021-11-11 17:53:52 | INFO | hw5.seq2seq | end of epoch 34\n"
     ]
    },
    {
     "data": {
      "text/plain": "HBox(children=(HTML(value='train epoch 35'), FloatProgress(value=0.0, max=791.0), HTML(value='')))",
      "application/vnd.jupyter.widget-view+json": {
       "version_major": 2,
       "version_minor": 0,
       "model_id": "4d2cfd3cdca7443aa3eb0087133357c2"
      }
     },
     "metadata": {},
     "output_type": "display_data"
    },
    {
     "name": "stdout",
     "output_type": "stream",
     "text": [
      "2021-11-11 17:54:54 | INFO | hw5.seq2seq | training loss: 3.8034\n",
      "2021-11-11 17:54:54 | INFO | hw5.seq2seq | begin validation\n"
     ]
    },
    {
     "data": {
      "text/plain": "HBox(children=(HTML(value='validation'), FloatProgress(value=0.0, max=22.0), HTML(value='')))",
      "application/vnd.jupyter.widget-view+json": {
       "version_major": 2,
       "version_minor": 0,
       "model_id": "8067c13a151c4d2d9accc5cbf1923936"
      }
     },
     "metadata": {},
     "output_type": "display_data"
    },
    {
     "name": "stdout",
     "output_type": "stream",
     "text": [
      "2021-11-11 17:55:10 | INFO | hw5.seq2seq | example source: see that chair there ? the orange one ? that's the organic chair . 1940 .\n",
      "2021-11-11 17:55:10 | INFO | hw5.seq2seq | example hypothesis: 看到那個椅子嗎 ? 橘色的 ? 橘色 ? 那是1940年的機椅 。\n",
      "2021-11-11 17:55:10 | INFO | hw5.seq2seq | example reference: 看見那張椅子嗎 ? 橘黃色那個 ? 這是有機椅子 。 一九四零年 。\n",
      "2021-11-11 17:55:10 | INFO | hw5.seq2seq | validation loss:\t3.7650\n",
      "2021-11-11 17:55:10 | INFO | hw5.seq2seq | BLEU = 18.68 47.0/24.3/13.5/7.9 (BP = 1.000 ratio = 1.043 hyp_len = 116628 ref_len = 111811)\n",
      "2021-11-11 17:55:11 | INFO | hw5.seq2seq | saved epoch checkpoint: /home/wy/ML_study/chapter5/checkpoints/rnn/checkpoint35.pt\n",
      "2021-11-11 17:55:11 | INFO | hw5.seq2seq | end of epoch 35\n"
     ]
    },
    {
     "data": {
      "text/plain": "HBox(children=(HTML(value='train epoch 36'), FloatProgress(value=0.0, max=791.0), HTML(value='')))",
      "application/vnd.jupyter.widget-view+json": {
       "version_major": 2,
       "version_minor": 0,
       "model_id": "56a3b8e231a04cc49eae0fe37221f08c"
      }
     },
     "metadata": {},
     "output_type": "display_data"
    },
    {
     "name": "stdout",
     "output_type": "stream",
     "text": [
      "2021-11-11 17:56:10 | INFO | hw5.seq2seq | training loss: 3.8020\n",
      "2021-11-11 17:56:10 | INFO | hw5.seq2seq | begin validation\n"
     ]
    },
    {
     "data": {
      "text/plain": "HBox(children=(HTML(value='validation'), FloatProgress(value=0.0, max=22.0), HTML(value='')))",
      "application/vnd.jupyter.widget-view+json": {
       "version_major": 2,
       "version_minor": 0,
       "model_id": "71fc9ae6e9994d80b5f1aefbf6d83dd1"
      }
     },
     "metadata": {},
     "output_type": "display_data"
    },
    {
     "name": "stdout",
     "output_type": "stream",
     "text": [
      "2021-11-11 17:56:26 | INFO | hw5.seq2seq | example source: do they go from one side of the pacific to the other ?\n",
      "2021-11-11 17:56:26 | INFO | hw5.seq2seq | example hypothesis: 牠們是否從太平洋到另一端 ?\n",
      "2021-11-11 17:56:26 | INFO | hw5.seq2seq | example reference: 牠們會從太平洋的一端游到另一端嗎 ?\n",
      "2021-11-11 17:56:26 | INFO | hw5.seq2seq | validation loss:\t3.7642\n",
      "2021-11-11 17:56:26 | INFO | hw5.seq2seq | BLEU = 19.26 48.5/25.0/13.9/8.1 (BP = 1.000 ratio = 1.001 hyp_len = 111911 ref_len = 111811)\n",
      "2021-11-11 17:56:26 | INFO | hw5.seq2seq | saved epoch checkpoint: /home/wy/ML_study/chapter5/checkpoints/rnn/checkpoint36.pt\n",
      "2021-11-11 17:56:27 | INFO | hw5.seq2seq | end of epoch 36\n"
     ]
    },
    {
     "data": {
      "text/plain": "HBox(children=(HTML(value='train epoch 37'), FloatProgress(value=0.0, max=791.0), HTML(value='')))",
      "application/vnd.jupyter.widget-view+json": {
       "version_major": 2,
       "version_minor": 0,
       "model_id": "0f481cd38ccb44739e2c22901087362f"
      }
     },
     "metadata": {},
     "output_type": "display_data"
    },
    {
     "name": "stdout",
     "output_type": "stream",
     "text": [
      "2021-11-11 17:57:27 | INFO | hw5.seq2seq | training loss: 3.7975\n",
      "2021-11-11 17:57:27 | INFO | hw5.seq2seq | begin validation\n"
     ]
    },
    {
     "data": {
      "text/plain": "HBox(children=(HTML(value='validation'), FloatProgress(value=0.0, max=22.0), HTML(value='')))",
      "application/vnd.jupyter.widget-view+json": {
       "version_major": 2,
       "version_minor": 0,
       "model_id": "2f82a1490b7a4c79a62d37ca28c1072c"
      }
     },
     "metadata": {},
     "output_type": "display_data"
    },
    {
     "name": "stdout",
     "output_type": "stream",
     "text": [
      "2021-11-11 17:57:43 | INFO | hw5.seq2seq | example source: i do , in any case .\n",
      "2021-11-11 17:57:43 | INFO | hw5.seq2seq | example hypothesis: 在任何情況下 , 我都可以做 。\n",
      "2021-11-11 17:57:43 | INFO | hw5.seq2seq | example reference: 無論如何我也認同 。\n",
      "2021-11-11 17:57:43 | INFO | hw5.seq2seq | validation loss:\t3.7659\n",
      "2021-11-11 17:57:43 | INFO | hw5.seq2seq | BLEU = 19.16 50.0/25.9/14.4/8.5 (BP = 0.961 ratio = 0.962 hyp_len = 107519 ref_len = 111811)\n",
      "2021-11-11 17:57:44 | INFO | hw5.seq2seq | saved epoch checkpoint: /home/wy/ML_study/chapter5/checkpoints/rnn/checkpoint37.pt\n",
      "2021-11-11 17:57:44 | INFO | hw5.seq2seq | end of epoch 37\n"
     ]
    },
    {
     "data": {
      "text/plain": "HBox(children=(HTML(value='train epoch 38'), FloatProgress(value=0.0, max=791.0), HTML(value='')))",
      "application/vnd.jupyter.widget-view+json": {
       "version_major": 2,
       "version_minor": 0,
       "model_id": "bbe00c9627534c73a4af28c970bbcb85"
      }
     },
     "metadata": {},
     "output_type": "display_data"
    },
    {
     "name": "stdout",
     "output_type": "stream",
     "text": [
      "2021-11-11 17:58:44 | INFO | hw5.seq2seq | training loss: 3.7934\n",
      "2021-11-11 17:58:44 | INFO | hw5.seq2seq | begin validation\n"
     ]
    },
    {
     "data": {
      "text/plain": "HBox(children=(HTML(value='validation'), FloatProgress(value=0.0, max=22.0), HTML(value='')))",
      "application/vnd.jupyter.widget-view+json": {
       "version_major": 2,
       "version_minor": 0,
       "model_id": "7a7743b16c904c81ad4b4a722440e8a3"
      }
     },
     "metadata": {},
     "output_type": "display_data"
    },
    {
     "name": "stdout",
     "output_type": "stream",
     "text": [
      "2021-11-11 17:59:00 | INFO | hw5.seq2seq | example source: and as you think about that experience , i want you to ask yourself: how might that experience of being a privileged player in a rigged game change the way you think about yourself and regard that other player ?\n",
      "2021-11-11 17:59:00 | INFO | hw5.seq2seq | example hypothesis: 當你想到這個經驗時 , 我想問你自己 , 想想那個經驗 , 我希望你問自己: 「 身為有特權運動員的身份 , 會如何改變你對自己的想法 , 以及你認為自己和其他玩家的體驗 ? 」\n",
      "2021-11-11 17:59:00 | INFO | hw5.seq2seq | example reference: 當你這麼想像時也請自問在這被動手腳的遊戲中作為佔上風的玩家會如何改變對自己和其他玩家的看法呢 ?\n",
      "2021-11-11 17:59:00 | INFO | hw5.seq2seq | validation loss:\t3.7665\n",
      "2021-11-11 17:59:00 | INFO | hw5.seq2seq | BLEU = 19.21 49.1/25.4/14.2/8.3 (BP = 0.982 ratio = 0.982 hyp_len = 109803 ref_len = 111811)\n",
      "2021-11-11 17:59:00 | INFO | hw5.seq2seq | saved epoch checkpoint: /home/wy/ML_study/chapter5/checkpoints/rnn/checkpoint38.pt\n",
      "2021-11-11 17:59:00 | INFO | hw5.seq2seq | end of epoch 38\n"
     ]
    },
    {
     "data": {
      "text/plain": "HBox(children=(HTML(value='train epoch 39'), FloatProgress(value=0.0, max=791.0), HTML(value='')))",
      "application/vnd.jupyter.widget-view+json": {
       "version_major": 2,
       "version_minor": 0,
       "model_id": "85e0709c6ab044738fdd016c89a735ea"
      }
     },
     "metadata": {},
     "output_type": "display_data"
    },
    {
     "name": "stdout",
     "output_type": "stream",
     "text": [
      "2021-11-11 18:00:03 | INFO | hw5.seq2seq | training loss: 3.7940\n",
      "2021-11-11 18:00:03 | INFO | hw5.seq2seq | begin validation\n"
     ]
    },
    {
     "data": {
      "text/plain": "HBox(children=(HTML(value='validation'), FloatProgress(value=0.0, max=22.0), HTML(value='')))",
      "application/vnd.jupyter.widget-view+json": {
       "version_major": 2,
       "version_minor": 0,
       "model_id": "81b80333776547f3a1d6c2420b9ba61c"
      }
     },
     "metadata": {},
     "output_type": "display_data"
    },
    {
     "name": "stdout",
     "output_type": "stream",
     "text": [
      "2021-11-11 18:00:20 | INFO | hw5.seq2seq | example source: this is a photograph i took at the northern tip of baffin island when i went narwhal hunting with some inuit people , and this man , olayuk , told me a marvelous story of his grandfather .\n",
      "2021-11-11 18:00:20 | INFO | hw5.seq2seq | example hypothesis: 這是我在巴菲爾島拍攝的照片 , 當時我在巴菲爾島的一家小島上拍攝 , 當時我拍攝了一幅拍攝的照片 , 告訴我 , 關於他的祖父 , 這是一個很棒的故事 。\n",
      "2021-11-11 18:00:20 | INFO | hw5.seq2seq | example reference: 這張照片是我在巴芬島的北邊山頂上拍攝的那時我和一些因紐特人去捕獨角鯨這個叫奧拉雅的人述說了他祖父的傳奇故事\n",
      "2021-11-11 18:00:20 | INFO | hw5.seq2seq | validation loss:\t3.7664\n",
      "2021-11-11 18:00:20 | INFO | hw5.seq2seq | BLEU = 19.20 49.8/26.0/14.5/8.5 (BP = 0.960 ratio = 0.961 hyp_len = 107414 ref_len = 111811)\n",
      "2021-11-11 18:00:20 | INFO | hw5.seq2seq | saved epoch checkpoint: /home/wy/ML_study/chapter5/checkpoints/rnn/checkpoint39.pt\n",
      "2021-11-11 18:00:20 | INFO | hw5.seq2seq | end of epoch 39\n"
     ]
    },
    {
     "data": {
      "text/plain": "HBox(children=(HTML(value='train epoch 40'), FloatProgress(value=0.0, max=791.0), HTML(value='')))",
      "application/vnd.jupyter.widget-view+json": {
       "version_major": 2,
       "version_minor": 0,
       "model_id": "59b4763e90c5408ab3af6b2649a12d09"
      }
     },
     "metadata": {},
     "output_type": "display_data"
    },
    {
     "name": "stdout",
     "output_type": "stream",
     "text": [
      "2021-11-11 18:01:21 | INFO | hw5.seq2seq | training loss: 3.7920\n",
      "2021-11-11 18:01:21 | INFO | hw5.seq2seq | begin validation\n"
     ]
    },
    {
     "data": {
      "text/plain": "HBox(children=(HTML(value='validation'), FloatProgress(value=0.0, max=22.0), HTML(value='')))",
      "application/vnd.jupyter.widget-view+json": {
       "version_major": 2,
       "version_minor": 0,
       "model_id": "2bfbb0c38d6c454dbd9a1bf39da04265"
      }
     },
     "metadata": {},
     "output_type": "display_data"
    },
    {
     "name": "stdout",
     "output_type": "stream",
     "text": [
      "2021-11-11 18:01:37 | INFO | hw5.seq2seq | example source: congratulations .\n",
      "2021-11-11 18:01:37 | INFO | hw5.seq2seq | example hypothesis: 恭喜 。\n",
      "2021-11-11 18:01:37 | INFO | hw5.seq2seq | example reference: 恭喜各位 。\n",
      "2021-11-11 18:01:37 | INFO | hw5.seq2seq | validation loss:\t3.7649\n",
      "2021-11-11 18:01:37 | INFO | hw5.seq2seq | BLEU = 19.32 50.3/26.3/14.8/8.7 (BP = 0.952 ratio = 0.953 hyp_len = 106606 ref_len = 111811)\n",
      "2021-11-11 18:01:37 | INFO | hw5.seq2seq | saved epoch checkpoint: /home/wy/ML_study/chapter5/checkpoints/rnn/checkpoint40.pt\n",
      "2021-11-11 18:01:37 | INFO | hw5.seq2seq | end of epoch 40\n"
     ]
    },
    {
     "data": {
      "text/plain": "HBox(children=(HTML(value='train epoch 41'), FloatProgress(value=0.0, max=791.0), HTML(value='')))",
      "application/vnd.jupyter.widget-view+json": {
       "version_major": 2,
       "version_minor": 0,
       "model_id": "da5404ead6c44d7e9c911265a9485d81"
      }
     },
     "metadata": {},
     "output_type": "display_data"
    },
    {
     "name": "stdout",
     "output_type": "stream",
     "text": [
      "2021-11-11 18:02:37 | INFO | hw5.seq2seq | training loss: 3.7893\n",
      "2021-11-11 18:02:37 | INFO | hw5.seq2seq | begin validation\n"
     ]
    },
    {
     "data": {
      "text/plain": "HBox(children=(HTML(value='validation'), FloatProgress(value=0.0, max=22.0), HTML(value='')))",
      "application/vnd.jupyter.widget-view+json": {
       "version_major": 2,
       "version_minor": 0,
       "model_id": "1027789bac894c0d8f08b2f2ee446786"
      }
     },
     "metadata": {},
     "output_type": "display_data"
    },
    {
     "name": "stdout",
     "output_type": "stream",
     "text": [
      "2021-11-11 18:02:53 | INFO | hw5.seq2seq | example source: so cmu allows 32 possible symbols , but as you can see , there's only a small number that most people are using , so we're not actually getting very much strength from the symbols in our passwords .\n",
      "2021-11-11 18:02:53 | INFO | hw5.seq2seq | example hypothesis: 所以cmu允許32種可能的符號 , 但你可以看到 , 只有少數人在密碼中取得非常強大的符號 。\n",
      "2021-11-11 18:02:53 | INFO | hw5.seq2seq | example reference: cmu允許使用的符號有32個但正如你所見只有少數符號常常被使用所以實際上我們密碼也沒有變得更強因為密碼裡有了符號\n",
      "2021-11-11 18:02:53 | INFO | hw5.seq2seq | validation loss:\t3.7628\n",
      "2021-11-11 18:02:53 | INFO | hw5.seq2seq | BLEU = 19.24 49.0/25.5/14.2/8.3 (BP = 0.982 ratio = 0.983 hyp_len = 109858 ref_len = 111811)\n",
      "2021-11-11 18:02:53 | INFO | hw5.seq2seq | saved epoch checkpoint: /home/wy/ML_study/chapter5/checkpoints/rnn/checkpoint41.pt\n",
      "2021-11-11 18:02:53 | INFO | hw5.seq2seq | end of epoch 41\n"
     ]
    },
    {
     "data": {
      "text/plain": "HBox(children=(HTML(value='train epoch 42'), FloatProgress(value=0.0, max=791.0), HTML(value='')))",
      "application/vnd.jupyter.widget-view+json": {
       "version_major": 2,
       "version_minor": 0,
       "model_id": "9cf0fa7b08e040a682b52627f90c6d68"
      }
     },
     "metadata": {},
     "output_type": "display_data"
    },
    {
     "name": "stdout",
     "output_type": "stream",
     "text": [
      "2021-11-11 18:03:53 | INFO | hw5.seq2seq | training loss: 3.7881\n",
      "2021-11-11 18:03:53 | INFO | hw5.seq2seq | begin validation\n"
     ]
    },
    {
     "data": {
      "text/plain": "HBox(children=(HTML(value='validation'), FloatProgress(value=0.0, max=22.0), HTML(value='')))",
      "application/vnd.jupyter.widget-view+json": {
       "version_major": 2,
       "version_minor": 0,
       "model_id": "8450fceece6e484caddcf86675a75f49"
      }
     },
     "metadata": {},
     "output_type": "display_data"
    },
    {
     "name": "stdout",
     "output_type": "stream",
     "text": [
      "2021-11-11 18:04:09 | INFO | hw5.seq2seq | example source: and finally , my most recent image , which has such a special meaning for me personally: this is the serengeti national park in tanzania .\n",
      "2021-11-11 18:04:09 | INFO | hw5.seq2seq | example hypothesis: 最後 , 我最近期的圖像 , 對我個人來說 , 這是坦尚尼亞的一個特殊意義 。\n",
      "2021-11-11 18:04:09 | INFO | hw5.seq2seq | example reference: 最後 , 我最新的影像 , 對我個人有特別的意義:這是位於坦尚尼亞的塞倫蓋提國家公園 。\n",
      "2021-11-11 18:04:09 | INFO | hw5.seq2seq | validation loss:\t3.7617\n",
      "2021-11-11 18:04:09 | INFO | hw5.seq2seq | BLEU = 19.16 49.5/25.8/14.3/8.3 (BP = 0.971 ratio = 0.971 hyp_len = 108599 ref_len = 111811)\n",
      "2021-11-11 18:04:09 | INFO | hw5.seq2seq | saved epoch checkpoint: /home/wy/ML_study/chapter5/checkpoints/rnn/checkpoint42.pt\n",
      "2021-11-11 18:04:09 | INFO | hw5.seq2seq | end of epoch 42\n"
     ]
    },
    {
     "data": {
      "text/plain": "HBox(children=(HTML(value='train epoch 43'), FloatProgress(value=0.0, max=791.0), HTML(value='')))",
      "application/vnd.jupyter.widget-view+json": {
       "version_major": 2,
       "version_minor": 0,
       "model_id": "1199d2dcf7f0442f9749f086483074ea"
      }
     },
     "metadata": {},
     "output_type": "display_data"
    },
    {
     "name": "stdout",
     "output_type": "stream",
     "text": [
      "2021-11-11 18:05:11 | INFO | hw5.seq2seq | training loss: 3.7865\n",
      "2021-11-11 18:05:11 | INFO | hw5.seq2seq | begin validation\n"
     ]
    },
    {
     "data": {
      "text/plain": "HBox(children=(HTML(value='validation'), FloatProgress(value=0.0, max=22.0), HTML(value='')))",
      "application/vnd.jupyter.widget-view+json": {
       "version_major": 2,
       "version_minor": 0,
       "model_id": "8267d0a59dbe4512b92a5e94879422f2"
      }
     },
     "metadata": {},
     "output_type": "display_data"
    },
    {
     "name": "stdout",
     "output_type": "stream",
     "text": [
      "2021-11-11 18:05:28 | INFO | hw5.seq2seq | example source: that freedom getting back into the hands of the consumer , that would be the most exciting thing .\n",
      "2021-11-11 18:05:28 | INFO | hw5.seq2seq | example hypothesis: 那個自由可以回到消費者的消費者身上 , 這是最令人興奮的事情 。\n",
      "2021-11-11 18:05:28 | INFO | hw5.seq2seq | example reference: 那自由重回消費者的手中 , 將會是最使人興奮的事情 。\n",
      "2021-11-11 18:05:28 | INFO | hw5.seq2seq | validation loss:\t3.7626\n",
      "2021-11-11 18:05:28 | INFO | hw5.seq2seq | BLEU = 19.43 48.8/25.4/14.1/8.2 (BP = 0.998 ratio = 0.998 hyp_len = 111593 ref_len = 111811)\n",
      "2021-11-11 18:05:28 | INFO | hw5.seq2seq | saved epoch checkpoint: /home/wy/ML_study/chapter5/checkpoints/rnn/checkpoint43.pt\n",
      "2021-11-11 18:05:29 | INFO | hw5.seq2seq | end of epoch 43\n"
     ]
    },
    {
     "data": {
      "text/plain": "HBox(children=(HTML(value='train epoch 44'), FloatProgress(value=0.0, max=791.0), HTML(value='')))",
      "application/vnd.jupyter.widget-view+json": {
       "version_major": 2,
       "version_minor": 0,
       "model_id": "4b6f684fb408440685949b4d46cd79da"
      }
     },
     "metadata": {},
     "output_type": "display_data"
    },
    {
     "name": "stdout",
     "output_type": "stream",
     "text": [
      "2021-11-11 18:06:30 | INFO | hw5.seq2seq | training loss: 3.7821\n",
      "2021-11-11 18:06:30 | INFO | hw5.seq2seq | begin validation\n"
     ]
    },
    {
     "data": {
      "text/plain": "HBox(children=(HTML(value='validation'), FloatProgress(value=0.0, max=22.0), HTML(value='')))",
      "application/vnd.jupyter.widget-view+json": {
       "version_major": 2,
       "version_minor": 0,
       "model_id": "7591621322ce41d5a39d13900e7943f9"
      }
     },
     "metadata": {},
     "output_type": "display_data"
    },
    {
     "name": "stdout",
     "output_type": "stream",
     "text": [
      "2021-11-11 18:06:46 | INFO | hw5.seq2seq | example source: and when people draw diagrams of git workflow , they use drawings that look like this .\n",
      "2021-11-11 18:06:46 | INFO | hw5.seq2seq | example hypothesis: 當人們畫圖像這樣 , 他們用畫像這樣 。\n",
      "2021-11-11 18:06:46 | INFO | hw5.seq2seq | example reference: 而要製作git的工作流程示意圖時它們都會長得像這樣\n",
      "2021-11-11 18:06:46 | INFO | hw5.seq2seq | validation loss:\t3.7583\n",
      "2021-11-11 18:06:46 | INFO | hw5.seq2seq | BLEU = 19.15 48.3/24.9/13.9/8.1 (BP = 1.000 ratio = 1.011 hyp_len = 113064 ref_len = 111811)\n",
      "2021-11-11 18:06:46 | INFO | hw5.seq2seq | saved epoch checkpoint: /home/wy/ML_study/chapter5/checkpoints/rnn/checkpoint44.pt\n",
      "2021-11-11 18:06:46 | INFO | hw5.seq2seq | end of epoch 44\n"
     ]
    },
    {
     "data": {
      "text/plain": "HBox(children=(HTML(value='train epoch 45'), FloatProgress(value=0.0, max=791.0), HTML(value='')))",
      "application/vnd.jupyter.widget-view+json": {
       "version_major": 2,
       "version_minor": 0,
       "model_id": "20bf0245d0794aafbea1eb6af77f5b6f"
      }
     },
     "metadata": {},
     "output_type": "display_data"
    },
    {
     "name": "stdout",
     "output_type": "stream",
     "text": [
      "2021-11-11 18:07:47 | INFO | hw5.seq2seq | training loss: 3.7823\n",
      "2021-11-11 18:07:47 | INFO | hw5.seq2seq | begin validation\n"
     ]
    },
    {
     "data": {
      "text/plain": "HBox(children=(HTML(value='validation'), FloatProgress(value=0.0, max=22.0), HTML(value='')))",
      "application/vnd.jupyter.widget-view+json": {
       "version_major": 2,
       "version_minor": 0,
       "model_id": "b79d53ddf79d4f9292bcca8385da2bd1"
      }
     },
     "metadata": {},
     "output_type": "display_data"
    },
    {
     "name": "stdout",
     "output_type": "stream",
     "text": [
      "2021-11-11 18:08:02 | INFO | hw5.seq2seq | example source: so here what we're trying to do is we bring the picture and project it into the 3d model space .\n",
      "2021-11-11 18:08:02 | INFO | hw5.seq2seq | example hypothesis: 我們要做的是把圖片放到3d模型空間中 。\n",
      "2021-11-11 18:08:02 | INFO | hw5.seq2seq | example reference: 這裏 , 我們正嘗試將圖片映射到三維模型空間中.\n",
      "2021-11-11 18:08:02 | INFO | hw5.seq2seq | validation loss:\t3.7661\n",
      "2021-11-11 18:08:02 | INFO | hw5.seq2seq | BLEU = 19.16 51.3/26.7/15.0/8.8 (BP = 0.930 ratio = 0.933 hyp_len = 104264 ref_len = 111811)\n",
      "2021-11-11 18:08:02 | INFO | hw5.seq2seq | saved epoch checkpoint: /home/wy/ML_study/chapter5/checkpoints/rnn/checkpoint45.pt\n",
      "2021-11-11 18:08:02 | INFO | hw5.seq2seq | end of epoch 45\n"
     ]
    },
    {
     "data": {
      "text/plain": "HBox(children=(HTML(value='train epoch 46'), FloatProgress(value=0.0, max=791.0), HTML(value='')))",
      "application/vnd.jupyter.widget-view+json": {
       "version_major": 2,
       "version_minor": 0,
       "model_id": "548ed8a38d3c4dcab871818d2a7e3ac0"
      }
     },
     "metadata": {},
     "output_type": "display_data"
    },
    {
     "name": "stdout",
     "output_type": "stream",
     "text": [
      "2021-11-11 18:09:03 | INFO | hw5.seq2seq | training loss: 3.7800\n",
      "2021-11-11 18:09:03 | INFO | hw5.seq2seq | begin validation\n"
     ]
    },
    {
     "data": {
      "text/plain": "HBox(children=(HTML(value='validation'), FloatProgress(value=0.0, max=22.0), HTML(value='')))",
      "application/vnd.jupyter.widget-view+json": {
       "version_major": 2,
       "version_minor": 0,
       "model_id": "8ff5676100d349fd8c6a065a4ffa34db"
      }
     },
     "metadata": {},
     "output_type": "display_data"
    },
    {
     "name": "stdout",
     "output_type": "stream",
     "text": [
      "2021-11-11 18:09:20 | INFO | hw5.seq2seq | example source: how do we do that ?\n",
      "2021-11-11 18:09:20 | INFO | hw5.seq2seq | example hypothesis: 我們要怎麼做呢 ?\n",
      "2021-11-11 18:09:20 | INFO | hw5.seq2seq | example reference: 那我們應該如何做呢 ?\n",
      "2021-11-11 18:09:20 | INFO | hw5.seq2seq | validation loss:\t3.7567\n",
      "2021-11-11 18:09:20 | INFO | hw5.seq2seq | BLEU = 18.90 47.6/24.6/13.7/8.0 (BP = 1.000 ratio = 1.033 hyp_len = 115480 ref_len = 111811)\n",
      "2021-11-11 18:09:20 | INFO | hw5.seq2seq | saved epoch checkpoint: /home/wy/ML_study/chapter5/checkpoints/rnn/checkpoint46.pt\n",
      "2021-11-11 18:09:20 | INFO | hw5.seq2seq | end of epoch 46\n"
     ]
    },
    {
     "data": {
      "text/plain": "HBox(children=(HTML(value='train epoch 47'), FloatProgress(value=0.0, max=791.0), HTML(value='')))",
      "application/vnd.jupyter.widget-view+json": {
       "version_major": 2,
       "version_minor": 0,
       "model_id": "89606574160c44569071228487ba85d4"
      }
     },
     "metadata": {},
     "output_type": "display_data"
    },
    {
     "name": "stdout",
     "output_type": "stream",
     "text": [
      "2021-11-11 18:10:22 | INFO | hw5.seq2seq | training loss: 3.7776\n",
      "2021-11-11 18:10:22 | INFO | hw5.seq2seq | begin validation\n"
     ]
    },
    {
     "data": {
      "text/plain": "HBox(children=(HTML(value='validation'), FloatProgress(value=0.0, max=22.0), HTML(value='')))",
      "application/vnd.jupyter.widget-view+json": {
       "version_major": 2,
       "version_minor": 0,
       "model_id": "7ec1b8a5090a4b0baff0c2136f3a8f31"
      }
     },
     "metadata": {},
     "output_type": "display_data"
    },
    {
     "name": "stdout",
     "output_type": "stream",
     "text": [
      "2021-11-11 18:10:38 | INFO | hw5.seq2seq | example source: second , we need to save our oldgrowth forests .\n",
      "2021-11-11 18:10:38 | INFO | hw5.seq2seq | example hypothesis: 第二 , 我們需要拯救老森林 。\n",
      "2021-11-11 18:10:38 | INFO | hw5.seq2seq | example reference: 第二 , 我們需要拯救我們的老齡林 。\n",
      "2021-11-11 18:10:38 | INFO | hw5.seq2seq | validation loss:\t3.7588\n",
      "2021-11-11 18:10:38 | INFO | hw5.seq2seq | BLEU = 19.42 50.1/26.1/14.6/8.5 (BP = 0.968 ratio = 0.969 hyp_len = 108306 ref_len = 111811)\n",
      "2021-11-11 18:10:39 | INFO | hw5.seq2seq | saved epoch checkpoint: /home/wy/ML_study/chapter5/checkpoints/rnn/checkpoint47.pt\n",
      "2021-11-11 18:10:39 | INFO | hw5.seq2seq | end of epoch 47\n"
     ]
    },
    {
     "data": {
      "text/plain": "HBox(children=(HTML(value='train epoch 48'), FloatProgress(value=0.0, max=791.0), HTML(value='')))",
      "application/vnd.jupyter.widget-view+json": {
       "version_major": 2,
       "version_minor": 0,
       "model_id": "4f2d5d9150414258a3e003acde8e1ece"
      }
     },
     "metadata": {},
     "output_type": "display_data"
    },
    {
     "name": "stdout",
     "output_type": "stream",
     "text": [
      "2021-11-11 18:11:39 | INFO | hw5.seq2seq | training loss: 3.7759\n",
      "2021-11-11 18:11:39 | INFO | hw5.seq2seq | begin validation\n"
     ]
    },
    {
     "data": {
      "text/plain": "HBox(children=(HTML(value='validation'), FloatProgress(value=0.0, max=22.0), HTML(value='')))",
      "application/vnd.jupyter.widget-view+json": {
       "version_major": 2,
       "version_minor": 0,
       "model_id": "1cc065e9b6ec4b569022ced1ac758c0b"
      }
     },
     "metadata": {},
     "output_type": "display_data"
    },
    {
     "name": "stdout",
     "output_type": "stream",
     "text": [
      "2021-11-11 18:11:55 | INFO | hw5.seq2seq | example source: my aim is to take a simple portrait of anyone who's anything other than 100 percent straight or feels like they fall in the lgbtq spectrum in any way .\n",
      "2021-11-11 18:11:55 | INFO | hw5.seq2seq | example hypothesis: 我的目標是要用任何一個簡單的肖像 , 例如在lgbtq的光譜上 。\n",
      "2021-11-11 18:11:55 | INFO | hw5.seq2seq | example reference: 我的目標是為在任何方面覺得自己不是百分之百 \" 直 \" 的人拍攝一幅簡單的肖像 。\n",
      "2021-11-11 18:11:55 | INFO | hw5.seq2seq | validation loss:\t3.7598\n",
      "2021-11-11 18:11:55 | INFO | hw5.seq2seq | BLEU = 19.47 50.1/26.1/14.7/8.6 (BP = 0.966 ratio = 0.967 hyp_len = 108099 ref_len = 111811)\n",
      "2021-11-11 18:11:55 | INFO | hw5.seq2seq | saved epoch checkpoint: /home/wy/ML_study/chapter5/checkpoints/rnn/checkpoint48.pt\n",
      "2021-11-11 18:11:56 | INFO | hw5.seq2seq | end of epoch 48\n"
     ]
    },
    {
     "data": {
      "text/plain": "HBox(children=(HTML(value='train epoch 49'), FloatProgress(value=0.0, max=791.0), HTML(value='')))",
      "application/vnd.jupyter.widget-view+json": {
       "version_major": 2,
       "version_minor": 0,
       "model_id": "60ac4972bc464677996909da399e4b2f"
      }
     },
     "metadata": {},
     "output_type": "display_data"
    },
    {
     "name": "stdout",
     "output_type": "stream",
     "text": [
      "2021-11-11 18:12:58 | INFO | hw5.seq2seq | training loss: 3.7761\n",
      "2021-11-11 18:12:58 | INFO | hw5.seq2seq | begin validation\n"
     ]
    },
    {
     "data": {
      "text/plain": "HBox(children=(HTML(value='validation'), FloatProgress(value=0.0, max=22.0), HTML(value='')))",
      "application/vnd.jupyter.widget-view+json": {
       "version_major": 2,
       "version_minor": 0,
       "model_id": "6d02a04876354cf1a3caffe7065740ed"
      }
     },
     "metadata": {},
     "output_type": "display_data"
    },
    {
     "name": "stdout",
     "output_type": "stream",
     "text": [
      "2021-11-11 18:13:15 | INFO | hw5.seq2seq | example source: i thought that i couldn't come here without giving you something special .\n",
      "2021-11-11 18:13:15 | INFO | hw5.seq2seq | example hypothesis: 我覺得我不能在這裡 , 不要給你特別的東西 。\n",
      "2021-11-11 18:13:15 | INFO | hw5.seq2seq | example reference: 我想既然來到了這裡 , 就一定要給你們一些特別的東西 。\n",
      "2021-11-11 18:13:15 | INFO | hw5.seq2seq | validation loss:\t3.7603\n",
      "2021-11-11 18:13:15 | INFO | hw5.seq2seq | BLEU = 19.30 50.2/26.1/14.7/8.6 (BP = 0.957 ratio = 0.958 hyp_len = 107136 ref_len = 111811)\n",
      "2021-11-11 18:13:15 | INFO | hw5.seq2seq | saved epoch checkpoint: /home/wy/ML_study/chapter5/checkpoints/rnn/checkpoint49.pt\n",
      "2021-11-11 18:13:15 | INFO | hw5.seq2seq | end of epoch 49\n"
     ]
    },
    {
     "data": {
      "text/plain": "HBox(children=(HTML(value='train epoch 50'), FloatProgress(value=0.0, max=791.0), HTML(value='')))",
      "application/vnd.jupyter.widget-view+json": {
       "version_major": 2,
       "version_minor": 0,
       "model_id": "326037092bab41f89feed814c95ffd19"
      }
     },
     "metadata": {},
     "output_type": "display_data"
    },
    {
     "name": "stdout",
     "output_type": "stream",
     "text": [
      "2021-11-11 18:14:20 | INFO | hw5.seq2seq | training loss: 3.7746\n",
      "2021-11-11 18:14:20 | INFO | hw5.seq2seq | begin validation\n"
     ]
    },
    {
     "data": {
      "text/plain": "HBox(children=(HTML(value='validation'), FloatProgress(value=0.0, max=22.0), HTML(value='')))",
      "application/vnd.jupyter.widget-view+json": {
       "version_major": 2,
       "version_minor": 0,
       "model_id": "c5c75ea5e59448b9944b33e094774dea"
      }
     },
     "metadata": {},
     "output_type": "display_data"
    },
    {
     "name": "stdout",
     "output_type": "stream",
     "text": [
      "2021-11-11 18:14:36 | INFO | hw5.seq2seq | example source: a chinese scholar would understand 20 , 000 characters .\n",
      "2021-11-11 18:14:36 | INFO | hw5.seq2seq | example hypothesis: 中國的學者會了解20 , 000個角色 。\n",
      "2021-11-11 18:14:36 | INFO | hw5.seq2seq | example reference: 中國讀書人能識得二萬個中文字\n",
      "2021-11-11 18:14:36 | INFO | hw5.seq2seq | validation loss:\t3.7602\n",
      "2021-11-11 18:14:36 | INFO | hw5.seq2seq | BLEU = 19.43 49.8/25.9/14.5/8.5 (BP = 0.974 ratio = 0.974 hyp_len = 108903 ref_len = 111811)\n",
      "2021-11-11 18:14:37 | INFO | hw5.seq2seq | saved epoch checkpoint: /home/wy/ML_study/chapter5/checkpoints/rnn/checkpoint50.pt\n",
      "2021-11-11 18:14:37 | INFO | hw5.seq2seq | end of epoch 50\n"
     ]
    },
    {
     "data": {
      "text/plain": "HBox(children=(HTML(value='train epoch 51'), FloatProgress(value=0.0, max=791.0), HTML(value='')))",
      "application/vnd.jupyter.widget-view+json": {
       "version_major": 2,
       "version_minor": 0,
       "model_id": "3db3864e51d847bfb9d7ab6c085a5299"
      }
     },
     "metadata": {},
     "output_type": "display_data"
    },
    {
     "name": "stdout",
     "output_type": "stream",
     "text": [
      "2021-11-11 18:15:42 | INFO | hw5.seq2seq | training loss: 3.7704\n",
      "2021-11-11 18:15:42 | INFO | hw5.seq2seq | begin validation\n"
     ]
    },
    {
     "data": {
      "text/plain": "HBox(children=(HTML(value='validation'), FloatProgress(value=0.0, max=22.0), HTML(value='')))",
      "application/vnd.jupyter.widget-view+json": {
       "version_major": 2,
       "version_minor": 0,
       "model_id": "fa047ead239a4370951367f2bc192bd6"
      }
     },
     "metadata": {},
     "output_type": "display_data"
    },
    {
     "name": "stdout",
     "output_type": "stream",
     "text": [
      "2021-11-11 18:16:00 | INFO | hw5.seq2seq | example source: all cacilda and i have done is extend this sharing behavior to sexuality .\n",
      "2021-11-11 18:16:00 | INFO | hw5.seq2seq | example hypothesis: 所有cacilda和我一起做過這種共享行為 。\n",
      "2021-11-11 18:16:00 | INFO | hw5.seq2seq | example reference: 卡欣達和我一直以來所探討的是 , 將這種共享行為延伸到性行為 ,\n",
      "2021-11-11 18:16:00 | INFO | hw5.seq2seq | validation loss:\t3.7607\n",
      "2021-11-11 18:16:00 | INFO | hw5.seq2seq | BLEU = 19.33 49.7/25.9/14.5/8.4 (BP = 0.972 ratio = 0.972 hyp_len = 108672 ref_len = 111811)\n",
      "2021-11-11 18:16:00 | INFO | hw5.seq2seq | saved epoch checkpoint: /home/wy/ML_study/chapter5/checkpoints/rnn/checkpoint51.pt\n",
      "2021-11-11 18:16:00 | INFO | hw5.seq2seq | end of epoch 51\n"
     ]
    },
    {
     "data": {
      "text/plain": "HBox(children=(HTML(value='train epoch 52'), FloatProgress(value=0.0, max=791.0), HTML(value='')))",
      "application/vnd.jupyter.widget-view+json": {
       "version_major": 2,
       "version_minor": 0,
       "model_id": "cc79c64736a0424880aa9f87739c511d"
      }
     },
     "metadata": {},
     "output_type": "display_data"
    },
    {
     "name": "stdout",
     "output_type": "stream",
     "text": [
      "2021-11-11 18:17:04 | INFO | hw5.seq2seq | training loss: 3.7698\n",
      "2021-11-11 18:17:04 | INFO | hw5.seq2seq | begin validation\n"
     ]
    },
    {
     "data": {
      "text/plain": "HBox(children=(HTML(value='validation'), FloatProgress(value=0.0, max=22.0), HTML(value='')))",
      "application/vnd.jupyter.widget-view+json": {
       "version_major": 2,
       "version_minor": 0,
       "model_id": "9051ecca05584f35bfcf6c26f330ba1c"
      }
     },
     "metadata": {},
     "output_type": "display_data"
    },
    {
     "name": "stdout",
     "output_type": "stream",
     "text": [
      "2021-11-11 18:17:21 | INFO | hw5.seq2seq | example source: however , by comparing data that ties together both density and diversity from what we hear , i'm able to arrive at much more precise fitness outcomes .\n",
      "2021-11-11 18:17:21 | INFO | hw5.seq2seq | example hypothesis: 然而 , 透過相同資料 , 與多樣性和多樣性有關 , 我就能得到更精確的符合資料 。\n",
      "2021-11-11 18:17:21 | INFO | hw5.seq2seq | example reference: 不過我能以比較我們所聽到結合了密度及多樣性的數據得到更精確的棲地健康報告\n",
      "2021-11-11 18:17:21 | INFO | hw5.seq2seq | validation loss:\t3.7539\n",
      "2021-11-11 18:17:21 | INFO | hw5.seq2seq | BLEU = 19.57 49.1/25.6/14.3/8.4 (BP = 0.993 ratio = 0.993 hyp_len = 111018 ref_len = 111811)\n",
      "2021-11-11 18:17:21 | INFO | hw5.seq2seq | saved epoch checkpoint: /home/wy/ML_study/chapter5/checkpoints/rnn/checkpoint52.pt\n",
      "2021-11-11 18:17:22 | INFO | hw5.seq2seq | end of epoch 52\n"
     ]
    },
    {
     "data": {
      "text/plain": "HBox(children=(HTML(value='train epoch 53'), FloatProgress(value=0.0, max=791.0), HTML(value='')))",
      "application/vnd.jupyter.widget-view+json": {
       "version_major": 2,
       "version_minor": 0,
       "model_id": "63d865d9cc1546bea7bacc5f2a1222de"
      }
     },
     "metadata": {},
     "output_type": "display_data"
    },
    {
     "name": "stdout",
     "output_type": "stream",
     "text": [
      "2021-11-11 18:18:27 | INFO | hw5.seq2seq | training loss: 3.7677\n",
      "2021-11-11 18:18:27 | INFO | hw5.seq2seq | begin validation\n"
     ]
    },
    {
     "data": {
      "text/plain": "HBox(children=(HTML(value='validation'), FloatProgress(value=0.0, max=22.0), HTML(value='')))",
      "application/vnd.jupyter.widget-view+json": {
       "version_major": 2,
       "version_minor": 0,
       "model_id": "a4a3b359daac48e4a6c9e8887f57d9db"
      }
     },
     "metadata": {},
     "output_type": "display_data"
    },
    {
     "name": "stdout",
     "output_type": "stream",
     "text": [
      "2021-11-11 18:18:43 | INFO | hw5.seq2seq | example source: in many cases , you can also see how a building looks from a nearby street .\n",
      "2021-11-11 18:18:43 | INFO | hw5.seq2seq | example hypothesis: 在許多案例中 , 你也可以看見建築從附近的街道看出來 。\n",
      "2021-11-11 18:18:43 | INFO | hw5.seq2seq | example reference: 很多時候你也可以從旁邊的街上看到某棟建築物的的長相\n",
      "2021-11-11 18:18:43 | INFO | hw5.seq2seq | validation loss:\t3.7523\n",
      "2021-11-11 18:18:43 | INFO | hw5.seq2seq | BLEU = 19.52 49.4/25.7/14.4/8.4 (BP = 0.986 ratio = 0.986 hyp_len = 110203 ref_len = 111811)\n",
      "2021-11-11 18:18:44 | INFO | hw5.seq2seq | saved epoch checkpoint: /home/wy/ML_study/chapter5/checkpoints/rnn/checkpoint53.pt\n",
      "2021-11-11 18:18:44 | INFO | hw5.seq2seq | end of epoch 53\n"
     ]
    },
    {
     "data": {
      "text/plain": "HBox(children=(HTML(value='train epoch 54'), FloatProgress(value=0.0, max=791.0), HTML(value='')))",
      "application/vnd.jupyter.widget-view+json": {
       "version_major": 2,
       "version_minor": 0,
       "model_id": "da4b6f7405fc4daf92433a73c341a7ac"
      }
     },
     "metadata": {},
     "output_type": "display_data"
    },
    {
     "name": "stdout",
     "output_type": "stream",
     "text": [
      "2021-11-11 18:19:48 | INFO | hw5.seq2seq | training loss: 3.7673\n",
      "2021-11-11 18:19:48 | INFO | hw5.seq2seq | begin validation\n"
     ]
    },
    {
     "data": {
      "text/plain": "HBox(children=(HTML(value='validation'), FloatProgress(value=0.0, max=22.0), HTML(value='')))",
      "application/vnd.jupyter.widget-view+json": {
       "version_major": 2,
       "version_minor": 0,
       "model_id": "09b9ad8e7ae74a3dabe1835ca796f003"
      }
     },
     "metadata": {},
     "output_type": "display_data"
    },
    {
     "name": "stdout",
     "output_type": "stream",
     "text": [
      "2021-11-11 18:20:05 | INFO | hw5.seq2seq | example source: so it's a consumerdriven coop .\n",
      "2021-11-11 18:20:05 | INFO | hw5.seq2seq | example hypothesis: 所以這是一個消費商店 。\n",
      "2021-11-11 18:20:05 | INFO | hw5.seq2seq | example reference: 形成一個由消費者主導的合作模式 。\n",
      "2021-11-11 18:20:05 | INFO | hw5.seq2seq | validation loss:\t3.7547\n",
      "2021-11-11 18:20:05 | INFO | hw5.seq2seq | BLEU = 19.37 49.0/25.4/14.1/8.2 (BP = 0.994 ratio = 0.994 hyp_len = 111162 ref_len = 111811)\n",
      "2021-11-11 18:20:06 | INFO | hw5.seq2seq | saved epoch checkpoint: /home/wy/ML_study/chapter5/checkpoints/rnn/checkpoint54.pt\n",
      "2021-11-11 18:20:06 | INFO | hw5.seq2seq | end of epoch 54\n"
     ]
    },
    {
     "data": {
      "text/plain": "HBox(children=(HTML(value='train epoch 55'), FloatProgress(value=0.0, max=791.0), HTML(value='')))",
      "application/vnd.jupyter.widget-view+json": {
       "version_major": 2,
       "version_minor": 0,
       "model_id": "e17d0c2a1203432f87e544ede755ef71"
      }
     },
     "metadata": {},
     "output_type": "display_data"
    },
    {
     "name": "stdout",
     "output_type": "stream",
     "text": [
      "2021-11-11 18:21:11 | INFO | hw5.seq2seq | training loss: 3.7663\n",
      "2021-11-11 18:21:11 | INFO | hw5.seq2seq | begin validation\n"
     ]
    },
    {
     "data": {
      "text/plain": "HBox(children=(HTML(value='validation'), FloatProgress(value=0.0, max=22.0), HTML(value='')))",
      "application/vnd.jupyter.widget-view+json": {
       "version_major": 2,
       "version_minor": 0,
       "model_id": "ca374a8467ec4e1ca20e10fd56a28c85"
      }
     },
     "metadata": {},
     "output_type": "display_data"
    },
    {
     "name": "stdout",
     "output_type": "stream",
     "text": [
      "2021-11-11 18:21:28 | INFO | hw5.seq2seq | example source: many tell us that they're one of only a few homes on their block that are occupied , and that they can see several abandoned homes from where they sit on their porches .\n",
      "2021-11-11 18:21:28 | INFO | hw5.seq2seq | example hypothesis: 很多人告訴我們 , 他們只是其中幾個家庭 , 他們在他們的街區上有幾個家庭 , 他們可以看見一些被丟棄的家園 。\n",
      "2021-11-11 18:21:28 | INFO | hw5.seq2seq | example reference: 很多人告訴我們 , 他們的房子是街區裡為數不多還住著人的 , 他們坐在自家的門廊就可以看到好幾座廢棄的房子 。\n",
      "2021-11-11 18:21:28 | INFO | hw5.seq2seq | validation loss:\t3.7520\n",
      "2021-11-11 18:21:28 | INFO | hw5.seq2seq | BLEU = 19.49 50.5/26.3/14.7/8.7 (BP = 0.960 ratio = 0.961 hyp_len = 107472 ref_len = 111811)\n",
      "2021-11-11 18:21:28 | INFO | hw5.seq2seq | saved epoch checkpoint: /home/wy/ML_study/chapter5/checkpoints/rnn/checkpoint55.pt\n",
      "2021-11-11 18:21:28 | INFO | hw5.seq2seq | end of epoch 55\n"
     ]
    },
    {
     "data": {
      "text/plain": "HBox(children=(HTML(value='train epoch 56'), FloatProgress(value=0.0, max=791.0), HTML(value='')))",
      "application/vnd.jupyter.widget-view+json": {
       "version_major": 2,
       "version_minor": 0,
       "model_id": "84dc0524017e4be9bb2612594fee572e"
      }
     },
     "metadata": {},
     "output_type": "display_data"
    },
    {
     "name": "stdout",
     "output_type": "stream",
     "text": [
      "2021-11-11 18:22:35 | INFO | hw5.seq2seq | training loss: 3.7647\n",
      "2021-11-11 18:22:35 | INFO | hw5.seq2seq | begin validation\n"
     ]
    },
    {
     "data": {
      "text/plain": "HBox(children=(HTML(value='validation'), FloatProgress(value=0.0, max=22.0), HTML(value='')))",
      "application/vnd.jupyter.widget-view+json": {
       "version_major": 2,
       "version_minor": 0,
       "model_id": "96ff3d0de2a146b188362ab81d995580"
      }
     },
     "metadata": {},
     "output_type": "display_data"
    },
    {
     "name": "stdout",
     "output_type": "stream",
     "text": [
      "2021-11-11 18:22:53 | INFO | hw5.seq2seq | example source: this one comes from a note that a student sent me after i gave a lecture about arousal nonconcordance .\n",
      "2021-11-11 18:22:53 | INFO | hw5.seq2seq | example hypothesis: 這句話是一位學生在我發表演講後 , 我給了一場演說 , 一篇文章 。\n",
      "2021-11-11 18:22:53 | INFO | hw5.seq2seq | example reference: 這個故事來自一名學生寫給我的字條 , 這是在我教完關於性興奮不一致的課之後 。\n",
      "2021-11-11 18:22:53 | INFO | hw5.seq2seq | validation loss:\t3.7524\n",
      "2021-11-11 18:22:53 | INFO | hw5.seq2seq | BLEU = 19.38 51.1/26.7/15.0/8.8 (BP = 0.940 ratio = 0.942 hyp_len = 105293 ref_len = 111811)\n",
      "2021-11-11 18:22:54 | INFO | hw5.seq2seq | saved epoch checkpoint: /home/wy/ML_study/chapter5/checkpoints/rnn/checkpoint56.pt\n",
      "2021-11-11 18:22:54 | INFO | hw5.seq2seq | end of epoch 56\n"
     ]
    },
    {
     "data": {
      "text/plain": "HBox(children=(HTML(value='train epoch 57'), FloatProgress(value=0.0, max=791.0), HTML(value='')))",
      "application/vnd.jupyter.widget-view+json": {
       "version_major": 2,
       "version_minor": 0,
       "model_id": "929386a991b246f49363355c302ae189"
      }
     },
     "metadata": {},
     "output_type": "display_data"
    },
    {
     "name": "stdout",
     "output_type": "stream",
     "text": [
      "2021-11-11 18:23:59 | INFO | hw5.seq2seq | training loss: 3.7605\n",
      "2021-11-11 18:23:59 | INFO | hw5.seq2seq | begin validation\n"
     ]
    },
    {
     "data": {
      "text/plain": "HBox(children=(HTML(value='validation'), FloatProgress(value=0.0, max=22.0), HTML(value='')))",
      "application/vnd.jupyter.widget-view+json": {
       "version_major": 2,
       "version_minor": 0,
       "model_id": "ce8a4016009e488f9281ccd5837c5c3b"
      }
     },
     "metadata": {},
     "output_type": "display_data"
    },
    {
     "name": "stdout",
     "output_type": "stream",
     "text": [
      "2021-11-11 18:24:16 | INFO | hw5.seq2seq | example source: now , something else happened .\n",
      "2021-11-11 18:24:16 | INFO | hw5.seq2seq | example hypothesis: 現在 , 其他事情發生了 。\n",
      "2021-11-11 18:24:16 | INFO | hw5.seq2seq | example reference: 現在情況發生了變化 。\n",
      "2021-11-11 18:24:16 | INFO | hw5.seq2seq | validation loss:\t3.7521\n",
      "2021-11-11 18:24:16 | INFO | hw5.seq2seq | BLEU = 19.27 48.5/25.1/14.0/8.1 (BP = 1.000 ratio = 1.012 hyp_len = 113119 ref_len = 111811)\n",
      "2021-11-11 18:24:16 | INFO | hw5.seq2seq | saved epoch checkpoint: /home/wy/ML_study/chapter5/checkpoints/rnn/checkpoint57.pt\n",
      "2021-11-11 18:24:16 | INFO | hw5.seq2seq | end of epoch 57\n"
     ]
    },
    {
     "data": {
      "text/plain": "HBox(children=(HTML(value='train epoch 58'), FloatProgress(value=0.0, max=791.0), HTML(value='')))",
      "application/vnd.jupyter.widget-view+json": {
       "version_major": 2,
       "version_minor": 0,
       "model_id": "ef6658bfee4646fc9eead19a45ae3c7c"
      }
     },
     "metadata": {},
     "output_type": "display_data"
    },
    {
     "name": "stdout",
     "output_type": "stream",
     "text": [
      "2021-11-11 18:25:21 | INFO | hw5.seq2seq | training loss: 3.7600\n",
      "2021-11-11 18:25:21 | INFO | hw5.seq2seq | begin validation\n"
     ]
    },
    {
     "data": {
      "text/plain": "HBox(children=(HTML(value='validation'), FloatProgress(value=0.0, max=22.0), HTML(value='')))",
      "application/vnd.jupyter.widget-view+json": {
       "version_major": 2,
       "version_minor": 0,
       "model_id": "8a3689075e814d82b38a4090b7c362d8"
      }
     },
     "metadata": {},
     "output_type": "display_data"
    },
    {
     "name": "stdout",
     "output_type": "stream",
     "text": [
      "2021-11-11 18:25:38 | INFO | hw5.seq2seq | example source: and i always thought that was a very annie hall kind of outfit .\n",
      "2021-11-11 18:25:38 | INFO | hw5.seq2seq | example hypothesis: 我一直以為這是一個很棒的廳類 。\n",
      "2021-11-11 18:25:38 | INFO | hw5.seq2seq | example reference: 我一直覺得那很像安妮霍爾那部電影裡的戲服 ,\n",
      "2021-11-11 18:25:38 | INFO | hw5.seq2seq | validation loss:\t3.7571\n",
      "2021-11-11 18:25:38 | INFO | hw5.seq2seq | BLEU = 19.36 50.7/26.5/14.9/8.7 (BP = 0.948 ratio = 0.949 hyp_len = 106149 ref_len = 111811)\n",
      "2021-11-11 18:25:38 | INFO | hw5.seq2seq | saved epoch checkpoint: /home/wy/ML_study/chapter5/checkpoints/rnn/checkpoint58.pt\n",
      "2021-11-11 18:25:38 | INFO | hw5.seq2seq | end of epoch 58\n"
     ]
    },
    {
     "data": {
      "text/plain": "HBox(children=(HTML(value='train epoch 59'), FloatProgress(value=0.0, max=791.0), HTML(value='')))",
      "application/vnd.jupyter.widget-view+json": {
       "version_major": 2,
       "version_minor": 0,
       "model_id": "aa7777f3b86c4bbf914e9a608360846b"
      }
     },
     "metadata": {},
     "output_type": "display_data"
    },
    {
     "name": "stdout",
     "output_type": "stream",
     "text": [
      "2021-11-11 18:26:44 | INFO | hw5.seq2seq | training loss: 3.7597\n",
      "2021-11-11 18:26:44 | INFO | hw5.seq2seq | begin validation\n"
     ]
    },
    {
     "data": {
      "text/plain": "HBox(children=(HTML(value='validation'), FloatProgress(value=0.0, max=22.0), HTML(value='')))",
      "application/vnd.jupyter.widget-view+json": {
       "version_major": 2,
       "version_minor": 0,
       "model_id": "ea3e9053a9394c0cbe15d32558204a63"
      }
     },
     "metadata": {},
     "output_type": "display_data"
    },
    {
     "name": "stdout",
     "output_type": "stream",
     "text": [
      "2021-11-11 18:27:01 | INFO | hw5.seq2seq | example source: damn . but you know , watson is growing up fast .\n",
      "2021-11-11 18:27:01 | INFO | hw5.seq2seq | example hypothesis: 丹 , 但你知道 , 華生在快速成長 。\n",
      "2021-11-11 18:27:01 | INFO | hw5.seq2seq | example reference: 該死 ! 但你們知道嗎 ? 沃森長得很快\n",
      "2021-11-11 18:27:01 | INFO | hw5.seq2seq | validation loss:\t3.7597\n",
      "2021-11-11 18:27:01 | INFO | hw5.seq2seq | BLEU = 19.15 51.2/26.8/15.0/8.9 (BP = 0.926 ratio = 0.929 hyp_len = 103819 ref_len = 111811)\n",
      "2021-11-11 18:27:01 | INFO | hw5.seq2seq | saved epoch checkpoint: /home/wy/ML_study/chapter5/checkpoints/rnn/checkpoint59.pt\n",
      "2021-11-11 18:27:01 | INFO | hw5.seq2seq | end of epoch 59\n"
     ]
    },
    {
     "data": {
      "text/plain": "HBox(children=(HTML(value='train epoch 60'), FloatProgress(value=0.0, max=791.0), HTML(value='')))",
      "application/vnd.jupyter.widget-view+json": {
       "version_major": 2,
       "version_minor": 0,
       "model_id": "034130467df04b0aafc80f416e3420bc"
      }
     },
     "metadata": {},
     "output_type": "display_data"
    },
    {
     "name": "stdout",
     "output_type": "stream",
     "text": [
      "2021-11-11 18:28:05 | INFO | hw5.seq2seq | training loss: 3.7573\n",
      "2021-11-11 18:28:05 | INFO | hw5.seq2seq | begin validation\n"
     ]
    },
    {
     "data": {
      "text/plain": "HBox(children=(HTML(value='validation'), FloatProgress(value=0.0, max=22.0), HTML(value='')))",
      "application/vnd.jupyter.widget-view+json": {
       "version_major": 2,
       "version_minor": 0,
       "model_id": "a250102af6c84a7681b8972d44e3dec9"
      }
     },
     "metadata": {},
     "output_type": "display_data"
    },
    {
     "name": "stdout",
     "output_type": "stream",
     "text": [
      "2021-11-11 18:28:22 | INFO | hw5.seq2seq | example source: why is it that we treat culture erasure and economic displacement as inevitable ?\n",
      "2021-11-11 18:28:22 | INFO | hw5.seq2seq | example hypothesis: 為什麼我們將文化和經濟的距離轉換為無可避免的 ?\n",
      "2021-11-11 18:28:22 | INFO | hw5.seq2seq | example reference: 為什麼我們會把文化抹除和經濟位移視為不可避免 ?\n",
      "2021-11-11 18:28:22 | INFO | hw5.seq2seq | validation loss:\t3.7501\n",
      "2021-11-11 18:28:22 | INFO | hw5.seq2seq | BLEU = 19.49 48.7/25.4/14.1/8.3 (BP = 1.000 ratio = 1.002 hyp_len = 112058 ref_len = 111811)\n",
      "2021-11-11 18:28:23 | INFO | hw5.seq2seq | saved epoch checkpoint: /home/wy/ML_study/chapter5/checkpoints/rnn/checkpoint60.pt\n",
      "2021-11-11 18:28:23 | INFO | hw5.seq2seq | end of epoch 60\n"
     ]
    },
    {
     "data": {
      "text/plain": "HBox(children=(HTML(value='train epoch 61'), FloatProgress(value=0.0, max=791.0), HTML(value='')))",
      "application/vnd.jupyter.widget-view+json": {
       "version_major": 2,
       "version_minor": 0,
       "model_id": "f9d9b36f52b64284a62c0598f6ecc4df"
      }
     },
     "metadata": {},
     "output_type": "display_data"
    },
    {
     "name": "stdout",
     "output_type": "stream",
     "text": [
      "2021-11-11 18:29:31 | INFO | hw5.seq2seq | training loss: 3.7566\n",
      "2021-11-11 18:29:31 | INFO | hw5.seq2seq | begin validation\n"
     ]
    },
    {
     "data": {
      "text/plain": "HBox(children=(HTML(value='validation'), FloatProgress(value=0.0, max=22.0), HTML(value='')))",
      "application/vnd.jupyter.widget-view+json": {
       "version_major": 2,
       "version_minor": 0,
       "model_id": "98f5474c0de1498c91dba5407114777a"
      }
     },
     "metadata": {},
     "output_type": "display_data"
    },
    {
     "name": "stdout",
     "output_type": "stream",
     "text": [
      "2021-11-11 18:29:50 | INFO | hw5.seq2seq | example source: now , these are trivial marketing examples , i accept .\n",
      "2021-11-11 18:29:50 | INFO | hw5.seq2seq | example hypothesis: 現在 , 這是我接受的例子 。\n",
      "2021-11-11 18:29:50 | INFO | hw5.seq2seq | example reference: 這些都是很細微的市場行銷案例 。\n",
      "2021-11-11 18:29:50 | INFO | hw5.seq2seq | validation loss:\t3.7498\n",
      "2021-11-11 18:29:50 | INFO | hw5.seq2seq | BLEU = 19.36 50.1/26.0/14.6/8.6 (BP = 0.964 ratio = 0.964 hyp_len = 107827 ref_len = 111811)\n",
      "2021-11-11 18:29:50 | INFO | hw5.seq2seq | saved epoch checkpoint: /home/wy/ML_study/chapter5/checkpoints/rnn/checkpoint61.pt\n",
      "2021-11-11 18:29:50 | INFO | hw5.seq2seq | end of epoch 61\n"
     ]
    },
    {
     "data": {
      "text/plain": "HBox(children=(HTML(value='train epoch 62'), FloatProgress(value=0.0, max=791.0), HTML(value='')))",
      "application/vnd.jupyter.widget-view+json": {
       "version_major": 2,
       "version_minor": 0,
       "model_id": "444c62dc1b55428ab8c39a242c22a65c"
      }
     },
     "metadata": {},
     "output_type": "display_data"
    },
    {
     "name": "stdout",
     "output_type": "stream",
     "text": [
      "2021-11-11 18:30:55 | INFO | hw5.seq2seq | training loss: 3.7545\n",
      "2021-11-11 18:30:55 | INFO | hw5.seq2seq | begin validation\n"
     ]
    },
    {
     "data": {
      "text/plain": "HBox(children=(HTML(value='validation'), FloatProgress(value=0.0, max=22.0), HTML(value='')))",
      "application/vnd.jupyter.widget-view+json": {
       "version_major": 2,
       "version_minor": 0,
       "model_id": "1413829c70f14813bdfe839351a7f2e2"
      }
     },
     "metadata": {},
     "output_type": "display_data"
    },
    {
     "name": "stdout",
     "output_type": "stream",
     "text": [
      "2021-11-11 18:31:11 | INFO | hw5.seq2seq | example source: but to give it to ourselves right now means a level of arrogance or cockiness that we're not comfortable with .\n",
      "2021-11-11 18:31:11 | INFO | hw5.seq2seq | example hypothesis: 但現在 , 給我們自己現在的感覺 , 是我們不舒服的一部分 。\n",
      "2021-11-11 18:31:11 | INFO | hw5.seq2seq | example reference: 如果想成是當下我們就能承當的頭銜意涵某種程度讓人不舒服的驕傲自大\n",
      "2021-11-11 18:31:11 | INFO | hw5.seq2seq | validation loss:\t3.7516\n",
      "2021-11-11 18:31:11 | INFO | hw5.seq2seq | BLEU = 19.29 48.9/25.3/14.0/8.2 (BP = 0.993 ratio = 0.993 hyp_len = 111073 ref_len = 111811)\n",
      "2021-11-11 18:31:12 | INFO | hw5.seq2seq | saved epoch checkpoint: /home/wy/ML_study/chapter5/checkpoints/rnn/checkpoint62.pt\n",
      "2021-11-11 18:31:12 | INFO | hw5.seq2seq | end of epoch 62\n"
     ]
    },
    {
     "data": {
      "text/plain": "HBox(children=(HTML(value='train epoch 63'), FloatProgress(value=0.0, max=791.0), HTML(value='')))",
      "application/vnd.jupyter.widget-view+json": {
       "version_major": 2,
       "version_minor": 0,
       "model_id": "9d40455d3dfe4d93bf91c0d403608507"
      }
     },
     "metadata": {},
     "output_type": "display_data"
    },
    {
     "name": "stdout",
     "output_type": "stream",
     "text": [
      "2021-11-11 18:32:16 | INFO | hw5.seq2seq | training loss: 3.7548\n",
      "2021-11-11 18:32:16 | INFO | hw5.seq2seq | begin validation\n"
     ]
    },
    {
     "data": {
      "text/plain": "HBox(children=(HTML(value='validation'), FloatProgress(value=0.0, max=22.0), HTML(value='')))",
      "application/vnd.jupyter.widget-view+json": {
       "version_major": 2,
       "version_minor": 0,
       "model_id": "530b719b3e8a44f083a4d50099bb1c3c"
      }
     },
     "metadata": {},
     "output_type": "display_data"
    },
    {
     "name": "stdout",
     "output_type": "stream",
     "text": [
      "2021-11-11 18:32:33 | INFO | hw5.seq2seq | example source: so where are they ?\n",
      "2021-11-11 18:32:33 | INFO | hw5.seq2seq | example hypothesis: 所以 , 他們在哪裡 ?\n",
      "2021-11-11 18:32:33 | INFO | hw5.seq2seq | example reference: 但他們在哪 ?\n",
      "2021-11-11 18:32:33 | INFO | hw5.seq2seq | validation loss:\t3.7540\n",
      "2021-11-11 18:32:33 | INFO | hw5.seq2seq | BLEU = 19.47 49.1/25.6/14.3/8.4 (BP = 0.989 ratio = 0.989 hyp_len = 110592 ref_len = 111811)\n",
      "2021-11-11 18:32:33 | INFO | hw5.seq2seq | saved epoch checkpoint: /home/wy/ML_study/chapter5/checkpoints/rnn/checkpoint63.pt\n",
      "2021-11-11 18:32:33 | INFO | hw5.seq2seq | end of epoch 63\n"
     ]
    },
    {
     "data": {
      "text/plain": "HBox(children=(HTML(value='train epoch 64'), FloatProgress(value=0.0, max=791.0), HTML(value='')))",
      "application/vnd.jupyter.widget-view+json": {
       "version_major": 2,
       "version_minor": 0,
       "model_id": "e477fc00bdf845739af3cbc63c64cd33"
      }
     },
     "metadata": {},
     "output_type": "display_data"
    },
    {
     "name": "stdout",
     "output_type": "stream",
     "text": [
      "2021-11-11 18:33:37 | INFO | hw5.seq2seq | training loss: 3.7522\n",
      "2021-11-11 18:33:37 | INFO | hw5.seq2seq | begin validation\n"
     ]
    },
    {
     "data": {
      "text/plain": "HBox(children=(HTML(value='validation'), FloatProgress(value=0.0, max=22.0), HTML(value='')))",
      "application/vnd.jupyter.widget-view+json": {
       "version_major": 2,
       "version_minor": 0,
       "model_id": "bf6344aa46ea4f76b0407f79775a3c63"
      }
     },
     "metadata": {},
     "output_type": "display_data"
    },
    {
     "name": "stdout",
     "output_type": "stream",
     "text": [
      "2021-11-11 18:33:54 | INFO | hw5.seq2seq | example source: so with the us leading the era of discovery and china leading the era of implementation , we are now in an amazing age where the dual engine of the two superpowers are working together to drive the fastest revolution in technology that we have ever seen as humans .\n",
      "2021-11-11 18:33:54 | INFO | hw5.seq2seq | example hypothesis: 所以 , 隨著美國領領時代的時代 , 我們現在在一個很棒的時代 , 兩位超能力的領導者正在努力 , 一起努力 , 成為我們所見過最快的革命科技 。\n",
      "2021-11-11 18:33:54 | INFO | hw5.seq2seq | example reference: 美國領導的是發現的時代 , 而中國領導的是導入的時代 , 我們現在身處一個很了不起的時代 , 這兩種超能力的雙重引擎在同心協力 , 在科技領域中 , 推動我們人類所見過最快速的革命 。\n",
      "2021-11-11 18:33:54 | INFO | hw5.seq2seq | validation loss:\t3.7564\n",
      "2021-11-11 18:33:54 | INFO | hw5.seq2seq | BLEU = 19.50 50.3/26.4/14.9/8.8 (BP = 0.956 ratio = 0.957 hyp_len = 106992 ref_len = 111811)\n",
      "2021-11-11 18:33:54 | INFO | hw5.seq2seq | saved epoch checkpoint: /home/wy/ML_study/chapter5/checkpoints/rnn/checkpoint64.pt\n",
      "2021-11-11 18:33:54 | INFO | hw5.seq2seq | end of epoch 64\n"
     ]
    },
    {
     "data": {
      "text/plain": "HBox(children=(HTML(value='train epoch 65'), FloatProgress(value=0.0, max=791.0), HTML(value='')))",
      "application/vnd.jupyter.widget-view+json": {
       "version_major": 2,
       "version_minor": 0,
       "model_id": "d2b3f726dc0243949371d2e59bb39353"
      }
     },
     "metadata": {},
     "output_type": "display_data"
    },
    {
     "name": "stdout",
     "output_type": "stream",
     "text": [
      "2021-11-11 18:34:58 | INFO | hw5.seq2seq | training loss: 3.7517\n",
      "2021-11-11 18:34:58 | INFO | hw5.seq2seq | begin validation\n"
     ]
    },
    {
     "data": {
      "text/plain": "HBox(children=(HTML(value='validation'), FloatProgress(value=0.0, max=22.0), HTML(value='')))",
      "application/vnd.jupyter.widget-view+json": {
       "version_major": 2,
       "version_minor": 0,
       "model_id": "04728d894c3548619c9cf8df632e9277"
      }
     },
     "metadata": {},
     "output_type": "display_data"
    },
    {
     "name": "stdout",
     "output_type": "stream",
     "text": [
      "2021-11-11 18:35:14 | INFO | hw5.seq2seq | example source: how would people describe your judgment , your knowledge , your behaviors , in different situations ?\n",
      "2021-11-11 18:35:14 | INFO | hw5.seq2seq | example hypothesis: 人們會如何描述你的判斷、你的知識、你的行為 , 在不同的情況下 ?\n",
      "2021-11-11 18:35:14 | INFO | hw5.seq2seq | example reference: 他們會怎樣看你在不同處境下的判斷、知識、和行為 ?\n",
      "2021-11-11 18:35:14 | INFO | hw5.seq2seq | validation loss:\t3.7556\n",
      "2021-11-11 18:35:14 | INFO | hw5.seq2seq | BLEU = 19.28 51.8/27.1/15.2/8.9 (BP = 0.923 ratio = 0.926 hyp_len = 103507 ref_len = 111811)\n",
      "2021-11-11 18:35:15 | INFO | hw5.seq2seq | saved epoch checkpoint: /home/wy/ML_study/chapter5/checkpoints/rnn/checkpoint65.pt\n",
      "2021-11-11 18:35:15 | INFO | hw5.seq2seq | end of epoch 65\n"
     ]
    },
    {
     "data": {
      "text/plain": "HBox(children=(HTML(value='train epoch 66'), FloatProgress(value=0.0, max=791.0), HTML(value='')))",
      "application/vnd.jupyter.widget-view+json": {
       "version_major": 2,
       "version_minor": 0,
       "model_id": "80b9513e024e44afb82da485ceb57810"
      }
     },
     "metadata": {},
     "output_type": "display_data"
    },
    {
     "name": "stdout",
     "output_type": "stream",
     "text": [
      "2021-11-11 18:36:22 | INFO | hw5.seq2seq | training loss: 3.7490\n",
      "2021-11-11 18:36:22 | INFO | hw5.seq2seq | begin validation\n"
     ]
    },
    {
     "data": {
      "text/plain": "HBox(children=(HTML(value='validation'), FloatProgress(value=0.0, max=22.0), HTML(value='')))",
      "application/vnd.jupyter.widget-view+json": {
       "version_major": 2,
       "version_minor": 0,
       "model_id": "5178a303e7dc437daa40544abd9c0775"
      }
     },
     "metadata": {},
     "output_type": "display_data"
    },
    {
     "name": "stdout",
     "output_type": "stream",
     "text": [
      "2021-11-11 18:36:41 | INFO | hw5.seq2seq | example source: i'm not holding these out as being the biggest issues .\n",
      "2021-11-11 18:36:41 | INFO | hw5.seq2seq | example hypothesis: 我不把這些當作是最大的問題 。\n",
      "2021-11-11 18:36:41 | INFO | hw5.seq2seq | example reference: 我不認為這些是最大的問題 ,\n",
      "2021-11-11 18:36:41 | INFO | hw5.seq2seq | validation loss:\t3.7508\n",
      "2021-11-11 18:36:41 | INFO | hw5.seq2seq | BLEU = 19.37 51.2/26.8/15.0/8.7 (BP = 0.941 ratio = 0.942 hyp_len = 105368 ref_len = 111811)\n",
      "2021-11-11 18:36:41 | INFO | hw5.seq2seq | saved epoch checkpoint: /home/wy/ML_study/chapter5/checkpoints/rnn/checkpoint66.pt\n",
      "2021-11-11 18:36:41 | INFO | hw5.seq2seq | end of epoch 66\n"
     ]
    },
    {
     "data": {
      "text/plain": "HBox(children=(HTML(value='train epoch 67'), FloatProgress(value=0.0, max=791.0), HTML(value='')))",
      "application/vnd.jupyter.widget-view+json": {
       "version_major": 2,
       "version_minor": 0,
       "model_id": "b6e22a92faa94e96a3e15f96438071d9"
      }
     },
     "metadata": {},
     "output_type": "display_data"
    },
    {
     "name": "stdout",
     "output_type": "stream",
     "text": [
      "2021-11-11 18:37:46 | INFO | hw5.seq2seq | training loss: 3.7470\n",
      "2021-11-11 18:37:46 | INFO | hw5.seq2seq | begin validation\n"
     ]
    },
    {
     "data": {
      "text/plain": "HBox(children=(HTML(value='validation'), FloatProgress(value=0.0, max=22.0), HTML(value='')))",
      "application/vnd.jupyter.widget-view+json": {
       "version_major": 2,
       "version_minor": 0,
       "model_id": "df8059b0640f49e187705edc86fbad41"
      }
     },
     "metadata": {},
     "output_type": "display_data"
    },
    {
     "name": "stdout",
     "output_type": "stream",
     "text": [
      "2021-11-11 18:38:02 | INFO | hw5.seq2seq | example source: in a lot of food items that we have i have only two items here on the slide pink cookies or surimi sticks or , if you like , campari a lot of our food products that are of a red color are dyed with a natural dye .\n",
      "2021-11-11 18:38:02 | INFO | hw5.seq2seq | example hypothesis: 在許多食物產品中 , 我只有兩種東西 , 像是紅色的食物 , 是由天然的食品所製成的 。\n",
      "2021-11-11 18:38:02 | INFO | hw5.seq2seq | example reference: 我們也會故意加蟲進去 。 我這裡有兩樣在投影片上粉紅色餅乾和蟹肉棒或是 , campari烈酒很多我們吃的紅色的東西是用天然紅色染料染的 。\n",
      "2021-11-11 18:38:02 | INFO | hw5.seq2seq | validation loss:\t3.7579\n",
      "2021-11-11 18:38:02 | INFO | hw5.seq2seq | BLEU = 19.22 50.8/26.4/14.7/8.6 (BP = 0.946 ratio = 0.948 hyp_len = 105970 ref_len = 111811)\n",
      "2021-11-11 18:38:03 | INFO | hw5.seq2seq | saved epoch checkpoint: /home/wy/ML_study/chapter5/checkpoints/rnn/checkpoint67.pt\n",
      "2021-11-11 18:38:03 | INFO | hw5.seq2seq | end of epoch 67\n"
     ]
    },
    {
     "data": {
      "text/plain": "HBox(children=(HTML(value='train epoch 68'), FloatProgress(value=0.0, max=791.0), HTML(value='')))",
      "application/vnd.jupyter.widget-view+json": {
       "version_major": 2,
       "version_minor": 0,
       "model_id": "528e3d74c8f34cf2b3a9b8beff7dadb3"
      }
     },
     "metadata": {},
     "output_type": "display_data"
    },
    {
     "name": "stdout",
     "output_type": "stream",
     "text": [
      "2021-11-11 18:39:08 | INFO | hw5.seq2seq | training loss: 3.7474\n",
      "2021-11-11 18:39:08 | INFO | hw5.seq2seq | begin validation\n"
     ]
    },
    {
     "data": {
      "text/plain": "HBox(children=(HTML(value='validation'), FloatProgress(value=0.0, max=22.0), HTML(value='')))",
      "application/vnd.jupyter.widget-view+json": {
       "version_major": 2,
       "version_minor": 0,
       "model_id": "43b1cad0355842998d731f07289f28e9"
      }
     },
     "metadata": {},
     "output_type": "display_data"
    },
    {
     "name": "stdout",
     "output_type": "stream",
     "text": [
      "2021-11-11 18:39:24 | INFO | hw5.seq2seq | example source: in our tradition , there is a ceremony that girls have to undergo to become women , and it's a rite of passage to womanhood .\n",
      "2021-11-11 18:39:24 | INFO | hw5.seq2seq | example hypothesis: 在我們的傳統中 , 有一個女孩必須要成為女性 , 且它是女性的傳遞 。\n",
      "2021-11-11 18:39:24 | INFO | hw5.seq2seq | example reference: 根據我們的傳統 , 有一個儀式女孩必須經過才可以變成女人 , 那是一個女性的成人禮\n",
      "2021-11-11 18:39:24 | INFO | hw5.seq2seq | validation loss:\t3.7484\n",
      "2021-11-11 18:39:24 | INFO | hw5.seq2seq | BLEU = 19.61 50.5/26.4/14.7/8.7 (BP = 0.964 ratio = 0.965 hyp_len = 107863 ref_len = 111811)\n",
      "2021-11-11 18:39:24 | INFO | hw5.seq2seq | saved epoch checkpoint: /home/wy/ML_study/chapter5/checkpoints/rnn/checkpoint68.pt\n",
      "2021-11-11 18:39:25 | INFO | hw5.seq2seq | end of epoch 68\n"
     ]
    },
    {
     "data": {
      "text/plain": "HBox(children=(HTML(value='train epoch 69'), FloatProgress(value=0.0, max=791.0), HTML(value='')))",
      "application/vnd.jupyter.widget-view+json": {
       "version_major": 2,
       "version_minor": 0,
       "model_id": "db8d779b36a149eba9fcac538bd0b855"
      }
     },
     "metadata": {},
     "output_type": "display_data"
    },
    {
     "name": "stdout",
     "output_type": "stream",
     "text": [
      "2021-11-11 18:40:30 | INFO | hw5.seq2seq | training loss: 3.7455\n",
      "2021-11-11 18:40:30 | INFO | hw5.seq2seq | begin validation\n"
     ]
    },
    {
     "data": {
      "text/plain": "HBox(children=(HTML(value='validation'), FloatProgress(value=0.0, max=22.0), HTML(value='')))",
      "application/vnd.jupyter.widget-view+json": {
       "version_major": 2,
       "version_minor": 0,
       "model_id": "e19a9dd3142342878c3adffbd7ffc70b"
      }
     },
     "metadata": {},
     "output_type": "display_data"
    },
    {
     "name": "stdout",
     "output_type": "stream",
     "text": [
      "2021-11-11 18:40:47 | INFO | hw5.seq2seq | example source: rl: i think terrorism is still number one .\n",
      "2021-11-11 18:40:47 | INFO | hw5.seq2seq | example hypothesis: 理查德:我認為恐怖主義仍然是第一 。\n",
      "2021-11-11 18:40:47 | INFO | hw5.seq2seq | example reference: 理查德:我認為恐怖主義仍然是第一 。\n",
      "2021-11-11 18:40:47 | INFO | hw5.seq2seq | validation loss:\t3.7531\n",
      "2021-11-11 18:40:47 | INFO | hw5.seq2seq | BLEU = 19.35 50.7/26.4/14.8/8.6 (BP = 0.951 ratio = 0.952 hyp_len = 106499 ref_len = 111811)\n",
      "2021-11-11 18:40:47 | INFO | hw5.seq2seq | saved epoch checkpoint: /home/wy/ML_study/chapter5/checkpoints/rnn/checkpoint69.pt\n",
      "2021-11-11 18:40:47 | INFO | hw5.seq2seq | end of epoch 69\n"
     ]
    },
    {
     "data": {
      "text/plain": "HBox(children=(HTML(value='train epoch 70'), FloatProgress(value=0.0, max=791.0), HTML(value='')))",
      "application/vnd.jupyter.widget-view+json": {
       "version_major": 2,
       "version_minor": 0,
       "model_id": "7e6663b0c8ab46c199da59b5f7cfd2d9"
      }
     },
     "metadata": {},
     "output_type": "display_data"
    },
    {
     "name": "stdout",
     "output_type": "stream",
     "text": [
      "2021-11-11 18:41:52 | INFO | hw5.seq2seq | training loss: 3.7448\n",
      "2021-11-11 18:41:52 | INFO | hw5.seq2seq | begin validation\n"
     ]
    },
    {
     "data": {
      "text/plain": "HBox(children=(HTML(value='validation'), FloatProgress(value=0.0, max=22.0), HTML(value='')))",
      "application/vnd.jupyter.widget-view+json": {
       "version_major": 2,
       "version_minor": 0,
       "model_id": "d0a0e7a916df4692a7ae6afae73bf5dc"
      }
     },
     "metadata": {},
     "output_type": "display_data"
    },
    {
     "name": "stdout",
     "output_type": "stream",
     "text": [
      "2021-11-11 18:42:08 | INFO | hw5.seq2seq | example source: and of course , \" the vagina monologues \" we know about .\n",
      "2021-11-11 18:42:08 | INFO | hw5.seq2seq | example hypothesis: 當然 , 『陰道獨白』我們知道 。\n",
      "2021-11-11 18:42:08 | INFO | hw5.seq2seq | example reference: 當然 , 還有我們都知道的 「 陰道獨白 」 。\n",
      "2021-11-11 18:42:08 | INFO | hw5.seq2seq | validation loss:\t3.7476\n",
      "2021-11-11 18:42:08 | INFO | hw5.seq2seq | BLEU = 19.60 50.9/26.6/14.9/8.8 (BP = 0.955 ratio = 0.956 hyp_len = 106842 ref_len = 111811)\n",
      "2021-11-11 18:42:09 | INFO | hw5.seq2seq | saved epoch checkpoint: /home/wy/ML_study/chapter5/checkpoints/rnn/checkpoint70.pt\n",
      "2021-11-11 18:42:09 | INFO | hw5.seq2seq | end of epoch 70\n"
     ]
    },
    {
     "data": {
      "text/plain": "HBox(children=(HTML(value='train epoch 71'), FloatProgress(value=0.0, max=791.0), HTML(value='')))",
      "application/vnd.jupyter.widget-view+json": {
       "version_major": 2,
       "version_minor": 0,
       "model_id": "762615300bd2471db0fda5faa2d14ec9"
      }
     },
     "metadata": {},
     "output_type": "display_data"
    },
    {
     "name": "stdout",
     "output_type": "stream",
     "text": [
      "2021-11-11 18:43:17 | INFO | hw5.seq2seq | training loss: 3.7431\n",
      "2021-11-11 18:43:17 | INFO | hw5.seq2seq | begin validation\n"
     ]
    },
    {
     "data": {
      "text/plain": "HBox(children=(HTML(value='validation'), FloatProgress(value=0.0, max=22.0), HTML(value='')))",
      "application/vnd.jupyter.widget-view+json": {
       "version_major": 2,
       "version_minor": 0,
       "model_id": "33cc3ba4634d4b9da9d1d3fe842d72b7"
      }
     },
     "metadata": {},
     "output_type": "display_data"
    },
    {
     "name": "stdout",
     "output_type": "stream",
     "text": [
      "2021-11-11 18:43:36 | INFO | hw5.seq2seq | example source: tmm: it's 6:30 a . m .\n",
      "2021-11-11 18:43:36 | INFO | hw5.seq2seq | example hypothesis: tmm:它是6:3 , m 。\n",
      "2021-11-11 18:43:36 | INFO | hw5.seq2seq | example reference: tmm:現在早上6:30 。\n",
      "2021-11-11 18:43:36 | INFO | hw5.seq2seq | validation loss:\t3.7469\n",
      "2021-11-11 18:43:36 | INFO | hw5.seq2seq | BLEU = 19.30 50.1/26.1/14.5/8.4 (BP = 0.966 ratio = 0.967 hyp_len = 108099 ref_len = 111811)\n",
      "2021-11-11 18:43:36 | INFO | hw5.seq2seq | saved epoch checkpoint: /home/wy/ML_study/chapter5/checkpoints/rnn/checkpoint71.pt\n",
      "2021-11-11 18:43:36 | INFO | hw5.seq2seq | end of epoch 71\n"
     ]
    },
    {
     "data": {
      "text/plain": "HBox(children=(HTML(value='train epoch 72'), FloatProgress(value=0.0, max=791.0), HTML(value='')))",
      "application/vnd.jupyter.widget-view+json": {
       "version_major": 2,
       "version_minor": 0,
       "model_id": "d082e2f84d1b430c9080caee74a762f5"
      }
     },
     "metadata": {},
     "output_type": "display_data"
    },
    {
     "name": "stdout",
     "output_type": "stream",
     "text": [
      "2021-11-11 18:44:41 | INFO | hw5.seq2seq | training loss: 3.7414\n",
      "2021-11-11 18:44:41 | INFO | hw5.seq2seq | begin validation\n"
     ]
    },
    {
     "data": {
      "text/plain": "HBox(children=(HTML(value='validation'), FloatProgress(value=0.0, max=22.0), HTML(value='')))",
      "application/vnd.jupyter.widget-view+json": {
       "version_major": 2,
       "version_minor": 0,
       "model_id": "58627b58aecc492ab005247c91e32e73"
      }
     },
     "metadata": {},
     "output_type": "display_data"
    },
    {
     "name": "stdout",
     "output_type": "stream",
     "text": [
      "2021-11-11 18:44:58 | INFO | hw5.seq2seq | example source: and there are hundreds of initiatives every year to try and improve education .\n",
      "2021-11-11 18:44:58 | INFO | hw5.seq2seq | example hypothesis: 每年有數以百計的計畫 , 試圖改善教育 。\n",
      "2021-11-11 18:44:58 | INFO | hw5.seq2seq | example reference: 每年有幾百件方案嘗試改善教育\n",
      "2021-11-11 18:44:58 | INFO | hw5.seq2seq | validation loss:\t3.7596\n",
      "2021-11-11 18:44:58 | INFO | hw5.seq2seq | BLEU = 19.14 51.7/27.1/15.2/9.0 (BP = 0.915 ratio = 0.919 hyp_len = 102734 ref_len = 111811)\n",
      "2021-11-11 18:44:58 | INFO | hw5.seq2seq | saved epoch checkpoint: /home/wy/ML_study/chapter5/checkpoints/rnn/checkpoint72.pt\n",
      "2021-11-11 18:44:58 | INFO | hw5.seq2seq | end of epoch 72\n"
     ]
    },
    {
     "data": {
      "text/plain": "HBox(children=(HTML(value='train epoch 73'), FloatProgress(value=0.0, max=791.0), HTML(value='')))",
      "application/vnd.jupyter.widget-view+json": {
       "version_major": 2,
       "version_minor": 0,
       "model_id": "3c094694727e46a8be7732777f07c8d6"
      }
     },
     "metadata": {},
     "output_type": "display_data"
    },
    {
     "name": "stdout",
     "output_type": "stream",
     "text": [
      "2021-11-11 18:46:04 | INFO | hw5.seq2seq | training loss: 3.7404\n",
      "2021-11-11 18:46:04 | INFO | hw5.seq2seq | begin validation\n"
     ]
    },
    {
     "data": {
      "text/plain": "HBox(children=(HTML(value='validation'), FloatProgress(value=0.0, max=22.0), HTML(value='')))",
      "application/vnd.jupyter.widget-view+json": {
       "version_major": 2,
       "version_minor": 0,
       "model_id": "196e4edbc78c4183b4cf3f0038fcae14"
      }
     },
     "metadata": {},
     "output_type": "display_data"
    },
    {
     "name": "stdout",
     "output_type": "stream",
     "text": [
      "2021-11-11 18:46:21 | INFO | hw5.seq2seq | example source: then there's about 20 different hormones , so we are on a very different level than our genitals , for example .\n",
      "2021-11-11 18:46:21 | INFO | hw5.seq2seq | example hypothesis: 大約有20個不同的荷爾蒙 , 我們與我們的生殖器的比例是非常不同的 。\n",
      "2021-11-11 18:46:21 | INFO | hw5.seq2seq | example reference: 還有大約二十種不同的賀爾蒙 , 所以 , 例如和生殖器相比 , 它又是很不一樣的層級 。\n",
      "2021-11-11 18:46:21 | INFO | hw5.seq2seq | validation loss:\t3.7585\n",
      "2021-11-11 18:46:21 | INFO | hw5.seq2seq | BLEU = 19.10 52.3/27.4/15.4/9.0 (BP = 0.906 ratio = 0.910 hyp_len = 101758 ref_len = 111811)\n",
      "2021-11-11 18:46:21 | INFO | hw5.seq2seq | saved epoch checkpoint: /home/wy/ML_study/chapter5/checkpoints/rnn/checkpoint73.pt\n",
      "2021-11-11 18:46:21 | INFO | hw5.seq2seq | end of epoch 73\n"
     ]
    },
    {
     "data": {
      "text/plain": "HBox(children=(HTML(value='train epoch 74'), FloatProgress(value=0.0, max=791.0), HTML(value='')))",
      "application/vnd.jupyter.widget-view+json": {
       "version_major": 2,
       "version_minor": 0,
       "model_id": "cc30f64d32244679a86a067a39397c89"
      }
     },
     "metadata": {},
     "output_type": "display_data"
    },
    {
     "name": "stdout",
     "output_type": "stream",
     "text": [
      "2021-11-11 18:47:26 | INFO | hw5.seq2seq | training loss: 3.7404\n",
      "2021-11-11 18:47:26 | INFO | hw5.seq2seq | begin validation\n"
     ]
    },
    {
     "data": {
      "text/plain": "HBox(children=(HTML(value='validation'), FloatProgress(value=0.0, max=22.0), HTML(value='')))",
      "application/vnd.jupyter.widget-view+json": {
       "version_major": 2,
       "version_minor": 0,
       "model_id": "ee5305d009df4be08441ae49ee3b13cd"
      }
     },
     "metadata": {},
     "output_type": "display_data"
    },
    {
     "name": "stdout",
     "output_type": "stream",
     "text": [
      "2021-11-11 18:47:43 | INFO | hw5.seq2seq | example source: now , let me tell you a little bit about the research about how the human mind works to explain .\n",
      "2021-11-11 18:47:43 | INFO | hw5.seq2seq | example hypothesis: 現在 , 讓我來說明一下人類的心智如何運作 。\n",
      "2021-11-11 18:47:43 | INFO | hw5.seq2seq | example reference: 讓我跟各位稍微說明一下這個研究 , 人腦如何運作的研究 , 來解釋這個現象 。\n",
      "2021-11-11 18:47:43 | INFO | hw5.seq2seq | validation loss:\t3.7514\n",
      "2021-11-11 18:47:43 | INFO | hw5.seq2seq | BLEU = 19.40 50.9/26.6/14.9/8.7 (BP = 0.949 ratio = 0.950 hyp_len = 106230 ref_len = 111811)\n",
      "2021-11-11 18:47:43 | INFO | hw5.seq2seq | saved epoch checkpoint: /home/wy/ML_study/chapter5/checkpoints/rnn/checkpoint74.pt\n",
      "2021-11-11 18:47:43 | INFO | hw5.seq2seq | end of epoch 74\n"
     ]
    },
    {
     "data": {
      "text/plain": "HBox(children=(HTML(value='train epoch 75'), FloatProgress(value=0.0, max=791.0), HTML(value='')))",
      "application/vnd.jupyter.widget-view+json": {
       "version_major": 2,
       "version_minor": 0,
       "model_id": "db1c03c7ac66437daeaa7bd2e9bc4a22"
      }
     },
     "metadata": {},
     "output_type": "display_data"
    },
    {
     "name": "stdout",
     "output_type": "stream",
     "text": [
      "2021-11-11 18:48:48 | INFO | hw5.seq2seq | training loss: 3.7396\n",
      "2021-11-11 18:48:48 | INFO | hw5.seq2seq | begin validation\n"
     ]
    },
    {
     "data": {
      "text/plain": "HBox(children=(HTML(value='validation'), FloatProgress(value=0.0, max=22.0), HTML(value='')))",
      "application/vnd.jupyter.widget-view+json": {
       "version_major": 2,
       "version_minor": 0,
       "model_id": "92c417ad5d5349bfa1942e78a16ff75d"
      }
     },
     "metadata": {},
     "output_type": "display_data"
    },
    {
     "name": "stdout",
     "output_type": "stream",
     "text": [
      "2021-11-11 18:49:04 | INFO | hw5.seq2seq | example source: but , of course , they don't look like rocks and sludge now .\n",
      "2021-11-11 18:49:04 | INFO | hw5.seq2seq | example hypothesis: 但 , 當然 , 他們不像岩石和口氣 。\n",
      "2021-11-11 18:49:04 | INFO | hw5.seq2seq | example reference: 當然現在看起來並不像石頭或爛泥\n",
      "2021-11-11 18:49:04 | INFO | hw5.seq2seq | validation loss:\t3.7532\n",
      "2021-11-11 18:49:04 | INFO | hw5.seq2seq | BLEU = 19.32 51.2/26.8/15.0/8.7 (BP = 0.939 ratio = 0.941 hyp_len = 105170 ref_len = 111811)\n",
      "2021-11-11 18:49:05 | INFO | hw5.seq2seq | saved epoch checkpoint: /home/wy/ML_study/chapter5/checkpoints/rnn/checkpoint75.pt\n",
      "2021-11-11 18:49:05 | INFO | hw5.seq2seq | end of epoch 75\n"
     ]
    },
    {
     "data": {
      "text/plain": "HBox(children=(HTML(value='train epoch 76'), FloatProgress(value=0.0, max=791.0), HTML(value='')))",
      "application/vnd.jupyter.widget-view+json": {
       "version_major": 2,
       "version_minor": 0,
       "model_id": "48d79761fd414d85b22df0799adec2e3"
      }
     },
     "metadata": {},
     "output_type": "display_data"
    },
    {
     "name": "stdout",
     "output_type": "stream",
     "text": [
      "2021-11-11 18:50:10 | INFO | hw5.seq2seq | training loss: 3.7383\n",
      "2021-11-11 18:50:10 | INFO | hw5.seq2seq | begin validation\n"
     ]
    },
    {
     "data": {
      "text/plain": "HBox(children=(HTML(value='validation'), FloatProgress(value=0.0, max=22.0), HTML(value='')))",
      "application/vnd.jupyter.widget-view+json": {
       "version_major": 2,
       "version_minor": 0,
       "model_id": "bc70a0f2e5c44df5aa6eb6a898256af6"
      }
     },
     "metadata": {},
     "output_type": "display_data"
    },
    {
     "name": "stdout",
     "output_type": "stream",
     "text": [
      "2021-11-11 18:50:27 | INFO | hw5.seq2seq | example source: this is not about new technology , it's just rearranging our metal furniture .\n",
      "2021-11-11 18:50:27 | INFO | hw5.seq2seq | example hypothesis: 這不是新科技 , 而是重新排放我們的金屬家具 。\n",
      "2021-11-11 18:50:27 | INFO | hw5.seq2seq | example reference: 這與新科技無關只是重新安排金屬設備\n",
      "2021-11-11 18:50:27 | INFO | hw5.seq2seq | validation loss:\t3.7516\n",
      "2021-11-11 18:50:27 | INFO | hw5.seq2seq | BLEU = 19.43 50.5/26.4/14.7/8.6 (BP = 0.960 ratio = 0.960 hyp_len = 107390 ref_len = 111811)\n",
      "2021-11-11 18:50:27 | INFO | hw5.seq2seq | saved epoch checkpoint: /home/wy/ML_study/chapter5/checkpoints/rnn/checkpoint76.pt\n",
      "2021-11-11 18:50:27 | INFO | hw5.seq2seq | end of epoch 76\n"
     ]
    },
    {
     "data": {
      "text/plain": "HBox(children=(HTML(value='train epoch 77'), FloatProgress(value=0.0, max=791.0), HTML(value='')))",
      "application/vnd.jupyter.widget-view+json": {
       "version_major": 2,
       "version_minor": 0,
       "model_id": "6cc496484e544319a45021790f59b232"
      }
     },
     "metadata": {},
     "output_type": "display_data"
    },
    {
     "name": "stdout",
     "output_type": "stream",
     "text": [
      "2021-11-11 18:51:30 | INFO | hw5.seq2seq | training loss: 3.7361\n",
      "2021-11-11 18:51:30 | INFO | hw5.seq2seq | begin validation\n"
     ]
    },
    {
     "data": {
      "text/plain": "HBox(children=(HTML(value='validation'), FloatProgress(value=0.0, max=22.0), HTML(value='')))",
      "application/vnd.jupyter.widget-view+json": {
       "version_major": 2,
       "version_minor": 0,
       "model_id": "dac90db3595c4e9ab4815cbc96829af1"
      }
     },
     "metadata": {},
     "output_type": "display_data"
    },
    {
     "name": "stdout",
     "output_type": "stream",
     "text": [
      "2021-11-11 18:51:51 | INFO | hw5.seq2seq | example source: the baby remains sleeping , showing no interest at all .\n",
      "2021-11-11 18:51:51 | INFO | hw5.seq2seq | example hypothesis: 嬰兒保持睡覺 , 沒有興趣 。\n",
      "2021-11-11 18:51:51 | INFO | hw5.seq2seq | example reference: 嬰兒會繼續沉睡 , 對滴管沒有顯示任何興趣 ;\n",
      "2021-11-11 18:51:51 | INFO | hw5.seq2seq | validation loss:\t3.7525\n",
      "2021-11-11 18:51:51 | INFO | hw5.seq2seq | BLEU = 19.24 52.6/27.6/15.5/9.1 (BP = 0.904 ratio = 0.908 hyp_len = 101565 ref_len = 111811)\n",
      "2021-11-11 18:51:52 | INFO | hw5.seq2seq | saved epoch checkpoint: /home/wy/ML_study/chapter5/checkpoints/rnn/checkpoint77.pt\n",
      "2021-11-11 18:51:52 | INFO | hw5.seq2seq | end of epoch 77\n"
     ]
    },
    {
     "data": {
      "text/plain": "HBox(children=(HTML(value='train epoch 78'), FloatProgress(value=0.0, max=791.0), HTML(value='')))",
      "application/vnd.jupyter.widget-view+json": {
       "version_major": 2,
       "version_minor": 0,
       "model_id": "fb505e89aa3441dab5f338286d6d45ea"
      }
     },
     "metadata": {},
     "output_type": "display_data"
    },
    {
     "name": "stdout",
     "output_type": "stream",
     "text": [
      "2021-11-11 18:53:03 | INFO | hw5.seq2seq | training loss: 3.7375\n",
      "2021-11-11 18:53:03 | INFO | hw5.seq2seq | begin validation\n"
     ]
    },
    {
     "data": {
      "text/plain": "HBox(children=(HTML(value='validation'), FloatProgress(value=0.0, max=22.0), HTML(value='')))",
      "application/vnd.jupyter.widget-view+json": {
       "version_major": 2,
       "version_minor": 0,
       "model_id": "19b9b10d47b9460a9399cb57353bf014"
      }
     },
     "metadata": {},
     "output_type": "display_data"
    },
    {
     "name": "stdout",
     "output_type": "stream",
     "text": [
      "2021-11-11 18:53:21 | INFO | hw5.seq2seq | example source: and this is doug engelbart .\n",
      "2021-11-11 18:53:21 | INFO | hw5.seq2seq | example hypothesis: 這是dougolbart 。\n",
      "2021-11-11 18:53:21 | INFO | hw5.seq2seq | example reference: 這就是dougengelbart 。\n",
      "2021-11-11 18:53:21 | INFO | hw5.seq2seq | validation loss:\t3.7448\n",
      "2021-11-11 18:53:21 | INFO | hw5.seq2seq | BLEU = 19.34 50.6/26.4/14.8/8.6 (BP = 0.952 ratio = 0.953 hyp_len = 106588 ref_len = 111811)\n",
      "2021-11-11 18:53:21 | INFO | hw5.seq2seq | saved epoch checkpoint: /home/wy/ML_study/chapter5/checkpoints/rnn/checkpoint78.pt\n",
      "2021-11-11 18:53:21 | INFO | hw5.seq2seq | end of epoch 78\n"
     ]
    },
    {
     "data": {
      "text/plain": "HBox(children=(HTML(value='train epoch 79'), FloatProgress(value=0.0, max=791.0), HTML(value='')))",
      "application/vnd.jupyter.widget-view+json": {
       "version_major": 2,
       "version_minor": 0,
       "model_id": "43397a1ca539492c8428a9c2023a6a18"
      }
     },
     "metadata": {},
     "output_type": "display_data"
    },
    {
     "name": "stdout",
     "output_type": "stream",
     "text": [
      "2021-11-11 18:54:28 | INFO | hw5.seq2seq | training loss: 3.7337\n",
      "2021-11-11 18:54:28 | INFO | hw5.seq2seq | begin validation\n"
     ]
    },
    {
     "data": {
      "text/plain": "HBox(children=(HTML(value='validation'), FloatProgress(value=0.0, max=22.0), HTML(value='')))",
      "application/vnd.jupyter.widget-view+json": {
       "version_major": 2,
       "version_minor": 0,
       "model_id": "1fa1a1a4498344948ae127a5974794d6"
      }
     },
     "metadata": {},
     "output_type": "display_data"
    },
    {
     "name": "stdout",
     "output_type": "stream",
     "text": [
      "2021-11-11 18:54:46 | INFO | hw5.seq2seq | example source: this tribe , the cofan , has 17 varieties of ayahuasca , all of which they distinguish a great distance in the forest , all of which are referable to our eye as one species .\n",
      "2021-11-11 18:54:46 | INFO | hw5.seq2seq | example hypothesis: 這個部落 , 三角洲 , 全部都有17種不同的特質 , 牠們在森林中 , 都能對我們的眼睛感到很大的距離 。\n",
      "2021-11-11 18:54:46 | INFO | hw5.seq2seq | example reference: 科凡部落的人發現了17種死藤全部是他們在叢林深處發現的在我們看來它們是不同的物種\n",
      "2021-11-11 18:54:46 | INFO | hw5.seq2seq | validation loss:\t3.7436\n",
      "2021-11-11 18:54:46 | INFO | hw5.seq2seq | BLEU = 19.37 50.0/26.0/14.5/8.5 (BP = 0.967 ratio = 0.967 hyp_len = 108145 ref_len = 111811)\n",
      "2021-11-11 18:54:47 | INFO | hw5.seq2seq | saved epoch checkpoint: /home/wy/ML_study/chapter5/checkpoints/rnn/checkpoint79.pt\n",
      "2021-11-11 18:54:47 | INFO | hw5.seq2seq | end of epoch 79\n"
     ]
    },
    {
     "data": {
      "text/plain": "HBox(children=(HTML(value='train epoch 80'), FloatProgress(value=0.0, max=791.0), HTML(value='')))",
      "application/vnd.jupyter.widget-view+json": {
       "version_major": 2,
       "version_minor": 0,
       "model_id": "8641c323d6104858a9bc7ba601e12c9b"
      }
     },
     "metadata": {},
     "output_type": "display_data"
    },
    {
     "name": "stdout",
     "output_type": "stream",
     "text": [
      "2021-11-11 18:55:55 | INFO | hw5.seq2seq | training loss: 3.7351\n",
      "2021-11-11 18:55:55 | INFO | hw5.seq2seq | begin validation\n"
     ]
    },
    {
     "data": {
      "text/plain": "HBox(children=(HTML(value='validation'), FloatProgress(value=0.0, max=22.0), HTML(value='')))",
      "application/vnd.jupyter.widget-view+json": {
       "version_major": 2,
       "version_minor": 0,
       "model_id": "3630b2d3234143c6a75a5fc9d81cfddb"
      }
     },
     "metadata": {},
     "output_type": "display_data"
    },
    {
     "name": "stdout",
     "output_type": "stream",
     "text": [
      "2021-11-11 18:56:12 | INFO | hw5.seq2seq | example source: and if he doesn't show me that it works here , i don't believe anything he said .\n",
      "2021-11-11 18:56:12 | INFO | hw5.seq2seq | example hypothesis: 如果他不相信他說的話 , 我不相信他會說什麼 。\n",
      "2021-11-11 18:56:12 | INFO | hw5.seq2seq | example reference: 我是不會相信他所說的我知道你們想著躲避球隊 。\n",
      "2021-11-11 18:56:12 | INFO | hw5.seq2seq | validation loss:\t3.7506\n",
      "2021-11-11 18:56:12 | INFO | hw5.seq2seq | BLEU = 19.32 50.6/26.4/14.7/8.5 (BP = 0.956 ratio = 0.957 hyp_len = 107020 ref_len = 111811)\n",
      "2021-11-11 18:56:12 | INFO | hw5.seq2seq | saved epoch checkpoint: /home/wy/ML_study/chapter5/checkpoints/rnn/checkpoint80.pt\n",
      "2021-11-11 18:56:12 | INFO | hw5.seq2seq | end of epoch 80\n"
     ]
    },
    {
     "data": {
      "text/plain": "HBox(children=(HTML(value='train epoch 81'), FloatProgress(value=0.0, max=791.0), HTML(value='')))",
      "application/vnd.jupyter.widget-view+json": {
       "version_major": 2,
       "version_minor": 0,
       "model_id": "98648814f0264082a83a65b39fd69b9c"
      }
     },
     "metadata": {},
     "output_type": "display_data"
    },
    {
     "name": "stdout",
     "output_type": "stream",
     "text": [
      "2021-11-11 18:57:19 | INFO | hw5.seq2seq | training loss: 3.7320\n",
      "2021-11-11 18:57:19 | INFO | hw5.seq2seq | begin validation\n"
     ]
    },
    {
     "data": {
      "text/plain": "HBox(children=(HTML(value='validation'), FloatProgress(value=0.0, max=22.0), HTML(value='')))",
      "application/vnd.jupyter.widget-view+json": {
       "version_major": 2,
       "version_minor": 0,
       "model_id": "278b95a3e3094b3d9e9f77a4e52e3a84"
      }
     },
     "metadata": {},
     "output_type": "display_data"
    },
    {
     "name": "stdout",
     "output_type": "stream",
     "text": [
      "2021-11-11 18:57:37 | INFO | hw5.seq2seq | example source: we teach them that education doesn't really matter , because it's not relevant to what's happening all around them .\n",
      "2021-11-11 18:57:37 | INFO | hw5.seq2seq | example hypothesis: 我們教導他們 , 教育並不重要 , 因為這不重要 , 因為這不重要 , 因為它與周遭的事物有關 。\n",
      "2021-11-11 18:57:37 | INFO | hw5.seq2seq | example reference: 我們等於是在教他們:教育不重要 , 因為教育跟他們周圍發生的事無關 。\n",
      "2021-11-11 18:57:37 | INFO | hw5.seq2seq | validation loss:\t3.7504\n",
      "2021-11-11 18:57:37 | INFO | hw5.seq2seq | BLEU = 19.53 50.5/26.3/14.8/8.7 (BP = 0.960 ratio = 0.961 hyp_len = 107469 ref_len = 111811)\n",
      "2021-11-11 18:57:38 | INFO | hw5.seq2seq | saved epoch checkpoint: /home/wy/ML_study/chapter5/checkpoints/rnn/checkpoint81.pt\n",
      "2021-11-11 18:57:38 | INFO | hw5.seq2seq | end of epoch 81\n"
     ]
    },
    {
     "data": {
      "text/plain": "HBox(children=(HTML(value='train epoch 82'), FloatProgress(value=0.0, max=791.0), HTML(value='')))",
      "application/vnd.jupyter.widget-view+json": {
       "version_major": 2,
       "version_minor": 0,
       "model_id": "415480e9d385401eb028c37eb56007d0"
      }
     },
     "metadata": {},
     "output_type": "display_data"
    },
    {
     "name": "stdout",
     "output_type": "stream",
     "text": [
      "2021-11-11 18:58:48 | INFO | hw5.seq2seq | training loss: 3.7318\n",
      "2021-11-11 18:58:48 | INFO | hw5.seq2seq | begin validation\n"
     ]
    },
    {
     "data": {
      "text/plain": "HBox(children=(HTML(value='validation'), FloatProgress(value=0.0, max=22.0), HTML(value='')))",
      "application/vnd.jupyter.widget-view+json": {
       "version_major": 2,
       "version_minor": 0,
       "model_id": "2c550460098240e1bf7c101debfbcf83"
      }
     },
     "metadata": {},
     "output_type": "display_data"
    },
    {
     "name": "stdout",
     "output_type": "stream",
     "text": [
      "2021-11-11 18:59:05 | INFO | hw5.seq2seq | example source: so we're not thinking about this , but all of the people we imagine are thinking about it they're not taking care of it either .\n",
      "2021-11-11 18:59:05 | INFO | hw5.seq2seq | example hypothesis: 我們不在想這件事 , 但是我們想像的所有人 , 都想著他們在想這件事 , 卻不在乎它 。\n",
      "2021-11-11 18:59:05 | INFO | hw5.seq2seq | example reference: 所以 , 我們現在沒有在想這些事 , 而且在我們想像中 , 在想這些事情的人-基本上 , 他們也不會在乎的 。\n",
      "2021-11-11 18:59:05 | INFO | hw5.seq2seq | validation loss:\t3.7518\n",
      "2021-11-11 18:59:05 | INFO | hw5.seq2seq | BLEU = 19.29 52.0/27.2/15.2/8.9 (BP = 0.922 ratio = 0.925 hyp_len = 103415 ref_len = 111811)\n",
      "2021-11-11 18:59:06 | INFO | hw5.seq2seq | saved epoch checkpoint: /home/wy/ML_study/chapter5/checkpoints/rnn/checkpoint82.pt\n",
      "2021-11-11 18:59:06 | INFO | hw5.seq2seq | end of epoch 82\n"
     ]
    },
    {
     "data": {
      "text/plain": "HBox(children=(HTML(value='train epoch 83'), FloatProgress(value=0.0, max=791.0), HTML(value='')))",
      "application/vnd.jupyter.widget-view+json": {
       "version_major": 2,
       "version_minor": 0,
       "model_id": "da4ebe4ef7cf41068ba98c1d6b0d7c03"
      }
     },
     "metadata": {},
     "output_type": "display_data"
    },
    {
     "name": "stdout",
     "output_type": "stream",
     "text": [
      "2021-11-11 19:00:16 | INFO | hw5.seq2seq | training loss: 3.7306\n",
      "2021-11-11 19:00:16 | INFO | hw5.seq2seq | begin validation\n"
     ]
    },
    {
     "data": {
      "text/plain": "HBox(children=(HTML(value='validation'), FloatProgress(value=0.0, max=22.0), HTML(value='')))",
      "application/vnd.jupyter.widget-view+json": {
       "version_major": 2,
       "version_minor": 0,
       "model_id": "ad65db2e343a4782b5870d671b6d25f4"
      }
     },
     "metadata": {},
     "output_type": "display_data"
    },
    {
     "name": "stdout",
     "output_type": "stream",
     "text": [
      "2021-11-11 19:00:37 | INFO | hw5.seq2seq | example source: and so i can now focus on taking this information , figuring out how do we work towards a cure , how do we work towards prevention , and so my life has gotten a lot easier .\n",
      "2021-11-11 19:00:37 | INFO | hw5.seq2seq | example hypothesis: 所以 , 我現在可以專注於處理這些資訊 , 找出我們如何向前邁進的方案 , 我們如何向前邁進 , 所以 , 我現在可以專注在處理這些資訊 , 找出我們如何向前進的方向前進 。\n",
      "2021-11-11 19:00:37 | INFO | hw5.seq2seq | example reference: 所以我現在能專注於獲取信息 , 弄清楚我們如何治療 , 以及預防的方向 , 所以我的生活變得輕鬆多了 。\n",
      "2021-11-11 19:00:37 | INFO | hw5.seq2seq | validation loss:\t3.7489\n",
      "2021-11-11 19:00:37 | INFO | hw5.seq2seq | BLEU = 19.26 50.7/26.4/14.7/8.5 (BP = 0.952 ratio = 0.953 hyp_len = 106587 ref_len = 111811)\n",
      "2021-11-11 19:00:37 | INFO | hw5.seq2seq | saved epoch checkpoint: /home/wy/ML_study/chapter5/checkpoints/rnn/checkpoint83.pt\n",
      "2021-11-11 19:00:37 | INFO | hw5.seq2seq | end of epoch 83\n"
     ]
    },
    {
     "data": {
      "text/plain": "HBox(children=(HTML(value='train epoch 84'), FloatProgress(value=0.0, max=791.0), HTML(value='')))",
      "application/vnd.jupyter.widget-view+json": {
       "version_major": 2,
       "version_minor": 0,
       "model_id": "66400fb9660642b1b64dd7952b480380"
      }
     },
     "metadata": {},
     "output_type": "display_data"
    },
    {
     "name": "stdout",
     "output_type": "stream",
     "text": [
      "2021-11-11 19:01:43 | INFO | hw5.seq2seq | training loss: 3.7290\n",
      "2021-11-11 19:01:43 | INFO | hw5.seq2seq | begin validation\n"
     ]
    },
    {
     "data": {
      "text/plain": "HBox(children=(HTML(value='validation'), FloatProgress(value=0.0, max=22.0), HTML(value='')))",
      "application/vnd.jupyter.widget-view+json": {
       "version_major": 2,
       "version_minor": 0,
       "model_id": "555391e8fcb74e5cac25bc63117f2733"
      }
     },
     "metadata": {},
     "output_type": "display_data"
    },
    {
     "name": "stdout",
     "output_type": "stream",
     "text": [
      "2021-11-11 19:02:00 | INFO | hw5.seq2seq | example source: now , these are trivial marketing examples , i accept .\n",
      "2021-11-11 19:02:00 | INFO | hw5.seq2seq | example hypothesis: 現在 , 這是我接受的例子 。\n",
      "2021-11-11 19:02:00 | INFO | hw5.seq2seq | example reference: 這些都是很細微的市場行銷案例 。\n",
      "2021-11-11 19:02:00 | INFO | hw5.seq2seq | validation loss:\t3.7465\n",
      "2021-11-11 19:02:00 | INFO | hw5.seq2seq | BLEU = 19.53 51.1/26.8/15.1/8.8 (BP = 0.945 ratio = 0.947 hyp_len = 105845 ref_len = 111811)\n",
      "2021-11-11 19:02:01 | INFO | hw5.seq2seq | saved epoch checkpoint: /home/wy/ML_study/chapter5/checkpoints/rnn/checkpoint84.pt\n",
      "2021-11-11 19:02:01 | INFO | hw5.seq2seq | end of epoch 84\n"
     ]
    },
    {
     "data": {
      "text/plain": "HBox(children=(HTML(value='train epoch 85'), FloatProgress(value=0.0, max=791.0), HTML(value='')))",
      "application/vnd.jupyter.widget-view+json": {
       "version_major": 2,
       "version_minor": 0,
       "model_id": "5bf795e41cc342f395499be797ffa570"
      }
     },
     "metadata": {},
     "output_type": "display_data"
    },
    {
     "name": "stdout",
     "output_type": "stream",
     "text": [
      "2021-11-11 19:03:07 | INFO | hw5.seq2seq | training loss: 3.7294\n",
      "2021-11-11 19:03:07 | INFO | hw5.seq2seq | begin validation\n"
     ]
    },
    {
     "data": {
      "text/plain": "HBox(children=(HTML(value='validation'), FloatProgress(value=0.0, max=22.0), HTML(value='')))",
      "application/vnd.jupyter.widget-view+json": {
       "version_major": 2,
       "version_minor": 0,
       "model_id": "77848fe6113242318fcfc3223dfccfa2"
      }
     },
     "metadata": {},
     "output_type": "display_data"
    },
    {
     "name": "stdout",
     "output_type": "stream",
     "text": [
      "2021-11-11 19:03:24 | INFO | hw5.seq2seq | example source: but did you know that at your age judy garland was pulling down 150 , 000 dollars a picture , joan of arc was leading the french army to victory and blaise pascal had cleaned up his room no wait , i mean he had invented the calculator ?\n",
      "2021-11-11 19:03:24 | INFO | hw5.seq2seq | example hypothesis: 你知道嗎 ? 在你的年紀 , 約翰·加爾蘭把一萬五千美金的金錢放到一萬五千美金的照片中 , 喬安·蓋爾斯把一萬五千萬美金的照片放到他的房間裡 , 除了他的房間 , 不等 , 我指他發明了計算機 。\n",
      "2021-11-11 19:03:24 | INFO | hw5.seq2seq | example reference: 但你知道跟你同年的時候朱蒂嘉蘭拍個電影就可以賺150 , 000塊貞德就在帶領法軍打勝仗然後布萊茲帕斯卡把自己的房間整理乾淨了--喔不 , 我是說他發明了計算機\n",
      "2021-11-11 19:03:24 | INFO | hw5.seq2seq | validation loss:\t3.7473\n",
      "2021-11-11 19:03:24 | INFO | hw5.seq2seq | BLEU = 19.31 50.2/26.1/14.6/8.5 (BP = 0.961 ratio = 0.962 hyp_len = 107528 ref_len = 111811)\n",
      "2021-11-11 19:03:25 | INFO | hw5.seq2seq | saved epoch checkpoint: /home/wy/ML_study/chapter5/checkpoints/rnn/checkpoint85.pt\n",
      "2021-11-11 19:03:25 | INFO | hw5.seq2seq | end of epoch 85\n"
     ]
    },
    {
     "data": {
      "text/plain": "HBox(children=(HTML(value='train epoch 86'), FloatProgress(value=0.0, max=791.0), HTML(value='')))",
      "application/vnd.jupyter.widget-view+json": {
       "version_major": 2,
       "version_minor": 0,
       "model_id": "4253af51b0764f91b198bae1627d3788"
      }
     },
     "metadata": {},
     "output_type": "display_data"
    },
    {
     "name": "stdout",
     "output_type": "stream",
     "text": [
      "2021-11-11 19:04:30 | INFO | hw5.seq2seq | training loss: 3.7265\n",
      "2021-11-11 19:04:30 | INFO | hw5.seq2seq | begin validation\n"
     ]
    },
    {
     "data": {
      "text/plain": "HBox(children=(HTML(value='validation'), FloatProgress(value=0.0, max=22.0), HTML(value='')))",
      "application/vnd.jupyter.widget-view+json": {
       "version_major": 2,
       "version_minor": 0,
       "model_id": "449351de16ef47388c3f8b9d260d5d3e"
      }
     },
     "metadata": {},
     "output_type": "display_data"
    },
    {
     "name": "stdout",
     "output_type": "stream",
     "text": [
      "2021-11-11 19:04:47 | INFO | hw5.seq2seq | example source: this is an image i took of a woman in bhongir village in andhra pradesh in india .\n",
      "2021-11-11 19:04:47 | INFO | hw5.seq2seq | example hypothesis: 這張照片是我在印度的一位女子所拍攝的照片 。\n",
      "2021-11-11 19:04:47 | INFO | hw5.seq2seq | example reference: 這是我拍的照片 , 照片上的女子在印度安得拉邦的邦格伊爾村 。\n",
      "2021-11-11 19:04:47 | INFO | hw5.seq2seq | validation loss:\t3.7460\n",
      "2021-11-11 19:04:47 | INFO | hw5.seq2seq | BLEU = 19.43 49.9/25.9/14.4/8.5 (BP = 0.975 ratio = 0.976 hyp_len = 109074 ref_len = 111811)\n",
      "2021-11-11 19:04:47 | INFO | hw5.seq2seq | saved epoch checkpoint: /home/wy/ML_study/chapter5/checkpoints/rnn/checkpoint86.pt\n",
      "2021-11-11 19:04:47 | INFO | hw5.seq2seq | end of epoch 86\n"
     ]
    },
    {
     "data": {
      "text/plain": "HBox(children=(HTML(value='train epoch 87'), FloatProgress(value=0.0, max=791.0), HTML(value='')))",
      "application/vnd.jupyter.widget-view+json": {
       "version_major": 2,
       "version_minor": 0,
       "model_id": "bbb3cf6b89594ee5aaf9c4fe7fc71207"
      }
     },
     "metadata": {},
     "output_type": "display_data"
    },
    {
     "name": "stdout",
     "output_type": "stream",
     "text": [
      "2021-11-11 19:05:54 | INFO | hw5.seq2seq | training loss: 3.7276\n",
      "2021-11-11 19:05:54 | INFO | hw5.seq2seq | begin validation\n"
     ]
    },
    {
     "data": {
      "text/plain": "HBox(children=(HTML(value='validation'), FloatProgress(value=0.0, max=22.0), HTML(value='')))",
      "application/vnd.jupyter.widget-view+json": {
       "version_major": 2,
       "version_minor": 0,
       "model_id": "9db2c54f940547b69b0d98e26da7f854"
      }
     },
     "metadata": {},
     "output_type": "display_data"
    },
    {
     "name": "stdout",
     "output_type": "stream",
     "text": [
      "2021-11-11 19:06:11 | INFO | hw5.seq2seq | example source: davinia's impact started a few years ago when she reached out to all of her friends on facebook , and asked them to donate their pennies so she could fund girls' education .\n",
      "2021-11-11 19:06:11 | INFO | hw5.seq2seq | example hypothesis: 達維尼亞的幾年前 , 她在facebook上見到她的朋友 , 並要求他們捐款給她的朋友 , 這樣她就能募資女孩教育 。\n",
      "2021-11-11 19:06:11 | INFO | hw5.seq2seq | example reference: 達維妮雅的影響力從幾年前開始 , 當時她在臉書上尋求朋友幫助 , 她邀請他們捐點零錢 , 這樣她就可以資助女孩的教育 。\n",
      "2021-11-11 19:06:11 | INFO | hw5.seq2seq | validation loss:\t3.7495\n",
      "2021-11-11 19:06:11 | INFO | hw5.seq2seq | BLEU = 19.36 51.2/26.8/15.0/8.7 (BP = 0.941 ratio = 0.943 hyp_len = 105449 ref_len = 111811)\n",
      "2021-11-11 19:06:12 | INFO | hw5.seq2seq | saved epoch checkpoint: /home/wy/ML_study/chapter5/checkpoints/rnn/checkpoint87.pt\n",
      "2021-11-11 19:06:12 | INFO | hw5.seq2seq | end of epoch 87\n"
     ]
    },
    {
     "data": {
      "text/plain": "HBox(children=(HTML(value='train epoch 88'), FloatProgress(value=0.0, max=791.0), HTML(value='')))",
      "application/vnd.jupyter.widget-view+json": {
       "version_major": 2,
       "version_minor": 0,
       "model_id": "f4ad6469e5bc42fd816645a7b4a71b99"
      }
     },
     "metadata": {},
     "output_type": "display_data"
    },
    {
     "name": "stdout",
     "output_type": "stream",
     "text": [
      "2021-11-11 19:07:17 | INFO | hw5.seq2seq | training loss: 3.7263\n",
      "2021-11-11 19:07:17 | INFO | hw5.seq2seq | begin validation\n"
     ]
    },
    {
     "data": {
      "text/plain": "HBox(children=(HTML(value='validation'), FloatProgress(value=0.0, max=22.0), HTML(value='')))",
      "application/vnd.jupyter.widget-view+json": {
       "version_major": 2,
       "version_minor": 0,
       "model_id": "acceca86588b4e5dbe7c393dae1c2ff3"
      }
     },
     "metadata": {},
     "output_type": "display_data"
    },
    {
     "name": "stdout",
     "output_type": "stream",
     "text": [
      "2021-11-11 19:07:33 | INFO | hw5.seq2seq | example source: in \" the descent of man , \" charles darwin wrote a great deal about the evolution of morality where did it come from , why do we have it .\n",
      "2021-11-11 19:07:33 | INFO | hw5.seq2seq | example hypothesis: 在 「 人類 」 達爾文寫了一件偉大的演說 , 關於道德的進化 , 由何而來 , 我們該怎麼辦 ?\n",
      "2021-11-11 19:07:33 | INFO | hw5.seq2seq | example reference: 在《人類的起源》裡達爾文寫了許多關於道德進化論這件事道德是從哪來的 ? 我們怎麼會擁有它 ?\n",
      "2021-11-11 19:07:33 | INFO | hw5.seq2seq | validation loss:\t3.7425\n",
      "2021-11-11 19:07:33 | INFO | hw5.seq2seq | BLEU = 19.59 50.2/26.2/14.7/8.6 (BP = 0.971 ratio = 0.971 hyp_len = 108579 ref_len = 111811)\n",
      "2021-11-11 19:07:34 | INFO | hw5.seq2seq | saved epoch checkpoint: /home/wy/ML_study/chapter5/checkpoints/rnn/checkpoint88.pt\n",
      "2021-11-11 19:07:34 | INFO | hw5.seq2seq | end of epoch 88\n"
     ]
    },
    {
     "data": {
      "text/plain": "HBox(children=(HTML(value='train epoch 89'), FloatProgress(value=0.0, max=791.0), HTML(value='')))",
      "application/vnd.jupyter.widget-view+json": {
       "version_major": 2,
       "version_minor": 0,
       "model_id": "7fef2e2e47ea4427af0af07c9403f136"
      }
     },
     "metadata": {},
     "output_type": "display_data"
    },
    {
     "name": "stdout",
     "output_type": "stream",
     "text": [
      "2021-11-11 19:08:43 | INFO | hw5.seq2seq | training loss: 3.7241\n",
      "2021-11-11 19:08:43 | INFO | hw5.seq2seq | begin validation\n"
     ]
    },
    {
     "data": {
      "text/plain": "HBox(children=(HTML(value='validation'), FloatProgress(value=0.0, max=22.0), HTML(value='')))",
      "application/vnd.jupyter.widget-view+json": {
       "version_major": 2,
       "version_minor": 0,
       "model_id": "6335b98123dc4b50810e9dd50c5947a6"
      }
     },
     "metadata": {},
     "output_type": "display_data"
    },
    {
     "name": "stdout",
     "output_type": "stream",
     "text": [
      "2021-11-11 19:09:01 | INFO | hw5.seq2seq | example source: we presented our plan at the white house two weeks after president trump moved in .\n",
      "2021-11-11 19:09:01 | INFO | hw5.seq2seq | example hypothesis: 我們在白宮兩週後舉辦了白宮 , 總統川普推動了 。\n",
      "2021-11-11 19:09:01 | INFO | hw5.seq2seq | example reference: 我們在川普總統上任兩週後在白宮呈獻此計劃 。\n",
      "2021-11-11 19:09:01 | INFO | hw5.seq2seq | validation loss:\t3.7493\n",
      "2021-11-11 19:09:01 | INFO | hw5.seq2seq | BLEU = 19.44 51.2/26.8/15.0/8.8 (BP = 0.942 ratio = 0.944 hyp_len = 105550 ref_len = 111811)\n",
      "2021-11-11 19:09:02 | INFO | hw5.seq2seq | saved epoch checkpoint: /home/wy/ML_study/chapter5/checkpoints/rnn/checkpoint89.pt\n",
      "2021-11-11 19:09:02 | INFO | hw5.seq2seq | end of epoch 89\n"
     ]
    },
    {
     "data": {
      "text/plain": "HBox(children=(HTML(value='train epoch 90'), FloatProgress(value=0.0, max=791.0), HTML(value='')))",
      "application/vnd.jupyter.widget-view+json": {
       "version_major": 2,
       "version_minor": 0,
       "model_id": "3ffdf732d2984250803a93a62bef8964"
      }
     },
     "metadata": {},
     "output_type": "display_data"
    },
    {
     "name": "stdout",
     "output_type": "stream",
     "text": [
      "2021-11-11 19:10:06 | INFO | hw5.seq2seq | training loss: 3.7232\n",
      "2021-11-11 19:10:06 | INFO | hw5.seq2seq | begin validation\n"
     ]
    },
    {
     "data": {
      "text/plain": "HBox(children=(HTML(value='validation'), FloatProgress(value=0.0, max=22.0), HTML(value='')))",
      "application/vnd.jupyter.widget-view+json": {
       "version_major": 2,
       "version_minor": 0,
       "model_id": "d54fdaada0464f588afe3a3c845e5c51"
      }
     },
     "metadata": {},
     "output_type": "display_data"
    },
    {
     "name": "stdout",
     "output_type": "stream",
     "text": [
      "2021-11-11 19:10:23 | INFO | hw5.seq2seq | example source: and so that's the basic thing doctors are trained to do , and it's miraculous in the case of infectious disease how well it works .\n",
      "2021-11-11 19:10:23 | INFO | hw5.seq2seq | example hypothesis: 基本上就是醫生被訓練做的事 , 在感染性疾病的情況下 , 它很奇蹟 。\n",
      "2021-11-11 19:10:23 | INFO | hw5.seq2seq | example reference: 這基本上是醫生被訓練來做的事 。 這在感染性疾病上有的效果--是幾近神奇的 。\n",
      "2021-11-11 19:10:23 | INFO | hw5.seq2seq | validation loss:\t3.7550\n",
      "2021-11-11 19:10:23 | INFO | hw5.seq2seq | BLEU = 19.17 51.3/26.9/15.0/8.8 (BP = 0.928 ratio = 0.930 hyp_len = 104032 ref_len = 111811)\n",
      "2021-11-11 19:10:23 | INFO | hw5.seq2seq | saved epoch checkpoint: /home/wy/ML_study/chapter5/checkpoints/rnn/checkpoint90.pt\n",
      "2021-11-11 19:10:23 | INFO | hw5.seq2seq | end of epoch 90\n"
     ]
    },
    {
     "data": {
      "text/plain": "HBox(children=(HTML(value='train epoch 91'), FloatProgress(value=0.0, max=791.0), HTML(value='')))",
      "application/vnd.jupyter.widget-view+json": {
       "version_major": 2,
       "version_minor": 0,
       "model_id": "b286848aa9144f3cae40de2ab64da836"
      }
     },
     "metadata": {},
     "output_type": "display_data"
    },
    {
     "name": "stdout",
     "output_type": "stream",
     "text": [
      "2021-11-11 19:11:27 | INFO | hw5.seq2seq | training loss: 3.7240\n",
      "2021-11-11 19:11:27 | INFO | hw5.seq2seq | begin validation\n"
     ]
    },
    {
     "data": {
      "text/plain": "HBox(children=(HTML(value='validation'), FloatProgress(value=0.0, max=22.0), HTML(value='')))",
      "application/vnd.jupyter.widget-view+json": {
       "version_major": 2,
       "version_minor": 0,
       "model_id": "0d346eb8b80c40fb859ca061296c2535"
      }
     },
     "metadata": {},
     "output_type": "display_data"
    },
    {
     "name": "stdout",
     "output_type": "stream",
     "text": [
      "2021-11-11 19:11:44 | INFO | hw5.seq2seq | example source: by the early 20th century , the perfect balance of science and art had finally been struck with the emergence of medical illustrators .\n",
      "2021-11-11 19:11:44 | INFO | hw5.seq2seq | example hypothesis: 在20世紀初期 , 科學和藝術的完美平衡 , 終於有了醫學插畫師的完美的平衡 。\n",
      "2021-11-11 19:11:44 | INFO | hw5.seq2seq | example reference: 直到20世紀早期 , 科學與藝術間的完美平衡終於達成了 , 因為醫學插圖畫家的出現 。\n",
      "2021-11-11 19:11:44 | INFO | hw5.seq2seq | validation loss:\t3.7457\n",
      "2021-11-11 19:11:44 | INFO | hw5.seq2seq | BLEU = 19.43 51.0/26.6/14.9/8.7 (BP = 0.950 ratio = 0.951 hyp_len = 106368 ref_len = 111811)\n",
      "2021-11-11 19:11:44 | INFO | hw5.seq2seq | saved epoch checkpoint: /home/wy/ML_study/chapter5/checkpoints/rnn/checkpoint91.pt\n",
      "2021-11-11 19:11:44 | INFO | hw5.seq2seq | end of epoch 91\n"
     ]
    },
    {
     "data": {
      "text/plain": "HBox(children=(HTML(value='train epoch 92'), FloatProgress(value=0.0, max=791.0), HTML(value='')))",
      "application/vnd.jupyter.widget-view+json": {
       "version_major": 2,
       "version_minor": 0,
       "model_id": "688146c52f30474cb29409caca183399"
      }
     },
     "metadata": {},
     "output_type": "display_data"
    },
    {
     "name": "stdout",
     "output_type": "stream",
     "text": [
      "2021-11-11 19:12:48 | INFO | hw5.seq2seq | training loss: 3.7224\n",
      "2021-11-11 19:12:48 | INFO | hw5.seq2seq | begin validation\n"
     ]
    },
    {
     "data": {
      "text/plain": "HBox(children=(HTML(value='validation'), FloatProgress(value=0.0, max=22.0), HTML(value='')))",
      "application/vnd.jupyter.widget-view+json": {
       "version_major": 2,
       "version_minor": 0,
       "model_id": "62addf3ffbaf4b999967aa5d2154f5f8"
      }
     },
     "metadata": {},
     "output_type": "display_data"
    },
    {
     "name": "stdout",
     "output_type": "stream",
     "text": [
      "2021-11-11 19:13:05 | INFO | hw5.seq2seq | example source: try this quick thought experiment: imagine a restaurant that serves michelinstarred food , but where the restaurant smells of sewage and there's human feces on the floor .\n",
      "2021-11-11 19:13:05 | INFO | hw5.seq2seq | example hypothesis: 試試這個快速的思考實驗:想像一間餐廳 , 餐廳的味道是餐廳的味道 , 但餐廳裡的餐廳有著肉體的餐廳 。\n",
      "2021-11-11 19:13:05 | INFO | hw5.seq2seq | example reference: 讓我們來做個快速的思維實驗想像一家餐廳提供米其林星級水準的食物但餐廳裡惡臭彌漫地板上屎尿橫流\n",
      "2021-11-11 19:13:05 | INFO | hw5.seq2seq | validation loss:\t3.7465\n",
      "2021-11-11 19:13:05 | INFO | hw5.seq2seq | BLEU = 19.66 51.0/26.8/15.1/8.8 (BP = 0.952 ratio = 0.953 hyp_len = 106593 ref_len = 111811)\n",
      "2021-11-11 19:13:06 | INFO | hw5.seq2seq | saved epoch checkpoint: /home/wy/ML_study/chapter5/checkpoints/rnn/checkpoint92.pt\n",
      "2021-11-11 19:13:06 | INFO | hw5.seq2seq | end of epoch 92\n"
     ]
    },
    {
     "data": {
      "text/plain": "HBox(children=(HTML(value='train epoch 93'), FloatProgress(value=0.0, max=791.0), HTML(value='')))",
      "application/vnd.jupyter.widget-view+json": {
       "version_major": 2,
       "version_minor": 0,
       "model_id": "4712bcfd176b4e7680dc2ceaf845bd97"
      }
     },
     "metadata": {},
     "output_type": "display_data"
    },
    {
     "name": "stdout",
     "output_type": "stream",
     "text": [
      "2021-11-11 19:14:10 | INFO | hw5.seq2seq | training loss: 3.7200\n",
      "2021-11-11 19:14:10 | INFO | hw5.seq2seq | begin validation\n"
     ]
    },
    {
     "data": {
      "text/plain": "HBox(children=(HTML(value='validation'), FloatProgress(value=0.0, max=22.0), HTML(value='')))",
      "application/vnd.jupyter.widget-view+json": {
       "version_major": 2,
       "version_minor": 0,
       "model_id": "159ec6651fae40bcb6248e2c22681801"
      }
     },
     "metadata": {},
     "output_type": "display_data"
    },
    {
     "name": "stdout",
     "output_type": "stream",
     "text": [
      "2021-11-11 19:14:27 | INFO | hw5.seq2seq | example source: so having looked at the numbers , my estimate is that a score of 75 would not only be a giant leap forward in human wellbeing , it would also count as hitting the global goals target .\n",
      "2021-11-11 19:14:27 | INFO | hw5.seq2seq | example hypothesis: 看著數字 , 我估計 , 705不僅僅是一個巨大的進步 , 它也會撞擊全球目標 。\n",
      "2021-11-11 19:14:27 | INFO | hw5.seq2seq | example reference: 所以仔細地考慮一下分數我的估計是75分這在人類幸福上不僅是一個巨大的飛躍 。 也意味著可達成的全球目標 。\n",
      "2021-11-11 19:14:27 | INFO | hw5.seq2seq | validation loss:\t3.7496\n",
      "2021-11-11 19:14:27 | INFO | hw5.seq2seq | BLEU = 19.43 49.2/25.6/14.3/8.4 (BP = 0.986 ratio = 0.986 hyp_len = 110243 ref_len = 111811)\n",
      "2021-11-11 19:14:28 | INFO | hw5.seq2seq | saved epoch checkpoint: /home/wy/ML_study/chapter5/checkpoints/rnn/checkpoint93.pt\n",
      "2021-11-11 19:14:28 | INFO | hw5.seq2seq | end of epoch 93\n"
     ]
    },
    {
     "data": {
      "text/plain": "HBox(children=(HTML(value='train epoch 94'), FloatProgress(value=0.0, max=791.0), HTML(value='')))",
      "application/vnd.jupyter.widget-view+json": {
       "version_major": 2,
       "version_minor": 0,
       "model_id": "7a4be1f59a9444f8bc0b14255aca3a53"
      }
     },
     "metadata": {},
     "output_type": "display_data"
    },
    {
     "name": "stdout",
     "output_type": "stream",
     "text": [
      "2021-11-11 19:15:32 | INFO | hw5.seq2seq | training loss: 3.7198\n",
      "2021-11-11 19:15:32 | INFO | hw5.seq2seq | begin validation\n"
     ]
    },
    {
     "data": {
      "text/plain": "HBox(children=(HTML(value='validation'), FloatProgress(value=0.0, max=22.0), HTML(value='')))",
      "application/vnd.jupyter.widget-view+json": {
       "version_major": 2,
       "version_minor": 0,
       "model_id": "aacdc19e111840c585423913130e99d4"
      }
     },
     "metadata": {},
     "output_type": "display_data"
    },
    {
     "name": "stdout",
     "output_type": "stream",
     "text": [
      "2021-11-11 19:15:49 | INFO | hw5.seq2seq | example source: and there are hundreds of initiatives every year to try and improve education .\n",
      "2021-11-11 19:15:49 | INFO | hw5.seq2seq | example hypothesis: 每年有數百個計畫 , 試圖改善教育 。\n",
      "2021-11-11 19:15:49 | INFO | hw5.seq2seq | example reference: 每年有幾百件方案嘗試改善教育\n",
      "2021-11-11 19:15:49 | INFO | hw5.seq2seq | validation loss:\t3.7496\n",
      "2021-11-11 19:15:49 | INFO | hw5.seq2seq | BLEU = 19.48 50.7/26.5/14.9/8.7 (BP = 0.953 ratio = 0.954 hyp_len = 106709 ref_len = 111811)\n",
      "2021-11-11 19:15:50 | INFO | hw5.seq2seq | saved epoch checkpoint: /home/wy/ML_study/chapter5/checkpoints/rnn/checkpoint94.pt\n",
      "2021-11-11 19:15:50 | INFO | hw5.seq2seq | end of epoch 94\n"
     ]
    },
    {
     "data": {
      "text/plain": "HBox(children=(HTML(value='train epoch 95'), FloatProgress(value=0.0, max=791.0), HTML(value='')))",
      "application/vnd.jupyter.widget-view+json": {
       "version_major": 2,
       "version_minor": 0,
       "model_id": "1d9370d86eca43f7a79917af8c69fe76"
      }
     },
     "metadata": {},
     "output_type": "display_data"
    },
    {
     "name": "stdout",
     "output_type": "stream",
     "text": [
      "2021-11-11 19:16:55 | INFO | hw5.seq2seq | training loss: 3.7175\n",
      "2021-11-11 19:16:55 | INFO | hw5.seq2seq | begin validation\n"
     ]
    },
    {
     "data": {
      "text/plain": "HBox(children=(HTML(value='validation'), FloatProgress(value=0.0, max=22.0), HTML(value='')))",
      "application/vnd.jupyter.widget-view+json": {
       "version_major": 2,
       "version_minor": 0,
       "model_id": "318cef6315e64de9860844ec0176505a"
      }
     },
     "metadata": {},
     "output_type": "display_data"
    },
    {
     "name": "stdout",
     "output_type": "stream",
     "text": [
      "2021-11-11 19:17:12 | INFO | hw5.seq2seq | example source: so one random day , i wandered to the nearest building to my dorm room .\n",
      "2021-11-11 19:17:12 | INFO | hw5.seq2seq | example hypothesis: 有一次隨機的一天 , 我走向我最接近的房間 。\n",
      "2021-11-11 19:17:12 | INFO | hw5.seq2seq | example reference: 某一天 , 我晃到了離我宿舍最近的大樓 。\n",
      "2021-11-11 19:17:12 | INFO | hw5.seq2seq | validation loss:\t3.7447\n",
      "2021-11-11 19:17:12 | INFO | hw5.seq2seq | BLEU = 19.49 50.4/26.3/14.7/8.6 (BP = 0.962 ratio = 0.963 hyp_len = 107672 ref_len = 111811)\n",
      "2021-11-11 19:17:12 | INFO | hw5.seq2seq | saved epoch checkpoint: /home/wy/ML_study/chapter5/checkpoints/rnn/checkpoint95.pt\n",
      "2021-11-11 19:17:12 | INFO | hw5.seq2seq | end of epoch 95\n"
     ]
    },
    {
     "data": {
      "text/plain": "HBox(children=(HTML(value='train epoch 96'), FloatProgress(value=0.0, max=791.0), HTML(value='')))",
      "application/vnd.jupyter.widget-view+json": {
       "version_major": 2,
       "version_minor": 0,
       "model_id": "acf4af4d53304e0093adf5ecc0c96c98"
      }
     },
     "metadata": {},
     "output_type": "display_data"
    },
    {
     "name": "stdout",
     "output_type": "stream",
     "text": [
      "2021-11-11 19:18:23 | INFO | hw5.seq2seq | training loss: 3.7168\n",
      "2021-11-11 19:18:23 | INFO | hw5.seq2seq | begin validation\n"
     ]
    },
    {
     "data": {
      "text/plain": "HBox(children=(HTML(value='validation'), FloatProgress(value=0.0, max=22.0), HTML(value='')))",
      "application/vnd.jupyter.widget-view+json": {
       "version_major": 2,
       "version_minor": 0,
       "model_id": "117f0f1511a143b58c7fc362da5f895f"
      }
     },
     "metadata": {},
     "output_type": "display_data"
    },
    {
     "name": "stdout",
     "output_type": "stream",
     "text": [
      "2021-11-11 19:18:42 | INFO | hw5.seq2seq | example source: anybody who has an internet connection and the will to learn can access these great courses from excellent universities and get a credential at the end of it .\n",
      "2021-11-11 19:18:42 | INFO | hw5.seq2seq | example hypothesis: 任何有網際網路連結的人 , 都能取得這些偉大的課程 , 來自最棒的課程 , 才能取得這些偉大的課程 , 才能取得這些偉大的課程 。\n",
      "2021-11-11 19:18:42 | INFO | hw5.seq2seq | example reference: 任何人只要有網路連線 , 和學習意願 , 就能利用頂尖大學提供的絕佳課程 , 修畢後還能取得證書 。\n",
      "2021-11-11 19:18:42 | INFO | hw5.seq2seq | validation loss:\t3.7462\n",
      "2021-11-11 19:18:42 | INFO | hw5.seq2seq | BLEU = 19.67 49.1/25.6/14.3/8.3 (BP = 1.000 ratio = 1.000 hyp_len = 111827 ref_len = 111811)\n",
      "2021-11-11 19:18:43 | INFO | hw5.seq2seq | saved epoch checkpoint: /home/wy/ML_study/chapter5/checkpoints/rnn/checkpoint96.pt\n",
      "2021-11-11 19:18:43 | INFO | hw5.seq2seq | end of epoch 96\n"
     ]
    },
    {
     "data": {
      "text/plain": "HBox(children=(HTML(value='train epoch 97'), FloatProgress(value=0.0, max=791.0), HTML(value='')))",
      "application/vnd.jupyter.widget-view+json": {
       "version_major": 2,
       "version_minor": 0,
       "model_id": "61f3fe6e804c48ae8c374a65a75a143c"
      }
     },
     "metadata": {},
     "output_type": "display_data"
    },
    {
     "name": "stdout",
     "output_type": "stream",
     "text": [
      "2021-11-11 19:19:48 | INFO | hw5.seq2seq | training loss: 3.7162\n",
      "2021-11-11 19:19:48 | INFO | hw5.seq2seq | begin validation\n"
     ]
    },
    {
     "data": {
      "text/plain": "HBox(children=(HTML(value='validation'), FloatProgress(value=0.0, max=22.0), HTML(value='')))",
      "application/vnd.jupyter.widget-view+json": {
       "version_major": 2,
       "version_minor": 0,
       "model_id": "13f87863262748e6840612c0a1ef1142"
      }
     },
     "metadata": {},
     "output_type": "display_data"
    },
    {
     "name": "stdout",
     "output_type": "stream",
     "text": [
      "2021-11-11 19:20:05 | INFO | hw5.seq2seq | example source: they talked to me about depression , and anxiety and insomnia and suicidal thoughts .\n",
      "2021-11-11 19:20:05 | INFO | hw5.seq2seq | example hypothesis: 他們跟我談談憂鬱症、焦慮、失望 , 以及自殺念頭 。\n",
      "2021-11-11 19:20:05 | INFO | hw5.seq2seq | example reference: 他們跟我談了關於抑鬱、焦慮、失眠以及自殺的念頭 。\n",
      "2021-11-11 19:20:05 | INFO | hw5.seq2seq | validation loss:\t3.7521\n",
      "2021-11-11 19:20:05 | INFO | hw5.seq2seq | BLEU = 19.52 51.8/27.3/15.4/9.0 (BP = 0.927 ratio = 0.930 hyp_len = 103967 ref_len = 111811)\n",
      "2021-11-11 19:20:06 | INFO | hw5.seq2seq | saved epoch checkpoint: /home/wy/ML_study/chapter5/checkpoints/rnn/checkpoint97.pt\n",
      "2021-11-11 19:20:06 | INFO | hw5.seq2seq | end of epoch 97\n"
     ]
    },
    {
     "data": {
      "text/plain": "HBox(children=(HTML(value='train epoch 98'), FloatProgress(value=0.0, max=791.0), HTML(value='')))",
      "application/vnd.jupyter.widget-view+json": {
       "version_major": 2,
       "version_minor": 0,
       "model_id": "9520102e61484970927eda24ea224eb6"
      }
     },
     "metadata": {},
     "output_type": "display_data"
    },
    {
     "name": "stdout",
     "output_type": "stream",
     "text": [
      "2021-11-11 19:21:12 | INFO | hw5.seq2seq | training loss: 3.7182\n",
      "2021-11-11 19:21:12 | INFO | hw5.seq2seq | begin validation\n"
     ]
    },
    {
     "data": {
      "text/plain": "HBox(children=(HTML(value='validation'), FloatProgress(value=0.0, max=22.0), HTML(value='')))",
      "application/vnd.jupyter.widget-view+json": {
       "version_major": 2,
       "version_minor": 0,
       "model_id": "45aa0bce790a41edae3546c1ace2ef1b"
      }
     },
     "metadata": {},
     "output_type": "display_data"
    },
    {
     "name": "stdout",
     "output_type": "stream",
     "text": [
      "2021-11-11 19:21:29 | INFO | hw5.seq2seq | example source: the more i've seen and learned about our respective generations , the more i realize that we often don't trust each other enough to actually share our respective wisdom .\n",
      "2021-11-11 19:21:29 | INFO | hw5.seq2seq | example hypothesis: 我越了解到我們常常不信任彼此 , 才能真正分享我們的尊重的智慧 。\n",
      "2021-11-11 19:21:29 | INFO | hw5.seq2seq | example reference: 關於我們各自的世代 , 當我看得越多且學得越多 , 我就越發現我們通常沒有給彼此足夠的信任 , 無法真正分享我們各自的智慧 。\n",
      "2021-11-11 19:21:29 | INFO | hw5.seq2seq | validation loss:\t3.7422\n",
      "2021-11-11 19:21:29 | INFO | hw5.seq2seq | BLEU = 19.57 49.8/25.8/14.5/8.5 (BP = 0.982 ratio = 0.982 hyp_len = 109791 ref_len = 111811)\n",
      "2021-11-11 19:21:29 | INFO | hw5.seq2seq | saved epoch checkpoint: /home/wy/ML_study/chapter5/checkpoints/rnn/checkpoint98.pt\n",
      "2021-11-11 19:21:29 | INFO | hw5.seq2seq | end of epoch 98\n"
     ]
    },
    {
     "data": {
      "text/plain": "HBox(children=(HTML(value='train epoch 99'), FloatProgress(value=0.0, max=791.0), HTML(value='')))",
      "application/vnd.jupyter.widget-view+json": {
       "version_major": 2,
       "version_minor": 0,
       "model_id": "c590e9c0004e4cb48c854b6b264a3cca"
      }
     },
     "metadata": {},
     "output_type": "display_data"
    },
    {
     "name": "stdout",
     "output_type": "stream",
     "text": [
      "2021-11-11 19:22:35 | INFO | hw5.seq2seq | training loss: 3.7153\n",
      "2021-11-11 19:22:35 | INFO | hw5.seq2seq | begin validation\n"
     ]
    },
    {
     "data": {
      "text/plain": "HBox(children=(HTML(value='validation'), FloatProgress(value=0.0, max=22.0), HTML(value='')))",
      "application/vnd.jupyter.widget-view+json": {
       "version_major": 2,
       "version_minor": 0,
       "model_id": "4d4b328225474597bc96669788b16bec"
      }
     },
     "metadata": {},
     "output_type": "display_data"
    },
    {
     "name": "stdout",
     "output_type": "stream",
     "text": [
      "2021-11-11 19:22:53 | INFO | hw5.seq2seq | example source: and we continue to build .\n",
      "2021-11-11 19:22:53 | INFO | hw5.seq2seq | example hypothesis: 我們繼續建造 。\n",
      "2021-11-11 19:22:53 | INFO | hw5.seq2seq | example reference: 而我們持續在發展 。\n",
      "2021-11-11 19:22:53 | INFO | hw5.seq2seq | validation loss:\t3.7505\n",
      "2021-11-11 19:22:53 | INFO | hw5.seq2seq | BLEU = 19.31 51.4/26.9/15.0/8.8 (BP = 0.933 ratio = 0.935 hyp_len = 104574 ref_len = 111811)\n",
      "2021-11-11 19:22:54 | INFO | hw5.seq2seq | saved epoch checkpoint: /home/wy/ML_study/chapter5/checkpoints/rnn/checkpoint99.pt\n",
      "2021-11-11 19:22:54 | INFO | hw5.seq2seq | end of epoch 99\n"
     ]
    },
    {
     "data": {
      "text/plain": "HBox(children=(HTML(value='train epoch 100'), FloatProgress(value=0.0, max=791.0), HTML(value='')))",
      "application/vnd.jupyter.widget-view+json": {
       "version_major": 2,
       "version_minor": 0,
       "model_id": "01422fde3ee643a087e31da3c9496d16"
      }
     },
     "metadata": {},
     "output_type": "display_data"
    },
    {
     "name": "stdout",
     "output_type": "stream",
     "text": [
      "2021-11-11 19:23:58 | INFO | hw5.seq2seq | training loss: 3.7148\n",
      "2021-11-11 19:23:58 | INFO | hw5.seq2seq | begin validation\n"
     ]
    },
    {
     "data": {
      "text/plain": "HBox(children=(HTML(value='validation'), FloatProgress(value=0.0, max=22.0), HTML(value='')))",
      "application/vnd.jupyter.widget-view+json": {
       "version_major": 2,
       "version_minor": 0,
       "model_id": "575b43c853e1402588dd9e3a2a54950d"
      }
     },
     "metadata": {},
     "output_type": "display_data"
    },
    {
     "name": "stdout",
     "output_type": "stream",
     "text": [
      "2021-11-11 19:24:15 | INFO | hw5.seq2seq | example source: however , there is ample cause for hope .\n",
      "2021-11-11 19:24:15 | INFO | hw5.seq2seq | example hypothesis: 然而 , 對希望有很大的希望 。\n",
      "2021-11-11 19:24:15 | INFO | hw5.seq2seq | example reference: 然而還是有足夠的理由可以盼望\n",
      "2021-11-11 19:24:15 | INFO | hw5.seq2seq | validation loss:\t3.7565\n",
      "2021-11-11 19:24:15 | INFO | hw5.seq2seq | BLEU = 19.25 51.8/27.1/15.2/8.9 (BP = 0.924 ratio = 0.926 hyp_len = 103573 ref_len = 111811)\n",
      "2021-11-11 19:24:15 | INFO | hw5.seq2seq | saved epoch checkpoint: /home/wy/ML_study/chapter5/checkpoints/rnn/checkpoint100.pt\n",
      "2021-11-11 19:24:15 | INFO | hw5.seq2seq | end of epoch 100\n"
     ]
    },
    {
     "data": {
      "text/plain": "HBox(children=(HTML(value='train epoch 101'), FloatProgress(value=0.0, max=791.0), HTML(value='')))",
      "application/vnd.jupyter.widget-view+json": {
       "version_major": 2,
       "version_minor": 0,
       "model_id": "2a82f2ddaf7f40cca0bccd7c83830ade"
      }
     },
     "metadata": {},
     "output_type": "display_data"
    },
    {
     "name": "stdout",
     "output_type": "stream",
     "text": [
      "2021-11-11 19:25:20 | INFO | hw5.seq2seq | training loss: 3.7128\n",
      "2021-11-11 19:25:20 | INFO | hw5.seq2seq | begin validation\n"
     ]
    },
    {
     "data": {
      "text/plain": "HBox(children=(HTML(value='validation'), FloatProgress(value=0.0, max=22.0), HTML(value='')))",
      "application/vnd.jupyter.widget-view+json": {
       "version_major": 2,
       "version_minor": 0,
       "model_id": "236e7fab98084ca286f7c7986c118a6a"
      }
     },
     "metadata": {},
     "output_type": "display_data"
    },
    {
     "name": "stdout",
     "output_type": "stream",
     "text": [
      "2021-11-11 19:25:37 | INFO | hw5.seq2seq | example source: and in fact , i think we're even wrong when we talk about cancer as a thing .\n",
      "2021-11-11 19:25:37 | INFO | hw5.seq2seq | example hypothesis: 事實上 , 我認為我們甚至錯了當我們談論癌症時 ,\n",
      "2021-11-11 19:25:37 | INFO | hw5.seq2seq | example reference: 事實上 , 我認為我們把癌症當作 \" 一個東西 \" 這個看法本身就有問題 。\n",
      "2021-11-11 19:25:37 | INFO | hw5.seq2seq | validation loss:\t3.7511\n",
      "2021-11-11 19:25:37 | INFO | hw5.seq2seq | BLEU = 19.49 51.5/27.0/15.2/8.9 (BP = 0.934 ratio = 0.936 hyp_len = 104686 ref_len = 111811)\n",
      "2021-11-11 19:25:38 | INFO | hw5.seq2seq | saved epoch checkpoint: /home/wy/ML_study/chapter5/checkpoints/rnn/checkpoint101.pt\n",
      "2021-11-11 19:25:38 | INFO | hw5.seq2seq | end of epoch 101\n"
     ]
    },
    {
     "data": {
      "text/plain": "HBox(children=(HTML(value='train epoch 102'), FloatProgress(value=0.0, max=791.0), HTML(value='')))",
      "application/vnd.jupyter.widget-view+json": {
       "version_major": 2,
       "version_minor": 0,
       "model_id": "d5a640d27c04436484db6878d36a8bac"
      }
     },
     "metadata": {},
     "output_type": "display_data"
    },
    {
     "name": "stdout",
     "output_type": "stream",
     "text": [
      "2021-11-11 19:26:46 | INFO | hw5.seq2seq | training loss: 3.7134\n",
      "2021-11-11 19:26:46 | INFO | hw5.seq2seq | begin validation\n"
     ]
    },
    {
     "data": {
      "text/plain": "HBox(children=(HTML(value='validation'), FloatProgress(value=0.0, max=22.0), HTML(value='')))",
      "application/vnd.jupyter.widget-view+json": {
       "version_major": 2,
       "version_minor": 0,
       "model_id": "fcb70772bd584a97a352c80a70b8c404"
      }
     },
     "metadata": {},
     "output_type": "display_data"
    },
    {
     "name": "stdout",
     "output_type": "stream",
     "text": [
      "2021-11-11 19:27:05 | INFO | hw5.seq2seq | example source: there was no way they could win .\n",
      "2021-11-11 19:27:05 | INFO | hw5.seq2seq | example hypothesis: 他們沒有辦法贏得 。\n",
      "2021-11-11 19:27:05 | INFO | hw5.seq2seq | example reference: 他們是不可能贏的\n",
      "2021-11-11 19:27:05 | INFO | hw5.seq2seq | validation loss:\t3.7463\n",
      "2021-11-11 19:27:05 | INFO | hw5.seq2seq | BLEU = 19.49 50.8/26.5/14.9/8.7 (BP = 0.953 ratio = 0.954 hyp_len = 106656 ref_len = 111811)\n",
      "2021-11-11 19:27:05 | INFO | hw5.seq2seq | saved epoch checkpoint: /home/wy/ML_study/chapter5/checkpoints/rnn/checkpoint102.pt\n",
      "2021-11-11 19:27:06 | INFO | hw5.seq2seq | end of epoch 102\n"
     ]
    },
    {
     "data": {
      "text/plain": "HBox(children=(HTML(value='train epoch 103'), FloatProgress(value=0.0, max=791.0), HTML(value='')))",
      "application/vnd.jupyter.widget-view+json": {
       "version_major": 2,
       "version_minor": 0,
       "model_id": "782646f74fa0476ca61d64ecb08ddf84"
      }
     },
     "metadata": {},
     "output_type": "display_data"
    },
    {
     "name": "stdout",
     "output_type": "stream",
     "text": [
      "2021-11-11 19:28:11 | INFO | hw5.seq2seq | training loss: 3.7117\n",
      "2021-11-11 19:28:11 | INFO | hw5.seq2seq | begin validation\n"
     ]
    },
    {
     "data": {
      "text/plain": "HBox(children=(HTML(value='validation'), FloatProgress(value=0.0, max=22.0), HTML(value='')))",
      "application/vnd.jupyter.widget-view+json": {
       "version_major": 2,
       "version_minor": 0,
       "model_id": "f9e2f6ff85d5499b895a12e4c64e5229"
      }
     },
     "metadata": {},
     "output_type": "display_data"
    },
    {
     "name": "stdout",
     "output_type": "stream",
     "text": [
      "2021-11-11 19:28:28 | INFO | hw5.seq2seq | example source: it's what we call , \" invest , connect and celebrate . \"\n",
      "2021-11-11 19:28:28 | INFO | hw5.seq2seq | example hypothesis: 我們稱之為 「 投資、連結和慶祝 」 。\n",
      "2021-11-11 19:28:28 | INFO | hw5.seq2seq | example reference: 也就是我們稱之為『投資 , 連結 , 發揚光大』\n",
      "2021-11-11 19:28:28 | INFO | hw5.seq2seq | validation loss:\t3.7498\n",
      "2021-11-11 19:28:28 | INFO | hw5.seq2seq | BLEU = 19.55 51.5/27.0/15.1/8.9 (BP = 0.940 ratio = 0.942 hyp_len = 105348 ref_len = 111811)\n",
      "2021-11-11 19:28:29 | INFO | hw5.seq2seq | saved epoch checkpoint: /home/wy/ML_study/chapter5/checkpoints/rnn/checkpoint103.pt\n",
      "2021-11-11 19:28:29 | INFO | hw5.seq2seq | end of epoch 103\n"
     ]
    },
    {
     "data": {
      "text/plain": "HBox(children=(HTML(value='train epoch 104'), FloatProgress(value=0.0, max=791.0), HTML(value='')))",
      "application/vnd.jupyter.widget-view+json": {
       "version_major": 2,
       "version_minor": 0,
       "model_id": "be479c2934e14920875f1683034931c9"
      }
     },
     "metadata": {},
     "output_type": "display_data"
    },
    {
     "name": "stdout",
     "output_type": "stream",
     "text": [
      "2021-11-11 19:29:34 | INFO | hw5.seq2seq | training loss: 3.7114\n",
      "2021-11-11 19:29:34 | INFO | hw5.seq2seq | begin validation\n"
     ]
    },
    {
     "data": {
      "text/plain": "HBox(children=(HTML(value='validation'), FloatProgress(value=0.0, max=22.0), HTML(value='')))",
      "application/vnd.jupyter.widget-view+json": {
       "version_major": 2,
       "version_minor": 0,
       "model_id": "c5d5be4ac4944cbd8583d9fc87c0e149"
      }
     },
     "metadata": {},
     "output_type": "display_data"
    },
    {
     "name": "stdout",
     "output_type": "stream",
     "text": [
      "2021-11-11 19:29:51 | INFO | hw5.seq2seq | example source: news sources plastered photos of me all over to sell newspapers , banner ads online , and to keep people tuned to the tv .\n",
      "2021-11-11 19:29:51 | INFO | hw5.seq2seq | example hypothesis: 新聞來源 , 把我所有的報紙、銀行廣告貼在網路上 , 讓人們在網路上搜尋電視 。\n",
      "2021-11-11 19:29:51 | INFO | hw5.seq2seq | example reference: 新聞消息來源到處張貼我的照片 , 賣給報紙、網路上的小廣告 , 讓大家繼續看電視 。\n",
      "2021-11-11 19:29:51 | INFO | hw5.seq2seq | validation loss:\t3.7420\n",
      "2021-11-11 19:29:51 | INFO | hw5.seq2seq | BLEU = 19.70 50.0/26.1/14.6/8.6 (BP = 0.978 ratio = 0.978 hyp_len = 109403 ref_len = 111811)\n",
      "2021-11-11 19:29:51 | INFO | hw5.seq2seq | saved epoch checkpoint: /home/wy/ML_study/chapter5/checkpoints/rnn/checkpoint104.pt\n",
      "2021-11-11 19:29:51 | INFO | hw5.seq2seq | end of epoch 104\n"
     ]
    },
    {
     "data": {
      "text/plain": "HBox(children=(HTML(value='train epoch 105'), FloatProgress(value=0.0, max=791.0), HTML(value='')))",
      "application/vnd.jupyter.widget-view+json": {
       "version_major": 2,
       "version_minor": 0,
       "model_id": "dd56d157533b499b86e135a94713cb31"
      }
     },
     "metadata": {},
     "output_type": "display_data"
    },
    {
     "name": "stdout",
     "output_type": "stream",
     "text": [
      "2021-11-11 19:30:54 | INFO | hw5.seq2seq | training loss: 3.7097\n",
      "2021-11-11 19:30:54 | INFO | hw5.seq2seq | begin validation\n"
     ]
    },
    {
     "data": {
      "text/plain": "HBox(children=(HTML(value='validation'), FloatProgress(value=0.0, max=22.0), HTML(value='')))",
      "application/vnd.jupyter.widget-view+json": {
       "version_major": 2,
       "version_minor": 0,
       "model_id": "bc9beb92af9d4ca8bc4bf3bce4d887d0"
      }
     },
     "metadata": {},
     "output_type": "display_data"
    },
    {
     "name": "stdout",
     "output_type": "stream",
     "text": [
      "2021-11-11 19:31:11 | INFO | hw5.seq2seq | example source: so , that's just a rock in the hillside .\n",
      "2021-11-11 19:31:11 | INFO | hw5.seq2seq | example hypothesis: 這只是一塊石頭\n",
      "2021-11-11 19:31:11 | INFO | hw5.seq2seq | example reference: 像是山丘上的岩石\n",
      "2021-11-11 19:31:11 | INFO | hw5.seq2seq | validation loss:\t3.7481\n",
      "2021-11-11 19:31:11 | INFO | hw5.seq2seq | BLEU = 19.42 51.0/26.6/14.9/8.7 (BP = 0.949 ratio = 0.950 hyp_len = 106234 ref_len = 111811)\n",
      "2021-11-11 19:31:11 | INFO | hw5.seq2seq | saved epoch checkpoint: /home/wy/ML_study/chapter5/checkpoints/rnn/checkpoint105.pt\n",
      "2021-11-11 19:31:11 | INFO | hw5.seq2seq | end of epoch 105\n"
     ]
    },
    {
     "data": {
      "text/plain": "HBox(children=(HTML(value='train epoch 106'), FloatProgress(value=0.0, max=791.0), HTML(value='')))",
      "application/vnd.jupyter.widget-view+json": {
       "version_major": 2,
       "version_minor": 0,
       "model_id": "162b326285a74625800788dff8c4beea"
      }
     },
     "metadata": {},
     "output_type": "display_data"
    },
    {
     "name": "stdout",
     "output_type": "stream",
     "text": [
      "2021-11-11 19:32:16 | INFO | hw5.seq2seq | training loss: 3.7101\n",
      "2021-11-11 19:32:16 | INFO | hw5.seq2seq | begin validation\n"
     ]
    },
    {
     "data": {
      "text/plain": "HBox(children=(HTML(value='validation'), FloatProgress(value=0.0, max=22.0), HTML(value='')))",
      "application/vnd.jupyter.widget-view+json": {
       "version_major": 2,
       "version_minor": 0,
       "model_id": "d2d39a0a6e4243758f67ecb21af698db"
      }
     },
     "metadata": {},
     "output_type": "display_data"
    },
    {
     "name": "stdout",
     "output_type": "stream",
     "text": [
      "2021-11-11 19:32:32 | INFO | hw5.seq2seq | example source: until we live in a society where every human is assured dignity in their labor so that they can work to live well , not only work to survive , there will always be an element of those who seek the open road as a means of escape , of liberation and , of course , of rebellion .\n",
      "2021-11-11 19:32:32 | INFO | hw5.seq2seq | example hypothesis: 直到我們生活在一個社會 , 每個人都被尊嚴在勞工中工作 , 不僅能努力工作 , 生活在一個社會中 , 每個人都會被尊嚴在勞工中 , 這樣他們才能工作 , 不僅是為了生存 , 還會有一大堆人被尊嚴的勞動 , 讓他們能夠工作 , 生活不僅是為了生存 , 也一定會是一群人被尊嚴的勞工 。\n",
      "2021-11-11 19:32:32 | INFO | hw5.seq2seq | example reference: 直到我們居住在一種人人的勞動都保有尊嚴的社會 , 他們能靠工作讓生活過得更好 , 不只是為了存活而工作 , 屆時 , 永遠都會有一群人將追尋開闊的道路做為一種逃離、解放 , 當然 , 還有反抗的方式 。\n",
      "2021-11-11 19:32:32 | INFO | hw5.seq2seq | validation loss:\t3.7543\n",
      "2021-11-11 19:32:32 | INFO | hw5.seq2seq | BLEU = 18.97 52.4/27.4/15.2/8.9 (BP = 0.904 ratio = 0.909 hyp_len = 101601 ref_len = 111811)\n",
      "2021-11-11 19:32:33 | INFO | hw5.seq2seq | saved epoch checkpoint: /home/wy/ML_study/chapter5/checkpoints/rnn/checkpoint106.pt\n",
      "2021-11-11 19:32:33 | INFO | hw5.seq2seq | end of epoch 106\n"
     ]
    },
    {
     "data": {
      "text/plain": "HBox(children=(HTML(value='train epoch 107'), FloatProgress(value=0.0, max=791.0), HTML(value='')))",
      "application/vnd.jupyter.widget-view+json": {
       "version_major": 2,
       "version_minor": 0,
       "model_id": "77a19058ae9945bcb082e207fe22b653"
      }
     },
     "metadata": {},
     "output_type": "display_data"
    },
    {
     "name": "stdout",
     "output_type": "stream",
     "text": [
      "2021-11-11 19:33:37 | INFO | hw5.seq2seq | training loss: 3.7103\n",
      "2021-11-11 19:33:37 | INFO | hw5.seq2seq | begin validation\n"
     ]
    },
    {
     "data": {
      "text/plain": "HBox(children=(HTML(value='validation'), FloatProgress(value=0.0, max=22.0), HTML(value='')))",
      "application/vnd.jupyter.widget-view+json": {
       "version_major": 2,
       "version_minor": 0,
       "model_id": "071e53a42df44a26a6ee6d6b422e818d"
      }
     },
     "metadata": {},
     "output_type": "display_data"
    },
    {
     "name": "stdout",
     "output_type": "stream",
     "text": [
      "2021-11-11 19:33:53 | INFO | hw5.seq2seq | example source: so as i was saying , 72 percent of our country is under forest cover , and all that forest is pristine .\n",
      "2021-11-11 19:33:53 | INFO | hw5.seq2seq | example hypothesis: 如我所說的 , 我們國家的百分之七十二是來自於森林 , 所有的森林都是原始 。\n",
      "2021-11-11 19:33:53 | INFO | hw5.seq2seq | example reference: 所以 , 就如我所說的 , 我們國家的森林覆蓋率為72% , 所有的森林都是原始森林 。\n",
      "2021-11-11 19:33:53 | INFO | hw5.seq2seq | validation loss:\t3.7503\n",
      "2021-11-11 19:33:53 | INFO | hw5.seq2seq | BLEU = 19.45 51.4/27.0/15.1/8.9 (BP = 0.937 ratio = 0.939 hyp_len = 105007 ref_len = 111811)\n",
      "2021-11-11 19:33:53 | INFO | hw5.seq2seq | saved epoch checkpoint: /home/wy/ML_study/chapter5/checkpoints/rnn/checkpoint107.pt\n",
      "2021-11-11 19:33:54 | INFO | hw5.seq2seq | end of epoch 107\n"
     ]
    },
    {
     "data": {
      "text/plain": "HBox(children=(HTML(value='train epoch 108'), FloatProgress(value=0.0, max=791.0), HTML(value='')))",
      "application/vnd.jupyter.widget-view+json": {
       "version_major": 2,
       "version_minor": 0,
       "model_id": "c94fdd9e285044f9b0275bbf25415bdd"
      }
     },
     "metadata": {},
     "output_type": "display_data"
    },
    {
     "name": "stdout",
     "output_type": "stream",
     "text": [
      "2021-11-11 19:34:57 | INFO | hw5.seq2seq | training loss: 3.7077\n",
      "2021-11-11 19:34:57 | INFO | hw5.seq2seq | begin validation\n"
     ]
    },
    {
     "data": {
      "text/plain": "HBox(children=(HTML(value='validation'), FloatProgress(value=0.0, max=22.0), HTML(value='')))",
      "application/vnd.jupyter.widget-view+json": {
       "version_major": 2,
       "version_minor": 0,
       "model_id": "5ee2613fac0b41ed8969a1de4cfe16ab"
      }
     },
     "metadata": {},
     "output_type": "display_data"
    },
    {
     "name": "stdout",
     "output_type": "stream",
     "text": [
      "2021-11-11 19:35:14 | INFO | hw5.seq2seq | example source: luckily , we were already moving in the opposite direction .\n",
      "2021-11-11 19:35:14 | INFO | hw5.seq2seq | example hypothesis: 幸運的是 , 我們已經朝相反方向移動 。\n",
      "2021-11-11 19:35:14 | INFO | hw5.seq2seq | example reference: 很幸運地 , 我們正朝反方向移動 。\n",
      "2021-11-11 19:35:14 | INFO | hw5.seq2seq | validation loss:\t3.7497\n",
      "2021-11-11 19:35:14 | INFO | hw5.seq2seq | BLEU = 19.50 51.5/27.0/15.1/8.8 (BP = 0.942 ratio = 0.943 hyp_len = 105478 ref_len = 111811)\n",
      "2021-11-11 19:35:14 | INFO | hw5.seq2seq | saved epoch checkpoint: /home/wy/ML_study/chapter5/checkpoints/rnn/checkpoint108.pt\n",
      "2021-11-11 19:35:14 | INFO | hw5.seq2seq | end of epoch 108\n"
     ]
    },
    {
     "data": {
      "text/plain": "HBox(children=(HTML(value='train epoch 109'), FloatProgress(value=0.0, max=791.0), HTML(value='')))",
      "application/vnd.jupyter.widget-view+json": {
       "version_major": 2,
       "version_minor": 0,
       "model_id": "738c64ab6cd94db596c088250fb1c4ec"
      }
     },
     "metadata": {},
     "output_type": "display_data"
    },
    {
     "name": "stdout",
     "output_type": "stream",
     "text": [
      "2021-11-11 19:36:24 | INFO | hw5.seq2seq | training loss: 3.7086\n",
      "2021-11-11 19:36:24 | INFO | hw5.seq2seq | begin validation\n"
     ]
    },
    {
     "data": {
      "text/plain": "HBox(children=(HTML(value='validation'), FloatProgress(value=0.0, max=22.0), HTML(value='')))",
      "application/vnd.jupyter.widget-view+json": {
       "version_major": 2,
       "version_minor": 0,
       "model_id": "d9482873ef7445c1aaaf81ac3f71c907"
      }
     },
     "metadata": {},
     "output_type": "display_data"
    },
    {
     "name": "stdout",
     "output_type": "stream",
     "text": [
      "2021-11-11 19:36:43 | INFO | hw5.seq2seq | example source: and turned up the other way , the people who are retirement age goes up very , very fast , as the baby boomers get to retirement age .\n",
      "2021-11-11 19:36:43 | INFO | hw5.seq2seq | example hypothesis: 另一方面 , 退休年齡增長的人 , 退休年齡的男孩 , 很快就會變成退休年齡 。\n",
      "2021-11-11 19:36:43 | INFO | hw5.seq2seq | example reference: 另一方面 , 隨著嬰兒潮一代逐步步入退休年齡 , 處於退休年齡的人將越來越多 。\n",
      "2021-11-11 19:36:43 | INFO | hw5.seq2seq | validation loss:\t3.7467\n",
      "2021-11-11 19:36:43 | INFO | hw5.seq2seq | BLEU = 19.74 50.2/26.3/14.8/8.6 (BP = 0.974 ratio = 0.975 hyp_len = 108965 ref_len = 111811)\n",
      "2021-11-11 19:36:43 | INFO | hw5.seq2seq | saved epoch checkpoint: /home/wy/ML_study/chapter5/checkpoints/rnn/checkpoint109.pt\n",
      "2021-11-11 19:36:44 | INFO | hw5.seq2seq | end of epoch 109\n"
     ]
    },
    {
     "data": {
      "text/plain": "HBox(children=(HTML(value='train epoch 110'), FloatProgress(value=0.0, max=791.0), HTML(value='')))",
      "application/vnd.jupyter.widget-view+json": {
       "version_major": 2,
       "version_minor": 0,
       "model_id": "a1a76a4f4ddd4aba95be6c9b33eba152"
      }
     },
     "metadata": {},
     "output_type": "display_data"
    },
    {
     "name": "stdout",
     "output_type": "stream",
     "text": [
      "2021-11-11 19:37:48 | INFO | hw5.seq2seq | training loss: 3.7068\n",
      "2021-11-11 19:37:48 | INFO | hw5.seq2seq | begin validation\n"
     ]
    },
    {
     "data": {
      "text/plain": "HBox(children=(HTML(value='validation'), FloatProgress(value=0.0, max=22.0), HTML(value='')))",
      "application/vnd.jupyter.widget-view+json": {
       "version_major": 2,
       "version_minor": 0,
       "model_id": "7669a5e153794b829816291ec6f25b9f"
      }
     },
     "metadata": {},
     "output_type": "display_data"
    },
    {
     "name": "stdout",
     "output_type": "stream",
     "text": [
      "2021-11-11 19:38:05 | INFO | hw5.seq2seq | example source: unlike the balancing pole , i did not include the mathematical model of the glass in the system .\n",
      "2021-11-11 19:38:05 | INFO | hw5.seq2seq | example hypothesis: 不像平衡的玻璃 , 我並沒有包含在系統裡的數學模型 。\n",
      "2021-11-11 19:38:05 | INFO | hw5.seq2seq | example reference: 不像平衡桿 , 我並未把玻璃杯的數學模型加到系統裡\n",
      "2021-11-11 19:38:05 | INFO | hw5.seq2seq | validation loss:\t3.7447\n",
      "2021-11-11 19:38:05 | INFO | hw5.seq2seq | BLEU = 19.48 50.3/26.2/14.7/8.6 (BP = 0.966 ratio = 0.966 hyp_len = 108055 ref_len = 111811)\n",
      "2021-11-11 19:38:05 | INFO | hw5.seq2seq | saved epoch checkpoint: /home/wy/ML_study/chapter5/checkpoints/rnn/checkpoint110.pt\n",
      "2021-11-11 19:38:05 | INFO | hw5.seq2seq | end of epoch 110\n"
     ]
    },
    {
     "data": {
      "text/plain": "HBox(children=(HTML(value='train epoch 111'), FloatProgress(value=0.0, max=791.0), HTML(value='')))",
      "application/vnd.jupyter.widget-view+json": {
       "version_major": 2,
       "version_minor": 0,
       "model_id": "806a9f3cd734424db8a89101949322b2"
      }
     },
     "metadata": {},
     "output_type": "display_data"
    },
    {
     "name": "stdout",
     "output_type": "stream",
     "text": [
      "2021-11-11 19:39:09 | INFO | hw5.seq2seq | training loss: 3.7068\n",
      "2021-11-11 19:39:09 | INFO | hw5.seq2seq | begin validation\n"
     ]
    },
    {
     "data": {
      "text/plain": "HBox(children=(HTML(value='validation'), FloatProgress(value=0.0, max=22.0), HTML(value='')))",
      "application/vnd.jupyter.widget-view+json": {
       "version_major": 2,
       "version_minor": 0,
       "model_id": "69ab008658c14f038d5be6c752b98d03"
      }
     },
     "metadata": {},
     "output_type": "display_data"
    },
    {
     "name": "stdout",
     "output_type": "stream",
     "text": [
      "2021-11-11 19:39:25 | INFO | hw5.seq2seq | example source: the report was titled , \" india: the story you never wanted to hear . \"\n",
      "2021-11-11 19:39:25 | INFO | hw5.seq2seq | example hypothesis: 報告被稱為: 「 印度:你從未想聽過的 。 」\n",
      "2021-11-11 19:39:25 | INFO | hw5.seq2seq | example reference: 新聞的標題是 「 印度:你絕不會想聽的故事 」 。\n",
      "2021-11-11 19:39:25 | INFO | hw5.seq2seq | validation loss:\t3.7484\n",
      "2021-11-11 19:39:25 | INFO | hw5.seq2seq | BLEU = 19.34 51.6/27.0/15.1/8.9 (BP = 0.931 ratio = 0.933 hyp_len = 104330 ref_len = 111811)\n",
      "2021-11-11 19:39:26 | INFO | hw5.seq2seq | saved epoch checkpoint: /home/wy/ML_study/chapter5/checkpoints/rnn/checkpoint111.pt\n",
      "2021-11-11 19:39:26 | INFO | hw5.seq2seq | end of epoch 111\n"
     ]
    },
    {
     "data": {
      "text/plain": "HBox(children=(HTML(value='train epoch 112'), FloatProgress(value=0.0, max=791.0), HTML(value='')))",
      "application/vnd.jupyter.widget-view+json": {
       "version_major": 2,
       "version_minor": 0,
       "model_id": "d49c017a3fbd4cbda0d206fe77aaf979"
      }
     },
     "metadata": {},
     "output_type": "display_data"
    },
    {
     "name": "stdout",
     "output_type": "stream",
     "text": [
      "2021-11-11 19:40:30 | INFO | hw5.seq2seq | training loss: 3.7051\n",
      "2021-11-11 19:40:30 | INFO | hw5.seq2seq | begin validation\n"
     ]
    },
    {
     "data": {
      "text/plain": "HBox(children=(HTML(value='validation'), FloatProgress(value=0.0, max=22.0), HTML(value='')))",
      "application/vnd.jupyter.widget-view+json": {
       "version_major": 2,
       "version_minor": 0,
       "model_id": "37c44e6efe52462e8c4ad28a4e931833"
      }
     },
     "metadata": {},
     "output_type": "display_data"
    },
    {
     "name": "stdout",
     "output_type": "stream",
     "text": [
      "2021-11-11 19:40:48 | INFO | hw5.seq2seq | example source: and they've thought , \" oh , what a horrible religion that is , which ordains something like that . \"\n",
      "2021-11-11 19:40:48 | INFO | hw5.seq2seq | example hypothesis: 他們想: 「 喔 , 真是可怕的宗教 , 可怕的宗教 , 像這樣 。 」\n",
      "2021-11-11 19:40:48 | INFO | hw5.seq2seq | example reference: 西方人會想 , \" 天啊 , 伊斯蘭教太恐怖了 , 居然教教徒們做這種事情\n",
      "2021-11-11 19:40:48 | INFO | hw5.seq2seq | validation loss:\t3.7475\n",
      "2021-11-11 19:40:48 | INFO | hw5.seq2seq | BLEU = 19.72 50.1/26.2/14.7/8.6 (BP = 0.976 ratio = 0.976 hyp_len = 109160 ref_len = 111811)\n",
      "2021-11-11 19:40:49 | INFO | hw5.seq2seq | saved epoch checkpoint: /home/wy/ML_study/chapter5/checkpoints/rnn/checkpoint112.pt\n",
      "2021-11-11 19:40:49 | INFO | hw5.seq2seq | end of epoch 112\n"
     ]
    },
    {
     "data": {
      "text/plain": "HBox(children=(HTML(value='train epoch 113'), FloatProgress(value=0.0, max=791.0), HTML(value='')))",
      "application/vnd.jupyter.widget-view+json": {
       "version_major": 2,
       "version_minor": 0,
       "model_id": "09a5122fd4e34a78ad07a7f6c5ba6112"
      }
     },
     "metadata": {},
     "output_type": "display_data"
    },
    {
     "name": "stdout",
     "output_type": "stream",
     "text": [
      "2021-11-11 19:41:52 | INFO | hw5.seq2seq | training loss: 3.7035\n",
      "2021-11-11 19:41:52 | INFO | hw5.seq2seq | begin validation\n"
     ]
    },
    {
     "data": {
      "text/plain": "HBox(children=(HTML(value='validation'), FloatProgress(value=0.0, max=22.0), HTML(value='')))",
      "application/vnd.jupyter.widget-view+json": {
       "version_major": 2,
       "version_minor": 0,
       "model_id": "d79cd54880f3419d9988274507ae9624"
      }
     },
     "metadata": {},
     "output_type": "display_data"
    },
    {
     "name": "stdout",
     "output_type": "stream",
     "text": [
      "2021-11-11 19:42:09 | INFO | hw5.seq2seq | example source: to face those challenges , we need new tools of measurement , new ways of valuing progress .\n",
      "2021-11-11 19:42:09 | INFO | hw5.seq2seq | example hypothesis: 為了面對這些挑戰 , 我們需要新的工具來衡量新方法 , 來衡量新價值的新方法 。\n",
      "2021-11-11 19:42:09 | INFO | hw5.seq2seq | example reference: 要面對這些挑戰 , 我們需要新的尺度工具 , 新的評價機制 。\n",
      "2021-11-11 19:42:09 | INFO | hw5.seq2seq | validation loss:\t3.7496\n",
      "2021-11-11 19:42:09 | INFO | hw5.seq2seq | BLEU = 19.48 50.8/26.5/14.8/8.7 (BP = 0.956 ratio = 0.957 hyp_len = 107014 ref_len = 111811)\n",
      "2021-11-11 19:42:09 | INFO | hw5.seq2seq | saved epoch checkpoint: /home/wy/ML_study/chapter5/checkpoints/rnn/checkpoint113.pt\n",
      "2021-11-11 19:42:10 | INFO | hw5.seq2seq | end of epoch 113\n"
     ]
    },
    {
     "data": {
      "text/plain": "HBox(children=(HTML(value='train epoch 114'), FloatProgress(value=0.0, max=791.0), HTML(value='')))",
      "application/vnd.jupyter.widget-view+json": {
       "version_major": 2,
       "version_minor": 0,
       "model_id": "059d9d297507470cba8340b7d29541cf"
      }
     },
     "metadata": {},
     "output_type": "display_data"
    },
    {
     "name": "stdout",
     "output_type": "stream",
     "text": [
      "2021-11-11 19:43:14 | INFO | hw5.seq2seq | training loss: 3.7033\n",
      "2021-11-11 19:43:14 | INFO | hw5.seq2seq | begin validation\n"
     ]
    },
    {
     "data": {
      "text/plain": "HBox(children=(HTML(value='validation'), FloatProgress(value=0.0, max=22.0), HTML(value='')))",
      "application/vnd.jupyter.widget-view+json": {
       "version_major": 2,
       "version_minor": 0,
       "model_id": "ff25d1edcbe24fe4bb40dc7ede9d4890"
      }
     },
     "metadata": {},
     "output_type": "display_data"
    },
    {
     "name": "stdout",
     "output_type": "stream",
     "text": [
      "2021-11-11 19:43:30 | INFO | hw5.seq2seq | example source: try and build a political settlement first .\n",
      "2021-11-11 19:43:30 | INFO | hw5.seq2seq | example hypothesis: 試著建立一個政策制度 。\n",
      "2021-11-11 19:43:30 | INFO | hw5.seq2seq | example reference: 即應該先試著從政治角度解決 。\n",
      "2021-11-11 19:43:30 | INFO | hw5.seq2seq | validation loss:\t3.7488\n",
      "2021-11-11 19:43:30 | INFO | hw5.seq2seq | BLEU = 19.53 49.4/25.6/14.2/8.3 (BP = 0.994 ratio = 0.994 hyp_len = 111095 ref_len = 111811)\n",
      "2021-11-11 19:43:31 | INFO | hw5.seq2seq | saved epoch checkpoint: /home/wy/ML_study/chapter5/checkpoints/rnn/checkpoint114.pt\n",
      "2021-11-11 19:43:31 | INFO | hw5.seq2seq | end of epoch 114\n"
     ]
    },
    {
     "data": {
      "text/plain": "HBox(children=(HTML(value='train epoch 115'), FloatProgress(value=0.0, max=791.0), HTML(value='')))",
      "application/vnd.jupyter.widget-view+json": {
       "version_major": 2,
       "version_minor": 0,
       "model_id": "53e98d9cab4941008c659679d8214290"
      }
     },
     "metadata": {},
     "output_type": "display_data"
    },
    {
     "name": "stdout",
     "output_type": "stream",
     "text": [
      "2021-11-11 19:44:35 | INFO | hw5.seq2seq | training loss: 3.7008\n",
      "2021-11-11 19:44:35 | INFO | hw5.seq2seq | begin validation\n"
     ]
    },
    {
     "data": {
      "text/plain": "HBox(children=(HTML(value='validation'), FloatProgress(value=0.0, max=22.0), HTML(value='')))",
      "application/vnd.jupyter.widget-view+json": {
       "version_major": 2,
       "version_minor": 0,
       "model_id": "8474e804ec804ae1bb45a394072b82cc"
      }
     },
     "metadata": {},
     "output_type": "display_data"
    },
    {
     "name": "stdout",
     "output_type": "stream",
     "text": [
      "2021-11-11 19:44:52 | INFO | hw5.seq2seq | example source: those endocannabinoids travel backward to influence the sending neuron— essentially giving it feedback from the receiving neuron .\n",
      "2021-11-11 19:44:52 | INFO | hw5.seq2seq | example hypothesis: 這些突破性會導致神經元產生回饋 , 透過接收神經元的回饋 。\n",
      "2021-11-11 19:44:52 | INFO | hw5.seq2seq | example reference: 那些內源性大麻素會反向移動 , 去影響到發送訊息的神經元基本上 , 是給它來自接收神經元的回饋資訊 。\n",
      "2021-11-11 19:44:52 | INFO | hw5.seq2seq | validation loss:\t3.7487\n",
      "2021-11-11 19:44:52 | INFO | hw5.seq2seq | BLEU = 19.42 51.6/27.0/15.1/8.8 (BP = 0.936 ratio = 0.938 hyp_len = 104872 ref_len = 111811)\n",
      "2021-11-11 19:44:52 | INFO | hw5.seq2seq | saved epoch checkpoint: /home/wy/ML_study/chapter5/checkpoints/rnn/checkpoint115.pt\n",
      "2021-11-11 19:44:52 | INFO | hw5.seq2seq | end of epoch 115\n"
     ]
    },
    {
     "data": {
      "text/plain": "HBox(children=(HTML(value='train epoch 116'), FloatProgress(value=0.0, max=791.0), HTML(value='')))",
      "application/vnd.jupyter.widget-view+json": {
       "version_major": 2,
       "version_minor": 0,
       "model_id": "ecf42340d8a741bbb9236de9684d4813"
      }
     },
     "metadata": {},
     "output_type": "display_data"
    },
    {
     "name": "stdout",
     "output_type": "stream",
     "text": [
      "2021-11-11 19:45:57 | INFO | hw5.seq2seq | training loss: 3.7016\n",
      "2021-11-11 19:45:57 | INFO | hw5.seq2seq | begin validation\n"
     ]
    },
    {
     "data": {
      "text/plain": "HBox(children=(HTML(value='validation'), FloatProgress(value=0.0, max=22.0), HTML(value='')))",
      "application/vnd.jupyter.widget-view+json": {
       "version_major": 2,
       "version_minor": 0,
       "model_id": "2f1461ab48784bf58ca1f3fbc818ec8b"
      }
     },
     "metadata": {},
     "output_type": "display_data"
    },
    {
     "name": "stdout",
     "output_type": "stream",
     "text": [
      "2021-11-11 19:46:13 | INFO | hw5.seq2seq | example source: this one disguises itself as floating algae .\n",
      "2021-11-11 19:46:13 | INFO | hw5.seq2seq | example hypothesis: 牠會自己漂浮著藻類 。\n",
      "2021-11-11 19:46:13 | INFO | hw5.seq2seq | example reference: 這一只將自己偽裝成浮動的海藻 。\n",
      "2021-11-11 19:46:13 | INFO | hw5.seq2seq | validation loss:\t3.7490\n",
      "2021-11-11 19:46:13 | INFO | hw5.seq2seq | BLEU = 19.71 50.3/26.3/14.8/8.7 (BP = 0.972 ratio = 0.973 hyp_len = 108752 ref_len = 111811)\n",
      "2021-11-11 19:46:14 | INFO | hw5.seq2seq | saved epoch checkpoint: /home/wy/ML_study/chapter5/checkpoints/rnn/checkpoint116.pt\n",
      "2021-11-11 19:46:14 | INFO | hw5.seq2seq | end of epoch 116\n"
     ]
    },
    {
     "data": {
      "text/plain": "HBox(children=(HTML(value='train epoch 117'), FloatProgress(value=0.0, max=791.0), HTML(value='')))",
      "application/vnd.jupyter.widget-view+json": {
       "version_major": 2,
       "version_minor": 0,
       "model_id": "2d582da906c24da7bbe5d8405917822f"
      }
     },
     "metadata": {},
     "output_type": "display_data"
    },
    {
     "name": "stdout",
     "output_type": "stream",
     "text": [
      "2021-11-11 19:47:23 | INFO | hw5.seq2seq | training loss: 3.7024\n",
      "2021-11-11 19:47:23 | INFO | hw5.seq2seq | begin validation\n"
     ]
    },
    {
     "data": {
      "text/plain": "HBox(children=(HTML(value='validation'), FloatProgress(value=0.0, max=22.0), HTML(value='')))",
      "application/vnd.jupyter.widget-view+json": {
       "version_major": 2,
       "version_minor": 0,
       "model_id": "d0e05904b43e4e76aa808dfec72208d9"
      }
     },
     "metadata": {},
     "output_type": "display_data"
    },
    {
     "name": "stdout",
     "output_type": "stream",
     "text": [
      "2021-11-11 19:47:43 | INFO | hw5.seq2seq | example source: these are all things that ended up not making it into the final machine .\n",
      "2021-11-11 19:47:43 | INFO | hw5.seq2seq | example hypothesis: 這些都是最終的成果 , 而不是最終的機器 。\n",
      "2021-11-11 19:47:43 | INFO | hw5.seq2seq | example reference: 要順利完成這台裝置必須要取捨一些東西\n",
      "2021-11-11 19:47:43 | INFO | hw5.seq2seq | validation loss:\t3.7463\n",
      "2021-11-11 19:47:43 | INFO | hw5.seq2seq | BLEU = 19.82 50.2/26.2/14.6/8.5 (BP = 0.986 ratio = 0.986 hyp_len = 110237 ref_len = 111811)\n",
      "2021-11-11 19:47:43 | INFO | hw5.seq2seq | saved epoch checkpoint: /home/wy/ML_study/chapter5/checkpoints/rnn/checkpoint117.pt\n",
      "2021-11-11 19:47:44 | INFO | hw5.seq2seq | end of epoch 117\n"
     ]
    },
    {
     "data": {
      "text/plain": "HBox(children=(HTML(value='train epoch 118'), FloatProgress(value=0.0, max=791.0), HTML(value='')))",
      "application/vnd.jupyter.widget-view+json": {
       "version_major": 2,
       "version_minor": 0,
       "model_id": "0b662f0e4c6a4b8994b93350f6c0a7cd"
      }
     },
     "metadata": {},
     "output_type": "display_data"
    },
    {
     "name": "stdout",
     "output_type": "stream",
     "text": [
      "2021-11-11 19:48:47 | INFO | hw5.seq2seq | training loss: 3.6997\n",
      "2021-11-11 19:48:47 | INFO | hw5.seq2seq | begin validation\n"
     ]
    },
    {
     "data": {
      "text/plain": "HBox(children=(HTML(value='validation'), FloatProgress(value=0.0, max=22.0), HTML(value='')))",
      "application/vnd.jupyter.widget-view+json": {
       "version_major": 2,
       "version_minor": 0,
       "model_id": "1ed73e18a9284e9d897cfb0d78e0b3d6"
      }
     },
     "metadata": {},
     "output_type": "display_data"
    },
    {
     "name": "stdout",
     "output_type": "stream",
     "text": [
      "2021-11-11 19:49:05 | INFO | hw5.seq2seq | example source: well , what did i do when i was a kid ?\n",
      "2021-11-11 19:49:05 | INFO | hw5.seq2seq | example hypothesis: 小時候 , 我做什麼呢 ?\n",
      "2021-11-11 19:49:05 | INFO | hw5.seq2seq | example reference: 那麼我小時候都在做什麼呢 ?\n",
      "2021-11-11 19:49:05 | INFO | hw5.seq2seq | validation loss:\t3.7451\n",
      "2021-11-11 19:49:05 | INFO | hw5.seq2seq | BLEU = 19.56 50.7/26.5/14.8/8.7 (BP = 0.959 ratio = 0.960 hyp_len = 107346 ref_len = 111811)\n",
      "2021-11-11 19:49:05 | INFO | hw5.seq2seq | saved epoch checkpoint: /home/wy/ML_study/chapter5/checkpoints/rnn/checkpoint118.pt\n",
      "2021-11-11 19:49:05 | INFO | hw5.seq2seq | end of epoch 118\n"
     ]
    },
    {
     "data": {
      "text/plain": "HBox(children=(HTML(value='train epoch 119'), FloatProgress(value=0.0, max=791.0), HTML(value='')))",
      "application/vnd.jupyter.widget-view+json": {
       "version_major": 2,
       "version_minor": 0,
       "model_id": "a0b37443e9324438bbf95592d48d7447"
      }
     },
     "metadata": {},
     "output_type": "display_data"
    },
    {
     "name": "stdout",
     "output_type": "stream",
     "text": [
      "2021-11-11 19:50:09 | INFO | hw5.seq2seq | training loss: 3.6994\n",
      "2021-11-11 19:50:09 | INFO | hw5.seq2seq | begin validation\n"
     ]
    },
    {
     "data": {
      "text/plain": "HBox(children=(HTML(value='validation'), FloatProgress(value=0.0, max=22.0), HTML(value='')))",
      "application/vnd.jupyter.widget-view+json": {
       "version_major": 2,
       "version_minor": 0,
       "model_id": "02109aa14cb94f23bc3ac44488477fe1"
      }
     },
     "metadata": {},
     "output_type": "display_data"
    },
    {
     "name": "stdout",
     "output_type": "stream",
     "text": [
      "2021-11-11 19:50:26 | INFO | hw5.seq2seq | example source: stereotypes have been broken .\n",
      "2021-11-11 19:50:26 | INFO | hw5.seq2seq | example hypothesis: 刻板印象已經被破壞了 。\n",
      "2021-11-11 19:50:26 | INFO | hw5.seq2seq | example reference: 已向外蔓延 。 刻板印象已破除 ,\n",
      "2021-11-11 19:50:26 | INFO | hw5.seq2seq | validation loss:\t3.7491\n",
      "2021-11-11 19:50:26 | INFO | hw5.seq2seq | BLEU = 19.64 51.1/26.7/15.0/8.8 (BP = 0.952 ratio = 0.953 hyp_len = 106606 ref_len = 111811)\n",
      "2021-11-11 19:50:27 | INFO | hw5.seq2seq | saved epoch checkpoint: /home/wy/ML_study/chapter5/checkpoints/rnn/checkpoint119.pt\n",
      "2021-11-11 19:50:27 | INFO | hw5.seq2seq | end of epoch 119\n"
     ]
    },
    {
     "data": {
      "text/plain": "HBox(children=(HTML(value='train epoch 120'), FloatProgress(value=0.0, max=791.0), HTML(value='')))",
      "application/vnd.jupyter.widget-view+json": {
       "version_major": 2,
       "version_minor": 0,
       "model_id": "711f3df2aa554a648f13d124b412e297"
      }
     },
     "metadata": {},
     "output_type": "display_data"
    },
    {
     "name": "stdout",
     "output_type": "stream",
     "text": [
      "2021-11-11 19:51:30 | INFO | hw5.seq2seq | training loss: 3.6972\n",
      "2021-11-11 19:51:30 | INFO | hw5.seq2seq | begin validation\n"
     ]
    },
    {
     "data": {
      "text/plain": "HBox(children=(HTML(value='validation'), FloatProgress(value=0.0, max=22.0), HTML(value='')))",
      "application/vnd.jupyter.widget-view+json": {
       "version_major": 2,
       "version_minor": 0,
       "model_id": "53cb326a0c194cd087adb3f9ee687d2f"
      }
     },
     "metadata": {},
     "output_type": "display_data"
    },
    {
     "name": "stdout",
     "output_type": "stream",
     "text": [
      "2021-11-11 19:51:47 | INFO | hw5.seq2seq | example source: it's really just for the sort of joy of its own triviality .\n",
      "2021-11-11 19:51:47 | INFO | hw5.seq2seq | example hypothesis: 它其實只是為了喜悅自己的喜悅 。\n",
      "2021-11-11 19:51:47 | INFO | hw5.seq2seq | example reference: 真的只是爲了它本身細小而繁瑣的樂趣\n",
      "2021-11-11 19:51:47 | INFO | hw5.seq2seq | validation loss:\t3.7461\n",
      "2021-11-11 19:51:47 | INFO | hw5.seq2seq | BLEU = 19.41 51.6/27.0/15.1/8.8 (BP = 0.936 ratio = 0.938 hyp_len = 104839 ref_len = 111811)\n",
      "2021-11-11 19:51:47 | INFO | hw5.seq2seq | saved epoch checkpoint: /home/wy/ML_study/chapter5/checkpoints/rnn/checkpoint120.pt\n",
      "2021-11-11 19:51:47 | INFO | hw5.seq2seq | end of epoch 120\n"
     ]
    },
    {
     "data": {
      "text/plain": "HBox(children=(HTML(value='train epoch 121'), FloatProgress(value=0.0, max=791.0), HTML(value='')))",
      "application/vnd.jupyter.widget-view+json": {
       "version_major": 2,
       "version_minor": 0,
       "model_id": "5138dd7336044825a59cacf352f1d621"
      }
     },
     "metadata": {},
     "output_type": "display_data"
    },
    {
     "name": "stdout",
     "output_type": "stream",
     "text": [
      "2021-11-11 19:52:51 | INFO | hw5.seq2seq | training loss: 3.7000\n",
      "2021-11-11 19:52:51 | INFO | hw5.seq2seq | begin validation\n"
     ]
    },
    {
     "data": {
      "text/plain": "HBox(children=(HTML(value='validation'), FloatProgress(value=0.0, max=22.0), HTML(value='')))",
      "application/vnd.jupyter.widget-view+json": {
       "version_major": 2,
       "version_minor": 0,
       "model_id": "06b7610083ff4333bbaddfb8ab9987f2"
      }
     },
     "metadata": {},
     "output_type": "display_data"
    },
    {
     "name": "stdout",
     "output_type": "stream",
     "text": [
      "2021-11-11 19:53:08 | INFO | hw5.seq2seq | example source: normally it's sort of cordoned off when it's in a museum .\n",
      "2021-11-11 19:53:08 | INFO | hw5.seq2seq | example hypothesis: 一般來說 , 在博物館裡 , 它是一塊博物館 。\n",
      "2021-11-11 19:53:08 | INFO | hw5.seq2seq | example reference: 一般情況下 , 在博物館裏都是放在封閉的展櫃中 。\n",
      "2021-11-11 19:53:08 | INFO | hw5.seq2seq | validation loss:\t3.7439\n",
      "2021-11-11 19:53:08 | INFO | hw5.seq2seq | BLEU = 19.64 50.5/26.4/14.8/8.7 (BP = 0.965 ratio = 0.965 hyp_len = 107943 ref_len = 111811)\n",
      "2021-11-11 19:53:08 | INFO | hw5.seq2seq | saved epoch checkpoint: /home/wy/ML_study/chapter5/checkpoints/rnn/checkpoint121.pt\n",
      "2021-11-11 19:53:08 | INFO | hw5.seq2seq | end of epoch 121\n"
     ]
    },
    {
     "data": {
      "text/plain": "HBox(children=(HTML(value='train epoch 122'), FloatProgress(value=0.0, max=791.0), HTML(value='')))",
      "application/vnd.jupyter.widget-view+json": {
       "version_major": 2,
       "version_minor": 0,
       "model_id": "20254584eeda4387b2bf2a35f82ab672"
      }
     },
     "metadata": {},
     "output_type": "display_data"
    },
    {
     "name": "stdout",
     "output_type": "stream",
     "text": [
      "2021-11-11 19:54:12 | INFO | hw5.seq2seq | training loss: 3.6983\n",
      "2021-11-11 19:54:12 | INFO | hw5.seq2seq | begin validation\n"
     ]
    },
    {
     "data": {
      "text/plain": "HBox(children=(HTML(value='validation'), FloatProgress(value=0.0, max=22.0), HTML(value='')))",
      "application/vnd.jupyter.widget-view+json": {
       "version_major": 2,
       "version_minor": 0,
       "model_id": "b281d80ca46f4f01a676e95a5c31b86c"
      }
     },
     "metadata": {},
     "output_type": "display_data"
    },
    {
     "name": "stdout",
     "output_type": "stream",
     "text": [
      "2021-11-11 19:54:29 | INFO | hw5.seq2seq | example source: but humans weren't always like this .\n",
      "2021-11-11 19:54:29 | INFO | hw5.seq2seq | example hypothesis: 但人類並不總是如此 。\n",
      "2021-11-11 19:54:29 | INFO | hw5.seq2seq | example reference: 但人類並不一直是這樣的\n",
      "2021-11-11 19:54:29 | INFO | hw5.seq2seq | validation loss:\t3.7449\n",
      "2021-11-11 19:54:29 | INFO | hw5.seq2seq | BLEU = 19.72 50.3/26.3/14.8/8.7 (BP = 0.970 ratio = 0.971 hyp_len = 108525 ref_len = 111811)\n",
      "2021-11-11 19:54:30 | INFO | hw5.seq2seq | saved epoch checkpoint: /home/wy/ML_study/chapter5/checkpoints/rnn/checkpoint122.pt\n",
      "2021-11-11 19:54:30 | INFO | hw5.seq2seq | end of epoch 122\n"
     ]
    },
    {
     "data": {
      "text/plain": "HBox(children=(HTML(value='train epoch 123'), FloatProgress(value=0.0, max=791.0), HTML(value='')))",
      "application/vnd.jupyter.widget-view+json": {
       "version_major": 2,
       "version_minor": 0,
       "model_id": "0a65fd61ea2f4ed782f507954c22674b"
      }
     },
     "metadata": {},
     "output_type": "display_data"
    },
    {
     "name": "stdout",
     "output_type": "stream",
     "text": [
      "2021-11-11 19:55:35 | INFO | hw5.seq2seq | training loss: 3.6969\n",
      "2021-11-11 19:55:35 | INFO | hw5.seq2seq | begin validation\n"
     ]
    },
    {
     "data": {
      "text/plain": "HBox(children=(HTML(value='validation'), FloatProgress(value=0.0, max=22.0), HTML(value='')))",
      "application/vnd.jupyter.widget-view+json": {
       "version_major": 2,
       "version_minor": 0,
       "model_id": "5bc9c30ca91c42f6a75036132670fe96"
      }
     },
     "metadata": {},
     "output_type": "display_data"
    },
    {
     "name": "stdout",
     "output_type": "stream",
     "text": [
      "2021-11-11 19:55:51 | INFO | hw5.seq2seq | example source: the story , of course , is the rise of china .\n",
      "2021-11-11 19:55:51 | INFO | hw5.seq2seq | example hypothesis: 當然 , 這是中國的崛起 。\n",
      "2021-11-11 19:55:51 | INFO | hw5.seq2seq | example reference: 當然 , 這個故事就是中國的崛起 。\n",
      "2021-11-11 19:55:51 | INFO | hw5.seq2seq | validation loss:\t3.7551\n",
      "2021-11-11 19:55:51 | INFO | hw5.seq2seq | BLEU = 19.48 52.2/27.5/15.5/9.2 (BP = 0.915 ratio = 0.918 hyp_len = 102658 ref_len = 111811)\n",
      "2021-11-11 19:55:52 | INFO | hw5.seq2seq | saved epoch checkpoint: /home/wy/ML_study/chapter5/checkpoints/rnn/checkpoint123.pt\n",
      "2021-11-11 19:55:52 | INFO | hw5.seq2seq | end of epoch 123\n"
     ]
    },
    {
     "data": {
      "text/plain": "HBox(children=(HTML(value='train epoch 124'), FloatProgress(value=0.0, max=791.0), HTML(value='')))",
      "application/vnd.jupyter.widget-view+json": {
       "version_major": 2,
       "version_minor": 0,
       "model_id": "34c01cffbb2e476a8b35585dc0d77bb9"
      }
     },
     "metadata": {},
     "output_type": "display_data"
    },
    {
     "name": "stdout",
     "output_type": "stream",
     "text": [
      "2021-11-11 19:56:56 | INFO | hw5.seq2seq | training loss: 3.6964\n",
      "2021-11-11 19:56:56 | INFO | hw5.seq2seq | begin validation\n"
     ]
    },
    {
     "data": {
      "text/plain": "HBox(children=(HTML(value='validation'), FloatProgress(value=0.0, max=22.0), HTML(value='')))",
      "application/vnd.jupyter.widget-view+json": {
       "version_major": 2,
       "version_minor": 0,
       "model_id": "e14d0cfb9090412a94eccc155ba3710f"
      }
     },
     "metadata": {},
     "output_type": "display_data"
    },
    {
     "name": "stdout",
     "output_type": "stream",
     "text": [
      "2021-11-11 19:57:14 | INFO | hw5.seq2seq | example source: they wouldn't have to come as asylum seekers to the borders of the united states of america .\n",
      "2021-11-11 19:57:14 | INFO | hw5.seq2seq | example hypothesis: 他們不需要成為美國的庇護者 。\n",
      "2021-11-11 19:57:14 | INFO | hw5.seq2seq | example reference: 他們就不用像尋求政治避難者一樣來到美國的邊境了 。\n",
      "2021-11-11 19:57:14 | INFO | hw5.seq2seq | validation loss:\t3.7415\n",
      "2021-11-11 19:57:14 | INFO | hw5.seq2seq | BLEU = 19.46 50.7/26.5/14.8/8.6 (BP = 0.956 ratio = 0.957 hyp_len = 106960 ref_len = 111811)\n",
      "2021-11-11 19:57:14 | INFO | hw5.seq2seq | saved epoch checkpoint: /home/wy/ML_study/chapter5/checkpoints/rnn/checkpoint124.pt\n",
      "2021-11-11 19:57:15 | INFO | hw5.seq2seq | end of epoch 124\n"
     ]
    },
    {
     "data": {
      "text/plain": "HBox(children=(HTML(value='train epoch 125'), FloatProgress(value=0.0, max=791.0), HTML(value='')))",
      "application/vnd.jupyter.widget-view+json": {
       "version_major": 2,
       "version_minor": 0,
       "model_id": "154a693048c74238b6271ba838034c0c"
      }
     },
     "metadata": {},
     "output_type": "display_data"
    },
    {
     "name": "stdout",
     "output_type": "stream",
     "text": [
      "2021-11-11 19:58:25 | INFO | hw5.seq2seq | training loss: 3.6953\n",
      "2021-11-11 19:58:25 | INFO | hw5.seq2seq | begin validation\n"
     ]
    },
    {
     "data": {
      "text/plain": "HBox(children=(HTML(value='validation'), FloatProgress(value=0.0, max=22.0), HTML(value='')))",
      "application/vnd.jupyter.widget-view+json": {
       "version_major": 2,
       "version_minor": 0,
       "model_id": "9e380fea5c374607a711b6cbafe7fee7"
      }
     },
     "metadata": {},
     "output_type": "display_data"
    },
    {
     "name": "stdout",
     "output_type": "stream",
     "text": [
      "2021-11-11 19:58:44 | INFO | hw5.seq2seq | example source: and this means we've just cracked the conundrum of safety and weight .\n",
      "2021-11-11 19:58:44 | INFO | hw5.seq2seq | example hypothesis: 這意味著我們已經破壞了安全和重量 。\n",
      "2021-11-11 19:58:44 | INFO | hw5.seq2seq | example reference: 這意味著我們剛剛破獲了安全和重量的難題 。\n",
      "2021-11-11 19:58:44 | INFO | hw5.seq2seq | validation loss:\t3.7462\n",
      "2021-11-11 19:58:44 | INFO | hw5.seq2seq | BLEU = 19.59 51.9/27.3/15.3/9.0 (BP = 0.932 ratio = 0.934 hyp_len = 104408 ref_len = 111811)\n",
      "2021-11-11 19:58:44 | INFO | hw5.seq2seq | saved epoch checkpoint: /home/wy/ML_study/chapter5/checkpoints/rnn/checkpoint125.pt\n",
      "2021-11-11 19:58:44 | INFO | hw5.seq2seq | end of epoch 125\n"
     ]
    },
    {
     "data": {
      "text/plain": "HBox(children=(HTML(value='train epoch 126'), FloatProgress(value=0.0, max=791.0), HTML(value='')))",
      "application/vnd.jupyter.widget-view+json": {
       "version_major": 2,
       "version_minor": 0,
       "model_id": "765a25f0519c4348b1903efc6e0efb3e"
      }
     },
     "metadata": {},
     "output_type": "display_data"
    },
    {
     "name": "stdout",
     "output_type": "stream",
     "text": [
      "2021-11-11 19:59:48 | INFO | hw5.seq2seq | training loss: 3.6947\n",
      "2021-11-11 19:59:48 | INFO | hw5.seq2seq | begin validation\n"
     ]
    },
    {
     "data": {
      "text/plain": "HBox(children=(HTML(value='validation'), FloatProgress(value=0.0, max=22.0), HTML(value='')))",
      "application/vnd.jupyter.widget-view+json": {
       "version_major": 2,
       "version_minor": 0,
       "model_id": "249ad9ea07ff4c5987bdc91e72d9a2f8"
      }
     },
     "metadata": {},
     "output_type": "display_data"
    },
    {
     "name": "stdout",
     "output_type": "stream",
     "text": [
      "2021-11-11 20:00:05 | INFO | hw5.seq2seq | example source: and with the help of modern science , cotton might soon be softer , stronger , and more resilient than ever as researchers investigate how to optimize its growth based on nutrients , weather conditions , and genetics .\n",
      "2021-11-11 20:00:05 | INFO | hw5.seq2seq | example hypothesis: 在現代科學的研究中 , 棉花很快就會變得更強 , 更強韌 , 且比任何研究人員調查要如何優化它成長的基礎 , 包括養分、天氣 , 以及基因 。\n",
      "2021-11-11 20:00:05 | INFO | hw5.seq2seq | example reference: 在現代科學的協助下 , 棉可能很快就會變得比過去更軟、更堅固 , 且更有彈性 , 因為研究者正在根據營養物、氣候條件 , 以及遺傳學 , 探究如何將棉的生成做到最佳化 。\n",
      "2021-11-11 20:00:05 | INFO | hw5.seq2seq | validation loss:\t3.7438\n",
      "2021-11-11 20:00:05 | INFO | hw5.seq2seq | BLEU = 19.43 51.0/26.7/14.9/8.7 (BP = 0.949 ratio = 0.951 hyp_len = 106286 ref_len = 111811)\n",
      "2021-11-11 20:00:05 | INFO | hw5.seq2seq | saved epoch checkpoint: /home/wy/ML_study/chapter5/checkpoints/rnn/checkpoint126.pt\n",
      "2021-11-11 20:00:05 | INFO | hw5.seq2seq | end of epoch 126\n"
     ]
    },
    {
     "data": {
      "text/plain": "HBox(children=(HTML(value='train epoch 127'), FloatProgress(value=0.0, max=791.0), HTML(value='')))",
      "application/vnd.jupyter.widget-view+json": {
       "version_major": 2,
       "version_minor": 0,
       "model_id": "fc05cc04f4c74fde8282efa2e63830a4"
      }
     },
     "metadata": {},
     "output_type": "display_data"
    },
    {
     "name": "stdout",
     "output_type": "stream",
     "text": [
      "2021-11-11 20:01:08 | INFO | hw5.seq2seq | training loss: 3.6951\n",
      "2021-11-11 20:01:08 | INFO | hw5.seq2seq | begin validation\n"
     ]
    },
    {
     "data": {
      "text/plain": "HBox(children=(HTML(value='validation'), FloatProgress(value=0.0, max=22.0), HTML(value='')))",
      "application/vnd.jupyter.widget-view+json": {
       "version_major": 2,
       "version_minor": 0,
       "model_id": "2417af4d319945b8bd8764246847e578"
      }
     },
     "metadata": {},
     "output_type": "display_data"
    },
    {
     "name": "stdout",
     "output_type": "stream",
     "text": [
      "2021-11-11 20:01:25 | INFO | hw5.seq2seq | example source: well , the problem is that we've got very complicated forces in the climate system .\n",
      "2021-11-11 20:01:25 | INFO | hw5.seq2seq | example hypothesis: 問題是 , 我們在氣候系統中有非常複雜的力量 。\n",
      "2021-11-11 20:01:25 | INFO | hw5.seq2seq | example reference: 嗯 , 問題在於氣候系統裡有很複雜的力量存在 。\n",
      "2021-11-11 20:01:25 | INFO | hw5.seq2seq | validation loss:\t3.7485\n",
      "2021-11-11 20:01:25 | INFO | hw5.seq2seq | BLEU = 19.57 50.2/26.0/14.5/8.5 (BP = 0.978 ratio = 0.978 hyp_len = 109331 ref_len = 111811)\n",
      "2021-11-11 20:01:26 | INFO | hw5.seq2seq | saved epoch checkpoint: /home/wy/ML_study/chapter5/checkpoints/rnn/checkpoint127.pt\n",
      "2021-11-11 20:01:26 | INFO | hw5.seq2seq | end of epoch 127\n"
     ]
    },
    {
     "data": {
      "text/plain": "HBox(children=(HTML(value='train epoch 128'), FloatProgress(value=0.0, max=791.0), HTML(value='')))",
      "application/vnd.jupyter.widget-view+json": {
       "version_major": 2,
       "version_minor": 0,
       "model_id": "6e2563c764244b6f9ec66e8e7ecf95ce"
      }
     },
     "metadata": {},
     "output_type": "display_data"
    },
    {
     "name": "stdout",
     "output_type": "stream",
     "text": [
      "2021-11-11 20:02:30 | INFO | hw5.seq2seq | training loss: 3.6948\n",
      "2021-11-11 20:02:30 | INFO | hw5.seq2seq | begin validation\n"
     ]
    },
    {
     "data": {
      "text/plain": "HBox(children=(HTML(value='validation'), FloatProgress(value=0.0, max=22.0), HTML(value='')))",
      "application/vnd.jupyter.widget-view+json": {
       "version_major": 2,
       "version_minor": 0,
       "model_id": "d935dbe1f93f4d6cb19d78d1763abdf2"
      }
     },
     "metadata": {},
     "output_type": "display_data"
    },
    {
     "name": "stdout",
     "output_type": "stream",
     "text": [
      "2021-11-11 20:02:47 | INFO | hw5.seq2seq | example source: and through the children is usually the way to go .\n",
      "2021-11-11 20:02:47 | INFO | hw5.seq2seq | example hypothesis: 孩子們通常是這樣走的 。\n",
      "2021-11-11 20:02:47 | INFO | hw5.seq2seq | example reference: 最常見的辦法是通過小孩子 。\n",
      "2021-11-11 20:02:47 | INFO | hw5.seq2seq | validation loss:\t3.7438\n",
      "2021-11-11 20:02:47 | INFO | hw5.seq2seq | BLEU = 19.53 50.0/25.9/14.4/8.4 (BP = 0.981 ratio = 0.982 hyp_len = 109747 ref_len = 111811)\n",
      "2021-11-11 20:02:47 | INFO | hw5.seq2seq | saved epoch checkpoint: /home/wy/ML_study/chapter5/checkpoints/rnn/checkpoint128.pt\n",
      "2021-11-11 20:02:47 | INFO | hw5.seq2seq | end of epoch 128\n"
     ]
    },
    {
     "data": {
      "text/plain": "HBox(children=(HTML(value='train epoch 129'), FloatProgress(value=0.0, max=791.0), HTML(value='')))",
      "application/vnd.jupyter.widget-view+json": {
       "version_major": 2,
       "version_minor": 0,
       "model_id": "49826e62523342d7a1774491ffe79141"
      }
     },
     "metadata": {},
     "output_type": "display_data"
    },
    {
     "name": "stdout",
     "output_type": "stream",
     "text": [
      "2021-11-11 20:03:51 | INFO | hw5.seq2seq | training loss: 3.6940\n",
      "2021-11-11 20:03:51 | INFO | hw5.seq2seq | begin validation\n"
     ]
    },
    {
     "data": {
      "text/plain": "HBox(children=(HTML(value='validation'), FloatProgress(value=0.0, max=22.0), HTML(value='')))",
      "application/vnd.jupyter.widget-view+json": {
       "version_major": 2,
       "version_minor": 0,
       "model_id": "13f9fbbbcf4548d281a8e0a16de8c170"
      }
     },
     "metadata": {},
     "output_type": "display_data"
    },
    {
     "name": "stdout",
     "output_type": "stream",
     "text": [
      "2021-11-11 20:04:08 | INFO | hw5.seq2seq | example source: but what i want you to remember is if you want to improve your executive function in some aspect of your life , don't look for quick fixes .\n",
      "2021-11-11 20:04:08 | INFO | hw5.seq2seq | example hypothesis: 但是我想請各位記住 , 如果你想要改善你的執行功能 , 在人生的某個方面 , 不要尋找快速的補充 。\n",
      "2021-11-11 20:04:08 | INFO | hw5.seq2seq | example reference: 但我希望各位記住 , 如果你想要在生活中的某個面向上改善你的執行功能 , 不要走捷徑 。\n",
      "2021-11-11 20:04:08 | INFO | hw5.seq2seq | validation loss:\t3.7441\n",
      "2021-11-11 20:04:08 | INFO | hw5.seq2seq | BLEU = 19.31 52.0/27.2/15.1/8.9 (BP = 0.925 ratio = 0.927 hyp_len = 103687 ref_len = 111811)\n",
      "2021-11-11 20:04:09 | INFO | hw5.seq2seq | saved epoch checkpoint: /home/wy/ML_study/chapter5/checkpoints/rnn/checkpoint129.pt\n",
      "2021-11-11 20:04:09 | INFO | hw5.seq2seq | end of epoch 129\n"
     ]
    },
    {
     "data": {
      "text/plain": "HBox(children=(HTML(value='train epoch 130'), FloatProgress(value=0.0, max=791.0), HTML(value='')))",
      "application/vnd.jupyter.widget-view+json": {
       "version_major": 2,
       "version_minor": 0,
       "model_id": "332411a0cb8c4243b8823796f24ad211"
      }
     },
     "metadata": {},
     "output_type": "display_data"
    },
    {
     "name": "stdout",
     "output_type": "stream",
     "text": [
      "2021-11-11 20:05:12 | INFO | hw5.seq2seq | training loss: 3.6922\n",
      "2021-11-11 20:05:12 | INFO | hw5.seq2seq | begin validation\n"
     ]
    },
    {
     "data": {
      "text/plain": "HBox(children=(HTML(value='validation'), FloatProgress(value=0.0, max=22.0), HTML(value='')))",
      "application/vnd.jupyter.widget-view+json": {
       "version_major": 2,
       "version_minor": 0,
       "model_id": "ebfa0a7a79674d2f999c1f1e7bff3e61"
      }
     },
     "metadata": {},
     "output_type": "display_data"
    },
    {
     "name": "stdout",
     "output_type": "stream",
     "text": [
      "2021-11-11 20:05:28 | INFO | hw5.seq2seq | example source: that would be a waste of energy for a bird that doesn't know when it will get its next meal .\n",
      "2021-11-11 20:05:28 | INFO | hw5.seq2seq | example hypothesis: 那會是一堆免費的廢物給一個鳥類 , 不知道它會在哪裡吃飯 。\n",
      "2021-11-11 20:05:28 | INFO | hw5.seq2seq | example reference: 那會浪費能量 , 對於一隻不知道什麼時候能吃下一頓飯的鳥而言 。\n",
      "2021-11-11 20:05:28 | INFO | hw5.seq2seq | validation loss:\t3.7428\n",
      "2021-11-11 20:05:28 | INFO | hw5.seq2seq | BLEU = 19.63 50.6/26.3/14.7/8.6 (BP = 0.969 ratio = 0.969 hyp_len = 108396 ref_len = 111811)\n",
      "2021-11-11 20:05:29 | INFO | hw5.seq2seq | saved epoch checkpoint: /home/wy/ML_study/chapter5/checkpoints/rnn/checkpoint130.pt\n",
      "2021-11-11 20:05:29 | INFO | hw5.seq2seq | end of epoch 130\n"
     ]
    },
    {
     "data": {
      "text/plain": "HBox(children=(HTML(value='train epoch 131'), FloatProgress(value=0.0, max=791.0), HTML(value='')))",
      "application/vnd.jupyter.widget-view+json": {
       "version_major": 2,
       "version_minor": 0,
       "model_id": "854908b8214747a1ad425928d8d23e37"
      }
     },
     "metadata": {},
     "output_type": "display_data"
    },
    {
     "name": "stdout",
     "output_type": "stream",
     "text": [
      "2021-11-11 20:06:32 | INFO | hw5.seq2seq | training loss: 3.6904\n",
      "2021-11-11 20:06:32 | INFO | hw5.seq2seq | begin validation\n"
     ]
    },
    {
     "data": {
      "text/plain": "HBox(children=(HTML(value='validation'), FloatProgress(value=0.0, max=22.0), HTML(value='')))",
      "application/vnd.jupyter.widget-view+json": {
       "version_major": 2,
       "version_minor": 0,
       "model_id": "99064c71854b4b2e95faf2acda8d8698"
      }
     },
     "metadata": {},
     "output_type": "display_data"
    },
    {
     "name": "stdout",
     "output_type": "stream",
     "text": [
      "2021-11-11 20:06:48 | INFO | hw5.seq2seq | example source: a key notion in those equations is fitness .\n",
      "2021-11-11 20:06:48 | INFO | hw5.seq2seq | example hypothesis: 那些方程式的關鍵概念是適合 。\n",
      "2021-11-11 20:06:48 | INFO | hw5.seq2seq | example reference: 這裏面各個等式中最關鍵的元素是體良 。\n",
      "2021-11-11 20:06:48 | INFO | hw5.seq2seq | validation loss:\t3.7406\n",
      "2021-11-11 20:06:48 | INFO | hw5.seq2seq | BLEU = 19.50 51.0/26.5/14.7/8.6 (BP = 0.958 ratio = 0.959 hyp_len = 107257 ref_len = 111811)\n",
      "2021-11-11 20:06:49 | INFO | hw5.seq2seq | saved epoch checkpoint: /home/wy/ML_study/chapter5/checkpoints/rnn/checkpoint131.pt\n",
      "2021-11-11 20:06:49 | INFO | hw5.seq2seq | end of epoch 131\n"
     ]
    },
    {
     "data": {
      "text/plain": "HBox(children=(HTML(value='train epoch 132'), FloatProgress(value=0.0, max=791.0), HTML(value='')))",
      "application/vnd.jupyter.widget-view+json": {
       "version_major": 2,
       "version_minor": 0,
       "model_id": "fd23026d7df6417f98ac2dfe8466f19e"
      }
     },
     "metadata": {},
     "output_type": "display_data"
    },
    {
     "name": "stdout",
     "output_type": "stream",
     "text": [
      "2021-11-11 20:07:52 | INFO | hw5.seq2seq | training loss: 3.6912\n",
      "2021-11-11 20:07:52 | INFO | hw5.seq2seq | begin validation\n"
     ]
    },
    {
     "data": {
      "text/plain": "HBox(children=(HTML(value='validation'), FloatProgress(value=0.0, max=22.0), HTML(value='')))",
      "application/vnd.jupyter.widget-view+json": {
       "version_major": 2,
       "version_minor": 0,
       "model_id": "bd1afd7d162a4c0fbaa7cee478f35369"
      }
     },
     "metadata": {},
     "output_type": "display_data"
    },
    {
     "name": "stdout",
     "output_type": "stream",
     "text": [
      "2021-11-11 20:08:09 | INFO | hw5.seq2seq | example source: so it was about what i was supposed to be doing .\n",
      "2021-11-11 20:08:09 | INFO | hw5.seq2seq | example hypothesis: 所以這就是我應該要做的事 。\n",
      "2021-11-11 20:08:09 | INFO | hw5.seq2seq | example reference: 所以 , 重點在於我應該要做什麼 。\n",
      "2021-11-11 20:08:09 | INFO | hw5.seq2seq | validation loss:\t3.7397\n",
      "2021-11-11 20:08:09 | INFO | hw5.seq2seq | BLEU = 19.56 50.5/26.2/14.6/8.5 (BP = 0.974 ratio = 0.974 hyp_len = 108915 ref_len = 111811)\n",
      "2021-11-11 20:08:09 | INFO | hw5.seq2seq | saved epoch checkpoint: /home/wy/ML_study/chapter5/checkpoints/rnn/checkpoint132.pt\n",
      "2021-11-11 20:08:09 | INFO | hw5.seq2seq | end of epoch 132\n"
     ]
    },
    {
     "data": {
      "text/plain": "HBox(children=(HTML(value='train epoch 133'), FloatProgress(value=0.0, max=791.0), HTML(value='')))",
      "application/vnd.jupyter.widget-view+json": {
       "version_major": 2,
       "version_minor": 0,
       "model_id": "2887d02bd2f340bf961a57434ab80d8c"
      }
     },
     "metadata": {},
     "output_type": "display_data"
    },
    {
     "name": "stdout",
     "output_type": "stream",
     "text": [
      "2021-11-11 20:09:20 | INFO | hw5.seq2seq | training loss: 3.6909\n",
      "2021-11-11 20:09:20 | INFO | hw5.seq2seq | begin validation\n"
     ]
    },
    {
     "data": {
      "text/plain": "HBox(children=(HTML(value='validation'), FloatProgress(value=0.0, max=22.0), HTML(value='')))",
      "application/vnd.jupyter.widget-view+json": {
       "version_major": 2,
       "version_minor": 0,
       "model_id": "a6bf5b19214249aab8942e00bd7fb690"
      }
     },
     "metadata": {},
     "output_type": "display_data"
    },
    {
     "name": "stdout",
     "output_type": "stream",
     "text": [
      "2021-11-11 20:09:40 | INFO | hw5.seq2seq | example source: if you've been in an mri scanner , it's very much the same , but this one is outfitted in a special way to not just take pictures of your brain , but to also take pictures of active areas of the brain .\n",
      "2021-11-11 20:09:40 | INFO | hw5.seq2seq | example hypothesis: 如果你使用核磁共振掃描器 , 它非常相同 , 但是這張圖片顯示了大腦的特定區域 , 同時也拍攝了大腦的圖片 。\n",
      "2021-11-11 20:09:40 | INFO | hw5.seq2seq | example reference: 如果你有在磁共振影像掃描儀中待過 , 基本上是相同的東西 , 但這一個被裝備成一種特別的方式它不僅能為你的腦部拍照 , 還為腦部的活動區域拍照 。\n",
      "2021-11-11 20:09:40 | INFO | hw5.seq2seq | validation loss:\t3.7456\n",
      "2021-11-11 20:09:40 | INFO | hw5.seq2seq | BLEU = 19.43 51.6/27.0/15.0/8.8 (BP = 0.937 ratio = 0.939 hyp_len = 104963 ref_len = 111811)\n",
      "2021-11-11 20:09:40 | INFO | hw5.seq2seq | saved epoch checkpoint: /home/wy/ML_study/chapter5/checkpoints/rnn/checkpoint133.pt\n",
      "2021-11-11 20:09:40 | INFO | hw5.seq2seq | end of epoch 133\n"
     ]
    },
    {
     "data": {
      "text/plain": "HBox(children=(HTML(value='train epoch 134'), FloatProgress(value=0.0, max=791.0), HTML(value='')))",
      "application/vnd.jupyter.widget-view+json": {
       "version_major": 2,
       "version_minor": 0,
       "model_id": "350ad7dd3f3841ed8d78d5d8b67ebc61"
      }
     },
     "metadata": {},
     "output_type": "display_data"
    },
    {
     "name": "stdout",
     "output_type": "stream",
     "text": [
      "2021-11-11 20:10:44 | INFO | hw5.seq2seq | training loss: 3.6908\n",
      "2021-11-11 20:10:44 | INFO | hw5.seq2seq | begin validation\n"
     ]
    },
    {
     "data": {
      "text/plain": "HBox(children=(HTML(value='validation'), FloatProgress(value=0.0, max=22.0), HTML(value='')))",
      "application/vnd.jupyter.widget-view+json": {
       "version_major": 2,
       "version_minor": 0,
       "model_id": "9753c08ae8904e5aa845893658392252"
      }
     },
     "metadata": {},
     "output_type": "display_data"
    },
    {
     "name": "stdout",
     "output_type": "stream",
     "text": [
      "2021-11-11 20:11:02 | INFO | hw5.seq2seq | example source: second one , without sounding overly zen , and this is a quote from the buddha: \" finding yourself in the margins , looking to the edges of things , is often a really interesting place to start . \"\n",
      "2021-11-11 20:11:02 | INFO | hw5.seq2seq | example hypothesis: 第二個 , 沒聽過這句話 , 很有趣的地方開始了 。 「 請你從佛陀的邊緣找到自己 。 」 這句話的引述來自佛陀: 「 找到自己在邊緣 , 看一些東西的邊緣 , 真的有趣的地方 。\n",
      "2021-11-11 20:11:02 | INFO | hw5.seq2seq | example reference: 其次 , 不必講得太玄 , 這是佛陀的話:「處在邊緣 , 觀看事物周邊 , 往往是有趣的起點 。 」\n",
      "2021-11-11 20:11:02 | INFO | hw5.seq2seq | validation loss:\t3.7452\n",
      "2021-11-11 20:11:02 | INFO | hw5.seq2seq | BLEU = 19.68 50.2/26.1/14.5/8.5 (BP = 0.981 ratio = 0.982 hyp_len = 109758 ref_len = 111811)\n",
      "2021-11-11 20:11:02 | INFO | hw5.seq2seq | saved epoch checkpoint: /home/wy/ML_study/chapter5/checkpoints/rnn/checkpoint134.pt\n",
      "2021-11-11 20:11:02 | INFO | hw5.seq2seq | end of epoch 134\n"
     ]
    },
    {
     "data": {
      "text/plain": "HBox(children=(HTML(value='train epoch 135'), FloatProgress(value=0.0, max=791.0), HTML(value='')))",
      "application/vnd.jupyter.widget-view+json": {
       "version_major": 2,
       "version_minor": 0,
       "model_id": "c3adbaecca794d488e7c3e27da36aa62"
      }
     },
     "metadata": {},
     "output_type": "display_data"
    },
    {
     "name": "stdout",
     "output_type": "stream",
     "text": [
      "2021-11-11 20:12:07 | INFO | hw5.seq2seq | training loss: 3.6893\n",
      "2021-11-11 20:12:07 | INFO | hw5.seq2seq | begin validation\n"
     ]
    },
    {
     "data": {
      "text/plain": "HBox(children=(HTML(value='validation'), FloatProgress(value=0.0, max=22.0), HTML(value='')))",
      "application/vnd.jupyter.widget-view+json": {
       "version_major": 2,
       "version_minor": 0,
       "model_id": "4cf60d7611be4deb996e75060b5b5f13"
      }
     },
     "metadata": {},
     "output_type": "display_data"
    },
    {
     "name": "stdout",
     "output_type": "stream",
     "text": [
      "2021-11-11 20:12:24 | INFO | hw5.seq2seq | example source: then another thing .\n",
      "2021-11-11 20:12:24 | INFO | hw5.seq2seq | example hypothesis: 另外一件事 。\n",
      "2021-11-11 20:12:24 | INFO | hw5.seq2seq | example reference: 另外一件事 。\n",
      "2021-11-11 20:12:24 | INFO | hw5.seq2seq | validation loss:\t3.7394\n",
      "2021-11-11 20:12:24 | INFO | hw5.seq2seq | BLEU = 19.69 50.3/26.2/14.6/8.5 (BP = 0.979 ratio = 0.980 hyp_len = 109533 ref_len = 111811)\n",
      "2021-11-11 20:12:24 | INFO | hw5.seq2seq | saved epoch checkpoint: /home/wy/ML_study/chapter5/checkpoints/rnn/checkpoint135.pt\n",
      "2021-11-11 20:12:24 | INFO | hw5.seq2seq | end of epoch 135\n"
     ]
    },
    {
     "data": {
      "text/plain": "HBox(children=(HTML(value='train epoch 136'), FloatProgress(value=0.0, max=791.0), HTML(value='')))",
      "application/vnd.jupyter.widget-view+json": {
       "version_major": 2,
       "version_minor": 0,
       "model_id": "842509f9da5d4c228719ae9beeaffec1"
      }
     },
     "metadata": {},
     "output_type": "display_data"
    },
    {
     "name": "stdout",
     "output_type": "stream",
     "text": [
      "2021-11-11 20:13:29 | INFO | hw5.seq2seq | training loss: 3.6888\n",
      "2021-11-11 20:13:29 | INFO | hw5.seq2seq | begin validation\n"
     ]
    },
    {
     "data": {
      "text/plain": "HBox(children=(HTML(value='validation'), FloatProgress(value=0.0, max=22.0), HTML(value='')))",
      "application/vnd.jupyter.widget-view+json": {
       "version_major": 2,
       "version_minor": 0,
       "model_id": "9afb28fd3163439db3938b80d6504c85"
      }
     },
     "metadata": {},
     "output_type": "display_data"
    },
    {
     "name": "stdout",
     "output_type": "stream",
     "text": [
      "2021-11-11 20:13:45 | INFO | hw5.seq2seq | example source: the first one by far the most consumed seafood in america and in much of the west , is shrimp .\n",
      "2021-11-11 20:13:45 | INFO | hw5.seq2seq | example hypothesis: 在美國最早期的海鮮之一 , 就是蝦子 。\n",
      "2021-11-11 20:13:45 | INFO | hw5.seq2seq | example reference: 首先在美國和許多西方國家目前消耗最多的海鮮是蝦 。\n",
      "2021-11-11 20:13:45 | INFO | hw5.seq2seq | validation loss:\t3.7483\n",
      "2021-11-11 20:13:45 | INFO | hw5.seq2seq | BLEU = 19.21 51.7/27.0/15.0/8.7 (BP = 0.929 ratio = 0.931 hyp_len = 104138 ref_len = 111811)\n",
      "2021-11-11 20:13:46 | INFO | hw5.seq2seq | saved epoch checkpoint: /home/wy/ML_study/chapter5/checkpoints/rnn/checkpoint136.pt\n",
      "2021-11-11 20:13:46 | INFO | hw5.seq2seq | end of epoch 136\n"
     ]
    },
    {
     "data": {
      "text/plain": "HBox(children=(HTML(value='train epoch 137'), FloatProgress(value=0.0, max=791.0), HTML(value='')))",
      "application/vnd.jupyter.widget-view+json": {
       "version_major": 2,
       "version_minor": 0,
       "model_id": "162350b536554da68a269ab52b9a90dd"
      }
     },
     "metadata": {},
     "output_type": "display_data"
    },
    {
     "name": "stdout",
     "output_type": "stream",
     "text": [
      "2021-11-11 20:14:45 | INFO | hw5.seq2seq | training loss: 3.6894\n",
      "2021-11-11 20:14:45 | INFO | hw5.seq2seq | begin validation\n"
     ]
    },
    {
     "data": {
      "text/plain": "HBox(children=(HTML(value='validation'), FloatProgress(value=0.0, max=22.0), HTML(value='')))",
      "application/vnd.jupyter.widget-view+json": {
       "version_major": 2,
       "version_minor": 0,
       "model_id": "a8a9a17cf8114a509e43118665ffcd99"
      }
     },
     "metadata": {},
     "output_type": "display_data"
    },
    {
     "name": "stdout",
     "output_type": "stream",
     "text": [
      "2021-11-11 20:15:01 | INFO | hw5.seq2seq | example source: how many of you are augmented cyborgs ?\n",
      "2021-11-11 20:15:01 | INFO | hw5.seq2seq | example hypothesis: 在座有多少人正在擴增過生化 ?\n",
      "2021-11-11 20:15:01 | INFO | hw5.seq2seq | example reference: 現場有多少人是 「 強化的半機械人 」 ?\n",
      "2021-11-11 20:15:01 | INFO | hw5.seq2seq | validation loss:\t3.7484\n",
      "2021-11-11 20:15:01 | INFO | hw5.seq2seq | BLEU = 19.49 51.9/27.2/15.2/8.9 (BP = 0.932 ratio = 0.935 hyp_len = 104498 ref_len = 111811)\n",
      "2021-11-11 20:15:02 | INFO | hw5.seq2seq | saved epoch checkpoint: /home/wy/ML_study/chapter5/checkpoints/rnn/checkpoint137.pt\n",
      "2021-11-11 20:15:02 | INFO | hw5.seq2seq | end of epoch 137\n"
     ]
    },
    {
     "data": {
      "text/plain": "HBox(children=(HTML(value='train epoch 138'), FloatProgress(value=0.0, max=791.0), HTML(value='')))",
      "application/vnd.jupyter.widget-view+json": {
       "version_major": 2,
       "version_minor": 0,
       "model_id": "3177a7dfe20e487b8c364e5ce787db97"
      }
     },
     "metadata": {},
     "output_type": "display_data"
    },
    {
     "name": "stdout",
     "output_type": "stream",
     "text": [
      "2021-11-11 20:16:05 | INFO | hw5.seq2seq | training loss: 3.6882\n",
      "2021-11-11 20:16:05 | INFO | hw5.seq2seq | begin validation\n"
     ]
    },
    {
     "data": {
      "text/plain": "HBox(children=(HTML(value='validation'), FloatProgress(value=0.0, max=22.0), HTML(value='')))",
      "application/vnd.jupyter.widget-view+json": {
       "version_major": 2,
       "version_minor": 0,
       "model_id": "c997888d45ee4deebf6fa47cea1ef996"
      }
     },
     "metadata": {},
     "output_type": "display_data"
    },
    {
     "name": "stdout",
     "output_type": "stream",
     "text": [
      "2021-11-11 20:16:21 | INFO | hw5.seq2seq | example source: because with estrus , the final signaling to get the lining of the uterus ready actually comes from the embryo .\n",
      "2021-11-11 20:16:21 | INFO | hw5.seq2seq | example hypothesis: 由於胚胎 , 最終的訊號是從胚胎中到胚胎 。\n",
      "2021-11-11 20:16:21 | INFO | hw5.seq2seq | example reference: 因為 , 就動情期來說 , 要把子宮內膜準備好的最後訊號是來自胚胎 。\n",
      "2021-11-11 20:16:21 | INFO | hw5.seq2seq | validation loss:\t3.7462\n",
      "2021-11-11 20:16:21 | INFO | hw5.seq2seq | BLEU = 19.28 51.9/27.0/15.1/8.9 (BP = 0.926 ratio = 0.929 hyp_len = 103843 ref_len = 111811)\n",
      "2021-11-11 20:16:22 | INFO | hw5.seq2seq | saved epoch checkpoint: /home/wy/ML_study/chapter5/checkpoints/rnn/checkpoint138.pt\n",
      "2021-11-11 20:16:22 | INFO | hw5.seq2seq | end of epoch 138\n"
     ]
    },
    {
     "data": {
      "text/plain": "HBox(children=(HTML(value='train epoch 139'), FloatProgress(value=0.0, max=791.0), HTML(value='')))",
      "application/vnd.jupyter.widget-view+json": {
       "version_major": 2,
       "version_minor": 0,
       "model_id": "4029162c23a94d8db5232493bd643c9f"
      }
     },
     "metadata": {},
     "output_type": "display_data"
    },
    {
     "name": "stdout",
     "output_type": "stream",
     "text": [
      "2021-11-11 20:17:24 | INFO | hw5.seq2seq | training loss: 3.6871\n",
      "2021-11-11 20:17:24 | INFO | hw5.seq2seq | begin validation\n"
     ]
    },
    {
     "data": {
      "text/plain": "HBox(children=(HTML(value='validation'), FloatProgress(value=0.0, max=22.0), HTML(value='')))",
      "application/vnd.jupyter.widget-view+json": {
       "version_major": 2,
       "version_minor": 0,
       "model_id": "dea2d8667faa4229b37e9f7cfcb65d83"
      }
     },
     "metadata": {},
     "output_type": "display_data"
    },
    {
     "name": "stdout",
     "output_type": "stream",
     "text": [
      "2021-11-11 20:17:40 | INFO | hw5.seq2seq | example source: ca: thank you so much .\n",
      "2021-11-11 20:17:40 | INFO | hw5.seq2seq | example hypothesis: 克里斯:非常感謝你 。\n",
      "2021-11-11 20:17:40 | INFO | hw5.seq2seq | example reference: 克裡斯·安德森:非常感謝您 。\n",
      "2021-11-11 20:17:40 | INFO | hw5.seq2seq | validation loss:\t3.7437\n",
      "2021-11-11 20:17:40 | INFO | hw5.seq2seq | BLEU = 19.57 50.2/26.0/14.4/8.4 (BP = 0.979 ratio = 0.980 hyp_len = 109534 ref_len = 111811)\n",
      "2021-11-11 20:17:40 | INFO | hw5.seq2seq | saved epoch checkpoint: /home/wy/ML_study/chapter5/checkpoints/rnn/checkpoint139.pt\n",
      "2021-11-11 20:17:40 | INFO | hw5.seq2seq | end of epoch 139\n"
     ]
    },
    {
     "data": {
      "text/plain": "HBox(children=(HTML(value='train epoch 140'), FloatProgress(value=0.0, max=791.0), HTML(value='')))",
      "application/vnd.jupyter.widget-view+json": {
       "version_major": 2,
       "version_minor": 0,
       "model_id": "8a59dc4eed6c43a0beaeff8b28375f18"
      }
     },
     "metadata": {},
     "output_type": "display_data"
    },
    {
     "name": "stdout",
     "output_type": "stream",
     "text": [
      "2021-11-11 20:18:43 | INFO | hw5.seq2seq | training loss: 3.6868\n",
      "2021-11-11 20:18:43 | INFO | hw5.seq2seq | begin validation\n"
     ]
    },
    {
     "data": {
      "text/plain": "HBox(children=(HTML(value='validation'), FloatProgress(value=0.0, max=22.0), HTML(value='')))",
      "application/vnd.jupyter.widget-view+json": {
       "version_major": 2,
       "version_minor": 0,
       "model_id": "a477bba73d854cceba94f0012d5fb9a3"
      }
     },
     "metadata": {},
     "output_type": "display_data"
    },
    {
     "name": "stdout",
     "output_type": "stream",
     "text": [
      "2021-11-11 20:18:59 | INFO | hw5.seq2seq | example source: one of the things that underpins it is this idea of resilience .\n",
      "2021-11-11 20:18:59 | INFO | hw5.seq2seq | example hypothesis: 其中一件事就是恢復力 。\n",
      "2021-11-11 20:18:59 | INFO | hw5.seq2seq | example reference: 支持上述的其中一個觀點是所謂的彈性思維\n",
      "2021-11-11 20:18:59 | INFO | hw5.seq2seq | validation loss:\t3.7466\n",
      "2021-11-11 20:18:59 | INFO | hw5.seq2seq | BLEU = 19.38 51.9/27.2/15.3/9.0 (BP = 0.924 ratio = 0.927 hyp_len = 103628 ref_len = 111811)\n",
      "2021-11-11 20:19:00 | INFO | hw5.seq2seq | saved epoch checkpoint: /home/wy/ML_study/chapter5/checkpoints/rnn/checkpoint140.pt\n",
      "2021-11-11 20:19:00 | INFO | hw5.seq2seq | end of epoch 140\n"
     ]
    },
    {
     "data": {
      "text/plain": "HBox(children=(HTML(value='train epoch 141'), FloatProgress(value=0.0, max=791.0), HTML(value='')))",
      "application/vnd.jupyter.widget-view+json": {
       "version_major": 2,
       "version_minor": 0,
       "model_id": "6cb5056e17034511b6e5078221284797"
      }
     },
     "metadata": {},
     "output_type": "display_data"
    },
    {
     "name": "stdout",
     "output_type": "stream",
     "text": [
      "2021-11-11 20:20:07 | INFO | hw5.seq2seq | training loss: 3.6852\n",
      "2021-11-11 20:20:07 | INFO | hw5.seq2seq | begin validation\n"
     ]
    },
    {
     "data": {
      "text/plain": "HBox(children=(HTML(value='validation'), FloatProgress(value=0.0, max=22.0), HTML(value='')))",
      "application/vnd.jupyter.widget-view+json": {
       "version_major": 2,
       "version_minor": 0,
       "model_id": "ab348d6384ac493d83f44065fcbeb4c9"
      }
     },
     "metadata": {},
     "output_type": "display_data"
    },
    {
     "name": "stdout",
     "output_type": "stream",
     "text": [
      "2021-11-11 20:20:26 | INFO | hw5.seq2seq | example source: fortunately , our queen is well prepared .\n",
      "2021-11-11 20:20:26 | INFO | hw5.seq2seq | example hypothesis: 幸運的是 , 我們的皇后已經準備好準備了 。\n",
      "2021-11-11 20:20:26 | INFO | hw5.seq2seq | example reference: 幸好 , 「 黃 」 后有充分準備\n",
      "2021-11-11 20:20:26 | INFO | hw5.seq2seq | validation loss:\t3.7435\n",
      "2021-11-11 20:20:26 | INFO | hw5.seq2seq | BLEU = 19.67 49.9/25.9/14.4/8.4 (BP = 0.988 ratio = 0.988 hyp_len = 110483 ref_len = 111811)\n",
      "2021-11-11 20:20:26 | INFO | hw5.seq2seq | saved epoch checkpoint: /home/wy/ML_study/chapter5/checkpoints/rnn/checkpoint141.pt\n",
      "2021-11-11 20:20:26 | INFO | hw5.seq2seq | end of epoch 141\n"
     ]
    },
    {
     "data": {
      "text/plain": "HBox(children=(HTML(value='train epoch 142'), FloatProgress(value=0.0, max=791.0), HTML(value='')))",
      "application/vnd.jupyter.widget-view+json": {
       "version_major": 2,
       "version_minor": 0,
       "model_id": "c3e6898ba007441390126178c3505e83"
      }
     },
     "metadata": {},
     "output_type": "display_data"
    },
    {
     "name": "stdout",
     "output_type": "stream",
     "text": [
      "2021-11-11 20:21:28 | INFO | hw5.seq2seq | training loss: 3.6848\n",
      "2021-11-11 20:21:28 | INFO | hw5.seq2seq | begin validation\n"
     ]
    },
    {
     "data": {
      "text/plain": "HBox(children=(HTML(value='validation'), FloatProgress(value=0.0, max=22.0), HTML(value='')))",
      "application/vnd.jupyter.widget-view+json": {
       "version_major": 2,
       "version_minor": 0,
       "model_id": "1f20d25952d744ae84d8c0be3c79747f"
      }
     },
     "metadata": {},
     "output_type": "display_data"
    },
    {
     "name": "stdout",
     "output_type": "stream",
     "text": [
      "2021-11-11 20:21:44 | INFO | hw5.seq2seq | example source: so two years ago , we went back to the lab , making it more durable , more lightemitting , with the experts .\n",
      "2021-11-11 20:21:44 | INFO | hw5.seq2seq | example hypothesis: 兩年前 , 我們回到實驗室 , 讓它變得更有耐心 , 更有耐心 , 更有專家 。\n",
      "2021-11-11 20:21:44 | INFO | hw5.seq2seq | example reference: 所以 , 兩年前 , 我們回到實驗室 , 與專家合作 , 把它變得更耐久、更能發光 。\n",
      "2021-11-11 20:21:44 | INFO | hw5.seq2seq | validation loss:\t3.7507\n",
      "2021-11-11 20:21:44 | INFO | hw5.seq2seq | BLEU = 19.51 50.7/26.4/14.7/8.6 (BP = 0.960 ratio = 0.961 hyp_len = 107432 ref_len = 111811)\n",
      "2021-11-11 20:21:44 | INFO | hw5.seq2seq | saved epoch checkpoint: /home/wy/ML_study/chapter5/checkpoints/rnn/checkpoint142.pt\n",
      "2021-11-11 20:21:44 | INFO | hw5.seq2seq | end of epoch 142\n"
     ]
    },
    {
     "data": {
      "text/plain": "HBox(children=(HTML(value='train epoch 143'), FloatProgress(value=0.0, max=791.0), HTML(value='')))",
      "application/vnd.jupyter.widget-view+json": {
       "version_major": 2,
       "version_minor": 0,
       "model_id": "6c1755b9a1d546da836893ac79716950"
      }
     },
     "metadata": {},
     "output_type": "display_data"
    },
    {
     "name": "stdout",
     "output_type": "stream",
     "text": [
      "2021-11-11 20:22:47 | INFO | hw5.seq2seq | training loss: 3.6857\n",
      "2021-11-11 20:22:47 | INFO | hw5.seq2seq | begin validation\n"
     ]
    },
    {
     "data": {
      "text/plain": "HBox(children=(HTML(value='validation'), FloatProgress(value=0.0, max=22.0), HTML(value='')))",
      "application/vnd.jupyter.widget-view+json": {
       "version_major": 2,
       "version_minor": 0,
       "model_id": "a8ce1cae32124ad8a00a448d635029f5"
      }
     },
     "metadata": {},
     "output_type": "display_data"
    },
    {
     "name": "stdout",
     "output_type": "stream",
     "text": [
      "2021-11-11 20:23:03 | INFO | hw5.seq2seq | example source: thank you .\n",
      "2021-11-11 20:23:03 | INFO | hw5.seq2seq | example hypothesis: 謝謝\n",
      "2021-11-11 20:23:03 | INFO | hw5.seq2seq | example reference: 謝謝 !\n",
      "2021-11-11 20:23:03 | INFO | hw5.seq2seq | validation loss:\t3.7466\n",
      "2021-11-11 20:23:03 | INFO | hw5.seq2seq | BLEU = 19.51 50.7/26.4/14.7/8.6 (BP = 0.961 ratio = 0.962 hyp_len = 107560 ref_len = 111811)\n",
      "2021-11-11 20:23:04 | INFO | hw5.seq2seq | saved epoch checkpoint: /home/wy/ML_study/chapter5/checkpoints/rnn/checkpoint143.pt\n",
      "2021-11-11 20:23:04 | INFO | hw5.seq2seq | end of epoch 143\n"
     ]
    },
    {
     "data": {
      "text/plain": "HBox(children=(HTML(value='train epoch 144'), FloatProgress(value=0.0, max=791.0), HTML(value='')))",
      "application/vnd.jupyter.widget-view+json": {
       "version_major": 2,
       "version_minor": 0,
       "model_id": "3bbc71d9b5b74dc88ff7b4296af7b23d"
      }
     },
     "metadata": {},
     "output_type": "display_data"
    },
    {
     "name": "stdout",
     "output_type": "stream",
     "text": [
      "2021-11-11 20:24:06 | INFO | hw5.seq2seq | training loss: 3.6844\n",
      "2021-11-11 20:24:06 | INFO | hw5.seq2seq | begin validation\n"
     ]
    },
    {
     "data": {
      "text/plain": "HBox(children=(HTML(value='validation'), FloatProgress(value=0.0, max=22.0), HTML(value='')))",
      "application/vnd.jupyter.widget-view+json": {
       "version_major": 2,
       "version_minor": 0,
       "model_id": "ce05a81cb61d4cf78dee7df70e16d231"
      }
     },
     "metadata": {},
     "output_type": "display_data"
    },
    {
     "name": "stdout",
     "output_type": "stream",
     "text": [
      "2021-11-11 20:24:22 | INFO | hw5.seq2seq | example source: a definition that cares about the intentions of abusers more than the harms to the abused that definition of racism is racist .\n",
      "2021-11-11 20:24:22 | INFO | hw5.seq2seq | example hypothesis: 對於種族主義的定義 , 對於種族歧視的定義 , 對於種族主義的定義是種族歧視的定義 。\n",
      "2021-11-11 20:24:22 | INFO | hw5.seq2seq | example reference: 如果這個定義著眼點在施暴者的意圖 , 多過被受害者所受的傷害 , 那麼這個定義本身就已經帶有歧視了 。\n",
      "2021-11-11 20:24:22 | INFO | hw5.seq2seq | validation loss:\t3.7413\n",
      "2021-11-11 20:24:22 | INFO | hw5.seq2seq | BLEU = 19.46 50.7/26.3/14.7/8.5 (BP = 0.963 ratio = 0.964 hyp_len = 107739 ref_len = 111811)\n",
      "2021-11-11 20:24:22 | INFO | hw5.seq2seq | saved epoch checkpoint: /home/wy/ML_study/chapter5/checkpoints/rnn/checkpoint144.pt\n",
      "2021-11-11 20:24:22 | INFO | hw5.seq2seq | end of epoch 144\n"
     ]
    },
    {
     "data": {
      "text/plain": "HBox(children=(HTML(value='train epoch 145'), FloatProgress(value=0.0, max=791.0), HTML(value='')))",
      "application/vnd.jupyter.widget-view+json": {
       "version_major": 2,
       "version_minor": 0,
       "model_id": "26a52004da6743fda3d6634a3e21b03c"
      }
     },
     "metadata": {},
     "output_type": "display_data"
    },
    {
     "name": "stdout",
     "output_type": "stream",
     "text": [
      "2021-11-11 20:25:26 | INFO | hw5.seq2seq | training loss: 3.6849\n",
      "2021-11-11 20:25:26 | INFO | hw5.seq2seq | begin validation\n"
     ]
    },
    {
     "data": {
      "text/plain": "HBox(children=(HTML(value='validation'), FloatProgress(value=0.0, max=22.0), HTML(value='')))",
      "application/vnd.jupyter.widget-view+json": {
       "version_major": 2,
       "version_minor": 0,
       "model_id": "1e2c6badba584398832c187e637acf3e"
      }
     },
     "metadata": {},
     "output_type": "display_data"
    },
    {
     "name": "stdout",
     "output_type": "stream",
     "text": [
      "2021-11-11 20:25:42 | INFO | hw5.seq2seq | example source: now , what's common to all of these things is the idea that we've had these technologies to control nature only for the last 70 , 80 or 100 years and essentially in a blink , we have squandered our ability to control , because we have not recognized that natural selection and evolution was going to find a way to get back , and we need to completely rethink how we're going to use measures to control biological organisms , and rethink how we incentivize the development , introduction , in the case of antibiotics prescription , and use of these valuable resources .\n",
      "2021-11-11 20:25:42 | INFO | hw5.seq2seq | example hypothesis: 現在 , 所有這些東西都是我們所知的 , 基本上 , 一百年來 , 我們一直在思考我們如何利用這些技術來控制生物生物有機體 , 並重新思考我們如何利用這些技術來控制生物的機制 , 並重新思考我們要如何利用這些技術來控制生物有機體 , 並重新思考我們如何利用這些技術來控制生物有機體 , 並重新思考我們如何利用這些技術來控制生物有機體 , 並重新思考我們如何利用這些技術來控制生物的機制 。\n",
      "2021-11-11 20:25:42 | INFO | hw5.seq2seq | example reference: 這些事的共同點就是我們有了這些技術讓我們戰勝了自然70、80或者100年 , 轉眼之間 , 我們就失去了控制力 , 因為我們還沒有意識到自然選擇和進化總會找到一個出路 , 我們需要全盤反思我們究竟要用什麼去控制生物體 , 我們需要反思我們如何促進藥物的發展及引進 , 比如在抗生素的處方上 , 及如何利用這些寶貴的資源 。\n",
      "2021-11-11 20:25:42 | INFO | hw5.seq2seq | validation loss:\t3.7453\n",
      "2021-11-11 20:25:42 | INFO | hw5.seq2seq | BLEU = 19.81 50.2/26.3/14.7/8.7 (BP = 0.978 ratio = 0.978 hyp_len = 109350 ref_len = 111811)\n",
      "2021-11-11 20:25:42 | INFO | hw5.seq2seq | saved epoch checkpoint: /home/wy/ML_study/chapter5/checkpoints/rnn/checkpoint145.pt\n",
      "2021-11-11 20:25:42 | INFO | hw5.seq2seq | end of epoch 145\n"
     ]
    },
    {
     "data": {
      "text/plain": "HBox(children=(HTML(value='train epoch 146'), FloatProgress(value=0.0, max=791.0), HTML(value='')))",
      "application/vnd.jupyter.widget-view+json": {
       "version_major": 2,
       "version_minor": 0,
       "model_id": "4543ddaf981c4263b139643279dabe93"
      }
     },
     "metadata": {},
     "output_type": "display_data"
    },
    {
     "name": "stdout",
     "output_type": "stream",
     "text": [
      "2021-11-11 20:26:45 | INFO | hw5.seq2seq | training loss: 3.6830\n",
      "2021-11-11 20:26:45 | INFO | hw5.seq2seq | begin validation\n"
     ]
    },
    {
     "data": {
      "text/plain": "HBox(children=(HTML(value='validation'), FloatProgress(value=0.0, max=22.0), HTML(value='')))",
      "application/vnd.jupyter.widget-view+json": {
       "version_major": 2,
       "version_minor": 0,
       "model_id": "e0635c813f7c49feb361bb9157a0bd00"
      }
     },
     "metadata": {},
     "output_type": "display_data"
    },
    {
     "name": "stdout",
     "output_type": "stream",
     "text": [
      "2021-11-11 20:27:02 | INFO | hw5.seq2seq | example source: and i've been having them , over 200 dirty jobs , i have them all the time , but that one that one drilled something home in a way that i just wasn't prepared for .\n",
      "2021-11-11 20:27:02 | INFO | hw5.seq2seq | example hypothesis: 我有一群人 , 超過兩百多髒的工作 , 我一直都有他們 , 但那一刻 , 把我帶回家的路上 , 完全沒有準備好 。\n",
      "2021-11-11 20:27:02 | INFO | hw5.seq2seq | example reference: 我已經做了 , 大概兩百個苦差事 , 我一天到晚都意識到一些新東西但這一項-這項驚心動魄 , 在我絲毫沒有思考準備的時候\n",
      "2021-11-11 20:27:02 | INFO | hw5.seq2seq | validation loss:\t3.7397\n",
      "2021-11-11 20:27:02 | INFO | hw5.seq2seq | BLEU = 19.63 51.1/26.7/14.9/8.7 (BP = 0.956 ratio = 0.957 hyp_len = 106959 ref_len = 111811)\n",
      "2021-11-11 20:27:02 | INFO | hw5.seq2seq | saved epoch checkpoint: /home/wy/ML_study/chapter5/checkpoints/rnn/checkpoint146.pt\n",
      "2021-11-11 20:27:02 | INFO | hw5.seq2seq | end of epoch 146\n"
     ]
    },
    {
     "data": {
      "text/plain": "HBox(children=(HTML(value='train epoch 147'), FloatProgress(value=0.0, max=791.0), HTML(value='')))",
      "application/vnd.jupyter.widget-view+json": {
       "version_major": 2,
       "version_minor": 0,
       "model_id": "49f1707e8aa848639f84b3a2a76e2d93"
      }
     },
     "metadata": {},
     "output_type": "display_data"
    },
    {
     "name": "stdout",
     "output_type": "stream",
     "text": [
      "2021-11-11 20:28:05 | INFO | hw5.seq2seq | training loss: 3.6822\n",
      "2021-11-11 20:28:05 | INFO | hw5.seq2seq | begin validation\n"
     ]
    },
    {
     "data": {
      "text/plain": "HBox(children=(HTML(value='validation'), FloatProgress(value=0.0, max=22.0), HTML(value='')))",
      "application/vnd.jupyter.widget-view+json": {
       "version_major": 2,
       "version_minor": 0,
       "model_id": "3dab36e21b02478db1bfaaf2a5660d39"
      }
     },
     "metadata": {},
     "output_type": "display_data"
    },
    {
     "name": "stdout",
     "output_type": "stream",
     "text": [
      "2021-11-11 20:28:23 | INFO | hw5.seq2seq | example source: i want to talk about the transformed media landscape , and what it means for anybody who has a message that they want to get out to anywhere in the world .\n",
      "2021-11-11 20:28:23 | INFO | hw5.seq2seq | example hypothesis: 我想談談轉變媒體景觀 , 意思是 , 任何有訊息的人 , 都想要在世界各地找到任何人 。\n",
      "2021-11-11 20:28:23 | INFO | hw5.seq2seq | example reference: 我想先談論媒體工具轉變的整個架構和這對於任何訊息想要散播到世界各地的人來說意味著什麼\n",
      "2021-11-11 20:28:23 | INFO | hw5.seq2seq | validation loss:\t3.7394\n",
      "2021-11-11 20:28:23 | INFO | hw5.seq2seq | BLEU = 19.49 49.3/25.4/14.1/8.2 (BP = 1.000 ratio = 1.006 hyp_len = 112454 ref_len = 111811)\n",
      "2021-11-11 20:28:23 | INFO | hw5.seq2seq | saved epoch checkpoint: /home/wy/ML_study/chapter5/checkpoints/rnn/checkpoint147.pt\n",
      "2021-11-11 20:28:23 | INFO | hw5.seq2seq | end of epoch 147\n"
     ]
    },
    {
     "data": {
      "text/plain": "HBox(children=(HTML(value='train epoch 148'), FloatProgress(value=0.0, max=791.0), HTML(value='')))",
      "application/vnd.jupyter.widget-view+json": {
       "version_major": 2,
       "version_minor": 0,
       "model_id": "b283098d44b349519bb2e7bd94540d5a"
      }
     },
     "metadata": {},
     "output_type": "display_data"
    },
    {
     "name": "stdout",
     "output_type": "stream",
     "text": [
      "2021-11-11 20:29:25 | INFO | hw5.seq2seq | training loss: 3.6813\n",
      "2021-11-11 20:29:25 | INFO | hw5.seq2seq | begin validation\n"
     ]
    },
    {
     "data": {
      "text/plain": "HBox(children=(HTML(value='validation'), FloatProgress(value=0.0, max=22.0), HTML(value='')))",
      "application/vnd.jupyter.widget-view+json": {
       "version_major": 2,
       "version_minor": 0,
       "model_id": "dcb5136884a442b0912088486c739e9f"
      }
     },
     "metadata": {},
     "output_type": "display_data"
    },
    {
     "name": "stdout",
     "output_type": "stream",
     "text": [
      "2021-11-11 20:29:42 | INFO | hw5.seq2seq | example source: on the way there , we flew by earth and we took a few pictures to test our cameras .\n",
      "2021-11-11 20:29:42 | INFO | hw5.seq2seq | example hypothesis: 到此時 , 我們飛行了 , 拍攝了幾張照片來測試我們的相機 。\n",
      "2021-11-11 20:29:42 | INFO | hw5.seq2seq | example reference: 在途中 , 我們飛經地球並拍了一些照片以測試我們的相機 。\n",
      "2021-11-11 20:29:42 | INFO | hw5.seq2seq | validation loss:\t3.7400\n",
      "2021-11-11 20:29:42 | INFO | hw5.seq2seq | BLEU = 19.63 49.8/25.8/14.3/8.3 (BP = 0.993 ratio = 0.993 hyp_len = 110981 ref_len = 111811)\n",
      "2021-11-11 20:29:42 | INFO | hw5.seq2seq | saved epoch checkpoint: /home/wy/ML_study/chapter5/checkpoints/rnn/checkpoint148.pt\n",
      "2021-11-11 20:29:42 | INFO | hw5.seq2seq | end of epoch 148\n"
     ]
    },
    {
     "data": {
      "text/plain": "HBox(children=(HTML(value='train epoch 149'), FloatProgress(value=0.0, max=791.0), HTML(value='')))",
      "application/vnd.jupyter.widget-view+json": {
       "version_major": 2,
       "version_minor": 0,
       "model_id": "edcd86acba90420e8dc164471ceeb234"
      }
     },
     "metadata": {},
     "output_type": "display_data"
    },
    {
     "name": "stdout",
     "output_type": "stream",
     "text": [
      "2021-11-11 20:30:47 | INFO | hw5.seq2seq | training loss: 3.6845\n",
      "2021-11-11 20:30:47 | INFO | hw5.seq2seq | begin validation\n"
     ]
    },
    {
     "data": {
      "text/plain": "HBox(children=(HTML(value='validation'), FloatProgress(value=0.0, max=22.0), HTML(value='')))",
      "application/vnd.jupyter.widget-view+json": {
       "version_major": 2,
       "version_minor": 0,
       "model_id": "a8af222cf2b44a70b6549e668b214541"
      }
     },
     "metadata": {},
     "output_type": "display_data"
    },
    {
     "name": "stdout",
     "output_type": "stream",
     "text": [
      "2021-11-11 20:31:03 | INFO | hw5.seq2seq | example source: now , adults seem to have a prevalently restrictive attitude towards kids , from every \" don't do that , don't do this \" in the school handbook , to restrictions on school internet use .\n",
      "2021-11-11 20:31:03 | INFO | hw5.seq2seq | example hypothesis: 現在 , 成年人似乎對孩子們有很大的態度 , 基本上是對孩子的態度 , 無論是 「 不要做 」 的態度 , 在學校的教學上 , 都沒有做這一點 。\n",
      "2021-11-11 20:31:03 | INFO | hw5.seq2seq | example reference: 大人好像都喜歡管小孩只要是任何違反校規的事都不能做連學校上網也有限制\n",
      "2021-11-11 20:31:03 | INFO | hw5.seq2seq | validation loss:\t3.7442\n",
      "2021-11-11 20:31:03 | INFO | hw5.seq2seq | BLEU = 19.54 50.9/26.5/14.8/8.6 (BP = 0.959 ratio = 0.960 hyp_len = 107291 ref_len = 111811)\n",
      "2021-11-11 20:31:03 | INFO | hw5.seq2seq | saved epoch checkpoint: /home/wy/ML_study/chapter5/checkpoints/rnn/checkpoint149.pt\n",
      "2021-11-11 20:31:04 | INFO | hw5.seq2seq | end of epoch 149\n"
     ]
    },
    {
     "data": {
      "text/plain": "HBox(children=(HTML(value='train epoch 150'), FloatProgress(value=0.0, max=791.0), HTML(value='')))",
      "application/vnd.jupyter.widget-view+json": {
       "version_major": 2,
       "version_minor": 0,
       "model_id": "b393e9b69de04c5eb24a319b9782ec02"
      }
     },
     "metadata": {},
     "output_type": "display_data"
    },
    {
     "name": "stdout",
     "output_type": "stream",
     "text": [
      "2021-11-11 20:32:11 | INFO | hw5.seq2seq | training loss: 3.6813\n",
      "2021-11-11 20:32:11 | INFO | hw5.seq2seq | begin validation\n"
     ]
    },
    {
     "data": {
      "text/plain": "HBox(children=(HTML(value='validation'), FloatProgress(value=0.0, max=22.0), HTML(value='')))",
      "application/vnd.jupyter.widget-view+json": {
       "version_major": 2,
       "version_minor": 0,
       "model_id": "c73c243814844ee98bc76e2025472214"
      }
     },
     "metadata": {},
     "output_type": "display_data"
    },
    {
     "name": "stdout",
     "output_type": "stream",
     "text": [
      "2021-11-11 20:32:31 | INFO | hw5.seq2seq | example source: so how would you divide a 4x4 , 10x10 , or 32x32 canvas ?\n",
      "2021-11-11 20:32:31 | INFO | hw5.seq2seq | example hypothesis: 所以 , 你要如何分解4x4、10x4、10x4 , 或32x4 ?\n",
      "2021-11-11 20:32:31 | INFO | hw5.seq2seq | example reference: 所以 , 你要如何分割一張4x4、10x10 , 或32x32的畫布 ?\n",
      "2021-11-11 20:32:31 | INFO | hw5.seq2seq | validation loss:\t3.7437\n",
      "2021-11-11 20:32:31 | INFO | hw5.seq2seq | BLEU = 19.49 50.9/26.5/14.8/8.6 (BP = 0.958 ratio = 0.959 hyp_len = 107225 ref_len = 111811)\n",
      "2021-11-11 20:32:32 | INFO | hw5.seq2seq | saved epoch checkpoint: /home/wy/ML_study/chapter5/checkpoints/rnn/checkpoint150.pt\n",
      "2021-11-11 20:32:32 | INFO | hw5.seq2seq | end of epoch 150\n"
     ]
    },
    {
     "data": {
      "text/plain": "HBox(children=(HTML(value='train epoch 151'), FloatProgress(value=0.0, max=791.0), HTML(value='')))",
      "application/vnd.jupyter.widget-view+json": {
       "version_major": 2,
       "version_minor": 0,
       "model_id": "0b3e8b9198594654bff924b6ce41d8a3"
      }
     },
     "metadata": {},
     "output_type": "display_data"
    },
    {
     "name": "stdout",
     "output_type": "stream",
     "text": [
      "2021-11-11 20:33:35 | INFO | hw5.seq2seq | training loss: 3.6812\n",
      "2021-11-11 20:33:35 | INFO | hw5.seq2seq | begin validation\n"
     ]
    },
    {
     "data": {
      "text/plain": "HBox(children=(HTML(value='validation'), FloatProgress(value=0.0, max=22.0), HTML(value='')))",
      "application/vnd.jupyter.widget-view+json": {
       "version_major": 2,
       "version_minor": 0,
       "model_id": "16ec1093876647179d02dc99901171e9"
      }
     },
     "metadata": {},
     "output_type": "display_data"
    },
    {
     "name": "stdout",
     "output_type": "stream",
     "text": [
      "2021-11-11 20:33:52 | INFO | hw5.seq2seq | example source: we can push through that .\n",
      "2021-11-11 20:33:52 | INFO | hw5.seq2seq | example hypothesis: 我們能推動它 。\n",
      "2021-11-11 20:33:52 | INFO | hw5.seq2seq | example reference: 我們可以衝破這些限制 。\n",
      "2021-11-11 20:33:52 | INFO | hw5.seq2seq | validation loss:\t3.7456\n",
      "2021-11-11 20:33:52 | INFO | hw5.seq2seq | BLEU = 19.59 51.2/26.8/15.0/8.8 (BP = 0.951 ratio = 0.952 hyp_len = 106472 ref_len = 111811)\n",
      "2021-11-11 20:33:52 | INFO | hw5.seq2seq | saved epoch checkpoint: /home/wy/ML_study/chapter5/checkpoints/rnn/checkpoint151.pt\n",
      "2021-11-11 20:33:52 | INFO | hw5.seq2seq | end of epoch 151\n"
     ]
    },
    {
     "data": {
      "text/plain": "HBox(children=(HTML(value='train epoch 152'), FloatProgress(value=0.0, max=791.0), HTML(value='')))",
      "application/vnd.jupyter.widget-view+json": {
       "version_major": 2,
       "version_minor": 0,
       "model_id": "649652b9ea124dfcab3f71575f1f1190"
      }
     },
     "metadata": {},
     "output_type": "display_data"
    },
    {
     "name": "stdout",
     "output_type": "stream",
     "text": [
      "2021-11-11 20:34:56 | INFO | hw5.seq2seq | training loss: 3.6808\n",
      "2021-11-11 20:34:56 | INFO | hw5.seq2seq | begin validation\n"
     ]
    },
    {
     "data": {
      "text/plain": "HBox(children=(HTML(value='validation'), FloatProgress(value=0.0, max=22.0), HTML(value='')))",
      "application/vnd.jupyter.widget-view+json": {
       "version_major": 2,
       "version_minor": 0,
       "model_id": "309724ae4d1f4c069560489441ec7f3d"
      }
     },
     "metadata": {},
     "output_type": "display_data"
    },
    {
     "name": "stdout",
     "output_type": "stream",
     "text": [
      "2021-11-11 20:35:13 | INFO | hw5.seq2seq | example source: jeff han: i'm a research scientist at nyu in new york .\n",
      "2021-11-11 20:35:13 | INFO | hw5.seq2seq | example hypothesis: jeffhan:我是紐約的一個研究科學家 。\n",
      "2021-11-11 20:35:13 | INFO | hw5.seq2seq | example reference: 韓傑夫:我是紐約市紐約大學的研究科學家 。\n",
      "2021-11-11 20:35:13 | INFO | hw5.seq2seq | validation loss:\t3.7451\n",
      "2021-11-11 20:35:13 | INFO | hw5.seq2seq | BLEU = 19.62 50.0/26.0/14.4/8.4 (BP = 0.984 ratio = 0.984 hyp_len = 110041 ref_len = 111811)\n",
      "2021-11-11 20:35:13 | INFO | hw5.seq2seq | saved epoch checkpoint: /home/wy/ML_study/chapter5/checkpoints/rnn/checkpoint152.pt\n",
      "2021-11-11 20:35:13 | INFO | hw5.seq2seq | end of epoch 152\n"
     ]
    },
    {
     "data": {
      "text/plain": "HBox(children=(HTML(value='train epoch 153'), FloatProgress(value=0.0, max=791.0), HTML(value='')))",
      "application/vnd.jupyter.widget-view+json": {
       "version_major": 2,
       "version_minor": 0,
       "model_id": "9a26277ee9b04b5a8ea9bc86a137c024"
      }
     },
     "metadata": {},
     "output_type": "display_data"
    },
    {
     "name": "stdout",
     "output_type": "stream",
     "text": [
      "2021-11-11 20:36:17 | INFO | hw5.seq2seq | training loss: 3.6795\n",
      "2021-11-11 20:36:17 | INFO | hw5.seq2seq | begin validation\n"
     ]
    },
    {
     "data": {
      "text/plain": "HBox(children=(HTML(value='validation'), FloatProgress(value=0.0, max=22.0), HTML(value='')))",
      "application/vnd.jupyter.widget-view+json": {
       "version_major": 2,
       "version_minor": 0,
       "model_id": "c410bcc2d1dd42e08dfce6ddc9aac171"
      }
     },
     "metadata": {},
     "output_type": "display_data"
    },
    {
     "name": "stdout",
     "output_type": "stream",
     "text": [
      "2021-11-11 20:36:33 | INFO | hw5.seq2seq | example source: how do i integrate this information into the longer course of my life ?\n",
      "2021-11-11 20:36:33 | INFO | hw5.seq2seq | example hypothesis: 我如何將這些資訊融入我的生命中 ?\n",
      "2021-11-11 20:36:33 | INFO | hw5.seq2seq | example reference: 我怎樣可以在我以後的生活中利用這些信息呢 ?\n",
      "2021-11-11 20:36:33 | INFO | hw5.seq2seq | validation loss:\t3.7502\n",
      "2021-11-11 20:36:33 | INFO | hw5.seq2seq | BLEU = 19.25 51.6/26.8/14.9/8.7 (BP = 0.936 ratio = 0.938 hyp_len = 104837 ref_len = 111811)\n",
      "2021-11-11 20:36:34 | INFO | hw5.seq2seq | saved epoch checkpoint: /home/wy/ML_study/chapter5/checkpoints/rnn/checkpoint153.pt\n",
      "2021-11-11 20:36:34 | INFO | hw5.seq2seq | end of epoch 153\n"
     ]
    },
    {
     "data": {
      "text/plain": "HBox(children=(HTML(value='train epoch 154'), FloatProgress(value=0.0, max=791.0), HTML(value='')))",
      "application/vnd.jupyter.widget-view+json": {
       "version_major": 2,
       "version_minor": 0,
       "model_id": "96f6309c962d4e12b21c95f082ff1bdf"
      }
     },
     "metadata": {},
     "output_type": "display_data"
    },
    {
     "name": "stdout",
     "output_type": "stream",
     "text": [
      "2021-11-11 20:37:37 | INFO | hw5.seq2seq | training loss: 3.6784\n",
      "2021-11-11 20:37:37 | INFO | hw5.seq2seq | begin validation\n"
     ]
    },
    {
     "data": {
      "text/plain": "HBox(children=(HTML(value='validation'), FloatProgress(value=0.0, max=22.0), HTML(value='')))",
      "application/vnd.jupyter.widget-view+json": {
       "version_major": 2,
       "version_minor": 0,
       "model_id": "3d092c16fb9e41958135782091f5e239"
      }
     },
     "metadata": {},
     "output_type": "display_data"
    },
    {
     "name": "stdout",
     "output_type": "stream",
     "text": [
      "2021-11-11 20:37:54 | INFO | hw5.seq2seq | example source: and we do care about planets like the earth because by now we understood that life as a chemical system really needs a smaller planet with water and with rocks and with a lot of complex chemistry to originate , to emerge , to survive .\n",
      "2021-11-11 20:37:54 | INFO | hw5.seq2seq | example hypothesis: 我們確實在乎地球的星球 , 因為現在我們了解到生物系統真的需要一個較小的行星 , 用水和岩石 , 用許多複雜的化學系統 , 才能生存下來 。\n",
      "2021-11-11 20:37:54 | INFO | hw5.seq2seq | example reference: 這件事對我們很重要 , 因為現在我們所明白的是 , 生命有如一個化學體系般它需要比較小的行星有水有土壤岩石以及一些相當複雜的化學然後生命得以起源 , 出現 , 生存\n",
      "2021-11-11 20:37:54 | INFO | hw5.seq2seq | validation loss:\t3.7471\n",
      "2021-11-11 20:37:54 | INFO | hw5.seq2seq | BLEU = 19.64 50.7/26.4/14.7/8.6 (BP = 0.968 ratio = 0.968 hyp_len = 108251 ref_len = 111811)\n",
      "2021-11-11 20:37:54 | INFO | hw5.seq2seq | saved epoch checkpoint: /home/wy/ML_study/chapter5/checkpoints/rnn/checkpoint154.pt\n",
      "2021-11-11 20:37:54 | INFO | hw5.seq2seq | end of epoch 154\n"
     ]
    },
    {
     "data": {
      "text/plain": "HBox(children=(HTML(value='train epoch 155'), FloatProgress(value=0.0, max=791.0), HTML(value='')))",
      "application/vnd.jupyter.widget-view+json": {
       "version_major": 2,
       "version_minor": 0,
       "model_id": "23d09e7881d1490a938d2e32427f17c0"
      }
     },
     "metadata": {},
     "output_type": "display_data"
    },
    {
     "name": "stdout",
     "output_type": "stream",
     "text": [
      "2021-11-11 20:38:56 | INFO | hw5.seq2seq | training loss: 3.6787\n",
      "2021-11-11 20:38:56 | INFO | hw5.seq2seq | begin validation\n"
     ]
    },
    {
     "data": {
      "text/plain": "HBox(children=(HTML(value='validation'), FloatProgress(value=0.0, max=22.0), HTML(value='')))",
      "application/vnd.jupyter.widget-view+json": {
       "version_major": 2,
       "version_minor": 0,
       "model_id": "6bd6adea66514829bfee30736032b964"
      }
     },
     "metadata": {},
     "output_type": "display_data"
    },
    {
     "name": "stdout",
     "output_type": "stream",
     "text": [
      "2021-11-11 20:39:13 | INFO | hw5.seq2seq | example source: it's the bottom line , the dollar line .\n",
      "2021-11-11 20:39:13 | INFO | hw5.seq2seq | example hypothesis: 這是最底線 , 金額 。\n",
      "2021-11-11 20:39:13 | INFO | hw5.seq2seq | example reference: 這是底線 , 金錢堆起的線\n",
      "2021-11-11 20:39:13 | INFO | hw5.seq2seq | validation loss:\t3.7501\n",
      "2021-11-11 20:39:13 | INFO | hw5.seq2seq | BLEU = 19.29 51.8/27.1/15.1/8.9 (BP = 0.927 ratio = 0.930 hyp_len = 103970 ref_len = 111811)\n",
      "2021-11-11 20:39:13 | INFO | hw5.seq2seq | saved epoch checkpoint: /home/wy/ML_study/chapter5/checkpoints/rnn/checkpoint155.pt\n",
      "2021-11-11 20:39:13 | INFO | hw5.seq2seq | end of epoch 155\n"
     ]
    },
    {
     "data": {
      "text/plain": "HBox(children=(HTML(value='train epoch 156'), FloatProgress(value=0.0, max=791.0), HTML(value='')))",
      "application/vnd.jupyter.widget-view+json": {
       "version_major": 2,
       "version_minor": 0,
       "model_id": "4cb5c5954e534995a3dbdba574fb5dc0"
      }
     },
     "metadata": {},
     "output_type": "display_data"
    },
    {
     "name": "stdout",
     "output_type": "stream",
     "text": [
      "2021-11-11 20:40:16 | INFO | hw5.seq2seq | training loss: 3.6779\n",
      "2021-11-11 20:40:16 | INFO | hw5.seq2seq | begin validation\n"
     ]
    },
    {
     "data": {
      "text/plain": "HBox(children=(HTML(value='validation'), FloatProgress(value=0.0, max=22.0), HTML(value='')))",
      "application/vnd.jupyter.widget-view+json": {
       "version_major": 2,
       "version_minor": 0,
       "model_id": "0a55e46ee4e54d2a8d45416f8dd6d655"
      }
     },
     "metadata": {},
     "output_type": "display_data"
    },
    {
     "name": "stdout",
     "output_type": "stream",
     "text": [
      "2021-11-11 20:40:32 | INFO | hw5.seq2seq | example source: but i sat there for hours , and nothing came to mind .\n",
      "2021-11-11 20:40:32 | INFO | hw5.seq2seq | example hypothesis: 但我坐在那裡待了幾個小時 , 沒有什麼想法 。\n",
      "2021-11-11 20:40:32 | INFO | hw5.seq2seq | example reference: 我坐了好幾個小時卻一點想法都沒有\n",
      "2021-11-11 20:40:32 | INFO | hw5.seq2seq | validation loss:\t3.7449\n",
      "2021-11-11 20:40:32 | INFO | hw5.seq2seq | BLEU = 19.71 50.2/26.2/14.7/8.6 (BP = 0.978 ratio = 0.978 hyp_len = 109334 ref_len = 111811)\n",
      "2021-11-11 20:40:32 | INFO | hw5.seq2seq | saved epoch checkpoint: /home/wy/ML_study/chapter5/checkpoints/rnn/checkpoint156.pt\n",
      "2021-11-11 20:40:32 | INFO | hw5.seq2seq | end of epoch 156\n"
     ]
    },
    {
     "data": {
      "text/plain": "HBox(children=(HTML(value='train epoch 157'), FloatProgress(value=0.0, max=791.0), HTML(value='')))",
      "application/vnd.jupyter.widget-view+json": {
       "version_major": 2,
       "version_minor": 0,
       "model_id": "4630c7a404cb4f7e8a2066853d5302f5"
      }
     },
     "metadata": {},
     "output_type": "display_data"
    },
    {
     "name": "stdout",
     "output_type": "stream",
     "text": [
      "2021-11-11 20:41:36 | INFO | hw5.seq2seq | training loss: 3.6774\n",
      "2021-11-11 20:41:36 | INFO | hw5.seq2seq | begin validation\n"
     ]
    },
    {
     "data": {
      "text/plain": "HBox(children=(HTML(value='validation'), FloatProgress(value=0.0, max=22.0), HTML(value='')))",
      "application/vnd.jupyter.widget-view+json": {
       "version_major": 2,
       "version_minor": 0,
       "model_id": "574134f0159d43b9984e3b52da7933b7"
      }
     },
     "metadata": {},
     "output_type": "display_data"
    },
    {
     "name": "stdout",
     "output_type": "stream",
     "text": [
      "2021-11-11 20:41:52 | INFO | hw5.seq2seq | example source: let me tell you about mahabuba .\n",
      "2021-11-11 20:41:52 | INFO | hw5.seq2seq | example hypothesis: 讓我告訴各位關於馬哈布巴的故事 。\n",
      "2021-11-11 20:41:52 | INFO | hw5.seq2seq | example reference: 分享mahabuba的故事\n",
      "2021-11-11 20:41:52 | INFO | hw5.seq2seq | validation loss:\t3.7507\n",
      "2021-11-11 20:41:52 | INFO | hw5.seq2seq | BLEU = 19.61 51.0/26.6/14.9/8.8 (BP = 0.956 ratio = 0.957 hyp_len = 107028 ref_len = 111811)\n",
      "2021-11-11 20:41:53 | INFO | hw5.seq2seq | saved epoch checkpoint: /home/wy/ML_study/chapter5/checkpoints/rnn/checkpoint157.pt\n",
      "2021-11-11 20:41:53 | INFO | hw5.seq2seq | end of epoch 157\n"
     ]
    },
    {
     "data": {
      "text/plain": "HBox(children=(HTML(value='train epoch 158'), FloatProgress(value=0.0, max=791.0), HTML(value='')))",
      "application/vnd.jupyter.widget-view+json": {
       "version_major": 2,
       "version_minor": 0,
       "model_id": "3fd598920ea04714907179ddf9454baf"
      }
     },
     "metadata": {},
     "output_type": "display_data"
    },
    {
     "name": "stdout",
     "output_type": "stream",
     "text": [
      "2021-11-11 20:42:56 | INFO | hw5.seq2seq | training loss: 3.6765\n",
      "2021-11-11 20:42:56 | INFO | hw5.seq2seq | begin validation\n"
     ]
    },
    {
     "data": {
      "text/plain": "HBox(children=(HTML(value='validation'), FloatProgress(value=0.0, max=22.0), HTML(value='')))",
      "application/vnd.jupyter.widget-view+json": {
       "version_major": 2,
       "version_minor": 0,
       "model_id": "5e90e8f40f814dfc9f7a8c0e55d4452c"
      }
     },
     "metadata": {},
     "output_type": "display_data"
    },
    {
     "name": "stdout",
     "output_type": "stream",
     "text": [
      "2021-11-11 20:43:13 | INFO | hw5.seq2seq | example source: a volunteer would write a sentence on the chalkboard , and the other students had to guess whether it was a truth or a lie .\n",
      "2021-11-11 20:43:13 | INFO | hw5.seq2seq | example hypothesis: 一位志工會在桌上寫一句話 , 而其他學生必須猜測它是真相或謊 。\n",
      "2021-11-11 20:43:13 | INFO | hw5.seq2seq | example reference: 一個學生在黑板上寫了一句話另一個學生要去猜這是實話還是謊言 。\n",
      "2021-11-11 20:43:13 | INFO | hw5.seq2seq | validation loss:\t3.7449\n",
      "2021-11-11 20:43:13 | INFO | hw5.seq2seq | BLEU = 19.50 50.6/26.3/14.6/8.5 (BP = 0.966 ratio = 0.967 hyp_len = 108116 ref_len = 111811)\n",
      "2021-11-11 20:43:13 | INFO | hw5.seq2seq | saved epoch checkpoint: /home/wy/ML_study/chapter5/checkpoints/rnn/checkpoint158.pt\n",
      "2021-11-11 20:43:13 | INFO | hw5.seq2seq | end of epoch 158\n"
     ]
    },
    {
     "data": {
      "text/plain": "HBox(children=(HTML(value='train epoch 159'), FloatProgress(value=0.0, max=791.0), HTML(value='')))",
      "application/vnd.jupyter.widget-view+json": {
       "version_major": 2,
       "version_minor": 0,
       "model_id": "2b3310f9634e49a6a38031e1fea86514"
      }
     },
     "metadata": {},
     "output_type": "display_data"
    },
    {
     "name": "stdout",
     "output_type": "stream",
     "text": [
      "2021-11-11 20:44:16 | INFO | hw5.seq2seq | training loss: 3.6757\n",
      "2021-11-11 20:44:16 | INFO | hw5.seq2seq | begin validation\n"
     ]
    },
    {
     "data": {
      "text/plain": "HBox(children=(HTML(value='validation'), FloatProgress(value=0.0, max=22.0), HTML(value='')))",
      "application/vnd.jupyter.widget-view+json": {
       "version_major": 2,
       "version_minor": 0,
       "model_id": "0da732aef3d44257b1ce09df8f8ae9c5"
      }
     },
     "metadata": {},
     "output_type": "display_data"
    },
    {
     "name": "stdout",
     "output_type": "stream",
     "text": [
      "2021-11-11 20:44:35 | INFO | hw5.seq2seq | example source: it seems a little bit crazy , but it's not .\n",
      "2021-11-11 20:44:35 | INFO | hw5.seq2seq | example hypothesis: 這聽起來有點瘋狂 , 但並非如此 。\n",
      "2021-11-11 20:44:35 | INFO | hw5.seq2seq | example reference: 聽起來有點假但是不是的\n",
      "2021-11-11 20:44:35 | INFO | hw5.seq2seq | validation loss:\t3.7516\n",
      "2021-11-11 20:44:35 | INFO | hw5.seq2seq | BLEU = 19.36 51.3/26.8/14.9/8.7 (BP = 0.941 ratio = 0.943 hyp_len = 105410 ref_len = 111811)\n",
      "2021-11-11 20:44:36 | INFO | hw5.seq2seq | saved epoch checkpoint: /home/wy/ML_study/chapter5/checkpoints/rnn/checkpoint159.pt\n",
      "2021-11-11 20:44:36 | INFO | hw5.seq2seq | end of epoch 159\n"
     ]
    },
    {
     "data": {
      "text/plain": "HBox(children=(HTML(value='train epoch 160'), FloatProgress(value=0.0, max=791.0), HTML(value='')))",
      "application/vnd.jupyter.widget-view+json": {
       "version_major": 2,
       "version_minor": 0,
       "model_id": "4c2cf2d2c94b461099e7190322ac2e4c"
      }
     },
     "metadata": {},
     "output_type": "display_data"
    },
    {
     "name": "stdout",
     "output_type": "stream",
     "text": [
      "2021-11-11 20:45:39 | INFO | hw5.seq2seq | training loss: 3.6765\n",
      "2021-11-11 20:45:39 | INFO | hw5.seq2seq | begin validation\n"
     ]
    },
    {
     "data": {
      "text/plain": "HBox(children=(HTML(value='validation'), FloatProgress(value=0.0, max=22.0), HTML(value='')))",
      "application/vnd.jupyter.widget-view+json": {
       "version_major": 2,
       "version_minor": 0,
       "model_id": "d88b6a4c8c514fb3ae26cab9bb791dab"
      }
     },
     "metadata": {},
     "output_type": "display_data"
    },
    {
     "name": "stdout",
     "output_type": "stream",
     "text": [
      "2021-11-11 20:45:56 | INFO | hw5.seq2seq | example source: number five: entrepreneurship .\n",
      "2021-11-11 20:45:56 | INFO | hw5.seq2seq | example hypothesis: 第五點:企業家精神 。\n",
      "2021-11-11 20:45:56 | INFO | hw5.seq2seq | example reference: 五:創業 。\n",
      "2021-11-11 20:45:56 | INFO | hw5.seq2seq | validation loss:\t3.7475\n",
      "2021-11-11 20:45:56 | INFO | hw5.seq2seq | BLEU = 19.57 50.4/26.2/14.6/8.5 (BP = 0.973 ratio = 0.973 hyp_len = 108827 ref_len = 111811)\n",
      "2021-11-11 20:45:56 | INFO | hw5.seq2seq | saved epoch checkpoint: /home/wy/ML_study/chapter5/checkpoints/rnn/checkpoint160.pt\n",
      "2021-11-11 20:45:56 | INFO | hw5.seq2seq | end of epoch 160\n"
     ]
    },
    {
     "data": {
      "text/plain": "HBox(children=(HTML(value='train epoch 161'), FloatProgress(value=0.0, max=791.0), HTML(value='')))",
      "application/vnd.jupyter.widget-view+json": {
       "version_major": 2,
       "version_minor": 0,
       "model_id": "a225b04a34be4e98a5c9602b9575f70a"
      }
     },
     "metadata": {},
     "output_type": "display_data"
    },
    {
     "name": "stdout",
     "output_type": "stream",
     "text": [
      "2021-11-11 20:46:59 | INFO | hw5.seq2seq | training loss: 3.6754\n",
      "2021-11-11 20:46:59 | INFO | hw5.seq2seq | begin validation\n"
     ]
    },
    {
     "data": {
      "text/plain": "HBox(children=(HTML(value='validation'), FloatProgress(value=0.0, max=22.0), HTML(value='')))",
      "application/vnd.jupyter.widget-view+json": {
       "version_major": 2,
       "version_minor": 0,
       "model_id": "7b63305a6df942d9ab717f010a48d9b8"
      }
     },
     "metadata": {},
     "output_type": "display_data"
    },
    {
     "name": "stdout",
     "output_type": "stream",
     "text": [
      "2021-11-11 20:47:17 | INFO | hw5.seq2seq | example source: now this is statistically impossible .\n",
      "2021-11-11 20:47:17 | INFO | hw5.seq2seq | example hypothesis: 這完全是不可能的 。\n",
      "2021-11-11 20:47:17 | INFO | hw5.seq2seq | example reference: 這是完全不可能的\n",
      "2021-11-11 20:47:17 | INFO | hw5.seq2seq | validation loss:\t3.7486\n",
      "2021-11-11 20:47:17 | INFO | hw5.seq2seq | BLEU = 19.54 50.8/26.5/14.8/8.7 (BP = 0.957 ratio = 0.958 hyp_len = 107068 ref_len = 111811)\n",
      "2021-11-11 20:47:17 | INFO | hw5.seq2seq | saved epoch checkpoint: /home/wy/ML_study/chapter5/checkpoints/rnn/checkpoint161.pt\n",
      "2021-11-11 20:47:17 | INFO | hw5.seq2seq | end of epoch 161\n"
     ]
    },
    {
     "data": {
      "text/plain": "HBox(children=(HTML(value='train epoch 162'), FloatProgress(value=0.0, max=791.0), HTML(value='')))",
      "application/vnd.jupyter.widget-view+json": {
       "version_major": 2,
       "version_minor": 0,
       "model_id": "4b706b8a258141b18bc437cd2a2cd8cf"
      }
     },
     "metadata": {},
     "output_type": "display_data"
    },
    {
     "name": "stdout",
     "output_type": "stream",
     "text": [
      "2021-11-11 20:48:20 | INFO | hw5.seq2seq | training loss: 3.6754\n",
      "2021-11-11 20:48:20 | INFO | hw5.seq2seq | begin validation\n"
     ]
    },
    {
     "data": {
      "text/plain": "HBox(children=(HTML(value='validation'), FloatProgress(value=0.0, max=22.0), HTML(value='')))",
      "application/vnd.jupyter.widget-view+json": {
       "version_major": 2,
       "version_minor": 0,
       "model_id": "7cdc2e697d8949b6b44d36ef7247e5d3"
      }
     },
     "metadata": {},
     "output_type": "display_data"
    },
    {
     "name": "stdout",
     "output_type": "stream",
     "text": [
      "2021-11-11 20:48:36 | INFO | hw5.seq2seq | example source: and the best teachers were the girls , not the boys , and they were terrific .\n",
      "2021-11-11 20:48:36 | INFO | hw5.seq2seq | example hypothesis: 最好的老師是女孩 , 而不是男孩 , 他們很棒 。\n",
      "2021-11-11 20:48:36 | INFO | hw5.seq2seq | example reference: 最棒的老師都是女孩子 , 而不是男孩 。 她們都很厲害 。\n",
      "2021-11-11 20:48:36 | INFO | hw5.seq2seq | validation loss:\t3.7495\n",
      "2021-11-11 20:48:36 | INFO | hw5.seq2seq | BLEU = 19.36 51.6/26.9/15.0/8.7 (BP = 0.938 ratio = 0.940 hyp_len = 105099 ref_len = 111811)\n",
      "2021-11-11 20:48:36 | INFO | hw5.seq2seq | saved epoch checkpoint: /home/wy/ML_study/chapter5/checkpoints/rnn/checkpoint162.pt\n",
      "2021-11-11 20:48:36 | INFO | hw5.seq2seq | end of epoch 162\n"
     ]
    },
    {
     "data": {
      "text/plain": "HBox(children=(HTML(value='train epoch 163'), FloatProgress(value=0.0, max=791.0), HTML(value='')))",
      "application/vnd.jupyter.widget-view+json": {
       "version_major": 2,
       "version_minor": 0,
       "model_id": "fbb91b9285d343f085679cfa10b70865"
      }
     },
     "metadata": {},
     "output_type": "display_data"
    },
    {
     "name": "stdout",
     "output_type": "stream",
     "text": [
      "2021-11-11 20:49:39 | INFO | hw5.seq2seq | training loss: 3.6740\n",
      "2021-11-11 20:49:39 | INFO | hw5.seq2seq | begin validation\n"
     ]
    },
    {
     "data": {
      "text/plain": "HBox(children=(HTML(value='validation'), FloatProgress(value=0.0, max=22.0), HTML(value='')))",
      "application/vnd.jupyter.widget-view+json": {
       "version_major": 2,
       "version_minor": 0,
       "model_id": "ce481964b9f4485abae3afa50ece3e1e"
      }
     },
     "metadata": {},
     "output_type": "display_data"
    },
    {
     "name": "stdout",
     "output_type": "stream",
     "text": [
      "2021-11-11 20:49:56 | INFO | hw5.seq2seq | example source: it's what those light and dark surrounds meant for your behavior in the past .\n",
      "2021-11-11 20:49:56 | INFO | hw5.seq2seq | example hypothesis: 那些光和暗的背景是你在過去的行為 。\n",
      "2021-11-11 20:49:56 | INFO | hw5.seq2seq | example reference: 而是周圍亮暗這件事對你過去的行為意味著什麼\n",
      "2021-11-11 20:49:56 | INFO | hw5.seq2seq | validation loss:\t3.7523\n",
      "2021-11-11 20:49:56 | INFO | hw5.seq2seq | BLEU = 19.56 51.0/26.6/14.9/8.7 (BP = 0.954 ratio = 0.955 hyp_len = 106786 ref_len = 111811)\n",
      "2021-11-11 20:49:56 | INFO | hw5.seq2seq | saved epoch checkpoint: /home/wy/ML_study/chapter5/checkpoints/rnn/checkpoint163.pt\n",
      "2021-11-11 20:49:56 | INFO | hw5.seq2seq | end of epoch 163\n"
     ]
    },
    {
     "data": {
      "text/plain": "HBox(children=(HTML(value='train epoch 164'), FloatProgress(value=0.0, max=791.0), HTML(value='')))",
      "application/vnd.jupyter.widget-view+json": {
       "version_major": 2,
       "version_minor": 0,
       "model_id": "2ea6c0fd6cb94a0da2cc7beea5d843f4"
      }
     },
     "metadata": {},
     "output_type": "display_data"
    },
    {
     "name": "stdout",
     "output_type": "stream",
     "text": [
      "2021-11-11 20:50:59 | INFO | hw5.seq2seq | training loss: 3.6733\n",
      "2021-11-11 20:50:59 | INFO | hw5.seq2seq | begin validation\n"
     ]
    },
    {
     "data": {
      "text/plain": "HBox(children=(HTML(value='validation'), FloatProgress(value=0.0, max=22.0), HTML(value='')))",
      "application/vnd.jupyter.widget-view+json": {
       "version_major": 2,
       "version_minor": 0,
       "model_id": "9c4ea9f72aa64a8f9d140bf536321908"
      }
     },
     "metadata": {},
     "output_type": "display_data"
    },
    {
     "name": "stdout",
     "output_type": "stream",
     "text": [
      "2021-11-11 20:51:16 | INFO | hw5.seq2seq | example source: as oil prices go up , energy patents go up .\n",
      "2021-11-11 20:51:16 | INFO | hw5.seq2seq | example hypothesis: 隨著石油價格升高 , 能源專利就會上升 。\n",
      "2021-11-11 20:51:16 | INFO | hw5.seq2seq | example reference: 隨著油價上漲 , 能源專利也愈多 。\n",
      "2021-11-11 20:51:16 | INFO | hw5.seq2seq | validation loss:\t3.7484\n",
      "2021-11-11 20:51:16 | INFO | hw5.seq2seq | BLEU = 19.48 51.1/26.6/14.8/8.6 (BP = 0.954 ratio = 0.955 hyp_len = 106779 ref_len = 111811)\n",
      "2021-11-11 20:51:16 | INFO | hw5.seq2seq | saved epoch checkpoint: /home/wy/ML_study/chapter5/checkpoints/rnn/checkpoint164.pt\n",
      "2021-11-11 20:51:16 | INFO | hw5.seq2seq | end of epoch 164\n"
     ]
    },
    {
     "data": {
      "text/plain": "HBox(children=(HTML(value='train epoch 165'), FloatProgress(value=0.0, max=791.0), HTML(value='')))",
      "application/vnd.jupyter.widget-view+json": {
       "version_major": 2,
       "version_minor": 0,
       "model_id": "23d7fe7e58ca4904a49135f0d5402592"
      }
     },
     "metadata": {},
     "output_type": "display_data"
    },
    {
     "name": "stdout",
     "output_type": "stream",
     "text": [
      "2021-11-11 20:52:19 | INFO | hw5.seq2seq | training loss: 3.6739\n",
      "2021-11-11 20:52:19 | INFO | hw5.seq2seq | begin validation\n"
     ]
    },
    {
     "data": {
      "text/plain": "HBox(children=(HTML(value='validation'), FloatProgress(value=0.0, max=22.0), HTML(value='')))",
      "application/vnd.jupyter.widget-view+json": {
       "version_major": 2,
       "version_minor": 0,
       "model_id": "a38478aa81be4cb4af84cd2d4b37d9e2"
      }
     },
     "metadata": {},
     "output_type": "display_data"
    },
    {
     "name": "stdout",
     "output_type": "stream",
     "text": [
      "2021-11-11 20:52:36 | INFO | hw5.seq2seq | example source: and i remember the first letter .\n",
      "2021-11-11 20:52:36 | INFO | hw5.seq2seq | example hypothesis: 我記得第一封信 。\n",
      "2021-11-11 20:52:36 | INFO | hw5.seq2seq | example reference: 我一直記得第一封回信的內容 。\n",
      "2021-11-11 20:52:36 | INFO | hw5.seq2seq | validation loss:\t3.7457\n",
      "2021-11-11 20:52:36 | INFO | hw5.seq2seq | BLEU = 19.59 50.0/26.0/14.5/8.5 (BP = 0.981 ratio = 0.981 hyp_len = 109657 ref_len = 111811)\n",
      "2021-11-11 20:52:36 | INFO | hw5.seq2seq | saved epoch checkpoint: /home/wy/ML_study/chapter5/checkpoints/rnn/checkpoint165.pt\n",
      "2021-11-11 20:52:36 | INFO | hw5.seq2seq | end of epoch 165\n"
     ]
    },
    {
     "data": {
      "text/plain": "HBox(children=(HTML(value='train epoch 166'), FloatProgress(value=0.0, max=791.0), HTML(value='')))",
      "application/vnd.jupyter.widget-view+json": {
       "version_major": 2,
       "version_minor": 0,
       "model_id": "145f14b1d9624e068afb49c618b48a01"
      }
     },
     "metadata": {},
     "output_type": "display_data"
    },
    {
     "name": "stdout",
     "output_type": "stream",
     "text": [
      "2021-11-11 20:53:40 | INFO | hw5.seq2seq | training loss: 3.6733\n",
      "2021-11-11 20:53:40 | INFO | hw5.seq2seq | begin validation\n"
     ]
    },
    {
     "data": {
      "text/plain": "HBox(children=(HTML(value='validation'), FloatProgress(value=0.0, max=22.0), HTML(value='')))",
      "application/vnd.jupyter.widget-view+json": {
       "version_major": 2,
       "version_minor": 0,
       "model_id": "34cbf874c19c4c0cabf5f9b78b97fa69"
      }
     },
     "metadata": {},
     "output_type": "display_data"
    },
    {
     "name": "stdout",
     "output_type": "stream",
     "text": [
      "2021-11-11 20:53:56 | INFO | hw5.seq2seq | example source: and actually , i can relate to the whole like acronym thing and everything .\n",
      "2021-11-11 20:53:56 | INFO | hw5.seq2seq | example hypothesis: 實際上 , 我幾乎可以和所有東西一樣 。\n",
      "2021-11-11 20:53:56 | INFO | hw5.seq2seq | example reference: 事實上 , 我也和某些縮寫相關的事很有淵源 。\n",
      "2021-11-11 20:53:56 | INFO | hw5.seq2seq | validation loss:\t3.7487\n",
      "2021-11-11 20:53:56 | INFO | hw5.seq2seq | BLEU = 19.56 51.0/26.7/14.9/8.7 (BP = 0.954 ratio = 0.955 hyp_len = 106762 ref_len = 111811)\n",
      "2021-11-11 20:53:56 | INFO | hw5.seq2seq | saved epoch checkpoint: /home/wy/ML_study/chapter5/checkpoints/rnn/checkpoint166.pt\n",
      "2021-11-11 20:53:56 | INFO | hw5.seq2seq | end of epoch 166\n"
     ]
    },
    {
     "data": {
      "text/plain": "HBox(children=(HTML(value='train epoch 167'), FloatProgress(value=0.0, max=791.0), HTML(value='')))",
      "application/vnd.jupyter.widget-view+json": {
       "version_major": 2,
       "version_minor": 0,
       "model_id": "5bd46789a8174d7782a92f4b70fe14b3"
      }
     },
     "metadata": {},
     "output_type": "display_data"
    },
    {
     "name": "stdout",
     "output_type": "stream",
     "text": [
      "2021-11-11 20:54:59 | INFO | hw5.seq2seq | training loss: 3.6712\n",
      "2021-11-11 20:54:59 | INFO | hw5.seq2seq | begin validation\n"
     ]
    },
    {
     "data": {
      "text/plain": "HBox(children=(HTML(value='validation'), FloatProgress(value=0.0, max=22.0), HTML(value='')))",
      "application/vnd.jupyter.widget-view+json": {
       "version_major": 2,
       "version_minor": 0,
       "model_id": "f65524fff7e2484a81ef1c6d10d67db7"
      }
     },
     "metadata": {},
     "output_type": "display_data"
    },
    {
     "name": "stdout",
     "output_type": "stream",
     "text": [
      "2021-11-11 20:55:16 | INFO | hw5.seq2seq | example source: to me , that represents hope .\n",
      "2021-11-11 20:55:16 | INFO | hw5.seq2seq | example hypothesis: 對我來說 , 這代表了希望 。\n",
      "2021-11-11 20:55:16 | INFO | hw5.seq2seq | example reference: 對我而言 , 那代表的是希望 。\n",
      "2021-11-11 20:55:16 | INFO | hw5.seq2seq | validation loss:\t3.7429\n",
      "2021-11-11 20:55:16 | INFO | hw5.seq2seq | BLEU = 19.52 49.3/25.4/14.1/8.2 (BP = 1.000 ratio = 1.001 hyp_len = 111949 ref_len = 111811)\n",
      "2021-11-11 20:55:16 | INFO | hw5.seq2seq | saved epoch checkpoint: /home/wy/ML_study/chapter5/checkpoints/rnn/checkpoint167.pt\n",
      "2021-11-11 20:55:16 | INFO | hw5.seq2seq | end of epoch 167\n"
     ]
    },
    {
     "data": {
      "text/plain": "HBox(children=(HTML(value='train epoch 168'), FloatProgress(value=0.0, max=791.0), HTML(value='')))",
      "application/vnd.jupyter.widget-view+json": {
       "version_major": 2,
       "version_minor": 0,
       "model_id": "6b70299da98647a49cea885af6e024c3"
      }
     },
     "metadata": {},
     "output_type": "display_data"
    },
    {
     "name": "stdout",
     "output_type": "stream",
     "text": [
      "2021-11-11 20:56:18 | INFO | hw5.seq2seq | training loss: 3.6720\n",
      "2021-11-11 20:56:18 | INFO | hw5.seq2seq | begin validation\n"
     ]
    },
    {
     "data": {
      "text/plain": "HBox(children=(HTML(value='validation'), FloatProgress(value=0.0, max=22.0), HTML(value='')))",
      "application/vnd.jupyter.widget-view+json": {
       "version_major": 2,
       "version_minor": 0,
       "model_id": "81675bf7be68488d8eb8d7243d9cd74a"
      }
     },
     "metadata": {},
     "output_type": "display_data"
    },
    {
     "name": "stdout",
     "output_type": "stream",
     "text": [
      "2021-11-11 20:56:35 | INFO | hw5.seq2seq | example source: they hang around until the mating flight , but they don't participate in gathering nectar or pollen .\n",
      "2021-11-11 20:56:35 | INFO | hw5.seq2seq | example hypothesis: 直到飛行飛行 , 直到交配飛行 , 但他們不參與聚集或花粉 。\n",
      "2021-11-11 20:56:35 | INFO | hw5.seq2seq | example reference: 從來不參與採集花蜜和花粉 。\n",
      "2021-11-11 20:56:35 | INFO | hw5.seq2seq | validation loss:\t3.7535\n",
      "2021-11-11 20:56:35 | INFO | hw5.seq2seq | BLEU = 19.60 49.8/25.9/14.4/8.4 (BP = 0.986 ratio = 0.986 hyp_len = 110232 ref_len = 111811)\n",
      "2021-11-11 20:56:35 | INFO | hw5.seq2seq | saved epoch checkpoint: /home/wy/ML_study/chapter5/checkpoints/rnn/checkpoint168.pt\n",
      "2021-11-11 20:56:35 | INFO | hw5.seq2seq | end of epoch 168\n"
     ]
    },
    {
     "data": {
      "text/plain": "HBox(children=(HTML(value='train epoch 169'), FloatProgress(value=0.0, max=791.0), HTML(value='')))",
      "application/vnd.jupyter.widget-view+json": {
       "version_major": 2,
       "version_minor": 0,
       "model_id": "cf8b9f20a85d4858a94f93deacf14c69"
      }
     },
     "metadata": {},
     "output_type": "display_data"
    },
    {
     "name": "stdout",
     "output_type": "stream",
     "text": [
      "2021-11-11 20:57:38 | INFO | hw5.seq2seq | training loss: 3.6715\n",
      "2021-11-11 20:57:38 | INFO | hw5.seq2seq | begin validation\n"
     ]
    },
    {
     "data": {
      "text/plain": "HBox(children=(HTML(value='validation'), FloatProgress(value=0.0, max=22.0), HTML(value='')))",
      "application/vnd.jupyter.widget-view+json": {
       "version_major": 2,
       "version_minor": 0,
       "model_id": "dc9fe90d4ea547048f8805f2d817e748"
      }
     },
     "metadata": {},
     "output_type": "display_data"
    },
    {
     "name": "stdout",
     "output_type": "stream",
     "text": [
      "2021-11-11 20:57:55 | INFO | hw5.seq2seq | example source: that would be a beautiful thing .\n",
      "2021-11-11 20:57:55 | INFO | hw5.seq2seq | example hypothesis: 那會是一件美麗的事 。\n",
      "2021-11-11 20:57:55 | INFO | hw5.seq2seq | example reference: 那將會很美好\n",
      "2021-11-11 20:57:55 | INFO | hw5.seq2seq | validation loss:\t3.7474\n",
      "2021-11-11 20:57:55 | INFO | hw5.seq2seq | BLEU = 19.58 49.8/25.9/14.4/8.4 (BP = 0.985 ratio = 0.985 hyp_len = 110108 ref_len = 111811)\n",
      "2021-11-11 20:57:56 | INFO | hw5.seq2seq | saved epoch checkpoint: /home/wy/ML_study/chapter5/checkpoints/rnn/checkpoint169.pt\n",
      "2021-11-11 20:57:56 | INFO | hw5.seq2seq | end of epoch 169\n"
     ]
    },
    {
     "data": {
      "text/plain": "HBox(children=(HTML(value='train epoch 170'), FloatProgress(value=0.0, max=791.0), HTML(value='')))",
      "application/vnd.jupyter.widget-view+json": {
       "version_major": 2,
       "version_minor": 0,
       "model_id": "473f501a1c254af78f438db75d360233"
      }
     },
     "metadata": {},
     "output_type": "display_data"
    },
    {
     "name": "stdout",
     "output_type": "stream",
     "text": [
      "2021-11-11 20:59:05 | INFO | hw5.seq2seq | training loss: 3.6713\n",
      "2021-11-11 20:59:05 | INFO | hw5.seq2seq | begin validation\n"
     ]
    },
    {
     "data": {
      "text/plain": "HBox(children=(HTML(value='validation'), FloatProgress(value=0.0, max=22.0), HTML(value='')))",
      "application/vnd.jupyter.widget-view+json": {
       "version_major": 2,
       "version_minor": 0,
       "model_id": "a74b9792fc52408ab880261c8cd8596d"
      }
     },
     "metadata": {},
     "output_type": "display_data"
    },
    {
     "name": "stdout",
     "output_type": "stream",
     "text": [
      "2021-11-11 20:59:25 | INFO | hw5.seq2seq | example source: i want to tell you how 20 , 000 remarkable young people from over 100 countries ended up in cuba and are transforming health in their communities .\n",
      "2021-11-11 20:59:25 | INFO | hw5.seq2seq | example hypothesis: 我想要告訴各位20 , 000名傑出的年輕人 , 超過100個國家末端 , 住在古巴 , 並在他們的社區中改變健康 。\n",
      "2021-11-11 20:59:25 | INFO | hw5.seq2seq | example reference: 我要告訴大家 , 為什麼2萬個傑出的年輕人 , 來自100多個國家 , 當初會選擇去古巴 , 而現在正在改善他們的社區衛生 。\n",
      "2021-11-11 20:59:25 | INFO | hw5.seq2seq | validation loss:\t3.7488\n",
      "2021-11-11 20:59:25 | INFO | hw5.seq2seq | BLEU = 19.45 51.4/26.8/14.9/8.7 (BP = 0.946 ratio = 0.948 hyp_len = 105982 ref_len = 111811)\n",
      "2021-11-11 20:59:25 | INFO | hw5.seq2seq | saved epoch checkpoint: /home/wy/ML_study/chapter5/checkpoints/rnn/checkpoint170.pt\n",
      "2021-11-11 20:59:25 | INFO | hw5.seq2seq | end of epoch 170\n"
     ]
    },
    {
     "data": {
      "text/plain": "HBox(children=(HTML(value='train epoch 171'), FloatProgress(value=0.0, max=791.0), HTML(value='')))",
      "application/vnd.jupyter.widget-view+json": {
       "version_major": 2,
       "version_minor": 0,
       "model_id": "7f6c56f782b743f58e21c15317621b57"
      }
     },
     "metadata": {},
     "output_type": "display_data"
    },
    {
     "name": "stdout",
     "output_type": "stream",
     "text": [
      "2021-11-11 21:00:28 | INFO | hw5.seq2seq | training loss: 3.6694\n",
      "2021-11-11 21:00:28 | INFO | hw5.seq2seq | begin validation\n"
     ]
    },
    {
     "data": {
      "text/plain": "HBox(children=(HTML(value='validation'), FloatProgress(value=0.0, max=22.0), HTML(value='')))",
      "application/vnd.jupyter.widget-view+json": {
       "version_major": 2,
       "version_minor": 0,
       "model_id": "5b14e91a68454f08af9ad4f9f35db87d"
      }
     },
     "metadata": {},
     "output_type": "display_data"
    },
    {
     "name": "stdout",
     "output_type": "stream",
     "text": [
      "2021-11-11 21:00:44 | INFO | hw5.seq2seq | example source: what is unique about this demographic dividend is that india will be the only country in the world to have this demographic dividend .\n",
      "2021-11-11 21:00:44 | INFO | hw5.seq2seq | example hypothesis: 關於這個人口統計的國家 , 是因為印度是世界上唯一一個人口分裂的國家 。\n",
      "2021-11-11 21:00:44 | INFO | hw5.seq2seq | example reference: 印度是世界上唯一能夠因為人口增加 , 而享有好處的國家 。\n",
      "2021-11-11 21:00:44 | INFO | hw5.seq2seq | validation loss:\t3.7511\n",
      "2021-11-11 21:00:44 | INFO | hw5.seq2seq | BLEU = 19.40 51.5/26.9/15.0/8.8 (BP = 0.940 ratio = 0.941 hyp_len = 105244 ref_len = 111811)\n",
      "2021-11-11 21:00:44 | INFO | hw5.seq2seq | saved epoch checkpoint: /home/wy/ML_study/chapter5/checkpoints/rnn/checkpoint171.pt\n",
      "2021-11-11 21:00:44 | INFO | hw5.seq2seq | end of epoch 171\n"
     ]
    },
    {
     "data": {
      "text/plain": "HBox(children=(HTML(value='train epoch 172'), FloatProgress(value=0.0, max=791.0), HTML(value='')))",
      "application/vnd.jupyter.widget-view+json": {
       "version_major": 2,
       "version_minor": 0,
       "model_id": "9a2af8bfb2f1467a9ae2d7522e31ada4"
      }
     },
     "metadata": {},
     "output_type": "display_data"
    },
    {
     "name": "stdout",
     "output_type": "stream",
     "text": [
      "2021-11-11 21:01:47 | INFO | hw5.seq2seq | training loss: 3.6695\n",
      "2021-11-11 21:01:47 | INFO | hw5.seq2seq | begin validation\n"
     ]
    },
    {
     "data": {
      "text/plain": "HBox(children=(HTML(value='validation'), FloatProgress(value=0.0, max=22.0), HTML(value='')))",
      "application/vnd.jupyter.widget-view+json": {
       "version_major": 2,
       "version_minor": 0,
       "model_id": "06876937daaf4cfd96b5171d85897276"
      }
     },
     "metadata": {},
     "output_type": "display_data"
    },
    {
     "name": "stdout",
     "output_type": "stream",
     "text": [
      "2021-11-11 21:02:03 | INFO | hw5.seq2seq | example source: people who don't have neighbors of a different race are about twice as likely to oppose interracial marriage as people who do .\n",
      "2021-11-11 21:02:03 | INFO | hw5.seq2seq | example hypothesis: 不同種族隔離的人 , 可能是兩倍以上的對象 , 可能是對兩種族群的偏見 , 來對抗不同種族的人 。\n",
      "2021-11-11 21:02:03 | INFO | hw5.seq2seq | example reference: 來自單一種族社區的民眾對這問題的支持率是另一組的兩倍反對異族通婚\n",
      "2021-11-11 21:02:03 | INFO | hw5.seq2seq | validation loss:\t3.7447\n",
      "2021-11-11 21:02:03 | INFO | hw5.seq2seq | BLEU = 19.62 51.1/26.6/14.9/8.8 (BP = 0.955 ratio = 0.956 hyp_len = 106893 ref_len = 111811)\n",
      "2021-11-11 21:02:04 | INFO | hw5.seq2seq | saved epoch checkpoint: /home/wy/ML_study/chapter5/checkpoints/rnn/checkpoint172.pt\n",
      "2021-11-11 21:02:04 | INFO | hw5.seq2seq | end of epoch 172\n"
     ]
    },
    {
     "data": {
      "text/plain": "HBox(children=(HTML(value='train epoch 173'), FloatProgress(value=0.0, max=791.0), HTML(value='')))",
      "application/vnd.jupyter.widget-view+json": {
       "version_major": 2,
       "version_minor": 0,
       "model_id": "9faa91e5d036400c8dd1685cf97aee30"
      }
     },
     "metadata": {},
     "output_type": "display_data"
    },
    {
     "name": "stdout",
     "output_type": "stream",
     "text": [
      "2021-11-11 21:03:06 | INFO | hw5.seq2seq | training loss: 3.6699\n",
      "2021-11-11 21:03:06 | INFO | hw5.seq2seq | begin validation\n"
     ]
    },
    {
     "data": {
      "text/plain": "HBox(children=(HTML(value='validation'), FloatProgress(value=0.0, max=22.0), HTML(value='')))",
      "application/vnd.jupyter.widget-view+json": {
       "version_major": 2,
       "version_minor": 0,
       "model_id": "00bee66173e645f2a05367a14af179e5"
      }
     },
     "metadata": {},
     "output_type": "display_data"
    },
    {
     "name": "stdout",
     "output_type": "stream",
     "text": [
      "2021-11-11 21:03:24 | INFO | hw5.seq2seq | example source: so all the evidence is that when women actually have the chance to serve , they make a huge difference and they get the job done .\n",
      "2021-11-11 21:03:24 | INFO | hw5.seq2seq | example hypothesis: 所有證據顯示 , 當女性有機會去服務時 , 他們會做出很大的改變 , 她們就有機會去服務 。\n",
      "2021-11-11 21:03:24 | INFO | hw5.seq2seq | example reference: 所有的證據都顯示 , 當女性有機會可以服務時 , 她們造成很大的不同 , 而且她們把事情辦好 。\n",
      "2021-11-11 21:03:24 | INFO | hw5.seq2seq | validation loss:\t3.7502\n",
      "2021-11-11 21:03:24 | INFO | hw5.seq2seq | BLEU = 19.77 49.7/25.8/14.4/8.4 (BP = 0.995 ratio = 0.995 hyp_len = 111264 ref_len = 111811)\n",
      "2021-11-11 21:03:24 | INFO | hw5.seq2seq | saved epoch checkpoint: /home/wy/ML_study/chapter5/checkpoints/rnn/checkpoint173.pt\n",
      "2021-11-11 21:03:24 | INFO | hw5.seq2seq | end of epoch 173\n"
     ]
    },
    {
     "data": {
      "text/plain": "HBox(children=(HTML(value='train epoch 174'), FloatProgress(value=0.0, max=791.0), HTML(value='')))",
      "application/vnd.jupyter.widget-view+json": {
       "version_major": 2,
       "version_minor": 0,
       "model_id": "151a0050669441c09c838eb7efa3effb"
      }
     },
     "metadata": {},
     "output_type": "display_data"
    },
    {
     "name": "stdout",
     "output_type": "stream",
     "text": [
      "2021-11-11 21:04:24 | INFO | hw5.seq2seq | training loss: 3.6707\n",
      "2021-11-11 21:04:24 | INFO | hw5.seq2seq | begin validation\n"
     ]
    },
    {
     "data": {
      "text/plain": "HBox(children=(HTML(value='validation'), FloatProgress(value=0.0, max=22.0), HTML(value='')))",
      "application/vnd.jupyter.widget-view+json": {
       "version_major": 2,
       "version_minor": 0,
       "model_id": "cbb08a44ffec492cb56233c6f45341db"
      }
     },
     "metadata": {},
     "output_type": "display_data"
    },
    {
     "name": "stdout",
     "output_type": "stream",
     "text": [
      "2021-11-11 21:04:41 | INFO | hw5.seq2seq | example source: in the next scene , walle comes back to life .\n",
      "2021-11-11 21:04:41 | INFO | hw5.seq2seq | example hypothesis: 在下一個場景 , 牆壁回來了生命 。\n",
      "2021-11-11 21:04:41 | INFO | hw5.seq2seq | example reference: 在下一個場景裡 , 瓦力重新活了過來 。\n",
      "2021-11-11 21:04:41 | INFO | hw5.seq2seq | validation loss:\t3.7482\n",
      "2021-11-11 21:04:41 | INFO | hw5.seq2seq | BLEU = 19.51 50.9/26.6/14.8/8.7 (BP = 0.955 ratio = 0.956 hyp_len = 106869 ref_len = 111811)\n",
      "2021-11-11 21:04:41 | INFO | hw5.seq2seq | saved epoch checkpoint: /home/wy/ML_study/chapter5/checkpoints/rnn/checkpoint174.pt\n",
      "2021-11-11 21:04:41 | INFO | hw5.seq2seq | end of epoch 174\n"
     ]
    },
    {
     "data": {
      "text/plain": "HBox(children=(HTML(value='train epoch 175'), FloatProgress(value=0.0, max=791.0), HTML(value='')))",
      "application/vnd.jupyter.widget-view+json": {
       "version_major": 2,
       "version_minor": 0,
       "model_id": "91540facab8d4da5ad0132de1c091178"
      }
     },
     "metadata": {},
     "output_type": "display_data"
    },
    {
     "name": "stdout",
     "output_type": "stream",
     "text": [
      "2021-11-11 21:05:42 | INFO | hw5.seq2seq | training loss: 3.6666\n",
      "2021-11-11 21:05:42 | INFO | hw5.seq2seq | begin validation\n"
     ]
    },
    {
     "data": {
      "text/plain": "HBox(children=(HTML(value='validation'), FloatProgress(value=0.0, max=22.0), HTML(value='')))",
      "application/vnd.jupyter.widget-view+json": {
       "version_major": 2,
       "version_minor": 0,
       "model_id": "5c3b806ecff646a8bf6a9863336e1276"
      }
     },
     "metadata": {},
     "output_type": "display_data"
    },
    {
     "name": "stdout",
     "output_type": "stream",
     "text": [
      "2021-11-11 21:05:59 | INFO | hw5.seq2seq | example source: i'm kidding .\n",
      "2021-11-11 21:05:59 | INFO | hw5.seq2seq | example hypothesis: 我正在開玩笑 。\n",
      "2021-11-11 21:05:59 | INFO | hw5.seq2seq | example reference: 我是在開玩笑 。\n",
      "2021-11-11 21:05:59 | INFO | hw5.seq2seq | validation loss:\t3.7446\n",
      "2021-11-11 21:05:59 | INFO | hw5.seq2seq | BLEU = 19.60 51.6/27.0/15.1/8.9 (BP = 0.941 ratio = 0.943 hyp_len = 105424 ref_len = 111811)\n",
      "2021-11-11 21:05:59 | INFO | hw5.seq2seq | saved epoch checkpoint: /home/wy/ML_study/chapter5/checkpoints/rnn/checkpoint175.pt\n",
      "2021-11-11 21:05:59 | INFO | hw5.seq2seq | end of epoch 175\n"
     ]
    },
    {
     "data": {
      "text/plain": "HBox(children=(HTML(value='train epoch 176'), FloatProgress(value=0.0, max=791.0), HTML(value='')))",
      "application/vnd.jupyter.widget-view+json": {
       "version_major": 2,
       "version_minor": 0,
       "model_id": "d893d6e45bbb45c2a29b8ecd131dfc4a"
      }
     },
     "metadata": {},
     "output_type": "display_data"
    },
    {
     "name": "stdout",
     "output_type": "stream",
     "text": [
      "2021-11-11 21:07:00 | INFO | hw5.seq2seq | training loss: 3.6690\n",
      "2021-11-11 21:07:00 | INFO | hw5.seq2seq | begin validation\n"
     ]
    },
    {
     "data": {
      "text/plain": "HBox(children=(HTML(value='validation'), FloatProgress(value=0.0, max=22.0), HTML(value='')))",
      "application/vnd.jupyter.widget-view+json": {
       "version_major": 2,
       "version_minor": 0,
       "model_id": "df4b7482a1a14dd09388f089a8155427"
      }
     },
     "metadata": {},
     "output_type": "display_data"
    },
    {
     "name": "stdout",
     "output_type": "stream",
     "text": [
      "2021-11-11 21:07:17 | INFO | hw5.seq2seq | example source: you're taking a medication , one new medication or two , and you get a funny feeling .\n",
      "2021-11-11 21:07:17 | INFO | hw5.seq2seq | example hypothesis: 你用一種藥物 , 一種新的藥物 , 一條新藥 , 一條新的藥物 , 一條新的藥 , 一條新藥 , 一條新的藥 。\n",
      "2021-11-11 21:07:17 | INFO | hw5.seq2seq | example reference: 你服用了一種藥 , 一個或兩個新藥 , 然後你感覺怪怪的 。\n",
      "2021-11-11 21:07:17 | INFO | hw5.seq2seq | validation loss:\t3.7475\n",
      "2021-11-11 21:07:17 | INFO | hw5.seq2seq | BLEU = 19.54 50.0/25.9/14.5/8.4 (BP = 0.980 ratio = 0.980 hyp_len = 109628 ref_len = 111811)\n",
      "2021-11-11 21:07:17 | INFO | hw5.seq2seq | saved epoch checkpoint: /home/wy/ML_study/chapter5/checkpoints/rnn/checkpoint176.pt\n",
      "2021-11-11 21:07:18 | INFO | hw5.seq2seq | end of epoch 176\n"
     ]
    },
    {
     "data": {
      "text/plain": "HBox(children=(HTML(value='train epoch 177'), FloatProgress(value=0.0, max=791.0), HTML(value='')))",
      "application/vnd.jupyter.widget-view+json": {
       "version_major": 2,
       "version_minor": 0,
       "model_id": "8c7e01fb50bd483191f3058c63468c9a"
      }
     },
     "metadata": {},
     "output_type": "display_data"
    },
    {
     "name": "stdout",
     "output_type": "stream",
     "text": [
      "2021-11-11 21:08:19 | INFO | hw5.seq2seq | training loss: 3.6686\n",
      "2021-11-11 21:08:19 | INFO | hw5.seq2seq | begin validation\n"
     ]
    },
    {
     "data": {
      "text/plain": "HBox(children=(HTML(value='validation'), FloatProgress(value=0.0, max=22.0), HTML(value='')))",
      "application/vnd.jupyter.widget-view+json": {
       "version_major": 2,
       "version_minor": 0,
       "model_id": "cd161513cd3f494e92c9941536e07989"
      }
     },
     "metadata": {},
     "output_type": "display_data"
    },
    {
     "name": "stdout",
     "output_type": "stream",
     "text": [
      "2021-11-11 21:08:34 | INFO | hw5.seq2seq | example source: so netra was stuck with 30 paintings of mine .\n",
      "2021-11-11 21:08:34 | INFO | hw5.seq2seq | example hypothesis: 所以 , 尼卡有30幅畫畫 。\n",
      "2021-11-11 21:08:34 | INFO | hw5.seq2seq | example reference: netra就這樣囤積了三十幅我的畫作 。\n",
      "2021-11-11 21:08:34 | INFO | hw5.seq2seq | validation loss:\t3.7499\n",
      "2021-11-11 21:08:34 | INFO | hw5.seq2seq | BLEU = 19.38 51.5/26.9/15.0/8.8 (BP = 0.938 ratio = 0.939 hyp_len = 105041 ref_len = 111811)\n",
      "2021-11-11 21:08:35 | INFO | hw5.seq2seq | saved epoch checkpoint: /home/wy/ML_study/chapter5/checkpoints/rnn/checkpoint177.pt\n",
      "2021-11-11 21:08:35 | INFO | hw5.seq2seq | end of epoch 177\n"
     ]
    },
    {
     "data": {
      "text/plain": "HBox(children=(HTML(value='train epoch 178'), FloatProgress(value=0.0, max=791.0), HTML(value='')))",
      "application/vnd.jupyter.widget-view+json": {
       "version_major": 2,
       "version_minor": 0,
       "model_id": "a78c1f10cf7d4e81af104e11b4fd183f"
      }
     },
     "metadata": {},
     "output_type": "display_data"
    },
    {
     "name": "stdout",
     "output_type": "stream",
     "text": [
      "2021-11-11 21:09:36 | INFO | hw5.seq2seq | training loss: 3.6657\n",
      "2021-11-11 21:09:36 | INFO | hw5.seq2seq | begin validation\n"
     ]
    },
    {
     "data": {
      "text/plain": "HBox(children=(HTML(value='validation'), FloatProgress(value=0.0, max=22.0), HTML(value='')))",
      "application/vnd.jupyter.widget-view+json": {
       "version_major": 2,
       "version_minor": 0,
       "model_id": "e1f41dbbdcce41e49f440ff52fd1b6a8"
      }
     },
     "metadata": {},
     "output_type": "display_data"
    },
    {
     "name": "stdout",
     "output_type": "stream",
     "text": [
      "2021-11-11 21:09:52 | INFO | hw5.seq2seq | example source: the sargasso sea , for example , is not a sea bounded by coastlines , but it is bounded by oceanic currents that contain and envelope this wealth of sargassum that grows and aggregates there .\n",
      "2021-11-11 21:09:52 | INFO | hw5.seq2seq | example hypothesis: 舉例來說 , 海底的海域不是海岸線而它是由海岸線所組成而它是由海岸線所組成而它被海洋流動 , 包含著海流 , 包含了海洋流域 , 形成了聚集的海洋 。\n",
      "2021-11-11 21:09:52 | INFO | hw5.seq2seq | example reference: 例如 , 馬尾藻海域這不是一個被海岸線包圍的海域而是被洋流所環繞這些洋流帶來了海藻所需要的養分這些養分讓這裡的海藻十分旺盛地繁衍和聚集\n",
      "2021-11-11 21:09:52 | INFO | hw5.seq2seq | validation loss:\t3.7501\n",
      "2021-11-11 21:09:52 | INFO | hw5.seq2seq | BLEU = 19.42 52.0/27.2/15.3/9.0 (BP = 0.925 ratio = 0.927 hyp_len = 103701 ref_len = 111811)\n",
      "2021-11-11 21:09:52 | INFO | hw5.seq2seq | saved epoch checkpoint: /home/wy/ML_study/chapter5/checkpoints/rnn/checkpoint178.pt\n",
      "2021-11-11 21:09:52 | INFO | hw5.seq2seq | end of epoch 178\n"
     ]
    },
    {
     "data": {
      "text/plain": "HBox(children=(HTML(value='train epoch 179'), FloatProgress(value=0.0, max=791.0), HTML(value='')))",
      "application/vnd.jupyter.widget-view+json": {
       "version_major": 2,
       "version_minor": 0,
       "model_id": "a01ff453cac640c3adc78f86c14f722e"
      }
     },
     "metadata": {},
     "output_type": "display_data"
    },
    {
     "name": "stdout",
     "output_type": "stream",
     "text": [
      "2021-11-11 21:10:54 | INFO | hw5.seq2seq | training loss: 3.6668\n",
      "2021-11-11 21:10:54 | INFO | hw5.seq2seq | begin validation\n"
     ]
    },
    {
     "data": {
      "text/plain": "HBox(children=(HTML(value='validation'), FloatProgress(value=0.0, max=22.0), HTML(value='')))",
      "application/vnd.jupyter.widget-view+json": {
       "version_major": 2,
       "version_minor": 0,
       "model_id": "1a06e5a27e804080af7719773a2fa5a5"
      }
     },
     "metadata": {},
     "output_type": "display_data"
    },
    {
     "name": "stdout",
     "output_type": "stream",
     "text": [
      "2021-11-11 21:11:10 | INFO | hw5.seq2seq | example source: why you and i are alike , why the iraqis and the japanese and the australian aborigines and the people of the amazon river are all alike .\n",
      "2021-11-11 21:11:10 | INFO | hw5.seq2seq | example hypothesis: 為何我是這樣 , 亞馬遜河流的人和日本人和澳洲人和亞馬遜河流的人都一樣 。\n",
      "2021-11-11 21:11:10 | INFO | hw5.seq2seq | example reference: 為何你我相像 , 為何伊拉克人、日本人、澳洲原住民和亞馬遜河居民 , 我們全都很相像 ?\n",
      "2021-11-11 21:11:10 | INFO | hw5.seq2seq | validation loss:\t3.7521\n",
      "2021-11-11 21:11:10 | INFO | hw5.seq2seq | BLEU = 19.51 52.0/27.2/15.3/9.0 (BP = 0.929 ratio = 0.931 hyp_len = 104124 ref_len = 111811)\n",
      "2021-11-11 21:11:10 | INFO | hw5.seq2seq | saved epoch checkpoint: /home/wy/ML_study/chapter5/checkpoints/rnn/checkpoint179.pt\n",
      "2021-11-11 21:11:10 | INFO | hw5.seq2seq | end of epoch 179\n"
     ]
    },
    {
     "data": {
      "text/plain": "HBox(children=(HTML(value='train epoch 180'), FloatProgress(value=0.0, max=791.0), HTML(value='')))",
      "application/vnd.jupyter.widget-view+json": {
       "version_major": 2,
       "version_minor": 0,
       "model_id": "682512d70e4b4ba2a01251f055bb5658"
      }
     },
     "metadata": {},
     "output_type": "display_data"
    },
    {
     "name": "stdout",
     "output_type": "stream",
     "text": [
      "2021-11-11 21:12:17 | INFO | hw5.seq2seq | training loss: 3.6676\n",
      "2021-11-11 21:12:17 | INFO | hw5.seq2seq | begin validation\n"
     ]
    },
    {
     "data": {
      "text/plain": "HBox(children=(HTML(value='validation'), FloatProgress(value=0.0, max=22.0), HTML(value='')))",
      "application/vnd.jupyter.widget-view+json": {
       "version_major": 2,
       "version_minor": 0,
       "model_id": "ac4eba9c3b6045a8a09623a03e07098d"
      }
     },
     "metadata": {},
     "output_type": "display_data"
    },
    {
     "name": "stdout",
     "output_type": "stream",
     "text": [
      "2021-11-11 21:12:34 | INFO | hw5.seq2seq | example source: make it bigger .\n",
      "2021-11-11 21:12:34 | INFO | hw5.seq2seq | example hypothesis: 讓它更大 。\n",
      "2021-11-11 21:12:34 | INFO | hw5.seq2seq | example reference: 壯大隊伍 ,\n",
      "2021-11-11 21:12:34 | INFO | hw5.seq2seq | validation loss:\t3.7519\n",
      "2021-11-11 21:12:34 | INFO | hw5.seq2seq | BLEU = 19.46 51.4/26.8/14.9/8.8 (BP = 0.945 ratio = 0.946 hyp_len = 105782 ref_len = 111811)\n",
      "2021-11-11 21:12:35 | INFO | hw5.seq2seq | saved epoch checkpoint: /home/wy/ML_study/chapter5/checkpoints/rnn/checkpoint180.pt\n",
      "2021-11-11 21:12:35 | INFO | hw5.seq2seq | end of epoch 180\n"
     ]
    },
    {
     "data": {
      "text/plain": "HBox(children=(HTML(value='train epoch 181'), FloatProgress(value=0.0, max=791.0), HTML(value='')))",
      "application/vnd.jupyter.widget-view+json": {
       "version_major": 2,
       "version_minor": 0,
       "model_id": "2187c390c48e415d9d0a956449f35cce"
      }
     },
     "metadata": {},
     "output_type": "display_data"
    },
    {
     "name": "stdout",
     "output_type": "stream",
     "text": [
      "2021-11-11 21:13:37 | INFO | hw5.seq2seq | training loss: 3.6670\n",
      "2021-11-11 21:13:37 | INFO | hw5.seq2seq | begin validation\n"
     ]
    },
    {
     "data": {
      "text/plain": "HBox(children=(HTML(value='validation'), FloatProgress(value=0.0, max=22.0), HTML(value='')))",
      "application/vnd.jupyter.widget-view+json": {
       "version_major": 2,
       "version_minor": 0,
       "model_id": "7930f942a23c422da0ceada70510c741"
      }
     },
     "metadata": {},
     "output_type": "display_data"
    },
    {
     "name": "stdout",
     "output_type": "stream",
     "text": [
      "2021-11-11 21:13:53 | INFO | hw5.seq2seq | example source: so now , we've held x and w fixed to solve for y ; that's everyday , fast perception .\n",
      "2021-11-11 21:13:53 | INFO | hw5.seq2seq | example hypothesis: 現在 , 我們要用x和w來解決玩具 , 很快的感知 。\n",
      "2021-11-11 21:13:53 | INFO | hw5.seq2seq | example reference: 所以現在 , 我們的x和w是固定數 , 可以解出y ; 這就是我們人類每天經常性的快速直覺判斷 。\n",
      "2021-11-11 21:13:53 | INFO | hw5.seq2seq | validation loss:\t3.7540\n",
      "2021-11-11 21:13:53 | INFO | hw5.seq2seq | BLEU = 19.57 51.4/26.9/15.0/8.8 (BP = 0.944 ratio = 0.946 hyp_len = 105759 ref_len = 111811)\n",
      "2021-11-11 21:13:53 | INFO | hw5.seq2seq | saved epoch checkpoint: /home/wy/ML_study/chapter5/checkpoints/rnn/checkpoint181.pt\n",
      "2021-11-11 21:13:53 | INFO | hw5.seq2seq | end of epoch 181\n"
     ]
    },
    {
     "data": {
      "text/plain": "HBox(children=(HTML(value='train epoch 182'), FloatProgress(value=0.0, max=791.0), HTML(value='')))",
      "application/vnd.jupyter.widget-view+json": {
       "version_major": 2,
       "version_minor": 0,
       "model_id": "48b59b9f59dc4e51974e5ccca50aefde"
      }
     },
     "metadata": {},
     "output_type": "display_data"
    },
    {
     "name": "stdout",
     "output_type": "stream",
     "text": [
      "2021-11-11 21:14:55 | INFO | hw5.seq2seq | training loss: 3.6664\n",
      "2021-11-11 21:14:55 | INFO | hw5.seq2seq | begin validation\n"
     ]
    },
    {
     "data": {
      "text/plain": "HBox(children=(HTML(value='validation'), FloatProgress(value=0.0, max=22.0), HTML(value='')))",
      "application/vnd.jupyter.widget-view+json": {
       "version_major": 2,
       "version_minor": 0,
       "model_id": "31d9fc0a03d24285bdeb40e70cf9cd5c"
      }
     },
     "metadata": {},
     "output_type": "display_data"
    },
    {
     "name": "stdout",
     "output_type": "stream",
     "text": [
      "2021-11-11 21:15:11 | INFO | hw5.seq2seq | example source: rather than thinking , \" i'm right , \" i started to ask myself , \" how do i know i'm right ? \"\n",
      "2021-11-11 21:15:11 | INFO | hw5.seq2seq | example hypothesis: 不要想: 「 我是對的 。 」 我開始問自己: 「 我怎麼知道我是對的 ? 」\n",
      "2021-11-11 21:15:11 | INFO | hw5.seq2seq | example reference: 我開始問我自己 「 我怎麼確定我是對的 ? 」 而不是認為 「 我是對的 」\n",
      "2021-11-11 21:15:11 | INFO | hw5.seq2seq | validation loss:\t3.7518\n",
      "2021-11-11 21:15:11 | INFO | hw5.seq2seq | BLEU = 19.41 52.0/27.3/15.2/8.9 (BP = 0.928 ratio = 0.931 hyp_len = 104059 ref_len = 111811)\n",
      "2021-11-11 21:15:11 | INFO | hw5.seq2seq | saved epoch checkpoint: /home/wy/ML_study/chapter5/checkpoints/rnn/checkpoint182.pt\n",
      "2021-11-11 21:15:11 | INFO | hw5.seq2seq | end of epoch 182\n"
     ]
    },
    {
     "data": {
      "text/plain": "HBox(children=(HTML(value='train epoch 183'), FloatProgress(value=0.0, max=791.0), HTML(value='')))",
      "application/vnd.jupyter.widget-view+json": {
       "version_major": 2,
       "version_minor": 0,
       "model_id": "bdff7b6ac6c548969d442bbd8db4fd8a"
      }
     },
     "metadata": {},
     "output_type": "display_data"
    },
    {
     "name": "stdout",
     "output_type": "stream",
     "text": [
      "2021-11-11 21:16:13 | INFO | hw5.seq2seq | training loss: 3.6651\n",
      "2021-11-11 21:16:13 | INFO | hw5.seq2seq | begin validation\n"
     ]
    },
    {
     "data": {
      "text/plain": "HBox(children=(HTML(value='validation'), FloatProgress(value=0.0, max=22.0), HTML(value='')))",
      "application/vnd.jupyter.widget-view+json": {
       "version_major": 2,
       "version_minor": 0,
       "model_id": "21f14128a39241f18a9169fbed583f54"
      }
     },
     "metadata": {},
     "output_type": "display_data"
    },
    {
     "name": "stdout",
     "output_type": "stream",
     "text": [
      "2021-11-11 21:16:29 | INFO | hw5.seq2seq | example source: this brings back a skepticism that has gone away recently , that superweeds and superpests could spread around the world , from biotechnology , that literally could destroy the world's food supply in very short order .\n",
      "2021-11-11 21:16:29 | INFO | hw5.seq2seq | example hypothesis: 這帶回了最近的懷疑論者 , 超能力和超能力在世界各地傳播 , 從生物科技中 , 真的可以破壞世界各地的食物供應短短 。\n",
      "2021-11-11 21:16:29 | INFO | hw5.seq2seq | example reference: 而這又喚起了一個近來才淡去的懷疑論 , 即:生物科技將使超級雜草與超級害蟲遍及全世界 , 而那絕對會給全球食物供應帶來滅頂之災以迅雷不及掩耳之勢 。\n",
      "2021-11-11 21:16:29 | INFO | hw5.seq2seq | validation loss:\t3.7499\n",
      "2021-11-11 21:16:29 | INFO | hw5.seq2seq | BLEU = 19.47 51.4/26.8/14.9/8.7 (BP = 0.946 ratio = 0.947 hyp_len = 105923 ref_len = 111811)\n",
      "2021-11-11 21:16:29 | INFO | hw5.seq2seq | saved epoch checkpoint: /home/wy/ML_study/chapter5/checkpoints/rnn/checkpoint183.pt\n",
      "2021-11-11 21:16:29 | INFO | hw5.seq2seq | end of epoch 183\n"
     ]
    },
    {
     "data": {
      "text/plain": "HBox(children=(HTML(value='train epoch 184'), FloatProgress(value=0.0, max=791.0), HTML(value='')))",
      "application/vnd.jupyter.widget-view+json": {
       "version_major": 2,
       "version_minor": 0,
       "model_id": "e9433b770aa34f2aa0a528f5e99227c3"
      }
     },
     "metadata": {},
     "output_type": "display_data"
    },
    {
     "name": "stdout",
     "output_type": "stream",
     "text": [
      "2021-11-11 21:17:31 | INFO | hw5.seq2seq | training loss: 3.6647\n",
      "2021-11-11 21:17:31 | INFO | hw5.seq2seq | begin validation\n"
     ]
    },
    {
     "data": {
      "text/plain": "HBox(children=(HTML(value='validation'), FloatProgress(value=0.0, max=22.0), HTML(value='')))",
      "application/vnd.jupyter.widget-view+json": {
       "version_major": 2,
       "version_minor": 0,
       "model_id": "7f20ca1bdf39472a811bac3ef92dc746"
      }
     },
     "metadata": {},
     "output_type": "display_data"
    },
    {
     "name": "stdout",
     "output_type": "stream",
     "text": [
      "2021-11-11 21:17:47 | INFO | hw5.seq2seq | example source: there's no real , true balancing going on , and in a sense , the games they play to hide that actually obscure the topic so much that people don't see things that are actually pretty straightforward challenges .\n",
      "2021-11-11 21:17:47 | INFO | hw5.seq2seq | example hypothesis: 沒有真正的現實 , 相反的 , 正確的面向上 , 正確的 , 正如他們所在玩的遊戲 , 其實是很直接的挑戰 。\n",
      "2021-11-11 21:17:47 | INFO | hw5.seq2seq | example reference: 他們根本沒有達成真正的平衡以某方面來說 , 他們在玩的把戲是隱藏赤字實際上更加模糊了問題所在讓別人無法發覺這就是目前非常直接的挑戰\n",
      "2021-11-11 21:17:47 | INFO | hw5.seq2seq | validation loss:\t3.7473\n",
      "2021-11-11 21:17:47 | INFO | hw5.seq2seq | BLEU = 19.70 50.2/26.2/14.6/8.6 (BP = 0.978 ratio = 0.978 hyp_len = 109351 ref_len = 111811)\n",
      "2021-11-11 21:17:48 | INFO | hw5.seq2seq | saved epoch checkpoint: /home/wy/ML_study/chapter5/checkpoints/rnn/checkpoint184.pt\n",
      "2021-11-11 21:17:48 | INFO | hw5.seq2seq | end of epoch 184\n"
     ]
    },
    {
     "data": {
      "text/plain": "HBox(children=(HTML(value='train epoch 185'), FloatProgress(value=0.0, max=791.0), HTML(value='')))",
      "application/vnd.jupyter.widget-view+json": {
       "version_major": 2,
       "version_minor": 0,
       "model_id": "5b05e64302db4217baeeff177848de0c"
      }
     },
     "metadata": {},
     "output_type": "display_data"
    },
    {
     "name": "stdout",
     "output_type": "stream",
     "text": [
      "2021-11-11 21:18:49 | INFO | hw5.seq2seq | training loss: 3.6637\n",
      "2021-11-11 21:18:49 | INFO | hw5.seq2seq | begin validation\n"
     ]
    },
    {
     "data": {
      "text/plain": "HBox(children=(HTML(value='validation'), FloatProgress(value=0.0, max=22.0), HTML(value='')))",
      "application/vnd.jupyter.widget-view+json": {
       "version_major": 2,
       "version_minor": 0,
       "model_id": "f4568cae107f4546b8ae82c045c1da5f"
      }
     },
     "metadata": {},
     "output_type": "display_data"
    },
    {
     "name": "stdout",
     "output_type": "stream",
     "text": [
      "2021-11-11 21:19:06 | INFO | hw5.seq2seq | example source: and yet in effect , it is happening right now .\n",
      "2021-11-11 21:19:06 | INFO | hw5.seq2seq | example hypothesis: 但事實上 , 它現在正在發生 。\n",
      "2021-11-11 21:19:06 | INFO | hw5.seq2seq | example reference: 但 , 實際上 , 這種事正在發生 。\n",
      "2021-11-11 21:19:06 | INFO | hw5.seq2seq | validation loss:\t3.7501\n",
      "2021-11-11 21:19:06 | INFO | hw5.seq2seq | BLEU = 19.57 50.7/26.4/14.7/8.6 (BP = 0.966 ratio = 0.966 hyp_len = 108032 ref_len = 111811)\n",
      "2021-11-11 21:19:06 | INFO | hw5.seq2seq | saved epoch checkpoint: /home/wy/ML_study/chapter5/checkpoints/rnn/checkpoint185.pt\n",
      "2021-11-11 21:19:06 | INFO | hw5.seq2seq | end of epoch 185\n"
     ]
    },
    {
     "data": {
      "text/plain": "HBox(children=(HTML(value='train epoch 186'), FloatProgress(value=0.0, max=791.0), HTML(value='')))",
      "application/vnd.jupyter.widget-view+json": {
       "version_major": 2,
       "version_minor": 0,
       "model_id": "e4b5ddd7369741699ea8488ad37a72fb"
      }
     },
     "metadata": {},
     "output_type": "display_data"
    },
    {
     "name": "stdout",
     "output_type": "stream",
     "text": [
      "2021-11-11 21:20:07 | INFO | hw5.seq2seq | training loss: 3.6650\n",
      "2021-11-11 21:20:07 | INFO | hw5.seq2seq | begin validation\n"
     ]
    },
    {
     "data": {
      "text/plain": "HBox(children=(HTML(value='validation'), FloatProgress(value=0.0, max=22.0), HTML(value='')))",
      "application/vnd.jupyter.widget-view+json": {
       "version_major": 2,
       "version_minor": 0,
       "model_id": "5d4a36dd287848ce9baa2145620e50ad"
      }
     },
     "metadata": {},
     "output_type": "display_data"
    },
    {
     "name": "stdout",
     "output_type": "stream",
     "text": [
      "2021-11-11 21:20:23 | INFO | hw5.seq2seq | example source: but to understand that , we have to step back a little bit .\n",
      "2021-11-11 21:20:23 | INFO | hw5.seq2seq | example hypothesis: 但要了解這一點 , 我們得要退一步 。\n",
      "2021-11-11 21:20:23 | INFO | hw5.seq2seq | example reference: 但要了解這點 , 我們必須後退一步 。\n",
      "2021-11-11 21:20:23 | INFO | hw5.seq2seq | validation loss:\t3.7486\n",
      "2021-11-11 21:20:23 | INFO | hw5.seq2seq | BLEU = 19.70 51.8/27.2/15.3/8.9 (BP = 0.941 ratio = 0.943 hyp_len = 105409 ref_len = 111811)\n",
      "2021-11-11 21:20:23 | INFO | hw5.seq2seq | saved epoch checkpoint: /home/wy/ML_study/chapter5/checkpoints/rnn/checkpoint186.pt\n",
      "2021-11-11 21:20:23 | INFO | hw5.seq2seq | end of epoch 186\n"
     ]
    },
    {
     "data": {
      "text/plain": "HBox(children=(HTML(value='train epoch 187'), FloatProgress(value=0.0, max=791.0), HTML(value='')))",
      "application/vnd.jupyter.widget-view+json": {
       "version_major": 2,
       "version_minor": 0,
       "model_id": "913d165a9b0348069c5471fd12dedb16"
      }
     },
     "metadata": {},
     "output_type": "display_data"
    },
    {
     "name": "stdout",
     "output_type": "stream",
     "text": [
      "2021-11-11 21:21:25 | INFO | hw5.seq2seq | training loss: 3.6633\n",
      "2021-11-11 21:21:25 | INFO | hw5.seq2seq | begin validation\n"
     ]
    },
    {
     "data": {
      "text/plain": "HBox(children=(HTML(value='validation'), FloatProgress(value=0.0, max=22.0), HTML(value='')))",
      "application/vnd.jupyter.widget-view+json": {
       "version_major": 2,
       "version_minor": 0,
       "model_id": "b6a84d64226e4cb0bd6e823ff2b6e271"
      }
     },
     "metadata": {},
     "output_type": "display_data"
    },
    {
     "name": "stdout",
     "output_type": "stream",
     "text": [
      "2021-11-11 21:21:42 | INFO | hw5.seq2seq | example source: and i remember sitting in the passenger seat as we drove in silence , crouched as low as i could go in my seat , for the first time in my life , afraid for anyone to know i was a muslim .\n",
      "2021-11-11 21:21:42 | INFO | hw5.seq2seq | example hypothesis: 我記得坐在乘客座的坐坐 , 坐在乘客座位 , 坐在乘客座上 , 坐在乘客座上 , 害怕任何人都知道我是穆斯林 。\n",
      "2021-11-11 21:21:42 | INFO | hw5.seq2seq | example reference: 我記得坐在副駕駛座當時我們在車上沉默不語我盡可能縮進我的座位人生第一次 , 我害怕有人知道我是穆斯林\n",
      "2021-11-11 21:21:42 | INFO | hw5.seq2seq | validation loss:\t3.7518\n",
      "2021-11-11 21:21:42 | INFO | hw5.seq2seq | BLEU = 19.51 52.0/27.2/15.2/8.9 (BP = 0.934 ratio = 0.936 hyp_len = 104658 ref_len = 111811)\n",
      "2021-11-11 21:21:42 | INFO | hw5.seq2seq | saved epoch checkpoint: /home/wy/ML_study/chapter5/checkpoints/rnn/checkpoint187.pt\n",
      "2021-11-11 21:21:42 | INFO | hw5.seq2seq | end of epoch 187\n"
     ]
    },
    {
     "data": {
      "text/plain": "HBox(children=(HTML(value='train epoch 188'), FloatProgress(value=0.0, max=791.0), HTML(value='')))",
      "application/vnd.jupyter.widget-view+json": {
       "version_major": 2,
       "version_minor": 0,
       "model_id": "6a0587aeacfa4385a6370dbe31b2db35"
      }
     },
     "metadata": {},
     "output_type": "display_data"
    },
    {
     "name": "stdout",
     "output_type": "stream",
     "text": [
      "2021-11-11 21:22:44 | INFO | hw5.seq2seq | training loss: 3.6636\n",
      "2021-11-11 21:22:44 | INFO | hw5.seq2seq | begin validation\n"
     ]
    },
    {
     "data": {
      "text/plain": "HBox(children=(HTML(value='validation'), FloatProgress(value=0.0, max=22.0), HTML(value='')))",
      "application/vnd.jupyter.widget-view+json": {
       "version_major": 2,
       "version_minor": 0,
       "model_id": "4f24fd307f5a43a6a8bbfcc02303ef21"
      }
     },
     "metadata": {},
     "output_type": "display_data"
    },
    {
     "name": "stdout",
     "output_type": "stream",
     "text": [
      "2021-11-11 21:23:00 | INFO | hw5.seq2seq | example source: other people do all sorts of jobs to get by .\n",
      "2021-11-11 21:23:00 | INFO | hw5.seq2seq | example hypothesis: 其他人也會做各種工作來做 。\n",
      "2021-11-11 21:23:00 | INFO | hw5.seq2seq | example reference: 其他人做各種各樣的工作來維持生計 。\n",
      "2021-11-11 21:23:00 | INFO | hw5.seq2seq | validation loss:\t3.7463\n",
      "2021-11-11 21:23:00 | INFO | hw5.seq2seq | BLEU = 19.50 50.9/26.5/14.8/8.6 (BP = 0.958 ratio = 0.959 hyp_len = 107205 ref_len = 111811)\n",
      "2021-11-11 21:23:01 | INFO | hw5.seq2seq | saved epoch checkpoint: /home/wy/ML_study/chapter5/checkpoints/rnn/checkpoint188.pt\n",
      "2021-11-11 21:23:01 | INFO | hw5.seq2seq | end of epoch 188\n"
     ]
    },
    {
     "data": {
      "text/plain": "HBox(children=(HTML(value='train epoch 189'), FloatProgress(value=0.0, max=791.0), HTML(value='')))",
      "application/vnd.jupyter.widget-view+json": {
       "version_major": 2,
       "version_minor": 0,
       "model_id": "83fb16dbd4b445d48c6f1398319d1baf"
      }
     },
     "metadata": {},
     "output_type": "display_data"
    },
    {
     "name": "stdout",
     "output_type": "stream",
     "text": [
      "2021-11-11 21:24:02 | INFO | hw5.seq2seq | training loss: 3.6631\n",
      "2021-11-11 21:24:02 | INFO | hw5.seq2seq | begin validation\n"
     ]
    },
    {
     "data": {
      "text/plain": "HBox(children=(HTML(value='validation'), FloatProgress(value=0.0, max=22.0), HTML(value='')))",
      "application/vnd.jupyter.widget-view+json": {
       "version_major": 2,
       "version_minor": 0,
       "model_id": "cb1653659b1144818d4d3c1f54e0103f"
      }
     },
     "metadata": {},
     "output_type": "display_data"
    },
    {
     "name": "stdout",
     "output_type": "stream",
     "text": [
      "2021-11-11 21:24:18 | INFO | hw5.seq2seq | example source: receipts go down , some spending programs go up , but most of it is not because of that .\n",
      "2021-11-11 21:24:18 | INFO | hw5.seq2seq | example hypothesis: 收集機關上去 , 有些花費的計畫會上升 , 但大部分的部分都不是因為這樣 。\n",
      "2021-11-11 21:24:18 | INFO | hw5.seq2seq | example reference: 收入減少某些支出計畫增加但這不是大多數赤字的原因\n",
      "2021-11-11 21:24:18 | INFO | hw5.seq2seq | validation loss:\t3.7498\n",
      "2021-11-11 21:24:18 | INFO | hw5.seq2seq | BLEU = 19.57 50.9/26.5/14.8/8.6 (BP = 0.962 ratio = 0.962 hyp_len = 107606 ref_len = 111811)\n",
      "2021-11-11 21:24:18 | INFO | hw5.seq2seq | saved epoch checkpoint: /home/wy/ML_study/chapter5/checkpoints/rnn/checkpoint189.pt\n",
      "2021-11-11 21:24:18 | INFO | hw5.seq2seq | end of epoch 189\n"
     ]
    },
    {
     "data": {
      "text/plain": "HBox(children=(HTML(value='train epoch 190'), FloatProgress(value=0.0, max=791.0), HTML(value='')))",
      "application/vnd.jupyter.widget-view+json": {
       "version_major": 2,
       "version_minor": 0,
       "model_id": "7e7267b9d7cd45dd97287748b9d897bb"
      }
     },
     "metadata": {},
     "output_type": "display_data"
    },
    {
     "name": "stdout",
     "output_type": "stream",
     "text": [
      "2021-11-11 21:25:20 | INFO | hw5.seq2seq | training loss: 3.6631\n",
      "2021-11-11 21:25:20 | INFO | hw5.seq2seq | begin validation\n"
     ]
    },
    {
     "data": {
      "text/plain": "HBox(children=(HTML(value='validation'), FloatProgress(value=0.0, max=22.0), HTML(value='')))",
      "application/vnd.jupyter.widget-view+json": {
       "version_major": 2,
       "version_minor": 0,
       "model_id": "c4fb4e9f6d9b4ff89fbaf5e63255a7e7"
      }
     },
     "metadata": {},
     "output_type": "display_data"
    },
    {
     "name": "stdout",
     "output_type": "stream",
     "text": [
      "2021-11-11 21:25:36 | INFO | hw5.seq2seq | example source: imagine a patch that you wear on the skin that would detect in your sweat when you're infected with malaria and change color .\n",
      "2021-11-11 21:25:36 | INFO | hw5.seq2seq | example hypothesis: 想像一下 , 當你被感染瘧疾和改變顏色時 , 你的皮膚會偵測到你的汗水 。\n",
      "2021-11-11 21:25:36 | INFO | hw5.seq2seq | example reference: 想像一下貼在皮膚上的貼片可以偵測你的汗水當你感染了瘧疾貼片的顏色就會改變\n",
      "2021-11-11 21:25:36 | INFO | hw5.seq2seq | validation loss:\t3.7442\n",
      "2021-11-11 21:25:36 | INFO | hw5.seq2seq | BLEU = 19.45 50.8/26.4/14.7/8.6 (BP = 0.960 ratio = 0.961 hyp_len = 107442 ref_len = 111811)\n",
      "2021-11-11 21:25:37 | INFO | hw5.seq2seq | saved epoch checkpoint: /home/wy/ML_study/chapter5/checkpoints/rnn/checkpoint190.pt\n",
      "2021-11-11 21:25:37 | INFO | hw5.seq2seq | end of epoch 190\n"
     ]
    },
    {
     "data": {
      "text/plain": "HBox(children=(HTML(value='train epoch 191'), FloatProgress(value=0.0, max=791.0), HTML(value='')))",
      "application/vnd.jupyter.widget-view+json": {
       "version_major": 2,
       "version_minor": 0,
       "model_id": "f178b2f44a2942d09b69ec564d9e341d"
      }
     },
     "metadata": {},
     "output_type": "display_data"
    },
    {
     "name": "stdout",
     "output_type": "stream",
     "text": [
      "2021-11-11 21:26:43 | INFO | hw5.seq2seq | training loss: 3.6626\n",
      "2021-11-11 21:26:43 | INFO | hw5.seq2seq | begin validation\n"
     ]
    },
    {
     "data": {
      "text/plain": "HBox(children=(HTML(value='validation'), FloatProgress(value=0.0, max=22.0), HTML(value='')))",
      "application/vnd.jupyter.widget-view+json": {
       "version_major": 2,
       "version_minor": 0,
       "model_id": "79f0c275a7fa4c5ca753b8e7d9cf53d1"
      }
     },
     "metadata": {},
     "output_type": "display_data"
    },
    {
     "name": "stdout",
     "output_type": "stream",
     "text": [
      "2021-11-11 21:27:02 | INFO | hw5.seq2seq | example source: second , we need to save our oldgrowth forests .\n",
      "2021-11-11 21:27:02 | INFO | hw5.seq2seq | example hypothesis: 第二 , 我們需要拯救老森林 。\n",
      "2021-11-11 21:27:02 | INFO | hw5.seq2seq | example reference: 第二 , 我們需要拯救我們的老齡林 。\n",
      "2021-11-11 21:27:02 | INFO | hw5.seq2seq | validation loss:\t3.7471\n",
      "2021-11-11 21:27:02 | INFO | hw5.seq2seq | BLEU = 19.41 51.1/26.6/14.8/8.7 (BP = 0.949 ratio = 0.951 hyp_len = 106292 ref_len = 111811)\n",
      "2021-11-11 21:27:02 | INFO | hw5.seq2seq | saved epoch checkpoint: /home/wy/ML_study/chapter5/checkpoints/rnn/checkpoint191.pt\n",
      "2021-11-11 21:27:02 | INFO | hw5.seq2seq | end of epoch 191\n"
     ]
    },
    {
     "data": {
      "text/plain": "HBox(children=(HTML(value='train epoch 192'), FloatProgress(value=0.0, max=791.0), HTML(value='')))",
      "application/vnd.jupyter.widget-view+json": {
       "version_major": 2,
       "version_minor": 0,
       "model_id": "aa0df43a798a4708aa45d0fdf0b36782"
      }
     },
     "metadata": {},
     "output_type": "display_data"
    },
    {
     "name": "stdout",
     "output_type": "stream",
     "text": [
      "2021-11-11 21:28:03 | INFO | hw5.seq2seq | training loss: 3.6623\n",
      "2021-11-11 21:28:03 | INFO | hw5.seq2seq | begin validation\n"
     ]
    },
    {
     "data": {
      "text/plain": "HBox(children=(HTML(value='validation'), FloatProgress(value=0.0, max=22.0), HTML(value='')))",
      "application/vnd.jupyter.widget-view+json": {
       "version_major": 2,
       "version_minor": 0,
       "model_id": "a7b4b9aa001244279e1852c0323b0470"
      }
     },
     "metadata": {},
     "output_type": "display_data"
    },
    {
     "name": "stdout",
     "output_type": "stream",
     "text": [
      "2021-11-11 21:28:20 | INFO | hw5.seq2seq | example source: and we can be angry at men with lower status in an expressive hierarchy that supports racism or xenophobia .\n",
      "2021-11-11 21:28:20 | INFO | hw5.seq2seq | example hypothesis: 我們也能在表達階層的階級支持種族歧視或性騷擾 。\n",
      "2021-11-11 21:28:20 | INFO | hw5.seq2seq | example reference: 我們能對那些社會階層低支持種族歧視和仇外的男性生氣 。\n",
      "2021-11-11 21:28:20 | INFO | hw5.seq2seq | validation loss:\t3.7503\n",
      "2021-11-11 21:28:20 | INFO | hw5.seq2seq | BLEU = 19.51 51.3/26.8/15.0/8.8 (BP = 0.947 ratio = 0.948 hyp_len = 106034 ref_len = 111811)\n",
      "2021-11-11 21:28:20 | INFO | hw5.seq2seq | saved epoch checkpoint: /home/wy/ML_study/chapter5/checkpoints/rnn/checkpoint192.pt\n",
      "2021-11-11 21:28:20 | INFO | hw5.seq2seq | end of epoch 192\n"
     ]
    },
    {
     "data": {
      "text/plain": "HBox(children=(HTML(value='train epoch 193'), FloatProgress(value=0.0, max=791.0), HTML(value='')))",
      "application/vnd.jupyter.widget-view+json": {
       "version_major": 2,
       "version_minor": 0,
       "model_id": "8d4923087f17486597421a8962f4efc1"
      }
     },
     "metadata": {},
     "output_type": "display_data"
    },
    {
     "name": "stdout",
     "output_type": "stream",
     "text": [
      "2021-11-11 21:29:22 | INFO | hw5.seq2seq | training loss: 3.6610\n",
      "2021-11-11 21:29:22 | INFO | hw5.seq2seq | begin validation\n"
     ]
    },
    {
     "data": {
      "text/plain": "HBox(children=(HTML(value='validation'), FloatProgress(value=0.0, max=22.0), HTML(value='')))",
      "application/vnd.jupyter.widget-view+json": {
       "version_major": 2,
       "version_minor": 0,
       "model_id": "d7fde120d5bf4dbfb8c66d2e7b8f449d"
      }
     },
     "metadata": {},
     "output_type": "display_data"
    },
    {
     "name": "stdout",
     "output_type": "stream",
     "text": [
      "2021-11-11 21:29:38 | INFO | hw5.seq2seq | example source: you can walk into a book store – right now ! – and buy at least ten books written by credentialed experts on how the hell you do it .\n",
      "2021-11-11 21:29:38 | INFO | hw5.seq2seq | example hypothesis: 現在你可以走進一本書店 , 在那兒 , 買至少十本書的專家 , 關於你怎麼辦到的書 。\n",
      "2021-11-11 21:29:38 | INFO | hw5.seq2seq | example reference: 你可以去一家書店--現在 ! --至少買十本資深專家寫的書 , 他們會告訴你怎麼做 。\n",
      "2021-11-11 21:29:38 | INFO | hw5.seq2seq | validation loss:\t3.7502\n",
      "2021-11-11 21:29:38 | INFO | hw5.seq2seq | BLEU = 19.44 51.5/26.8/14.9/8.8 (BP = 0.942 ratio = 0.944 hyp_len = 105541 ref_len = 111811)\n",
      "2021-11-11 21:29:39 | INFO | hw5.seq2seq | saved epoch checkpoint: /home/wy/ML_study/chapter5/checkpoints/rnn/checkpoint193.pt\n",
      "2021-11-11 21:29:39 | INFO | hw5.seq2seq | end of epoch 193\n"
     ]
    },
    {
     "data": {
      "text/plain": "HBox(children=(HTML(value='train epoch 194'), FloatProgress(value=0.0, max=791.0), HTML(value='')))",
      "application/vnd.jupyter.widget-view+json": {
       "version_major": 2,
       "version_minor": 0,
       "model_id": "e8abea799a8049ff933623c4fa709532"
      }
     },
     "metadata": {},
     "output_type": "display_data"
    },
    {
     "name": "stdout",
     "output_type": "stream",
     "text": [
      "2021-11-11 21:30:41 | INFO | hw5.seq2seq | training loss: 3.6597\n",
      "2021-11-11 21:30:41 | INFO | hw5.seq2seq | begin validation\n"
     ]
    },
    {
     "data": {
      "text/plain": "HBox(children=(HTML(value='validation'), FloatProgress(value=0.0, max=22.0), HTML(value='')))",
      "application/vnd.jupyter.widget-view+json": {
       "version_major": 2,
       "version_minor": 0,
       "model_id": "b46b724c485145519d46ca1c368abed6"
      }
     },
     "metadata": {},
     "output_type": "display_data"
    },
    {
     "name": "stdout",
     "output_type": "stream",
     "text": [
      "2021-11-11 21:30:57 | INFO | hw5.seq2seq | example source: media business , or any other business , it needs to be capitalized .\n",
      "2021-11-11 21:30:57 | INFO | hw5.seq2seq | example hypothesis: 媒體商業或其他商業都需要被資本化\n",
      "2021-11-11 21:30:57 | INFO | hw5.seq2seq | example reference: 媒體商業如其他商業一樣 , 都需要資本 。\n",
      "2021-11-11 21:30:57 | INFO | hw5.seq2seq | validation loss:\t3.7466\n",
      "2021-11-11 21:30:57 | INFO | hw5.seq2seq | BLEU = 19.56 50.6/26.3/14.6/8.5 (BP = 0.970 ratio = 0.970 hyp_len = 108490 ref_len = 111811)\n",
      "2021-11-11 21:30:57 | INFO | hw5.seq2seq | saved epoch checkpoint: /home/wy/ML_study/chapter5/checkpoints/rnn/checkpoint194.pt\n",
      "2021-11-11 21:30:57 | INFO | hw5.seq2seq | end of epoch 194\n"
     ]
    },
    {
     "data": {
      "text/plain": "HBox(children=(HTML(value='train epoch 195'), FloatProgress(value=0.0, max=791.0), HTML(value='')))",
      "application/vnd.jupyter.widget-view+json": {
       "version_major": 2,
       "version_minor": 0,
       "model_id": "40e5525b494a460ea8b2ef36ddef9717"
      }
     },
     "metadata": {},
     "output_type": "display_data"
    },
    {
     "name": "stdout",
     "output_type": "stream",
     "text": [
      "2021-11-11 21:31:59 | INFO | hw5.seq2seq | training loss: 3.6613\n",
      "2021-11-11 21:31:59 | INFO | hw5.seq2seq | begin validation\n"
     ]
    },
    {
     "data": {
      "text/plain": "HBox(children=(HTML(value='validation'), FloatProgress(value=0.0, max=22.0), HTML(value='')))",
      "application/vnd.jupyter.widget-view+json": {
       "version_major": 2,
       "version_minor": 0,
       "model_id": "fc73b698f5284a7486a500c89a83a979"
      }
     },
     "metadata": {},
     "output_type": "display_data"
    },
    {
     "name": "stdout",
     "output_type": "stream",
     "text": [
      "2021-11-11 21:32:15 | INFO | hw5.seq2seq | example source: actually , these are really resilient ecosystems .\n",
      "2021-11-11 21:32:15 | INFO | hw5.seq2seq | example hypothesis: 事實上 , 這些是生態系統的生態系統 。\n",
      "2021-11-11 21:32:15 | INFO | hw5.seq2seq | example reference: 事實上 , 這些生態系統極具韌性 。\n",
      "2021-11-11 21:32:15 | INFO | hw5.seq2seq | validation loss:\t3.7470\n",
      "2021-11-11 21:32:15 | INFO | hw5.seq2seq | BLEU = 19.85 49.5/25.8/14.4/8.5 (BP = 0.998 ratio = 0.998 hyp_len = 111593 ref_len = 111811)\n",
      "2021-11-11 21:32:15 | INFO | hw5.seq2seq | saved epoch checkpoint: /home/wy/ML_study/chapter5/checkpoints/rnn/checkpoint195.pt\n",
      "2021-11-11 21:32:16 | INFO | hw5.seq2seq | end of epoch 195\n"
     ]
    },
    {
     "data": {
      "text/plain": "HBox(children=(HTML(value='train epoch 196'), FloatProgress(value=0.0, max=791.0), HTML(value='')))",
      "application/vnd.jupyter.widget-view+json": {
       "version_major": 2,
       "version_minor": 0,
       "model_id": "402464d2e4e84d22a954df4cd26eba6f"
      }
     },
     "metadata": {},
     "output_type": "display_data"
    },
    {
     "name": "stdout",
     "output_type": "stream",
     "text": [
      "2021-11-11 21:33:17 | INFO | hw5.seq2seq | training loss: 3.6605\n",
      "2021-11-11 21:33:17 | INFO | hw5.seq2seq | begin validation\n"
     ]
    },
    {
     "data": {
      "text/plain": "HBox(children=(HTML(value='validation'), FloatProgress(value=0.0, max=22.0), HTML(value='')))",
      "application/vnd.jupyter.widget-view+json": {
       "version_major": 2,
       "version_minor": 0,
       "model_id": "669eeac27a4f4b1c8337d925ace815d6"
      }
     },
     "metadata": {},
     "output_type": "display_data"
    },
    {
     "name": "stdout",
     "output_type": "stream",
     "text": [
      "2021-11-11 21:33:33 | INFO | hw5.seq2seq | example source: and mister rogers is there to make a kind of classic debate case , a really bold proposal: an increase in federal funding for public broadcasting .\n",
      "2021-11-11 21:33:33 | INFO | hw5.seq2seq | example hypothesis: 羅傑斯正在進行一個典型的辯論案例 , 一個非常大膽的提議:在公共廣播上 , 公開廣播的增加 。\n",
      "2021-11-11 21:33:33 | INFO | hw5.seq2seq | example reference: 羅傑斯去那裡是要進行一件經典的辯論案 , 一個非常大膽的提議:增加聯邦對於公共廣播提撥的資金 。\n",
      "2021-11-11 21:33:33 | INFO | hw5.seq2seq | validation loss:\t3.7494\n",
      "2021-11-11 21:33:33 | INFO | hw5.seq2seq | BLEU = 19.70 51.0/26.6/14.9/8.7 (BP = 0.962 ratio = 0.963 hyp_len = 107621 ref_len = 111811)\n",
      "2021-11-11 21:33:33 | INFO | hw5.seq2seq | saved epoch checkpoint: /home/wy/ML_study/chapter5/checkpoints/rnn/checkpoint196.pt\n",
      "2021-11-11 21:33:34 | INFO | hw5.seq2seq | end of epoch 196\n"
     ]
    },
    {
     "data": {
      "text/plain": "HBox(children=(HTML(value='train epoch 197'), FloatProgress(value=0.0, max=791.0), HTML(value='')))",
      "application/vnd.jupyter.widget-view+json": {
       "version_major": 2,
       "version_minor": 0,
       "model_id": "494cb07f6bb64348aec1abd5242ceb0d"
      }
     },
     "metadata": {},
     "output_type": "display_data"
    },
    {
     "name": "stdout",
     "output_type": "stream",
     "text": [
      "2021-11-11 21:34:35 | INFO | hw5.seq2seq | training loss: 3.6594\n",
      "2021-11-11 21:34:35 | INFO | hw5.seq2seq | begin validation\n"
     ]
    },
    {
     "data": {
      "text/plain": "HBox(children=(HTML(value='validation'), FloatProgress(value=0.0, max=22.0), HTML(value='')))",
      "application/vnd.jupyter.widget-view+json": {
       "version_major": 2,
       "version_minor": 0,
       "model_id": "d4543d20af1849f09722c3139267b5f3"
      }
     },
     "metadata": {},
     "output_type": "display_data"
    },
    {
     "name": "stdout",
     "output_type": "stream",
     "text": [
      "2021-11-11 21:34:52 | INFO | hw5.seq2seq | example source: so , if we have a pure wave , we can measure its wavelength , and thus its momentum , but it has no position .\n",
      "2021-11-11 21:34:52 | INFO | hw5.seq2seq | example hypothesis: 所以 , 如果我們有一個純的波 , 我們就能測量它的波長 , 它的動作 , 但它沒有位置 。\n",
      "2021-11-11 21:34:52 | INFO | hw5.seq2seq | example reference: 如果我們有一個純粹的波就可以測量它的波長進而算出它的動量但是卻無法測出它的確實位置\n",
      "2021-11-11 21:34:52 | INFO | hw5.seq2seq | validation loss:\t3.7493\n",
      "2021-11-11 21:34:52 | INFO | hw5.seq2seq | BLEU = 19.76 51.0/26.7/15.0/8.8 (BP = 0.960 ratio = 0.961 hyp_len = 107446 ref_len = 111811)\n",
      "2021-11-11 21:34:53 | INFO | hw5.seq2seq | saved epoch checkpoint: /home/wy/ML_study/chapter5/checkpoints/rnn/checkpoint197.pt\n",
      "2021-11-11 21:34:53 | INFO | hw5.seq2seq | end of epoch 197\n"
     ]
    },
    {
     "data": {
      "text/plain": "HBox(children=(HTML(value='train epoch 198'), FloatProgress(value=0.0, max=791.0), HTML(value='')))",
      "application/vnd.jupyter.widget-view+json": {
       "version_major": 2,
       "version_minor": 0,
       "model_id": "4b6409704e044487bb90ce4d27cedc43"
      }
     },
     "metadata": {},
     "output_type": "display_data"
    },
    {
     "name": "stdout",
     "output_type": "stream",
     "text": [
      "2021-11-11 21:35:54 | INFO | hw5.seq2seq | training loss: 3.6580\n",
      "2021-11-11 21:35:54 | INFO | hw5.seq2seq | begin validation\n"
     ]
    },
    {
     "data": {
      "text/plain": "HBox(children=(HTML(value='validation'), FloatProgress(value=0.0, max=22.0), HTML(value='')))",
      "application/vnd.jupyter.widget-view+json": {
       "version_major": 2,
       "version_minor": 0,
       "model_id": "b1a9b4e12dc94856a5ceb7ad59cd0edf"
      }
     },
     "metadata": {},
     "output_type": "display_data"
    },
    {
     "name": "stdout",
     "output_type": "stream",
     "text": [
      "2021-11-11 21:36:10 | INFO | hw5.seq2seq | example source: but it's an unusual building to protect this telescope .\n",
      "2021-11-11 21:36:10 | INFO | hw5.seq2seq | example hypothesis: 但它是個不尋常的建築 , 來保護望遠鏡 。\n",
      "2021-11-11 21:36:10 | INFO | hw5.seq2seq | example reference: 為了保護這座望遠鏡它的設計不同於一般建築 ,\n",
      "2021-11-11 21:36:10 | INFO | hw5.seq2seq | validation loss:\t3.7524\n",
      "2021-11-11 21:36:10 | INFO | hw5.seq2seq | BLEU = 19.49 50.6/26.3/14.7/8.5 (BP = 0.964 ratio = 0.965 hyp_len = 107881 ref_len = 111811)\n",
      "2021-11-11 21:36:10 | INFO | hw5.seq2seq | saved epoch checkpoint: /home/wy/ML_study/chapter5/checkpoints/rnn/checkpoint198.pt\n",
      "2021-11-11 21:36:10 | INFO | hw5.seq2seq | end of epoch 198\n"
     ]
    },
    {
     "data": {
      "text/plain": "HBox(children=(HTML(value='train epoch 199'), FloatProgress(value=0.0, max=791.0), HTML(value='')))",
      "application/vnd.jupyter.widget-view+json": {
       "version_major": 2,
       "version_minor": 0,
       "model_id": "f8f98e86e28b4d2bbe05904e031838c8"
      }
     },
     "metadata": {},
     "output_type": "display_data"
    },
    {
     "name": "stdout",
     "output_type": "stream",
     "text": [
      "2021-11-11 21:37:12 | INFO | hw5.seq2seq | training loss: 3.6593\n",
      "2021-11-11 21:37:12 | INFO | hw5.seq2seq | begin validation\n"
     ]
    },
    {
     "data": {
      "text/plain": "HBox(children=(HTML(value='validation'), FloatProgress(value=0.0, max=22.0), HTML(value='')))",
      "application/vnd.jupyter.widget-view+json": {
       "version_major": 2,
       "version_minor": 0,
       "model_id": "d61b6602a1cb4c94862aaa7fd1f98e6a"
      }
     },
     "metadata": {},
     "output_type": "display_data"
    },
    {
     "name": "stdout",
     "output_type": "stream",
     "text": [
      "2021-11-11 21:37:29 | INFO | hw5.seq2seq | example source: so 95 percent of us will say that it is terribly wrong for our partner to lie about having an affair , but just about the same amount of us will say that that's exactly what we would do if we were having one .\n",
      "2021-11-11 21:37:29 | INFO | hw5.seq2seq | example hypothesis: 所以95%的人會說 , 對於我們的伴侶來說 , 對於我們的伴侶來說 , 真的很糟糕 , 但對我們的伴侶來說 , 其實是對我們的夥伴說謊 , 但對我們的伴侶來說 , 這對我們的夥伴來說 , 其實很糟糕 。\n",
      "2021-11-11 21:37:29 | INFO | hw5.seq2seq | example reference: 所以95%的人會說另一半因外遇說謊是很糟糕的行為但一樣多的人表示當我們外遇時也會這樣做 。\n",
      "2021-11-11 21:37:29 | INFO | hw5.seq2seq | validation loss:\t3.7468\n",
      "2021-11-11 21:37:29 | INFO | hw5.seq2seq | BLEU = 19.55 51.3/26.8/15.0/8.8 (BP = 0.946 ratio = 0.947 hyp_len = 105906 ref_len = 111811)\n",
      "2021-11-11 21:37:29 | INFO | hw5.seq2seq | saved epoch checkpoint: /home/wy/ML_study/chapter5/checkpoints/rnn/checkpoint199.pt\n",
      "2021-11-11 21:37:29 | INFO | hw5.seq2seq | end of epoch 199\n"
     ]
    },
    {
     "data": {
      "text/plain": "HBox(children=(HTML(value='train epoch 200'), FloatProgress(value=0.0, max=791.0), HTML(value='')))",
      "application/vnd.jupyter.widget-view+json": {
       "version_major": 2,
       "version_minor": 0,
       "model_id": "5c08d741785d4f55b3b6d67059d7e39f"
      }
     },
     "metadata": {},
     "output_type": "display_data"
    },
    {
     "name": "stdout",
     "output_type": "stream",
     "text": [
      "2021-11-11 21:38:32 | INFO | hw5.seq2seq | training loss: 3.6568\n",
      "2021-11-11 21:38:32 | INFO | hw5.seq2seq | begin validation\n"
     ]
    },
    {
     "data": {
      "text/plain": "HBox(children=(HTML(value='validation'), FloatProgress(value=0.0, max=22.0), HTML(value='')))",
      "application/vnd.jupyter.widget-view+json": {
       "version_major": 2,
       "version_minor": 0,
       "model_id": "f8c1d45ac791452c83fcb278c9824929"
      }
     },
     "metadata": {},
     "output_type": "display_data"
    },
    {
     "name": "stdout",
     "output_type": "stream",
     "text": [
      "2021-11-11 21:38:48 | INFO | hw5.seq2seq | example source: it's complex , and a lot of the terms are quite technical , so the average person probably doesn't need to know at least a third of it .\n",
      "2021-11-11 21:38:48 | INFO | hw5.seq2seq | example hypothesis: 很複雜 , 很多人都不需要知道至少三分之一 。\n",
      "2021-11-11 21:38:48 | INFO | hw5.seq2seq | example reference: 它很複雜 , 其中有很多專業詞彙 。 對一般人來說 , 有大概三分之一的詞彙都不用認識 。\n",
      "2021-11-11 21:38:48 | INFO | hw5.seq2seq | validation loss:\t3.7479\n",
      "2021-11-11 21:38:48 | INFO | hw5.seq2seq | BLEU = 19.66 50.8/26.5/14.8/8.7 (BP = 0.963 ratio = 0.963 hyp_len = 107705 ref_len = 111811)\n",
      "2021-11-11 21:38:48 | INFO | hw5.seq2seq | saved epoch checkpoint: /home/wy/ML_study/chapter5/checkpoints/rnn/checkpoint200.pt\n",
      "2021-11-11 21:38:48 | INFO | hw5.seq2seq | end of epoch 200\n"
     ]
    }
   ],
   "source": [
    "epoch_itr = load_data_iterator(task, \"train\", config.start_epoch, config.max_tokens, config.num_workers)\n",
    "try_load_checkpoint(model, optimizer, name=config.resume)\n",
    "while epoch_itr.next_epoch_idx <= config.max_epoch:\n",
    "    # train for one epoch\n",
    "    train_one_epoch(epoch_itr, model, task, criterion, optimizer, config.accum_steps)\n",
    "    stats = validate_and_save(model, task, criterion, optimizer, epoch=epoch_itr.epoch)\n",
    "    logger.info(\"end of epoch {}\".format(epoch_itr.epoch))\n",
    "    epoch_itr = load_data_iterator(task, \"train\", epoch_itr.next_epoch_idx, config.max_tokens, config.num_workers)"
   ],
   "metadata": {
    "collapsed": false,
    "pycharm": {
     "name": "#%%\n"
    }
   }
  },
  {
   "cell_type": "code",
   "execution_count": 83,
   "outputs": [
    {
     "name": "stdout",
     "output_type": "stream",
     "text": [
      "2021-11-12 09:20:49 | INFO | hw5.seq2seq | loaded checkpoint checkpoints/rnn/checkpoint_best.pt: step=unknown loss=3.746983766555786 bleu=19.847014159023225\n",
      "2021-11-12 09:20:49 | INFO | hw5.seq2seq | begin validation\n"
     ]
    },
    {
     "data": {
      "text/plain": "HBox(children=(HTML(value='validation'), FloatProgress(value=0.0, max=22.0), HTML(value='')))",
      "application/vnd.jupyter.widget-view+json": {
       "version_major": 2,
       "version_minor": 0,
       "model_id": "1baa83e264754e45944d589c7ac6118c"
      }
     },
     "metadata": {},
     "output_type": "display_data"
    },
    {
     "name": "stdout",
     "output_type": "stream",
     "text": [
      "2021-11-12 09:21:07 | INFO | hw5.seq2seq | example source: it's good for improving people's lives .\n",
      "2021-11-12 09:21:07 | INFO | hw5.seq2seq | example hypothesis: 改善人們的生活是很棒的 。\n",
      "2021-11-12 09:21:07 | INFO | hw5.seq2seq | example reference: 可以促進生活品質\n",
      "2021-11-12 09:21:07 | INFO | hw5.seq2seq | validation loss:\t3.7470\n",
      "2021-11-12 09:21:07 | INFO | hw5.seq2seq | BLEU = 19.85 49.5/25.8/14.4/8.5 (BP = 0.998 ratio = 0.998 hyp_len = 111593 ref_len = 111811)\n"
     ]
    }
   ],
   "source": [
    "# checkpoint_last.pt : latest epoch\n",
    "# checkpoint_best.pt : highest validation bleu\n",
    "# avg_last_5_checkpoint.pt:　the average of last 5 epochs\n",
    "try_load_checkpoint(model, name=\"checkpoint_best.pt\")\n",
    "validate(model, task, criterion, log_to_wandb=False)\n",
    "None"
   ],
   "metadata": {
    "collapsed": false,
    "pycharm": {
     "name": "#%%\n"
    }
   }
  },
  {
   "cell_type": "code",
   "execution_count": 84,
   "outputs": [],
   "source": [
    "def generate_prediction(model, task, split=\"test\", outfile=\"./prediction.txt\"):\n",
    "    task.load_dataset(split=split, epoch=1)\n",
    "    itr = load_data_iterator(task, split, 1, config.max_tokens, config.num_workers).next_epoch_itr(shuffle=False)\n",
    "\n",
    "    idxs = []\n",
    "    hyps = []\n",
    "\n",
    "    model.eval()\n",
    "    progress = tqdm.tqdm(itr, desc=f\"prediction\")\n",
    "    with torch.no_grad():\n",
    "        for i, sample in enumerate(progress):\n",
    "            # validation loss\n",
    "            sample = utils.move_to_cuda(sample, device=device)\n",
    "\n",
    "            # do inference\n",
    "            s, h, r = inference_step(sample, model)\n",
    "\n",
    "            hyps.extend(h)\n",
    "            idxs.extend(list(sample['id']))\n",
    "\n",
    "    # sort based on the order before preprocess\n",
    "    hyps = [x for _,x in sorted(zip(idxs,hyps))]\n",
    "\n",
    "    with open(outfile, \"w\") as f:\n",
    "        for h in hyps:\n",
    "            f.write(h+\"\\n\")"
   ],
   "metadata": {
    "collapsed": false,
    "pycharm": {
     "name": "#%%\n"
    }
   }
  },
  {
   "cell_type": "code",
   "execution_count": 85,
   "outputs": [
    {
     "name": "stdout",
     "output_type": "stream",
     "text": [
      "2021-11-12 09:21:28 | INFO | fairseq.data.data_utils | loaded 4,000 examples from: ./DATA/data-bin/ted2020/test.en-zh.en\n",
      "2021-11-12 09:21:28 | INFO | fairseq.data.data_utils | loaded 4,000 examples from: ./DATA/data-bin/ted2020/test.en-zh.zh\n",
      "2021-11-12 09:21:28 | INFO | fairseq.tasks.translation | ./DATA/data-bin/ted2020 test en-zh 4000 examples\n"
     ]
    },
    {
     "data": {
      "text/plain": "HBox(children=(HTML(value='prediction'), FloatProgress(value=0.0, max=17.0), HTML(value='')))",
      "application/vnd.jupyter.widget-view+json": {
       "version_major": 2,
       "version_minor": 0,
       "model_id": "2f5405f8c7344d2e9eda19e1d242eef1"
      }
     },
     "metadata": {},
     "output_type": "display_data"
    },
    {
     "name": "stdout",
     "output_type": "stream",
     "text": [
      "\n"
     ]
    }
   ],
   "source": [
    "generate_prediction(model, task)"
   ],
   "metadata": {
    "collapsed": false,
    "pycharm": {
     "name": "#%%\n"
    }
   }
  }
 ],
 "metadata": {
  "kernelspec": {
   "display_name": "Python 3",
   "language": "python",
   "name": "python3"
  },
  "language_info": {
   "codemirror_mode": {
    "name": "ipython",
    "version": 2
   },
   "file_extension": ".py",
   "mimetype": "text/x-python",
   "name": "python",
   "nbconvert_exporter": "python",
   "pygments_lexer": "ipython2",
   "version": "2.7.6"
  }
 },
 "nbformat": 4,
 "nbformat_minor": 0
}